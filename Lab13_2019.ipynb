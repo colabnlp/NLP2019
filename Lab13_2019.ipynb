{
  "nbformat": 4,
  "nbformat_minor": 0,
  "metadata": {
    "colab": {
      "name": "Lab13_2019.ipynb",
      "version": "0.3.2",
      "provenance": [],
      "collapsed_sections": [],
      "include_colab_link": true
    },
    "kernelspec": {
      "name": "python3",
      "display_name": "Python 3"
    },
    "accelerator": "GPU"
  },
  "cells": [
    {
      "cell_type": "markdown",
      "metadata": {
        "id": "view-in-github",
        "colab_type": "text"
      },
      "source": [
        "<a href=\"https://colab.research.google.com/github/akaver/NLP2019/blob/master/Lab13_2019.ipynb\" target=\"_parent\"><img src=\"https://colab.research.google.com/assets/colab-badge.svg\" alt=\"Open In Colab\"/></a>"
      ]
    },
    {
      "cell_type": "markdown",
      "metadata": {
        "id": "BVu4xtAEFShl",
        "colab_type": "text"
      },
      "source": [
        "# Speech Activity Detection\n",
        "\n",
        "In this lab, we will train a model to perform speech activity detection (SAD), also known as voice activity detection (VAD). The task is to find segments from an audio file where somebody is speaking. It is quite simple for clean audio but could be more complicated if there is a lot of background noise. A SAD module is often used in a larger speech recognition system to avoid feeding data without any speech to the decoder. It is therefore actually a very important submodule and important to get right.\n",
        "\n",
        "The SAD model is actually quite similar to a DNN acoustic model used in speech recognition systems. The difference is in the number of outpuit classes: SAD has only two output classes (speech and non-speech), whereas a speech recognition acoustic model has typically thousands of output classes, corresponding to tied phone states. But the architectures that work well are similar for both tasks.\n",
        "\n",
        "We will use a small training dataset with Korean speech in our experiments.\n",
        "\n",
        "First, we download and unpack the data:"
      ]
    },
    {
      "cell_type": "code",
      "metadata": {
        "id": "DgHXuqeMGFII",
        "colab_type": "code",
        "outputId": "bc704ec2-9832-4dde-8ecb-825617fdbffd",
        "colab": {
          "base_uri": "https://localhost:8080/",
          "height": 215
        }
      },
      "source": [
        "! rm -f sad_data.zip\n",
        "! wget https://phon.ioc.ee/~tanela/sad_data.zip"
      ],
      "execution_count": 0,
      "outputs": [
        {
          "output_type": "stream",
          "text": [
            "--2019-04-23 09:38:21--  https://phon.ioc.ee/~tanela/sad_data.zip\n",
            "Resolving phon.ioc.ee (phon.ioc.ee)... 193.40.251.126\n",
            "Connecting to phon.ioc.ee (phon.ioc.ee)|193.40.251.126|:443... connected.\n",
            "HTTP request sent, awaiting response... 200 OK\n",
            "Length: 191045624 (182M) [application/zip]\n",
            "Saving to: ‘sad_data.zip’\n",
            "\n",
            "sad_data.zip        100%[===================>] 182.19M  20.0MB/s    in 30s     \n",
            "\n",
            "2019-04-23 09:38:52 (6.07 MB/s) - ‘sad_data.zip’ saved [191045624/191045624]\n",
            "\n"
          ],
          "name": "stdout"
        }
      ]
    },
    {
      "cell_type": "code",
      "metadata": {
        "id": "6cU0mKnNG6eA",
        "colab_type": "code",
        "outputId": "24dd3bce-1605-4144-9922-8eafaa58e04f",
        "colab": {
          "base_uri": "https://localhost:8080/",
          "height": 251
        }
      },
      "source": [
        "! unzip -o sad_data.zip"
      ],
      "execution_count": 0,
      "outputs": [
        {
          "output_type": "stream",
          "text": [
            "Archive:  sad_data.zip\n",
            "   creating: dev_wav/\n",
            "  inflating: dev_wav/room.wav        \n",
            "  inflating: dev_wav/construction_site.wav  \n",
            "  inflating: dev_wav/bus_stop.wav    \n",
            "  inflating: dev_wav/park.wav        \n",
            "  inflating: label.dev.txt           \n",
            "  inflating: label.train.txt         \n",
            "   creating: train_wav/\n",
            "  inflating: train_wav/room.wav      \n",
            "  inflating: train_wav/construction_site.wav  \n",
            "  inflating: train_wav/bus_stop.wav  \n",
            "  inflating: train_wav/park.wav      \n"
          ],
          "name": "stdout"
        }
      ]
    },
    {
      "cell_type": "markdown",
      "metadata": {
        "id": "gg5xNiG_HLmB",
        "colab_type": "text"
      },
      "source": [
        "The dataset contains speech and non-speech from 4 acoustic conditions: room, construction site, bus stop and park. I divided the data into training and dev data. The dev data contains 120 seconds from the end of each recording.\n",
        "\n",
        "Let's explore the data."
      ]
    },
    {
      "cell_type": "code",
      "metadata": {
        "id": "H4HAhEqmHIDx",
        "colab_type": "code",
        "colab": {}
      },
      "source": [
        "import scipy.io.wavfile as wavfile\n",
        "import numpy as np"
      ],
      "execution_count": 0,
      "outputs": []
    },
    {
      "cell_type": "code",
      "metadata": {
        "id": "Ht_CxZYwHfRC",
        "colab_type": "code",
        "colab": {}
      },
      "source": [
        "(rate, audio) = wavfile.read(\"dev_wav/room.wav\")"
      ],
      "execution_count": 0,
      "outputs": []
    },
    {
      "cell_type": "code",
      "metadata": {
        "id": "TtLxzqX4HkQd",
        "colab_type": "code",
        "colab": {}
      },
      "source": [
        "import matplotlib.pyplot as plt\n",
        "from matplotlib import cm\n",
        "%matplotlib inline"
      ],
      "execution_count": 0,
      "outputs": []
    },
    {
      "cell_type": "code",
      "metadata": {
        "id": "UIMWlyFgISjr",
        "colab_type": "code",
        "colab": {}
      },
      "source": [
        "labels = {}\n",
        "for l in open(\"label.dev.txt\"):\n",
        "  spl = l.split()\n",
        "  labels[spl[0]] = np.array([int(i) for i in spl[1:]])"
      ],
      "execution_count": 0,
      "outputs": []
    },
    {
      "cell_type": "markdown",
      "metadata": {
        "id": "L71lQns2Ia9e",
        "colab_type": "text"
      },
      "source": [
        "The label files give the reference classes for the speech data, using 100 frames per second. 0 corresponds to non-speech and 1 to speech."
      ]
    },
    {
      "cell_type": "code",
      "metadata": {
        "id": "kyaOE-QjIVZQ",
        "colab_type": "code",
        "outputId": "08ca3a1f-9194-44bd-c3b5-eb0c2cef49d6",
        "colab": {
          "base_uri": "https://localhost:8080/",
          "height": 35
        }
      },
      "source": [
        "print(labels)"
      ],
      "execution_count": 0,
      "outputs": [
        {
          "output_type": "stream",
          "text": [
            "{'room': array([0, 0, 0, ..., 0, 0, 0]), 'construction_site': array([0, 0, 0, ..., 0, 0, 0]), 'bus_stop': array([1, 1, 1, ..., 1, 1, 1]), 'park': array([1, 1, 1, ..., 0, 0, 0])}\n"
          ],
          "name": "stdout"
        }
      ]
    },
    {
      "cell_type": "markdown",
      "metadata": {
        "id": "O0XGSjjZI-hF",
        "colab_type": "text"
      },
      "source": [
        "Let's plot the audio and the SAD annotations:"
      ]
    },
    {
      "cell_type": "code",
      "metadata": {
        "id": "V2T6JoTTIXsn",
        "colab_type": "code",
        "outputId": "67b0e7d5-89a0-407b-8bad-02149e3084cd",
        "colab": {
          "base_uri": "https://localhost:8080/",
          "height": 350
        }
      },
      "source": [
        "plt.figure(figsize=(20, 5))\n",
        "plt.title('Wave form')\n",
        "plt.ylabel('Amplitude')\n",
        "plt.xlabel('Time (samples)')\n",
        "plt.plot(audio/np.max(np.abs(audio),axis=0))\n",
        "# the audio sample rate is 16000 but the label frequency is 100Hz. So we\n",
        "# need to repeat each label 160 times so that it's in sync with the audio\n",
        "_ = plt.plot(np.repeat(labels[\"room\"], 160))"
      ],
      "execution_count": 0,
      "outputs": [
        {
          "output_type": "display_data",
          "data": {
            "image/png": "[encoded data removed]",
            "text/plain": [
              "<Figure size 1440x360 with 1 Axes>"
            ]
          },
          "metadata": {
            "tags": []
          }
        }
      ]
    },
    {
      "cell_type": "markdown",
      "metadata": {
        "id": "B44OvROSKBCj",
        "colab_type": "text"
      },
      "source": [
        "Let's try to do the same using extracted features."
      ]
    },
    {
      "cell_type": "code",
      "metadata": {
        "id": "yZuKE5-cIy1S",
        "colab_type": "code",
        "outputId": "875a8402-45a2-41d4-d03e-57ec04e4ecd1",
        "colab": {
          "base_uri": "https://localhost:8080/",
          "height": 35
        }
      },
      "source": [
        "! pip install python_speech_features"
      ],
      "execution_count": 0,
      "outputs": [
        {
          "output_type": "stream",
          "text": [
            "Requirement already satisfied: python_speech_features in /usr/local/lib/python3.6/dist-packages (0.6)\n"
          ],
          "name": "stdout"
        }
      ]
    },
    {
      "cell_type": "code",
      "metadata": {
        "id": "QMJAOG6zJhnx",
        "colab_type": "code",
        "colab": {}
      },
      "source": [
        "from python_speech_features import logfbank, mfcc"
      ],
      "execution_count": 0,
      "outputs": []
    },
    {
      "cell_type": "code",
      "metadata": {
        "id": "h4HvmixxJjw9",
        "colab_type": "code",
        "colab": {}
      },
      "source": [
        "fbank_feat = logfbank(audio, 16000)"
      ],
      "execution_count": 0,
      "outputs": []
    },
    {
      "cell_type": "markdown",
      "metadata": {
        "id": "hPc2CIgcLEia",
        "colab_type": "text"
      },
      "source": [
        "We will display 10 seconds of the dev room data, using filterbank features, together with the labels."
      ]
    },
    {
      "cell_type": "code",
      "metadata": {
        "id": "8DFUGKaJJmMX",
        "colab_type": "code",
        "outputId": "516002d2-5921-44b5-94c7-c50af686467b",
        "colab": {
          "base_uri": "https://localhost:8080/",
          "height": 504
        }
      },
      "source": [
        "f, axarr = plt.subplots(2, sharex=True, figsize=(20, 8))\n",
        "axarr[0].imshow(fbank_feat[0:1000].T, origin=\"lower\", aspect='auto', cmap=cm.winter)\n",
        "axarr[1].plot(labels[\"room\"][0:1000])"
      ],
      "execution_count": 0,
      "outputs": [
        {
          "output_type": "execute_result",
          "data": {
            "text/plain": [
              "[<matplotlib.lines.Line2D at 0x7fcf38fbb978>]"
            ]
          },
          "metadata": {
            "tags": []
          },
          "execution_count": 12
        },
        {
          "output_type": "display_data",
          "data": {
            "image/png": "[encoded data removed]",
            "text/plain": [
              "<Figure size 1440x576 with 2 Axes>"
            ]
          },
          "metadata": {
            "tags": []
          }
        }
      ]
    },
    {
      "cell_type": "markdown",
      "metadata": {
        "id": "NPIpJDplWxfk",
        "colab_type": "text"
      },
      "source": [
        "We will now implement methods to read all training and dev data."
      ]
    },
    {
      "cell_type": "code",
      "metadata": {
        "id": "KO8SrMQIWpWL",
        "colab_type": "code",
        "colab": {}
      },
      "source": [
        "def read_data(label_file, wav_dir):\n",
        "  \"\"\"Read label file and the corresponding audio files.\n",
        "  \"\"\"\n",
        "  labels = {}\n",
        "  features = {}\n",
        "  for l in open(label_file):\n",
        "    spl = l.split()\n",
        "    wav_id = spl[0]\n",
        "    # we discard the last label, as the filterbank features are always shorter\n",
        "    # by one element than the labels (due to the overlapping windows)\n",
        "    labels[wav_id] = np.array([int(i) for i in spl[1:-1]])\n",
        "    (rate, audio) = wavfile.read(\"%s/%s.wav\" % (wav_dir, wav_id))\n",
        "    feat = logfbank(audio, 16000)\n",
        "    features[wav_id] = feat\n",
        "  return labels, features    "
      ],
      "execution_count": 0,
      "outputs": []
    },
    {
      "cell_type": "code",
      "metadata": {
        "id": "9n7o1qftJs2c",
        "colab_type": "code",
        "colab": {}
      },
      "source": [
        "train_labels, train_features = read_data(\"label.train.txt\", \"train_wav\")\n",
        "dev_labels, dev_features = read_data(\"label.dev.txt\", \"dev_wav\")"
      ],
      "execution_count": 0,
      "outputs": []
    },
    {
      "cell_type": "code",
      "metadata": {
        "id": "zQMgyO0qXd4b",
        "colab_type": "code",
        "outputId": "0b5ee7ca-2a2b-4a50-88fc-ccb044da1877",
        "colab": {
          "base_uri": "https://localhost:8080/",
          "height": 35
        }
      },
      "source": [
        "print(train_labels[\"bus_stop\"].shape, train_features[\"bus_stop\"].shape)"
      ],
      "execution_count": 0,
      "outputs": [
        {
          "output_type": "stream",
          "text": [
            "(168149,) (168149, 26)\n"
          ],
          "name": "stdout"
        }
      ]
    },
    {
      "cell_type": "markdown",
      "metadata": {
        "id": "5AJEF6YOXmy5",
        "colab_type": "text"
      },
      "source": [
        "Now, we have to convert the data to a form that is suitable for neural network training."
      ]
    },
    {
      "cell_type": "code",
      "metadata": {
        "id": "jIv6njHWXu9V",
        "colab_type": "code",
        "outputId": "34980cff-bcd2-4097-ed01-4c9669401245",
        "colab": {
          "base_uri": "https://localhost:8080/",
          "height": 35
        }
      },
      "source": [
        "import torch\n",
        "from torch.utils.data import Dataset, DataLoader\n",
        "import torch.nn as nn\n",
        "import torch.nn.functional as F\n",
        "import sys\n",
        "\n",
        "device = torch.device(\"cuda\" if torch.cuda.is_available() else \"cpu\")\n",
        "print(device)"
      ],
      "execution_count": 0,
      "outputs": [
        {
          "output_type": "stream",
          "text": [
            "cuda\n"
          ],
          "name": "stdout"
        }
      ]
    },
    {
      "cell_type": "code",
      "metadata": {
        "id": "ykfIi7pOX65_",
        "colab_type": "code",
        "colab": {}
      },
      "source": [
        "class SadDataset(Dataset):\n",
        "  \"\"\"The dataset splits the labels and the audio data of a multiple long audio \n",
        "  files into shorter segments. For example, into sequences of 50 labels. Extra audio\n",
        "  data from the left and right is also included, in order to use this as context\n",
        "  in DNN training.  \n",
        "  \"\"\"\n",
        "  \n",
        "  def __init__(self, labels, features, seq_len, left_context, right_context):\n",
        "    self.seq_len = seq_len\n",
        "    self.left_context = left_context\n",
        "    self.right_context = right_context\n",
        "    self.data = []\n",
        "    for wav_id in labels.keys():\n",
        "      cur_labels = torch.LongTensor(labels[wav_id])\n",
        "      cur_features = torch.FloatTensor(features[wav_id])\n",
        "      p2d = (0, 0, left_context, right_context) # pad last dim by (0, 0) and 2nd to last by (left_context, right_context)\n",
        "      cur_features = F.pad(cur_features, p2d, 'constant', 0)\n",
        "      for i in range(len(cur_labels) // seq_len):\n",
        "        cur_split_labels = cur_labels[i*seq_len : (i+1)*seq_len]\n",
        "        cur_split_features = cur_features[i*seq_len : (i+1)*seq_len + left_context + right_context]\n",
        "        self.data.append((cur_split_features, cur_split_labels))\n",
        "\n",
        "  def __len__(self):\n",
        "    return len(self.data)\n",
        "\n",
        "  def __getitem__(self, idx):\n",
        "    return self.data[idx]        "
      ],
      "execution_count": 0,
      "outputs": []
    },
    {
      "cell_type": "code",
      "metadata": {
        "id": "5vlvIO_sYu2O",
        "colab_type": "code",
        "colab": {}
      },
      "source": [
        "train_dataset =  SadDataset(train_labels, train_features, 30, 50, 50)\n",
        "dev_dataset = SadDataset(dev_labels, dev_features, 30, 50, 50)"
      ],
      "execution_count": 0,
      "outputs": []
    },
    {
      "cell_type": "markdown",
      "metadata": {
        "id": "TV55PkboYyh_",
        "colab_type": "text"
      },
      "source": [
        "Let's take a closer look what each element in the resulting dataset corresponds to."
      ]
    },
    {
      "cell_type": "code",
      "metadata": {
        "id": "34KUt6zjYxEB",
        "colab_type": "code",
        "outputId": "b974fc89-bd19-40f7-bc2b-77ec3244fe60",
        "colab": {
          "base_uri": "https://localhost:8080/",
          "height": 161
        }
      },
      "source": [
        "print(dev_dataset[14])"
      ],
      "execution_count": 0,
      "outputs": [
        {
          "output_type": "stream",
          "text": [
            "(tensor([[ 6.4667,  5.5913,  5.4580,  ...,  6.3705,  6.4640,  5.7691],\n",
            "        [ 6.4022,  5.7013,  5.3449,  ...,  6.0591,  5.9789,  5.8625],\n",
            "        [ 5.8597,  5.5419,  5.7831,  ...,  6.2272,  6.1521,  6.1050],\n",
            "        ...,\n",
            "        [ 9.8011, 12.6153, 13.4427,  ...,  6.4138,  7.2086,  6.8966],\n",
            "        [ 8.5197, 12.6268, 13.6296,  ...,  6.7171,  7.1593,  6.6635],\n",
            "        [ 8.7187, 12.5409, 13.7171,  ...,  6.8577,  7.0671,  6.8043]]), tensor([0, 0, 0, 0, 0, 0, 0, 0, 0, 0, 0, 0, 0, 0, 0, 0, 0, 1, 1, 1, 1, 1, 1, 1,\n",
            "        1, 1, 1, 1, 1, 1]))\n"
          ],
          "name": "stdout"
        }
      ]
    },
    {
      "cell_type": "markdown",
      "metadata": {
        "id": "qm_3OnU2Y9IG",
        "colab_type": "text"
      },
      "source": [
        "Each element in the dataset is a tuple (features, labels). Note that the features are \"wider\", because we used extra left context and right context for them."
      ]
    },
    {
      "cell_type": "code",
      "metadata": {
        "id": "WhFqR_37Y5ix",
        "colab_type": "code",
        "outputId": "a1247a8a-84df-480a-eabc-8f773fc698fb",
        "colab": {
          "base_uri": "https://localhost:8080/",
          "height": 35
        }
      },
      "source": [
        "print(dev_dataset[14][0].shape, dev_dataset[14][1].shape)"
      ],
      "execution_count": 0,
      "outputs": [
        {
          "output_type": "stream",
          "text": [
            "torch.Size([130, 26]) torch.Size([30])\n"
          ],
          "name": "stdout"
        }
      ]
    },
    {
      "cell_type": "code",
      "metadata": {
        "id": "r2cyMzyRZHqA",
        "colab_type": "code",
        "outputId": "bc9095df-b002-4637-b409-68352272f7a1",
        "colab": {
          "base_uri": "https://localhost:8080/",
          "height": 504
        }
      },
      "source": [
        "f, axarr = plt.subplots(2, sharex=True, figsize=(20, 8))\n",
        "axarr[0].imshow(dev_dataset[14][0].transpose(0,1), origin=\"lower\", aspect='auto', cmap=cm.winter)\n",
        "axarr[1].plot(range(50, 80), dev_dataset[14][1].numpy())"
      ],
      "execution_count": 0,
      "outputs": [
        {
          "output_type": "execute_result",
          "data": {
            "text/plain": [
              "[<matplotlib.lines.Line2D at 0x7fcef32750f0>]"
            ]
          },
          "metadata": {
            "tags": []
          },
          "execution_count": 21
        },
        {
          "output_type": "display_data",
          "data": {
            "image/png": "[encoded data removed]",
            "text/plain": [
              "<Figure size 1440x576 with 2 Axes>"
            ]
          },
          "metadata": {
            "tags": []
          }
        }
      ]
    },
    {
      "cell_type": "markdown",
      "metadata": {
        "id": "QNDuaKEzbSSx",
        "colab_type": "text"
      },
      "source": [
        "Now it's easy to wrap the datasets into Pytorch data iterator that creates batches from the data."
      ]
    },
    {
      "cell_type": "code",
      "metadata": {
        "id": "UeEYXpvCZcEx",
        "colab_type": "code",
        "colab": {}
      },
      "source": [
        "train_iter = DataLoader(train_dataset, batch_size=32,  shuffle=True)\n",
        "dev_iter = DataLoader(dev_dataset, batch_size=32,  shuffle=False)"
      ],
      "execution_count": 0,
      "outputs": []
    },
    {
      "cell_type": "markdown",
      "metadata": {
        "id": "p1bsLIgMbdhQ",
        "colab_type": "text"
      },
      "source": [
        "Now we can start building our model. The model that we start with is a basic CNN model."
      ]
    },
    {
      "cell_type": "code",
      "metadata": {
        "id": "j4JrxGqEbaYT",
        "colab_type": "code",
        "colab": {}
      },
      "source": [
        "class SadCnn(nn.Module):\n",
        "  \n",
        "  def __init__(self, feature_dim, dropout_prob=0.2):\n",
        "    super(SadCnn, self).__init__()\n",
        "    self.input_bn = nn.BatchNorm1d(feature_dim)\n",
        "    self.conv1 = nn.Conv1d(feature_dim, 32, kernel_size=5, stride=1)\n",
        "    self.conv2 = nn.Conv1d(32, 64, kernel_size=5, stride=1)\n",
        "    self.conv3 = nn.Conv1d(64, 64, kernel_size=3, stride=1)\n",
        "    self.conv4 = nn.Conv1d(64, 64, kernel_size=3, stride=1)\n",
        "    \n",
        "    self.fc = nn.Linear(64, 2)\n",
        "    \n",
        "  def forward(self, x, seq_length, left_context, right_context):\n",
        "    # Conv1d takes in (batch, channels, seq_len), but raw signal is (batch, seq_len, channels)\n",
        "    x = x.permute(0, 2, 1).contiguous()\n",
        "    x = self.input_bn(x)\n",
        "    #print(x.shape)\n",
        "    x = F.relu(self.conv1(x))\n",
        "    #print(x.shape)\n",
        "    x = F.relu(self.conv2(x))\n",
        "    #print(x.shape)\n",
        "    x = F.relu(self.conv3(x))    \n",
        "    #print(x.shape)    \n",
        "    x = F.relu(self.conv4(x))\n",
        "    #print(x.shape)\n",
        "    # => (batch, channels, seq_len) => (batch, seq_len, channels)\n",
        "    x = x.permute(0, 2, 1).contiguous()\n",
        "    #print(x.shape)\n",
        "    \n",
        "    logit = self.fc(x)    \n",
        "    # Take logits from the middle and ignore the left context and right context, because\n",
        "    # we calculate the loss only using the midle part.\n",
        "    # Basically we only take the middle part (of length seq_length) of the resulting logit sequence\n",
        "    # and ignore the rest (which is now probably a bit smaller than the original left and right\n",
        "    # context, because the Conv layers work a bit like a pyramid, if we don't explicitly\n",
        "    # ask them to use padding and edges).\n",
        "    # This only works if left_context == right_context and if the Conv layers are symmetrical\n",
        "    logit_seq_len = logit.shape[1]\n",
        "    assert logit_seq_len > seq_length\n",
        "    ignore_context = (logit_seq_len - seq_length)//2\n",
        "    logit = logit[:, ignore_context:-ignore_context, : ]\n",
        "    return logit"
      ],
      "execution_count": 0,
      "outputs": []
    },
    {
      "cell_type": "markdown",
      "metadata": {
        "id": "CcgrGxNOcip3",
        "colab_type": "text"
      },
      "source": [
        "Let's create the model on appropriate device and test if it works. IF the forward method causes\n",
        "dimension mismatches, try to debug the model by putting print statements after each layer (outcommented above)."
      ]
    },
    {
      "cell_type": "code",
      "metadata": {
        "id": "S7Sz4iYTce9k",
        "colab_type": "code",
        "colab": {}
      },
      "source": [
        "model = SadCnn(train_dataset[0][0].shape[1]).to(device)"
      ],
      "execution_count": 0,
      "outputs": []
    },
    {
      "cell_type": "code",
      "metadata": {
        "id": "2fyGOKpwczVV",
        "colab_type": "code",
        "outputId": "77f5b422-9bc9-4431-f186-f048ef7c6bbd",
        "colab": {
          "base_uri": "https://localhost:8080/",
          "height": 35
        }
      },
      "source": [
        "model.forward(next(iter(dev_iter))[0].to(device), dev_iter.dataset.seq_len, dev_iter.dataset.left_context, dev_iter.dataset.right_context).shape"
      ],
      "execution_count": 0,
      "outputs": [
        {
          "output_type": "execute_result",
          "data": {
            "text/plain": [
              "torch.Size([32, 30, 2])"
            ]
          },
          "metadata": {
            "tags": []
          },
          "execution_count": 26
        }
      ]
    },
    {
      "cell_type": "markdown",
      "metadata": {
        "id": "W4yrZypvc5K2",
        "colab_type": "text"
      },
      "source": [
        "We can see from the above that at least the dimensionality of the returned logits is correct: batch size is 32, our sequence length is 30, and there are logits for the two output classes.\n",
        "\n",
        "Next, the train and evaluation methods. They are a bit different from the last week, since now we have to deal with sequences of labels."
      ]
    },
    {
      "cell_type": "code",
      "metadata": {
        "id": "or0YwmoJc2HF",
        "colab_type": "code",
        "colab": {}
      },
      "source": [
        "def train(model, num_epochs, train_iter, dev_iter, device, log_interval=10):\n",
        "\n",
        "  optimizer = torch.optim.Adam(model.parameters())\n",
        "\n",
        "  best_acc = 0\n",
        "  last_step = 0\n",
        "  \n",
        "  for epoch in range(1, num_epochs+1):\n",
        "    print(\"Epoch %d\" % epoch)\n",
        "    for batch in train_iter:\n",
        "      # set training mode\n",
        "      model.train()\n",
        "      fbank, targets = batch\n",
        "      fbank, targets = fbank.to(device), targets.to(device)\n",
        "\n",
        "      optimizer.zero_grad()\n",
        "      logits = model(fbank, train_iter.dataset.seq_len, train_iter.dataset.left_context, train_iter.dataset.right_context)\n",
        "      \n",
        "      # \"flatten\" all logits and targets by putting all subsequences together\n",
        "      flattened_logits = logits.contiguous().view(targets.shape[0] * targets.shape[1], -1)\n",
        "      flattened_targets = targets.contiguous().view(-1)\n",
        "      \n",
        "      loss = F.cross_entropy(flattened_logits, flattened_targets)\n",
        "      loss.backward()\n",
        "      optimizer.step()\n",
        "\n",
        "      \n",
        "    \n",
        "    train_acc = evaluate(\"train\", train_iter, model)                \n",
        "    dev_acc = evaluate(\"dev\", dev_iter, model)                \n",
        "\n",
        "def evaluate(name, data_iter, model):\n",
        "  # set evaluation mode (turns off dropout)\n",
        "  model.eval()\n",
        "  corrects, avg_loss = 0, 0\n",
        "  for batch in data_iter:\n",
        "    fbank, targets = batch\n",
        "    fbank, targets = fbank.to(device), targets.to(device)\n",
        "    \n",
        "    logits = model(fbank, data_iter.dataset.seq_len, data_iter.dataset.left_context, data_iter.dataset.right_context)\n",
        "\n",
        "    flattened_logits = logits.contiguous().view(targets.shape[0] * targets.shape[1], -1)\n",
        "    flattened_targets = targets.contiguous().view(-1)\n",
        "\n",
        "    loss = F.cross_entropy(flattened_logits, flattened_targets)\n",
        "\n",
        "    avg_loss += loss.item()\n",
        "    corrects += (torch.max(flattened_logits, 1)[1].view(flattened_targets.size()).data == flattened_targets.data).sum()\n",
        "    \n",
        "\n",
        "  size = len(data_iter)\n",
        "  total_samples = len(data_iter.dataset) * data_iter.dataset.seq_len\n",
        "  avg_loss /= size\n",
        "  accuracy = 100.0 * corrects.float()/total_samples\n",
        "  \n",
        "  print('Evaluation on {} - loss: {:.6f}  acc: {:.2f}%({}/{})'.format(name,\n",
        "                                                                     avg_loss, \n",
        "                                                                     accuracy, \n",
        "                                                                     corrects, \n",
        "                                                                     total_samples))\n",
        "  return accuracy                "
      ],
      "execution_count": 0,
      "outputs": []
    },
    {
      "cell_type": "code",
      "metadata": {
        "id": "ljm3s8vndgUv",
        "colab_type": "code",
        "outputId": "9299f1d2-08aa-40f8-d528-f1af41b5a842",
        "colab": {
          "base_uri": "https://localhost:8080/",
          "height": 287
        }
      },
      "source": [
        "model = SadCnn(train_dataset[0][0].shape[1]).to(device)\n",
        "train(model, 5, train_iter, dev_iter, device=device)"
      ],
      "execution_count": 0,
      "outputs": [
        {
          "output_type": "stream",
          "text": [
            "Epoch 1\n",
            "Evaluation on train - loss: 0.144849  acc: 95.20%(640586/672900)\n",
            "Evaluation on dev - loss: 0.276198  acc: 90.34%(43256/47880)\n",
            "Epoch 2\n",
            "Evaluation on train - loss: 0.127132  acc: 95.92%(645451/672900)\n",
            "Evaluation on dev - loss: 0.269193  acc: 90.77%(43460/47880)\n",
            "Epoch 3\n",
            "Evaluation on train - loss: 0.118265  acc: 96.22%(647469/672900)\n",
            "Evaluation on dev - loss: 0.334074  acc: 89.69%(42943/47880)\n",
            "Epoch 4\n",
            "Evaluation on train - loss: 0.124979  acc: 95.88%(645197/672900)\n",
            "Evaluation on dev - loss: 0.422590  acc: 86.01%(41181/47880)\n",
            "Epoch 5\n",
            "Evaluation on train - loss: 0.110077  acc: 96.51%(649446/672900)\n",
            "Evaluation on dev - loss: 0.258145  acc: 91.56%(43838/47880)\n"
          ],
          "name": "stdout"
        }
      ]
    },
    {
      "cell_type": "markdown",
      "metadata": {
        "id": "yCPDV6iHdrNc",
        "colab_type": "text"
      },
      "source": [
        "The resulting accuracy on dev data is a bit over 90% (you might have slightly different results).\n",
        "\n",
        "\n",
        "Note that if your model is very deep (many layers), then it might be easier to use the Pytorch nn.Sequential class to stack the layers into one list.\n",
        "\n",
        "The following is equivalent to the model above:"
      ]
    },
    {
      "cell_type": "code",
      "metadata": {
        "id": "8_32BgWNdinb",
        "colab_type": "code",
        "colab": {}
      },
      "source": [
        "class SadCnn2(nn.Module):\n",
        "  \n",
        "  def __init__(self, feature_dim, dropout_prob=0.2):\n",
        "    super(SadCnn2, self).__init__()\n",
        "    self.conv_block = nn.Sequential(\n",
        "      nn.BatchNorm1d(feature_dim),\n",
        "      nn.Conv1d(feature_dim, 32, kernel_size=5, stride=1),\n",
        "      nn.ReLU(inplace=True),\n",
        "      nn.Conv1d(32, 64, kernel_size=5, stride=1),\n",
        "      nn.ReLU(inplace=True),\n",
        "      nn.Conv1d(64, 64, kernel_size=3, stride=1),\n",
        "      nn.ReLU(inplace=True),\n",
        "      nn.Conv1d(64, 64, kernel_size=3, stride=1),\n",
        "      nn.ReLU(inplace=True)\n",
        "    )\n",
        "    \n",
        "    self.fc = nn.Linear(64, 2)\n",
        "    \n",
        "  def forward(self, x, seq_length, left_context, right_context):\n",
        "    # Conv1d takes in (batch, channels, seq_len), but raw signal is (batch, seq_len, channels)\n",
        "    x = x.permute(0, 2, 1).contiguous()\n",
        "    \n",
        "    x = self.conv_block(x)\n",
        "    \n",
        "    #print(x.shape)\n",
        "    # => (batch, channels, seq_len) => (batch, seq_len, channels)\n",
        "    x = x.permute(0, 2, 1).contiguous()\n",
        "    #print(x.shape)\n",
        "    \n",
        "    logit = self.fc(x)    \n",
        "    logit_seq_len = logit.shape[1]\n",
        "    assert logit_seq_len > seq_length\n",
        "    ignore_context = (logit_seq_len - seq_length)//2\n",
        "    logit = logit[:, ignore_context:-ignore_context, : ]\n",
        "    return logit"
      ],
      "execution_count": 0,
      "outputs": []
    },
    {
      "cell_type": "code",
      "metadata": {
        "id": "TP0NkHLje1nj",
        "colab_type": "code",
        "colab": {}
      },
      "source": [
        "model2 = SadCnn2(train_dataset[0][0].shape[1]).to(device)"
      ],
      "execution_count": 0,
      "outputs": []
    },
    {
      "cell_type": "code",
      "metadata": {
        "id": "5-JeGdh4e5rn",
        "colab_type": "code",
        "outputId": "d0898e35-ca92-4dd4-a086-e0f1ba79ec82",
        "colab": {
          "base_uri": "https://localhost:8080/",
          "height": 287
        }
      },
      "source": [
        "train(model2, 5, train_iter, dev_iter, device=device)"
      ],
      "execution_count": 0,
      "outputs": [
        {
          "output_type": "stream",
          "text": [
            "Epoch 1\n",
            "Evaluation on train - loss: 0.161143  acc: 95.21%(640669/672900)\n",
            "Evaluation on dev - loss: 0.285466  acc: 89.30%(42755/47880)\n",
            "Epoch 2\n",
            "Evaluation on train - loss: 0.120139  acc: 96.27%(647829/672900)\n",
            "Evaluation on dev - loss: 0.258934  acc: 90.85%(43497/47880)\n",
            "Epoch 3\n",
            "Evaluation on train - loss: 0.112543  acc: 96.44%(648940/672900)\n",
            "Evaluation on dev - loss: 0.284687  acc: 90.47%(43317/47880)\n",
            "Epoch 4\n",
            "Evaluation on train - loss: 0.114241  acc: 96.31%(648065/672900)\n",
            "Evaluation on dev - loss: 0.361686  acc: 88.95%(42587/47880)\n",
            "Epoch 5\n",
            "Evaluation on train - loss: 0.105922  acc: 96.66%(650440/672900)\n",
            "Evaluation on dev - loss: 0.251783  acc: 91.14%(43640/47880)\n"
          ],
          "name": "stdout"
        }
      ]
    },
    {
      "cell_type": "markdown",
      "metadata": {
        "id": "zESXXNqJd9Nd",
        "colab_type": "text"
      },
      "source": [
        "Example of a recurrent model for the same task:"
      ]
    },
    {
      "cell_type": "code",
      "metadata": {
        "id": "3ZL5IC5EiZUc",
        "colab_type": "code",
        "colab": {}
      },
      "source": [
        "class SadRnn(nn.Module):\n",
        "  \n",
        "  def __init__(self, feature_dim, dropout_prob=0.2):\n",
        "    super(SadRnn, self).__init__()\n",
        "    self.batchnorm = nn.BatchNorm1d(feature_dim)\n",
        "    self.rnn = nn.GRU(feature_dim, 100, batch_first=True, bidirectional=True, num_layers=1)\n",
        "    # the above layer is bidirectional with 100 hidden units, hence the input to\n",
        "    # the next layer is 200-dimensional\n",
        "    self.fc = nn.Linear(200, 2)\n",
        "    \n",
        "  def forward(self, x, seq_length, left_context, right_context):\n",
        "    # Conv1d takes in (batch, channels, seq_len), but raw signal is (batch, seq_len, channels)\n",
        "    x = x.permute(0, 2, 1).contiguous()\n",
        "    x = self.batchnorm(x)\n",
        "    x = x.permute(0, 2, 1).contiguous()\n",
        "    x, _ = self.rnn(x)\n",
        "    \n",
        "    #print(x.shape)\n",
        "    # => (batch, channels, seq_len) => (batch, seq_len, channels)\n",
        "    #x = x.permute(0, 2, 1).contiguous()\n",
        "    #print(x.shape)\n",
        "    \n",
        "    logit = self.fc(x)    \n",
        "    logit_seq_len = logit.shape[1]\n",
        "    assert logit_seq_len > seq_length\n",
        "    ignore_context = (logit_seq_len - seq_length)//2\n",
        "    logit = logit[:, ignore_context:-ignore_context, : ]\n",
        "    return logit"
      ],
      "execution_count": 0,
      "outputs": []
    },
    {
      "cell_type": "code",
      "metadata": {
        "id": "Li8Q8w_veqEg",
        "colab_type": "code",
        "colab": {}
      },
      "source": [
        "model3 = SadRnn(train_dataset[0][0].shape[1]).to(device)"
      ],
      "execution_count": 0,
      "outputs": []
    },
    {
      "cell_type": "code",
      "metadata": {
        "id": "AalDqRjueupV",
        "colab_type": "code",
        "outputId": "c0524c6d-6e47-45d5-b351-0f37ad175bfe",
        "colab": {
          "base_uri": "https://localhost:8080/",
          "height": 287
        }
      },
      "source": [
        "train(model3, 5, train_iter, dev_iter, device=device)"
      ],
      "execution_count": 0,
      "outputs": [
        {
          "output_type": "stream",
          "text": [
            "Epoch 1\n",
            "Evaluation on train - loss: 0.073711  acc: 97.30%(654723/672900)\n",
            "Evaluation on dev - loss: 0.214429  acc: 92.00%(44051/47880)\n",
            "Epoch 2\n",
            "Evaluation on train - loss: 0.064627  acc: 97.57%(656570/672900)\n",
            "Evaluation on dev - loss: 0.207115  acc: 91.62%(43870/47880)\n",
            "Epoch 3\n",
            "Evaluation on train - loss: 0.060189  acc: 97.82%(658202/672900)\n",
            "Evaluation on dev - loss: 0.187409  acc: 92.51%(44292/47880)\n",
            "Epoch 4\n",
            "Evaluation on train - loss: 0.058650  acc: 97.97%(659218/672900)\n",
            "Evaluation on dev - loss: 0.174867  acc: 92.98%(44521/47880)\n",
            "Epoch 5\n",
            "Evaluation on train - loss: 0.056198  acc: 98.00%(659416/672900)\n",
            "Evaluation on dev - loss: 0.174824  acc: 92.88%(44471/47880)\n"
          ],
          "name": "stdout"
        }
      ]
    },
    {
      "cell_type": "code",
      "metadata": {
        "id": "bm2fARJ5exqf",
        "colab_type": "code",
        "colab": {}
      },
      "source": [
        ""
      ],
      "execution_count": 0,
      "outputs": []
    },
    {
      "cell_type": "markdown",
      "metadata": {
        "id": "ZHuBwYromhRB",
        "colab_type": "text"
      },
      "source": [
        "## Exercise\n",
        "\n",
        "\n",
        "*   Implement a model that combines convolutional and RNN layers\n",
        "\n"
      ]
    },
    {
      "cell_type": "code",
      "metadata": {
        "id": "kv8Oac1Pn95R",
        "colab_type": "code",
        "colab": {}
      },
      "source": [
        ""
      ],
      "execution_count": 0,
      "outputs": []
    }
  ]
}