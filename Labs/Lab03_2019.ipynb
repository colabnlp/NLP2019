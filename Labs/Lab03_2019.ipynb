{
  "nbformat": 4,
  "nbformat_minor": 0,
  "metadata": {
    "colab": {
      "name": "Lab03_2019.ipynb",
      "version": "0.3.2",
      "provenance": [],
      "collapsed_sections": [
        "EX0eXGeJ-Toz"
      ],
      "include_colab_link": true
    },
    "kernelspec": {
      "name": "python3",
      "display_name": "Python 3"
    }
  },
  "cells": [
    {
      "cell_type": "markdown",
      "metadata": {
        "id": "view-in-github",
        "colab_type": "text"
      },
      "source": [
        "<a href=\"https://colab.research.google.com/github/akaver/NLP2019/blob/master/Lab03_2019.ipynb\" target=\"_parent\"><img src=\"https://colab.research.google.com/assets/colab-badge.svg\" alt=\"Open In Colab\"/></a>"
      ]
    },
    {
      "cell_type": "markdown",
      "metadata": {
        "id": "8VA1YNiL-ePp",
        "colab_type": "text"
      },
      "source": [
        "# Finite State Transducers with Pynini\n",
        "\n",
        "Today we will use the Pynini Python package for working with finite state transducers.\n",
        "\n",
        "Pynini cannot be installed via pip (actually, pip will give you another package with the same name that is doing something totally different).\n",
        "\n",
        "I have compiled binary Pynini packages for Linux with Python 3.6 and 3.7. The can be installed so:\n",
        "  \n",
        "Python 3.6:\n",
        "\n",
        "\n",
        "```\n",
        "wget http://www.phon.ioc.ee/~tanela/pynini-2.0.0-cp36-cp36m-manylinux1_x86_64.whl\n",
        "pip install pynini-2.0.0-cp36-cp36m-manylinux1_x86_64.whl\n",
        "\n",
        "```\n",
        "\n",
        "\n",
        "\n",
        "Python 3.7:\n",
        "\n",
        "```\n",
        "wget http://www.phon.ioc.ee/~tanela/pynini-2.0.0-cp37-cp37m-manylinux1_x86_64.whl\n",
        "pip install pynini-2.0.0-cp37-cp37m-manylinux1_x86_64.whl\n",
        "```\n",
        "\n",
        "\n",
        "If running something else, you need to compile it yourself. The very short installation command under Linux is something like:\n",
        "  \n",
        "```\n",
        "cd /tmp && \\\n",
        "git clone https://github.com/google/re2 && \\\n",
        "cd /tmp/re2 && \\\n",
        "make -j4 && \\\n",
        "make install && \\\n",
        "cd /tmp && \\\n",
        "wget http://www.openfst.org/twiki/pub/FST/FstDownload/openfst-1.6.9.tar.gz && \\\n",
        "tar zxvf openfst-1.6.9.tar.gz && \\\n",
        "cd openfst-1.6.9 && \\\n",
        "./configure --enable-grm && \\\n",
        "make -j8 && \\\n",
        "make install && \\\n",
        "cd /tmp && \\\n",
        "wget http://www.opengrm.org/twiki/pub/GRM/PyniniDownload/pynini-2.0.0.tar.gz && \\\n",
        "tar zxvf pynini-2.0.0.tar.gz && \\\n",
        "cd pynini-2.0.0 && \\\n",
        "python setup.py install \n",
        "```"
      ]
    },
    {
      "cell_type": "code",
      "metadata": {
        "id": "RGjnWf7--nv-",
        "colab_type": "code",
        "outputId": "0656c982-9c2c-4f1e-d223-c0223b1c2308",
        "colab": {
          "base_uri": "https://localhost:8080/",
          "height": 51
        }
      },
      "source": [
        "# Check what version of Python we are running:\n",
        "import sys\n",
        "print(sys.version)"
      ],
      "execution_count": 0,
      "outputs": [
        {
          "output_type": "stream",
          "text": [
            "3.6.7 (default, Oct 22 2018, 11:32:17) \n",
            "[GCC 8.2.0]\n"
          ],
          "name": "stdout"
        }
      ]
    },
    {
      "cell_type": "code",
      "metadata": {
        "id": "eK1BR7Ae-xIL",
        "colab_type": "code",
        "outputId": "f55083cb-6899-44e2-91a0-e0d121258df8",
        "colab": {
          "base_uri": "https://localhost:8080/",
          "height": 289
        }
      },
      "source": [
        "! wget http://www.phon.ioc.ee/~tanela/pynini-2.0.0-cp36-cp36m-manylinux1_x86_64.whl"
      ],
      "execution_count": 0,
      "outputs": [
        {
          "output_type": "stream",
          "text": [
            "--2019-02-12 09:13:08--  http://www.phon.ioc.ee/~tanela/pynini-2.0.0-cp36-cp36m-manylinux1_x86_64.whl\n",
            "Resolving www.phon.ioc.ee (www.phon.ioc.ee)... 193.40.251.126\n",
            "Connecting to www.phon.ioc.ee (www.phon.ioc.ee)|193.40.251.126|:80... connected.\n",
            "HTTP request sent, awaiting response... 302 Found\n",
            "Location: https://phon.ioc.ee/~tanela/pynini-2.0.0-cp36-cp36m-manylinux1_x86_64.whl [following]\n",
            "--2019-02-12 09:13:08--  https://phon.ioc.ee/~tanela/pynini-2.0.0-cp36-cp36m-manylinux1_x86_64.whl\n",
            "Resolving phon.ioc.ee (phon.ioc.ee)... 193.40.251.126\n",
            "Connecting to phon.ioc.ee (phon.ioc.ee)|193.40.251.126|:443... connected.\n",
            "HTTP request sent, awaiting response... 200 OK\n",
            "Length: 52740954 (50M)\n",
            "Saving to: ‘pynini-2.0.0-cp36-cp36m-manylinux1_x86_64.whl.1’\n",
            "\n",
            "pynini-2.0.0-cp36-c 100%[===================>]  50.30M  2.99MB/s    in 50s     \n",
            "\n",
            "2019-02-12 09:13:59 (1.01 MB/s) - ‘pynini-2.0.0-cp36-cp36m-manylinux1_x86_64.whl.1’ saved [52740954/52740954]\n",
            "\n"
          ],
          "name": "stdout"
        }
      ]
    },
    {
      "cell_type": "code",
      "metadata": {
        "id": "b7g98_KA-3_R",
        "colab_type": "code",
        "outputId": "540e40c7-f9d9-4241-aef1-68a7a6df3e64",
        "colab": {
          "base_uri": "https://localhost:8080/",
          "height": 34
        }
      },
      "source": [
        "! pip install pynini-2.0.0-cp36-cp36m-manylinux1_x86_64.whl"
      ],
      "execution_count": 0,
      "outputs": [
        {
          "output_type": "stream",
          "text": [
            "Requirement already satisfied: pynini==2.0.0 from file:///content/pynini-2.0.0-cp36-cp36m-manylinux1_x86_64.whl in /usr/local/lib/python3.6/dist-packages (2.0.0)\n"
          ],
          "name": "stdout"
        }
      ]
    },
    {
      "cell_type": "code",
      "metadata": {
        "id": "aOvK123V-TmW",
        "colab_type": "code",
        "colab": {}
      },
      "source": [
        "import pynini as pn"
      ],
      "execution_count": 0,
      "outputs": []
    },
    {
      "cell_type": "markdown",
      "metadata": {
        "id": "D_puA-wP-Tmb",
        "colab_type": "text"
      },
      "source": [
        "Let's first try creating some finite state acceptors.\n",
        "\n",
        "A single acceptor transission can be created using the pynini.acceptor() function. \n",
        "\n",
        "A repeated state can be specified using `closure()`. Just `closure(fst)` means \"repeat zero or more times\", `closure(fst, n)` means \"repeat at least n times, and `closure(fst, m, n)` means \"repeat m to n times\".\n",
        "\n",
        "Let's create a FSA for the regular expression `a*bbc+`:"
      ]
    },
    {
      "cell_type": "code",
      "metadata": {
        "id": "Q5pZ7FPh-Tmc",
        "colab_type": "code",
        "outputId": "7b8a36ca-a671-4c9a-9e29-7eabb6e4f2ee",
        "colab": {
          "base_uri": "https://localhost:8080/",
          "height": 80
        }
      },
      "source": [
        "pn.closure(pn.acceptor(\"a\")) + pn.acceptor(\"b\") + pn.acceptor(\"b\") + pn.closure(pn.acceptor(\"c\"), 1)"
      ],
      "execution_count": 0,
      "outputs": [
        {
          "output_type": "execute_result",
          "data": {
            "text/plain": [
              "<vector Fst at 0x7fc16a271fb8>"
            ],
            "image/svg+xml": "<?xml version=\"1.0\" encoding=\"UTF-8\" standalone=\"no\"?>\n<!DOCTYPE svg PUBLIC \"-//W3C//DTD SVG 1.1//EN\"\n \"http://www.w3.org/Graphics/SVG/1.1/DTD/svg11.dtd\">\n<!-- Generated by graphviz version 2.40.1 (20161225.0304)\n -->\n<!-- Title: FST Pages: 1 -->\n<svg width=\"612pt\" height=\"44pt\"\n viewBox=\"0.00 0.00 612.00 43.81\" xmlns=\"http://www.w3.org/2000/svg\" xmlns:xlink=\"http://www.w3.org/1999/xlink\">\n<g id=\"graph0\" class=\"graph\" transform=\"scale(.477 .477) rotate(0) translate(4 87.8428)\">\n<title>FST</title>\n<polygon fill=\"#ffffff\" stroke=\"transparent\" points=\"-4,4 -4,-87.8428 1278.8927,-87.8428 1278.8927,4 -4,4\"/>\n<!-- 2 -->\n<g id=\"node1\" class=\"node\">\n<title>2</title>\n<ellipse fill=\"none\" stroke=\"#000000\" stroke-width=\"2\" cx=\"18\" cy=\"-23.8428\" rx=\"18\" ry=\"18\"/>\n<text text-anchor=\"middle\" x=\"18\" y=\"-20.1428\" font-family=\"Times,serif\" font-size=\"14.00\" fill=\"#000000\">2</text>\n</g>\n<!-- 0 -->\n<g id=\"node2\" class=\"node\">\n<title>0</title>\n<ellipse fill=\"none\" stroke=\"#000000\" cx=\"142\" cy=\"-53.8428\" rx=\"18\" ry=\"18\"/>\n<text text-anchor=\"middle\" x=\"142\" y=\"-50.1428\" font-family=\"Times,serif\" font-size=\"14.00\" fill=\"#000000\">0</text>\n</g>\n<!-- 2&#45;&gt;0 -->\n<g id=\"edge1\" class=\"edge\">\n<title>2&#45;&gt;0</title>\n<path fill=\"none\" stroke=\"#000000\" d=\"M35.5032,-28.0774C55.9732,-33.0298 90.1206,-41.2913 114.2217,-47.1222\"/>\n<polygon fill=\"#000000\" stroke=\"#000000\" points=\"113.6417,-50.5828 124.1843,-49.5325 115.2878,-43.7791 113.6417,-50.5828\"/>\n<text text-anchor=\"middle\" x=\"80\" y=\"-48.6428\" font-family=\"Times,serif\" font-size=\"14.00\" fill=\"#000000\">&lt;epsilon&gt;</text>\n</g>\n<!-- 3 -->\n<g id=\"node3\" class=\"node\">\n<title>3</title>\n<ellipse fill=\"none\" stroke=\"#000000\" cx=\"390\" cy=\"-23.8428\" rx=\"18\" ry=\"18\"/>\n<text text-anchor=\"middle\" x=\"390\" y=\"-20.1428\" font-family=\"Times,serif\" font-size=\"14.00\" fill=\"#000000\">3</text>\n</g>\n<!-- 2&#45;&gt;3 -->\n<g id=\"edge2\" class=\"edge\">\n<title>2&#45;&gt;3</title>\n<path fill=\"none\" stroke=\"#000000\" d=\"M36.1942,-23.8428C96.2725,-23.8428 288.6342,-23.8428 361.5843,-23.8428\"/>\n<polygon fill=\"#000000\" stroke=\"#000000\" points=\"361.8409,-27.3429 371.8409,-23.8428 361.8408,-20.3429 361.8409,-27.3429\"/>\n<text text-anchor=\"middle\" x=\"204\" y=\"-27.6428\" font-family=\"Times,serif\" font-size=\"14.00\" fill=\"#000000\">&lt;epsilon&gt;</text>\n</g>\n<!-- 1 -->\n<g id=\"node4\" class=\"node\">\n<title>1</title>\n<ellipse fill=\"none\" stroke=\"#000000\" cx=\"266\" cy=\"-53.8428\" rx=\"18\" ry=\"18\"/>\n<text text-anchor=\"middle\" x=\"266\" y=\"-50.1428\" font-family=\"Times,serif\" font-size=\"14.00\" fill=\"#000000\">1</text>\n</g>\n<!-- 0&#45;&gt;1 -->\n<g id=\"edge3\" class=\"edge\">\n<title>0&#45;&gt;1</title>\n<path fill=\"none\" stroke=\"#000000\" d=\"M158.4769,-61.1092C163.6611,-63.0462 169.4766,-64.8697 175,-65.8428 200.3868,-70.3153 207.6132,-70.3153 233,-65.8428 235.2439,-65.4475 237.536,-64.9118 239.8144,-64.2852\"/>\n<polygon fill=\"#000000\" stroke=\"#000000\" points=\"241.1069,-67.5449 249.5231,-61.1092 238.9305,-60.8919 241.1069,-67.5449\"/>\n<text text-anchor=\"middle\" x=\"204\" y=\"-72.6428\" font-family=\"Times,serif\" font-size=\"14.00\" fill=\"#000000\">a</text>\n</g>\n<!-- 4 -->\n<g id=\"node5\" class=\"node\">\n<title>4</title>\n<ellipse fill=\"none\" stroke=\"#000000\" cx=\"464\" cy=\"-23.8428\" rx=\"18\" ry=\"18\"/>\n<text text-anchor=\"middle\" x=\"464\" y=\"-20.1428\" font-family=\"Times,serif\" font-size=\"14.00\" fill=\"#000000\">4</text>\n</g>\n<!-- 3&#45;&gt;4 -->\n<g id=\"edge6\" class=\"edge\">\n<title>3&#45;&gt;4</title>\n<path fill=\"none\" stroke=\"#000000\" d=\"M408.2921,-23.8428C416.5365,-23.8428 426.4624,-23.8428 435.6378,-23.8428\"/>\n<polygon fill=\"#000000\" stroke=\"#000000\" points=\"435.9183,-27.3429 445.9183,-23.8428 435.9182,-20.3429 435.9183,-27.3429\"/>\n<text text-anchor=\"middle\" x=\"427\" y=\"-27.6428\" font-family=\"Times,serif\" font-size=\"14.00\" fill=\"#000000\">b</text>\n</g>\n<!-- 1&#45;&gt;0 -->\n<g id=\"edge4\" class=\"edge\">\n<title>1&#45;&gt;0</title>\n<path fill=\"none\" stroke=\"#000000\" d=\"M248.2973,-49.3771C243.3771,-48.3306 238.0092,-47.3682 233,-46.8428 207.3629,-44.1536 200.6371,-44.1536 175,-46.8428 173.2781,-47.0234 171.5138,-47.2556 169.7399,-47.5252\"/>\n<polygon fill=\"#000000\" stroke=\"#000000\" points=\"168.9017,-44.1207 159.7027,-49.3771 170.1718,-51.0045 168.9017,-44.1207\"/>\n<text text-anchor=\"middle\" x=\"204\" y=\"-50.6428\" font-family=\"Times,serif\" font-size=\"14.00\" fill=\"#000000\">&lt;epsilon&gt;</text>\n</g>\n<!-- 1&#45;&gt;3 -->\n<g id=\"edge5\" class=\"edge\">\n<title>1&#45;&gt;3</title>\n<path fill=\"none\" stroke=\"#000000\" d=\"M283.5032,-49.6081C303.9732,-44.6557 338.1206,-36.3942 362.2217,-30.5633\"/>\n<polygon fill=\"#000000\" stroke=\"#000000\" points=\"363.2878,-33.9065 372.1843,-28.153 361.6417,-27.1027 363.2878,-33.9065\"/>\n<text text-anchor=\"middle\" x=\"328\" y=\"-48.6428\" font-family=\"Times,serif\" font-size=\"14.00\" fill=\"#000000\">&lt;epsilon&gt;</text>\n</g>\n<!-- 5 -->\n<g id=\"node6\" class=\"node\">\n<title>5</title>\n<ellipse fill=\"none\" stroke=\"#000000\" cx=\"588\" cy=\"-23.8428\" rx=\"18\" ry=\"18\"/>\n<text text-anchor=\"middle\" x=\"588\" y=\"-20.1428\" font-family=\"Times,serif\" font-size=\"14.00\" fill=\"#000000\">5</text>\n</g>\n<!-- 4&#45;&gt;5 -->\n<g id=\"edge7\" class=\"edge\">\n<title>4&#45;&gt;5</title>\n<path fill=\"none\" stroke=\"#000000\" d=\"M482.0307,-23.8428C502.4178,-23.8428 535.8732,-23.8428 559.7386,-23.8428\"/>\n<polygon fill=\"#000000\" stroke=\"#000000\" points=\"559.9476,-27.3429 569.9476,-23.8428 559.9475,-20.3429 559.9476,-27.3429\"/>\n<text text-anchor=\"middle\" x=\"526\" y=\"-27.6428\" font-family=\"Times,serif\" font-size=\"14.00\" fill=\"#000000\">&lt;epsilon&gt;</text>\n</g>\n<!-- 6 -->\n<g id=\"node7\" class=\"node\">\n<title>6</title>\n<ellipse fill=\"none\" stroke=\"#000000\" cx=\"662\" cy=\"-23.8428\" rx=\"18\" ry=\"18\"/>\n<text text-anchor=\"middle\" x=\"662\" y=\"-20.1428\" font-family=\"Times,serif\" font-size=\"14.00\" fill=\"#000000\">6</text>\n</g>\n<!-- 5&#45;&gt;6 -->\n<g id=\"edge8\" class=\"edge\">\n<title>5&#45;&gt;6</title>\n<path fill=\"none\" stroke=\"#000000\" d=\"M606.2921,-23.8428C614.5365,-23.8428 624.4624,-23.8428 633.6378,-23.8428\"/>\n<polygon fill=\"#000000\" stroke=\"#000000\" points=\"633.9183,-27.3429 643.9183,-23.8428 633.9182,-20.3429 633.9183,-27.3429\"/>\n<text text-anchor=\"middle\" x=\"625\" y=\"-27.6428\" font-family=\"Times,serif\" font-size=\"14.00\" fill=\"#000000\">b</text>\n</g>\n<!-- 10 -->\n<g id=\"node8\" class=\"node\">\n<title>10</title>\n<ellipse fill=\"none\" stroke=\"#000000\" cx=\"788.7982\" cy=\"-23.8428\" rx=\"20.5982\" ry=\"20.5982\"/>\n<text text-anchor=\"middle\" x=\"788.7982\" y=\"-20.1428\" font-family=\"Times,serif\" font-size=\"14.00\" fill=\"#000000\">10</text>\n</g>\n<!-- 6&#45;&gt;10 -->\n<g id=\"edge9\" class=\"edge\">\n<title>6&#45;&gt;10</title>\n<path fill=\"none\" stroke=\"#000000\" d=\"M680.1671,-23.8428C700.3291,-23.8428 733.2258,-23.8428 757.5435,-23.8428\"/>\n<polygon fill=\"#000000\" stroke=\"#000000\" points=\"757.7066,-27.3429 767.7065,-23.8428 757.7065,-20.3429 757.7066,-27.3429\"/>\n<text text-anchor=\"middle\" x=\"724\" y=\"-27.6428\" font-family=\"Times,serif\" font-size=\"14.00\" fill=\"#000000\">&lt;epsilon&gt;</text>\n</g>\n<!-- 11 -->\n<g id=\"node12\" class=\"node\">\n<title>11</title>\n<ellipse fill=\"none\" stroke=\"#000000\" cx=\"866.7445\" cy=\"-23.8428\" rx=\"20.2975\" ry=\"20.2975\"/>\n<text text-anchor=\"middle\" x=\"866.7445\" y=\"-20.1428\" font-family=\"Times,serif\" font-size=\"14.00\" fill=\"#000000\">11</text>\n</g>\n<!-- 10&#45;&gt;11 -->\n<g id=\"edge13\" class=\"edge\">\n<title>10&#45;&gt;11</title>\n<path fill=\"none\" stroke=\"#000000\" d=\"M809.6864,-23.8428C817.8542,-23.8428 827.3837,-23.8428 836.2894,-23.8428\"/>\n<polygon fill=\"#000000\" stroke=\"#000000\" points=\"836.3383,-27.3429 846.3382,-23.8428 836.3382,-20.3429 836.3383,-27.3429\"/>\n<text text-anchor=\"middle\" x=\"828.0963\" y=\"-27.6428\" font-family=\"Times,serif\" font-size=\"14.00\" fill=\"#000000\">c</text>\n</g>\n<!-- 7 -->\n<g id=\"node9\" class=\"node\">\n<title>7</title>\n<ellipse fill=\"none\" stroke=\"#000000\" cx=\"1124.8927\" cy=\"-23.8428\" rx=\"18\" ry=\"18\"/>\n<text text-anchor=\"middle\" x=\"1124.8927\" y=\"-20.1428\" font-family=\"Times,serif\" font-size=\"14.00\" fill=\"#000000\">7</text>\n</g>\n<!-- 8 -->\n<g id=\"node10\" class=\"node\">\n<title>8</title>\n<ellipse fill=\"none\" stroke=\"#000000\" cx=\"1252.8927\" cy=\"-23.8428\" rx=\"18\" ry=\"18\"/>\n<ellipse fill=\"none\" stroke=\"#000000\" cx=\"1252.8927\" cy=\"-23.8428\" rx=\"22\" ry=\"22\"/>\n<text text-anchor=\"middle\" x=\"1252.8927\" y=\"-20.1428\" font-family=\"Times,serif\" font-size=\"14.00\" fill=\"#000000\">8</text>\n</g>\n<!-- 7&#45;&gt;8 -->\n<g id=\"edge10\" class=\"edge\">\n<title>7&#45;&gt;8</title>\n<path fill=\"none\" stroke=\"#000000\" d=\"M1142.9605,-23.8428C1163.0103,-23.8428 1195.7718,-23.8428 1220.3237,-23.8428\"/>\n<polygon fill=\"#000000\" stroke=\"#000000\" points=\"1220.6163,-27.3429 1230.6163,-23.8428 1220.6162,-20.3429 1220.6163,-27.3429\"/>\n<text text-anchor=\"middle\" x=\"1186.8927\" y=\"-27.6428\" font-family=\"Times,serif\" font-size=\"14.00\" fill=\"#000000\">c</text>\n</g>\n<!-- 8&#45;&gt;7 -->\n<g id=\"edge11\" class=\"edge\">\n<title>8&#45;&gt;7</title>\n<path fill=\"none\" stroke=\"#000000\" d=\"M1233.9833,-11.9638C1228.3716,-9.0477 1222.0693,-6.336 1215.8927,-4.8428 1190.8367,1.2145 1182.7961,1.8141 1157.8927,-4.8428 1154.6994,-5.6964 1151.4946,-6.9413 1148.4047,-8.3922\"/>\n<polygon fill=\"#000000\" stroke=\"#000000\" points=\"1146.7186,-5.325 1139.6056,-13.1772 1150.0627,-11.4746 1146.7186,-5.325\"/>\n<text text-anchor=\"middle\" x=\"1186.8927\" y=\"-8.6428\" font-family=\"Times,serif\" font-size=\"14.00\" fill=\"#000000\">&lt;epsilon&gt;</text>\n</g>\n<!-- 9 -->\n<g id=\"node11\" class=\"node\">\n<title>9</title>\n<ellipse fill=\"none\" stroke=\"#000000\" cx=\"996.8927\" cy=\"-23.8428\" rx=\"18\" ry=\"18\"/>\n<ellipse fill=\"none\" stroke=\"#000000\" cx=\"996.8927\" cy=\"-23.8428\" rx=\"22\" ry=\"22\"/>\n<text text-anchor=\"middle\" x=\"996.8927\" y=\"-20.1428\" font-family=\"Times,serif\" font-size=\"14.00\" fill=\"#000000\">9</text>\n</g>\n<!-- 9&#45;&gt;7 -->\n<g id=\"edge12\" class=\"edge\">\n<title>9&#45;&gt;7</title>\n<path fill=\"none\" stroke=\"#000000\" d=\"M1018.8967,-23.8428C1040.4676,-23.8428 1073.4343,-23.8428 1096.8691,-23.8428\"/>\n<polygon fill=\"#000000\" stroke=\"#000000\" points=\"1096.8905,-27.3429 1106.8905,-23.8428 1096.8904,-20.3429 1096.8905,-27.3429\"/>\n<text text-anchor=\"middle\" x=\"1062.8927\" y=\"-27.6428\" font-family=\"Times,serif\" font-size=\"14.00\" fill=\"#000000\">&lt;epsilon&gt;</text>\n</g>\n<!-- 11&#45;&gt;9 -->\n<g id=\"edge14\" class=\"edge\">\n<title>11&#45;&gt;9</title>\n<path fill=\"none\" stroke=\"#000000\" d=\"M887.0802,-23.8428C907.756,-23.8428 940.1107,-23.8428 964.3538,-23.8428\"/>\n<polygon fill=\"#000000\" stroke=\"#000000\" points=\"964.5195,-27.3429 974.5195,-23.8428 964.5194,-20.3429 964.5195,-27.3429\"/>\n<text text-anchor=\"middle\" x=\"930.8927\" y=\"-27.6428\" font-family=\"Times,serif\" font-size=\"14.00\" fill=\"#000000\">&lt;epsilon&gt;</text>\n</g>\n</g>\n</svg>\n"
          },
          "metadata": {
            "tags": []
          },
          "execution_count": 5
        }
      ]
    },
    {
      "cell_type": "markdown",
      "metadata": {
        "id": "WpSaofla-Tmh",
        "colab_type": "text"
      },
      "source": [
        "Most pynini functions have shorthand aliases: a() can be used instead of acceptor():"
      ]
    },
    {
      "cell_type": "code",
      "metadata": {
        "id": "tpoRCla3-Tmh",
        "colab_type": "code",
        "outputId": "7c5b8dde-5cc4-4910-def8-c5a4189f94df",
        "colab": {
          "base_uri": "https://localhost:8080/",
          "height": 80
        }
      },
      "source": [
        "pn.closure(pn.a(\"a\")) + pn.acceptor(\"b\") + pn.a(\"b\") + pn.closure(pn.a(\"c\"), 1)"
      ],
      "execution_count": 0,
      "outputs": [
        {
          "output_type": "execute_result",
          "data": {
            "text/plain": [
              "<vector Fst at 0x7fc15f3f73e8>"
            ],
            "image/svg+xml": "<?xml version=\"1.0\" encoding=\"UTF-8\" standalone=\"no\"?>\n<!DOCTYPE svg PUBLIC \"-//W3C//DTD SVG 1.1//EN\"\n \"http://www.w3.org/Graphics/SVG/1.1/DTD/svg11.dtd\">\n<!-- Generated by graphviz version 2.40.1 (20161225.0304)\n -->\n<!-- Title: FST Pages: 1 -->\n<svg width=\"612pt\" height=\"44pt\"\n viewBox=\"0.00 0.00 612.00 43.81\" xmlns=\"http://www.w3.org/2000/svg\" xmlns:xlink=\"http://www.w3.org/1999/xlink\">\n<g id=\"graph0\" class=\"graph\" transform=\"scale(.477 .477) rotate(0) translate(4 87.8428)\">\n<title>FST</title>\n<polygon fill=\"#ffffff\" stroke=\"transparent\" points=\"-4,4 -4,-87.8428 1278.8927,-87.8428 1278.8927,4 -4,4\"/>\n<!-- 2 -->\n<g id=\"node1\" class=\"node\">\n<title>2</title>\n<ellipse fill=\"none\" stroke=\"#000000\" stroke-width=\"2\" cx=\"18\" cy=\"-23.8428\" rx=\"18\" ry=\"18\"/>\n<text text-anchor=\"middle\" x=\"18\" y=\"-20.1428\" font-family=\"Times,serif\" font-size=\"14.00\" fill=\"#000000\">2</text>\n</g>\n<!-- 0 -->\n<g id=\"node2\" class=\"node\">\n<title>0</title>\n<ellipse fill=\"none\" stroke=\"#000000\" cx=\"142\" cy=\"-53.8428\" rx=\"18\" ry=\"18\"/>\n<text text-anchor=\"middle\" x=\"142\" y=\"-50.1428\" font-family=\"Times,serif\" font-size=\"14.00\" fill=\"#000000\">0</text>\n</g>\n<!-- 2&#45;&gt;0 -->\n<g id=\"edge1\" class=\"edge\">\n<title>2&#45;&gt;0</title>\n<path fill=\"none\" stroke=\"#000000\" d=\"M35.5032,-28.0774C55.9732,-33.0298 90.1206,-41.2913 114.2217,-47.1222\"/>\n<polygon fill=\"#000000\" stroke=\"#000000\" points=\"113.6417,-50.5828 124.1843,-49.5325 115.2878,-43.7791 113.6417,-50.5828\"/>\n<text text-anchor=\"middle\" x=\"80\" y=\"-48.6428\" font-family=\"Times,serif\" font-size=\"14.00\" fill=\"#000000\">&lt;epsilon&gt;</text>\n</g>\n<!-- 3 -->\n<g id=\"node3\" class=\"node\">\n<title>3</title>\n<ellipse fill=\"none\" stroke=\"#000000\" cx=\"390\" cy=\"-23.8428\" rx=\"18\" ry=\"18\"/>\n<text text-anchor=\"middle\" x=\"390\" y=\"-20.1428\" font-family=\"Times,serif\" font-size=\"14.00\" fill=\"#000000\">3</text>\n</g>\n<!-- 2&#45;&gt;3 -->\n<g id=\"edge2\" class=\"edge\">\n<title>2&#45;&gt;3</title>\n<path fill=\"none\" stroke=\"#000000\" d=\"M36.1942,-23.8428C96.2725,-23.8428 288.6342,-23.8428 361.5843,-23.8428\"/>\n<polygon fill=\"#000000\" stroke=\"#000000\" points=\"361.8409,-27.3429 371.8409,-23.8428 361.8408,-20.3429 361.8409,-27.3429\"/>\n<text text-anchor=\"middle\" x=\"204\" y=\"-27.6428\" font-family=\"Times,serif\" font-size=\"14.00\" fill=\"#000000\">&lt;epsilon&gt;</text>\n</g>\n<!-- 1 -->\n<g id=\"node4\" class=\"node\">\n<title>1</title>\n<ellipse fill=\"none\" stroke=\"#000000\" cx=\"266\" cy=\"-53.8428\" rx=\"18\" ry=\"18\"/>\n<text text-anchor=\"middle\" x=\"266\" y=\"-50.1428\" font-family=\"Times,serif\" font-size=\"14.00\" fill=\"#000000\">1</text>\n</g>\n<!-- 0&#45;&gt;1 -->\n<g id=\"edge3\" class=\"edge\">\n<title>0&#45;&gt;1</title>\n<path fill=\"none\" stroke=\"#000000\" d=\"M158.4769,-61.1092C163.6611,-63.0462 169.4766,-64.8697 175,-65.8428 200.3868,-70.3153 207.6132,-70.3153 233,-65.8428 235.2439,-65.4475 237.536,-64.9118 239.8144,-64.2852\"/>\n<polygon fill=\"#000000\" stroke=\"#000000\" points=\"241.1069,-67.5449 249.5231,-61.1092 238.9305,-60.8919 241.1069,-67.5449\"/>\n<text text-anchor=\"middle\" x=\"204\" y=\"-72.6428\" font-family=\"Times,serif\" font-size=\"14.00\" fill=\"#000000\">a</text>\n</g>\n<!-- 4 -->\n<g id=\"node5\" class=\"node\">\n<title>4</title>\n<ellipse fill=\"none\" stroke=\"#000000\" cx=\"464\" cy=\"-23.8428\" rx=\"18\" ry=\"18\"/>\n<text text-anchor=\"middle\" x=\"464\" y=\"-20.1428\" font-family=\"Times,serif\" font-size=\"14.00\" fill=\"#000000\">4</text>\n</g>\n<!-- 3&#45;&gt;4 -->\n<g id=\"edge6\" class=\"edge\">\n<title>3&#45;&gt;4</title>\n<path fill=\"none\" stroke=\"#000000\" d=\"M408.2921,-23.8428C416.5365,-23.8428 426.4624,-23.8428 435.6378,-23.8428\"/>\n<polygon fill=\"#000000\" stroke=\"#000000\" points=\"435.9183,-27.3429 445.9183,-23.8428 435.9182,-20.3429 435.9183,-27.3429\"/>\n<text text-anchor=\"middle\" x=\"427\" y=\"-27.6428\" font-family=\"Times,serif\" font-size=\"14.00\" fill=\"#000000\">b</text>\n</g>\n<!-- 1&#45;&gt;0 -->\n<g id=\"edge4\" class=\"edge\">\n<title>1&#45;&gt;0</title>\n<path fill=\"none\" stroke=\"#000000\" d=\"M248.2973,-49.3771C243.3771,-48.3306 238.0092,-47.3682 233,-46.8428 207.3629,-44.1536 200.6371,-44.1536 175,-46.8428 173.2781,-47.0234 171.5138,-47.2556 169.7399,-47.5252\"/>\n<polygon fill=\"#000000\" stroke=\"#000000\" points=\"168.9017,-44.1207 159.7027,-49.3771 170.1718,-51.0045 168.9017,-44.1207\"/>\n<text text-anchor=\"middle\" x=\"204\" y=\"-50.6428\" font-family=\"Times,serif\" font-size=\"14.00\" fill=\"#000000\">&lt;epsilon&gt;</text>\n</g>\n<!-- 1&#45;&gt;3 -->\n<g id=\"edge5\" class=\"edge\">\n<title>1&#45;&gt;3</title>\n<path fill=\"none\" stroke=\"#000000\" d=\"M283.5032,-49.6081C303.9732,-44.6557 338.1206,-36.3942 362.2217,-30.5633\"/>\n<polygon fill=\"#000000\" stroke=\"#000000\" points=\"363.2878,-33.9065 372.1843,-28.153 361.6417,-27.1027 363.2878,-33.9065\"/>\n<text text-anchor=\"middle\" x=\"328\" y=\"-48.6428\" font-family=\"Times,serif\" font-size=\"14.00\" fill=\"#000000\">&lt;epsilon&gt;</text>\n</g>\n<!-- 5 -->\n<g id=\"node6\" class=\"node\">\n<title>5</title>\n<ellipse fill=\"none\" stroke=\"#000000\" cx=\"588\" cy=\"-23.8428\" rx=\"18\" ry=\"18\"/>\n<text text-anchor=\"middle\" x=\"588\" y=\"-20.1428\" font-family=\"Times,serif\" font-size=\"14.00\" fill=\"#000000\">5</text>\n</g>\n<!-- 4&#45;&gt;5 -->\n<g id=\"edge7\" class=\"edge\">\n<title>4&#45;&gt;5</title>\n<path fill=\"none\" stroke=\"#000000\" d=\"M482.0307,-23.8428C502.4178,-23.8428 535.8732,-23.8428 559.7386,-23.8428\"/>\n<polygon fill=\"#000000\" stroke=\"#000000\" points=\"559.9476,-27.3429 569.9476,-23.8428 559.9475,-20.3429 559.9476,-27.3429\"/>\n<text text-anchor=\"middle\" x=\"526\" y=\"-27.6428\" font-family=\"Times,serif\" font-size=\"14.00\" fill=\"#000000\">&lt;epsilon&gt;</text>\n</g>\n<!-- 6 -->\n<g id=\"node7\" class=\"node\">\n<title>6</title>\n<ellipse fill=\"none\" stroke=\"#000000\" cx=\"662\" cy=\"-23.8428\" rx=\"18\" ry=\"18\"/>\n<text text-anchor=\"middle\" x=\"662\" y=\"-20.1428\" font-family=\"Times,serif\" font-size=\"14.00\" fill=\"#000000\">6</text>\n</g>\n<!-- 5&#45;&gt;6 -->\n<g id=\"edge8\" class=\"edge\">\n<title>5&#45;&gt;6</title>\n<path fill=\"none\" stroke=\"#000000\" d=\"M606.2921,-23.8428C614.5365,-23.8428 624.4624,-23.8428 633.6378,-23.8428\"/>\n<polygon fill=\"#000000\" stroke=\"#000000\" points=\"633.9183,-27.3429 643.9183,-23.8428 633.9182,-20.3429 633.9183,-27.3429\"/>\n<text text-anchor=\"middle\" x=\"625\" y=\"-27.6428\" font-family=\"Times,serif\" font-size=\"14.00\" fill=\"#000000\">b</text>\n</g>\n<!-- 10 -->\n<g id=\"node8\" class=\"node\">\n<title>10</title>\n<ellipse fill=\"none\" stroke=\"#000000\" cx=\"788.7982\" cy=\"-23.8428\" rx=\"20.5982\" ry=\"20.5982\"/>\n<text text-anchor=\"middle\" x=\"788.7982\" y=\"-20.1428\" font-family=\"Times,serif\" font-size=\"14.00\" fill=\"#000000\">10</text>\n</g>\n<!-- 6&#45;&gt;10 -->\n<g id=\"edge9\" class=\"edge\">\n<title>6&#45;&gt;10</title>\n<path fill=\"none\" stroke=\"#000000\" d=\"M680.1671,-23.8428C700.3291,-23.8428 733.2258,-23.8428 757.5435,-23.8428\"/>\n<polygon fill=\"#000000\" stroke=\"#000000\" points=\"757.7066,-27.3429 767.7065,-23.8428 757.7065,-20.3429 757.7066,-27.3429\"/>\n<text text-anchor=\"middle\" x=\"724\" y=\"-27.6428\" font-family=\"Times,serif\" font-size=\"14.00\" fill=\"#000000\">&lt;epsilon&gt;</text>\n</g>\n<!-- 11 -->\n<g id=\"node12\" class=\"node\">\n<title>11</title>\n<ellipse fill=\"none\" stroke=\"#000000\" cx=\"866.7445\" cy=\"-23.8428\" rx=\"20.2975\" ry=\"20.2975\"/>\n<text text-anchor=\"middle\" x=\"866.7445\" y=\"-20.1428\" font-family=\"Times,serif\" font-size=\"14.00\" fill=\"#000000\">11</text>\n</g>\n<!-- 10&#45;&gt;11 -->\n<g id=\"edge13\" class=\"edge\">\n<title>10&#45;&gt;11</title>\n<path fill=\"none\" stroke=\"#000000\" d=\"M809.6864,-23.8428C817.8542,-23.8428 827.3837,-23.8428 836.2894,-23.8428\"/>\n<polygon fill=\"#000000\" stroke=\"#000000\" points=\"836.3383,-27.3429 846.3382,-23.8428 836.3382,-20.3429 836.3383,-27.3429\"/>\n<text text-anchor=\"middle\" x=\"828.0963\" y=\"-27.6428\" font-family=\"Times,serif\" font-size=\"14.00\" fill=\"#000000\">c</text>\n</g>\n<!-- 7 -->\n<g id=\"node9\" class=\"node\">\n<title>7</title>\n<ellipse fill=\"none\" stroke=\"#000000\" cx=\"1124.8927\" cy=\"-23.8428\" rx=\"18\" ry=\"18\"/>\n<text text-anchor=\"middle\" x=\"1124.8927\" y=\"-20.1428\" font-family=\"Times,serif\" font-size=\"14.00\" fill=\"#000000\">7</text>\n</g>\n<!-- 8 -->\n<g id=\"node10\" class=\"node\">\n<title>8</title>\n<ellipse fill=\"none\" stroke=\"#000000\" cx=\"1252.8927\" cy=\"-23.8428\" rx=\"18\" ry=\"18\"/>\n<ellipse fill=\"none\" stroke=\"#000000\" cx=\"1252.8927\" cy=\"-23.8428\" rx=\"22\" ry=\"22\"/>\n<text text-anchor=\"middle\" x=\"1252.8927\" y=\"-20.1428\" font-family=\"Times,serif\" font-size=\"14.00\" fill=\"#000000\">8</text>\n</g>\n<!-- 7&#45;&gt;8 -->\n<g id=\"edge10\" class=\"edge\">\n<title>7&#45;&gt;8</title>\n<path fill=\"none\" stroke=\"#000000\" d=\"M1142.9605,-23.8428C1163.0103,-23.8428 1195.7718,-23.8428 1220.3237,-23.8428\"/>\n<polygon fill=\"#000000\" stroke=\"#000000\" points=\"1220.6163,-27.3429 1230.6163,-23.8428 1220.6162,-20.3429 1220.6163,-27.3429\"/>\n<text text-anchor=\"middle\" x=\"1186.8927\" y=\"-27.6428\" font-family=\"Times,serif\" font-size=\"14.00\" fill=\"#000000\">c</text>\n</g>\n<!-- 8&#45;&gt;7 -->\n<g id=\"edge11\" class=\"edge\">\n<title>8&#45;&gt;7</title>\n<path fill=\"none\" stroke=\"#000000\" d=\"M1233.9833,-11.9638C1228.3716,-9.0477 1222.0693,-6.336 1215.8927,-4.8428 1190.8367,1.2145 1182.7961,1.8141 1157.8927,-4.8428 1154.6994,-5.6964 1151.4946,-6.9413 1148.4047,-8.3922\"/>\n<polygon fill=\"#000000\" stroke=\"#000000\" points=\"1146.7186,-5.325 1139.6056,-13.1772 1150.0627,-11.4746 1146.7186,-5.325\"/>\n<text text-anchor=\"middle\" x=\"1186.8927\" y=\"-8.6428\" font-family=\"Times,serif\" font-size=\"14.00\" fill=\"#000000\">&lt;epsilon&gt;</text>\n</g>\n<!-- 9 -->\n<g id=\"node11\" class=\"node\">\n<title>9</title>\n<ellipse fill=\"none\" stroke=\"#000000\" cx=\"996.8927\" cy=\"-23.8428\" rx=\"18\" ry=\"18\"/>\n<ellipse fill=\"none\" stroke=\"#000000\" cx=\"996.8927\" cy=\"-23.8428\" rx=\"22\" ry=\"22\"/>\n<text text-anchor=\"middle\" x=\"996.8927\" y=\"-20.1428\" font-family=\"Times,serif\" font-size=\"14.00\" fill=\"#000000\">9</text>\n</g>\n<!-- 9&#45;&gt;7 -->\n<g id=\"edge12\" class=\"edge\">\n<title>9&#45;&gt;7</title>\n<path fill=\"none\" stroke=\"#000000\" d=\"M1018.8967,-23.8428C1040.4676,-23.8428 1073.4343,-23.8428 1096.8691,-23.8428\"/>\n<polygon fill=\"#000000\" stroke=\"#000000\" points=\"1096.8905,-27.3429 1106.8905,-23.8428 1096.8904,-20.3429 1096.8905,-27.3429\"/>\n<text text-anchor=\"middle\" x=\"1062.8927\" y=\"-27.6428\" font-family=\"Times,serif\" font-size=\"14.00\" fill=\"#000000\">&lt;epsilon&gt;</text>\n</g>\n<!-- 11&#45;&gt;9 -->\n<g id=\"edge14\" class=\"edge\">\n<title>11&#45;&gt;9</title>\n<path fill=\"none\" stroke=\"#000000\" d=\"M887.0802,-23.8428C907.756,-23.8428 940.1107,-23.8428 964.3538,-23.8428\"/>\n<polygon fill=\"#000000\" stroke=\"#000000\" points=\"964.5195,-27.3429 974.5195,-23.8428 964.5194,-20.3429 964.5195,-27.3429\"/>\n<text text-anchor=\"middle\" x=\"930.8927\" y=\"-27.6428\" font-family=\"Times,serif\" font-size=\"14.00\" fill=\"#000000\">&lt;epsilon&gt;</text>\n</g>\n</g>\n</svg>\n"
          },
          "metadata": {
            "tags": []
          },
          "execution_count": 7
        }
      ]
    },
    {
      "cell_type": "markdown",
      "metadata": {
        "id": "utKN7q3b-Tmk",
        "colab_type": "text"
      },
      "source": [
        "The FSA that is created as a result of many atomic FSA operations is not optimal: it has more transisions and states than needed. The `optimize()` function makes it optimal, and easier to understand:"
      ]
    },
    {
      "cell_type": "code",
      "metadata": {
        "id": "9Ell5n4x-Tmm",
        "colab_type": "code",
        "outputId": "e63de739-8ae0-456c-f908-e178a022fb0f",
        "colab": {
          "base_uri": "https://localhost:8080/",
          "height": 134
        }
      },
      "source": [
        "fsa1 = pn.optimize(pn.closure(pn.a(\"a\")) + pn.acceptor(\"b\") + pn.a(\"b\") + pn.closure(pn.a(\"c\"), 1))\n",
        "fsa1"
      ],
      "execution_count": 0,
      "outputs": [
        {
          "output_type": "execute_result",
          "data": {
            "text/plain": [
              "<vector Fst at 0x7fc15f3f76c0>"
            ],
            "image/svg+xml": "<?xml version=\"1.0\" encoding=\"UTF-8\" standalone=\"no\"?>\n<!DOCTYPE svg PUBLIC \"-//W3C//DTD SVG 1.1//EN\"\n \"http://www.w3.org/Graphics/SVG/1.1/DTD/svg11.dtd\">\n<!-- Generated by graphviz version 2.40.1 (20161225.0304)\n -->\n<!-- Title: FST Pages: 1 -->\n<svg width=\"273pt\" height=\"85pt\"\n viewBox=\"0.00 0.00 273.00 85.00\" xmlns=\"http://www.w3.org/2000/svg\" xmlns:xlink=\"http://www.w3.org/1999/xlink\">\n<g id=\"graph0\" class=\"graph\" transform=\"scale(1 1) rotate(0) translate(4 81)\">\n<title>FST</title>\n<polygon fill=\"#ffffff\" stroke=\"transparent\" points=\"-4,4 -4,-81 269,-81 269,4 -4,4\"/>\n<!-- 0 -->\n<g id=\"node1\" class=\"node\">\n<title>0</title>\n<ellipse fill=\"none\" stroke=\"#000000\" stroke-width=\"2\" cx=\"18\" cy=\"-22\" rx=\"18\" ry=\"18\"/>\n<text text-anchor=\"middle\" x=\"18\" y=\"-18.3\" font-family=\"Times,serif\" font-size=\"14.00\" fill=\"#000000\">0</text>\n</g>\n<!-- 0&#45;&gt;0 -->\n<g id=\"edge1\" class=\"edge\">\n<title>0&#45;&gt;0</title>\n<path fill=\"none\" stroke=\"#000000\" d=\"M11.6208,-39.0373C10.3189,-48.8579 12.4453,-58 18,-58 21.4717,-58 23.6042,-54.4289 24.3975,-49.3529\"/>\n<polygon fill=\"#000000\" stroke=\"#000000\" points=\"27.8971,-49.031 24.3792,-39.0373 20.8971,-49.0435 27.8971,-49.031\"/>\n<text text-anchor=\"middle\" x=\"18\" y=\"-61.8\" font-family=\"Times,serif\" font-size=\"14.00\" fill=\"#000000\">a</text>\n</g>\n<!-- 1 -->\n<g id=\"node2\" class=\"node\">\n<title>1</title>\n<ellipse fill=\"none\" stroke=\"#000000\" cx=\"92\" cy=\"-22\" rx=\"18\" ry=\"18\"/>\n<text text-anchor=\"middle\" x=\"92\" y=\"-18.3\" font-family=\"Times,serif\" font-size=\"14.00\" fill=\"#000000\">1</text>\n</g>\n<!-- 0&#45;&gt;1 -->\n<g id=\"edge2\" class=\"edge\">\n<title>0&#45;&gt;1</title>\n<path fill=\"none\" stroke=\"#000000\" d=\"M36.2921,-22C44.5365,-22 54.4624,-22 63.6378,-22\"/>\n<polygon fill=\"#000000\" stroke=\"#000000\" points=\"63.9183,-25.5001 73.9183,-22 63.9182,-18.5001 63.9183,-25.5001\"/>\n<text text-anchor=\"middle\" x=\"55\" y=\"-25.8\" font-family=\"Times,serif\" font-size=\"14.00\" fill=\"#000000\">b</text>\n</g>\n<!-- 2 -->\n<g id=\"node3\" class=\"node\">\n<title>2</title>\n<ellipse fill=\"none\" stroke=\"#000000\" cx=\"166\" cy=\"-22\" rx=\"18\" ry=\"18\"/>\n<text text-anchor=\"middle\" x=\"166\" y=\"-18.3\" font-family=\"Times,serif\" font-size=\"14.00\" fill=\"#000000\">2</text>\n</g>\n<!-- 1&#45;&gt;2 -->\n<g id=\"edge3\" class=\"edge\">\n<title>1&#45;&gt;2</title>\n<path fill=\"none\" stroke=\"#000000\" d=\"M110.2921,-22C118.5365,-22 128.4624,-22 137.6378,-22\"/>\n<polygon fill=\"#000000\" stroke=\"#000000\" points=\"137.9183,-25.5001 147.9183,-22 137.9182,-18.5001 137.9183,-25.5001\"/>\n<text text-anchor=\"middle\" x=\"129\" y=\"-25.8\" font-family=\"Times,serif\" font-size=\"14.00\" fill=\"#000000\">b</text>\n</g>\n<!-- 3 -->\n<g id=\"node4\" class=\"node\">\n<title>3</title>\n<ellipse fill=\"none\" stroke=\"#000000\" cx=\"243\" cy=\"-22\" rx=\"18\" ry=\"18\"/>\n<ellipse fill=\"none\" stroke=\"#000000\" cx=\"243\" cy=\"-22\" rx=\"22\" ry=\"22\"/>\n<text text-anchor=\"middle\" x=\"243\" y=\"-18.3\" font-family=\"Times,serif\" font-size=\"14.00\" fill=\"#000000\">3</text>\n</g>\n<!-- 2&#45;&gt;3 -->\n<g id=\"edge4\" class=\"edge\">\n<title>2&#45;&gt;3</title>\n<path fill=\"none\" stroke=\"#000000\" d=\"M184.2479,-22C192.1112,-22 201.5502,-22 210.5388,-22\"/>\n<polygon fill=\"#000000\" stroke=\"#000000\" points=\"210.7624,-25.5001 220.7623,-22 210.7623,-18.5001 210.7624,-25.5001\"/>\n<text text-anchor=\"middle\" x=\"202.5\" y=\"-25.8\" font-family=\"Times,serif\" font-size=\"14.00\" fill=\"#000000\">c</text>\n</g>\n<!-- 3&#45;&gt;3 -->\n<g id=\"edge5\" class=\"edge\">\n<title>3&#45;&gt;3</title>\n<path fill=\"none\" stroke=\"#000000\" d=\"M235.6831,-42.9908C234.7798,-53.0872 237.2188,-62 243,-62 246.7036,-62 249.0356,-58.3422 249.9958,-53.0587\"/>\n<polygon fill=\"#000000\" stroke=\"#000000\" points=\"253.4963,-53.0973 250.3169,-42.9908 246.4998,-52.8741 253.4963,-53.0973\"/>\n<text text-anchor=\"middle\" x=\"243\" y=\"-65.8\" font-family=\"Times,serif\" font-size=\"14.00\" fill=\"#000000\">c</text>\n</g>\n</g>\n</svg>\n"
          },
          "metadata": {
            "tags": []
          },
          "execution_count": 8
        }
      ]
    },
    {
      "cell_type": "markdown",
      "metadata": {
        "id": "uL-UbZ3b-Tmp",
        "colab_type": "text"
      },
      "source": [
        "Let's now test what kind of strings does this FSA accept. Use the pynini matches() functuon for this:"
      ]
    },
    {
      "cell_type": "code",
      "metadata": {
        "id": "pUEMLPjW-Tmq",
        "colab_type": "code",
        "outputId": "c039e7b9-f424-4fc6-81bb-9277e5aa4f99",
        "colab": {
          "base_uri": "https://localhost:8080/",
          "height": 34
        }
      },
      "source": [
        "pn.matches(fsa1, \"abc\")"
      ],
      "execution_count": 0,
      "outputs": [
        {
          "output_type": "execute_result",
          "data": {
            "text/plain": [
              "False"
            ]
          },
          "metadata": {
            "tags": []
          },
          "execution_count": 9
        }
      ]
    },
    {
      "cell_type": "code",
      "metadata": {
        "id": "Uiv9HyTh-Tmt",
        "colab_type": "code",
        "outputId": "71c75e52-cf3d-40e9-f83f-ac077558b495",
        "colab": {
          "base_uri": "https://localhost:8080/",
          "height": 34
        }
      },
      "source": [
        "pn.matches(fsa1, \"abbc\")"
      ],
      "execution_count": 0,
      "outputs": [
        {
          "output_type": "execute_result",
          "data": {
            "text/plain": [
              "True"
            ]
          },
          "metadata": {
            "tags": []
          },
          "execution_count": 10
        }
      ]
    },
    {
      "cell_type": "code",
      "metadata": {
        "id": "iGUDuo1p-Tmx",
        "colab_type": "code",
        "outputId": "24daf667-8da4-4baf-f061-30e2249a9f16",
        "colab": {
          "base_uri": "https://localhost:8080/",
          "height": 34
        }
      },
      "source": [
        "pn.matches(fsa1, \"aac\")"
      ],
      "execution_count": 0,
      "outputs": [
        {
          "output_type": "execute_result",
          "data": {
            "text/plain": [
              "False"
            ]
          },
          "metadata": {
            "tags": []
          },
          "execution_count": 11
        }
      ]
    },
    {
      "cell_type": "code",
      "metadata": {
        "id": "GcJqHYYQ-Tmz",
        "colab_type": "code",
        "outputId": "9c00e766-7fbb-4269-f27a-a71b79afe00d",
        "colab": {
          "base_uri": "https://localhost:8080/",
          "height": 34
        }
      },
      "source": [
        "pn.matches(fsa1, \"aaac\")"
      ],
      "execution_count": 0,
      "outputs": [
        {
          "output_type": "execute_result",
          "data": {
            "text/plain": [
              "False"
            ]
          },
          "metadata": {
            "tags": []
          },
          "execution_count": 12
        }
      ]
    },
    {
      "cell_type": "markdown",
      "metadata": {
        "id": "xaFTns9g-Tm3",
        "colab_type": "text"
      },
      "source": [
        "The sequence `p.a(\"b\") + p.a(\"b\")` can be also written in shorthand form, using `p.a(\"bb\")`:"
      ]
    },
    {
      "cell_type": "code",
      "metadata": {
        "id": "7fYX1MTt-Tm4",
        "colab_type": "code",
        "outputId": "8a9336f4-875b-450f-b633-7df79973d6dc",
        "colab": {
          "base_uri": "https://localhost:8080/",
          "height": 134
        }
      },
      "source": [
        "fsa1 = pn.optimize(pn.closure(pn.a(\"a\")) + pn.acceptor(\"bb\") + pn.closure(pn.a(\"c\"), 1))\n",
        "fsa1"
      ],
      "execution_count": 0,
      "outputs": [
        {
          "output_type": "execute_result",
          "data": {
            "text/plain": [
              "<vector Fst at 0x7fc15f3f76f8>"
            ],
            "image/svg+xml": "<?xml version=\"1.0\" encoding=\"UTF-8\" standalone=\"no\"?>\n<!DOCTYPE svg PUBLIC \"-//W3C//DTD SVG 1.1//EN\"\n \"http://www.w3.org/Graphics/SVG/1.1/DTD/svg11.dtd\">\n<!-- Generated by graphviz version 2.40.1 (20161225.0304)\n -->\n<!-- Title: FST Pages: 1 -->\n<svg width=\"273pt\" height=\"85pt\"\n viewBox=\"0.00 0.00 273.00 85.00\" xmlns=\"http://www.w3.org/2000/svg\" xmlns:xlink=\"http://www.w3.org/1999/xlink\">\n<g id=\"graph0\" class=\"graph\" transform=\"scale(1 1) rotate(0) translate(4 81)\">\n<title>FST</title>\n<polygon fill=\"#ffffff\" stroke=\"transparent\" points=\"-4,4 -4,-81 269,-81 269,4 -4,4\"/>\n<!-- 0 -->\n<g id=\"node1\" class=\"node\">\n<title>0</title>\n<ellipse fill=\"none\" stroke=\"#000000\" stroke-width=\"2\" cx=\"18\" cy=\"-22\" rx=\"18\" ry=\"18\"/>\n<text text-anchor=\"middle\" x=\"18\" y=\"-18.3\" font-family=\"Times,serif\" font-size=\"14.00\" fill=\"#000000\">0</text>\n</g>\n<!-- 0&#45;&gt;0 -->\n<g id=\"edge1\" class=\"edge\">\n<title>0&#45;&gt;0</title>\n<path fill=\"none\" stroke=\"#000000\" d=\"M11.6208,-39.0373C10.3189,-48.8579 12.4453,-58 18,-58 21.4717,-58 23.6042,-54.4289 24.3975,-49.3529\"/>\n<polygon fill=\"#000000\" stroke=\"#000000\" points=\"27.8971,-49.031 24.3792,-39.0373 20.8971,-49.0435 27.8971,-49.031\"/>\n<text text-anchor=\"middle\" x=\"18\" y=\"-61.8\" font-family=\"Times,serif\" font-size=\"14.00\" fill=\"#000000\">a</text>\n</g>\n<!-- 1 -->\n<g id=\"node2\" class=\"node\">\n<title>1</title>\n<ellipse fill=\"none\" stroke=\"#000000\" cx=\"92\" cy=\"-22\" rx=\"18\" ry=\"18\"/>\n<text text-anchor=\"middle\" x=\"92\" y=\"-18.3\" font-family=\"Times,serif\" font-size=\"14.00\" fill=\"#000000\">1</text>\n</g>\n<!-- 0&#45;&gt;1 -->\n<g id=\"edge2\" class=\"edge\">\n<title>0&#45;&gt;1</title>\n<path fill=\"none\" stroke=\"#000000\" d=\"M36.2921,-22C44.5365,-22 54.4624,-22 63.6378,-22\"/>\n<polygon fill=\"#000000\" stroke=\"#000000\" points=\"63.9183,-25.5001 73.9183,-22 63.9182,-18.5001 63.9183,-25.5001\"/>\n<text text-anchor=\"middle\" x=\"55\" y=\"-25.8\" font-family=\"Times,serif\" font-size=\"14.00\" fill=\"#000000\">b</text>\n</g>\n<!-- 2 -->\n<g id=\"node3\" class=\"node\">\n<title>2</title>\n<ellipse fill=\"none\" stroke=\"#000000\" cx=\"166\" cy=\"-22\" rx=\"18\" ry=\"18\"/>\n<text text-anchor=\"middle\" x=\"166\" y=\"-18.3\" font-family=\"Times,serif\" font-size=\"14.00\" fill=\"#000000\">2</text>\n</g>\n<!-- 1&#45;&gt;2 -->\n<g id=\"edge3\" class=\"edge\">\n<title>1&#45;&gt;2</title>\n<path fill=\"none\" stroke=\"#000000\" d=\"M110.2921,-22C118.5365,-22 128.4624,-22 137.6378,-22\"/>\n<polygon fill=\"#000000\" stroke=\"#000000\" points=\"137.9183,-25.5001 147.9183,-22 137.9182,-18.5001 137.9183,-25.5001\"/>\n<text text-anchor=\"middle\" x=\"129\" y=\"-25.8\" font-family=\"Times,serif\" font-size=\"14.00\" fill=\"#000000\">b</text>\n</g>\n<!-- 3 -->\n<g id=\"node4\" class=\"node\">\n<title>3</title>\n<ellipse fill=\"none\" stroke=\"#000000\" cx=\"243\" cy=\"-22\" rx=\"18\" ry=\"18\"/>\n<ellipse fill=\"none\" stroke=\"#000000\" cx=\"243\" cy=\"-22\" rx=\"22\" ry=\"22\"/>\n<text text-anchor=\"middle\" x=\"243\" y=\"-18.3\" font-family=\"Times,serif\" font-size=\"14.00\" fill=\"#000000\">3</text>\n</g>\n<!-- 2&#45;&gt;3 -->\n<g id=\"edge4\" class=\"edge\">\n<title>2&#45;&gt;3</title>\n<path fill=\"none\" stroke=\"#000000\" d=\"M184.2479,-22C192.1112,-22 201.5502,-22 210.5388,-22\"/>\n<polygon fill=\"#000000\" stroke=\"#000000\" points=\"210.7624,-25.5001 220.7623,-22 210.7623,-18.5001 210.7624,-25.5001\"/>\n<text text-anchor=\"middle\" x=\"202.5\" y=\"-25.8\" font-family=\"Times,serif\" font-size=\"14.00\" fill=\"#000000\">c</text>\n</g>\n<!-- 3&#45;&gt;3 -->\n<g id=\"edge5\" class=\"edge\">\n<title>3&#45;&gt;3</title>\n<path fill=\"none\" stroke=\"#000000\" d=\"M235.6831,-42.9908C234.7798,-53.0872 237.2188,-62 243,-62 246.7036,-62 249.0356,-58.3422 249.9958,-53.0587\"/>\n<polygon fill=\"#000000\" stroke=\"#000000\" points=\"253.4963,-53.0973 250.3169,-42.9908 246.4998,-52.8741 253.4963,-53.0973\"/>\n<text text-anchor=\"middle\" x=\"243\" y=\"-65.8\" font-family=\"Times,serif\" font-size=\"14.00\" fill=\"#000000\">c</text>\n</g>\n</g>\n</svg>\n"
          },
          "metadata": {
            "tags": []
          },
          "execution_count": 13
        }
      ]
    },
    {
      "cell_type": "markdown",
      "metadata": {
        "id": "q1KwLCPF-Tm7",
        "colab_type": "text"
      },
      "source": [
        "More about the closure() method:\n",
        "\n",
        "The following are the equivalents for the closure-style syntax used in\n",
        "Perl-style regular expressions:\n",
        "\n",
        "    Regexp:             This method:            Copy shortcuts:\n",
        "\n",
        "    /x?/                x.closure(0, 1)         x.ques\n",
        "    /x*/                x.closure()             x.star\n",
        "    /x+/                x.closure(1)            x.plus\n",
        "    /x{N}/              x.closure(N, N)\n",
        "    /x{M,N}/            x.closure(M, N)\n",
        "    /x{N,}/             x.closure(N)\n",
        "    /x{,N}/             x.closure(0, N)"
      ]
    },
    {
      "cell_type": "code",
      "metadata": {
        "id": "S2DS5PBJ-Tm8",
        "colab_type": "code",
        "outputId": "8c358b64-238e-4266-b698-ad006cb57ad8",
        "colab": {
          "base_uri": "https://localhost:8080/",
          "height": 134
        }
      },
      "source": [
        "pn.optimize((pn.a(\"a\").plus))"
      ],
      "execution_count": 0,
      "outputs": [
        {
          "output_type": "execute_result",
          "data": {
            "text/plain": [
              "<vector Fst at 0x7fc15f3f7340>"
            ],
            "image/svg+xml": "<?xml version=\"1.0\" encoding=\"UTF-8\" standalone=\"no\"?>\n<!DOCTYPE svg PUBLIC \"-//W3C//DTD SVG 1.1//EN\"\n \"http://www.w3.org/Graphics/SVG/1.1/DTD/svg11.dtd\">\n<!-- Generated by graphviz version 2.40.1 (20161225.0304)\n -->\n<!-- Title: FST Pages: 1 -->\n<svg width=\"125pt\" height=\"85pt\"\n viewBox=\"0.00 0.00 125.00 85.00\" xmlns=\"http://www.w3.org/2000/svg\" xmlns:xlink=\"http://www.w3.org/1999/xlink\">\n<g id=\"graph0\" class=\"graph\" transform=\"scale(1 1) rotate(0) translate(4 81)\">\n<title>FST</title>\n<polygon fill=\"#ffffff\" stroke=\"transparent\" points=\"-4,4 -4,-81 121,-81 121,4 -4,4\"/>\n<!-- 0 -->\n<g id=\"node1\" class=\"node\">\n<title>0</title>\n<ellipse fill=\"none\" stroke=\"#000000\" stroke-width=\"2\" cx=\"18\" cy=\"-22\" rx=\"18\" ry=\"18\"/>\n<text text-anchor=\"middle\" x=\"18\" y=\"-18.3\" font-family=\"Times,serif\" font-size=\"14.00\" fill=\"#000000\">0</text>\n</g>\n<!-- 1 -->\n<g id=\"node2\" class=\"node\">\n<title>1</title>\n<ellipse fill=\"none\" stroke=\"#000000\" cx=\"95\" cy=\"-22\" rx=\"18\" ry=\"18\"/>\n<ellipse fill=\"none\" stroke=\"#000000\" cx=\"95\" cy=\"-22\" rx=\"22\" ry=\"22\"/>\n<text text-anchor=\"middle\" x=\"95\" y=\"-18.3\" font-family=\"Times,serif\" font-size=\"14.00\" fill=\"#000000\">1</text>\n</g>\n<!-- 0&#45;&gt;1 -->\n<g id=\"edge1\" class=\"edge\">\n<title>0&#45;&gt;1</title>\n<path fill=\"none\" stroke=\"#000000\" d=\"M36.2479,-22C44.1112,-22 53.5502,-22 62.5388,-22\"/>\n<polygon fill=\"#000000\" stroke=\"#000000\" points=\"62.7624,-25.5001 72.7623,-22 62.7623,-18.5001 62.7624,-25.5001\"/>\n<text text-anchor=\"middle\" x=\"54.5\" y=\"-25.8\" font-family=\"Times,serif\" font-size=\"14.00\" fill=\"#000000\">a</text>\n</g>\n<!-- 1&#45;&gt;1 -->\n<g id=\"edge2\" class=\"edge\">\n<title>1&#45;&gt;1</title>\n<path fill=\"none\" stroke=\"#000000\" d=\"M87.6831,-42.9908C86.7798,-53.0872 89.2188,-62 95,-62 98.7036,-62 101.0356,-58.3422 101.9958,-53.0587\"/>\n<polygon fill=\"#000000\" stroke=\"#000000\" points=\"105.4963,-53.0973 102.3169,-42.9908 98.4998,-52.8741 105.4963,-53.0973\"/>\n<text text-anchor=\"middle\" x=\"95\" y=\"-65.8\" font-family=\"Times,serif\" font-size=\"14.00\" fill=\"#000000\">a</text>\n</g>\n</g>\n</svg>\n"
          },
          "metadata": {
            "tags": []
          },
          "execution_count": 14
        }
      ]
    },
    {
      "cell_type": "markdown",
      "metadata": {
        "id": "ldP_SkUR-TnD",
        "colab_type": "text"
      },
      "source": [
        "Let's try with anopther FSA that we looked at in the lecture. It should accept US money amounts, e.g. `one dollar`, `one dollar fifty cents`, etc.\n",
        "\n",
        "But let's start from a one that recognizes simpler dollar expressions, like \"two dollars\".\n",
        "\n",
        "First, we have to define a FSA that accepts digits: \"one\", or \"two\", etc. We'll use the pynini `union()` (alias: `u()`) for creating the set of alternative digits."
      ]
    },
    {
      "cell_type": "code",
      "metadata": {
        "id": "d6S34pui-TnG",
        "colab_type": "code",
        "outputId": "0d298651-cab3-46b3-ed11-5139b02789b5",
        "colab": {
          "base_uri": "https://localhost:8080/",
          "height": 742
        }
      },
      "source": [
        "a_1_to_9 = pn.u(\"one\", \"two\", \"three\", \"four\", \"five\", \"six\", \"seven\", \"eight\", \"nine\")\n",
        "a_1_to_9"
      ],
      "execution_count": 0,
      "outputs": [
        {
          "output_type": "execute_result",
          "data": {
            "text/plain": [
              "<vector Fst at 0x7fc15f3f7810>"
            ],
            "image/svg+xml": "<?xml version=\"1.0\" encoding=\"UTF-8\" standalone=\"no\"?>\n<!DOCTYPE svg PUBLIC \"-//W3C//DTD SVG 1.1//EN\"\n \"http://www.w3.org/Graphics/SVG/1.1/DTD/svg11.dtd\">\n<!-- Generated by graphviz version 2.40.1 (20161225.0304)\n -->\n<!-- Title: FST Pages: 1 -->\n<svg width=\"601pt\" height=\"541pt\"\n viewBox=\"0.00 0.00 600.98 540.80\" xmlns=\"http://www.w3.org/2000/svg\" xmlns:xlink=\"http://www.w3.org/1999/xlink\">\n<g id=\"graph0\" class=\"graph\" transform=\"scale(1 1) rotate(0) translate(4 536.7982)\">\n<title>FST</title>\n<polygon fill=\"#ffffff\" stroke=\"transparent\" points=\"-4,4 -4,-536.7982 596.9815,-536.7982 596.9815,4 -4,4\"/>\n<!-- 0 -->\n<g id=\"node1\" class=\"node\">\n<title>0</title>\n<ellipse fill=\"none\" stroke=\"#000000\" stroke-width=\"2\" cx=\"18\" cy=\"-275.7982\" rx=\"18\" ry=\"18\"/>\n<text text-anchor=\"middle\" x=\"18\" y=\"-272.0982\" font-family=\"Times,serif\" font-size=\"14.00\" fill=\"#000000\">0</text>\n</g>\n<!-- 1 -->\n<g id=\"node2\" class=\"node\">\n<title>1</title>\n<ellipse fill=\"none\" stroke=\"#000000\" cx=\"144.7982\" cy=\"-506.7982\" rx=\"18\" ry=\"18\"/>\n<text text-anchor=\"middle\" x=\"144.7982\" y=\"-503.0982\" font-family=\"Times,serif\" font-size=\"14.00\" fill=\"#000000\">1</text>\n</g>\n<!-- 0&#45;&gt;1 -->\n<g id=\"edge1\" class=\"edge\">\n<title>0&#45;&gt;1</title>\n<path fill=\"none\" stroke=\"#000000\" d=\"M19.3454,-293.8738C22.6543,-334.202 32.3115,-430.0071 51,-455.7982 67.1493,-478.0851 96.1205,-491.6758 117.6067,-499.1605\"/>\n<polygon fill=\"#000000\" stroke=\"#000000\" points=\"116.5791,-502.5066 127.1712,-502.2674 118.7417,-495.8491 116.5791,-502.5066\"/>\n<text text-anchor=\"middle\" x=\"80\" y=\"-498.5982\" font-family=\"Times,serif\" font-size=\"14.00\" fill=\"#000000\">o</text>\n</g>\n<!-- 4 -->\n<g id=\"node3\" class=\"node\">\n<title>4</title>\n<ellipse fill=\"none\" stroke=\"#000000\" cx=\"144.7982\" cy=\"-449.7982\" rx=\"18\" ry=\"18\"/>\n<text text-anchor=\"middle\" x=\"144.7982\" y=\"-446.0982\" font-family=\"Times,serif\" font-size=\"14.00\" fill=\"#000000\">4</text>\n</g>\n<!-- 0&#45;&gt;4 -->\n<g id=\"edge2\" class=\"edge\">\n<title>0&#45;&gt;4</title>\n<path fill=\"none\" stroke=\"#000000\" d=\"M21.1745,-293.929C26.6511,-323.5737 38.4957,-380.7319 51,-396.7982 68.0579,-418.7152 96.8836,-433.038 118.0875,-441.2028\"/>\n<polygon fill=\"#000000\" stroke=\"#000000\" points=\"116.917,-444.5013 127.5112,-444.6243 119.306,-437.9216 116.917,-444.5013\"/>\n<text text-anchor=\"middle\" x=\"80\" y=\"-440.5982\" font-family=\"Times,serif\" font-size=\"14.00\" fill=\"#000000\">&lt;epsilon&gt;</text>\n</g>\n<!-- 8 -->\n<g id=\"node4\" class=\"node\">\n<title>8</title>\n<ellipse fill=\"none\" stroke=\"#000000\" cx=\"144.7982\" cy=\"-393.7982\" rx=\"18\" ry=\"18\"/>\n<text text-anchor=\"middle\" x=\"144.7982\" y=\"-390.0982\" font-family=\"Times,serif\" font-size=\"14.00\" fill=\"#000000\">8</text>\n</g>\n<!-- 0&#45;&gt;8 -->\n<g id=\"edge3\" class=\"edge\">\n<title>0&#45;&gt;8</title>\n<path fill=\"none\" stroke=\"#000000\" d=\"M23.7346,-292.933C29.0684,-306.8554 38.1372,-326.3257 51,-339.7982 69.9566,-359.6532 97.8245,-374.433 118.2592,-383.4639\"/>\n<polygon fill=\"#000000\" stroke=\"#000000\" points=\"117.049,-386.7523 127.622,-387.4325 119.7808,-380.3074 117.049,-386.7523\"/>\n<text text-anchor=\"middle\" x=\"80\" y=\"-381.5982\" font-family=\"Times,serif\" font-size=\"14.00\" fill=\"#000000\">&lt;epsilon&gt;</text>\n</g>\n<!-- 14 -->\n<g id=\"node5\" class=\"node\">\n<title>14</title>\n<ellipse fill=\"none\" stroke=\"#000000\" cx=\"144.7982\" cy=\"-335.7982\" rx=\"20.5982\" ry=\"20.5982\"/>\n<text text-anchor=\"middle\" x=\"144.7982\" y=\"-332.0982\" font-family=\"Times,serif\" font-size=\"14.00\" fill=\"#000000\">14</text>\n</g>\n<!-- 0&#45;&gt;14 -->\n<g id=\"edge4\" class=\"edge\">\n<title>0&#45;&gt;14</title>\n<path fill=\"none\" stroke=\"#000000\" d=\"M33.5845,-285.2421C39.024,-288.4117 45.2157,-291.88 51,-294.7982 72.3854,-305.5871 97.2516,-316.38 116.0059,-324.1823\"/>\n<polygon fill=\"#000000\" stroke=\"#000000\" points=\"114.8905,-327.5081 125.4698,-328.0819 117.5574,-321.036 114.8905,-327.5081\"/>\n<text text-anchor=\"middle\" x=\"80\" y=\"-324.5982\" font-family=\"Times,serif\" font-size=\"14.00\" fill=\"#000000\">&lt;epsilon&gt;</text>\n</g>\n<!-- 19 -->\n<g id=\"node6\" class=\"node\">\n<title>19</title>\n<ellipse fill=\"none\" stroke=\"#000000\" cx=\"144.7982\" cy=\"-275.7982\" rx=\"20.5982\" ry=\"20.5982\"/>\n<text text-anchor=\"middle\" x=\"144.7982\" y=\"-272.0982\" font-family=\"Times,serif\" font-size=\"14.00\" fill=\"#000000\">19</text>\n</g>\n<!-- 0&#45;&gt;19 -->\n<g id=\"edge5\" class=\"edge\">\n<title>0&#45;&gt;19</title>\n<path fill=\"none\" stroke=\"#000000\" d=\"M36.1671,-275.7982C56.3291,-275.7982 89.2258,-275.7982 113.5435,-275.7982\"/>\n<polygon fill=\"#000000\" stroke=\"#000000\" points=\"113.7066,-279.2983 123.7065,-275.7982 113.7065,-272.2983 113.7066,-279.2983\"/>\n<text text-anchor=\"middle\" x=\"80\" y=\"-279.5982\" font-family=\"Times,serif\" font-size=\"14.00\" fill=\"#000000\">&lt;epsilon&gt;</text>\n</g>\n<!-- 24 -->\n<g id=\"node7\" class=\"node\">\n<title>24</title>\n<ellipse fill=\"none\" stroke=\"#000000\" cx=\"144.7982\" cy=\"-215.7982\" rx=\"20.5982\" ry=\"20.5982\"/>\n<text text-anchor=\"middle\" x=\"144.7982\" y=\"-212.0982\" font-family=\"Times,serif\" font-size=\"14.00\" fill=\"#000000\">24</text>\n</g>\n<!-- 0&#45;&gt;24 -->\n<g id=\"edge6\" class=\"edge\">\n<title>0&#45;&gt;24</title>\n<path fill=\"none\" stroke=\"#000000\" d=\"M33.5845,-266.3542C39.024,-263.1846 45.2157,-259.7163 51,-256.7982 72.3854,-246.0092 97.2516,-235.2163 116.0059,-227.414\"/>\n<polygon fill=\"#000000\" stroke=\"#000000\" points=\"117.5574,-230.5603 125.4698,-223.5144 114.8905,-224.0882 117.5574,-230.5603\"/>\n<text text-anchor=\"middle\" x=\"80\" y=\"-260.5982\" font-family=\"Times,serif\" font-size=\"14.00\" fill=\"#000000\">&lt;epsilon&gt;</text>\n</g>\n<!-- 28 -->\n<g id=\"node8\" class=\"node\">\n<title>28</title>\n<ellipse fill=\"none\" stroke=\"#000000\" cx=\"144.7982\" cy=\"-155.7982\" rx=\"20.5982\" ry=\"20.5982\"/>\n<text text-anchor=\"middle\" x=\"144.7982\" y=\"-152.0982\" font-family=\"Times,serif\" font-size=\"14.00\" fill=\"#000000\">28</text>\n</g>\n<!-- 0&#45;&gt;28 -->\n<g id=\"edge7\" class=\"edge\">\n<title>0&#45;&gt;28</title>\n<path fill=\"none\" stroke=\"#000000\" d=\"M23.7024,-258.421C29.0171,-244.2963 38.0758,-224.5296 51,-210.7982 69.2347,-191.4244 95.8211,-176.7126 116.0365,-167.4016\"/>\n<polygon fill=\"#000000\" stroke=\"#000000\" points=\"117.6541,-170.5133 125.3841,-163.2678 114.8229,-164.1113 117.6541,-170.5133\"/>\n<text text-anchor=\"middle\" x=\"80\" y=\"-214.5982\" font-family=\"Times,serif\" font-size=\"14.00\" fill=\"#000000\">&lt;epsilon&gt;</text>\n</g>\n<!-- 34 -->\n<g id=\"node9\" class=\"node\">\n<title>34</title>\n<ellipse fill=\"none\" stroke=\"#000000\" cx=\"144.7982\" cy=\"-94.7982\" rx=\"20.5982\" ry=\"20.5982\"/>\n<text text-anchor=\"middle\" x=\"144.7982\" y=\"-91.0982\" font-family=\"Times,serif\" font-size=\"14.00\" fill=\"#000000\">34</text>\n</g>\n<!-- 0&#45;&gt;34 -->\n<g id=\"edge8\" class=\"edge\">\n<title>0&#45;&gt;34</title>\n<path fill=\"none\" stroke=\"#000000\" d=\"M21.0925,-257.7478C26.5377,-227.5791 38.4538,-168.5641 51,-151.7982 67.2622,-130.0663 94.4668,-114.8713 115.4022,-105.6669\"/>\n<polygon fill=\"#000000\" stroke=\"#000000\" points=\"116.9274,-108.823 124.8087,-101.7423 114.2321,-102.3627 116.9274,-108.823\"/>\n<text text-anchor=\"middle\" x=\"80\" y=\"-155.5982\" font-family=\"Times,serif\" font-size=\"14.00\" fill=\"#000000\">&lt;epsilon&gt;</text>\n</g>\n<!-- 40 -->\n<g id=\"node10\" class=\"node\">\n<title>40</title>\n<ellipse fill=\"none\" stroke=\"#000000\" cx=\"144.7982\" cy=\"-32.7982\" rx=\"20.5982\" ry=\"20.5982\"/>\n<text text-anchor=\"middle\" x=\"144.7982\" y=\"-29.0982\" font-family=\"Times,serif\" font-size=\"14.00\" fill=\"#000000\">40</text>\n</g>\n<!-- 0&#45;&gt;40 -->\n<g id=\"edge9\" class=\"edge\">\n<title>0&#45;&gt;40</title>\n<path fill=\"none\" stroke=\"#000000\" d=\"M19.2867,-257.6989C22.5278,-216.2952 32.1468,-116.1429 51,-88.7982 66.4275,-66.4221 93.9752,-51.5495 115.2395,-42.7914\"/>\n<polygon fill=\"#000000\" stroke=\"#000000\" points=\"116.7387,-45.9641 124.7965,-39.085 114.2076,-39.4377 116.7387,-45.9641\"/>\n<text text-anchor=\"middle\" x=\"80\" y=\"-92.5982\" font-family=\"Times,serif\" font-size=\"14.00\" fill=\"#000000\">&lt;epsilon&gt;</text>\n</g>\n<!-- 2 -->\n<g id=\"node11\" class=\"node\">\n<title>2</title>\n<ellipse fill=\"none\" stroke=\"#000000\" cx=\"224.3945\" cy=\"-509.7982\" rx=\"18\" ry=\"18\"/>\n<text text-anchor=\"middle\" x=\"224.3945\" y=\"-506.0982\" font-family=\"Times,serif\" font-size=\"14.00\" fill=\"#000000\">2</text>\n</g>\n<!-- 1&#45;&gt;2 -->\n<g id=\"edge10\" class=\"edge\">\n<title>1&#45;&gt;2</title>\n<path fill=\"none\" stroke=\"#000000\" d=\"M162.8598,-507.4789C172.7314,-507.851 185.1767,-508.32 196.2878,-508.7388\"/>\n<polygon fill=\"#000000\" stroke=\"#000000\" points=\"196.2795,-512.2409 206.4043,-509.1201 196.5433,-505.2459 196.2795,-512.2409\"/>\n<text text-anchor=\"middle\" x=\"184.5963\" y=\"-511.5982\" font-family=\"Times,serif\" font-size=\"14.00\" fill=\"#000000\">n</text>\n</g>\n<!-- 5 -->\n<g id=\"node13\" class=\"node\">\n<title>5</title>\n<ellipse fill=\"none\" stroke=\"#000000\" cx=\"224.3945\" cy=\"-450.7982\" rx=\"18\" ry=\"18\"/>\n<text text-anchor=\"middle\" x=\"224.3945\" y=\"-447.0982\" font-family=\"Times,serif\" font-size=\"14.00\" fill=\"#000000\">5</text>\n</g>\n<!-- 4&#45;&gt;5 -->\n<g id=\"edge12\" class=\"edge\">\n<title>4&#45;&gt;5</title>\n<path fill=\"none\" stroke=\"#000000\" d=\"M162.8598,-450.0251C172.6619,-450.1482 185.0015,-450.3032 196.0529,-450.4421\"/>\n<polygon fill=\"#000000\" stroke=\"#000000\" points=\"196.0856,-453.9427 206.1288,-450.5687 196.1736,-446.9432 196.0856,-453.9427\"/>\n<text text-anchor=\"middle\" x=\"184.5963\" y=\"-453.5982\" font-family=\"Times,serif\" font-size=\"14.00\" fill=\"#000000\">t</text>\n</g>\n<!-- 9 -->\n<g id=\"node16\" class=\"node\">\n<title>9</title>\n<ellipse fill=\"none\" stroke=\"#000000\" cx=\"224.3945\" cy=\"-394.7982\" rx=\"18\" ry=\"18\"/>\n<text text-anchor=\"middle\" x=\"224.3945\" y=\"-391.0982\" font-family=\"Times,serif\" font-size=\"14.00\" fill=\"#000000\">9</text>\n</g>\n<!-- 8&#45;&gt;9 -->\n<g id=\"edge15\" class=\"edge\">\n<title>8&#45;&gt;9</title>\n<path fill=\"none\" stroke=\"#000000\" d=\"M162.8598,-394.0251C172.6619,-394.1482 185.0015,-394.3032 196.0529,-394.4421\"/>\n<polygon fill=\"#000000\" stroke=\"#000000\" points=\"196.0856,-397.9427 206.1288,-394.5687 196.1736,-390.9432 196.0856,-397.9427\"/>\n<text text-anchor=\"middle\" x=\"184.5963\" y=\"-397.5982\" font-family=\"Times,serif\" font-size=\"14.00\" fill=\"#000000\">t</text>\n</g>\n<!-- 15 -->\n<g id=\"node21\" class=\"node\">\n<title>15</title>\n<ellipse fill=\"none\" stroke=\"#000000\" cx=\"224.3945\" cy=\"-335.7982\" rx=\"20.5982\" ry=\"20.5982\"/>\n<text text-anchor=\"middle\" x=\"224.3945\" y=\"-332.0982\" font-family=\"Times,serif\" font-size=\"14.00\" fill=\"#000000\">15</text>\n</g>\n<!-- 14&#45;&gt;15 -->\n<g id=\"edge20\" class=\"edge\">\n<title>14&#45;&gt;15</title>\n<path fill=\"none\" stroke=\"#000000\" d=\"M165.7111,-335.7982C174.1446,-335.7982 184.0508,-335.7982 193.298,-335.7982\"/>\n<polygon fill=\"#000000\" stroke=\"#000000\" points=\"193.3448,-339.2983 203.3448,-335.7982 193.3448,-332.2983 193.3448,-339.2983\"/>\n<text text-anchor=\"middle\" x=\"184.5963\" y=\"-339.5982\" font-family=\"Times,serif\" font-size=\"14.00\" fill=\"#000000\">f</text>\n</g>\n<!-- 20 -->\n<g id=\"node25\" class=\"node\">\n<title>20</title>\n<ellipse fill=\"none\" stroke=\"#000000\" cx=\"224.3945\" cy=\"-275.7982\" rx=\"20.5982\" ry=\"20.5982\"/>\n<text text-anchor=\"middle\" x=\"224.3945\" y=\"-272.0982\" font-family=\"Times,serif\" font-size=\"14.00\" fill=\"#000000\">20</text>\n</g>\n<!-- 19&#45;&gt;20 -->\n<g id=\"edge24\" class=\"edge\">\n<title>19&#45;&gt;20</title>\n<path fill=\"none\" stroke=\"#000000\" d=\"M165.7111,-275.7982C174.1446,-275.7982 184.0508,-275.7982 193.298,-275.7982\"/>\n<polygon fill=\"#000000\" stroke=\"#000000\" points=\"193.3448,-279.2983 203.3448,-275.7982 193.3448,-272.2983 193.3448,-279.2983\"/>\n<text text-anchor=\"middle\" x=\"184.5963\" y=\"-279.5982\" font-family=\"Times,serif\" font-size=\"14.00\" fill=\"#000000\">f</text>\n</g>\n<!-- 25 -->\n<g id=\"node29\" class=\"node\">\n<title>25</title>\n<ellipse fill=\"none\" stroke=\"#000000\" cx=\"224.3945\" cy=\"-214.7982\" rx=\"20.5982\" ry=\"20.5982\"/>\n<text text-anchor=\"middle\" x=\"224.3945\" y=\"-211.0982\" font-family=\"Times,serif\" font-size=\"14.00\" fill=\"#000000\">25</text>\n</g>\n<!-- 24&#45;&gt;25 -->\n<g id=\"edge28\" class=\"edge\">\n<title>24&#45;&gt;25</title>\n<path fill=\"none\" stroke=\"#000000\" d=\"M165.7111,-215.5354C174.1446,-215.4295 184.0508,-215.305 193.298,-215.1888\"/>\n<polygon fill=\"#000000\" stroke=\"#000000\" points=\"193.3896,-218.6881 203.3448,-215.0626 193.3016,-211.6886 193.3896,-218.6881\"/>\n<text text-anchor=\"middle\" x=\"184.5963\" y=\"-218.5982\" font-family=\"Times,serif\" font-size=\"14.00\" fill=\"#000000\">s</text>\n</g>\n<!-- 29 -->\n<g id=\"node32\" class=\"node\">\n<title>29</title>\n<ellipse fill=\"none\" stroke=\"#000000\" cx=\"224.3945\" cy=\"-151.7982\" rx=\"20.5982\" ry=\"20.5982\"/>\n<text text-anchor=\"middle\" x=\"224.3945\" y=\"-148.0982\" font-family=\"Times,serif\" font-size=\"14.00\" fill=\"#000000\">29</text>\n</g>\n<!-- 28&#45;&gt;29 -->\n<g id=\"edge31\" class=\"edge\">\n<title>28&#45;&gt;29</title>\n<path fill=\"none\" stroke=\"#000000\" d=\"M165.7111,-154.7472C174.2115,-154.32 184.2081,-153.8177 193.5181,-153.3498\"/>\n<polygon fill=\"#000000\" stroke=\"#000000\" points=\"193.8094,-156.8397 203.6211,-152.8421 193.458,-149.8485 193.8094,-156.8397\"/>\n<text text-anchor=\"middle\" x=\"184.5963\" y=\"-157.5982\" font-family=\"Times,serif\" font-size=\"14.00\" fill=\"#000000\">s</text>\n</g>\n<!-- 35 -->\n<g id=\"node37\" class=\"node\">\n<title>35</title>\n<ellipse fill=\"none\" stroke=\"#000000\" cx=\"224.3945\" cy=\"-89.7982\" rx=\"20.5982\" ry=\"20.5982\"/>\n<text text-anchor=\"middle\" x=\"224.3945\" y=\"-86.0982\" font-family=\"Times,serif\" font-size=\"14.00\" fill=\"#000000\">35</text>\n</g>\n<!-- 34&#45;&gt;35 -->\n<g id=\"edge36\" class=\"edge\">\n<title>34&#45;&gt;35</title>\n<path fill=\"none\" stroke=\"#000000\" d=\"M165.7111,-93.4845C174.2115,-92.9505 184.2081,-92.3225 193.5181,-91.7377\"/>\n<polygon fill=\"#000000\" stroke=\"#000000\" points=\"193.8603,-95.2232 203.6211,-91.1031 193.4214,-88.237 193.8603,-95.2232\"/>\n<text text-anchor=\"middle\" x=\"184.5963\" y=\"-95.5982\" font-family=\"Times,serif\" font-size=\"14.00\" fill=\"#000000\">e</text>\n</g>\n<!-- 41 -->\n<g id=\"node42\" class=\"node\">\n<title>41</title>\n<ellipse fill=\"none\" stroke=\"#000000\" cx=\"224.3945\" cy=\"-26.7982\" rx=\"20.5982\" ry=\"20.5982\"/>\n<text text-anchor=\"middle\" x=\"224.3945\" y=\"-23.0982\" font-family=\"Times,serif\" font-size=\"14.00\" fill=\"#000000\">41</text>\n</g>\n<!-- 40&#45;&gt;41 -->\n<g id=\"edge41\" class=\"edge\">\n<title>40&#45;&gt;41</title>\n<path fill=\"none\" stroke=\"#000000\" d=\"M165.7111,-31.2217C174.2115,-30.581 184.2081,-29.8274 193.5181,-29.1256\"/>\n<polygon fill=\"#000000\" stroke=\"#000000\" points=\"193.9125,-32.6059 203.6211,-28.3641 193.3863,-25.6257 193.9125,-32.6059\"/>\n<text text-anchor=\"middle\" x=\"184.5963\" y=\"-34.5982\" font-family=\"Times,serif\" font-size=\"14.00\" fill=\"#000000\">n</text>\n</g>\n<!-- 3 -->\n<g id=\"node12\" class=\"node\">\n<title>3</title>\n<ellipse fill=\"none\" stroke=\"#000000\" cx=\"308.1926\" cy=\"-510.7982\" rx=\"18\" ry=\"18\"/>\n<ellipse fill=\"none\" stroke=\"#000000\" cx=\"308.1926\" cy=\"-510.7982\" rx=\"22\" ry=\"22\"/>\n<text text-anchor=\"middle\" x=\"308.1926\" y=\"-507.0982\" font-family=\"Times,serif\" font-size=\"14.00\" fill=\"#000000\">3</text>\n</g>\n<!-- 2&#45;&gt;3 -->\n<g id=\"edge11\" class=\"edge\">\n<title>2&#45;&gt;3</title>\n<path fill=\"none\" stroke=\"#000000\" d=\"M242.5774,-510.0151C252.3806,-510.1321 264.7666,-510.2799 276.1296,-510.4155\"/>\n<polygon fill=\"#000000\" stroke=\"#000000\" points=\"276.1328,-513.9157 286.1739,-510.5354 276.2164,-506.9162 276.1328,-513.9157\"/>\n<text text-anchor=\"middle\" x=\"265.6926\" y=\"-513.5982\" font-family=\"Times,serif\" font-size=\"14.00\" fill=\"#000000\">e</text>\n</g>\n<!-- 6 -->\n<g id=\"node14\" class=\"node\">\n<title>6</title>\n<ellipse fill=\"none\" stroke=\"#000000\" cx=\"308.1926\" cy=\"-452.7982\" rx=\"18\" ry=\"18\"/>\n<text text-anchor=\"middle\" x=\"308.1926\" y=\"-449.0982\" font-family=\"Times,serif\" font-size=\"14.00\" fill=\"#000000\">6</text>\n</g>\n<!-- 5&#45;&gt;6 -->\n<g id=\"edge13\" class=\"edge\">\n<title>5&#45;&gt;6</title>\n<path fill=\"none\" stroke=\"#000000\" d=\"M242.5774,-451.2321C253.4487,-451.4916 267.496,-451.8269 279.8023,-452.1206\"/>\n<polygon fill=\"#000000\" stroke=\"#000000\" points=\"279.9645,-455.6253 290.0452,-452.365 280.1315,-448.6273 279.9645,-455.6253\"/>\n<text text-anchor=\"middle\" x=\"265.6926\" y=\"-455.5982\" font-family=\"Times,serif\" font-size=\"14.00\" fill=\"#000000\">w</text>\n</g>\n<!-- 7 -->\n<g id=\"node15\" class=\"node\">\n<title>7</title>\n<ellipse fill=\"none\" stroke=\"#000000\" cx=\"392.9908\" cy=\"-455.7982\" rx=\"18\" ry=\"18\"/>\n<ellipse fill=\"none\" stroke=\"#000000\" cx=\"392.9908\" cy=\"-455.7982\" rx=\"22\" ry=\"22\"/>\n<text text-anchor=\"middle\" x=\"392.9908\" y=\"-452.0982\" font-family=\"Times,serif\" font-size=\"14.00\" fill=\"#000000\">7</text>\n</g>\n<!-- 6&#45;&gt;7 -->\n<g id=\"edge14\" class=\"edge\">\n<title>6&#45;&gt;7</title>\n<path fill=\"none\" stroke=\"#000000\" d=\"M326.5926,-453.4491C336.5128,-453.8001 349.0465,-454.2435 360.5451,-454.6503\"/>\n<polygon fill=\"#000000\" stroke=\"#000000\" points=\"360.5918,-458.154 370.7093,-455.0099 360.8394,-451.1584 360.5918,-458.154\"/>\n<text text-anchor=\"middle\" x=\"349.1926\" y=\"-457.5982\" font-family=\"Times,serif\" font-size=\"14.00\" fill=\"#000000\">o</text>\n</g>\n<!-- 10 -->\n<g id=\"node17\" class=\"node\">\n<title>10</title>\n<ellipse fill=\"none\" stroke=\"#000000\" cx=\"308.1926\" cy=\"-395.7982\" rx=\"20.5982\" ry=\"20.5982\"/>\n<text text-anchor=\"middle\" x=\"308.1926\" y=\"-392.0982\" font-family=\"Times,serif\" font-size=\"14.00\" fill=\"#000000\">10</text>\n</g>\n<!-- 9&#45;&gt;10 -->\n<g id=\"edge16\" class=\"edge\">\n<title>9&#45;&gt;10</title>\n<path fill=\"none\" stroke=\"#000000\" d=\"M242.5774,-395.0151C252.6755,-395.1356 265.5139,-395.2889 277.1519,-395.4277\"/>\n<polygon fill=\"#000000\" stroke=\"#000000\" points=\"277.3482,-398.9302 287.3893,-395.5499 277.4318,-391.9307 277.3482,-398.9302\"/>\n<text text-anchor=\"middle\" x=\"265.6926\" y=\"-398.5982\" font-family=\"Times,serif\" font-size=\"14.00\" fill=\"#000000\">h</text>\n</g>\n<!-- 11 -->\n<g id=\"node18\" class=\"node\">\n<title>11</title>\n<ellipse fill=\"none\" stroke=\"#000000\" cx=\"392.9908\" cy=\"-395.7982\" rx=\"20.2975\" ry=\"20.2975\"/>\n<text text-anchor=\"middle\" x=\"392.9908\" y=\"-392.0982\" font-family=\"Times,serif\" font-size=\"14.00\" fill=\"#000000\">11</text>\n</g>\n<!-- 10&#45;&gt;11 -->\n<g id=\"edge17\" class=\"edge\">\n<title>10&#45;&gt;11</title>\n<path fill=\"none\" stroke=\"#000000\" d=\"M329.154,-395.7982C339.1891,-395.7982 351.3985,-395.7982 362.4417,-395.7982\"/>\n<polygon fill=\"#000000\" stroke=\"#000000\" points=\"362.5632,-399.2983 372.5632,-395.7982 362.5631,-392.2983 362.5632,-399.2983\"/>\n<text text-anchor=\"middle\" x=\"349.1926\" y=\"-399.5982\" font-family=\"Times,serif\" font-size=\"14.00\" fill=\"#000000\">r</text>\n</g>\n<!-- 12 -->\n<g id=\"node19\" class=\"node\">\n<title>12</title>\n<ellipse fill=\"none\" stroke=\"#000000\" cx=\"480.5871\" cy=\"-400.7982\" rx=\"20.5982\" ry=\"20.5982\"/>\n<text text-anchor=\"middle\" x=\"480.5871\" y=\"-397.0982\" font-family=\"Times,serif\" font-size=\"14.00\" fill=\"#000000\">12</text>\n</g>\n<!-- 11&#45;&gt;12 -->\n<g id=\"edge18\" class=\"edge\">\n<title>11&#45;&gt;12</title>\n<path fill=\"none\" stroke=\"#000000\" d=\"M413.3073,-396.9578C424.0962,-397.5737 437.5839,-398.3435 449.6447,-399.032\"/>\n<polygon fill=\"#000000\" stroke=\"#000000\" points=\"449.5892,-402.5344 459.7724,-399.6101 449.9882,-395.5458 449.5892,-402.5344\"/>\n<text text-anchor=\"middle\" x=\"436.7889\" y=\"-401.5982\" font-family=\"Times,serif\" font-size=\"14.00\" fill=\"#000000\">e</text>\n</g>\n<!-- 13 -->\n<g id=\"node20\" class=\"node\">\n<title>13</title>\n<ellipse fill=\"none\" stroke=\"#000000\" cx=\"568.1834\" cy=\"-400.7982\" rx=\"20.6302\" ry=\"20.6302\"/>\n<ellipse fill=\"none\" stroke=\"#000000\" cx=\"568.1834\" cy=\"-400.7982\" rx=\"24.5979\" ry=\"24.5979\"/>\n<text text-anchor=\"middle\" x=\"568.1834\" y=\"-397.0982\" font-family=\"Times,serif\" font-size=\"14.00\" fill=\"#000000\">13</text>\n</g>\n<!-- 12&#45;&gt;13 -->\n<g id=\"edge19\" class=\"edge\">\n<title>12&#45;&gt;13</title>\n<path fill=\"none\" stroke=\"#000000\" d=\"M501.7917,-400.7982C511.1336,-400.7982 522.3639,-400.7982 532.9086,-400.7982\"/>\n<polygon fill=\"#000000\" stroke=\"#000000\" points=\"533.1295,-404.2983 543.1294,-400.7982 533.1294,-397.2983 533.1295,-404.2983\"/>\n<text text-anchor=\"middle\" x=\"524.3852\" y=\"-404.5982\" font-family=\"Times,serif\" font-size=\"14.00\" fill=\"#000000\">e</text>\n</g>\n<!-- 16 -->\n<g id=\"node22\" class=\"node\">\n<title>16</title>\n<ellipse fill=\"none\" stroke=\"#000000\" cx=\"308.1926\" cy=\"-335.7982\" rx=\"20.5982\" ry=\"20.5982\"/>\n<text text-anchor=\"middle\" x=\"308.1926\" y=\"-332.0982\" font-family=\"Times,serif\" font-size=\"14.00\" fill=\"#000000\">16</text>\n</g>\n<!-- 15&#45;&gt;16 -->\n<g id=\"edge21\" class=\"edge\">\n<title>15&#45;&gt;16</title>\n<path fill=\"none\" stroke=\"#000000\" d=\"M245.5403,-335.7982C255.1404,-335.7982 266.6851,-335.7982 277.2348,-335.7982\"/>\n<polygon fill=\"#000000\" stroke=\"#000000\" points=\"277.3439,-339.2983 287.3439,-335.7982 277.3438,-332.2983 277.3439,-339.2983\"/>\n<text text-anchor=\"middle\" x=\"265.6926\" y=\"-339.5982\" font-family=\"Times,serif\" font-size=\"14.00\" fill=\"#000000\">o</text>\n</g>\n<!-- 17 -->\n<g id=\"node23\" class=\"node\">\n<title>17</title>\n<ellipse fill=\"none\" stroke=\"#000000\" cx=\"392.9908\" cy=\"-336.7982\" rx=\"20.5982\" ry=\"20.5982\"/>\n<text text-anchor=\"middle\" x=\"392.9908\" y=\"-333.0982\" font-family=\"Times,serif\" font-size=\"14.00\" fill=\"#000000\">17</text>\n</g>\n<!-- 16&#45;&gt;17 -->\n<g id=\"edge22\" class=\"edge\">\n<title>16&#45;&gt;17</title>\n<path fill=\"none\" stroke=\"#000000\" d=\"M329.154,-336.0453C339.0404,-336.1619 351.0372,-336.3034 361.9501,-336.4321\"/>\n<polygon fill=\"#000000\" stroke=\"#000000\" points=\"361.9361,-339.9321 371.9767,-336.5503 362.0187,-332.9326 361.9361,-339.9321\"/>\n<text text-anchor=\"middle\" x=\"349.1926\" y=\"-339.5982\" font-family=\"Times,serif\" font-size=\"14.00\" fill=\"#000000\">u</text>\n</g>\n<!-- 18 -->\n<g id=\"node24\" class=\"node\">\n<title>18</title>\n<ellipse fill=\"none\" stroke=\"#000000\" cx=\"480.5871\" cy=\"-336.7982\" rx=\"20.6302\" ry=\"20.6302\"/>\n<ellipse fill=\"none\" stroke=\"#000000\" cx=\"480.5871\" cy=\"-336.7982\" rx=\"24.5979\" ry=\"24.5979\"/>\n<text text-anchor=\"middle\" x=\"480.5871\" y=\"-333.0982\" font-family=\"Times,serif\" font-size=\"14.00\" fill=\"#000000\">18</text>\n</g>\n<!-- 17&#45;&gt;18 -->\n<g id=\"edge23\" class=\"edge\">\n<title>17&#45;&gt;18</title>\n<path fill=\"none\" stroke=\"#000000\" d=\"M414.1954,-336.7982C423.5373,-336.7982 434.7676,-336.7982 445.3123,-336.7982\"/>\n<polygon fill=\"#000000\" stroke=\"#000000\" points=\"445.5332,-340.2983 455.5331,-336.7982 445.5331,-333.2983 445.5332,-340.2983\"/>\n<text text-anchor=\"middle\" x=\"436.7889\" y=\"-340.5982\" font-family=\"Times,serif\" font-size=\"14.00\" fill=\"#000000\">r</text>\n</g>\n<!-- 21 -->\n<g id=\"node26\" class=\"node\">\n<title>21</title>\n<ellipse fill=\"none\" stroke=\"#000000\" cx=\"308.1926\" cy=\"-275.7982\" rx=\"20.5982\" ry=\"20.5982\"/>\n<text text-anchor=\"middle\" x=\"308.1926\" y=\"-272.0982\" font-family=\"Times,serif\" font-size=\"14.00\" fill=\"#000000\">21</text>\n</g>\n<!-- 20&#45;&gt;21 -->\n<g id=\"edge25\" class=\"edge\">\n<title>20&#45;&gt;21</title>\n<path fill=\"none\" stroke=\"#000000\" d=\"M245.5403,-275.7982C255.1404,-275.7982 266.6851,-275.7982 277.2348,-275.7982\"/>\n<polygon fill=\"#000000\" stroke=\"#000000\" points=\"277.3439,-279.2983 287.3439,-275.7982 277.3438,-272.2983 277.3439,-279.2983\"/>\n<text text-anchor=\"middle\" x=\"265.6926\" y=\"-279.5982\" font-family=\"Times,serif\" font-size=\"14.00\" fill=\"#000000\">i</text>\n</g>\n<!-- 22 -->\n<g id=\"node27\" class=\"node\">\n<title>22</title>\n<ellipse fill=\"none\" stroke=\"#000000\" cx=\"392.9908\" cy=\"-276.7982\" rx=\"20.5982\" ry=\"20.5982\"/>\n<text text-anchor=\"middle\" x=\"392.9908\" y=\"-273.0982\" font-family=\"Times,serif\" font-size=\"14.00\" fill=\"#000000\">22</text>\n</g>\n<!-- 21&#45;&gt;22 -->\n<g id=\"edge26\" class=\"edge\">\n<title>21&#45;&gt;22</title>\n<path fill=\"none\" stroke=\"#000000\" d=\"M329.154,-276.0453C339.0404,-276.1619 351.0372,-276.3034 361.9501,-276.4321\"/>\n<polygon fill=\"#000000\" stroke=\"#000000\" points=\"361.9361,-279.9321 371.9767,-276.5503 362.0187,-272.9326 361.9361,-279.9321\"/>\n<text text-anchor=\"middle\" x=\"349.1926\" y=\"-279.5982\" font-family=\"Times,serif\" font-size=\"14.00\" fill=\"#000000\">v</text>\n</g>\n<!-- 23 -->\n<g id=\"node28\" class=\"node\">\n<title>23</title>\n<ellipse fill=\"none\" stroke=\"#000000\" cx=\"480.5871\" cy=\"-268.7982\" rx=\"20.6302\" ry=\"20.6302\"/>\n<ellipse fill=\"none\" stroke=\"#000000\" cx=\"480.5871\" cy=\"-268.7982\" rx=\"24.5979\" ry=\"24.5979\"/>\n<text text-anchor=\"middle\" x=\"480.5871\" y=\"-265.0982\" font-family=\"Times,serif\" font-size=\"14.00\" fill=\"#000000\">23</text>\n</g>\n<!-- 22&#45;&gt;23 -->\n<g id=\"edge27\" class=\"edge\">\n<title>22&#45;&gt;23</title>\n<path fill=\"none\" stroke=\"#000000\" d=\"M413.7499,-274.9023C423.2581,-274.0339 434.7915,-272.9806 445.5822,-271.9951\"/>\n<polygon fill=\"#000000\" stroke=\"#000000\" points=\"445.9698,-275.4743 455.61,-271.0793 445.3331,-268.5033 445.9698,-275.4743\"/>\n<text text-anchor=\"middle\" x=\"436.7889\" y=\"-276.5982\" font-family=\"Times,serif\" font-size=\"14.00\" fill=\"#000000\">e</text>\n</g>\n<!-- 26 -->\n<g id=\"node30\" class=\"node\">\n<title>26</title>\n<ellipse fill=\"none\" stroke=\"#000000\" cx=\"308.1926\" cy=\"-212.7982\" rx=\"20.5982\" ry=\"20.5982\"/>\n<text text-anchor=\"middle\" x=\"308.1926\" y=\"-209.0982\" font-family=\"Times,serif\" font-size=\"14.00\" fill=\"#000000\">26</text>\n</g>\n<!-- 25&#45;&gt;26 -->\n<g id=\"edge29\" class=\"edge\">\n<title>25&#45;&gt;26</title>\n<path fill=\"none\" stroke=\"#000000\" d=\"M245.5403,-214.2935C255.1404,-214.0643 266.6851,-213.7888 277.2348,-213.537\"/>\n<polygon fill=\"#000000\" stroke=\"#000000\" points=\"277.4302,-217.0335 287.3439,-213.2957 277.2632,-210.0354 277.4302,-217.0335\"/>\n<text text-anchor=\"middle\" x=\"265.6926\" y=\"-217.5982\" font-family=\"Times,serif\" font-size=\"14.00\" fill=\"#000000\">i</text>\n</g>\n<!-- 27 -->\n<g id=\"node31\" class=\"node\">\n<title>27</title>\n<ellipse fill=\"none\" stroke=\"#000000\" cx=\"392.9908\" cy=\"-212.7982\" rx=\"20.6302\" ry=\"20.6302\"/>\n<ellipse fill=\"none\" stroke=\"#000000\" cx=\"392.9908\" cy=\"-212.7982\" rx=\"24.5979\" ry=\"24.5979\"/>\n<text text-anchor=\"middle\" x=\"392.9908\" y=\"-209.0982\" font-family=\"Times,serif\" font-size=\"14.00\" fill=\"#000000\">27</text>\n</g>\n<!-- 26&#45;&gt;27 -->\n<g id=\"edge30\" class=\"edge\">\n<title>26&#45;&gt;27</title>\n<path fill=\"none\" stroke=\"#000000\" d=\"M329.154,-212.7982C337.7982,-212.7982 348.0557,-212.7982 357.7915,-212.7982\"/>\n<polygon fill=\"#000000\" stroke=\"#000000\" points=\"358.0501,-216.2983 368.0501,-212.7982 358.05,-209.2983 358.0501,-216.2983\"/>\n<text text-anchor=\"middle\" x=\"349.1926\" y=\"-216.5982\" font-family=\"Times,serif\" font-size=\"14.00\" fill=\"#000000\">x</text>\n</g>\n<!-- 30 -->\n<g id=\"node33\" class=\"node\">\n<title>30</title>\n<ellipse fill=\"none\" stroke=\"#000000\" cx=\"308.1926\" cy=\"-149.7982\" rx=\"20.5982\" ry=\"20.5982\"/>\n<text text-anchor=\"middle\" x=\"308.1926\" y=\"-146.0982\" font-family=\"Times,serif\" font-size=\"14.00\" fill=\"#000000\">30</text>\n</g>\n<!-- 29&#45;&gt;30 -->\n<g id=\"edge32\" class=\"edge\">\n<title>29&#45;&gt;30</title>\n<path fill=\"none\" stroke=\"#000000\" d=\"M245.5403,-151.2935C255.1404,-151.0643 266.6851,-150.7888 277.2348,-150.537\"/>\n<polygon fill=\"#000000\" stroke=\"#000000\" points=\"277.4302,-154.0335 287.3439,-150.2957 277.2632,-147.0354 277.4302,-154.0335\"/>\n<text text-anchor=\"middle\" x=\"265.6926\" y=\"-154.5982\" font-family=\"Times,serif\" font-size=\"14.00\" fill=\"#000000\">e</text>\n</g>\n<!-- 31 -->\n<g id=\"node34\" class=\"node\">\n<title>31</title>\n<ellipse fill=\"none\" stroke=\"#000000\" cx=\"392.9908\" cy=\"-148.7982\" rx=\"20.5982\" ry=\"20.5982\"/>\n<text text-anchor=\"middle\" x=\"392.9908\" y=\"-145.0982\" font-family=\"Times,serif\" font-size=\"14.00\" fill=\"#000000\">31</text>\n</g>\n<!-- 30&#45;&gt;31 -->\n<g id=\"edge33\" class=\"edge\">\n<title>30&#45;&gt;31</title>\n<path fill=\"none\" stroke=\"#000000\" d=\"M329.154,-149.551C339.0404,-149.4344 351.0372,-149.2929 361.9501,-149.1642\"/>\n<polygon fill=\"#000000\" stroke=\"#000000\" points=\"362.0187,-152.6637 371.9767,-149.046 361.9361,-145.6642 362.0187,-152.6637\"/>\n<text text-anchor=\"middle\" x=\"349.1926\" y=\"-152.5982\" font-family=\"Times,serif\" font-size=\"14.00\" fill=\"#000000\">v</text>\n</g>\n<!-- 32 -->\n<g id=\"node35\" class=\"node\">\n<title>32</title>\n<ellipse fill=\"none\" stroke=\"#000000\" cx=\"480.5871\" cy=\"-153.7982\" rx=\"20.5982\" ry=\"20.5982\"/>\n<text text-anchor=\"middle\" x=\"480.5871\" y=\"-150.0982\" font-family=\"Times,serif\" font-size=\"14.00\" fill=\"#000000\">32</text>\n</g>\n<!-- 31&#45;&gt;32 -->\n<g id=\"edge34\" class=\"edge\">\n<title>31&#45;&gt;32</title>\n<path fill=\"none\" stroke=\"#000000\" d=\"M414.1954,-150.0085C424.7398,-150.6104 437.6902,-151.3496 449.3449,-152.0148\"/>\n<polygon fill=\"#000000\" stroke=\"#000000\" points=\"449.3945,-155.5233 459.5777,-152.5989 449.7935,-148.5347 449.3945,-155.5233\"/>\n<text text-anchor=\"middle\" x=\"436.7889\" y=\"-154.5982\" font-family=\"Times,serif\" font-size=\"14.00\" fill=\"#000000\">e</text>\n</g>\n<!-- 33 -->\n<g id=\"node36\" class=\"node\">\n<title>33</title>\n<ellipse fill=\"none\" stroke=\"#000000\" cx=\"568.1834\" cy=\"-155.7982\" rx=\"20.6302\" ry=\"20.6302\"/>\n<ellipse fill=\"none\" stroke=\"#000000\" cx=\"568.1834\" cy=\"-155.7982\" rx=\"24.5979\" ry=\"24.5979\"/>\n<text text-anchor=\"middle\" x=\"568.1834\" y=\"-152.0982\" font-family=\"Times,serif\" font-size=\"14.00\" fill=\"#000000\">33</text>\n</g>\n<!-- 32&#45;&gt;33 -->\n<g id=\"edge35\" class=\"edge\">\n<title>32&#45;&gt;33</title>\n<path fill=\"none\" stroke=\"#000000\" d=\"M501.7917,-154.2823C511.1336,-154.4956 522.3639,-154.752 532.9086,-154.9928\"/>\n<polygon fill=\"#000000\" stroke=\"#000000\" points=\"533.0521,-158.4969 543.1294,-155.2261 533.212,-151.4987 533.0521,-158.4969\"/>\n<text text-anchor=\"middle\" x=\"524.3852\" y=\"-158.5982\" font-family=\"Times,serif\" font-size=\"14.00\" fill=\"#000000\">n</text>\n</g>\n<!-- 36 -->\n<g id=\"node38\" class=\"node\">\n<title>36</title>\n<ellipse fill=\"none\" stroke=\"#000000\" cx=\"308.1926\" cy=\"-88.7982\" rx=\"20.5982\" ry=\"20.5982\"/>\n<text text-anchor=\"middle\" x=\"308.1926\" y=\"-85.0982\" font-family=\"Times,serif\" font-size=\"14.00\" fill=\"#000000\">36</text>\n</g>\n<!-- 35&#45;&gt;36 -->\n<g id=\"edge37\" class=\"edge\">\n<title>35&#45;&gt;36</title>\n<path fill=\"none\" stroke=\"#000000\" d=\"M245.5403,-89.5458C255.1404,-89.4313 266.6851,-89.2935 277.2348,-89.1676\"/>\n<polygon fill=\"#000000\" stroke=\"#000000\" points=\"277.3864,-92.6661 287.3439,-89.047 277.3028,-85.6666 277.3864,-92.6661\"/>\n<text text-anchor=\"middle\" x=\"265.6926\" y=\"-92.5982\" font-family=\"Times,serif\" font-size=\"14.00\" fill=\"#000000\">i</text>\n</g>\n<!-- 37 -->\n<g id=\"node39\" class=\"node\">\n<title>37</title>\n<ellipse fill=\"none\" stroke=\"#000000\" cx=\"392.9908\" cy=\"-88.7982\" rx=\"20.5982\" ry=\"20.5982\"/>\n<text text-anchor=\"middle\" x=\"392.9908\" y=\"-85.0982\" font-family=\"Times,serif\" font-size=\"14.00\" fill=\"#000000\">37</text>\n</g>\n<!-- 36&#45;&gt;37 -->\n<g id=\"edge38\" class=\"edge\">\n<title>36&#45;&gt;37</title>\n<path fill=\"none\" stroke=\"#000000\" d=\"M329.154,-88.7982C339.0404,-88.7982 351.0372,-88.7982 361.9501,-88.7982\"/>\n<polygon fill=\"#000000\" stroke=\"#000000\" points=\"361.9767,-92.2983 371.9767,-88.7982 361.9766,-85.2983 361.9767,-92.2983\"/>\n<text text-anchor=\"middle\" x=\"349.1926\" y=\"-92.5982\" font-family=\"Times,serif\" font-size=\"14.00\" fill=\"#000000\">g</text>\n</g>\n<!-- 38 -->\n<g id=\"node40\" class=\"node\">\n<title>38</title>\n<ellipse fill=\"none\" stroke=\"#000000\" cx=\"480.5871\" cy=\"-88.7982\" rx=\"20.5982\" ry=\"20.5982\"/>\n<text text-anchor=\"middle\" x=\"480.5871\" y=\"-85.0982\" font-family=\"Times,serif\" font-size=\"14.00\" fill=\"#000000\">38</text>\n</g>\n<!-- 37&#45;&gt;38 -->\n<g id=\"edge39\" class=\"edge\">\n<title>37&#45;&gt;38</title>\n<path fill=\"none\" stroke=\"#000000\" d=\"M414.1954,-88.7982C424.7398,-88.7982 437.6902,-88.7982 449.3449,-88.7982\"/>\n<polygon fill=\"#000000\" stroke=\"#000000\" points=\"449.5778,-92.2983 459.5777,-88.7982 449.5777,-85.2983 449.5778,-92.2983\"/>\n<text text-anchor=\"middle\" x=\"436.7889\" y=\"-92.5982\" font-family=\"Times,serif\" font-size=\"14.00\" fill=\"#000000\">h</text>\n</g>\n<!-- 39 -->\n<g id=\"node41\" class=\"node\">\n<title>39</title>\n<ellipse fill=\"none\" stroke=\"#000000\" cx=\"568.1834\" cy=\"-87.7982\" rx=\"20.6302\" ry=\"20.6302\"/>\n<ellipse fill=\"none\" stroke=\"#000000\" cx=\"568.1834\" cy=\"-87.7982\" rx=\"24.5979\" ry=\"24.5979\"/>\n<text text-anchor=\"middle\" x=\"568.1834\" y=\"-84.0982\" font-family=\"Times,serif\" font-size=\"14.00\" fill=\"#000000\">39</text>\n</g>\n<!-- 38&#45;&gt;39 -->\n<g id=\"edge40\" class=\"edge\">\n<title>38&#45;&gt;39</title>\n<path fill=\"none\" stroke=\"#000000\" d=\"M501.7917,-88.5561C511.1336,-88.4494 522.3639,-88.3212 532.9086,-88.2009\"/>\n<polygon fill=\"#000000\" stroke=\"#000000\" points=\"533.1701,-91.6982 543.1294,-88.0842 533.0901,-84.6986 533.1701,-91.6982\"/>\n<text text-anchor=\"middle\" x=\"524.3852\" y=\"-91.5982\" font-family=\"Times,serif\" font-size=\"14.00\" fill=\"#000000\">t</text>\n</g>\n<!-- 42 -->\n<g id=\"node43\" class=\"node\">\n<title>42</title>\n<ellipse fill=\"none\" stroke=\"#000000\" cx=\"308.1926\" cy=\"-26.7982\" rx=\"20.5982\" ry=\"20.5982\"/>\n<text text-anchor=\"middle\" x=\"308.1926\" y=\"-23.0982\" font-family=\"Times,serif\" font-size=\"14.00\" fill=\"#000000\">42</text>\n</g>\n<!-- 41&#45;&gt;42 -->\n<g id=\"edge42\" class=\"edge\">\n<title>41&#45;&gt;42</title>\n<path fill=\"none\" stroke=\"#000000\" d=\"M245.5403,-26.7982C255.1404,-26.7982 266.6851,-26.7982 277.2348,-26.7982\"/>\n<polygon fill=\"#000000\" stroke=\"#000000\" points=\"277.3439,-30.2983 287.3439,-26.7982 277.3438,-23.2983 277.3439,-30.2983\"/>\n<text text-anchor=\"middle\" x=\"265.6926\" y=\"-30.5982\" font-family=\"Times,serif\" font-size=\"14.00\" fill=\"#000000\">i</text>\n</g>\n<!-- 43 -->\n<g id=\"node44\" class=\"node\">\n<title>43</title>\n<ellipse fill=\"none\" stroke=\"#000000\" cx=\"392.9908\" cy=\"-26.7982\" rx=\"20.5982\" ry=\"20.5982\"/>\n<text text-anchor=\"middle\" x=\"392.9908\" y=\"-23.0982\" font-family=\"Times,serif\" font-size=\"14.00\" fill=\"#000000\">43</text>\n</g>\n<!-- 42&#45;&gt;43 -->\n<g id=\"edge43\" class=\"edge\">\n<title>42&#45;&gt;43</title>\n<path fill=\"none\" stroke=\"#000000\" d=\"M329.154,-26.7982C339.0404,-26.7982 351.0372,-26.7982 361.9501,-26.7982\"/>\n<polygon fill=\"#000000\" stroke=\"#000000\" points=\"361.9767,-30.2983 371.9767,-26.7982 361.9766,-23.2983 361.9767,-30.2983\"/>\n<text text-anchor=\"middle\" x=\"349.1926\" y=\"-30.5982\" font-family=\"Times,serif\" font-size=\"14.00\" fill=\"#000000\">n</text>\n</g>\n<!-- 44 -->\n<g id=\"node45\" class=\"node\">\n<title>44</title>\n<ellipse fill=\"none\" stroke=\"#000000\" cx=\"480.5871\" cy=\"-24.7982\" rx=\"20.6302\" ry=\"20.6302\"/>\n<ellipse fill=\"none\" stroke=\"#000000\" cx=\"480.5871\" cy=\"-24.7982\" rx=\"24.5979\" ry=\"24.5979\"/>\n<text text-anchor=\"middle\" x=\"480.5871\" y=\"-21.0982\" font-family=\"Times,serif\" font-size=\"14.00\" fill=\"#000000\">44</text>\n</g>\n<!-- 43&#45;&gt;44 -->\n<g id=\"edge44\" class=\"edge\">\n<title>43&#45;&gt;44</title>\n<path fill=\"none\" stroke=\"#000000\" d=\"M414.1954,-26.314C423.5373,-26.1007 434.7676,-25.8443 445.3123,-25.6035\"/>\n<polygon fill=\"#000000\" stroke=\"#000000\" points=\"445.6157,-29.0976 455.5331,-25.3702 445.4558,-22.0995 445.6157,-29.0976\"/>\n<text text-anchor=\"middle\" x=\"436.7889\" y=\"-30.5982\" font-family=\"Times,serif\" font-size=\"14.00\" fill=\"#000000\">e</text>\n</g>\n</g>\n</svg>\n"
          },
          "metadata": {
            "tags": []
          },
          "execution_count": 15
        }
      ]
    },
    {
      "cell_type": "markdown",
      "metadata": {
        "id": "1SvucZ6G-TnN",
        "colab_type": "text"
      },
      "source": [
        "As you see, more complex FSAs quickly become quite difficult to understand based on their graphic representation.\n",
        "Optimizing it doesn't really help:"
      ]
    },
    {
      "cell_type": "code",
      "metadata": {
        "id": "bsVi_scP-TnP",
        "colab_type": "code",
        "outputId": "49d89268-789a-4c10-e378-3daf97aead6b",
        "colab": {
          "base_uri": "https://localhost:8080/",
          "height": 568
        }
      },
      "source": [
        "a_1_to_9.optimize()"
      ],
      "execution_count": 0,
      "outputs": [
        {
          "output_type": "execute_result",
          "data": {
            "text/plain": [
              "<vector Fst at 0x7fc15f3f7810>"
            ],
            "image/svg+xml": "<?xml version=\"1.0\" encoding=\"UTF-8\" standalone=\"no\"?>\n<!DOCTYPE svg PUBLIC \"-//W3C//DTD SVG 1.1//EN\"\n \"http://www.w3.org/Graphics/SVG/1.1/DTD/svg11.dtd\">\n<!-- Generated by graphviz version 2.40.1 (20161225.0304)\n -->\n<!-- Title: FST Pages: 1 -->\n<svg width=\"515pt\" height=\"410pt\"\n viewBox=\"0.00 0.00 514.58 410.00\" xmlns=\"http://www.w3.org/2000/svg\" xmlns:xlink=\"http://www.w3.org/1999/xlink\">\n<g id=\"graph0\" class=\"graph\" transform=\"scale(1 1) rotate(0) translate(4 406)\">\n<title>FST</title>\n<polygon fill=\"#ffffff\" stroke=\"transparent\" points=\"-4,4 -4,-406 510.5779,-406 510.5779,4 -4,4\"/>\n<!-- 0 -->\n<g id=\"node1\" class=\"node\">\n<title>0</title>\n<ellipse fill=\"none\" stroke=\"#000000\" stroke-width=\"2\" cx=\"18\" cy=\"-169\" rx=\"18\" ry=\"18\"/>\n<text text-anchor=\"middle\" x=\"18\" y=\"-165.3\" font-family=\"Times,serif\" font-size=\"14.00\" fill=\"#000000\">0</text>\n</g>\n<!-- 1 -->\n<g id=\"node2\" class=\"node\">\n<title>1</title>\n<ellipse fill=\"none\" stroke=\"#000000\" cx=\"92\" cy=\"-34\" rx=\"18\" ry=\"18\"/>\n<text text-anchor=\"middle\" x=\"92\" y=\"-30.3\" font-family=\"Times,serif\" font-size=\"14.00\" fill=\"#000000\">1</text>\n</g>\n<!-- 0&#45;&gt;1 -->\n<g id=\"edge1\" class=\"edge\">\n<title>0&#45;&gt;1</title>\n<path fill=\"none\" stroke=\"#000000\" d=\"M23.657,-151.8828C29.4636,-135.2826 39.2893,-109.6485 51,-89 57.5437,-77.4619 66.154,-65.5532 73.794,-55.7801\"/>\n<polygon fill=\"#000000\" stroke=\"#000000\" points=\"76.6624,-57.7976 80.182,-47.8045 71.1987,-53.4217 76.6624,-57.7976\"/>\n<text text-anchor=\"middle\" x=\"55\" y=\"-92.8\" font-family=\"Times,serif\" font-size=\"14.00\" fill=\"#000000\">e</text>\n</g>\n<!-- 2 -->\n<g id=\"node3\" class=\"node\">\n<title>2</title>\n<ellipse fill=\"none\" stroke=\"#000000\" cx=\"171.7982\" cy=\"-333\" rx=\"18\" ry=\"18\"/>\n<text text-anchor=\"middle\" x=\"171.7982\" y=\"-329.3\" font-family=\"Times,serif\" font-size=\"14.00\" fill=\"#000000\">2</text>\n</g>\n<!-- 0&#45;&gt;2 -->\n<g id=\"edge2\" class=\"edge\">\n<title>0&#45;&gt;2</title>\n<path fill=\"none\" stroke=\"#000000\" d=\"M23.6584,-186.3898C31.7909,-209.211 48.6524,-249.471 74,-276 94.1586,-297.0981 123.8338,-312.8976 145.2042,-322.4473\"/>\n<polygon fill=\"#000000\" stroke=\"#000000\" points=\"144.0924,-325.7789 154.6619,-326.5104 146.8555,-319.3473 144.0924,-325.7789\"/>\n<text text-anchor=\"middle\" x=\"92\" y=\"-306.8\" font-family=\"Times,serif\" font-size=\"14.00\" fill=\"#000000\">f</text>\n</g>\n<!-- 3 -->\n<g id=\"node4\" class=\"node\">\n<title>3</title>\n<ellipse fill=\"none\" stroke=\"#000000\" cx=\"92\" cy=\"-195\" rx=\"18\" ry=\"18\"/>\n<text text-anchor=\"middle\" x=\"92\" y=\"-191.3\" font-family=\"Times,serif\" font-size=\"14.00\" fill=\"#000000\">3</text>\n</g>\n<!-- 0&#45;&gt;3 -->\n<g id=\"edge3\" class=\"edge\">\n<title>0&#45;&gt;3</title>\n<path fill=\"none\" stroke=\"#000000\" d=\"M35.1631,-175.0303C44.1292,-178.1805 55.3019,-182.1061 65.3627,-185.641\"/>\n<polygon fill=\"#000000\" stroke=\"#000000\" points=\"64.3352,-188.9896 74.93,-189.0024 66.6556,-182.3854 64.3352,-188.9896\"/>\n<text text-anchor=\"middle\" x=\"55\" y=\"-185.8\" font-family=\"Times,serif\" font-size=\"14.00\" fill=\"#000000\">n</text>\n</g>\n<!-- 4 -->\n<g id=\"node5\" class=\"node\">\n<title>4</title>\n<ellipse fill=\"none\" stroke=\"#000000\" cx=\"171.7982\" cy=\"-181\" rx=\"18\" ry=\"18\"/>\n<text text-anchor=\"middle\" x=\"171.7982\" y=\"-177.3\" font-family=\"Times,serif\" font-size=\"14.00\" fill=\"#000000\">4</text>\n</g>\n<!-- 0&#45;&gt;4 -->\n<g id=\"edge4\" class=\"edge\">\n<title>0&#45;&gt;4</title>\n<path fill=\"none\" stroke=\"#000000\" d=\"M34.6986,-162.2315C53.1925,-155.632 83.8531,-147.3529 110,-153 122.8229,-155.7694 136.1853,-161.4289 147.1907,-166.9395\"/>\n<polygon fill=\"#000000\" stroke=\"#000000\" points=\"145.7026,-170.1113 156.1825,-171.6674 148.9603,-163.9156 145.7026,-170.1113\"/>\n<text text-anchor=\"middle\" x=\"92\" y=\"-156.8\" font-family=\"Times,serif\" font-size=\"14.00\" fill=\"#000000\">o</text>\n</g>\n<!-- 5 -->\n<g id=\"node6\" class=\"node\">\n<title>5</title>\n<ellipse fill=\"none\" stroke=\"#000000\" cx=\"92\" cy=\"-90\" rx=\"18\" ry=\"18\"/>\n<text text-anchor=\"middle\" x=\"92\" y=\"-86.3\" font-family=\"Times,serif\" font-size=\"14.00\" fill=\"#000000\">5</text>\n</g>\n<!-- 0&#45;&gt;5 -->\n<g id=\"edge5\" class=\"edge\">\n<title>0&#45;&gt;5</title>\n<path fill=\"none\" stroke=\"#000000\" d=\"M25.4836,-152.482C31.2689,-141.0019 40.1181,-125.8712 51,-115 55.5341,-110.4704 61.0423,-106.4068 66.5307,-102.9378\"/>\n<polygon fill=\"#000000\" stroke=\"#000000\" points=\"68.6851,-105.734 75.5731,-97.6838 65.1683,-99.6815 68.6851,-105.734\"/>\n<text text-anchor=\"middle\" x=\"55\" y=\"-118.8\" font-family=\"Times,serif\" font-size=\"14.00\" fill=\"#000000\">s</text>\n</g>\n<!-- 6 -->\n<g id=\"node7\" class=\"node\">\n<title>6</title>\n<ellipse fill=\"none\" stroke=\"#000000\" cx=\"92\" cy=\"-249\" rx=\"18\" ry=\"18\"/>\n<text text-anchor=\"middle\" x=\"92\" y=\"-245.3\" font-family=\"Times,serif\" font-size=\"14.00\" fill=\"#000000\">6</text>\n</g>\n<!-- 0&#45;&gt;6 -->\n<g id=\"edge6\" class=\"edge\">\n<title>0&#45;&gt;6</title>\n<path fill=\"none\" stroke=\"#000000\" d=\"M30.5531,-182.5709C42.1042,-195.0586 59.4091,-213.7666 72.7141,-228.1504\"/>\n<polygon fill=\"#000000\" stroke=\"#000000\" points=\"70.2725,-230.6651 79.6323,-235.6295 75.4112,-225.9118 70.2725,-230.6651\"/>\n<text text-anchor=\"middle\" x=\"55\" y=\"-214.8\" font-family=\"Times,serif\" font-size=\"14.00\" fill=\"#000000\">t</text>\n</g>\n<!-- 7 -->\n<g id=\"node8\" class=\"node\">\n<title>7</title>\n<ellipse fill=\"none\" stroke=\"#000000\" cx=\"171.7982\" cy=\"-18\" rx=\"18\" ry=\"18\"/>\n<text text-anchor=\"middle\" x=\"171.7982\" y=\"-14.3\" font-family=\"Times,serif\" font-size=\"14.00\" fill=\"#000000\">7</text>\n</g>\n<!-- 1&#45;&gt;7 -->\n<g id=\"edge7\" class=\"edge\">\n<title>1&#45;&gt;7</title>\n<path fill=\"none\" stroke=\"#000000\" d=\"M109.7098,-30.4491C119.8344,-28.419 132.754,-25.8286 144.1834,-23.5369\"/>\n<polygon fill=\"#000000\" stroke=\"#000000\" points=\"145.0211,-26.9387 154.1379,-21.541 143.6449,-20.0753 145.0211,-26.9387\"/>\n<text text-anchor=\"middle\" x=\"130.5\" y=\"-30.8\" font-family=\"Times,serif\" font-size=\"14.00\" fill=\"#000000\">i</text>\n</g>\n<!-- 9 -->\n<g id=\"node9\" class=\"node\">\n<title>9</title>\n<ellipse fill=\"none\" stroke=\"#000000\" cx=\"284.9908\" cy=\"-330\" rx=\"18\" ry=\"18\"/>\n<text text-anchor=\"middle\" x=\"284.9908\" y=\"-326.3\" font-family=\"Times,serif\" font-size=\"14.00\" fill=\"#000000\">9</text>\n</g>\n<!-- 2&#45;&gt;9 -->\n<g id=\"edge8\" class=\"edge\">\n<title>2&#45;&gt;9</title>\n<path fill=\"none\" stroke=\"#000000\" d=\"M189.9845,-332.518C207.972,-332.0413 235.7604,-331.3048 256.6456,-330.7512\"/>\n<polygon fill=\"#000000\" stroke=\"#000000\" points=\"256.9458,-334.2446 266.8496,-330.4808 256.7603,-327.2471 256.9458,-334.2446\"/>\n<text text-anchor=\"middle\" x=\"228.3945\" y=\"-335.8\" font-family=\"Times,serif\" font-size=\"14.00\" fill=\"#000000\">i</text>\n</g>\n<!-- 8 -->\n<g id=\"node10\" class=\"node\">\n<title>8</title>\n<ellipse fill=\"none\" stroke=\"#000000\" cx=\"284.9908\" cy=\"-384\" rx=\"18\" ry=\"18\"/>\n<text text-anchor=\"middle\" x=\"284.9908\" y=\"-380.3\" font-family=\"Times,serif\" font-size=\"14.00\" fill=\"#000000\">8</text>\n</g>\n<!-- 2&#45;&gt;8 -->\n<g id=\"edge9\" class=\"edge\">\n<title>2&#45;&gt;8</title>\n<path fill=\"none\" stroke=\"#000000\" d=\"M188.0884,-341.462C194.1696,-344.549 201.16,-348.0133 207.5963,-351 224.552,-358.8682 243.8953,-367.1161 259.0024,-373.398\"/>\n<polygon fill=\"#000000\" stroke=\"#000000\" points=\"257.6717,-376.6351 268.2504,-377.2185 260.3444,-370.1654 257.6717,-376.6351\"/>\n<text text-anchor=\"middle\" x=\"228.3945\" y=\"-371.8\" font-family=\"Times,serif\" font-size=\"14.00\" fill=\"#000000\">o</text>\n</g>\n<!-- 3&#45;&gt;4 -->\n<g id=\"edge10\" class=\"edge\">\n<title>3&#45;&gt;4</title>\n<path fill=\"none\" stroke=\"#000000\" d=\"M110.1074,-191.8232C120.0737,-190.0747 132.6568,-187.8671 143.8553,-185.9024\"/>\n<polygon fill=\"#000000\" stroke=\"#000000\" points=\"144.7925,-189.2915 154.0373,-184.116 143.5829,-182.3968 144.7925,-189.2915\"/>\n<text text-anchor=\"middle\" x=\"130.5\" y=\"-191.8\" font-family=\"Times,serif\" font-size=\"14.00\" fill=\"#000000\">i</text>\n</g>\n<!-- 10 -->\n<g id=\"node11\" class=\"node\">\n<title>10</title>\n<ellipse fill=\"none\" stroke=\"#000000\" cx=\"398.1834\" cy=\"-264\" rx=\"20.5982\" ry=\"20.5982\"/>\n<text text-anchor=\"middle\" x=\"398.1834\" y=\"-260.3\" font-family=\"Times,serif\" font-size=\"14.00\" fill=\"#000000\">10</text>\n</g>\n<!-- 4&#45;&gt;10 -->\n<g id=\"edge11\" class=\"edge\">\n<title>4&#45;&gt;10</title>\n<path fill=\"none\" stroke=\"#000000\" d=\"M189.9416,-182.9554C205.8297,-184.9791 229.4038,-188.7411 249.1926,-195 293.3897,-208.979 341.5559,-233.0405 370.8146,-248.7346\"/>\n<polygon fill=\"#000000\" stroke=\"#000000\" points=\"369.5209,-252.0147 379.9793,-253.7095 372.8605,-245.8627 369.5209,-252.0147\"/>\n<text text-anchor=\"middle\" x=\"284.9908\" y=\"-219.8\" font-family=\"Times,serif\" font-size=\"14.00\" fill=\"#000000\">n</text>\n</g>\n<!-- 11 -->\n<g id=\"node12\" class=\"node\">\n<title>11</title>\n<ellipse fill=\"none\" stroke=\"#000000\" cx=\"171.7982\" cy=\"-125\" rx=\"20.2975\" ry=\"20.2975\"/>\n<text text-anchor=\"middle\" x=\"171.7982\" y=\"-121.3\" font-family=\"Times,serif\" font-size=\"14.00\" fill=\"#000000\">11</text>\n</g>\n<!-- 5&#45;&gt;11 -->\n<g id=\"edge12\" class=\"edge\">\n<title>5&#45;&gt;11</title>\n<path fill=\"none\" stroke=\"#000000\" d=\"M108.5342,-97.252C118.7344,-101.7259 132.0802,-107.5794 143.8835,-112.7565\"/>\n<polygon fill=\"#000000\" stroke=\"#000000\" points=\"142.7689,-116.0894 153.3326,-116.9009 145.5807,-109.6789 142.7689,-116.0894\"/>\n<text text-anchor=\"middle\" x=\"130.5\" y=\"-111.8\" font-family=\"Times,serif\" font-size=\"14.00\" fill=\"#000000\">e</text>\n</g>\n<!-- 12 -->\n<g id=\"node13\" class=\"node\">\n<title>12</title>\n<ellipse fill=\"none\" stroke=\"#000000\" cx=\"341.5871\" cy=\"-76\" rx=\"20.5982\" ry=\"20.5982\"/>\n<text text-anchor=\"middle\" x=\"341.5871\" y=\"-72.3\" font-family=\"Times,serif\" font-size=\"14.00\" fill=\"#000000\">12</text>\n</g>\n<!-- 5&#45;&gt;12 -->\n<g id=\"edge13\" class=\"edge\">\n<title>5&#45;&gt;12</title>\n<path fill=\"none\" stroke=\"#000000\" d=\"M109.7445,-86.7002C121.4216,-84.6755 137.067,-82.2405 151,-81 206.9629,-76.0173 272.5041,-75.444 310.3173,-75.6234\"/>\n<polygon fill=\"#000000\" stroke=\"#000000\" points=\"310.6447,-79.1256 320.6687,-75.695 310.6932,-72.1258 310.6447,-79.1256\"/>\n<text text-anchor=\"middle\" x=\"171.7982\" y=\"-84.8\" font-family=\"Times,serif\" font-size=\"14.00\" fill=\"#000000\">i</text>\n</g>\n<!-- 13 -->\n<g id=\"node14\" class=\"node\">\n<title>13</title>\n<ellipse fill=\"none\" stroke=\"#000000\" cx=\"171.7982\" cy=\"-276\" rx=\"20.5982\" ry=\"20.5982\"/>\n<text text-anchor=\"middle\" x=\"171.7982\" y=\"-272.3\" font-family=\"Times,serif\" font-size=\"14.00\" fill=\"#000000\">13</text>\n</g>\n<!-- 6&#45;&gt;13 -->\n<g id=\"edge14\" class=\"edge\">\n<title>6&#45;&gt;13</title>\n<path fill=\"none\" stroke=\"#000000\" d=\"M109.315,-254.8586C118.9311,-258.1122 131.1567,-262.2488 142.2391,-265.9986\"/>\n<polygon fill=\"#000000\" stroke=\"#000000\" points=\"141.3936,-269.4074 151.9879,-269.2971 143.6372,-262.7766 141.3936,-269.4074\"/>\n<text text-anchor=\"middle\" x=\"130.5\" y=\"-266.8\" font-family=\"Times,serif\" font-size=\"14.00\" fill=\"#000000\">h</text>\n</g>\n<!-- 14 -->\n<g id=\"node15\" class=\"node\">\n<title>14</title>\n<ellipse fill=\"none\" stroke=\"#000000\" cx=\"228.3945\" cy=\"-225\" rx=\"20.5982\" ry=\"20.5982\"/>\n<text text-anchor=\"middle\" x=\"228.3945\" y=\"-221.3\" font-family=\"Times,serif\" font-size=\"14.00\" fill=\"#000000\">14</text>\n</g>\n<!-- 6&#45;&gt;14 -->\n<g id=\"edge15\" class=\"edge\">\n<title>6&#45;&gt;14</title>\n<path fill=\"none\" stroke=\"#000000\" d=\"M109.7506,-244.406C114.671,-243.212 120.027,-241.9858 125,-241 149.2762,-236.188 176.9996,-231.9659 197.6242,-229.0689\"/>\n<polygon fill=\"#000000\" stroke=\"#000000\" points=\"198.2784,-232.5118 207.7066,-227.6786 197.3222,-225.5775 198.2784,-232.5118\"/>\n<text text-anchor=\"middle\" x=\"130.5\" y=\"-244.8\" font-family=\"Times,serif\" font-size=\"14.00\" fill=\"#000000\">w</text>\n</g>\n<!-- 15 -->\n<g id=\"node16\" class=\"node\">\n<title>15</title>\n<ellipse fill=\"none\" stroke=\"#000000\" cx=\"284.9908\" cy=\"-21\" rx=\"20.5982\" ry=\"20.5982\"/>\n<text text-anchor=\"middle\" x=\"284.9908\" y=\"-17.3\" font-family=\"Times,serif\" font-size=\"14.00\" fill=\"#000000\">15</text>\n</g>\n<!-- 7&#45;&gt;15 -->\n<g id=\"edge16\" class=\"edge\">\n<title>7&#45;&gt;15</title>\n<path fill=\"none\" stroke=\"#000000\" d=\"M189.9845,-18.482C207.227,-18.939 233.4752,-19.6347 254.0161,-20.1791\"/>\n<polygon fill=\"#000000\" stroke=\"#000000\" points=\"254.0702,-23.6816 264.1595,-20.4479 254.2557,-16.6841 254.0702,-23.6816\"/>\n<text text-anchor=\"middle\" x=\"228.3945\" y=\"-24.8\" font-family=\"Times,serif\" font-size=\"14.00\" fill=\"#000000\">g</text>\n</g>\n<!-- 9&#45;&gt;10 -->\n<g id=\"edge18\" class=\"edge\">\n<title>9&#45;&gt;10</title>\n<path fill=\"none\" stroke=\"#000000\" d=\"M301.3193,-322.0813C317.2074,-314.2068 341.8835,-301.5245 362.3852,-289 365.8522,-286.8821 369.4364,-284.5552 372.937,-282.1997\"/>\n<polygon fill=\"#000000\" stroke=\"#000000\" points=\"375.1121,-284.9512 381.3514,-276.3884 371.1341,-279.1913 375.1121,-284.9512\"/>\n<text text-anchor=\"middle\" x=\"341.5871\" y=\"-315.8\" font-family=\"Times,serif\" font-size=\"14.00\" fill=\"#000000\">v</text>\n</g>\n<!-- 16 -->\n<g id=\"node17\" class=\"node\">\n<title>16</title>\n<ellipse fill=\"none\" stroke=\"#000000\" cx=\"398.1834\" cy=\"-344\" rx=\"20.5982\" ry=\"20.5982\"/>\n<text text-anchor=\"middle\" x=\"398.1834\" y=\"-340.3\" font-family=\"Times,serif\" font-size=\"14.00\" fill=\"#000000\">16</text>\n</g>\n<!-- 8&#45;&gt;16 -->\n<g id=\"edge17\" class=\"edge\">\n<title>8&#45;&gt;16</title>\n<path fill=\"none\" stroke=\"#000000\" d=\"M302.1823,-377.9249C319.908,-371.6609 347.8713,-361.7793 369.056,-354.293\"/>\n<polygon fill=\"#000000\" stroke=\"#000000\" points=\"370.2811,-357.5723 378.5435,-350.9403 367.9487,-350.9723 370.2811,-357.5723\"/>\n<text text-anchor=\"middle\" x=\"341.5871\" y=\"-374.8\" font-family=\"Times,serif\" font-size=\"14.00\" fill=\"#000000\">u</text>\n</g>\n<!-- 17 -->\n<g id=\"node18\" class=\"node\">\n<title>17</title>\n<ellipse fill=\"none\" stroke=\"#000000\" cx=\"481.7797\" cy=\"-190\" rx=\"20.6302\" ry=\"20.6302\"/>\n<ellipse fill=\"none\" stroke=\"#000000\" cx=\"481.7797\" cy=\"-190\" rx=\"24.5979\" ry=\"24.5979\"/>\n<text text-anchor=\"middle\" x=\"481.7797\" y=\"-186.3\" font-family=\"Times,serif\" font-size=\"14.00\" fill=\"#000000\">17</text>\n</g>\n<!-- 10&#45;&gt;17 -->\n<g id=\"edge19\" class=\"edge\">\n<title>10&#45;&gt;17</title>\n<path fill=\"none\" stroke=\"#000000\" d=\"M413.9072,-250.0812C425.6101,-239.7217 441.8536,-225.3428 455.5156,-213.2491\"/>\n<polygon fill=\"#000000\" stroke=\"#000000\" points=\"458.0396,-215.6892 463.2075,-206.4402 453.3998,-210.4478 458.0396,-215.6892\"/>\n<text text-anchor=\"middle\" x=\"437.9815\" y=\"-234.8\" font-family=\"Times,serif\" font-size=\"14.00\" fill=\"#000000\">e</text>\n</g>\n<!-- 18 -->\n<g id=\"node19\" class=\"node\">\n<title>18</title>\n<ellipse fill=\"none\" stroke=\"#000000\" cx=\"284.9908\" cy=\"-124\" rx=\"20.5982\" ry=\"20.5982\"/>\n<text text-anchor=\"middle\" x=\"284.9908\" y=\"-120.3\" font-family=\"Times,serif\" font-size=\"14.00\" fill=\"#000000\">18</text>\n</g>\n<!-- 11&#45;&gt;18 -->\n<g id=\"edge20\" class=\"edge\">\n<title>11&#45;&gt;18</title>\n<path fill=\"none\" stroke=\"#000000\" d=\"M192.0347,-124.8212C209.2836,-124.6688 234.3463,-124.4474 254.1022,-124.2729\"/>\n<polygon fill=\"#000000\" stroke=\"#000000\" points=\"254.1949,-127.7723 264.1636,-124.184 254.133,-120.7726 254.1949,-127.7723\"/>\n<text text-anchor=\"middle\" x=\"228.3945\" y=\"-127.8\" font-family=\"Times,serif\" font-size=\"14.00\" fill=\"#000000\">v</text>\n</g>\n<!-- 12&#45;&gt;17 -->\n<g id=\"edge21\" class=\"edge\">\n<title>12&#45;&gt;17</title>\n<path fill=\"none\" stroke=\"#000000\" d=\"M361.4032,-82.3577C377.9152,-88.2937 401.4781,-98.2983 418.9815,-112 436.1919,-125.4723 451.6435,-144.5235 462.9132,-160.4251\"/>\n<polygon fill=\"#000000\" stroke=\"#000000\" points=\"460.1777,-162.6241 468.7286,-168.8798 465.9452,-158.6571 460.1777,-162.6241\"/>\n<text text-anchor=\"middle\" x=\"398.1834\" y=\"-115.8\" font-family=\"Times,serif\" font-size=\"14.00\" fill=\"#000000\">x</text>\n</g>\n<!-- 19 -->\n<g id=\"node20\" class=\"node\">\n<title>19</title>\n<ellipse fill=\"none\" stroke=\"#000000\" cx=\"284.9908\" cy=\"-273\" rx=\"20.5982\" ry=\"20.5982\"/>\n<text text-anchor=\"middle\" x=\"284.9908\" y=\"-269.3\" font-family=\"Times,serif\" font-size=\"14.00\" fill=\"#000000\">19</text>\n</g>\n<!-- 13&#45;&gt;19 -->\n<g id=\"edge22\" class=\"edge\">\n<title>13&#45;&gt;19</title>\n<path fill=\"none\" stroke=\"#000000\" d=\"M192.8235,-275.4428C209.978,-274.9881 234.4644,-274.3391 253.8872,-273.8244\"/>\n<polygon fill=\"#000000\" stroke=\"#000000\" points=\"254.1743,-277.3181 264.078,-273.5543 253.9887,-270.3205 254.1743,-277.3181\"/>\n<text text-anchor=\"middle\" x=\"228.3945\" y=\"-278.8\" font-family=\"Times,serif\" font-size=\"14.00\" fill=\"#000000\">r</text>\n</g>\n<!-- 14&#45;&gt;17 -->\n<g id=\"edge23\" class=\"edge\">\n<title>14&#45;&gt;17</title>\n<path fill=\"none\" stroke=\"#000000\" d=\"M249.13,-222.1358C292.5667,-216.1359 393.5088,-202.1928 447.0261,-194.8005\"/>\n<polygon fill=\"#000000\" stroke=\"#000000\" points=\"447.6391,-198.2491 457.0661,-193.4137 446.6812,-191.315 447.6391,-198.2491\"/>\n<text text-anchor=\"middle\" x=\"341.5871\" y=\"-215.8\" font-family=\"Times,serif\" font-size=\"14.00\" fill=\"#000000\">o</text>\n</g>\n<!-- 20 -->\n<g id=\"node21\" class=\"node\">\n<title>20</title>\n<ellipse fill=\"none\" stroke=\"#000000\" cx=\"398.1834\" cy=\"-43\" rx=\"20.5982\" ry=\"20.5982\"/>\n<text text-anchor=\"middle\" x=\"398.1834\" y=\"-39.3\" font-family=\"Times,serif\" font-size=\"14.00\" fill=\"#000000\">20</text>\n</g>\n<!-- 15&#45;&gt;20 -->\n<g id=\"edge24\" class=\"edge\">\n<title>15&#45;&gt;20</title>\n<path fill=\"none\" stroke=\"#000000\" d=\"M305.8803,-22.5879C321.5673,-24.0477 343.5038,-26.6593 362.3852,-31 364.5652,-31.5012 366.8001,-32.0819 369.0365,-32.7122\"/>\n<polygon fill=\"#000000\" stroke=\"#000000\" points=\"368.0979,-36.0854 378.6856,-35.6988 370.1676,-29.3984 368.0979,-36.0854\"/>\n<text text-anchor=\"middle\" x=\"341.5871\" y=\"-34.8\" font-family=\"Times,serif\" font-size=\"14.00\" fill=\"#000000\">h</text>\n</g>\n<!-- 16&#45;&gt;17 -->\n<g id=\"edge25\" class=\"edge\">\n<title>16&#45;&gt;17</title>\n<path fill=\"none\" stroke=\"#000000\" d=\"M408.2671,-325.424C422.3167,-299.5419 447.9636,-252.2955 464.9413,-221.0194\"/>\n<polygon fill=\"#000000\" stroke=\"#000000\" points=\"468.2147,-222.3255 469.9095,-211.8671 462.0627,-218.9859 468.2147,-222.3255\"/>\n<text text-anchor=\"middle\" x=\"437.9815\" y=\"-279.8\" font-family=\"Times,serif\" font-size=\"14.00\" fill=\"#000000\">r</text>\n</g>\n<!-- 21 -->\n<g id=\"node22\" class=\"node\">\n<title>21</title>\n<ellipse fill=\"none\" stroke=\"#000000\" cx=\"398.1834\" cy=\"-157\" rx=\"20.5982\" ry=\"20.5982\"/>\n<text text-anchor=\"middle\" x=\"398.1834\" y=\"-153.3\" font-family=\"Times,serif\" font-size=\"14.00\" fill=\"#000000\">21</text>\n</g>\n<!-- 18&#45;&gt;21 -->\n<g id=\"edge26\" class=\"edge\">\n<title>18&#45;&gt;21</title>\n<path fill=\"none\" stroke=\"#000000\" d=\"M304.9668,-129.8238C322.4779,-134.9289 348.1855,-142.4237 368.1707,-148.2501\"/>\n<polygon fill=\"#000000\" stroke=\"#000000\" points=\"367.4464,-151.6846 378.0263,-151.1234 369.4056,-144.9644 367.4464,-151.6846\"/>\n<text text-anchor=\"middle\" x=\"341.5871\" y=\"-149.8\" font-family=\"Times,serif\" font-size=\"14.00\" fill=\"#000000\">e</text>\n</g>\n<!-- 19&#45;&gt;10 -->\n<g id=\"edge27\" class=\"edge\">\n<title>19&#45;&gt;10</title>\n<path fill=\"none\" stroke=\"#000000\" d=\"M305.752,-271.3493C322.8767,-269.9877 347.4372,-268.0349 366.9371,-266.4844\"/>\n<polygon fill=\"#000000\" stroke=\"#000000\" points=\"367.4793,-269.9524 377.1704,-265.6708 366.9244,-262.9745 367.4793,-269.9524\"/>\n<text text-anchor=\"middle\" x=\"341.5871\" y=\"-273.8\" font-family=\"Times,serif\" font-size=\"14.00\" fill=\"#000000\">e</text>\n</g>\n<!-- 20&#45;&gt;17 -->\n<g id=\"edge28\" class=\"edge\">\n<title>20&#45;&gt;17</title>\n<path fill=\"none\" stroke=\"#000000\" d=\"M416.9129,-52.2012C425.5889,-57.2852 435.408,-64.3359 441.9815,-73 460.3643,-97.2288 470.5915,-130.4978 476.0588,-155.3672\"/>\n<polygon fill=\"#000000\" stroke=\"#000000\" points=\"472.6899,-156.3632 478.1204,-165.4605 479.5483,-154.9623 472.6899,-156.3632\"/>\n<text text-anchor=\"middle\" x=\"437.9815\" y=\"-76.8\" font-family=\"Times,serif\" font-size=\"14.00\" fill=\"#000000\">t</text>\n</g>\n<!-- 21&#45;&gt;17 -->\n<g id=\"edge29\" class=\"edge\">\n<title>21&#45;&gt;17</title>\n<path fill=\"none\" stroke=\"#000000\" d=\"M417.5722,-164.6538C426.952,-168.3565 438.4693,-172.903 449.1473,-177.1182\"/>\n<polygon fill=\"#000000\" stroke=\"#000000\" points=\"448.0456,-180.4461 458.6322,-180.8624 450.6159,-173.935 448.0456,-180.4461\"/>\n<text text-anchor=\"middle\" x=\"437.9815\" y=\"-176.8\" font-family=\"Times,serif\" font-size=\"14.00\" fill=\"#000000\">n</text>\n</g>\n</g>\n</svg>\n"
          },
          "metadata": {
            "tags": []
          },
          "execution_count": 17
        }
      ]
    },
    {
      "cell_type": "markdown",
      "metadata": {
        "id": "EU5pIl5m-Tna",
        "colab_type": "text"
      },
      "source": [
        "Let's do a quick check what this FSA accepts:"
      ]
    },
    {
      "cell_type": "code",
      "metadata": {
        "id": "vseGIDYY-Tnb",
        "colab_type": "code",
        "outputId": "839b6ff4-7366-4897-c0c1-1231ef62f574",
        "colab": {
          "base_uri": "https://localhost:8080/",
          "height": 34
        }
      },
      "source": [
        "pn.matches(a_1_to_9, \"one\")"
      ],
      "execution_count": 0,
      "outputs": [
        {
          "output_type": "execute_result",
          "data": {
            "text/plain": [
              "True"
            ]
          },
          "metadata": {
            "tags": []
          },
          "execution_count": 18
        }
      ]
    },
    {
      "cell_type": "code",
      "metadata": {
        "id": "e_IRuwWv-Tni",
        "colab_type": "code",
        "outputId": "b2a1567f-e999-4d4e-ffe8-3ec6a5f32765",
        "colab": {
          "base_uri": "https://localhost:8080/",
          "height": 34
        }
      },
      "source": [
        "pn.matches(a_1_to_9, \"foo\")"
      ],
      "execution_count": 0,
      "outputs": [
        {
          "output_type": "execute_result",
          "data": {
            "text/plain": [
              "False"
            ]
          },
          "metadata": {
            "tags": []
          },
          "execution_count": 19
        }
      ]
    },
    {
      "cell_type": "markdown",
      "metadata": {
        "id": "ii7g4uHJ-Tno",
        "colab_type": "text"
      },
      "source": [
        "OK, let's try to add dollars and cents:"
      ]
    },
    {
      "cell_type": "code",
      "metadata": {
        "id": "6Cfm0KPn-Tnp",
        "colab_type": "code",
        "colab": {}
      },
      "source": [
        "a_1_to_9_dollars = (a_1_to_9 + \" dollars\")"
      ],
      "execution_count": 0,
      "outputs": []
    },
    {
      "cell_type": "code",
      "metadata": {
        "id": "w_I0umHv-Tnr",
        "colab_type": "code",
        "outputId": "c264d01c-3e03-42cc-de41-ef54b7304f97",
        "colab": {
          "base_uri": "https://localhost:8080/",
          "height": 34
        }
      },
      "source": [
        "pn.matches(a_1_to_9_dollars, \"two dollars\")"
      ],
      "execution_count": 0,
      "outputs": [
        {
          "output_type": "execute_result",
          "data": {
            "text/plain": [
              "True"
            ]
          },
          "metadata": {
            "tags": []
          },
          "execution_count": 21
        }
      ]
    },
    {
      "cell_type": "markdown",
      "metadata": {
        "id": "fupDcfnI-Tnv",
        "colab_type": "text"
      },
      "source": [
        "Of course it's not really optimal, as it also accepts \"one dollars\", instead of \"one dollar\". Let's fix it:"
      ]
    },
    {
      "cell_type": "code",
      "metadata": {
        "id": "q_cuAXbb-Tnw",
        "colab_type": "code",
        "colab": {}
      },
      "source": [
        "a_2_to_9 = pn.u(\"two\", \"three\", \"four\", \"five\", \"six\", \"seven\", \"eight\", \"nine\")\n",
        "dollars = pn.u(\"one dollar\", a_2_to_9 + \" dollars\")"
      ],
      "execution_count": 0,
      "outputs": []
    },
    {
      "cell_type": "code",
      "metadata": {
        "id": "BS8_xIAa-Tny",
        "colab_type": "code",
        "outputId": "cc01b0c5-45eb-4d36-87c0-63d35e69a35b",
        "colab": {
          "base_uri": "https://localhost:8080/",
          "height": 34
        }
      },
      "source": [
        "pn.matches(dollars, \"one dollar\")"
      ],
      "execution_count": 0,
      "outputs": [
        {
          "output_type": "execute_result",
          "data": {
            "text/plain": [
              "True"
            ]
          },
          "metadata": {
            "tags": []
          },
          "execution_count": 23
        }
      ]
    },
    {
      "cell_type": "code",
      "metadata": {
        "id": "Jzb0_ali-Tn1",
        "colab_type": "code",
        "outputId": "83653524-5f2f-49a4-d004-95b171e3f73b",
        "colab": {
          "base_uri": "https://localhost:8080/",
          "height": 34
        }
      },
      "source": [
        "pn.matches(dollars, \"one dollars\")"
      ],
      "execution_count": 0,
      "outputs": [
        {
          "output_type": "execute_result",
          "data": {
            "text/plain": [
              "False"
            ]
          },
          "metadata": {
            "tags": []
          },
          "execution_count": 24
        }
      ]
    },
    {
      "cell_type": "code",
      "metadata": {
        "id": "F4aei5RW-Tn3",
        "colab_type": "code",
        "outputId": "c4a883ba-22aa-447f-a531-afb99229e8a6",
        "colab": {
          "base_uri": "https://localhost:8080/",
          "height": 34
        }
      },
      "source": [
        "pn.matches(dollars, \"two dollars\")"
      ],
      "execution_count": 0,
      "outputs": [
        {
          "output_type": "execute_result",
          "data": {
            "text/plain": [
              "True"
            ]
          },
          "metadata": {
            "tags": []
          },
          "execution_count": 25
        }
      ]
    },
    {
      "cell_type": "code",
      "metadata": {
        "id": "rhvXzMFO-Tn5",
        "colab_type": "code",
        "outputId": "8200d8d7-a3d4-4edd-e582-7e8bf9c7c506",
        "colab": {
          "base_uri": "https://localhost:8080/",
          "height": 34
        }
      },
      "source": [
        "pn.matches(dollars, \"two dollar\")"
      ],
      "execution_count": 0,
      "outputs": [
        {
          "output_type": "execute_result",
          "data": {
            "text/plain": [
              "False"
            ]
          },
          "metadata": {
            "tags": []
          },
          "execution_count": 26
        }
      ]
    },
    {
      "cell_type": "markdown",
      "metadata": {
        "id": "Dk00fzcp-Tn-",
        "colab_type": "text"
      },
      "source": [
        "But the money amount can also have cents. It can actually consist of only cents, like \"two cents\". Or only from dollars, or from both, like \"one dollar two cents\". But it shouldn't be empty."
      ]
    },
    {
      "cell_type": "code",
      "metadata": {
        "id": "IU-asTBP-Tn_",
        "colab_type": "code",
        "colab": {}
      },
      "source": [
        "cents = pn.u(\"one cent\", a_2_to_9 + \" cents\")"
      ],
      "execution_count": 0,
      "outputs": []
    },
    {
      "cell_type": "code",
      "metadata": {
        "id": "Ir9S7V_a-ToA",
        "colab_type": "code",
        "colab": {}
      },
      "source": [
        "money = pn.u(dollars, cents, dollars + \" \" + cents)"
      ],
      "execution_count": 0,
      "outputs": []
    },
    {
      "cell_type": "code",
      "metadata": {
        "id": "G4C3bNgr-ToC",
        "colab_type": "code",
        "outputId": "6b913418-7ccb-4769-8be0-d4f111816930",
        "colab": {
          "base_uri": "https://localhost:8080/",
          "height": 34
        }
      },
      "source": [
        "pn.matches(money, \"two cents\")"
      ],
      "execution_count": 0,
      "outputs": [
        {
          "output_type": "execute_result",
          "data": {
            "text/plain": [
              "True"
            ]
          },
          "metadata": {
            "tags": []
          },
          "execution_count": 29
        }
      ]
    },
    {
      "cell_type": "code",
      "metadata": {
        "id": "MhUvXhsD-ToG",
        "colab_type": "code",
        "outputId": "cf577f51-050d-449a-d6c2-744beb969a05",
        "colab": {
          "base_uri": "https://localhost:8080/",
          "height": 34
        }
      },
      "source": [
        "pn.matches(money, \"two dollars one cent\")"
      ],
      "execution_count": 0,
      "outputs": [
        {
          "output_type": "execute_result",
          "data": {
            "text/plain": [
              "True"
            ]
          },
          "metadata": {
            "tags": []
          },
          "execution_count": 30
        }
      ]
    },
    {
      "cell_type": "code",
      "metadata": {
        "id": "vOI1ugu4-ToJ",
        "colab_type": "code",
        "outputId": "13f717aa-6313-453c-e416-7865a1ce477e",
        "colab": {
          "base_uri": "https://localhost:8080/",
          "height": 34
        }
      },
      "source": [
        "pn.matches(money, \"\")"
      ],
      "execution_count": 0,
      "outputs": [
        {
          "output_type": "execute_result",
          "data": {
            "text/plain": [
              "False"
            ]
          },
          "metadata": {
            "tags": []
          },
          "execution_count": 31
        }
      ]
    },
    {
      "cell_type": "markdown",
      "metadata": {
        "id": "2W3pKs9y-ToL",
        "colab_type": "text"
      },
      "source": [
        "The resulting FSA is already now quite complex:"
      ]
    },
    {
      "cell_type": "code",
      "metadata": {
        "id": "NgiIlne2-ToM",
        "colab_type": "code",
        "outputId": "287587c3-0e8b-42c1-bf0a-6518b50569d9",
        "colab": {
          "base_uri": "https://localhost:8080/",
          "height": 325
        }
      },
      "source": [
        "money"
      ],
      "execution_count": 0,
      "outputs": [
        {
          "output_type": "execute_result",
          "data": {
            "text/plain": [
              "<vector Fst at 0x7fc15f3f7c38>"
            ],
            "image/svg+xml": "<?xml version=\"1.0\" encoding=\"UTF-8\" standalone=\"no\"?>\n<!DOCTYPE svg PUBLIC \"-//W3C//DTD SVG 1.1//EN\"\n \"http://www.w3.org/Graphics/SVG/1.1/DTD/svg11.dtd\">\n<!-- Generated by graphviz version 2.40.1 (20161225.0304)\n -->\n<!-- Title: FST Pages: 1 -->\n<svg width=\"612pt\" height=\"228pt\"\n viewBox=\"0.00 0.00 612.00 228.04\" xmlns=\"http://www.w3.org/2000/svg\" xmlns:xlink=\"http://www.w3.org/1999/xlink\">\n<g id=\"graph0\" class=\"graph\" transform=\"scale(.1427 .1427) rotate(0) translate(4 1594.1459)\">\n<title>FST</title>\n<polygon fill=\"#ffffff\" stroke=\"transparent\" points=\"-4,4 -4,-1594.1459 4285.0473,-1594.1459 4285.0473,4 -4,4\"/>\n<!-- 0 -->\n<g id=\"node1\" class=\"node\">\n<title>0</title>\n<ellipse fill=\"none\" stroke=\"#000000\" stroke-width=\"2\" cx=\"18\" cy=\"-1130.3478\" rx=\"18\" ry=\"18\"/>\n<text text-anchor=\"middle\" x=\"18\" y=\"-1126.6478\" font-family=\"Times,serif\" font-size=\"14.00\" fill=\"#000000\">0</text>\n</g>\n<!-- 1 -->\n<g id=\"node2\" class=\"node\">\n<title>1</title>\n<ellipse fill=\"none\" stroke=\"#000000\" cx=\"148.6978\" cy=\"-1415.3478\" rx=\"18\" ry=\"18\"/>\n<text text-anchor=\"middle\" x=\"148.6978\" y=\"-1411.6478\" font-family=\"Times,serif\" font-size=\"14.00\" fill=\"#000000\">1</text>\n</g>\n<!-- 0&#45;&gt;1 -->\n<g id=\"edge1\" class=\"edge\">\n<title>0&#45;&gt;1</title>\n<path fill=\"none\" stroke=\"#000000\" d=\"M20.8466,-1148.2965C25.2497,-1173.5812 34.9243,-1220.795 51,-1258.3478 72.8686,-1309.4328 109.8295,-1363.2123 131.4756,-1392.6878\"/>\n<polygon fill=\"#000000\" stroke=\"#000000\" points=\"128.8956,-1395.0841 137.668,-1401.0252 134.5152,-1390.9103 128.8956,-1395.0841\"/>\n<text text-anchor=\"middle\" x=\"80\" y=\"-1361.1478\" font-family=\"Times,serif\" font-size=\"14.00\" fill=\"#000000\">o</text>\n</g>\n<!-- 11 -->\n<g id=\"node3\" class=\"node\">\n<title>11</title>\n<ellipse fill=\"none\" stroke=\"#000000\" cx=\"148.6978\" cy=\"-1292.3478\" rx=\"20.2975\" ry=\"20.2975\"/>\n<text text-anchor=\"middle\" x=\"148.6978\" y=\"-1288.6478\" font-family=\"Times,serif\" font-size=\"14.00\" fill=\"#000000\">11</text>\n</g>\n<!-- 0&#45;&gt;11 -->\n<g id=\"edge2\" class=\"edge\">\n<title>0&#45;&gt;11</title>\n<path fill=\"none\" stroke=\"#000000\" d=\"M29.3699,-1144.4408C51.6988,-1172.1174 101.5089,-1233.8571 129.1948,-1268.1738\"/>\n<polygon fill=\"#000000\" stroke=\"#000000\" points=\"126.7236,-1270.6848 135.7267,-1276.2701 132.1716,-1266.2895 126.7236,-1270.6848\"/>\n<text text-anchor=\"middle\" x=\"80\" y=\"-1243.1478\" font-family=\"Times,serif\" font-size=\"14.00\" fill=\"#000000\">&lt;epsilon&gt;</text>\n</g>\n<!-- 61 -->\n<g id=\"node4\" class=\"node\">\n<title>61</title>\n<ellipse fill=\"none\" stroke=\"#000000\" cx=\"148.6978\" cy=\"-1064.3478\" rx=\"20.5982\" ry=\"20.5982\"/>\n<text text-anchor=\"middle\" x=\"148.6978\" y=\"-1060.6478\" font-family=\"Times,serif\" font-size=\"14.00\" fill=\"#000000\">61</text>\n</g>\n<!-- 0&#45;&gt;61 -->\n<g id=\"edge3\" class=\"edge\">\n<title>0&#45;&gt;61</title>\n<path fill=\"none\" stroke=\"#000000\" d=\"M34.2887,-1122.1223C55.9851,-1111.166 94.6843,-1091.6236 121.0076,-1078.3308\"/>\n<polygon fill=\"#000000\" stroke=\"#000000\" points=\"122.7426,-1081.3757 130.0913,-1073.7437 119.5872,-1075.1272 122.7426,-1081.3757\"/>\n<text text-anchor=\"middle\" x=\"80\" y=\"-1116.1478\" font-family=\"Times,serif\" font-size=\"14.00\" fill=\"#000000\">&lt;epsilon&gt;</text>\n</g>\n<!-- 118 -->\n<g id=\"node5\" class=\"node\">\n<title>118</title>\n<ellipse fill=\"none\" stroke=\"#000000\" cx=\"148.6978\" cy=\"-558.3478\" rx=\"24.8972\" ry=\"24.8972\"/>\n<text text-anchor=\"middle\" x=\"148.6978\" y=\"-554.6478\" font-family=\"Times,serif\" font-size=\"14.00\" fill=\"#000000\">118</text>\n</g>\n<!-- 0&#45;&gt;118 -->\n<g id=\"edge4\" class=\"edge\">\n<title>0&#45;&gt;118</title>\n<path fill=\"none\" stroke=\"#000000\" d=\"M22.0548,-1112.6017C40.4437,-1032.1226 116.1723,-700.6958 140.8699,-592.6066\"/>\n<polygon fill=\"#000000\" stroke=\"#000000\" points=\"144.3479,-593.0975 143.1634,-582.5691 137.5238,-591.5382 144.3479,-593.0975\"/>\n<text text-anchor=\"middle\" x=\"80\" y=\"-980.1478\" font-family=\"Times,serif\" font-size=\"14.00\" fill=\"#000000\">&lt;epsilon&gt;</text>\n</g>\n<!-- 2 -->\n<g id=\"node6\" class=\"node\">\n<title>2</title>\n<ellipse fill=\"none\" stroke=\"#000000\" cx=\"286.7434\" cy=\"-1546.3478\" rx=\"18\" ry=\"18\"/>\n<text text-anchor=\"middle\" x=\"286.7434\" y=\"-1542.6478\" font-family=\"Times,serif\" font-size=\"14.00\" fill=\"#000000\">2</text>\n</g>\n<!-- 1&#45;&gt;2 -->\n<g id=\"edge5\" class=\"edge\">\n<title>1&#45;&gt;2</title>\n<path fill=\"none\" stroke=\"#000000\" d=\"M154.3721,-1432.5023C160.5812,-1449.1674 171.8999,-1474.3742 188.3956,-1491.3478 208.6402,-1512.1788 238.4865,-1527.3482 259.9856,-1536.4157\"/>\n<polygon fill=\"#000000\" stroke=\"#000000\" points=\"258.9178,-1539.7592 269.5006,-1540.2629 261.5417,-1533.2696 258.9178,-1539.7592\"/>\n<text text-anchor=\"middle\" x=\"217.3956\" y=\"-1533.1478\" font-family=\"Times,serif\" font-size=\"14.00\" fill=\"#000000\">n</text>\n</g>\n<!-- 12 -->\n<g id=\"node15\" class=\"node\">\n<title>12</title>\n<ellipse fill=\"none\" stroke=\"#000000\" cx=\"286.7434\" cy=\"-1489.3478\" rx=\"20.5982\" ry=\"20.5982\"/>\n<text text-anchor=\"middle\" x=\"286.7434\" y=\"-1485.6478\" font-family=\"Times,serif\" font-size=\"14.00\" fill=\"#000000\">12</text>\n</g>\n<!-- 11&#45;&gt;12 -->\n<g id=\"edge14\" class=\"edge\">\n<title>11&#45;&gt;12</title>\n<path fill=\"none\" stroke=\"#000000\" d=\"M153.7179,-1312.037C163.922,-1351.94 186.3012,-1438.8026 188.3956,-1441.3478 193.2341,-1447.2274 230.58,-1464.5665 257.8222,-1476.707\"/>\n<polygon fill=\"#000000\" stroke=\"#000000\" points=\"256.762,-1480.0652 267.3228,-1480.9137 259.5961,-1473.6646 256.762,-1480.0652\"/>\n<text text-anchor=\"middle\" x=\"217.3956\" y=\"-1475.1478\" font-family=\"Times,serif\" font-size=\"14.00\" fill=\"#000000\">t</text>\n</g>\n<!-- 15 -->\n<g id=\"node16\" class=\"node\">\n<title>15</title>\n<ellipse fill=\"none\" stroke=\"#000000\" cx=\"286.7434\" cy=\"-1428.3478\" rx=\"20.5982\" ry=\"20.5982\"/>\n<text text-anchor=\"middle\" x=\"286.7434\" y=\"-1424.6478\" font-family=\"Times,serif\" font-size=\"14.00\" fill=\"#000000\">15</text>\n</g>\n<!-- 11&#45;&gt;15 -->\n<g id=\"edge15\" class=\"edge\">\n<title>11&#45;&gt;15</title>\n<path fill=\"none\" stroke=\"#000000\" d=\"M151.1363,-1312.4187C155.0097,-1335.7243 164.7297,-1373.8381 188.3956,-1396.3478 206.62,-1413.6818 234.3463,-1421.6272 255.7195,-1425.2685\"/>\n<polygon fill=\"#000000\" stroke=\"#000000\" points=\"255.2278,-1428.7338 265.6319,-1426.7326 256.2507,-1421.8089 255.2278,-1428.7338\"/>\n<text text-anchor=\"middle\" x=\"217.3956\" y=\"-1426.1478\" font-family=\"Times,serif\" font-size=\"14.00\" fill=\"#000000\">&lt;epsilon&gt;</text>\n</g>\n<!-- 21 -->\n<g id=\"node17\" class=\"node\">\n<title>21</title>\n<ellipse fill=\"none\" stroke=\"#000000\" cx=\"356.0911\" cy=\"-1391.3478\" rx=\"20.5982\" ry=\"20.5982\"/>\n<text text-anchor=\"middle\" x=\"356.0911\" y=\"-1387.6478\" font-family=\"Times,serif\" font-size=\"14.00\" fill=\"#000000\">21</text>\n</g>\n<!-- 11&#45;&gt;21 -->\n<g id=\"edge16\" class=\"edge\">\n<title>11&#45;&gt;21</title>\n<path fill=\"none\" stroke=\"#000000\" d=\"M158.2618,-1310.1977C165.2074,-1321.543 175.6123,-1335.6769 188.3956,-1344.3478 230.3474,-1372.8034 289.2753,-1384.1459 324.9505,-1388.5856\"/>\n<polygon fill=\"#000000\" stroke=\"#000000\" points=\"324.9,-1392.1023 335.2311,-1389.7531 325.6899,-1385.147 324.9,-1392.1023\"/>\n<text text-anchor=\"middle\" x=\"217.3956\" y=\"-1374.1478\" font-family=\"Times,serif\" font-size=\"14.00\" fill=\"#000000\">&lt;epsilon&gt;</text>\n</g>\n<!-- 26 -->\n<g id=\"node18\" class=\"node\">\n<title>26</title>\n<ellipse fill=\"none\" stroke=\"#000000\" cx=\"356.0911\" cy=\"-1341.3478\" rx=\"20.5982\" ry=\"20.5982\"/>\n<text text-anchor=\"middle\" x=\"356.0911\" y=\"-1337.6478\" font-family=\"Times,serif\" font-size=\"14.00\" fill=\"#000000\">26</text>\n</g>\n<!-- 11&#45;&gt;26 -->\n<g id=\"edge17\" class=\"edge\">\n<title>11&#45;&gt;26</title>\n<path fill=\"none\" stroke=\"#000000\" d=\"M166.4581,-1302.1076C173.1688,-1305.4558 180.9777,-1308.9576 188.3956,-1311.3478 234.7537,-1326.2849 290.8623,-1334.4187 324.994,-1338.321\"/>\n<polygon fill=\"#000000\" stroke=\"#000000\" points=\"324.9424,-1341.8361 335.2633,-1339.4426 325.7024,-1334.8775 324.9424,-1341.8361\"/>\n<text text-anchor=\"middle\" x=\"217.3956\" y=\"-1329.1478\" font-family=\"Times,serif\" font-size=\"14.00\" fill=\"#000000\">&lt;epsilon&gt;</text>\n</g>\n<!-- 31 -->\n<g id=\"node19\" class=\"node\">\n<title>31</title>\n<ellipse fill=\"none\" stroke=\"#000000\" cx=\"356.0911\" cy=\"-1292.3478\" rx=\"20.5982\" ry=\"20.5982\"/>\n<text text-anchor=\"middle\" x=\"356.0911\" y=\"-1288.6478\" font-family=\"Times,serif\" font-size=\"14.00\" fill=\"#000000\">31</text>\n</g>\n<!-- 11&#45;&gt;31 -->\n<g id=\"edge18\" class=\"edge\">\n<title>11&#45;&gt;31</title>\n<path fill=\"none\" stroke=\"#000000\" d=\"M168.9612,-1292.3478C205.3245,-1292.3478 281.8706,-1292.3478 324.9443,-1292.3478\"/>\n<polygon fill=\"#000000\" stroke=\"#000000\" points=\"325.1292,-1295.8478 335.1292,-1292.3478 325.1291,-1288.8478 325.1292,-1295.8478\"/>\n<text text-anchor=\"middle\" x=\"217.3956\" y=\"-1296.1478\" font-family=\"Times,serif\" font-size=\"14.00\" fill=\"#000000\">&lt;epsilon&gt;</text>\n</g>\n<!-- 35 -->\n<g id=\"node20\" class=\"node\">\n<title>35</title>\n<ellipse fill=\"none\" stroke=\"#000000\" cx=\"286.7434\" cy=\"-1241.3478\" rx=\"20.5982\" ry=\"20.5982\"/>\n<text text-anchor=\"middle\" x=\"286.7434\" y=\"-1237.6478\" font-family=\"Times,serif\" font-size=\"14.00\" fill=\"#000000\">35</text>\n</g>\n<!-- 11&#45;&gt;35 -->\n<g id=\"edge19\" class=\"edge\">\n<title>11&#45;&gt;35</title>\n<path fill=\"none\" stroke=\"#000000\" d=\"M161.4171,-1276.6217C168.523,-1268.9394 178.025,-1260.304 188.3956,-1255.3478 209.3679,-1245.3249 235.517,-1241.9751 255.579,-1241.0501\"/>\n<polygon fill=\"#000000\" stroke=\"#000000\" points=\"255.8439,-1244.5441 265.7406,-1240.7617 255.6453,-1237.5469 255.8439,-1244.5441\"/>\n<text text-anchor=\"middle\" x=\"217.3956\" y=\"-1259.1478\" font-family=\"Times,serif\" font-size=\"14.00\" fill=\"#000000\">&lt;epsilon&gt;</text>\n</g>\n<!-- 41 -->\n<g id=\"node21\" class=\"node\">\n<title>41</title>\n<ellipse fill=\"none\" stroke=\"#000000\" cx=\"286.7434\" cy=\"-1178.3478\" rx=\"20.5982\" ry=\"20.5982\"/>\n<text text-anchor=\"middle\" x=\"286.7434\" y=\"-1174.6478\" font-family=\"Times,serif\" font-size=\"14.00\" fill=\"#000000\">41</text>\n</g>\n<!-- 11&#45;&gt;41 -->\n<g id=\"edge20\" class=\"edge\">\n<title>11&#45;&gt;41</title>\n<path fill=\"none\" stroke=\"#000000\" d=\"M155.633,-1273.2224C162.0712,-1257.7663 172.9922,-1236.3504 188.3956,-1222.3478 207.7837,-1204.7228 235.4002,-1193.2121 256.4353,-1186.4014\"/>\n<polygon fill=\"#000000\" stroke=\"#000000\" points=\"257.6262,-1189.6973 266.168,-1183.4293 255.5818,-1183.0025 257.6262,-1189.6973\"/>\n<text text-anchor=\"middle\" x=\"217.3956\" y=\"-1226.1478\" font-family=\"Times,serif\" font-size=\"14.00\" fill=\"#000000\">&lt;epsilon&gt;</text>\n</g>\n<!-- 47 -->\n<g id=\"node22\" class=\"node\">\n<title>47</title>\n<ellipse fill=\"none\" stroke=\"#000000\" cx=\"356.0911\" cy=\"-1122.3478\" rx=\"20.5982\" ry=\"20.5982\"/>\n<text text-anchor=\"middle\" x=\"356.0911\" y=\"-1118.6478\" font-family=\"Times,serif\" font-size=\"14.00\" fill=\"#000000\">47</text>\n</g>\n<!-- 11&#45;&gt;47 -->\n<g id=\"edge21\" class=\"edge\">\n<title>11&#45;&gt;47</title>\n<path fill=\"none\" stroke=\"#000000\" d=\"M152.876,-1272.2256C159.6485,-1241.4341 173.7482,-1184.6783 188.3956,-1170.3478 225.3358,-1134.2069 287.5465,-1124.9201 324.9207,-1122.7448\"/>\n<polygon fill=\"#000000\" stroke=\"#000000\" points=\"325.3788,-1126.2281 335.2143,-1122.2896 325.0694,-1119.2349 325.3788,-1126.2281\"/>\n<text text-anchor=\"middle\" x=\"217.3956\" y=\"-1174.1478\" font-family=\"Times,serif\" font-size=\"14.00\" fill=\"#000000\">&lt;epsilon&gt;</text>\n</g>\n<!-- 62 -->\n<g id=\"node64\" class=\"node\">\n<title>62</title>\n<ellipse fill=\"none\" stroke=\"#000000\" cx=\"286.7434\" cy=\"-1064.3478\" rx=\"20.5982\" ry=\"20.5982\"/>\n<text text-anchor=\"middle\" x=\"286.7434\" y=\"-1060.6478\" font-family=\"Times,serif\" font-size=\"14.00\" fill=\"#000000\">62</text>\n</g>\n<!-- 61&#45;&gt;62 -->\n<g id=\"edge70\" class=\"edge\">\n<title>61&#45;&gt;62</title>\n<path fill=\"none\" stroke=\"#000000\" d=\"M169.664,-1064.3478C192.4684,-1064.3478 229.1666,-1064.3478 255.3976,-1064.3478\"/>\n<polygon fill=\"#000000\" stroke=\"#000000\" points=\"255.5799,-1067.8478 265.5799,-1064.3478 255.5799,-1060.8478 255.5799,-1067.8478\"/>\n<text text-anchor=\"middle\" x=\"217.3956\" y=\"-1068.1478\" font-family=\"Times,serif\" font-size=\"14.00\" fill=\"#000000\">o</text>\n</g>\n<!-- 70 -->\n<g id=\"node65\" class=\"node\">\n<title>70</title>\n<ellipse fill=\"none\" stroke=\"#000000\" cx=\"286.7434\" cy=\"-840.3478\" rx=\"20.5982\" ry=\"20.5982\"/>\n<text text-anchor=\"middle\" x=\"286.7434\" y=\"-836.6478\" font-family=\"Times,serif\" font-size=\"14.00\" fill=\"#000000\">70</text>\n</g>\n<!-- 61&#45;&gt;70 -->\n<g id=\"edge71\" class=\"edge\">\n<title>61&#45;&gt;70</title>\n<path fill=\"none\" stroke=\"#000000\" d=\"M159.7613,-1046.3955C184.0537,-1006.9775 242.1488,-912.7093 270.5527,-866.6196\"/>\n<polygon fill=\"#000000\" stroke=\"#000000\" points=\"273.5519,-868.424 275.8188,-858.0745 267.5927,-864.7515 273.5519,-868.424\"/>\n<text text-anchor=\"middle\" x=\"217.3956\" y=\"-1001.1478\" font-family=\"Times,serif\" font-size=\"14.00\" fill=\"#000000\">&lt;epsilon&gt;</text>\n</g>\n<!-- 119 -->\n<g id=\"node120\" class=\"node\">\n<title>119</title>\n<ellipse fill=\"none\" stroke=\"#000000\" cx=\"286.7434\" cy=\"-558.3478\" rx=\"24.8972\" ry=\"24.8972\"/>\n<text text-anchor=\"middle\" x=\"286.7434\" y=\"-554.6478\" font-family=\"Times,serif\" font-size=\"14.00\" fill=\"#000000\">119</text>\n</g>\n<!-- 118&#45;&gt;119 -->\n<g id=\"edge133\" class=\"edge\">\n<title>118&#45;&gt;119</title>\n<path fill=\"none\" stroke=\"#000000\" d=\"M173.6968,-558.3478C195.4903,-558.3478 227.3333,-558.3478 251.6741,-558.3478\"/>\n<polygon fill=\"#000000\" stroke=\"#000000\" points=\"251.9304,-561.8478 261.9303,-558.3478 251.9303,-554.8478 251.9304,-561.8478\"/>\n<text text-anchor=\"middle\" x=\"217.3956\" y=\"-562.1478\" font-family=\"Times,serif\" font-size=\"14.00\" fill=\"#000000\">o</text>\n</g>\n<!-- 129 -->\n<g id=\"node121\" class=\"node\">\n<title>129</title>\n<ellipse fill=\"none\" stroke=\"#000000\" cx=\"286.7434\" cy=\"-301.3478\" rx=\"25.1964\" ry=\"25.1964\"/>\n<text text-anchor=\"middle\" x=\"286.7434\" y=\"-297.6478\" font-family=\"Times,serif\" font-size=\"14.00\" fill=\"#000000\">129</text>\n</g>\n<!-- 118&#45;&gt;129 -->\n<g id=\"edge134\" class=\"edge\">\n<title>118&#45;&gt;129</title>\n<path fill=\"none\" stroke=\"#000000\" d=\"M160.4675,-536.4361C184.9479,-490.8607 241.4295,-385.7087 269.8141,-332.8651\"/>\n<polygon fill=\"#000000\" stroke=\"#000000\" points=\"272.9613,-334.4024 274.61,-323.9366 266.7946,-331.0899 272.9613,-334.4024\"/>\n<text text-anchor=\"middle\" x=\"217.3956\" y=\"-486.1478\" font-family=\"Times,serif\" font-size=\"14.00\" fill=\"#000000\">&lt;epsilon&gt;</text>\n</g>\n<!-- 3 -->\n<g id=\"node7\" class=\"node\">\n<title>3</title>\n<ellipse fill=\"none\" stroke=\"#000000\" cx=\"425.4389\" cy=\"-1565.3478\" rx=\"18\" ry=\"18\"/>\n<text text-anchor=\"middle\" x=\"425.4389\" y=\"-1561.6478\" font-family=\"Times,serif\" font-size=\"14.00\" fill=\"#000000\">3</text>\n</g>\n<!-- 2&#45;&gt;3 -->\n<g id=\"edge6\" class=\"edge\">\n<title>2&#45;&gt;3</title>\n<path fill=\"none\" stroke=\"#000000\" d=\"M304.5914,-1548.7928C327.9727,-1551.9958 369.2476,-1557.6501 396.9693,-1561.4477\"/>\n<polygon fill=\"#000000\" stroke=\"#000000\" points=\"396.8364,-1564.9621 407.2189,-1562.8518 397.7865,-1558.0269 396.8364,-1564.9621\"/>\n<text text-anchor=\"middle\" x=\"356.0911\" y=\"-1563.1478\" font-family=\"Times,serif\" font-size=\"14.00\" fill=\"#000000\">e</text>\n</g>\n<!-- 4 -->\n<g id=\"node8\" class=\"node\">\n<title>4</title>\n<ellipse fill=\"none\" stroke=\"#000000\" cx=\"567.1344\" cy=\"-1565.3478\" rx=\"18\" ry=\"18\"/>\n<text text-anchor=\"middle\" x=\"567.1344\" y=\"-1561.6478\" font-family=\"Times,serif\" font-size=\"14.00\" fill=\"#000000\">4</text>\n</g>\n<!-- 3&#45;&gt;4 -->\n<g id=\"edge7\" class=\"edge\">\n<title>3&#45;&gt;4</title>\n<path fill=\"none\" stroke=\"#000000\" d=\"M443.673,-1565.3478C467.7983,-1565.3478 510.5706,-1565.3478 538.8922,-1565.3478\"/>\n<polygon fill=\"#000000\" stroke=\"#000000\" points=\"538.9703,-1568.8479 548.9702,-1565.3478 538.9702,-1561.8479 538.9703,-1568.8479\"/>\n<text text-anchor=\"middle\" x=\"496.2866\" y=\"-1569.1478\" font-family=\"Times,serif\" font-size=\"14.00\" fill=\"#000000\">&lt;SPACE&gt;</text>\n</g>\n<!-- 5 -->\n<g id=\"node9\" class=\"node\">\n<title>5</title>\n<ellipse fill=\"none\" stroke=\"#000000\" cx=\"708.8299\" cy=\"-1565.3478\" rx=\"18\" ry=\"18\"/>\n<text text-anchor=\"middle\" x=\"708.8299\" y=\"-1561.6478\" font-family=\"Times,serif\" font-size=\"14.00\" fill=\"#000000\">5</text>\n</g>\n<!-- 4&#45;&gt;5 -->\n<g id=\"edge8\" class=\"edge\">\n<title>4&#45;&gt;5</title>\n<path fill=\"none\" stroke=\"#000000\" d=\"M585.3685,-1565.3478C609.4938,-1565.3478 652.2661,-1565.3478 680.5878,-1565.3478\"/>\n<polygon fill=\"#000000\" stroke=\"#000000\" points=\"680.6658,-1568.8479 690.6657,-1565.3478 680.6657,-1561.8479 680.6658,-1568.8479\"/>\n<text text-anchor=\"middle\" x=\"637.9821\" y=\"-1569.1478\" font-family=\"Times,serif\" font-size=\"14.00\" fill=\"#000000\">d</text>\n</g>\n<!-- 6 -->\n<g id=\"node10\" class=\"node\">\n<title>6</title>\n<ellipse fill=\"none\" stroke=\"#000000\" cx=\"843.8731\" cy=\"-1565.3478\" rx=\"18\" ry=\"18\"/>\n<text text-anchor=\"middle\" x=\"843.8731\" y=\"-1561.6478\" font-family=\"Times,serif\" font-size=\"14.00\" fill=\"#000000\">6</text>\n</g>\n<!-- 5&#45;&gt;6 -->\n<g id=\"edge9\" class=\"edge\">\n<title>5&#45;&gt;6</title>\n<path fill=\"none\" stroke=\"#000000\" d=\"M727.0424,-1565.3478C749.6953,-1565.3478 788.6289,-1565.3478 815.2775,-1565.3478\"/>\n<polygon fill=\"#000000\" stroke=\"#000000\" points=\"815.5179,-1568.8478 825.5179,-1565.3478 815.5178,-1561.8478 815.5179,-1568.8478\"/>\n<text text-anchor=\"middle\" x=\"774.5254\" y=\"-1569.1478\" font-family=\"Times,serif\" font-size=\"14.00\" fill=\"#000000\">o</text>\n</g>\n<!-- 7 -->\n<g id=\"node11\" class=\"node\">\n<title>7</title>\n<ellipse fill=\"none\" stroke=\"#000000\" cx=\"989.8731\" cy=\"-1565.3478\" rx=\"18\" ry=\"18\"/>\n<text text-anchor=\"middle\" x=\"989.8731\" y=\"-1561.6478\" font-family=\"Times,serif\" font-size=\"14.00\" fill=\"#000000\">7</text>\n</g>\n<!-- 6&#45;&gt;7 -->\n<g id=\"edge10\" class=\"edge\">\n<title>6&#45;&gt;7</title>\n<path fill=\"none\" stroke=\"#000000\" d=\"M862.0689,-1565.3478C886.9864,-1565.3478 931.9793,-1565.3478 961.3854,-1565.3478\"/>\n<polygon fill=\"#000000\" stroke=\"#000000\" points=\"961.448,-1568.8479 971.448,-1565.3478 961.448,-1561.8479 961.448,-1568.8479\"/>\n<text text-anchor=\"middle\" x=\"916.8731\" y=\"-1569.1478\" font-family=\"Times,serif\" font-size=\"14.00\" fill=\"#000000\">l</text>\n</g>\n<!-- 8 -->\n<g id=\"node12\" class=\"node\">\n<title>8</title>\n<ellipse fill=\"none\" stroke=\"#000000\" cx=\"1135.8731\" cy=\"-1565.3478\" rx=\"18\" ry=\"18\"/>\n<text text-anchor=\"middle\" x=\"1135.8731\" y=\"-1561.6478\" font-family=\"Times,serif\" font-size=\"14.00\" fill=\"#000000\">8</text>\n</g>\n<!-- 7&#45;&gt;8 -->\n<g id=\"edge11\" class=\"edge\">\n<title>7&#45;&gt;8</title>\n<path fill=\"none\" stroke=\"#000000\" d=\"M1008.0689,-1565.3478C1032.9864,-1565.3478 1077.9793,-1565.3478 1107.3854,-1565.3478\"/>\n<polygon fill=\"#000000\" stroke=\"#000000\" points=\"1107.448,-1568.8479 1117.448,-1565.3478 1107.448,-1561.8479 1107.448,-1568.8479\"/>\n<text text-anchor=\"middle\" x=\"1062.8731\" y=\"-1569.1478\" font-family=\"Times,serif\" font-size=\"14.00\" fill=\"#000000\">l</text>\n</g>\n<!-- 9 -->\n<g id=\"node13\" class=\"node\">\n<title>9</title>\n<ellipse fill=\"none\" stroke=\"#000000\" cx=\"1281.2209\" cy=\"-1565.3478\" rx=\"18\" ry=\"18\"/>\n<text text-anchor=\"middle\" x=\"1281.2209\" y=\"-1561.6478\" font-family=\"Times,serif\" font-size=\"14.00\" fill=\"#000000\">9</text>\n</g>\n<!-- 8&#45;&gt;9 -->\n<g id=\"edge12\" class=\"edge\">\n<title>8&#45;&gt;9</title>\n<path fill=\"none\" stroke=\"#000000\" d=\"M1153.9876,-1565.3478C1178.7937,-1565.3478 1223.5857,-1565.3478 1252.8605,-1565.3478\"/>\n<polygon fill=\"#000000\" stroke=\"#000000\" points=\"1252.8781,-1568.8479 1262.8781,-1565.3478 1252.878,-1561.8479 1252.8781,-1568.8479\"/>\n<text text-anchor=\"middle\" x=\"1210.3731\" y=\"-1569.1478\" font-family=\"Times,serif\" font-size=\"14.00\" fill=\"#000000\">a</text>\n</g>\n<!-- 10 -->\n<g id=\"node14\" class=\"node\">\n<title>10</title>\n<ellipse fill=\"none\" stroke=\"#000000\" cx=\"1422.9164\" cy=\"-1565.3478\" rx=\"20.6302\" ry=\"20.6302\"/>\n<ellipse fill=\"none\" stroke=\"#000000\" cx=\"1422.9164\" cy=\"-1565.3478\" rx=\"24.5979\" ry=\"24.5979\"/>\n<text text-anchor=\"middle\" x=\"1422.9164\" y=\"-1561.6478\" font-family=\"Times,serif\" font-size=\"14.00\" fill=\"#000000\">10</text>\n</g>\n<!-- 9&#45;&gt;10 -->\n<g id=\"edge13\" class=\"edge\">\n<title>9&#45;&gt;10</title>\n<path fill=\"none\" stroke=\"#000000\" d=\"M1299.455,-1565.3478C1321.7245,-1565.3478 1359.8826,-1565.3478 1387.897,-1565.3478\"/>\n<polygon fill=\"#000000\" stroke=\"#000000\" points=\"1388.0829,-1568.8478 1398.0829,-1565.3478 1388.0829,-1561.8478 1388.0829,-1568.8478\"/>\n<text text-anchor=\"middle\" x=\"1352.0686\" y=\"-1569.1478\" font-family=\"Times,serif\" font-size=\"14.00\" fill=\"#000000\">r</text>\n</g>\n<!-- 13 -->\n<g id=\"node23\" class=\"node\">\n<title>13</title>\n<ellipse fill=\"none\" stroke=\"#000000\" cx=\"425.4389\" cy=\"-1508.3478\" rx=\"20.5982\" ry=\"20.5982\"/>\n<text text-anchor=\"middle\" x=\"425.4389\" y=\"-1504.6478\" font-family=\"Times,serif\" font-size=\"14.00\" fill=\"#000000\">13</text>\n</g>\n<!-- 12&#45;&gt;13 -->\n<g id=\"edge22\" class=\"edge\">\n<title>12&#45;&gt;13</title>\n<path fill=\"none\" stroke=\"#000000\" d=\"M307.5075,-1492.1922C330.5903,-1495.3544 368.1051,-1500.4936 394.6164,-1504.1254\"/>\n<polygon fill=\"#000000\" stroke=\"#000000\" points=\"394.1503,-1507.5941 404.5328,-1505.4838 395.1004,-1500.6589 394.1503,-1507.5941\"/>\n<text text-anchor=\"middle\" x=\"356.0911\" y=\"-1506.1478\" font-family=\"Times,serif\" font-size=\"14.00\" fill=\"#000000\">w</text>\n</g>\n<!-- 16 -->\n<g id=\"node26\" class=\"node\">\n<title>16</title>\n<ellipse fill=\"none\" stroke=\"#000000\" cx=\"425.4389\" cy=\"-1448.3478\" rx=\"20.5982\" ry=\"20.5982\"/>\n<text text-anchor=\"middle\" x=\"425.4389\" y=\"-1444.6478\" font-family=\"Times,serif\" font-size=\"14.00\" fill=\"#000000\">16</text>\n</g>\n<!-- 15&#45;&gt;16 -->\n<g id=\"edge25\" class=\"edge\">\n<title>15&#45;&gt;16</title>\n<path fill=\"none\" stroke=\"#000000\" d=\"M307.5075,-1431.342C330.5903,-1434.6705 368.1051,-1440.0802 394.6164,-1443.9031\"/>\n<polygon fill=\"#000000\" stroke=\"#000000\" points=\"394.1356,-1447.3699 404.5328,-1445.3331 395.1347,-1440.4416 394.1356,-1447.3699\"/>\n<text text-anchor=\"middle\" x=\"356.0911\" y=\"-1446.1478\" font-family=\"Times,serif\" font-size=\"14.00\" fill=\"#000000\">t</text>\n</g>\n<!-- 22 -->\n<g id=\"node31\" class=\"node\">\n<title>22</title>\n<ellipse fill=\"none\" stroke=\"#000000\" cx=\"496.2866\" cy=\"-1394.3478\" rx=\"20.5982\" ry=\"20.5982\"/>\n<text text-anchor=\"middle\" x=\"496.2866\" y=\"-1390.6478\" font-family=\"Times,serif\" font-size=\"14.00\" fill=\"#000000\">22</text>\n</g>\n<!-- 21&#45;&gt;22 -->\n<g id=\"edge31\" class=\"edge\">\n<title>21&#45;&gt;22</title>\n<path fill=\"none\" stroke=\"#000000\" d=\"M377.0798,-1391.7969C400.4123,-1392.2962 438.3328,-1393.1076 465.1308,-1393.6811\"/>\n<polygon fill=\"#000000\" stroke=\"#000000\" points=\"465.0818,-1397.1807 475.1545,-1393.8956 465.2317,-1390.1823 465.0818,-1397.1807\"/>\n<text text-anchor=\"middle\" x=\"425.4389\" y=\"-1396.1478\" font-family=\"Times,serif\" font-size=\"14.00\" fill=\"#000000\">f</text>\n</g>\n<!-- 27 -->\n<g id=\"node35\" class=\"node\">\n<title>27</title>\n<ellipse fill=\"none\" stroke=\"#000000\" cx=\"496.2866\" cy=\"-1343.3478\" rx=\"20.5982\" ry=\"20.5982\"/>\n<text text-anchor=\"middle\" x=\"496.2866\" y=\"-1339.6478\" font-family=\"Times,serif\" font-size=\"14.00\" fill=\"#000000\">27</text>\n</g>\n<!-- 26&#45;&gt;27 -->\n<g id=\"edge36\" class=\"edge\">\n<title>26&#45;&gt;27</title>\n<path fill=\"none\" stroke=\"#000000\" d=\"M377.0798,-1341.6472C400.4123,-1341.98 438.3328,-1342.521 465.1308,-1342.9033\"/>\n<polygon fill=\"#000000\" stroke=\"#000000\" points=\"465.1055,-1346.4032 475.1545,-1343.0463 465.2054,-1339.4039 465.1055,-1346.4032\"/>\n<text text-anchor=\"middle\" x=\"425.4389\" y=\"-1346.1478\" font-family=\"Times,serif\" font-size=\"14.00\" fill=\"#000000\">f</text>\n</g>\n<!-- 32 -->\n<g id=\"node39\" class=\"node\">\n<title>32</title>\n<ellipse fill=\"none\" stroke=\"#000000\" cx=\"496.2866\" cy=\"-1292.3478\" rx=\"20.5982\" ry=\"20.5982\"/>\n<text text-anchor=\"middle\" x=\"496.2866\" y=\"-1288.6478\" font-family=\"Times,serif\" font-size=\"14.00\" fill=\"#000000\">32</text>\n</g>\n<!-- 31&#45;&gt;32 -->\n<g id=\"edge41\" class=\"edge\">\n<title>31&#45;&gt;32</title>\n<path fill=\"none\" stroke=\"#000000\" d=\"M377.0798,-1292.3478C400.4123,-1292.3478 438.3328,-1292.3478 465.1308,-1292.3478\"/>\n<polygon fill=\"#000000\" stroke=\"#000000\" points=\"465.1545,-1295.8479 475.1545,-1292.3478 465.1544,-1288.8479 465.1545,-1295.8479\"/>\n<text text-anchor=\"middle\" x=\"425.4389\" y=\"-1296.1478\" font-family=\"Times,serif\" font-size=\"14.00\" fill=\"#000000\">s</text>\n</g>\n<!-- 36 -->\n<g id=\"node42\" class=\"node\">\n<title>36</title>\n<ellipse fill=\"none\" stroke=\"#000000\" cx=\"425.4389\" cy=\"-1235.3478\" rx=\"20.5982\" ry=\"20.5982\"/>\n<text text-anchor=\"middle\" x=\"425.4389\" y=\"-1231.6478\" font-family=\"Times,serif\" font-size=\"14.00\" fill=\"#000000\">36</text>\n</g>\n<!-- 35&#45;&gt;36 -->\n<g id=\"edge45\" class=\"edge\">\n<title>35&#45;&gt;36</title>\n<path fill=\"none\" stroke=\"#000000\" d=\"M307.8082,-1240.4365C330.8532,-1239.4395 368.0202,-1237.8317 394.4041,-1236.6903\"/>\n<polygon fill=\"#000000\" stroke=\"#000000\" points=\"394.7909,-1240.177 404.6302,-1236.2479 394.4883,-1233.1835 394.7909,-1240.177\"/>\n<text text-anchor=\"middle\" x=\"356.0911\" y=\"-1243.1478\" font-family=\"Times,serif\" font-size=\"14.00\" fill=\"#000000\">s</text>\n</g>\n<!-- 42 -->\n<g id=\"node47\" class=\"node\">\n<title>42</title>\n<ellipse fill=\"none\" stroke=\"#000000\" cx=\"425.4389\" cy=\"-1175.3478\" rx=\"20.5982\" ry=\"20.5982\"/>\n<text text-anchor=\"middle\" x=\"425.4389\" y=\"-1171.6478\" font-family=\"Times,serif\" font-size=\"14.00\" fill=\"#000000\">42</text>\n</g>\n<!-- 41&#45;&gt;42 -->\n<g id=\"edge51\" class=\"edge\">\n<title>41&#45;&gt;42</title>\n<path fill=\"none\" stroke=\"#000000\" d=\"M307.8082,-1177.8921C330.8532,-1177.3936 368.0202,-1176.5897 394.4041,-1176.019\"/>\n<polygon fill=\"#000000\" stroke=\"#000000\" points=\"394.7083,-1179.5134 404.6302,-1175.7978 394.5568,-1172.515 394.7083,-1179.5134\"/>\n<text text-anchor=\"middle\" x=\"356.0911\" y=\"-1181.1478\" font-family=\"Times,serif\" font-size=\"14.00\" fill=\"#000000\">e</text>\n</g>\n<!-- 48 -->\n<g id=\"node52\" class=\"node\">\n<title>48</title>\n<ellipse fill=\"none\" stroke=\"#000000\" cx=\"496.2866\" cy=\"-1121.3478\" rx=\"20.5982\" ry=\"20.5982\"/>\n<text text-anchor=\"middle\" x=\"496.2866\" y=\"-1117.6478\" font-family=\"Times,serif\" font-size=\"14.00\" fill=\"#000000\">48</text>\n</g>\n<!-- 47&#45;&gt;48 -->\n<g id=\"edge57\" class=\"edge\">\n<title>47&#45;&gt;48</title>\n<path fill=\"none\" stroke=\"#000000\" d=\"M377.0798,-1122.198C400.4123,-1122.0316 438.3328,-1121.7611 465.1308,-1121.57\"/>\n<polygon fill=\"#000000\" stroke=\"#000000\" points=\"465.1797,-1125.0698 475.1545,-1121.4985 465.1297,-1118.07 465.1797,-1125.0698\"/>\n<text text-anchor=\"middle\" x=\"425.4389\" y=\"-1125.1478\" font-family=\"Times,serif\" font-size=\"14.00\" fill=\"#000000\">n</text>\n</g>\n<!-- 14 -->\n<g id=\"node24\" class=\"node\">\n<title>14</title>\n<ellipse fill=\"none\" stroke=\"#000000\" cx=\"637.9821\" cy=\"-1507.3478\" rx=\"20.5982\" ry=\"20.5982\"/>\n<text text-anchor=\"middle\" x=\"637.9821\" y=\"-1503.6478\" font-family=\"Times,serif\" font-size=\"14.00\" fill=\"#000000\">14</text>\n</g>\n<!-- 13&#45;&gt;14 -->\n<g id=\"edge23\" class=\"edge\">\n<title>13&#45;&gt;14</title>\n<path fill=\"none\" stroke=\"#000000\" d=\"M446.5954,-1508.2482C484.2324,-1508.0711 562.9741,-1507.7007 606.8199,-1507.4944\"/>\n<polygon fill=\"#000000\" stroke=\"#000000\" points=\"606.9278,-1510.994 616.9112,-1507.4469 606.8948,-1503.9941 606.9278,-1510.994\"/>\n<text text-anchor=\"middle\" x=\"496.2866\" y=\"-1511.1478\" font-family=\"Times,serif\" font-size=\"14.00\" fill=\"#000000\">o</text>\n</g>\n<!-- 52 -->\n<g id=\"node25\" class=\"node\">\n<title>52</title>\n<ellipse fill=\"none\" stroke=\"#000000\" cx=\"1135.8731\" cy=\"-1318.3478\" rx=\"20.5982\" ry=\"20.5982\"/>\n<text text-anchor=\"middle\" x=\"1135.8731\" y=\"-1314.6478\" font-family=\"Times,serif\" font-size=\"14.00\" fill=\"#000000\">52</text>\n</g>\n<!-- 14&#45;&gt;52 -->\n<g id=\"edge24\" class=\"edge\">\n<title>14&#45;&gt;52</title>\n<path fill=\"none\" stroke=\"#000000\" d=\"M658.8013,-1507.1006C685.5754,-1506.8044 733.5139,-1506.3478 774.5254,-1506.3478 774.5254,-1506.3478 774.5254,-1506.3478 989.8731,-1506.3478 1040.3601,-1506.3478 1058.8937,-1494.5747 1091.8731,-1456.3478 1118.0284,-1426.0308 1128.6693,-1380.0405 1132.9768,-1349.6022\"/>\n<polygon fill=\"#000000\" stroke=\"#000000\" points=\"1136.4674,-1349.896 1134.2513,-1339.5355 1129.5229,-1349.0167 1136.4674,-1349.896\"/>\n<text text-anchor=\"middle\" x=\"843.8731\" y=\"-1510.1478\" font-family=\"Times,serif\" font-size=\"14.00\" fill=\"#000000\">&lt;epsilon&gt;</text>\n</g>\n<!-- 53 -->\n<g id=\"node56\" class=\"node\">\n<title>53</title>\n<ellipse fill=\"none\" stroke=\"#000000\" cx=\"1281.2209\" cy=\"-1318.3478\" rx=\"20.5982\" ry=\"20.5982\"/>\n<text text-anchor=\"middle\" x=\"1281.2209\" y=\"-1314.6478\" font-family=\"Times,serif\" font-size=\"14.00\" fill=\"#000000\">53</text>\n</g>\n<!-- 52&#45;&gt;53 -->\n<g id=\"edge62\" class=\"edge\">\n<title>52&#45;&gt;53</title>\n<path fill=\"none\" stroke=\"#000000\" d=\"M1156.6979,-1318.3478C1181.0593,-1318.3478 1221.6399,-1318.3478 1249.826,-1318.3478\"/>\n<polygon fill=\"#000000\" stroke=\"#000000\" points=\"1249.9621,-1321.8478 1259.9621,-1318.3478 1249.962,-1314.8478 1249.9621,-1321.8478\"/>\n<text text-anchor=\"middle\" x=\"1210.3731\" y=\"-1322.1478\" font-family=\"Times,serif\" font-size=\"14.00\" fill=\"#000000\">&lt;SPACE&gt;</text>\n</g>\n<!-- 17 -->\n<g id=\"node27\" class=\"node\">\n<title>17</title>\n<ellipse fill=\"none\" stroke=\"#000000\" cx=\"567.1344\" cy=\"-1448.3478\" rx=\"20.5982\" ry=\"20.5982\"/>\n<text text-anchor=\"middle\" x=\"567.1344\" y=\"-1444.6478\" font-family=\"Times,serif\" font-size=\"14.00\" fill=\"#000000\">17</text>\n</g>\n<!-- 16&#45;&gt;17 -->\n<g id=\"edge26\" class=\"edge\">\n<title>16&#45;&gt;17</title>\n<path fill=\"none\" stroke=\"#000000\" d=\"M446.3465,-1448.3478C469.997,-1448.3478 508.7541,-1448.3478 535.9735,-1448.3478\"/>\n<polygon fill=\"#000000\" stroke=\"#000000\" points=\"536.141,-1451.8478 546.1409,-1448.3478 536.1409,-1444.8478 536.141,-1451.8478\"/>\n<text text-anchor=\"middle\" x=\"496.2866\" y=\"-1452.1478\" font-family=\"Times,serif\" font-size=\"14.00\" fill=\"#000000\">h</text>\n</g>\n<!-- 18 -->\n<g id=\"node28\" class=\"node\">\n<title>18</title>\n<ellipse fill=\"none\" stroke=\"#000000\" cx=\"708.8299\" cy=\"-1448.3478\" rx=\"20.5982\" ry=\"20.5982\"/>\n<text text-anchor=\"middle\" x=\"708.8299\" y=\"-1444.6478\" font-family=\"Times,serif\" font-size=\"14.00\" fill=\"#000000\">18</text>\n</g>\n<!-- 17&#45;&gt;18 -->\n<g id=\"edge27\" class=\"edge\">\n<title>17&#45;&gt;18</title>\n<path fill=\"none\" stroke=\"#000000\" d=\"M588.042,-1448.3478C611.6925,-1448.3478 650.4496,-1448.3478 677.6691,-1448.3478\"/>\n<polygon fill=\"#000000\" stroke=\"#000000\" points=\"677.8365,-1451.8478 687.8364,-1448.3478 677.8364,-1444.8478 677.8365,-1451.8478\"/>\n<text text-anchor=\"middle\" x=\"637.9821\" y=\"-1452.1478\" font-family=\"Times,serif\" font-size=\"14.00\" fill=\"#000000\">r</text>\n</g>\n<!-- 19 -->\n<g id=\"node29\" class=\"node\">\n<title>19</title>\n<ellipse fill=\"none\" stroke=\"#000000\" cx=\"843.8731\" cy=\"-1448.3478\" rx=\"20.5982\" ry=\"20.5982\"/>\n<text text-anchor=\"middle\" x=\"843.8731\" y=\"-1444.6478\" font-family=\"Times,serif\" font-size=\"14.00\" fill=\"#000000\">19</text>\n</g>\n<!-- 18&#45;&gt;19 -->\n<g id=\"edge28\" class=\"edge\">\n<title>18&#45;&gt;19</title>\n<path fill=\"none\" stroke=\"#000000\" d=\"M729.6344,-1448.3478C751.7747,-1448.3478 787.0591,-1448.3478 812.5595,-1448.3478\"/>\n<polygon fill=\"#000000\" stroke=\"#000000\" points=\"812.8225,-1451.8478 822.8224,-1448.3478 812.8224,-1444.8478 812.8225,-1451.8478\"/>\n<text text-anchor=\"middle\" x=\"774.5254\" y=\"-1452.1478\" font-family=\"Times,serif\" font-size=\"14.00\" fill=\"#000000\">e</text>\n</g>\n<!-- 20 -->\n<g id=\"node30\" class=\"node\">\n<title>20</title>\n<ellipse fill=\"none\" stroke=\"#000000\" cx=\"989.8731\" cy=\"-1447.3478\" rx=\"20.5982\" ry=\"20.5982\"/>\n<text text-anchor=\"middle\" x=\"989.8731\" y=\"-1443.6478\" font-family=\"Times,serif\" font-size=\"14.00\" fill=\"#000000\">20</text>\n</g>\n<!-- 19&#45;&gt;20 -->\n<g id=\"edge29\" class=\"edge\">\n<title>19&#45;&gt;20</title>\n<path fill=\"none\" stroke=\"#000000\" d=\"M864.7914,-1448.2045C889.4019,-1448.0359 930.4911,-1447.7545 958.8215,-1447.5604\"/>\n<polygon fill=\"#000000\" stroke=\"#000000\" points=\"959.0179,-1451.0593 968.9937,-1447.4908 958.9699,-1444.0594 959.0179,-1451.0593\"/>\n<text text-anchor=\"middle\" x=\"916.8731\" y=\"-1451.1478\" font-family=\"Times,serif\" font-size=\"14.00\" fill=\"#000000\">e</text>\n</g>\n<!-- 20&#45;&gt;52 -->\n<g id=\"edge30\" class=\"edge\">\n<title>20&#45;&gt;52</title>\n<path fill=\"none\" stroke=\"#000000\" d=\"M1010.6116,-1443.8239C1033.0634,-1439.0542 1068.7532,-1428.5727 1091.8731,-1407.3478 1109.1732,-1391.4657 1120.5219,-1367.2787 1127.3535,-1348.1259\"/>\n<polygon fill=\"#000000\" stroke=\"#000000\" points=\"1130.6736,-1349.2335 1130.5219,-1338.6397 1124.0342,-1347.0158 1130.6736,-1349.2335\"/>\n<text text-anchor=\"middle\" x=\"1062.8731\" y=\"-1441.1478\" font-family=\"Times,serif\" font-size=\"14.00\" fill=\"#000000\">&lt;epsilon&gt;</text>\n</g>\n<!-- 23 -->\n<g id=\"node32\" class=\"node\">\n<title>23</title>\n<ellipse fill=\"none\" stroke=\"#000000\" cx=\"637.9821\" cy=\"-1394.3478\" rx=\"20.5982\" ry=\"20.5982\"/>\n<text text-anchor=\"middle\" x=\"637.9821\" y=\"-1390.6478\" font-family=\"Times,serif\" font-size=\"14.00\" fill=\"#000000\">23</text>\n</g>\n<!-- 22&#45;&gt;23 -->\n<g id=\"edge32\" class=\"edge\">\n<title>22&#45;&gt;23</title>\n<path fill=\"none\" stroke=\"#000000\" d=\"M517.1943,-1394.3478C540.8447,-1394.3478 579.6018,-1394.3478 606.8213,-1394.3478\"/>\n<polygon fill=\"#000000\" stroke=\"#000000\" points=\"606.9887,-1397.8478 616.9887,-1394.3478 606.9887,-1390.8478 606.9887,-1397.8478\"/>\n<text text-anchor=\"middle\" x=\"567.1344\" y=\"-1398.1478\" font-family=\"Times,serif\" font-size=\"14.00\" fill=\"#000000\">o</text>\n</g>\n<!-- 24 -->\n<g id=\"node33\" class=\"node\">\n<title>24</title>\n<ellipse fill=\"none\" stroke=\"#000000\" cx=\"774.5254\" cy=\"-1394.3478\" rx=\"20.5982\" ry=\"20.5982\"/>\n<text text-anchor=\"middle\" x=\"774.5254\" y=\"-1390.6478\" font-family=\"Times,serif\" font-size=\"14.00\" fill=\"#000000\">24</text>\n</g>\n<!-- 23&#45;&gt;24 -->\n<g id=\"edge33\" class=\"edge\">\n<title>23&#45;&gt;24</title>\n<path fill=\"none\" stroke=\"#000000\" d=\"M659.0178,-1394.3478C681.6354,-1394.3478 717.8193,-1394.3478 743.6604,-1394.3478\"/>\n<polygon fill=\"#000000\" stroke=\"#000000\" points=\"743.6899,-1397.8479 753.6899,-1394.3478 743.6899,-1390.8479 743.6899,-1397.8479\"/>\n<text text-anchor=\"middle\" x=\"708.8299\" y=\"-1398.1478\" font-family=\"Times,serif\" font-size=\"14.00\" fill=\"#000000\">u</text>\n</g>\n<!-- 25 -->\n<g id=\"node34\" class=\"node\">\n<title>25</title>\n<ellipse fill=\"none\" stroke=\"#000000\" cx=\"916.8731\" cy=\"-1394.3478\" rx=\"20.5982\" ry=\"20.5982\"/>\n<text text-anchor=\"middle\" x=\"916.8731\" y=\"-1390.6478\" font-family=\"Times,serif\" font-size=\"14.00\" fill=\"#000000\">25</text>\n</g>\n<!-- 24&#45;&gt;25 -->\n<g id=\"edge34\" class=\"edge\">\n<title>24&#45;&gt;25</title>\n<path fill=\"none\" stroke=\"#000000\" d=\"M795.5293,-1394.3478C819.2886,-1394.3478 858.2241,-1394.3478 885.5689,-1394.3478\"/>\n<polygon fill=\"#000000\" stroke=\"#000000\" points=\"885.7831,-1397.8478 895.7831,-1394.3478 885.783,-1390.8478 885.7831,-1397.8478\"/>\n<text text-anchor=\"middle\" x=\"843.8731\" y=\"-1398.1478\" font-family=\"Times,serif\" font-size=\"14.00\" fill=\"#000000\">r</text>\n</g>\n<!-- 25&#45;&gt;52 -->\n<g id=\"edge35\" class=\"edge\">\n<title>25&#45;&gt;52</title>\n<path fill=\"none\" stroke=\"#000000\" d=\"M937.1914,-1389.2441C970.2003,-1380.6952 1037.2798,-1362.2464 1091.8731,-1340.3478 1097.2236,-1338.2016 1102.8115,-1335.6576 1108.1397,-1333.0749\"/>\n<polygon fill=\"#000000\" stroke=\"#000000\" points=\"1109.9713,-1336.072 1117.3426,-1328.4618 1106.8344,-1329.8142 1109.9713,-1336.072\"/>\n<text text-anchor=\"middle\" x=\"989.8731\" y=\"-1386.1478\" font-family=\"Times,serif\" font-size=\"14.00\" fill=\"#000000\">&lt;epsilon&gt;</text>\n</g>\n<!-- 28 -->\n<g id=\"node36\" class=\"node\">\n<title>28</title>\n<ellipse fill=\"none\" stroke=\"#000000\" cx=\"637.9821\" cy=\"-1343.3478\" rx=\"20.5982\" ry=\"20.5982\"/>\n<text text-anchor=\"middle\" x=\"637.9821\" y=\"-1339.6478\" font-family=\"Times,serif\" font-size=\"14.00\" fill=\"#000000\">28</text>\n</g>\n<!-- 27&#45;&gt;28 -->\n<g id=\"edge37\" class=\"edge\">\n<title>27&#45;&gt;28</title>\n<path fill=\"none\" stroke=\"#000000\" d=\"M517.1943,-1343.3478C540.8447,-1343.3478 579.6018,-1343.3478 606.8213,-1343.3478\"/>\n<polygon fill=\"#000000\" stroke=\"#000000\" points=\"606.9887,-1346.8478 616.9887,-1343.3478 606.9887,-1339.8478 606.9887,-1346.8478\"/>\n<text text-anchor=\"middle\" x=\"567.1344\" y=\"-1347.1478\" font-family=\"Times,serif\" font-size=\"14.00\" fill=\"#000000\">i</text>\n</g>\n<!-- 29 -->\n<g id=\"node37\" class=\"node\">\n<title>29</title>\n<ellipse fill=\"none\" stroke=\"#000000\" cx=\"774.5254\" cy=\"-1343.3478\" rx=\"20.5982\" ry=\"20.5982\"/>\n<text text-anchor=\"middle\" x=\"774.5254\" y=\"-1339.6478\" font-family=\"Times,serif\" font-size=\"14.00\" fill=\"#000000\">29</text>\n</g>\n<!-- 28&#45;&gt;29 -->\n<g id=\"edge38\" class=\"edge\">\n<title>28&#45;&gt;29</title>\n<path fill=\"none\" stroke=\"#000000\" d=\"M659.0178,-1343.3478C681.6354,-1343.3478 717.8193,-1343.3478 743.6604,-1343.3478\"/>\n<polygon fill=\"#000000\" stroke=\"#000000\" points=\"743.6899,-1346.8479 753.6899,-1343.3478 743.6899,-1339.8479 743.6899,-1346.8479\"/>\n<text text-anchor=\"middle\" x=\"708.8299\" y=\"-1347.1478\" font-family=\"Times,serif\" font-size=\"14.00\" fill=\"#000000\">v</text>\n</g>\n<!-- 30 -->\n<g id=\"node38\" class=\"node\">\n<title>30</title>\n<ellipse fill=\"none\" stroke=\"#000000\" cx=\"916.8731\" cy=\"-1342.3478\" rx=\"20.5982\" ry=\"20.5982\"/>\n<text text-anchor=\"middle\" x=\"916.8731\" y=\"-1338.6478\" font-family=\"Times,serif\" font-size=\"14.00\" fill=\"#000000\">30</text>\n</g>\n<!-- 29&#45;&gt;30 -->\n<g id=\"edge39\" class=\"edge\">\n<title>29&#45;&gt;30</title>\n<path fill=\"none\" stroke=\"#000000\" d=\"M795.5293,-1343.2002C819.2886,-1343.0333 858.2241,-1342.7598 885.5689,-1342.5677\"/>\n<polygon fill=\"#000000\" stroke=\"#000000\" points=\"885.8079,-1346.0662 895.7831,-1342.4959 885.7587,-1339.0663 885.8079,-1346.0662\"/>\n<text text-anchor=\"middle\" x=\"843.8731\" y=\"-1346.1478\" font-family=\"Times,serif\" font-size=\"14.00\" fill=\"#000000\">e</text>\n</g>\n<!-- 30&#45;&gt;52 -->\n<g id=\"edge40\" class=\"edge\">\n<title>30&#45;&gt;52</title>\n<path fill=\"none\" stroke=\"#000000\" d=\"M937.8718,-1340.0465C976.6248,-1335.7996 1059.5505,-1326.7119 1104.8189,-1321.7509\"/>\n<polygon fill=\"#000000\" stroke=\"#000000\" points=\"1105.3789,-1325.2106 1114.9381,-1320.642 1104.6163,-1318.2523 1105.3789,-1325.2106\"/>\n<text text-anchor=\"middle\" x=\"989.8731\" y=\"-1340.1478\" font-family=\"Times,serif\" font-size=\"14.00\" fill=\"#000000\">&lt;epsilon&gt;</text>\n</g>\n<!-- 33 -->\n<g id=\"node40\" class=\"node\">\n<title>33</title>\n<ellipse fill=\"none\" stroke=\"#000000\" cx=\"637.9821\" cy=\"-1292.3478\" rx=\"20.5982\" ry=\"20.5982\"/>\n<text text-anchor=\"middle\" x=\"637.9821\" y=\"-1288.6478\" font-family=\"Times,serif\" font-size=\"14.00\" fill=\"#000000\">33</text>\n</g>\n<!-- 32&#45;&gt;33 -->\n<g id=\"edge42\" class=\"edge\">\n<title>32&#45;&gt;33</title>\n<path fill=\"none\" stroke=\"#000000\" d=\"M517.1943,-1292.3478C540.8447,-1292.3478 579.6018,-1292.3478 606.8213,-1292.3478\"/>\n<polygon fill=\"#000000\" stroke=\"#000000\" points=\"606.9887,-1295.8478 616.9887,-1292.3478 606.9887,-1288.8478 606.9887,-1295.8478\"/>\n<text text-anchor=\"middle\" x=\"567.1344\" y=\"-1296.1478\" font-family=\"Times,serif\" font-size=\"14.00\" fill=\"#000000\">i</text>\n</g>\n<!-- 34 -->\n<g id=\"node41\" class=\"node\">\n<title>34</title>\n<ellipse fill=\"none\" stroke=\"#000000\" cx=\"774.5254\" cy=\"-1294.3478\" rx=\"20.5982\" ry=\"20.5982\"/>\n<text text-anchor=\"middle\" x=\"774.5254\" y=\"-1290.6478\" font-family=\"Times,serif\" font-size=\"14.00\" fill=\"#000000\">34</text>\n</g>\n<!-- 33&#45;&gt;34 -->\n<g id=\"edge43\" class=\"edge\">\n<title>33&#45;&gt;34</title>\n<path fill=\"none\" stroke=\"#000000\" d=\"M659.0178,-1292.6559C681.6354,-1292.9872 717.8193,-1293.5172 743.6604,-1293.8957\"/>\n<polygon fill=\"#000000\" stroke=\"#000000\" points=\"743.6397,-1297.3956 753.6899,-1294.0426 743.7423,-1290.3964 743.6397,-1297.3956\"/>\n<text text-anchor=\"middle\" x=\"708.8299\" y=\"-1297.1478\" font-family=\"Times,serif\" font-size=\"14.00\" fill=\"#000000\">x</text>\n</g>\n<!-- 34&#45;&gt;52 -->\n<g id=\"edge44\" class=\"edge\">\n<title>34&#45;&gt;52</title>\n<path fill=\"none\" stroke=\"#000000\" d=\"M795.3879,-1294.0916C827.6763,-1293.8355 891.6854,-1293.8863 945.8731,-1297.3478 1002.0915,-1300.939 1067.2912,-1309.0005 1104.8453,-1314.0252\"/>\n<polygon fill=\"#000000\" stroke=\"#000000\" points=\"1104.7438,-1317.5434 1115.1231,-1315.4172 1105.6834,-1310.6067 1104.7438,-1317.5434\"/>\n<text text-anchor=\"middle\" x=\"916.8731\" y=\"-1301.1478\" font-family=\"Times,serif\" font-size=\"14.00\" fill=\"#000000\">&lt;epsilon&gt;</text>\n</g>\n<!-- 37 -->\n<g id=\"node43\" class=\"node\">\n<title>37</title>\n<ellipse fill=\"none\" stroke=\"#000000\" cx=\"567.1344\" cy=\"-1235.3478\" rx=\"20.5982\" ry=\"20.5982\"/>\n<text text-anchor=\"middle\" x=\"567.1344\" y=\"-1231.6478\" font-family=\"Times,serif\" font-size=\"14.00\" fill=\"#000000\">37</text>\n</g>\n<!-- 36&#45;&gt;37 -->\n<g id=\"edge46\" class=\"edge\">\n<title>36&#45;&gt;37</title>\n<path fill=\"none\" stroke=\"#000000\" d=\"M446.3465,-1235.3478C469.997,-1235.3478 508.7541,-1235.3478 535.9735,-1235.3478\"/>\n<polygon fill=\"#000000\" stroke=\"#000000\" points=\"536.141,-1238.8478 546.1409,-1235.3478 536.1409,-1231.8478 536.141,-1238.8478\"/>\n<text text-anchor=\"middle\" x=\"496.2866\" y=\"-1239.1478\" font-family=\"Times,serif\" font-size=\"14.00\" fill=\"#000000\">e</text>\n</g>\n<!-- 38 -->\n<g id=\"node44\" class=\"node\">\n<title>38</title>\n<ellipse fill=\"none\" stroke=\"#000000\" cx=\"708.8299\" cy=\"-1235.3478\" rx=\"20.5982\" ry=\"20.5982\"/>\n<text text-anchor=\"middle\" x=\"708.8299\" y=\"-1231.6478\" font-family=\"Times,serif\" font-size=\"14.00\" fill=\"#000000\">38</text>\n</g>\n<!-- 37&#45;&gt;38 -->\n<g id=\"edge47\" class=\"edge\">\n<title>37&#45;&gt;38</title>\n<path fill=\"none\" stroke=\"#000000\" d=\"M588.042,-1235.3478C611.6925,-1235.3478 650.4496,-1235.3478 677.6691,-1235.3478\"/>\n<polygon fill=\"#000000\" stroke=\"#000000\" points=\"677.8365,-1238.8478 687.8364,-1235.3478 677.8364,-1231.8478 677.8365,-1238.8478\"/>\n<text text-anchor=\"middle\" x=\"637.9821\" y=\"-1239.1478\" font-family=\"Times,serif\" font-size=\"14.00\" fill=\"#000000\">v</text>\n</g>\n<!-- 39 -->\n<g id=\"node45\" class=\"node\">\n<title>39</title>\n<ellipse fill=\"none\" stroke=\"#000000\" cx=\"843.8731\" cy=\"-1240.3478\" rx=\"20.5982\" ry=\"20.5982\"/>\n<text text-anchor=\"middle\" x=\"843.8731\" y=\"-1236.6478\" font-family=\"Times,serif\" font-size=\"14.00\" fill=\"#000000\">39</text>\n</g>\n<!-- 38&#45;&gt;39 -->\n<g id=\"edge48\" class=\"edge\">\n<title>38&#45;&gt;39</title>\n<path fill=\"none\" stroke=\"#000000\" d=\"M729.6344,-1236.118C751.7747,-1236.9378 787.0591,-1238.2442 812.5595,-1239.1884\"/>\n<polygon fill=\"#000000\" stroke=\"#000000\" points=\"812.6998,-1242.6959 822.8224,-1239.5683 812.9588,-1235.7006 812.6998,-1242.6959\"/>\n<text text-anchor=\"middle\" x=\"774.5254\" y=\"-1242.1478\" font-family=\"Times,serif\" font-size=\"14.00\" fill=\"#000000\">e</text>\n</g>\n<!-- 40 -->\n<g id=\"node46\" class=\"node\">\n<title>40</title>\n<ellipse fill=\"none\" stroke=\"#000000\" cx=\"989.8731\" cy=\"-1244.3478\" rx=\"20.5982\" ry=\"20.5982\"/>\n<text text-anchor=\"middle\" x=\"989.8731\" y=\"-1240.6478\" font-family=\"Times,serif\" font-size=\"14.00\" fill=\"#000000\">40</text>\n</g>\n<!-- 39&#45;&gt;40 -->\n<g id=\"edge49\" class=\"edge\">\n<title>39&#45;&gt;40</title>\n<path fill=\"none\" stroke=\"#000000\" d=\"M864.7914,-1240.9209C889.4019,-1241.5951 930.4911,-1242.7208 958.8215,-1243.497\"/>\n<polygon fill=\"#000000\" stroke=\"#000000\" points=\"958.9016,-1247.0004 968.9937,-1243.7757 959.0933,-1240.0031 958.9016,-1247.0004\"/>\n<text text-anchor=\"middle\" x=\"916.8731\" y=\"-1246.1478\" font-family=\"Times,serif\" font-size=\"14.00\" fill=\"#000000\">n</text>\n</g>\n<!-- 40&#45;&gt;52 -->\n<g id=\"edge50\" class=\"edge\">\n<title>40&#45;&gt;52</title>\n<path fill=\"none\" stroke=\"#000000\" d=\"M1010.8725,-1244.6668C1032.5837,-1245.8707 1066.7588,-1250.277 1091.8731,-1265.3478 1102.7388,-1271.8681 1112.1478,-1282.0708 1119.4444,-1291.7904\"/>\n<polygon fill=\"#000000\" stroke=\"#000000\" points=\"1116.6779,-1293.9408 1125.2964,-1300.1029 1122.4018,-1289.9112 1116.6779,-1293.9408\"/>\n<text text-anchor=\"middle\" x=\"1062.8731\" y=\"-1269.1478\" font-family=\"Times,serif\" font-size=\"14.00\" fill=\"#000000\">&lt;epsilon&gt;</text>\n</g>\n<!-- 43 -->\n<g id=\"node48\" class=\"node\">\n<title>43</title>\n<ellipse fill=\"none\" stroke=\"#000000\" cx=\"567.1344\" cy=\"-1175.3478\" rx=\"20.5982\" ry=\"20.5982\"/>\n<text text-anchor=\"middle\" x=\"567.1344\" y=\"-1171.6478\" font-family=\"Times,serif\" font-size=\"14.00\" fill=\"#000000\">43</text>\n</g>\n<!-- 42&#45;&gt;43 -->\n<g id=\"edge52\" class=\"edge\">\n<title>42&#45;&gt;43</title>\n<path fill=\"none\" stroke=\"#000000\" d=\"M446.3465,-1175.3478C469.997,-1175.3478 508.7541,-1175.3478 535.9735,-1175.3478\"/>\n<polygon fill=\"#000000\" stroke=\"#000000\" points=\"536.141,-1178.8478 546.1409,-1175.3478 536.1409,-1171.8478 536.141,-1178.8478\"/>\n<text text-anchor=\"middle\" x=\"496.2866\" y=\"-1179.1478\" font-family=\"Times,serif\" font-size=\"14.00\" fill=\"#000000\">i</text>\n</g>\n<!-- 44 -->\n<g id=\"node49\" class=\"node\">\n<title>44</title>\n<ellipse fill=\"none\" stroke=\"#000000\" cx=\"708.8299\" cy=\"-1175.3478\" rx=\"20.5982\" ry=\"20.5982\"/>\n<text text-anchor=\"middle\" x=\"708.8299\" y=\"-1171.6478\" font-family=\"Times,serif\" font-size=\"14.00\" fill=\"#000000\">44</text>\n</g>\n<!-- 43&#45;&gt;44 -->\n<g id=\"edge53\" class=\"edge\">\n<title>43&#45;&gt;44</title>\n<path fill=\"none\" stroke=\"#000000\" d=\"M588.042,-1175.3478C611.6925,-1175.3478 650.4496,-1175.3478 677.6691,-1175.3478\"/>\n<polygon fill=\"#000000\" stroke=\"#000000\" points=\"677.8365,-1178.8478 687.8364,-1175.3478 677.8364,-1171.8478 677.8365,-1178.8478\"/>\n<text text-anchor=\"middle\" x=\"637.9821\" y=\"-1179.1478\" font-family=\"Times,serif\" font-size=\"14.00\" fill=\"#000000\">g</text>\n</g>\n<!-- 45 -->\n<g id=\"node50\" class=\"node\">\n<title>45</title>\n<ellipse fill=\"none\" stroke=\"#000000\" cx=\"843.8731\" cy=\"-1176.3478\" rx=\"20.5982\" ry=\"20.5982\"/>\n<text text-anchor=\"middle\" x=\"843.8731\" y=\"-1172.6478\" font-family=\"Times,serif\" font-size=\"14.00\" fill=\"#000000\">45</text>\n</g>\n<!-- 44&#45;&gt;45 -->\n<g id=\"edge54\" class=\"edge\">\n<title>44&#45;&gt;45</title>\n<path fill=\"none\" stroke=\"#000000\" d=\"M729.6344,-1175.5018C751.7747,-1175.6658 787.0591,-1175.927 812.5595,-1176.1159\"/>\n<polygon fill=\"#000000\" stroke=\"#000000\" points=\"812.7968,-1179.6176 822.8224,-1176.1919 812.8487,-1172.6178 812.7968,-1179.6176\"/>\n<text text-anchor=\"middle\" x=\"774.5254\" y=\"-1179.1478\" font-family=\"Times,serif\" font-size=\"14.00\" fill=\"#000000\">h</text>\n</g>\n<!-- 46 -->\n<g id=\"node51\" class=\"node\">\n<title>46</title>\n<ellipse fill=\"none\" stroke=\"#000000\" cx=\"989.8731\" cy=\"-1182.3478\" rx=\"20.5982\" ry=\"20.5982\"/>\n<text text-anchor=\"middle\" x=\"989.8731\" y=\"-1178.6478\" font-family=\"Times,serif\" font-size=\"14.00\" fill=\"#000000\">46</text>\n</g>\n<!-- 45&#45;&gt;46 -->\n<g id=\"edge55\" class=\"edge\">\n<title>45&#45;&gt;46</title>\n<path fill=\"none\" stroke=\"#000000\" d=\"M864.7914,-1177.2074C889.4019,-1178.2188 930.4911,-1179.9074 958.8215,-1181.0717\"/>\n<polygon fill=\"#000000\" stroke=\"#000000\" points=\"958.8584,-1184.576 968.9937,-1181.4897 959.1459,-1177.5819 958.8584,-1184.576\"/>\n<text text-anchor=\"middle\" x=\"916.8731\" y=\"-1184.1478\" font-family=\"Times,serif\" font-size=\"14.00\" fill=\"#000000\">t</text>\n</g>\n<!-- 46&#45;&gt;52 -->\n<g id=\"edge56\" class=\"edge\">\n<title>46&#45;&gt;52</title>\n<path fill=\"none\" stroke=\"#000000\" d=\"M1010.2598,-1186.8468C1032.7346,-1192.7333 1068.7614,-1205.0285 1091.8731,-1227.3478 1109.1797,-1244.0609 1120.569,-1268.9728 1127.4153,-1288.5082\"/>\n<polygon fill=\"#000000\" stroke=\"#000000\" points=\"1124.1408,-1289.755 1130.5886,-1298.1619 1130.7908,-1287.569 1124.1408,-1289.755\"/>\n<text text-anchor=\"middle\" x=\"1062.8731\" y=\"-1231.1478\" font-family=\"Times,serif\" font-size=\"14.00\" fill=\"#000000\">&lt;epsilon&gt;</text>\n</g>\n<!-- 49 -->\n<g id=\"node53\" class=\"node\">\n<title>49</title>\n<ellipse fill=\"none\" stroke=\"#000000\" cx=\"637.9821\" cy=\"-1121.3478\" rx=\"20.5982\" ry=\"20.5982\"/>\n<text text-anchor=\"middle\" x=\"637.9821\" y=\"-1117.6478\" font-family=\"Times,serif\" font-size=\"14.00\" fill=\"#000000\">49</text>\n</g>\n<!-- 48&#45;&gt;49 -->\n<g id=\"edge58\" class=\"edge\">\n<title>48&#45;&gt;49</title>\n<path fill=\"none\" stroke=\"#000000\" d=\"M517.1943,-1121.3478C540.8447,-1121.3478 579.6018,-1121.3478 606.8213,-1121.3478\"/>\n<polygon fill=\"#000000\" stroke=\"#000000\" points=\"606.9887,-1124.8478 616.9887,-1121.3478 606.9887,-1117.8478 606.9887,-1124.8478\"/>\n<text text-anchor=\"middle\" x=\"567.1344\" y=\"-1125.1478\" font-family=\"Times,serif\" font-size=\"14.00\" fill=\"#000000\">i</text>\n</g>\n<!-- 50 -->\n<g id=\"node54\" class=\"node\">\n<title>50</title>\n<ellipse fill=\"none\" stroke=\"#000000\" cx=\"774.5254\" cy=\"-1121.3478\" rx=\"20.5982\" ry=\"20.5982\"/>\n<text text-anchor=\"middle\" x=\"774.5254\" y=\"-1117.6478\" font-family=\"Times,serif\" font-size=\"14.00\" fill=\"#000000\">50</text>\n</g>\n<!-- 49&#45;&gt;50 -->\n<g id=\"edge59\" class=\"edge\">\n<title>49&#45;&gt;50</title>\n<path fill=\"none\" stroke=\"#000000\" d=\"M659.0178,-1121.3478C681.6354,-1121.3478 717.8193,-1121.3478 743.6604,-1121.3478\"/>\n<polygon fill=\"#000000\" stroke=\"#000000\" points=\"743.6899,-1124.8479 753.6899,-1121.3478 743.6899,-1117.8479 743.6899,-1124.8479\"/>\n<text text-anchor=\"middle\" x=\"708.8299\" y=\"-1125.1478\" font-family=\"Times,serif\" font-size=\"14.00\" fill=\"#000000\">n</text>\n</g>\n<!-- 51 -->\n<g id=\"node55\" class=\"node\">\n<title>51</title>\n<ellipse fill=\"none\" stroke=\"#000000\" cx=\"916.8731\" cy=\"-1122.3478\" rx=\"20.5982\" ry=\"20.5982\"/>\n<text text-anchor=\"middle\" x=\"916.8731\" y=\"-1118.6478\" font-family=\"Times,serif\" font-size=\"14.00\" fill=\"#000000\">51</text>\n</g>\n<!-- 50&#45;&gt;51 -->\n<g id=\"edge60\" class=\"edge\">\n<title>50&#45;&gt;51</title>\n<path fill=\"none\" stroke=\"#000000\" d=\"M795.5293,-1121.4953C819.2886,-1121.6622 858.2241,-1121.9357 885.5689,-1122.1278\"/>\n<polygon fill=\"#000000\" stroke=\"#000000\" points=\"885.7587,-1125.6292 895.7831,-1122.1996 885.8079,-1118.6293 885.7587,-1125.6292\"/>\n<text text-anchor=\"middle\" x=\"843.8731\" y=\"-1125.1478\" font-family=\"Times,serif\" font-size=\"14.00\" fill=\"#000000\">e</text>\n</g>\n<!-- 51&#45;&gt;52 -->\n<g id=\"edge61\" class=\"edge\">\n<title>51&#45;&gt;52</title>\n<path fill=\"none\" stroke=\"#000000\" d=\"M937.9584,-1122.5341C959.1392,-1123.3822 992.3529,-1126.5395 1018.8731,-1137.3478 1056.0018,-1152.4795 1068.0274,-1158.116 1091.8731,-1190.3478 1113.4362,-1219.494 1124.9899,-1260.0022 1130.7669,-1287.5899\"/>\n<polygon fill=\"#000000\" stroke=\"#000000\" points=\"1127.3474,-1288.3406 1132.707,-1297.4799 1134.2165,-1286.9931 1127.3474,-1288.3406\"/>\n<text text-anchor=\"middle\" x=\"989.8731\" y=\"-1141.1478\" font-family=\"Times,serif\" font-size=\"14.00\" fill=\"#000000\">&lt;epsilon&gt;</text>\n</g>\n<!-- 54 -->\n<g id=\"node57\" class=\"node\">\n<title>54</title>\n<ellipse fill=\"none\" stroke=\"#000000\" cx=\"1422.9164\" cy=\"-1318.3478\" rx=\"20.5982\" ry=\"20.5982\"/>\n<text text-anchor=\"middle\" x=\"1422.9164\" y=\"-1314.6478\" font-family=\"Times,serif\" font-size=\"14.00\" fill=\"#000000\">54</text>\n</g>\n<!-- 53&#45;&gt;54 -->\n<g id=\"edge63\" class=\"edge\">\n<title>53&#45;&gt;54</title>\n<path fill=\"none\" stroke=\"#000000\" d=\"M1302.1285,-1318.3478C1325.779,-1318.3478 1364.5361,-1318.3478 1391.7556,-1318.3478\"/>\n<polygon fill=\"#000000\" stroke=\"#000000\" points=\"1391.923,-1321.8478 1401.9229,-1318.3478 1391.9229,-1314.8478 1391.923,-1321.8478\"/>\n<text text-anchor=\"middle\" x=\"1352.0686\" y=\"-1322.1478\" font-family=\"Times,serif\" font-size=\"14.00\" fill=\"#000000\">d</text>\n</g>\n<!-- 55 -->\n<g id=\"node58\" class=\"node\">\n<title>55</title>\n<ellipse fill=\"none\" stroke=\"#000000\" cx=\"1511.6119\" cy=\"-1318.3478\" rx=\"20.5982\" ry=\"20.5982\"/>\n<text text-anchor=\"middle\" x=\"1511.6119\" y=\"-1314.6478\" font-family=\"Times,serif\" font-size=\"14.00\" fill=\"#000000\">55</text>\n</g>\n<!-- 54&#45;&gt;55 -->\n<g id=\"edge64\" class=\"edge\">\n<title>54&#45;&gt;55</title>\n<path fill=\"none\" stroke=\"#000000\" d=\"M1443.936,-1318.3478C1454.8714,-1318.3478 1468.4524,-1318.3478 1480.572,-1318.3478\"/>\n<polygon fill=\"#000000\" stroke=\"#000000\" points=\"1480.7432,-1321.8478 1490.7432,-1318.3478 1480.7431,-1314.8478 1480.7432,-1321.8478\"/>\n<text text-anchor=\"middle\" x=\"1467.2641\" y=\"-1322.1478\" font-family=\"Times,serif\" font-size=\"14.00\" fill=\"#000000\">o</text>\n</g>\n<!-- 56 -->\n<g id=\"node59\" class=\"node\">\n<title>56</title>\n<ellipse fill=\"none\" stroke=\"#000000\" cx=\"1643.0029\" cy=\"-1318.3478\" rx=\"20.5982\" ry=\"20.5982\"/>\n<text text-anchor=\"middle\" x=\"1643.0029\" y=\"-1314.6478\" font-family=\"Times,serif\" font-size=\"14.00\" fill=\"#000000\">56</text>\n</g>\n<!-- 55&#45;&gt;56 -->\n<g id=\"edge65\" class=\"edge\">\n<title>55&#45;&gt;56</title>\n<path fill=\"none\" stroke=\"#000000\" d=\"M1532.4312,-1318.3478C1553.7363,-1318.3478 1587.1032,-1318.3478 1611.614,-1318.3478\"/>\n<polygon fill=\"#000000\" stroke=\"#000000\" points=\"1611.8459,-1321.8478 1621.8459,-1318.3478 1611.8459,-1314.8478 1611.8459,-1321.8478\"/>\n<text text-anchor=\"middle\" x=\"1577.3074\" y=\"-1322.1478\" font-family=\"Times,serif\" font-size=\"14.00\" fill=\"#000000\">l</text>\n</g>\n<!-- 57 -->\n<g id=\"node60\" class=\"node\">\n<title>57</title>\n<ellipse fill=\"none\" stroke=\"#000000\" cx=\"1731.6984\" cy=\"-1318.3478\" rx=\"20.5982\" ry=\"20.5982\"/>\n<text text-anchor=\"middle\" x=\"1731.6984\" y=\"-1314.6478\" font-family=\"Times,serif\" font-size=\"14.00\" fill=\"#000000\">57</text>\n</g>\n<!-- 56&#45;&gt;57 -->\n<g id=\"edge66\" class=\"edge\">\n<title>56&#45;&gt;57</title>\n<path fill=\"none\" stroke=\"#000000\" d=\"M1664.0225,-1318.3478C1674.9579,-1318.3478 1688.5389,-1318.3478 1700.6585,-1318.3478\"/>\n<polygon fill=\"#000000\" stroke=\"#000000\" points=\"1700.8297,-1321.8478 1710.8297,-1318.3478 1700.8296,-1314.8478 1700.8297,-1321.8478\"/>\n<text text-anchor=\"middle\" x=\"1687.3506\" y=\"-1322.1478\" font-family=\"Times,serif\" font-size=\"14.00\" fill=\"#000000\">l</text>\n</g>\n<!-- 58 -->\n<g id=\"node61\" class=\"node\">\n<title>58</title>\n<ellipse fill=\"none\" stroke=\"#000000\" cx=\"1819.3939\" cy=\"-1318.3478\" rx=\"20.5982\" ry=\"20.5982\"/>\n<text text-anchor=\"middle\" x=\"1819.3939\" y=\"-1314.6478\" font-family=\"Times,serif\" font-size=\"14.00\" fill=\"#000000\">58</text>\n</g>\n<!-- 57&#45;&gt;58 -->\n<g id=\"edge67\" class=\"edge\">\n<title>57&#45;&gt;58</title>\n<path fill=\"none\" stroke=\"#000000\" d=\"M1752.927,-1318.3478C1763.4834,-1318.3478 1776.4484,-1318.3478 1788.1163,-1318.3478\"/>\n<polygon fill=\"#000000\" stroke=\"#000000\" points=\"1788.3608,-1321.8478 1798.3607,-1318.3478 1788.3607,-1314.8478 1788.3608,-1321.8478\"/>\n<text text-anchor=\"middle\" x=\"1775.5461\" y=\"-1322.1478\" font-family=\"Times,serif\" font-size=\"14.00\" fill=\"#000000\">a</text>\n</g>\n<!-- 59 -->\n<g id=\"node62\" class=\"node\">\n<title>59</title>\n<ellipse fill=\"none\" stroke=\"#000000\" cx=\"1961.4394\" cy=\"-1318.3478\" rx=\"20.5982\" ry=\"20.5982\"/>\n<text text-anchor=\"middle\" x=\"1961.4394\" y=\"-1314.6478\" font-family=\"Times,serif\" font-size=\"14.00\" fill=\"#000000\">59</text>\n</g>\n<!-- 58&#45;&gt;59 -->\n<g id=\"edge68\" class=\"edge\">\n<title>58&#45;&gt;59</title>\n<path fill=\"none\" stroke=\"#000000\" d=\"M1840.3532,-1318.3478C1864.0621,-1318.3478 1902.9149,-1318.3478 1930.2016,-1318.3478\"/>\n<polygon fill=\"#000000\" stroke=\"#000000\" points=\"1930.3942,-1321.8478 1940.3941,-1318.3478 1930.3941,-1314.8478 1930.3942,-1321.8478\"/>\n<text text-anchor=\"middle\" x=\"1888.7416\" y=\"-1322.1478\" font-family=\"Times,serif\" font-size=\"14.00\" fill=\"#000000\">r</text>\n</g>\n<!-- 60 -->\n<g id=\"node63\" class=\"node\">\n<title>60</title>\n<ellipse fill=\"none\" stroke=\"#000000\" cx=\"2051.485\" cy=\"-1318.3478\" rx=\"20.6302\" ry=\"20.6302\"/>\n<ellipse fill=\"none\" stroke=\"#000000\" cx=\"2051.485\" cy=\"-1318.3478\" rx=\"24.5979\" ry=\"24.5979\"/>\n<text text-anchor=\"middle\" x=\"2051.485\" y=\"-1314.6478\" font-family=\"Times,serif\" font-size=\"14.00\" fill=\"#000000\">60</text>\n</g>\n<!-- 59&#45;&gt;60 -->\n<g id=\"edge69\" class=\"edge\">\n<title>59&#45;&gt;60</title>\n<path fill=\"none\" stroke=\"#000000\" d=\"M1982.324,-1318.3478C1992.4274,-1318.3478 2004.8333,-1318.3478 2016.3351,-1318.3478\"/>\n<polygon fill=\"#000000\" stroke=\"#000000\" points=\"2016.5518,-1321.8478 2026.5517,-1318.3478 2016.5517,-1314.8478 2016.5518,-1321.8478\"/>\n<text text-anchor=\"middle\" x=\"2008.1373\" y=\"-1322.1478\" font-family=\"Times,serif\" font-size=\"14.00\" fill=\"#000000\">s</text>\n</g>\n<!-- 63 -->\n<g id=\"node66\" class=\"node\">\n<title>63</title>\n<ellipse fill=\"none\" stroke=\"#000000\" cx=\"425.4389\" cy=\"-1064.3478\" rx=\"20.5982\" ry=\"20.5982\"/>\n<text text-anchor=\"middle\" x=\"425.4389\" y=\"-1060.6478\" font-family=\"Times,serif\" font-size=\"14.00\" fill=\"#000000\">63</text>\n</g>\n<!-- 62&#45;&gt;63 -->\n<g id=\"edge72\" class=\"edge\">\n<title>62&#45;&gt;63</title>\n<path fill=\"none\" stroke=\"#000000\" d=\"M307.8082,-1064.3478C330.8532,-1064.3478 368.0202,-1064.3478 394.4041,-1064.3478\"/>\n<polygon fill=\"#000000\" stroke=\"#000000\" points=\"394.6302,-1067.8478 404.6302,-1064.3478 394.6302,-1060.8478 394.6302,-1067.8478\"/>\n<text text-anchor=\"middle\" x=\"356.0911\" y=\"-1068.1478\" font-family=\"Times,serif\" font-size=\"14.00\" fill=\"#000000\">n</text>\n</g>\n<!-- 71 -->\n<g id=\"node73\" class=\"node\">\n<title>71</title>\n<ellipse fill=\"none\" stroke=\"#000000\" cx=\"425.4389\" cy=\"-1003.3478\" rx=\"20.5982\" ry=\"20.5982\"/>\n<text text-anchor=\"middle\" x=\"425.4389\" y=\"-999.6478\" font-family=\"Times,serif\" font-size=\"14.00\" fill=\"#000000\">71</text>\n</g>\n<!-- 70&#45;&gt;71 -->\n<g id=\"edge79\" class=\"edge\">\n<title>70&#45;&gt;71</title>\n<path fill=\"none\" stroke=\"#000000\" d=\"M289.8351,-861.2507C294.3286,-885.2195 304.7113,-924.522 327.0911,-950.3478 345.3762,-971.4482 374.1948,-985.577 395.9189,-993.9027\"/>\n<polygon fill=\"#000000\" stroke=\"#000000\" points=\"394.7436,-997.1995 405.3377,-997.3239 397.1334,-990.6201 394.7436,-997.1995\"/>\n<text text-anchor=\"middle\" x=\"356.0911\" y=\"-992.1478\" font-family=\"Times,serif\" font-size=\"14.00\" fill=\"#000000\">t</text>\n</g>\n<!-- 74 -->\n<g id=\"node74\" class=\"node\">\n<title>74</title>\n<ellipse fill=\"none\" stroke=\"#000000\" cx=\"425.4389\" cy=\"-941.3478\" rx=\"20.5982\" ry=\"20.5982\"/>\n<text text-anchor=\"middle\" x=\"425.4389\" y=\"-937.6478\" font-family=\"Times,serif\" font-size=\"14.00\" fill=\"#000000\">74</text>\n</g>\n<!-- 70&#45;&gt;74 -->\n<g id=\"edge80\" class=\"edge\">\n<title>70&#45;&gt;74</title>\n<path fill=\"none\" stroke=\"#000000\" d=\"M295.2239,-859.4123C302.1064,-872.9871 312.9767,-890.8002 327.0911,-902.3478 346.7927,-918.4664 373.9852,-928.5628 394.7845,-934.4334\"/>\n<polygon fill=\"#000000\" stroke=\"#000000\" points=\"394.1499,-937.8857 404.7121,-937.0557 395.9376,-931.1179 394.1499,-937.8857\"/>\n<text text-anchor=\"middle\" x=\"356.0911\" y=\"-935.1478\" font-family=\"Times,serif\" font-size=\"14.00\" fill=\"#000000\">&lt;epsilon&gt;</text>\n</g>\n<!-- 80 -->\n<g id=\"node75\" class=\"node\">\n<title>80</title>\n<ellipse fill=\"none\" stroke=\"#000000\" cx=\"496.2866\" cy=\"-889.3478\" rx=\"20.5982\" ry=\"20.5982\"/>\n<text text-anchor=\"middle\" x=\"496.2866\" y=\"-885.6478\" font-family=\"Times,serif\" font-size=\"14.00\" fill=\"#000000\">80</text>\n</g>\n<!-- 70&#45;&gt;80 -->\n<g id=\"edge81\" class=\"edge\">\n<title>70&#45;&gt;80</title>\n<path fill=\"none\" stroke=\"#000000\" d=\"M305.2112,-850.3021C311.9417,-853.5898 319.7124,-857.0021 327.0911,-859.3478 374.0379,-874.272 430.8172,-882.425 465.2113,-886.3326\"/>\n<polygon fill=\"#000000\" stroke=\"#000000\" points=\"465.2313,-889.8553 475.5508,-887.4554 465.9871,-882.8962 465.2313,-889.8553\"/>\n<text text-anchor=\"middle\" x=\"356.0911\" y=\"-877.1478\" font-family=\"Times,serif\" font-size=\"14.00\" fill=\"#000000\">&lt;epsilon&gt;</text>\n</g>\n<!-- 85 -->\n<g id=\"node76\" class=\"node\">\n<title>85</title>\n<ellipse fill=\"none\" stroke=\"#000000\" cx=\"496.2866\" cy=\"-840.3478\" rx=\"20.5982\" ry=\"20.5982\"/>\n<text text-anchor=\"middle\" x=\"496.2866\" y=\"-836.6478\" font-family=\"Times,serif\" font-size=\"14.00\" fill=\"#000000\">85</text>\n</g>\n<!-- 70&#45;&gt;85 -->\n<g id=\"edge82\" class=\"edge\">\n<title>70&#45;&gt;85</title>\n<path fill=\"none\" stroke=\"#000000\" d=\"M307.6013,-840.3478C344.5331,-840.3478 421.6107,-840.3478 464.9543,-840.3478\"/>\n<polygon fill=\"#000000\" stroke=\"#000000\" points=\"465.2021,-843.8478 475.2021,-840.3478 465.2021,-836.8478 465.2021,-843.8478\"/>\n<text text-anchor=\"middle\" x=\"356.0911\" y=\"-844.1478\" font-family=\"Times,serif\" font-size=\"14.00\" fill=\"#000000\">&lt;epsilon&gt;</text>\n</g>\n<!-- 90 -->\n<g id=\"node77\" class=\"node\">\n<title>90</title>\n<ellipse fill=\"none\" stroke=\"#000000\" cx=\"496.2866\" cy=\"-793.3478\" rx=\"20.5982\" ry=\"20.5982\"/>\n<text text-anchor=\"middle\" x=\"496.2866\" y=\"-789.6478\" font-family=\"Times,serif\" font-size=\"14.00\" fill=\"#000000\">90</text>\n</g>\n<!-- 70&#45;&gt;90 -->\n<g id=\"edge83\" class=\"edge\">\n<title>70&#45;&gt;90</title>\n<path fill=\"none\" stroke=\"#000000\" d=\"M305.1963,-830.3462C311.9254,-827.054 319.699,-823.651 327.0911,-821.3478 373.9021,-806.7621 430.5017,-799.3551 464.926,-795.9267\"/>\n<polygon fill=\"#000000\" stroke=\"#000000\" points=\"465.6561,-799.3735 475.283,-794.9493 464.9984,-792.4044 465.6561,-799.3735\"/>\n<text text-anchor=\"middle\" x=\"356.0911\" y=\"-825.1478\" font-family=\"Times,serif\" font-size=\"14.00\" fill=\"#000000\">&lt;epsilon&gt;</text>\n</g>\n<!-- 94 -->\n<g id=\"node78\" class=\"node\">\n<title>94</title>\n<ellipse fill=\"none\" stroke=\"#000000\" cx=\"425.4389\" cy=\"-750.3478\" rx=\"20.5982\" ry=\"20.5982\"/>\n<text text-anchor=\"middle\" x=\"425.4389\" y=\"-746.6478\" font-family=\"Times,serif\" font-size=\"14.00\" fill=\"#000000\">94</text>\n</g>\n<!-- 70&#45;&gt;94 -->\n<g id=\"edge84\" class=\"edge\">\n<title>70&#45;&gt;94</title>\n<path fill=\"none\" stroke=\"#000000\" d=\"M291.8876,-820.0618C297.4858,-802.3836 308.2621,-777.5658 327.0911,-764.3478 346.5638,-750.6777 373.609,-747.6752 394.4106,-747.8129\"/>\n<polygon fill=\"#000000\" stroke=\"#000000\" points=\"394.5422,-751.3186 404.6462,-748.1312 394.7599,-744.322 394.5422,-751.3186\"/>\n<text text-anchor=\"middle\" x=\"356.0911\" y=\"-768.1478\" font-family=\"Times,serif\" font-size=\"14.00\" fill=\"#000000\">&lt;epsilon&gt;</text>\n</g>\n<!-- 100 -->\n<g id=\"node79\" class=\"node\">\n<title>100</title>\n<ellipse fill=\"none\" stroke=\"#000000\" cx=\"425.4389\" cy=\"-683.3478\" rx=\"25.1964\" ry=\"25.1964\"/>\n<text text-anchor=\"middle\" x=\"425.4389\" y=\"-679.6478\" font-family=\"Times,serif\" font-size=\"14.00\" fill=\"#000000\">100</text>\n</g>\n<!-- 70&#45;&gt;100 -->\n<g id=\"edge85\" class=\"edge\">\n<title>70&#45;&gt;100</title>\n<path fill=\"none\" stroke=\"#000000\" d=\"M289.2907,-819.6755C293.3163,-795.1106 303.3035,-754.2055 327.0911,-728.3478 343.9153,-710.0595 369.6283,-698.6536 390.5434,-691.9018\"/>\n<polygon fill=\"#000000\" stroke=\"#000000\" points=\"391.7951,-695.1804 400.3654,-688.9514 389.7812,-688.4763 391.7951,-695.1804\"/>\n<text text-anchor=\"middle\" x=\"356.0911\" y=\"-732.1478\" font-family=\"Times,serif\" font-size=\"14.00\" fill=\"#000000\">&lt;epsilon&gt;</text>\n</g>\n<!-- 106 -->\n<g id=\"node80\" class=\"node\">\n<title>106</title>\n<ellipse fill=\"none\" stroke=\"#000000\" cx=\"496.2866\" cy=\"-622.3478\" rx=\"25.1964\" ry=\"25.1964\"/>\n<text text-anchor=\"middle\" x=\"496.2866\" y=\"-618.6478\" font-family=\"Times,serif\" font-size=\"14.00\" fill=\"#000000\">106</text>\n</g>\n<!-- 70&#45;&gt;106 -->\n<g id=\"edge86\" class=\"edge\">\n<title>70&#45;&gt;106</title>\n<path fill=\"none\" stroke=\"#000000\" d=\"M289.2847,-819.5934C294.5278,-779.972 307.7003,-695.5995 327.0911,-674.3478 361.3596,-636.7905 422.0018,-626.0589 460.6159,-623.1661\"/>\n<polygon fill=\"#000000\" stroke=\"#000000\" points=\"461.1134,-626.6424 470.8827,-622.5423 460.6888,-619.6553 461.1134,-626.6424\"/>\n<text text-anchor=\"middle\" x=\"356.0911\" y=\"-678.1478\" font-family=\"Times,serif\" font-size=\"14.00\" fill=\"#000000\">&lt;epsilon&gt;</text>\n</g>\n<!-- 64 -->\n<g id=\"node67\" class=\"node\">\n<title>64</title>\n<ellipse fill=\"none\" stroke=\"#000000\" cx=\"567.1344\" cy=\"-1064.3478\" rx=\"20.5982\" ry=\"20.5982\"/>\n<text text-anchor=\"middle\" x=\"567.1344\" y=\"-1060.6478\" font-family=\"Times,serif\" font-size=\"14.00\" fill=\"#000000\">64</text>\n</g>\n<!-- 63&#45;&gt;64 -->\n<g id=\"edge73\" class=\"edge\">\n<title>63&#45;&gt;64</title>\n<path fill=\"none\" stroke=\"#000000\" d=\"M446.3465,-1064.3478C469.997,-1064.3478 508.7541,-1064.3478 535.9735,-1064.3478\"/>\n<polygon fill=\"#000000\" stroke=\"#000000\" points=\"536.141,-1067.8478 546.1409,-1064.3478 536.1409,-1060.8478 536.141,-1067.8478\"/>\n<text text-anchor=\"middle\" x=\"496.2866\" y=\"-1068.1478\" font-family=\"Times,serif\" font-size=\"14.00\" fill=\"#000000\">e</text>\n</g>\n<!-- 65 -->\n<g id=\"node68\" class=\"node\">\n<title>65</title>\n<ellipse fill=\"none\" stroke=\"#000000\" cx=\"708.8299\" cy=\"-1064.3478\" rx=\"20.5982\" ry=\"20.5982\"/>\n<text text-anchor=\"middle\" x=\"708.8299\" y=\"-1060.6478\" font-family=\"Times,serif\" font-size=\"14.00\" fill=\"#000000\">65</text>\n</g>\n<!-- 64&#45;&gt;65 -->\n<g id=\"edge74\" class=\"edge\">\n<title>64&#45;&gt;65</title>\n<path fill=\"none\" stroke=\"#000000\" d=\"M588.042,-1064.3478C611.6925,-1064.3478 650.4496,-1064.3478 677.6691,-1064.3478\"/>\n<polygon fill=\"#000000\" stroke=\"#000000\" points=\"677.8365,-1067.8478 687.8364,-1064.3478 677.8364,-1060.8478 677.8365,-1067.8478\"/>\n<text text-anchor=\"middle\" x=\"637.9821\" y=\"-1068.1478\" font-family=\"Times,serif\" font-size=\"14.00\" fill=\"#000000\">&lt;SPACE&gt;</text>\n</g>\n<!-- 66 -->\n<g id=\"node69\" class=\"node\">\n<title>66</title>\n<ellipse fill=\"none\" stroke=\"#000000\" cx=\"843.8731\" cy=\"-1064.3478\" rx=\"20.5982\" ry=\"20.5982\"/>\n<text text-anchor=\"middle\" x=\"843.8731\" y=\"-1060.6478\" font-family=\"Times,serif\" font-size=\"14.00\" fill=\"#000000\">66</text>\n</g>\n<!-- 65&#45;&gt;66 -->\n<g id=\"edge75\" class=\"edge\">\n<title>65&#45;&gt;66</title>\n<path fill=\"none\" stroke=\"#000000\" d=\"M729.6344,-1064.3478C751.7747,-1064.3478 787.0591,-1064.3478 812.5595,-1064.3478\"/>\n<polygon fill=\"#000000\" stroke=\"#000000\" points=\"812.8225,-1067.8478 822.8224,-1064.3478 812.8224,-1060.8478 812.8225,-1067.8478\"/>\n<text text-anchor=\"middle\" x=\"774.5254\" y=\"-1068.1478\" font-family=\"Times,serif\" font-size=\"14.00\" fill=\"#000000\">c</text>\n</g>\n<!-- 67 -->\n<g id=\"node70\" class=\"node\">\n<title>67</title>\n<ellipse fill=\"none\" stroke=\"#000000\" cx=\"989.8731\" cy=\"-1064.3478\" rx=\"20.5982\" ry=\"20.5982\"/>\n<text text-anchor=\"middle\" x=\"989.8731\" y=\"-1060.6478\" font-family=\"Times,serif\" font-size=\"14.00\" fill=\"#000000\">67</text>\n</g>\n<!-- 66&#45;&gt;67 -->\n<g id=\"edge76\" class=\"edge\">\n<title>66&#45;&gt;67</title>\n<path fill=\"none\" stroke=\"#000000\" d=\"M864.7914,-1064.3478C889.4019,-1064.3478 930.4911,-1064.3478 958.8215,-1064.3478\"/>\n<polygon fill=\"#000000\" stroke=\"#000000\" points=\"958.9937,-1067.8478 968.9937,-1064.3478 958.9937,-1060.8478 958.9937,-1067.8478\"/>\n<text text-anchor=\"middle\" x=\"916.8731\" y=\"-1068.1478\" font-family=\"Times,serif\" font-size=\"14.00\" fill=\"#000000\">e</text>\n</g>\n<!-- 68 -->\n<g id=\"node71\" class=\"node\">\n<title>68</title>\n<ellipse fill=\"none\" stroke=\"#000000\" cx=\"1135.8731\" cy=\"-1064.3478\" rx=\"20.5982\" ry=\"20.5982\"/>\n<text text-anchor=\"middle\" x=\"1135.8731\" y=\"-1060.6478\" font-family=\"Times,serif\" font-size=\"14.00\" fill=\"#000000\">68</text>\n</g>\n<!-- 67&#45;&gt;68 -->\n<g id=\"edge77\" class=\"edge\">\n<title>67&#45;&gt;68</title>\n<path fill=\"none\" stroke=\"#000000\" d=\"M1010.7914,-1064.3478C1035.4019,-1064.3478 1076.4911,-1064.3478 1104.8215,-1064.3478\"/>\n<polygon fill=\"#000000\" stroke=\"#000000\" points=\"1104.9937,-1067.8478 1114.9937,-1064.3478 1104.9937,-1060.8478 1104.9937,-1067.8478\"/>\n<text text-anchor=\"middle\" x=\"1062.8731\" y=\"-1068.1478\" font-family=\"Times,serif\" font-size=\"14.00\" fill=\"#000000\">n</text>\n</g>\n<!-- 69 -->\n<g id=\"node72\" class=\"node\">\n<title>69</title>\n<ellipse fill=\"none\" stroke=\"#000000\" cx=\"1281.2209\" cy=\"-1064.3478\" rx=\"20.6302\" ry=\"20.6302\"/>\n<ellipse fill=\"none\" stroke=\"#000000\" cx=\"1281.2209\" cy=\"-1064.3478\" rx=\"24.5979\" ry=\"24.5979\"/>\n<text text-anchor=\"middle\" x=\"1281.2209\" y=\"-1060.6478\" font-family=\"Times,serif\" font-size=\"14.00\" fill=\"#000000\">69</text>\n</g>\n<!-- 68&#45;&gt;69 -->\n<g id=\"edge78\" class=\"edge\">\n<title>68&#45;&gt;69</title>\n<path fill=\"none\" stroke=\"#000000\" d=\"M1156.6979,-1064.3478C1180.0152,-1064.3478 1218.1913,-1064.3478 1246.136,-1064.3478\"/>\n<polygon fill=\"#000000\" stroke=\"#000000\" points=\"1246.2928,-1067.8478 1256.2928,-1064.3478 1246.2928,-1060.8478 1246.2928,-1067.8478\"/>\n<text text-anchor=\"middle\" x=\"1210.3731\" y=\"-1068.1478\" font-family=\"Times,serif\" font-size=\"14.00\" fill=\"#000000\">t</text>\n</g>\n<!-- 72 -->\n<g id=\"node81\" class=\"node\">\n<title>72</title>\n<ellipse fill=\"none\" stroke=\"#000000\" cx=\"567.1344\" cy=\"-1004.3478\" rx=\"20.5982\" ry=\"20.5982\"/>\n<text text-anchor=\"middle\" x=\"567.1344\" y=\"-1000.6478\" font-family=\"Times,serif\" font-size=\"14.00\" fill=\"#000000\">72</text>\n</g>\n<!-- 71&#45;&gt;72 -->\n<g id=\"edge87\" class=\"edge\">\n<title>71&#45;&gt;72</title>\n<path fill=\"none\" stroke=\"#000000\" d=\"M446.3465,-1003.4953C469.997,-1003.6622 508.7541,-1003.9357 535.9735,-1004.1278\"/>\n<polygon fill=\"#000000\" stroke=\"#000000\" points=\"536.1164,-1007.6288 546.1409,-1004.1996 536.1659,-1000.629 536.1164,-1007.6288\"/>\n<text text-anchor=\"middle\" x=\"496.2866\" y=\"-1007.1478\" font-family=\"Times,serif\" font-size=\"14.00\" fill=\"#000000\">w</text>\n</g>\n<!-- 75 -->\n<g id=\"node84\" class=\"node\">\n<title>75</title>\n<ellipse fill=\"none\" stroke=\"#000000\" cx=\"567.1344\" cy=\"-944.3478\" rx=\"20.5982\" ry=\"20.5982\"/>\n<text text-anchor=\"middle\" x=\"567.1344\" y=\"-940.6478\" font-family=\"Times,serif\" font-size=\"14.00\" fill=\"#000000\">75</text>\n</g>\n<!-- 74&#45;&gt;75 -->\n<g id=\"edge90\" class=\"edge\">\n<title>74&#45;&gt;75</title>\n<path fill=\"none\" stroke=\"#000000\" d=\"M446.3465,-941.7904C469.997,-942.2911 508.7541,-943.1117 535.9735,-943.688\"/>\n<polygon fill=\"#000000\" stroke=\"#000000\" points=\"536.0691,-947.1907 546.1409,-943.9033 536.2173,-940.1923 536.0691,-947.1907\"/>\n<text text-anchor=\"middle\" x=\"496.2866\" y=\"-947.1478\" font-family=\"Times,serif\" font-size=\"14.00\" fill=\"#000000\">t</text>\n</g>\n<!-- 81 -->\n<g id=\"node89\" class=\"node\">\n<title>81</title>\n<ellipse fill=\"none\" stroke=\"#000000\" cx=\"637.9821\" cy=\"-891.3478\" rx=\"20.5982\" ry=\"20.5982\"/>\n<text text-anchor=\"middle\" x=\"637.9821\" y=\"-887.6478\" font-family=\"Times,serif\" font-size=\"14.00\" fill=\"#000000\">81</text>\n</g>\n<!-- 80&#45;&gt;81 -->\n<g id=\"edge96\" class=\"edge\">\n<title>80&#45;&gt;81</title>\n<path fill=\"none\" stroke=\"#000000\" d=\"M517.1943,-889.6429C540.8447,-889.9767 579.6018,-890.5237 606.8213,-890.9079\"/>\n<polygon fill=\"#000000\" stroke=\"#000000\" points=\"606.9402,-894.4099 616.9887,-891.0514 607.0391,-887.4106 606.9402,-894.4099\"/>\n<text text-anchor=\"middle\" x=\"567.1344\" y=\"-894.1478\" font-family=\"Times,serif\" font-size=\"14.00\" fill=\"#000000\">f</text>\n</g>\n<!-- 86 -->\n<g id=\"node93\" class=\"node\">\n<title>86</title>\n<ellipse fill=\"none\" stroke=\"#000000\" cx=\"637.9821\" cy=\"-839.3478\" rx=\"20.5982\" ry=\"20.5982\"/>\n<text text-anchor=\"middle\" x=\"637.9821\" y=\"-835.6478\" font-family=\"Times,serif\" font-size=\"14.00\" fill=\"#000000\">86</text>\n</g>\n<!-- 85&#45;&gt;86 -->\n<g id=\"edge101\" class=\"edge\">\n<title>85&#45;&gt;86</title>\n<path fill=\"none\" stroke=\"#000000\" d=\"M517.1943,-840.2002C540.8447,-840.0333 579.6018,-839.7598 606.8213,-839.5677\"/>\n<polygon fill=\"#000000\" stroke=\"#000000\" points=\"607.0137,-843.0665 616.9887,-839.4959 606.9642,-836.0667 607.0137,-843.0665\"/>\n<text text-anchor=\"middle\" x=\"567.1344\" y=\"-843.1478\" font-family=\"Times,serif\" font-size=\"14.00\" fill=\"#000000\">f</text>\n</g>\n<!-- 91 -->\n<g id=\"node97\" class=\"node\">\n<title>91</title>\n<ellipse fill=\"none\" stroke=\"#000000\" cx=\"774.5254\" cy=\"-793.3478\" rx=\"20.5982\" ry=\"20.5982\"/>\n<text text-anchor=\"middle\" x=\"774.5254\" y=\"-789.6478\" font-family=\"Times,serif\" font-size=\"14.00\" fill=\"#000000\">91</text>\n</g>\n<!-- 90&#45;&gt;91 -->\n<g id=\"edge106\" class=\"edge\">\n<title>90&#45;&gt;91</title>\n<path fill=\"none\" stroke=\"#000000\" d=\"M517.1997,-793.3478C565.6416,-793.3478 685.7698,-793.3478 743.1029,-793.3478\"/>\n<polygon fill=\"#000000\" stroke=\"#000000\" points=\"743.3696,-796.8478 753.3696,-793.3478 743.3695,-789.8478 743.3696,-796.8478\"/>\n<text text-anchor=\"middle\" x=\"637.9821\" y=\"-797.1478\" font-family=\"Times,serif\" font-size=\"14.00\" fill=\"#000000\">s</text>\n</g>\n<!-- 95 -->\n<g id=\"node100\" class=\"node\">\n<title>95</title>\n<ellipse fill=\"none\" stroke=\"#000000\" cx=\"567.1344\" cy=\"-744.3478\" rx=\"20.5982\" ry=\"20.5982\"/>\n<text text-anchor=\"middle\" x=\"567.1344\" y=\"-740.6478\" font-family=\"Times,serif\" font-size=\"14.00\" fill=\"#000000\">95</text>\n</g>\n<!-- 94&#45;&gt;95 -->\n<g id=\"edge110\" class=\"edge\">\n<title>94&#45;&gt;95</title>\n<path fill=\"none\" stroke=\"#000000\" d=\"M446.3782,-749.2696C452.6219,-748.959 459.4808,-748.6285 465.7866,-748.3478 489.3467,-747.2989 515.9941,-746.2527 536.05,-745.4934\"/>\n<polygon fill=\"#000000\" stroke=\"#000000\" points=\"536.3071,-748.9864 546.1687,-745.1135 536.0444,-741.9913 536.3071,-748.9864\"/>\n<text text-anchor=\"middle\" x=\"496.2866\" y=\"-752.1478\" font-family=\"Times,serif\" font-size=\"14.00\" fill=\"#000000\">s</text>\n</g>\n<!-- 101 -->\n<g id=\"node105\" class=\"node\">\n<title>101</title>\n<ellipse fill=\"none\" stroke=\"#000000\" cx=\"567.1344\" cy=\"-680.3478\" rx=\"25.1964\" ry=\"25.1964\"/>\n<text text-anchor=\"middle\" x=\"567.1344\" y=\"-676.6478\" font-family=\"Times,serif\" font-size=\"14.00\" fill=\"#000000\">101</text>\n</g>\n<!-- 100&#45;&gt;101 -->\n<g id=\"edge116\" class=\"edge\">\n<title>100&#45;&gt;101</title>\n<path fill=\"none\" stroke=\"#000000\" d=\"M451.0989,-682.8045C473.5688,-682.3287 506.4468,-681.6326 531.4735,-681.1028\"/>\n<polygon fill=\"#000000\" stroke=\"#000000\" points=\"531.7416,-684.598 541.6653,-680.887 531.5934,-677.5995 531.7416,-684.598\"/>\n<text text-anchor=\"middle\" x=\"496.2866\" y=\"-686.1478\" font-family=\"Times,serif\" font-size=\"14.00\" fill=\"#000000\">e</text>\n</g>\n<!-- 107 -->\n<g id=\"node110\" class=\"node\">\n<title>107</title>\n<ellipse fill=\"none\" stroke=\"#000000\" cx=\"637.9821\" cy=\"-621.3478\" rx=\"25.1964\" ry=\"25.1964\"/>\n<text text-anchor=\"middle\" x=\"637.9821\" y=\"-617.6478\" font-family=\"Times,serif\" font-size=\"14.00\" fill=\"#000000\">107</text>\n</g>\n<!-- 106&#45;&gt;107 -->\n<g id=\"edge122\" class=\"edge\">\n<title>106&#45;&gt;107</title>\n<path fill=\"none\" stroke=\"#000000\" d=\"M521.9466,-622.1667C544.4166,-622.0081 577.2946,-621.776 602.3212,-621.5994\"/>\n<polygon fill=\"#000000\" stroke=\"#000000\" points=\"602.538,-625.0981 612.513,-621.5275 602.4885,-618.0983 602.538,-625.0981\"/>\n<text text-anchor=\"middle\" x=\"567.1344\" y=\"-625.1478\" font-family=\"Times,serif\" font-size=\"14.00\" fill=\"#000000\">n</text>\n</g>\n<!-- 73 -->\n<g id=\"node82\" class=\"node\">\n<title>73</title>\n<ellipse fill=\"none\" stroke=\"#000000\" cx=\"1062.8731\" cy=\"-1005.3478\" rx=\"20.5982\" ry=\"20.5982\"/>\n<text text-anchor=\"middle\" x=\"1062.8731\" y=\"-1001.6478\" font-family=\"Times,serif\" font-size=\"14.00\" fill=\"#000000\">73</text>\n</g>\n<!-- 72&#45;&gt;73 -->\n<g id=\"edge88\" class=\"edge\">\n<title>72&#45;&gt;73</title>\n<path fill=\"none\" stroke=\"#000000\" d=\"M588.2599,-1004.3478C615.9489,-1004.3478 666.026,-1004.3478 708.8299,-1004.3478 708.8299,-1004.3478 708.8299,-1004.3478 916.8731,-1004.3478 956.3801,-1004.3478 1001.899,-1004.7184 1031.4654,-1005.0084\"/>\n<polygon fill=\"#000000\" stroke=\"#000000\" points=\"1031.5609,-1008.5095 1041.5958,-1005.1108 1031.6317,-1001.5098 1031.5609,-1008.5095\"/>\n<text text-anchor=\"middle\" x=\"774.5254\" y=\"-1008.1478\" font-family=\"Times,serif\" font-size=\"14.00\" fill=\"#000000\">o</text>\n</g>\n<!-- 111 -->\n<g id=\"node83\" class=\"node\">\n<title>111</title>\n<ellipse fill=\"none\" stroke=\"#000000\" cx=\"1281.2209\" cy=\"-819.3478\" rx=\"24.8972\" ry=\"24.8972\"/>\n<text text-anchor=\"middle\" x=\"1281.2209\" y=\"-815.6478\" font-family=\"Times,serif\" font-size=\"14.00\" fill=\"#000000\">111</text>\n</g>\n<!-- 73&#45;&gt;111 -->\n<g id=\"edge89\" class=\"edge\">\n<title>73&#45;&gt;111</title>\n<path fill=\"none\" stroke=\"#000000\" d=\"M1083.9082,-1006.205C1120.8617,-1006.5132 1197.6093,-1001.6163 1240.8731,-959.3478 1255.8174,-944.7473 1268.2756,-890.6945 1275.2334,-854.1851\"/>\n<polygon fill=\"#000000\" stroke=\"#000000\" points=\"1278.751,-854.4111 1277.1302,-843.9409 1271.868,-853.1366 1278.751,-854.4111\"/>\n<text text-anchor=\"middle\" x=\"1135.8731\" y=\"-1009.1478\" font-family=\"Times,serif\" font-size=\"14.00\" fill=\"#000000\">&lt;epsilon&gt;</text>\n</g>\n<!-- 112 -->\n<g id=\"node114\" class=\"node\">\n<title>112</title>\n<ellipse fill=\"none\" stroke=\"#000000\" cx=\"1422.9164\" cy=\"-819.3478\" rx=\"24.8972\" ry=\"24.8972\"/>\n<text text-anchor=\"middle\" x=\"1422.9164\" y=\"-815.6478\" font-family=\"Times,serif\" font-size=\"14.00\" fill=\"#000000\">112</text>\n</g>\n<!-- 111&#45;&gt;112 -->\n<g id=\"edge127\" class=\"edge\">\n<title>111&#45;&gt;112</title>\n<path fill=\"none\" stroke=\"#000000\" d=\"M1306.227,-819.3478C1328.8899,-819.3478 1362.52,-819.3478 1387.8626,-819.3478\"/>\n<polygon fill=\"#000000\" stroke=\"#000000\" points=\"1388.1602,-822.8478 1398.1602,-819.3478 1388.1602,-815.8478 1388.1602,-822.8478\"/>\n<text text-anchor=\"middle\" x=\"1352.0686\" y=\"-823.1478\" font-family=\"Times,serif\" font-size=\"14.00\" fill=\"#000000\">&lt;SPACE&gt;</text>\n</g>\n<!-- 76 -->\n<g id=\"node85\" class=\"node\">\n<title>76</title>\n<ellipse fill=\"none\" stroke=\"#000000\" cx=\"708.8299\" cy=\"-946.3478\" rx=\"20.5982\" ry=\"20.5982\"/>\n<text text-anchor=\"middle\" x=\"708.8299\" y=\"-942.6478\" font-family=\"Times,serif\" font-size=\"14.00\" fill=\"#000000\">76</text>\n</g>\n<!-- 75&#45;&gt;76 -->\n<g id=\"edge91\" class=\"edge\">\n<title>75&#45;&gt;76</title>\n<path fill=\"none\" stroke=\"#000000\" d=\"M588.042,-944.6429C611.6925,-944.9767 650.4496,-945.5237 677.6691,-945.9079\"/>\n<polygon fill=\"#000000\" stroke=\"#000000\" points=\"677.788,-949.4099 687.8364,-946.0514 677.8869,-942.4106 677.788,-949.4099\"/>\n<text text-anchor=\"middle\" x=\"637.9821\" y=\"-949.1478\" font-family=\"Times,serif\" font-size=\"14.00\" fill=\"#000000\">h</text>\n</g>\n<!-- 77 -->\n<g id=\"node86\" class=\"node\">\n<title>77</title>\n<ellipse fill=\"none\" stroke=\"#000000\" cx=\"843.8731\" cy=\"-949.3478\" rx=\"20.5982\" ry=\"20.5982\"/>\n<text text-anchor=\"middle\" x=\"843.8731\" y=\"-945.6478\" font-family=\"Times,serif\" font-size=\"14.00\" fill=\"#000000\">77</text>\n</g>\n<!-- 76&#45;&gt;77 -->\n<g id=\"edge92\" class=\"edge\">\n<title>76&#45;&gt;77</title>\n<path fill=\"none\" stroke=\"#000000\" d=\"M729.6344,-946.8099C751.7747,-947.3018 787.0591,-948.0856 812.5595,-948.6521\"/>\n<polygon fill=\"#000000\" stroke=\"#000000\" points=\"812.7471,-952.1571 822.8224,-948.8801 812.9027,-945.1588 812.7471,-952.1571\"/>\n<text text-anchor=\"middle\" x=\"774.5254\" y=\"-951.1478\" font-family=\"Times,serif\" font-size=\"14.00\" fill=\"#000000\">r</text>\n</g>\n<!-- 78 -->\n<g id=\"node87\" class=\"node\">\n<title>78</title>\n<ellipse fill=\"none\" stroke=\"#000000\" cx=\"989.8731\" cy=\"-949.3478\" rx=\"20.5982\" ry=\"20.5982\"/>\n<text text-anchor=\"middle\" x=\"989.8731\" y=\"-945.6478\" font-family=\"Times,serif\" font-size=\"14.00\" fill=\"#000000\">78</text>\n</g>\n<!-- 77&#45;&gt;78 -->\n<g id=\"edge93\" class=\"edge\">\n<title>77&#45;&gt;78</title>\n<path fill=\"none\" stroke=\"#000000\" d=\"M864.7914,-949.3478C889.4019,-949.3478 930.4911,-949.3478 958.8215,-949.3478\"/>\n<polygon fill=\"#000000\" stroke=\"#000000\" points=\"958.9937,-952.8478 968.9937,-949.3478 958.9937,-945.8478 958.9937,-952.8478\"/>\n<text text-anchor=\"middle\" x=\"916.8731\" y=\"-953.1478\" font-family=\"Times,serif\" font-size=\"14.00\" fill=\"#000000\">e</text>\n</g>\n<!-- 79 -->\n<g id=\"node88\" class=\"node\">\n<title>79</title>\n<ellipse fill=\"none\" stroke=\"#000000\" cx=\"1135.8731\" cy=\"-949.3478\" rx=\"20.5982\" ry=\"20.5982\"/>\n<text text-anchor=\"middle\" x=\"1135.8731\" y=\"-945.6478\" font-family=\"Times,serif\" font-size=\"14.00\" fill=\"#000000\">79</text>\n</g>\n<!-- 78&#45;&gt;79 -->\n<g id=\"edge94\" class=\"edge\">\n<title>78&#45;&gt;79</title>\n<path fill=\"none\" stroke=\"#000000\" d=\"M1010.7914,-949.3478C1035.4019,-949.3478 1076.4911,-949.3478 1104.8215,-949.3478\"/>\n<polygon fill=\"#000000\" stroke=\"#000000\" points=\"1104.9937,-952.8478 1114.9937,-949.3478 1104.9937,-945.8478 1104.9937,-952.8478\"/>\n<text text-anchor=\"middle\" x=\"1062.8731\" y=\"-953.1478\" font-family=\"Times,serif\" font-size=\"14.00\" fill=\"#000000\">e</text>\n</g>\n<!-- 79&#45;&gt;111 -->\n<g id=\"edge95\" class=\"edge\">\n<title>79&#45;&gt;111</title>\n<path fill=\"none\" stroke=\"#000000\" d=\"M1156.5325,-946.3146C1179.7198,-941.9198 1217.1855,-931.7118 1240.8731,-909.3478 1256.7042,-894.4013 1266.7627,-872.1002 1272.8775,-853.4373\"/>\n<polygon fill=\"#000000\" stroke=\"#000000\" points=\"1276.25,-854.3765 1275.8029,-843.7911 1269.5513,-852.345 1276.25,-854.3765\"/>\n<text text-anchor=\"middle\" x=\"1210.3731\" y=\"-944.1478\" font-family=\"Times,serif\" font-size=\"14.00\" fill=\"#000000\">&lt;epsilon&gt;</text>\n</g>\n<!-- 82 -->\n<g id=\"node90\" class=\"node\">\n<title>82</title>\n<ellipse fill=\"none\" stroke=\"#000000\" cx=\"774.5254\" cy=\"-893.3478\" rx=\"20.5982\" ry=\"20.5982\"/>\n<text text-anchor=\"middle\" x=\"774.5254\" y=\"-889.6478\" font-family=\"Times,serif\" font-size=\"14.00\" fill=\"#000000\">82</text>\n</g>\n<!-- 81&#45;&gt;82 -->\n<g id=\"edge97\" class=\"edge\">\n<title>81&#45;&gt;82</title>\n<path fill=\"none\" stroke=\"#000000\" d=\"M659.0178,-891.6559C681.6354,-891.9872 717.8193,-892.5172 743.6604,-892.8957\"/>\n<polygon fill=\"#000000\" stroke=\"#000000\" points=\"743.6397,-896.3956 753.6899,-893.0426 743.7423,-889.3964 743.6397,-896.3956\"/>\n<text text-anchor=\"middle\" x=\"708.8299\" y=\"-896.1478\" font-family=\"Times,serif\" font-size=\"14.00\" fill=\"#000000\">o</text>\n</g>\n<!-- 83 -->\n<g id=\"node91\" class=\"node\">\n<title>83</title>\n<ellipse fill=\"none\" stroke=\"#000000\" cx=\"916.8731\" cy=\"-895.3478\" rx=\"20.5982\" ry=\"20.5982\"/>\n<text text-anchor=\"middle\" x=\"916.8731\" y=\"-891.6478\" font-family=\"Times,serif\" font-size=\"14.00\" fill=\"#000000\">83</text>\n</g>\n<!-- 82&#45;&gt;83 -->\n<g id=\"edge98\" class=\"edge\">\n<title>82&#45;&gt;83</title>\n<path fill=\"none\" stroke=\"#000000\" d=\"M795.5293,-893.6429C819.2886,-893.9767 858.2241,-894.5237 885.5689,-894.9079\"/>\n<polygon fill=\"#000000\" stroke=\"#000000\" points=\"885.7348,-898.4105 895.7831,-895.0514 885.8332,-891.4112 885.7348,-898.4105\"/>\n<text text-anchor=\"middle\" x=\"843.8731\" y=\"-898.1478\" font-family=\"Times,serif\" font-size=\"14.00\" fill=\"#000000\">u</text>\n</g>\n<!-- 84 -->\n<g id=\"node92\" class=\"node\">\n<title>84</title>\n<ellipse fill=\"none\" stroke=\"#000000\" cx=\"1062.8731\" cy=\"-895.3478\" rx=\"20.5982\" ry=\"20.5982\"/>\n<text text-anchor=\"middle\" x=\"1062.8731\" y=\"-891.6478\" font-family=\"Times,serif\" font-size=\"14.00\" fill=\"#000000\">84</text>\n</g>\n<!-- 83&#45;&gt;84 -->\n<g id=\"edge99\" class=\"edge\">\n<title>83&#45;&gt;84</title>\n<path fill=\"none\" stroke=\"#000000\" d=\"M937.7914,-895.3478C962.4019,-895.3478 1003.4911,-895.3478 1031.8215,-895.3478\"/>\n<polygon fill=\"#000000\" stroke=\"#000000\" points=\"1031.9937,-898.8478 1041.9937,-895.3478 1031.9937,-891.8478 1031.9937,-898.8478\"/>\n<text text-anchor=\"middle\" x=\"989.8731\" y=\"-899.1478\" font-family=\"Times,serif\" font-size=\"14.00\" fill=\"#000000\">r</text>\n</g>\n<!-- 84&#45;&gt;111 -->\n<g id=\"edge100\" class=\"edge\">\n<title>84&#45;&gt;111</title>\n<path fill=\"none\" stroke=\"#000000\" d=\"M1083.3663,-890.5856C1116.9829,-882.4544 1185.6247,-864.5029 1240.8731,-841.3478 1244.1361,-839.9802 1247.4792,-838.4263 1250.7769,-836.7917\"/>\n<polygon fill=\"#000000\" stroke=\"#000000\" points=\"1252.5998,-839.7884 1259.8458,-832.0588 1249.3611,-833.5827 1252.5998,-839.7884\"/>\n<text text-anchor=\"middle\" x=\"1135.8731\" y=\"-887.1478\" font-family=\"Times,serif\" font-size=\"14.00\" fill=\"#000000\">&lt;epsilon&gt;</text>\n</g>\n<!-- 87 -->\n<g id=\"node94\" class=\"node\">\n<title>87</title>\n<ellipse fill=\"none\" stroke=\"#000000\" cx=\"774.5254\" cy=\"-844.3478\" rx=\"20.5982\" ry=\"20.5982\"/>\n<text text-anchor=\"middle\" x=\"774.5254\" y=\"-840.6478\" font-family=\"Times,serif\" font-size=\"14.00\" fill=\"#000000\">87</text>\n</g>\n<!-- 86&#45;&gt;87 -->\n<g id=\"edge102\" class=\"edge\">\n<title>86&#45;&gt;87</title>\n<path fill=\"none\" stroke=\"#000000\" d=\"M659.0178,-840.118C681.6354,-840.9463 717.8193,-842.2713 743.6604,-843.2175\"/>\n<polygon fill=\"#000000\" stroke=\"#000000\" points=\"743.5685,-846.7164 753.6899,-843.5848 743.8247,-839.7211 743.5685,-846.7164\"/>\n<text text-anchor=\"middle\" x=\"708.8299\" y=\"-846.1478\" font-family=\"Times,serif\" font-size=\"14.00\" fill=\"#000000\">i</text>\n</g>\n<!-- 88 -->\n<g id=\"node95\" class=\"node\">\n<title>88</title>\n<ellipse fill=\"none\" stroke=\"#000000\" cx=\"916.8731\" cy=\"-844.3478\" rx=\"20.5982\" ry=\"20.5982\"/>\n<text text-anchor=\"middle\" x=\"916.8731\" y=\"-840.6478\" font-family=\"Times,serif\" font-size=\"14.00\" fill=\"#000000\">88</text>\n</g>\n<!-- 87&#45;&gt;88 -->\n<g id=\"edge103\" class=\"edge\">\n<title>87&#45;&gt;88</title>\n<path fill=\"none\" stroke=\"#000000\" d=\"M795.5293,-844.3478C819.2886,-844.3478 858.2241,-844.3478 885.5689,-844.3478\"/>\n<polygon fill=\"#000000\" stroke=\"#000000\" points=\"885.7831,-847.8478 895.7831,-844.3478 885.783,-840.8478 885.7831,-847.8478\"/>\n<text text-anchor=\"middle\" x=\"843.8731\" y=\"-848.1478\" font-family=\"Times,serif\" font-size=\"14.00\" fill=\"#000000\">v</text>\n</g>\n<!-- 89 -->\n<g id=\"node96\" class=\"node\">\n<title>89</title>\n<ellipse fill=\"none\" stroke=\"#000000\" cx=\"1062.8731\" cy=\"-844.3478\" rx=\"20.5982\" ry=\"20.5982\"/>\n<text text-anchor=\"middle\" x=\"1062.8731\" y=\"-840.6478\" font-family=\"Times,serif\" font-size=\"14.00\" fill=\"#000000\">89</text>\n</g>\n<!-- 88&#45;&gt;89 -->\n<g id=\"edge104\" class=\"edge\">\n<title>88&#45;&gt;89</title>\n<path fill=\"none\" stroke=\"#000000\" d=\"M937.7914,-844.3478C962.4019,-844.3478 1003.4911,-844.3478 1031.8215,-844.3478\"/>\n<polygon fill=\"#000000\" stroke=\"#000000\" points=\"1031.9937,-847.8478 1041.9937,-844.3478 1031.9937,-840.8478 1031.9937,-847.8478\"/>\n<text text-anchor=\"middle\" x=\"989.8731\" y=\"-848.1478\" font-family=\"Times,serif\" font-size=\"14.00\" fill=\"#000000\">e</text>\n</g>\n<!-- 89&#45;&gt;111 -->\n<g id=\"edge105\" class=\"edge\">\n<title>89&#45;&gt;111</title>\n<path fill=\"none\" stroke=\"#000000\" d=\"M1083.8092,-841.9506C1121.3401,-837.6535 1200.4249,-828.5986 1246.29,-823.3472\"/>\n<polygon fill=\"#000000\" stroke=\"#000000\" points=\"1246.831,-826.8082 1256.368,-822.1933 1246.0347,-819.8537 1246.831,-826.8082\"/>\n<text text-anchor=\"middle\" x=\"1135.8731\" y=\"-842.1478\" font-family=\"Times,serif\" font-size=\"14.00\" fill=\"#000000\">&lt;epsilon&gt;</text>\n</g>\n<!-- 92 -->\n<g id=\"node98\" class=\"node\">\n<title>92</title>\n<ellipse fill=\"none\" stroke=\"#000000\" cx=\"916.8731\" cy=\"-793.3478\" rx=\"20.5982\" ry=\"20.5982\"/>\n<text text-anchor=\"middle\" x=\"916.8731\" y=\"-789.6478\" font-family=\"Times,serif\" font-size=\"14.00\" fill=\"#000000\">92</text>\n</g>\n<!-- 91&#45;&gt;92 -->\n<g id=\"edge107\" class=\"edge\">\n<title>91&#45;&gt;92</title>\n<path fill=\"none\" stroke=\"#000000\" d=\"M795.5293,-793.3478C819.2886,-793.3478 858.2241,-793.3478 885.5689,-793.3478\"/>\n<polygon fill=\"#000000\" stroke=\"#000000\" points=\"885.7831,-796.8478 895.7831,-793.3478 885.783,-789.8478 885.7831,-796.8478\"/>\n<text text-anchor=\"middle\" x=\"843.8731\" y=\"-797.1478\" font-family=\"Times,serif\" font-size=\"14.00\" fill=\"#000000\">i</text>\n</g>\n<!-- 93 -->\n<g id=\"node99\" class=\"node\">\n<title>93</title>\n<ellipse fill=\"none\" stroke=\"#000000\" cx=\"1062.8731\" cy=\"-793.3478\" rx=\"20.5982\" ry=\"20.5982\"/>\n<text text-anchor=\"middle\" x=\"1062.8731\" y=\"-789.6478\" font-family=\"Times,serif\" font-size=\"14.00\" fill=\"#000000\">93</text>\n</g>\n<!-- 92&#45;&gt;93 -->\n<g id=\"edge108\" class=\"edge\">\n<title>92&#45;&gt;93</title>\n<path fill=\"none\" stroke=\"#000000\" d=\"M937.7914,-793.3478C962.4019,-793.3478 1003.4911,-793.3478 1031.8215,-793.3478\"/>\n<polygon fill=\"#000000\" stroke=\"#000000\" points=\"1031.9937,-796.8478 1041.9937,-793.3478 1031.9937,-789.8478 1031.9937,-796.8478\"/>\n<text text-anchor=\"middle\" x=\"989.8731\" y=\"-797.1478\" font-family=\"Times,serif\" font-size=\"14.00\" fill=\"#000000\">x</text>\n</g>\n<!-- 93&#45;&gt;111 -->\n<g id=\"edge109\" class=\"edge\">\n<title>93&#45;&gt;111</title>\n<path fill=\"none\" stroke=\"#000000\" d=\"M1083.8092,-795.8407C1121.3401,-800.3098 1200.4249,-809.7269 1246.29,-815.1883\"/>\n<polygon fill=\"#000000\" stroke=\"#000000\" points=\"1246.0242,-818.6813 1256.368,-816.3884 1246.852,-811.7304 1246.0242,-818.6813\"/>\n<text text-anchor=\"middle\" x=\"1135.8731\" y=\"-808.1478\" font-family=\"Times,serif\" font-size=\"14.00\" fill=\"#000000\">&lt;epsilon&gt;</text>\n</g>\n<!-- 96 -->\n<g id=\"node101\" class=\"node\">\n<title>96</title>\n<ellipse fill=\"none\" stroke=\"#000000\" cx=\"708.8299\" cy=\"-744.3478\" rx=\"20.5982\" ry=\"20.5982\"/>\n<text text-anchor=\"middle\" x=\"708.8299\" y=\"-740.6478\" font-family=\"Times,serif\" font-size=\"14.00\" fill=\"#000000\">96</text>\n</g>\n<!-- 95&#45;&gt;96 -->\n<g id=\"edge111\" class=\"edge\">\n<title>95&#45;&gt;96</title>\n<path fill=\"none\" stroke=\"#000000\" d=\"M588.042,-744.3478C611.6925,-744.3478 650.4496,-744.3478 677.6691,-744.3478\"/>\n<polygon fill=\"#000000\" stroke=\"#000000\" points=\"677.8365,-747.8478 687.8364,-744.3478 677.8364,-740.8478 677.8365,-747.8478\"/>\n<text text-anchor=\"middle\" x=\"637.9821\" y=\"-748.1478\" font-family=\"Times,serif\" font-size=\"14.00\" fill=\"#000000\">e</text>\n</g>\n<!-- 97 -->\n<g id=\"node102\" class=\"node\">\n<title>97</title>\n<ellipse fill=\"none\" stroke=\"#000000\" cx=\"843.8731\" cy=\"-736.3478\" rx=\"20.5982\" ry=\"20.5982\"/>\n<text text-anchor=\"middle\" x=\"843.8731\" y=\"-732.6478\" font-family=\"Times,serif\" font-size=\"14.00\" fill=\"#000000\">97</text>\n</g>\n<!-- 96&#45;&gt;97 -->\n<g id=\"edge112\" class=\"edge\">\n<title>96&#45;&gt;97</title>\n<path fill=\"none\" stroke=\"#000000\" d=\"M729.6344,-743.1153C751.7747,-741.8037 787.0591,-739.7134 812.5595,-738.2028\"/>\n<polygon fill=\"#000000\" stroke=\"#000000\" points=\"813.0469,-741.6801 822.8224,-737.5948 812.6329,-734.6924 813.0469,-741.6801\"/>\n<text text-anchor=\"middle\" x=\"774.5254\" y=\"-745.1478\" font-family=\"Times,serif\" font-size=\"14.00\" fill=\"#000000\">v</text>\n</g>\n<!-- 98 -->\n<g id=\"node103\" class=\"node\">\n<title>98</title>\n<ellipse fill=\"none\" stroke=\"#000000\" cx=\"989.8731\" cy=\"-736.3478\" rx=\"20.5982\" ry=\"20.5982\"/>\n<text text-anchor=\"middle\" x=\"989.8731\" y=\"-732.6478\" font-family=\"Times,serif\" font-size=\"14.00\" fill=\"#000000\">98</text>\n</g>\n<!-- 97&#45;&gt;98 -->\n<g id=\"edge113\" class=\"edge\">\n<title>97&#45;&gt;98</title>\n<path fill=\"none\" stroke=\"#000000\" d=\"M864.7914,-736.3478C889.4019,-736.3478 930.4911,-736.3478 958.8215,-736.3478\"/>\n<polygon fill=\"#000000\" stroke=\"#000000\" points=\"958.9937,-739.8478 968.9937,-736.3478 958.9937,-732.8478 958.9937,-739.8478\"/>\n<text text-anchor=\"middle\" x=\"916.8731\" y=\"-740.1478\" font-family=\"Times,serif\" font-size=\"14.00\" fill=\"#000000\">e</text>\n</g>\n<!-- 99 -->\n<g id=\"node104\" class=\"node\">\n<title>99</title>\n<ellipse fill=\"none\" stroke=\"#000000\" cx=\"1135.8731\" cy=\"-736.3478\" rx=\"20.5982\" ry=\"20.5982\"/>\n<text text-anchor=\"middle\" x=\"1135.8731\" y=\"-732.6478\" font-family=\"Times,serif\" font-size=\"14.00\" fill=\"#000000\">99</text>\n</g>\n<!-- 98&#45;&gt;99 -->\n<g id=\"edge114\" class=\"edge\">\n<title>98&#45;&gt;99</title>\n<path fill=\"none\" stroke=\"#000000\" d=\"M1010.7914,-736.3478C1035.4019,-736.3478 1076.4911,-736.3478 1104.8215,-736.3478\"/>\n<polygon fill=\"#000000\" stroke=\"#000000\" points=\"1104.9937,-739.8478 1114.9937,-736.3478 1104.9937,-732.8478 1104.9937,-739.8478\"/>\n<text text-anchor=\"middle\" x=\"1062.8731\" y=\"-740.1478\" font-family=\"Times,serif\" font-size=\"14.00\" fill=\"#000000\">n</text>\n</g>\n<!-- 99&#45;&gt;111 -->\n<g id=\"edge115\" class=\"edge\">\n<title>99&#45;&gt;111</title>\n<path fill=\"none\" stroke=\"#000000\" d=\"M1156.9095,-737.8359C1179.4173,-740.3137 1215.3235,-746.8968 1240.8731,-764.3478 1250.0624,-770.6242 1257.9419,-779.7035 1264.235,-788.6822\"/>\n<polygon fill=\"#000000\" stroke=\"#000000\" points=\"1261.3758,-790.7053 1269.7735,-797.1652 1267.2372,-786.8784 1261.3758,-790.7053\"/>\n<text text-anchor=\"middle\" x=\"1210.3731\" y=\"-768.1478\" font-family=\"Times,serif\" font-size=\"14.00\" fill=\"#000000\">&lt;epsilon&gt;</text>\n</g>\n<!-- 102 -->\n<g id=\"node106\" class=\"node\">\n<title>102</title>\n<ellipse fill=\"none\" stroke=\"#000000\" cx=\"708.8299\" cy=\"-679.3478\" rx=\"25.1964\" ry=\"25.1964\"/>\n<text text-anchor=\"middle\" x=\"708.8299\" y=\"-675.6478\" font-family=\"Times,serif\" font-size=\"14.00\" fill=\"#000000\">102</text>\n</g>\n<!-- 101&#45;&gt;102 -->\n<g id=\"edge117\" class=\"edge\">\n<title>101&#45;&gt;102</title>\n<path fill=\"none\" stroke=\"#000000\" d=\"M592.7944,-680.1667C615.2643,-680.0081 648.1423,-679.776 673.169,-679.5994\"/>\n<polygon fill=\"#000000\" stroke=\"#000000\" points=\"673.3858,-683.0981 683.3608,-679.5275 673.3363,-676.0983 673.3858,-683.0981\"/>\n<text text-anchor=\"middle\" x=\"637.9821\" y=\"-683.1478\" font-family=\"Times,serif\" font-size=\"14.00\" fill=\"#000000\">i</text>\n</g>\n<!-- 103 -->\n<g id=\"node107\" class=\"node\">\n<title>103</title>\n<ellipse fill=\"none\" stroke=\"#000000\" cx=\"843.8731\" cy=\"-672.3478\" rx=\"25.1964\" ry=\"25.1964\"/>\n<text text-anchor=\"middle\" x=\"843.8731\" y=\"-668.6478\" font-family=\"Times,serif\" font-size=\"14.00\" fill=\"#000000\">103</text>\n</g>\n<!-- 102&#45;&gt;103 -->\n<g id=\"edge118\" class=\"edge\">\n<title>102&#45;&gt;103</title>\n<path fill=\"none\" stroke=\"#000000\" d=\"M734.2305,-678.0311C755.035,-676.9527 784.7222,-675.4139 807.9596,-674.2093\"/>\n<polygon fill=\"#000000\" stroke=\"#000000\" points=\"808.3219,-677.6954 818.1273,-673.6823 807.9595,-670.7047 808.3219,-677.6954\"/>\n<text text-anchor=\"middle\" x=\"774.5254\" y=\"-680.1478\" font-family=\"Times,serif\" font-size=\"14.00\" fill=\"#000000\">g</text>\n</g>\n<!-- 104 -->\n<g id=\"node108\" class=\"node\">\n<title>104</title>\n<ellipse fill=\"none\" stroke=\"#000000\" cx=\"989.8731\" cy=\"-672.3478\" rx=\"25.1964\" ry=\"25.1964\"/>\n<text text-anchor=\"middle\" x=\"989.8731\" y=\"-668.6478\" font-family=\"Times,serif\" font-size=\"14.00\" fill=\"#000000\">104</text>\n</g>\n<!-- 103&#45;&gt;104 -->\n<g id=\"edge119\" class=\"edge\">\n<title>103&#45;&gt;104</title>\n<path fill=\"none\" stroke=\"#000000\" d=\"M869.3044,-672.3478C892.7131,-672.3478 927.6806,-672.3478 953.9389,-672.3478\"/>\n<polygon fill=\"#000000\" stroke=\"#000000\" points=\"954.2435,-675.8478 964.2434,-672.3478 954.2434,-668.8478 954.2435,-675.8478\"/>\n<text text-anchor=\"middle\" x=\"916.8731\" y=\"-676.1478\" font-family=\"Times,serif\" font-size=\"14.00\" fill=\"#000000\">h</text>\n</g>\n<!-- 105 -->\n<g id=\"node109\" class=\"node\">\n<title>105</title>\n<ellipse fill=\"none\" stroke=\"#000000\" cx=\"1135.8731\" cy=\"-672.3478\" rx=\"25.1964\" ry=\"25.1964\"/>\n<text text-anchor=\"middle\" x=\"1135.8731\" y=\"-668.6478\" font-family=\"Times,serif\" font-size=\"14.00\" fill=\"#000000\">105</text>\n</g>\n<!-- 104&#45;&gt;105 -->\n<g id=\"edge120\" class=\"edge\">\n<title>104&#45;&gt;105</title>\n<path fill=\"none\" stroke=\"#000000\" d=\"M1015.3044,-672.3478C1038.7131,-672.3478 1073.6806,-672.3478 1099.9389,-672.3478\"/>\n<polygon fill=\"#000000\" stroke=\"#000000\" points=\"1100.2435,-675.8478 1110.2434,-672.3478 1100.2434,-668.8478 1100.2435,-675.8478\"/>\n<text text-anchor=\"middle\" x=\"1062.8731\" y=\"-676.1478\" font-family=\"Times,serif\" font-size=\"14.00\" fill=\"#000000\">t</text>\n</g>\n<!-- 105&#45;&gt;111 -->\n<g id=\"edge121\" class=\"edge\">\n<title>105&#45;&gt;111</title>\n<path fill=\"none\" stroke=\"#000000\" d=\"M1160.5892,-678.5567C1184.0452,-685.603 1218.8894,-699.231 1240.8731,-722.3478 1257.4318,-739.7598 1267.633,-764.9394 1273.6349,-785.2807\"/>\n<polygon fill=\"#000000\" stroke=\"#000000\" points=\"1270.3111,-786.3949 1276.3277,-795.1155 1277.0626,-784.5462 1270.3111,-786.3949\"/>\n<text text-anchor=\"middle\" x=\"1210.3731\" y=\"-726.1478\" font-family=\"Times,serif\" font-size=\"14.00\" fill=\"#000000\">&lt;epsilon&gt;</text>\n</g>\n<!-- 108 -->\n<g id=\"node111\" class=\"node\">\n<title>108</title>\n<ellipse fill=\"none\" stroke=\"#000000\" cx=\"774.5254\" cy=\"-617.3478\" rx=\"25.1964\" ry=\"25.1964\"/>\n<text text-anchor=\"middle\" x=\"774.5254\" y=\"-613.6478\" font-family=\"Times,serif\" font-size=\"14.00\" fill=\"#000000\">108</text>\n</g>\n<!-- 107&#45;&gt;108 -->\n<g id=\"edge123\" class=\"edge\">\n<title>107&#45;&gt;108</title>\n<path fill=\"none\" stroke=\"#000000\" d=\"M663.3449,-620.6048C684.5743,-619.9828 715.1128,-619.0882 738.8144,-618.3939\"/>\n<polygon fill=\"#000000\" stroke=\"#000000\" points=\"738.9419,-621.8918 748.8351,-618.1003 738.7369,-614.8948 738.9419,-621.8918\"/>\n<text text-anchor=\"middle\" x=\"708.8299\" y=\"-623.1478\" font-family=\"Times,serif\" font-size=\"14.00\" fill=\"#000000\">i</text>\n</g>\n<!-- 109 -->\n<g id=\"node112\" class=\"node\">\n<title>109</title>\n<ellipse fill=\"none\" stroke=\"#000000\" cx=\"916.8731\" cy=\"-614.3478\" rx=\"25.1964\" ry=\"25.1964\"/>\n<text text-anchor=\"middle\" x=\"916.8731\" y=\"-610.6478\" font-family=\"Times,serif\" font-size=\"14.00\" fill=\"#000000\">109</text>\n</g>\n<!-- 108&#45;&gt;109 -->\n<g id=\"edge124\" class=\"edge\">\n<title>108&#45;&gt;109</title>\n<path fill=\"none\" stroke=\"#000000\" d=\"M799.9743,-616.8114C822.5056,-616.3366 855.6389,-615.6383 880.8827,-615.1063\"/>\n<polygon fill=\"#000000\" stroke=\"#000000\" points=\"881.2406,-618.5996 891.1646,-614.8896 881.093,-611.6011 881.2406,-618.5996\"/>\n<text text-anchor=\"middle\" x=\"843.8731\" y=\"-620.1478\" font-family=\"Times,serif\" font-size=\"14.00\" fill=\"#000000\">n</text>\n</g>\n<!-- 110 -->\n<g id=\"node113\" class=\"node\">\n<title>110</title>\n<ellipse fill=\"none\" stroke=\"#000000\" cx=\"1062.8731\" cy=\"-614.3478\" rx=\"24.8972\" ry=\"24.8972\"/>\n<text text-anchor=\"middle\" x=\"1062.8731\" y=\"-610.6478\" font-family=\"Times,serif\" font-size=\"14.00\" fill=\"#000000\">110</text>\n</g>\n<!-- 109&#45;&gt;110 -->\n<g id=\"edge125\" class=\"edge\">\n<title>109&#45;&gt;110</title>\n<path fill=\"none\" stroke=\"#000000\" d=\"M942.3044,-614.3478C965.8567,-614.3478 1001.1101,-614.3478 1027.4212,-614.3478\"/>\n<polygon fill=\"#000000\" stroke=\"#000000\" points=\"1027.7333,-617.8478 1037.7333,-614.3478 1027.7333,-610.8478 1027.7333,-617.8478\"/>\n<text text-anchor=\"middle\" x=\"989.8731\" y=\"-618.1478\" font-family=\"Times,serif\" font-size=\"14.00\" fill=\"#000000\">e</text>\n</g>\n<!-- 110&#45;&gt;111 -->\n<g id=\"edge126\" class=\"edge\">\n<title>110&#45;&gt;111</title>\n<path fill=\"none\" stroke=\"#000000\" d=\"M1087.6236,-612.8026C1108.8222,-612.341 1139.8052,-613.7471 1164.8731,-623.3478 1204.3025,-638.4487 1216.8621,-645.6175 1240.8731,-680.3478 1262.6037,-711.7796 1272.7546,-754.9171 1277.4151,-784.7622\"/>\n<polygon fill=\"#000000\" stroke=\"#000000\" points=\"1273.9595,-785.322 1278.8446,-794.7234 1280.8885,-784.3276 1273.9595,-785.322\"/>\n<text text-anchor=\"middle\" x=\"1135.8731\" y=\"-627.1478\" font-family=\"Times,serif\" font-size=\"14.00\" fill=\"#000000\">&lt;epsilon&gt;</text>\n</g>\n<!-- 113 -->\n<g id=\"node115\" class=\"node\">\n<title>113</title>\n<ellipse fill=\"none\" stroke=\"#000000\" cx=\"1511.6119\" cy=\"-819.3478\" rx=\"24.8972\" ry=\"24.8972\"/>\n<text text-anchor=\"middle\" x=\"1511.6119\" y=\"-815.6478\" font-family=\"Times,serif\" font-size=\"14.00\" fill=\"#000000\">113</text>\n</g>\n<!-- 112&#45;&gt;113 -->\n<g id=\"edge128\" class=\"edge\">\n<title>112&#45;&gt;113</title>\n<path fill=\"none\" stroke=\"#000000\" d=\"M1447.623,-819.3478C1456.582,-819.3478 1466.8812,-819.3478 1476.5615,-819.3478\"/>\n<polygon fill=\"#000000\" stroke=\"#000000\" points=\"1476.7301,-822.8478 1486.7301,-819.3478 1476.7301,-815.8478 1476.7301,-822.8478\"/>\n<text text-anchor=\"middle\" x=\"1467.2641\" y=\"-823.1478\" font-family=\"Times,serif\" font-size=\"14.00\" fill=\"#000000\">c</text>\n</g>\n<!-- 114 -->\n<g id=\"node116\" class=\"node\">\n<title>114</title>\n<ellipse fill=\"none\" stroke=\"#000000\" cx=\"1643.0029\" cy=\"-819.3478\" rx=\"24.8972\" ry=\"24.8972\"/>\n<text text-anchor=\"middle\" x=\"1643.0029\" y=\"-815.6478\" font-family=\"Times,serif\" font-size=\"14.00\" fill=\"#000000\">114</text>\n</g>\n<!-- 113&#45;&gt;114 -->\n<g id=\"edge129\" class=\"edge\">\n<title>113&#45;&gt;114</title>\n<path fill=\"none\" stroke=\"#000000\" d=\"M1536.3255,-819.3478C1556.4762,-819.3478 1585.1917,-819.3478 1607.7547,-819.3478\"/>\n<polygon fill=\"#000000\" stroke=\"#000000\" points=\"1607.9534,-822.8478 1617.9533,-819.3478 1607.9533,-815.8478 1607.9534,-822.8478\"/>\n<text text-anchor=\"middle\" x=\"1577.3074\" y=\"-823.1478\" font-family=\"Times,serif\" font-size=\"14.00\" fill=\"#000000\">e</text>\n</g>\n<!-- 115 -->\n<g id=\"node117\" class=\"node\">\n<title>115</title>\n<ellipse fill=\"none\" stroke=\"#000000\" cx=\"1731.6984\" cy=\"-819.3478\" rx=\"24.8972\" ry=\"24.8972\"/>\n<text text-anchor=\"middle\" x=\"1731.6984\" y=\"-815.6478\" font-family=\"Times,serif\" font-size=\"14.00\" fill=\"#000000\">115</text>\n</g>\n<!-- 114&#45;&gt;115 -->\n<g id=\"edge130\" class=\"edge\">\n<title>114&#45;&gt;115</title>\n<path fill=\"none\" stroke=\"#000000\" d=\"M1667.7095,-819.3478C1676.6685,-819.3478 1686.9677,-819.3478 1696.648,-819.3478\"/>\n<polygon fill=\"#000000\" stroke=\"#000000\" points=\"1696.8167,-822.8478 1706.8166,-819.3478 1696.8166,-815.8478 1696.8167,-822.8478\"/>\n<text text-anchor=\"middle\" x=\"1687.3506\" y=\"-823.1478\" font-family=\"Times,serif\" font-size=\"14.00\" fill=\"#000000\">n</text>\n</g>\n<!-- 116 -->\n<g id=\"node118\" class=\"node\">\n<title>116</title>\n<ellipse fill=\"none\" stroke=\"#000000\" cx=\"1819.3939\" cy=\"-819.3478\" rx=\"24.8972\" ry=\"24.8972\"/>\n<text text-anchor=\"middle\" x=\"1819.3939\" y=\"-815.6478\" font-family=\"Times,serif\" font-size=\"14.00\" fill=\"#000000\">116</text>\n</g>\n<!-- 115&#45;&gt;116 -->\n<g id=\"edge131\" class=\"edge\">\n<title>115&#45;&gt;116</title>\n<path fill=\"none\" stroke=\"#000000\" d=\"M1756.5938,-819.3478C1765.2031,-819.3478 1775.0194,-819.3478 1784.2918,-819.3478\"/>\n<polygon fill=\"#000000\" stroke=\"#000000\" points=\"1784.4362,-822.8478 1794.4362,-819.3478 1784.4362,-815.8478 1784.4362,-822.8478\"/>\n<text text-anchor=\"middle\" x=\"1775.5461\" y=\"-823.1478\" font-family=\"Times,serif\" font-size=\"14.00\" fill=\"#000000\">t</text>\n</g>\n<!-- 117 -->\n<g id=\"node119\" class=\"node\">\n<title>117</title>\n<ellipse fill=\"none\" stroke=\"#000000\" cx=\"1961.4394\" cy=\"-819.3478\" rx=\"24.8692\" ry=\"24.8692\"/>\n<ellipse fill=\"none\" stroke=\"#000000\" cx=\"1961.4394\" cy=\"-819.3478\" rx=\"28.897\" ry=\"28.897\"/>\n<text text-anchor=\"middle\" x=\"1961.4394\" y=\"-815.6478\" font-family=\"Times,serif\" font-size=\"14.00\" fill=\"#000000\">117</text>\n</g>\n<!-- 116&#45;&gt;117 -->\n<g id=\"edge132\" class=\"edge\">\n<title>116&#45;&gt;117</title>\n<path fill=\"none\" stroke=\"#000000\" d=\"M1844.1363,-819.3478C1865.697,-819.3478 1897.3364,-819.3478 1922.3238,-819.3478\"/>\n<polygon fill=\"#000000\" stroke=\"#000000\" points=\"1922.5768,-822.8478 1932.5767,-819.3478 1922.5767,-815.8478 1922.5768,-822.8478\"/>\n<text text-anchor=\"middle\" x=\"1888.7416\" y=\"-823.1478\" font-family=\"Times,serif\" font-size=\"14.00\" fill=\"#000000\">s</text>\n</g>\n<!-- 120 -->\n<g id=\"node122\" class=\"node\">\n<title>120</title>\n<ellipse fill=\"none\" stroke=\"#000000\" cx=\"425.4389\" cy=\"-558.3478\" rx=\"25.1964\" ry=\"25.1964\"/>\n<text text-anchor=\"middle\" x=\"425.4389\" y=\"-554.6478\" font-family=\"Times,serif\" font-size=\"14.00\" fill=\"#000000\">120</text>\n</g>\n<!-- 119&#45;&gt;120 -->\n<g id=\"edge135\" class=\"edge\">\n<title>119&#45;&gt;120</title>\n<path fill=\"none\" stroke=\"#000000\" d=\"M311.5393,-558.3478C333.3562,-558.3478 365.3751,-558.3478 389.9127,-558.3478\"/>\n<polygon fill=\"#000000\" stroke=\"#000000\" points=\"389.9192,-561.8479 399.9192,-558.3478 389.9192,-554.8479 389.9192,-561.8479\"/>\n<text text-anchor=\"middle\" x=\"356.0911\" y=\"-562.1478\" font-family=\"Times,serif\" font-size=\"14.00\" fill=\"#000000\">n</text>\n</g>\n<!-- 130 -->\n<g id=\"node132\" class=\"node\">\n<title>130</title>\n<ellipse fill=\"none\" stroke=\"#000000\" cx=\"496.2866\" cy=\"-496.3478\" rx=\"25.1964\" ry=\"25.1964\"/>\n<text text-anchor=\"middle\" x=\"496.2866\" y=\"-492.6478\" font-family=\"Times,serif\" font-size=\"14.00\" fill=\"#000000\">130</text>\n</g>\n<!-- 129&#45;&gt;130 -->\n<g id=\"edge145\" class=\"edge\">\n<title>129&#45;&gt;130</title>\n<path fill=\"none\" stroke=\"#000000\" d=\"M288.6813,-326.8422C292.0879,-355.8105 301.4475,-403.108 327.0911,-434.3478 360.0215,-474.4643 421.3286,-488.6239 460.403,-493.6216\"/>\n<polygon fill=\"#000000\" stroke=\"#000000\" points=\"460.4611,-497.1506 470.7923,-494.8022 461.2515,-490.1954 460.4611,-497.1506\"/>\n<text text-anchor=\"middle\" x=\"356.0911\" y=\"-477.1478\" font-family=\"Times,serif\" font-size=\"14.00\" fill=\"#000000\">t</text>\n</g>\n<!-- 133 -->\n<g id=\"node133\" class=\"node\">\n<title>133</title>\n<ellipse fill=\"none\" stroke=\"#000000\" cx=\"425.4389\" cy=\"-439.3478\" rx=\"25.1964\" ry=\"25.1964\"/>\n<text text-anchor=\"middle\" x=\"425.4389\" y=\"-435.6478\" font-family=\"Times,serif\" font-size=\"14.00\" fill=\"#000000\">133</text>\n</g>\n<!-- 129&#45;&gt;133 -->\n<g id=\"edge146\" class=\"edge\">\n<title>129&#45;&gt;133</title>\n<path fill=\"none\" stroke=\"#000000\" d=\"M297.594,-324.3074C304.7647,-338.02 315.0477,-355.2575 327.0911,-368.3478 346.7151,-389.6775 373.6651,-408.5944 394.3916,-421.5277\"/>\n<polygon fill=\"#000000\" stroke=\"#000000\" points=\"392.7806,-424.6447 403.1402,-426.8647 396.4261,-418.6689 392.7806,-424.6447\"/>\n<text text-anchor=\"middle\" x=\"356.0911\" y=\"-419.1478\" font-family=\"Times,serif\" font-size=\"14.00\" fill=\"#000000\">&lt;epsilon&gt;</text>\n</g>\n<!-- 139 -->\n<g id=\"node134\" class=\"node\">\n<title>139</title>\n<ellipse fill=\"none\" stroke=\"#000000\" cx=\"425.4389\" cy=\"-370.3478\" rx=\"25.1964\" ry=\"25.1964\"/>\n<text text-anchor=\"middle\" x=\"425.4389\" y=\"-366.6478\" font-family=\"Times,serif\" font-size=\"14.00\" fill=\"#000000\">139</text>\n</g>\n<!-- 129&#45;&gt;139 -->\n<g id=\"edge147\" class=\"edge\">\n<title>129&#45;&gt;139</title>\n<path fill=\"none\" stroke=\"#000000\" d=\"M309.6461,-312.7417C332.5334,-324.128 367.9122,-341.7287 393.5419,-354.4792\"/>\n<polygon fill=\"#000000\" stroke=\"#000000\" points=\"391.9899,-357.6163 402.5021,-358.9369 395.1078,-351.349 391.9899,-357.6163\"/>\n<text text-anchor=\"middle\" x=\"356.0911\" y=\"-353.1478\" font-family=\"Times,serif\" font-size=\"14.00\" fill=\"#000000\">&lt;epsilon&gt;</text>\n</g>\n<!-- 144 -->\n<g id=\"node135\" class=\"node\">\n<title>144</title>\n<ellipse fill=\"none\" stroke=\"#000000\" cx=\"425.4389\" cy=\"-301.3478\" rx=\"25.1964\" ry=\"25.1964\"/>\n<text text-anchor=\"middle\" x=\"425.4389\" y=\"-297.6478\" font-family=\"Times,serif\" font-size=\"14.00\" fill=\"#000000\">144</text>\n</g>\n<!-- 129&#45;&gt;144 -->\n<g id=\"edge148\" class=\"edge\">\n<title>129&#45;&gt;144</title>\n<path fill=\"none\" stroke=\"#000000\" d=\"M312.1823,-301.3478C333.8453,-301.3478 365.2194,-301.3478 389.4555,-301.3478\"/>\n<polygon fill=\"#000000\" stroke=\"#000000\" points=\"389.6916,-304.8478 399.6916,-301.3478 389.6915,-297.8478 389.6916,-304.8478\"/>\n<text text-anchor=\"middle\" x=\"356.0911\" y=\"-305.1478\" font-family=\"Times,serif\" font-size=\"14.00\" fill=\"#000000\">&lt;epsilon&gt;</text>\n</g>\n<!-- 149 -->\n<g id=\"node136\" class=\"node\">\n<title>149</title>\n<ellipse fill=\"none\" stroke=\"#000000\" cx=\"425.4389\" cy=\"-232.3478\" rx=\"25.1964\" ry=\"25.1964\"/>\n<text text-anchor=\"middle\" x=\"425.4389\" y=\"-228.6478\" font-family=\"Times,serif\" font-size=\"14.00\" fill=\"#000000\">149</text>\n</g>\n<!-- 129&#45;&gt;149 -->\n<g id=\"edge149\" class=\"edge\">\n<title>129&#45;&gt;149</title>\n<path fill=\"none\" stroke=\"#000000\" d=\"M309.6461,-289.9538C332.5334,-278.5675 367.9122,-260.9668 393.5419,-248.2163\"/>\n<polygon fill=\"#000000\" stroke=\"#000000\" points=\"395.1078,-251.3465 402.5021,-243.7586 391.9899,-245.0792 395.1078,-251.3465\"/>\n<text text-anchor=\"middle\" x=\"356.0911\" y=\"-285.1478\" font-family=\"Times,serif\" font-size=\"14.00\" fill=\"#000000\">&lt;epsilon&gt;</text>\n</g>\n<!-- 153 -->\n<g id=\"node137\" class=\"node\">\n<title>153</title>\n<ellipse fill=\"none\" stroke=\"#000000\" cx=\"425.4389\" cy=\"-163.3478\" rx=\"25.1964\" ry=\"25.1964\"/>\n<text text-anchor=\"middle\" x=\"425.4389\" y=\"-159.6478\" font-family=\"Times,serif\" font-size=\"14.00\" fill=\"#000000\">153</text>\n</g>\n<!-- 129&#45;&gt;153 -->\n<g id=\"edge150\" class=\"edge\">\n<title>129&#45;&gt;153</title>\n<path fill=\"none\" stroke=\"#000000\" d=\"M297.594,-278.3881C304.7647,-264.6755 315.0477,-247.438 327.0911,-234.3478 346.7151,-213.018 373.6651,-194.1011 394.3916,-181.1678\"/>\n<polygon fill=\"#000000\" stroke=\"#000000\" points=\"396.4261,-184.0266 403.1402,-175.8308 392.7806,-178.0508 396.4261,-184.0266\"/>\n<text text-anchor=\"middle\" x=\"356.0911\" y=\"-238.1478\" font-family=\"Times,serif\" font-size=\"14.00\" fill=\"#000000\">&lt;epsilon&gt;</text>\n</g>\n<!-- 159 -->\n<g id=\"node138\" class=\"node\">\n<title>159</title>\n<ellipse fill=\"none\" stroke=\"#000000\" cx=\"425.4389\" cy=\"-94.3478\" rx=\"25.1964\" ry=\"25.1964\"/>\n<text text-anchor=\"middle\" x=\"425.4389\" y=\"-90.6478\" font-family=\"Times,serif\" font-size=\"14.00\" fill=\"#000000\">159</text>\n</g>\n<!-- 129&#45;&gt;159 -->\n<g id=\"edge151\" class=\"edge\">\n<title>129&#45;&gt;159</title>\n<path fill=\"none\" stroke=\"#000000\" d=\"M289.6489,-276.0194C293.9278,-247.6306 304.0712,-201.2742 327.0911,-168.3478 344.2318,-143.8305 372.038,-123.9977 393.7179,-111.0581\"/>\n<polygon fill=\"#000000\" stroke=\"#000000\" points=\"395.6733,-113.9707 402.5853,-105.941 392.1746,-107.9077 395.6733,-113.9707\"/>\n<text text-anchor=\"middle\" x=\"356.0911\" y=\"-172.1478\" font-family=\"Times,serif\" font-size=\"14.00\" fill=\"#000000\">&lt;epsilon&gt;</text>\n</g>\n<!-- 165 -->\n<g id=\"node139\" class=\"node\">\n<title>165</title>\n<ellipse fill=\"none\" stroke=\"#000000\" cx=\"425.4389\" cy=\"-25.3478\" rx=\"25.1964\" ry=\"25.1964\"/>\n<text text-anchor=\"middle\" x=\"425.4389\" y=\"-21.6478\" font-family=\"Times,serif\" font-size=\"14.00\" fill=\"#000000\">165</text>\n</g>\n<!-- 129&#45;&gt;165 -->\n<g id=\"edge152\" class=\"edge\">\n<title>129&#45;&gt;165</title>\n<path fill=\"none\" stroke=\"#000000\" d=\"M289.5331,-275.9758C295.1152,-228.5376 308.7174,-128.5605 327.0911,-99.3478 343.1176,-73.8669 371.2875,-54.0211 393.3827,-41.3246\"/>\n<polygon fill=\"#000000\" stroke=\"#000000\" points=\"395.3682,-44.2263 402.427,-36.3254 391.9819,-38.0999 395.3682,-44.2263\"/>\n<text text-anchor=\"middle\" x=\"356.0911\" y=\"-103.1478\" font-family=\"Times,serif\" font-size=\"14.00\" fill=\"#000000\">&lt;epsilon&gt;</text>\n</g>\n<!-- 121 -->\n<g id=\"node123\" class=\"node\">\n<title>121</title>\n<ellipse fill=\"none\" stroke=\"#000000\" cx=\"567.1344\" cy=\"-558.3478\" rx=\"25.1964\" ry=\"25.1964\"/>\n<text text-anchor=\"middle\" x=\"567.1344\" y=\"-554.6478\" font-family=\"Times,serif\" font-size=\"14.00\" fill=\"#000000\">121</text>\n</g>\n<!-- 120&#45;&gt;121 -->\n<g id=\"edge136\" class=\"edge\">\n<title>120&#45;&gt;121</title>\n<path fill=\"none\" stroke=\"#000000\" d=\"M451.0989,-558.3478C473.5688,-558.3478 506.4468,-558.3478 531.4735,-558.3478\"/>\n<polygon fill=\"#000000\" stroke=\"#000000\" points=\"531.6653,-561.8478 541.6653,-558.3478 531.6652,-554.8478 531.6653,-561.8478\"/>\n<text text-anchor=\"middle\" x=\"496.2866\" y=\"-562.1478\" font-family=\"Times,serif\" font-size=\"14.00\" fill=\"#000000\">e</text>\n</g>\n<!-- 122 -->\n<g id=\"node124\" class=\"node\">\n<title>122</title>\n<ellipse fill=\"none\" stroke=\"#000000\" cx=\"708.8299\" cy=\"-558.3478\" rx=\"25.1964\" ry=\"25.1964\"/>\n<text text-anchor=\"middle\" x=\"708.8299\" y=\"-554.6478\" font-family=\"Times,serif\" font-size=\"14.00\" fill=\"#000000\">122</text>\n</g>\n<!-- 121&#45;&gt;122 -->\n<g id=\"edge137\" class=\"edge\">\n<title>121&#45;&gt;122</title>\n<path fill=\"none\" stroke=\"#000000\" d=\"M592.7944,-558.3478C615.2643,-558.3478 648.1423,-558.3478 673.169,-558.3478\"/>\n<polygon fill=\"#000000\" stroke=\"#000000\" points=\"673.3608,-561.8478 683.3608,-558.3478 673.3607,-554.8478 673.3608,-561.8478\"/>\n<text text-anchor=\"middle\" x=\"637.9821\" y=\"-562.1478\" font-family=\"Times,serif\" font-size=\"14.00\" fill=\"#000000\">&lt;SPACE&gt;</text>\n</g>\n<!-- 123 -->\n<g id=\"node125\" class=\"node\">\n<title>123</title>\n<ellipse fill=\"none\" stroke=\"#000000\" cx=\"843.8731\" cy=\"-553.3478\" rx=\"25.1964\" ry=\"25.1964\"/>\n<text text-anchor=\"middle\" x=\"843.8731\" y=\"-549.6478\" font-family=\"Times,serif\" font-size=\"14.00\" fill=\"#000000\">123</text>\n</g>\n<!-- 122&#45;&gt;123 -->\n<g id=\"edge138\" class=\"edge\">\n<title>122&#45;&gt;123</title>\n<path fill=\"none\" stroke=\"#000000\" d=\"M734.2305,-557.4073C755.035,-556.637 784.7222,-555.5378 807.9596,-554.6775\"/>\n<polygon fill=\"#000000\" stroke=\"#000000\" points=\"808.2637,-558.1687 818.1273,-554.301 808.0046,-551.1735 808.2637,-558.1687\"/>\n<text text-anchor=\"middle\" x=\"774.5254\" y=\"-560.1478\" font-family=\"Times,serif\" font-size=\"14.00\" fill=\"#000000\">d</text>\n</g>\n<!-- 124 -->\n<g id=\"node126\" class=\"node\">\n<title>124</title>\n<ellipse fill=\"none\" stroke=\"#000000\" cx=\"989.8731\" cy=\"-553.3478\" rx=\"25.1964\" ry=\"25.1964\"/>\n<text text-anchor=\"middle\" x=\"989.8731\" y=\"-549.6478\" font-family=\"Times,serif\" font-size=\"14.00\" fill=\"#000000\">124</text>\n</g>\n<!-- 123&#45;&gt;124 -->\n<g id=\"edge139\" class=\"edge\">\n<title>123&#45;&gt;124</title>\n<path fill=\"none\" stroke=\"#000000\" d=\"M869.3044,-553.3478C892.7131,-553.3478 927.6806,-553.3478 953.9389,-553.3478\"/>\n<polygon fill=\"#000000\" stroke=\"#000000\" points=\"954.2435,-556.8478 964.2434,-553.3478 954.2434,-549.8478 954.2435,-556.8478\"/>\n<text text-anchor=\"middle\" x=\"916.8731\" y=\"-557.1478\" font-family=\"Times,serif\" font-size=\"14.00\" fill=\"#000000\">o</text>\n</g>\n<!-- 125 -->\n<g id=\"node127\" class=\"node\">\n<title>125</title>\n<ellipse fill=\"none\" stroke=\"#000000\" cx=\"1135.8731\" cy=\"-553.3478\" rx=\"25.1964\" ry=\"25.1964\"/>\n<text text-anchor=\"middle\" x=\"1135.8731\" y=\"-549.6478\" font-family=\"Times,serif\" font-size=\"14.00\" fill=\"#000000\">125</text>\n</g>\n<!-- 124&#45;&gt;125 -->\n<g id=\"edge140\" class=\"edge\">\n<title>124&#45;&gt;125</title>\n<path fill=\"none\" stroke=\"#000000\" d=\"M1015.3044,-553.3478C1038.7131,-553.3478 1073.6806,-553.3478 1099.9389,-553.3478\"/>\n<polygon fill=\"#000000\" stroke=\"#000000\" points=\"1100.2435,-556.8478 1110.2434,-553.3478 1100.2434,-549.8478 1100.2435,-556.8478\"/>\n<text text-anchor=\"middle\" x=\"1062.8731\" y=\"-557.1478\" font-family=\"Times,serif\" font-size=\"14.00\" fill=\"#000000\">l</text>\n</g>\n<!-- 126 -->\n<g id=\"node128\" class=\"node\">\n<title>126</title>\n<ellipse fill=\"none\" stroke=\"#000000\" cx=\"1281.2209\" cy=\"-553.3478\" rx=\"25.1964\" ry=\"25.1964\"/>\n<text text-anchor=\"middle\" x=\"1281.2209\" y=\"-549.6478\" font-family=\"Times,serif\" font-size=\"14.00\" fill=\"#000000\">126</text>\n</g>\n<!-- 125&#45;&gt;126 -->\n<g id=\"edge141\" class=\"edge\">\n<title>125&#45;&gt;126</title>\n<path fill=\"none\" stroke=\"#000000\" d=\"M1161.5238,-553.3478C1184.8746,-553.3478 1219.576,-553.3478 1245.6112,-553.3478\"/>\n<polygon fill=\"#000000\" stroke=\"#000000\" points=\"1245.8266,-556.8478 1255.8266,-553.3478 1245.8266,-549.8478 1245.8266,-556.8478\"/>\n<text text-anchor=\"middle\" x=\"1210.3731\" y=\"-557.1478\" font-family=\"Times,serif\" font-size=\"14.00\" fill=\"#000000\">l</text>\n</g>\n<!-- 127 -->\n<g id=\"node129\" class=\"node\">\n<title>127</title>\n<ellipse fill=\"none\" stroke=\"#000000\" cx=\"1422.9164\" cy=\"-553.3478\" rx=\"25.1964\" ry=\"25.1964\"/>\n<text text-anchor=\"middle\" x=\"1422.9164\" y=\"-549.6478\" font-family=\"Times,serif\" font-size=\"14.00\" fill=\"#000000\">127</text>\n</g>\n<!-- 126&#45;&gt;127 -->\n<g id=\"edge142\" class=\"edge\">\n<title>126&#45;&gt;127</title>\n<path fill=\"none\" stroke=\"#000000\" d=\"M1306.8809,-553.3478C1329.3508,-553.3478 1362.2288,-553.3478 1387.2555,-553.3478\"/>\n<polygon fill=\"#000000\" stroke=\"#000000\" points=\"1387.4473,-556.8478 1397.4473,-553.3478 1387.4473,-549.8478 1387.4473,-556.8478\"/>\n<text text-anchor=\"middle\" x=\"1352.0686\" y=\"-557.1478\" font-family=\"Times,serif\" font-size=\"14.00\" fill=\"#000000\">a</text>\n</g>\n<!-- 128 -->\n<g id=\"node130\" class=\"node\">\n<title>128</title>\n<ellipse fill=\"none\" stroke=\"#000000\" cx=\"1577.3074\" cy=\"-538.3478\" rx=\"25.1964\" ry=\"25.1964\"/>\n<text text-anchor=\"middle\" x=\"1577.3074\" y=\"-534.6478\" font-family=\"Times,serif\" font-size=\"14.00\" fill=\"#000000\">128</text>\n</g>\n<!-- 127&#45;&gt;128 -->\n<g id=\"edge143\" class=\"edge\">\n<title>127&#45;&gt;128</title>\n<path fill=\"none\" stroke=\"#000000\" d=\"M1448.4109,-550.8708C1473.9646,-548.3881 1513.5067,-544.5464 1542.0567,-541.7726\"/>\n<polygon fill=\"#000000\" stroke=\"#000000\" points=\"1542.4169,-545.2541 1552.0316,-540.8034 1541.74,-538.2869 1542.4169,-545.2541\"/>\n<text text-anchor=\"middle\" x=\"1467.2641\" y=\"-552.1478\" font-family=\"Times,serif\" font-size=\"14.00\" fill=\"#000000\">r</text>\n</g>\n<!-- 179 -->\n<g id=\"node131\" class=\"node\">\n<title>179</title>\n<ellipse fill=\"none\" stroke=\"#000000\" cx=\"2276.876\" cy=\"-512.3478\" rx=\"25.1964\" ry=\"25.1964\"/>\n<text text-anchor=\"middle\" x=\"2276.876\" y=\"-508.6478\" font-family=\"Times,serif\" font-size=\"14.00\" fill=\"#000000\">179</text>\n</g>\n<!-- 128&#45;&gt;179 -->\n<g id=\"edge144\" class=\"edge\">\n<title>128&#45;&gt;179</title>\n<path fill=\"none\" stroke=\"#000000\" d=\"M1602.6577,-538.3478C1624.9617,-538.3478 1658.3114,-538.3478 1687.3506,-538.3478 1687.3506,-538.3478 1687.3506,-538.3478 2138.1805,-538.3478 2174.4,-538.3478 2215.0431,-529.6761 2242.9204,-522.3489\"/>\n<polygon fill=\"#000000\" stroke=\"#000000\" points=\"2243.8463,-525.7243 2252.5815,-519.7288 2242.014,-518.9683 2243.8463,-525.7243\"/>\n<text text-anchor=\"middle\" x=\"1888.7416\" y=\"-542.1478\" font-family=\"Times,serif\" font-size=\"14.00\" fill=\"#000000\">&lt;epsilon&gt;</text>\n</g>\n<!-- 180 -->\n<g id=\"node181\" class=\"node\">\n<title>180</title>\n<ellipse fill=\"none\" stroke=\"#000000\" cx=\"2418.5715\" cy=\"-512.3478\" rx=\"25.1964\" ry=\"25.1964\"/>\n<text text-anchor=\"middle\" x=\"2418.5715\" y=\"-508.6478\" font-family=\"Times,serif\" font-size=\"14.00\" fill=\"#000000\">180</text>\n</g>\n<!-- 179&#45;&gt;180 -->\n<g id=\"edge202\" class=\"edge\">\n<title>179&#45;&gt;180</title>\n<path fill=\"none\" stroke=\"#000000\" d=\"M2302.536,-512.3478C2325.006,-512.3478 2357.884,-512.3478 2382.9106,-512.3478\"/>\n<polygon fill=\"#000000\" stroke=\"#000000\" points=\"2383.1025,-515.8478 2393.1024,-512.3478 2383.1024,-508.8478 2383.1025,-515.8478\"/>\n<text text-anchor=\"middle\" x=\"2347.7238\" y=\"-516.1478\" font-family=\"Times,serif\" font-size=\"14.00\" fill=\"#000000\">&lt;SPACE&gt;</text>\n</g>\n<!-- 131 -->\n<g id=\"node140\" class=\"node\">\n<title>131</title>\n<ellipse fill=\"none\" stroke=\"#000000\" cx=\"916.8731\" cy=\"-498.3478\" rx=\"25.1964\" ry=\"25.1964\"/>\n<text text-anchor=\"middle\" x=\"916.8731\" y=\"-494.6478\" font-family=\"Times,serif\" font-size=\"14.00\" fill=\"#000000\">131</text>\n</g>\n<!-- 130&#45;&gt;131 -->\n<g id=\"edge153\" class=\"edge\">\n<title>130&#45;&gt;131</title>\n<path fill=\"none\" stroke=\"#000000\" d=\"M521.649,-496.4684C593.4491,-496.8098 798.276,-497.7838 881.2856,-498.1785\"/>\n<polygon fill=\"#000000\" stroke=\"#000000\" points=\"881.4611,-501.6793 891.4777,-498.227 881.4945,-494.6794 881.4611,-501.6793\"/>\n<text text-anchor=\"middle\" x=\"708.8299\" y=\"-501.1478\" font-family=\"Times,serif\" font-size=\"14.00\" fill=\"#000000\">w</text>\n</g>\n<!-- 134 -->\n<g id=\"node143\" class=\"node\">\n<title>134</title>\n<ellipse fill=\"none\" stroke=\"#000000\" cx=\"567.1344\" cy=\"-439.3478\" rx=\"25.1964\" ry=\"25.1964\"/>\n<text text-anchor=\"middle\" x=\"567.1344\" y=\"-435.6478\" font-family=\"Times,serif\" font-size=\"14.00\" fill=\"#000000\">134</text>\n</g>\n<!-- 133&#45;&gt;134 -->\n<g id=\"edge156\" class=\"edge\">\n<title>133&#45;&gt;134</title>\n<path fill=\"none\" stroke=\"#000000\" d=\"M451.0989,-439.3478C473.5688,-439.3478 506.4468,-439.3478 531.4735,-439.3478\"/>\n<polygon fill=\"#000000\" stroke=\"#000000\" points=\"531.6653,-442.8478 541.6653,-439.3478 531.6652,-435.8478 531.6653,-442.8478\"/>\n<text text-anchor=\"middle\" x=\"496.2866\" y=\"-443.1478\" font-family=\"Times,serif\" font-size=\"14.00\" fill=\"#000000\">t</text>\n</g>\n<!-- 140 -->\n<g id=\"node148\" class=\"node\">\n<title>140</title>\n<ellipse fill=\"none\" stroke=\"#000000\" cx=\"567.1344\" cy=\"-370.3478\" rx=\"25.1964\" ry=\"25.1964\"/>\n<text text-anchor=\"middle\" x=\"567.1344\" y=\"-366.6478\" font-family=\"Times,serif\" font-size=\"14.00\" fill=\"#000000\">140</text>\n</g>\n<!-- 139&#45;&gt;140 -->\n<g id=\"edge162\" class=\"edge\">\n<title>139&#45;&gt;140</title>\n<path fill=\"none\" stroke=\"#000000\" d=\"M451.0989,-370.3478C473.5688,-370.3478 506.4468,-370.3478 531.4735,-370.3478\"/>\n<polygon fill=\"#000000\" stroke=\"#000000\" points=\"531.6653,-373.8478 541.6653,-370.3478 531.6652,-366.8478 531.6653,-373.8478\"/>\n<text text-anchor=\"middle\" x=\"496.2866\" y=\"-374.1478\" font-family=\"Times,serif\" font-size=\"14.00\" fill=\"#000000\">f</text>\n</g>\n<!-- 145 -->\n<g id=\"node152\" class=\"node\">\n<title>145</title>\n<ellipse fill=\"none\" stroke=\"#000000\" cx=\"567.1344\" cy=\"-301.3478\" rx=\"25.1964\" ry=\"25.1964\"/>\n<text text-anchor=\"middle\" x=\"567.1344\" y=\"-297.6478\" font-family=\"Times,serif\" font-size=\"14.00\" fill=\"#000000\">145</text>\n</g>\n<!-- 144&#45;&gt;145 -->\n<g id=\"edge167\" class=\"edge\">\n<title>144&#45;&gt;145</title>\n<path fill=\"none\" stroke=\"#000000\" d=\"M451.0989,-301.3478C473.5688,-301.3478 506.4468,-301.3478 531.4735,-301.3478\"/>\n<polygon fill=\"#000000\" stroke=\"#000000\" points=\"531.6653,-304.8478 541.6653,-301.3478 531.6652,-297.8478 531.6653,-304.8478\"/>\n<text text-anchor=\"middle\" x=\"496.2866\" y=\"-305.1478\" font-family=\"Times,serif\" font-size=\"14.00\" fill=\"#000000\">f</text>\n</g>\n<!-- 150 -->\n<g id=\"node156\" class=\"node\">\n<title>150</title>\n<ellipse fill=\"none\" stroke=\"#000000\" cx=\"567.1344\" cy=\"-232.3478\" rx=\"25.1964\" ry=\"25.1964\"/>\n<text text-anchor=\"middle\" x=\"567.1344\" y=\"-228.6478\" font-family=\"Times,serif\" font-size=\"14.00\" fill=\"#000000\">150</text>\n</g>\n<!-- 149&#45;&gt;150 -->\n<g id=\"edge172\" class=\"edge\">\n<title>149&#45;&gt;150</title>\n<path fill=\"none\" stroke=\"#000000\" d=\"M451.0989,-232.3478C473.5688,-232.3478 506.4468,-232.3478 531.4735,-232.3478\"/>\n<polygon fill=\"#000000\" stroke=\"#000000\" points=\"531.6653,-235.8478 541.6653,-232.3478 531.6652,-228.8478 531.6653,-235.8478\"/>\n<text text-anchor=\"middle\" x=\"496.2866\" y=\"-236.1478\" font-family=\"Times,serif\" font-size=\"14.00\" fill=\"#000000\">s</text>\n</g>\n<!-- 154 -->\n<g id=\"node159\" class=\"node\">\n<title>154</title>\n<ellipse fill=\"none\" stroke=\"#000000\" cx=\"567.1344\" cy=\"-163.3478\" rx=\"25.1964\" ry=\"25.1964\"/>\n<text text-anchor=\"middle\" x=\"567.1344\" y=\"-159.6478\" font-family=\"Times,serif\" font-size=\"14.00\" fill=\"#000000\">154</text>\n</g>\n<!-- 153&#45;&gt;154 -->\n<g id=\"edge176\" class=\"edge\">\n<title>153&#45;&gt;154</title>\n<path fill=\"none\" stroke=\"#000000\" d=\"M451.0989,-163.3478C473.5688,-163.3478 506.4468,-163.3478 531.4735,-163.3478\"/>\n<polygon fill=\"#000000\" stroke=\"#000000\" points=\"531.6653,-166.8478 541.6653,-163.3478 531.6652,-159.8478 531.6653,-166.8478\"/>\n<text text-anchor=\"middle\" x=\"496.2866\" y=\"-167.1478\" font-family=\"Times,serif\" font-size=\"14.00\" fill=\"#000000\">s</text>\n</g>\n<!-- 160 -->\n<g id=\"node164\" class=\"node\">\n<title>160</title>\n<ellipse fill=\"none\" stroke=\"#000000\" cx=\"567.1344\" cy=\"-94.3478\" rx=\"25.1964\" ry=\"25.1964\"/>\n<text text-anchor=\"middle\" x=\"567.1344\" y=\"-90.6478\" font-family=\"Times,serif\" font-size=\"14.00\" fill=\"#000000\">160</text>\n</g>\n<!-- 159&#45;&gt;160 -->\n<g id=\"edge182\" class=\"edge\">\n<title>159&#45;&gt;160</title>\n<path fill=\"none\" stroke=\"#000000\" d=\"M451.0989,-94.3478C473.5688,-94.3478 506.4468,-94.3478 531.4735,-94.3478\"/>\n<polygon fill=\"#000000\" stroke=\"#000000\" points=\"531.6653,-97.8478 541.6653,-94.3478 531.6652,-90.8478 531.6653,-97.8478\"/>\n<text text-anchor=\"middle\" x=\"496.2866\" y=\"-98.1478\" font-family=\"Times,serif\" font-size=\"14.00\" fill=\"#000000\">e</text>\n</g>\n<!-- 166 -->\n<g id=\"node169\" class=\"node\">\n<title>166</title>\n<ellipse fill=\"none\" stroke=\"#000000\" cx=\"567.1344\" cy=\"-25.3478\" rx=\"25.1964\" ry=\"25.1964\"/>\n<text text-anchor=\"middle\" x=\"567.1344\" y=\"-21.6478\" font-family=\"Times,serif\" font-size=\"14.00\" fill=\"#000000\">166</text>\n</g>\n<!-- 165&#45;&gt;166 -->\n<g id=\"edge188\" class=\"edge\">\n<title>165&#45;&gt;166</title>\n<path fill=\"none\" stroke=\"#000000\" d=\"M451.0989,-25.3478C473.5688,-25.3478 506.4468,-25.3478 531.4735,-25.3478\"/>\n<polygon fill=\"#000000\" stroke=\"#000000\" points=\"531.6653,-28.8478 541.6653,-25.3478 531.6652,-21.8478 531.6653,-28.8478\"/>\n<text text-anchor=\"middle\" x=\"496.2866\" y=\"-29.1478\" font-family=\"Times,serif\" font-size=\"14.00\" fill=\"#000000\">n</text>\n</g>\n<!-- 132 -->\n<g id=\"node141\" class=\"node\">\n<title>132</title>\n<ellipse fill=\"none\" stroke=\"#000000\" cx=\"1062.8731\" cy=\"-495.3478\" rx=\"25.1964\" ry=\"25.1964\"/>\n<text text-anchor=\"middle\" x=\"1062.8731\" y=\"-491.6478\" font-family=\"Times,serif\" font-size=\"14.00\" fill=\"#000000\">132</text>\n</g>\n<!-- 131&#45;&gt;132 -->\n<g id=\"edge154\" class=\"edge\">\n<title>131&#45;&gt;132</title>\n<path fill=\"none\" stroke=\"#000000\" d=\"M942.3044,-497.8252C965.7131,-497.3442 1000.6806,-496.6257 1026.9389,-496.0861\"/>\n<polygon fill=\"#000000\" stroke=\"#000000\" points=\"1027.3175,-499.5792 1037.2434,-495.8744 1027.1736,-492.5807 1027.3175,-499.5792\"/>\n<text text-anchor=\"middle\" x=\"989.8731\" y=\"-501.1478\" font-family=\"Times,serif\" font-size=\"14.00\" fill=\"#000000\">o</text>\n</g>\n<!-- 170 -->\n<g id=\"node142\" class=\"node\">\n<title>170</title>\n<ellipse fill=\"none\" stroke=\"#000000\" cx=\"1281.2209\" cy=\"-301.3478\" rx=\"25.1964\" ry=\"25.1964\"/>\n<text text-anchor=\"middle\" x=\"1281.2209\" y=\"-297.6478\" font-family=\"Times,serif\" font-size=\"14.00\" fill=\"#000000\">170</text>\n</g>\n<!-- 132&#45;&gt;170 -->\n<g id=\"edge155\" class=\"edge\">\n<title>132&#45;&gt;170</title>\n<path fill=\"none\" stroke=\"#000000\" d=\"M1088.1643,-491.5961C1126.4902,-484.6032 1199.2147,-466.013 1240.8731,-421.3478 1262.4454,-398.2184 1272.5143,-363.176 1277.196,-336.9212\"/>\n<polygon fill=\"#000000\" stroke=\"#000000\" points=\"1280.6628,-337.4067 1278.7899,-326.9787 1273.751,-336.2986 1280.6628,-337.4067\"/>\n<text text-anchor=\"middle\" x=\"1135.8731\" y=\"-490.1478\" font-family=\"Times,serif\" font-size=\"14.00\" fill=\"#000000\">&lt;epsilon&gt;</text>\n</g>\n<!-- 171 -->\n<g id=\"node173\" class=\"node\">\n<title>171</title>\n<ellipse fill=\"none\" stroke=\"#000000\" cx=\"1422.9164\" cy=\"-438.3478\" rx=\"25.1964\" ry=\"25.1964\"/>\n<text text-anchor=\"middle\" x=\"1422.9164\" y=\"-434.6478\" font-family=\"Times,serif\" font-size=\"14.00\" fill=\"#000000\">171</text>\n</g>\n<!-- 170&#45;&gt;171 -->\n<g id=\"edge193\" class=\"edge\">\n<title>170&#45;&gt;171</title>\n<path fill=\"none\" stroke=\"#000000\" d=\"M1299.455,-318.9776C1324.1876,-342.8906 1368.5179,-385.7519 1396.7851,-413.0824\"/>\n<polygon fill=\"#000000\" stroke=\"#000000\" points=\"1394.6802,-415.9157 1404.3023,-420.3505 1399.5459,-410.8833 1394.6802,-415.9157\"/>\n<text text-anchor=\"middle\" x=\"1352.0686\" y=\"-401.1478\" font-family=\"Times,serif\" font-size=\"14.00\" fill=\"#000000\">&lt;SPACE&gt;</text>\n</g>\n<!-- 135 -->\n<g id=\"node144\" class=\"node\">\n<title>135</title>\n<ellipse fill=\"none\" stroke=\"#000000\" cx=\"708.8299\" cy=\"-439.3478\" rx=\"25.1964\" ry=\"25.1964\"/>\n<text text-anchor=\"middle\" x=\"708.8299\" y=\"-435.6478\" font-family=\"Times,serif\" font-size=\"14.00\" fill=\"#000000\">135</text>\n</g>\n<!-- 134&#45;&gt;135 -->\n<g id=\"edge157\" class=\"edge\">\n<title>134&#45;&gt;135</title>\n<path fill=\"none\" stroke=\"#000000\" d=\"M592.7944,-439.3478C615.2643,-439.3478 648.1423,-439.3478 673.169,-439.3478\"/>\n<polygon fill=\"#000000\" stroke=\"#000000\" points=\"673.3608,-442.8478 683.3608,-439.3478 673.3607,-435.8478 673.3608,-442.8478\"/>\n<text text-anchor=\"middle\" x=\"637.9821\" y=\"-443.1478\" font-family=\"Times,serif\" font-size=\"14.00\" fill=\"#000000\">h</text>\n</g>\n<!-- 136 -->\n<g id=\"node145\" class=\"node\">\n<title>136</title>\n<ellipse fill=\"none\" stroke=\"#000000\" cx=\"843.8731\" cy=\"-439.3478\" rx=\"25.1964\" ry=\"25.1964\"/>\n<text text-anchor=\"middle\" x=\"843.8731\" y=\"-435.6478\" font-family=\"Times,serif\" font-size=\"14.00\" fill=\"#000000\">136</text>\n</g>\n<!-- 135&#45;&gt;136 -->\n<g id=\"edge158\" class=\"edge\">\n<title>135&#45;&gt;136</title>\n<path fill=\"none\" stroke=\"#000000\" d=\"M734.2305,-439.3478C755.035,-439.3478 784.7222,-439.3478 807.9596,-439.3478\"/>\n<polygon fill=\"#000000\" stroke=\"#000000\" points=\"808.1273,-442.8478 818.1273,-439.3478 808.1272,-435.8478 808.1273,-442.8478\"/>\n<text text-anchor=\"middle\" x=\"774.5254\" y=\"-443.1478\" font-family=\"Times,serif\" font-size=\"14.00\" fill=\"#000000\">r</text>\n</g>\n<!-- 137 -->\n<g id=\"node146\" class=\"node\">\n<title>137</title>\n<ellipse fill=\"none\" stroke=\"#000000\" cx=\"989.8731\" cy=\"-431.3478\" rx=\"25.1964\" ry=\"25.1964\"/>\n<text text-anchor=\"middle\" x=\"989.8731\" y=\"-427.6478\" font-family=\"Times,serif\" font-size=\"14.00\" fill=\"#000000\">137</text>\n</g>\n<!-- 136&#45;&gt;137 -->\n<g id=\"edge159\" class=\"edge\">\n<title>136&#45;&gt;137</title>\n<path fill=\"none\" stroke=\"#000000\" d=\"M869.3044,-437.9543C892.7131,-436.6716 927.6806,-434.7556 953.9389,-433.3167\"/>\n<polygon fill=\"#000000\" stroke=\"#000000\" points=\"954.4499,-436.7941 964.2434,-432.7521 954.0669,-429.8046 954.4499,-436.7941\"/>\n<text text-anchor=\"middle\" x=\"916.8731\" y=\"-440.1478\" font-family=\"Times,serif\" font-size=\"14.00\" fill=\"#000000\">e</text>\n</g>\n<!-- 138 -->\n<g id=\"node147\" class=\"node\">\n<title>138</title>\n<ellipse fill=\"none\" stroke=\"#000000\" cx=\"1135.8731\" cy=\"-418.3478\" rx=\"25.1964\" ry=\"25.1964\"/>\n<text text-anchor=\"middle\" x=\"1135.8731\" y=\"-414.6478\" font-family=\"Times,serif\" font-size=\"14.00\" fill=\"#000000\">138</text>\n</g>\n<!-- 137&#45;&gt;138 -->\n<g id=\"edge160\" class=\"edge\">\n<title>137&#45;&gt;138</title>\n<path fill=\"none\" stroke=\"#000000\" d=\"M1015.3044,-429.0833C1038.7131,-426.999 1073.6806,-423.8854 1099.9389,-421.5474\"/>\n<polygon fill=\"#000000\" stroke=\"#000000\" points=\"1100.5933,-425.003 1110.2434,-420.6298 1099.9724,-418.0306 1100.5933,-425.003\"/>\n<text text-anchor=\"middle\" x=\"1062.8731\" y=\"-430.1478\" font-family=\"Times,serif\" font-size=\"14.00\" fill=\"#000000\">e</text>\n</g>\n<!-- 138&#45;&gt;170 -->\n<g id=\"edge161\" class=\"edge\">\n<title>138&#45;&gt;170</title>\n<path fill=\"none\" stroke=\"#000000\" d=\"M1160.3015,-411.2522C1183.2197,-403.6232 1217.3916,-389.642 1240.8731,-368.3478 1251.4532,-358.7532 1260.1507,-345.7316 1266.7265,-333.7192\"/>\n<polygon fill=\"#000000\" stroke=\"#000000\" points=\"1269.8525,-335.2936 1271.3374,-324.8033 1263.6348,-332.078 1269.8525,-335.2936\"/>\n<text text-anchor=\"middle\" x=\"1210.3731\" y=\"-406.1478\" font-family=\"Times,serif\" font-size=\"14.00\" fill=\"#000000\">&lt;epsilon&gt;</text>\n</g>\n<!-- 141 -->\n<g id=\"node149\" class=\"node\">\n<title>141</title>\n<ellipse fill=\"none\" stroke=\"#000000\" cx=\"708.8299\" cy=\"-370.3478\" rx=\"25.1964\" ry=\"25.1964\"/>\n<text text-anchor=\"middle\" x=\"708.8299\" y=\"-366.6478\" font-family=\"Times,serif\" font-size=\"14.00\" fill=\"#000000\">141</text>\n</g>\n<!-- 140&#45;&gt;141 -->\n<g id=\"edge163\" class=\"edge\">\n<title>140&#45;&gt;141</title>\n<path fill=\"none\" stroke=\"#000000\" d=\"M592.7944,-370.3478C615.2643,-370.3478 648.1423,-370.3478 673.169,-370.3478\"/>\n<polygon fill=\"#000000\" stroke=\"#000000\" points=\"673.3608,-373.8478 683.3608,-370.3478 673.3607,-366.8478 673.3608,-373.8478\"/>\n<text text-anchor=\"middle\" x=\"637.9821\" y=\"-374.1478\" font-family=\"Times,serif\" font-size=\"14.00\" fill=\"#000000\">o</text>\n</g>\n<!-- 142 -->\n<g id=\"node150\" class=\"node\">\n<title>142</title>\n<ellipse fill=\"none\" stroke=\"#000000\" cx=\"843.8731\" cy=\"-370.3478\" rx=\"25.1964\" ry=\"25.1964\"/>\n<text text-anchor=\"middle\" x=\"843.8731\" y=\"-366.6478\" font-family=\"Times,serif\" font-size=\"14.00\" fill=\"#000000\">142</text>\n</g>\n<!-- 141&#45;&gt;142 -->\n<g id=\"edge164\" class=\"edge\">\n<title>141&#45;&gt;142</title>\n<path fill=\"none\" stroke=\"#000000\" d=\"M734.2305,-370.3478C755.035,-370.3478 784.7222,-370.3478 807.9596,-370.3478\"/>\n<polygon fill=\"#000000\" stroke=\"#000000\" points=\"808.1273,-373.8478 818.1273,-370.3478 808.1272,-366.8478 808.1273,-373.8478\"/>\n<text text-anchor=\"middle\" x=\"774.5254\" y=\"-374.1478\" font-family=\"Times,serif\" font-size=\"14.00\" fill=\"#000000\">u</text>\n</g>\n<!-- 143 -->\n<g id=\"node151\" class=\"node\">\n<title>143</title>\n<ellipse fill=\"none\" stroke=\"#000000\" cx=\"1062.8731\" cy=\"-363.3478\" rx=\"25.1964\" ry=\"25.1964\"/>\n<text text-anchor=\"middle\" x=\"1062.8731\" y=\"-359.6478\" font-family=\"Times,serif\" font-size=\"14.00\" fill=\"#000000\">143</text>\n</g>\n<!-- 142&#45;&gt;143 -->\n<g id=\"edge165\" class=\"edge\">\n<title>142&#45;&gt;143</title>\n<path fill=\"none\" stroke=\"#000000\" d=\"M869.4238,-369.5311C908.4909,-368.2823 983.1876,-365.8948 1027.4584,-364.4797\"/>\n<polygon fill=\"#000000\" stroke=\"#000000\" points=\"1027.6021,-367.977 1037.4852,-364.1592 1027.3784,-360.9806 1027.6021,-367.977\"/>\n<text text-anchor=\"middle\" x=\"916.8731\" y=\"-372.1478\" font-family=\"Times,serif\" font-size=\"14.00\" fill=\"#000000\">r</text>\n</g>\n<!-- 143&#45;&gt;170 -->\n<g id=\"edge166\" class=\"edge\">\n<title>143&#45;&gt;170</title>\n<path fill=\"none\" stroke=\"#000000\" d=\"M1087.5036,-357.2915C1122.0012,-348.6765 1186.5768,-332.0657 1240.8731,-315.3478 1243.0034,-314.6918 1245.1898,-313.9969 1247.3897,-313.2812\"/>\n<polygon fill=\"#000000\" stroke=\"#000000\" points=\"1248.6183,-316.5608 1256.9893,-310.0665 1246.3954,-309.9231 1248.6183,-316.5608\"/>\n<text text-anchor=\"middle\" x=\"1135.8731\" y=\"-355.1478\" font-family=\"Times,serif\" font-size=\"14.00\" fill=\"#000000\">&lt;epsilon&gt;</text>\n</g>\n<!-- 146 -->\n<g id=\"node153\" class=\"node\">\n<title>146</title>\n<ellipse fill=\"none\" stroke=\"#000000\" cx=\"708.8299\" cy=\"-301.3478\" rx=\"25.1964\" ry=\"25.1964\"/>\n<text text-anchor=\"middle\" x=\"708.8299\" y=\"-297.6478\" font-family=\"Times,serif\" font-size=\"14.00\" fill=\"#000000\">146</text>\n</g>\n<!-- 145&#45;&gt;146 -->\n<g id=\"edge168\" class=\"edge\">\n<title>145&#45;&gt;146</title>\n<path fill=\"none\" stroke=\"#000000\" d=\"M592.7944,-301.3478C615.2643,-301.3478 648.1423,-301.3478 673.169,-301.3478\"/>\n<polygon fill=\"#000000\" stroke=\"#000000\" points=\"673.3608,-304.8478 683.3608,-301.3478 673.3607,-297.8478 673.3608,-304.8478\"/>\n<text text-anchor=\"middle\" x=\"637.9821\" y=\"-305.1478\" font-family=\"Times,serif\" font-size=\"14.00\" fill=\"#000000\">i</text>\n</g>\n<!-- 147 -->\n<g id=\"node154\" class=\"node\">\n<title>147</title>\n<ellipse fill=\"none\" stroke=\"#000000\" cx=\"843.8731\" cy=\"-301.3478\" rx=\"25.1964\" ry=\"25.1964\"/>\n<text text-anchor=\"middle\" x=\"843.8731\" y=\"-297.6478\" font-family=\"Times,serif\" font-size=\"14.00\" fill=\"#000000\">147</text>\n</g>\n<!-- 146&#45;&gt;147 -->\n<g id=\"edge169\" class=\"edge\">\n<title>146&#45;&gt;147</title>\n<path fill=\"none\" stroke=\"#000000\" d=\"M734.2305,-301.3478C755.035,-301.3478 784.7222,-301.3478 807.9596,-301.3478\"/>\n<polygon fill=\"#000000\" stroke=\"#000000\" points=\"808.1273,-304.8478 818.1273,-301.3478 808.1272,-297.8478 808.1273,-304.8478\"/>\n<text text-anchor=\"middle\" x=\"774.5254\" y=\"-305.1478\" font-family=\"Times,serif\" font-size=\"14.00\" fill=\"#000000\">v</text>\n</g>\n<!-- 148 -->\n<g id=\"node155\" class=\"node\">\n<title>148</title>\n<ellipse fill=\"none\" stroke=\"#000000\" cx=\"1062.8731\" cy=\"-301.3478\" rx=\"25.1964\" ry=\"25.1964\"/>\n<text text-anchor=\"middle\" x=\"1062.8731\" y=\"-297.6478\" font-family=\"Times,serif\" font-size=\"14.00\" fill=\"#000000\">148</text>\n</g>\n<!-- 147&#45;&gt;148 -->\n<g id=\"edge170\" class=\"edge\">\n<title>147&#45;&gt;148</title>\n<path fill=\"none\" stroke=\"#000000\" d=\"M869.4238,-301.3478C908.4909,-301.3478 983.1876,-301.3478 1027.4584,-301.3478\"/>\n<polygon fill=\"#000000\" stroke=\"#000000\" points=\"1027.4852,-304.8479 1037.4852,-301.3478 1027.4851,-297.8479 1027.4852,-304.8479\"/>\n<text text-anchor=\"middle\" x=\"916.8731\" y=\"-305.1478\" font-family=\"Times,serif\" font-size=\"14.00\" fill=\"#000000\">e</text>\n</g>\n<!-- 148&#45;&gt;170 -->\n<g id=\"edge171\" class=\"edge\">\n<title>148&#45;&gt;170</title>\n<path fill=\"none\" stroke=\"#000000\" d=\"M1088.3477,-301.3478C1127.1943,-301.3478 1201.3747,-301.3478 1245.557,-301.3478\"/>\n<polygon fill=\"#000000\" stroke=\"#000000\" points=\"1245.5711,-304.8479 1255.571,-301.3478 1245.571,-297.8479 1245.5711,-304.8479\"/>\n<text text-anchor=\"middle\" x=\"1135.8731\" y=\"-305.1478\" font-family=\"Times,serif\" font-size=\"14.00\" fill=\"#000000\">&lt;epsilon&gt;</text>\n</g>\n<!-- 151 -->\n<g id=\"node157\" class=\"node\">\n<title>151</title>\n<ellipse fill=\"none\" stroke=\"#000000\" cx=\"708.8299\" cy=\"-232.3478\" rx=\"25.1964\" ry=\"25.1964\"/>\n<text text-anchor=\"middle\" x=\"708.8299\" y=\"-228.6478\" font-family=\"Times,serif\" font-size=\"14.00\" fill=\"#000000\">151</text>\n</g>\n<!-- 150&#45;&gt;151 -->\n<g id=\"edge173\" class=\"edge\">\n<title>150&#45;&gt;151</title>\n<path fill=\"none\" stroke=\"#000000\" d=\"M592.7944,-232.3478C615.2643,-232.3478 648.1423,-232.3478 673.169,-232.3478\"/>\n<polygon fill=\"#000000\" stroke=\"#000000\" points=\"673.3608,-235.8478 683.3608,-232.3478 673.3607,-228.8478 673.3608,-235.8478\"/>\n<text text-anchor=\"middle\" x=\"637.9821\" y=\"-236.1478\" font-family=\"Times,serif\" font-size=\"14.00\" fill=\"#000000\">i</text>\n</g>\n<!-- 152 -->\n<g id=\"node158\" class=\"node\">\n<title>152</title>\n<ellipse fill=\"none\" stroke=\"#000000\" cx=\"916.8731\" cy=\"-251.3478\" rx=\"25.1964\" ry=\"25.1964\"/>\n<text text-anchor=\"middle\" x=\"916.8731\" y=\"-247.6478\" font-family=\"Times,serif\" font-size=\"14.00\" fill=\"#000000\">152</text>\n</g>\n<!-- 151&#45;&gt;152 -->\n<g id=\"edge174\" class=\"edge\">\n<title>151&#45;&gt;152</title>\n<path fill=\"none\" stroke=\"#000000\" d=\"M734.3401,-234.6775C771.2497,-238.0484 839.6886,-244.2987 881.468,-248.1143\"/>\n<polygon fill=\"#000000\" stroke=\"#000000\" points=\"881.2031,-251.6046 891.48,-249.0287 881.8398,-244.6336 881.2031,-251.6046\"/>\n<text text-anchor=\"middle\" x=\"774.5254\" y=\"-245.1478\" font-family=\"Times,serif\" font-size=\"14.00\" fill=\"#000000\">x</text>\n</g>\n<!-- 152&#45;&gt;170 -->\n<g id=\"edge175\" class=\"edge\">\n<title>152&#45;&gt;170</title>\n<path fill=\"none\" stroke=\"#000000\" d=\"M942.2179,-249.54C976.3742,-247.5482 1038.9982,-245.4635 1091.8731,-252.3478 1147.2734,-259.5608 1209.6748,-277.7423 1247.1942,-289.814\"/>\n<polygon fill=\"#000000\" stroke=\"#000000\" points=\"1246.4979,-293.2683 1257.0903,-293.0426 1248.6691,-286.6135 1246.4979,-293.2683\"/>\n<text text-anchor=\"middle\" x=\"1062.8731\" y=\"-256.1478\" font-family=\"Times,serif\" font-size=\"14.00\" fill=\"#000000\">&lt;epsilon&gt;</text>\n</g>\n<!-- 155 -->\n<g id=\"node160\" class=\"node\">\n<title>155</title>\n<ellipse fill=\"none\" stroke=\"#000000\" cx=\"708.8299\" cy=\"-163.3478\" rx=\"25.1964\" ry=\"25.1964\"/>\n<text text-anchor=\"middle\" x=\"708.8299\" y=\"-159.6478\" font-family=\"Times,serif\" font-size=\"14.00\" fill=\"#000000\">155</text>\n</g>\n<!-- 154&#45;&gt;155 -->\n<g id=\"edge177\" class=\"edge\">\n<title>154&#45;&gt;155</title>\n<path fill=\"none\" stroke=\"#000000\" d=\"M592.7944,-163.3478C615.2643,-163.3478 648.1423,-163.3478 673.169,-163.3478\"/>\n<polygon fill=\"#000000\" stroke=\"#000000\" points=\"673.3608,-166.8478 683.3608,-163.3478 673.3607,-159.8478 673.3608,-166.8478\"/>\n<text text-anchor=\"middle\" x=\"637.9821\" y=\"-167.1478\" font-family=\"Times,serif\" font-size=\"14.00\" fill=\"#000000\">e</text>\n</g>\n<!-- 156 -->\n<g id=\"node161\" class=\"node\">\n<title>156</title>\n<ellipse fill=\"none\" stroke=\"#000000\" cx=\"843.8731\" cy=\"-195.3478\" rx=\"25.1964\" ry=\"25.1964\"/>\n<text text-anchor=\"middle\" x=\"843.8731\" y=\"-191.6478\" font-family=\"Times,serif\" font-size=\"14.00\" fill=\"#000000\">156</text>\n</g>\n<!-- 155&#45;&gt;156 -->\n<g id=\"edge178\" class=\"edge\">\n<title>155&#45;&gt;156</title>\n<path fill=\"none\" stroke=\"#000000\" d=\"M733.5989,-169.217C754.6914,-174.2152 785.2394,-181.4538 808.8373,-187.0456\"/>\n<polygon fill=\"#000000\" stroke=\"#000000\" points=\"808.2662,-190.5072 818.8038,-189.4073 809.8803,-183.6958 808.2662,-190.5072\"/>\n<text text-anchor=\"middle\" x=\"774.5254\" y=\"-188.1478\" font-family=\"Times,serif\" font-size=\"14.00\" fill=\"#000000\">v</text>\n</g>\n<!-- 157 -->\n<g id=\"node162\" class=\"node\">\n<title>157</title>\n<ellipse fill=\"none\" stroke=\"#000000\" cx=\"989.8731\" cy=\"-200.3478\" rx=\"25.1964\" ry=\"25.1964\"/>\n<text text-anchor=\"middle\" x=\"989.8731\" y=\"-196.6478\" font-family=\"Times,serif\" font-size=\"14.00\" fill=\"#000000\">157</text>\n</g>\n<!-- 156&#45;&gt;157 -->\n<g id=\"edge179\" class=\"edge\">\n<title>156&#45;&gt;157</title>\n<path fill=\"none\" stroke=\"#000000\" d=\"M869.3044,-196.2187C892.7131,-197.0204 927.6806,-198.2179 953.9389,-199.1171\"/>\n<polygon fill=\"#000000\" stroke=\"#000000\" points=\"954.1295,-202.6256 964.2434,-199.47 954.3691,-195.6297 954.1295,-202.6256\"/>\n<text text-anchor=\"middle\" x=\"916.8731\" y=\"-203.1478\" font-family=\"Times,serif\" font-size=\"14.00\" fill=\"#000000\">e</text>\n</g>\n<!-- 158 -->\n<g id=\"node163\" class=\"node\">\n<title>158</title>\n<ellipse fill=\"none\" stroke=\"#000000\" cx=\"1135.8731\" cy=\"-201.3478\" rx=\"25.1964\" ry=\"25.1964\"/>\n<text text-anchor=\"middle\" x=\"1135.8731\" y=\"-197.6478\" font-family=\"Times,serif\" font-size=\"14.00\" fill=\"#000000\">158</text>\n</g>\n<!-- 157&#45;&gt;158 -->\n<g id=\"edge180\" class=\"edge\">\n<title>157&#45;&gt;158</title>\n<path fill=\"none\" stroke=\"#000000\" d=\"M1015.3044,-200.5219C1038.7131,-200.6823 1073.6806,-200.9218 1099.9389,-201.1016\"/>\n<polygon fill=\"#000000\" stroke=\"#000000\" points=\"1100.2197,-204.6035 1110.2434,-201.1722 1100.2677,-197.6037 1100.2197,-204.6035\"/>\n<text text-anchor=\"middle\" x=\"1062.8731\" y=\"-205.1478\" font-family=\"Times,serif\" font-size=\"14.00\" fill=\"#000000\">n</text>\n</g>\n<!-- 158&#45;&gt;170 -->\n<g id=\"edge181\" class=\"edge\">\n<title>158&#45;&gt;170</title>\n<path fill=\"none\" stroke=\"#000000\" d=\"M1161.2642,-201.3762C1184.2261,-202.6411 1217.865,-207.7212 1240.8731,-225.3478 1254.5892,-235.8557 1264.1475,-252.3826 1270.5051,-267.3446\"/>\n<polygon fill=\"#000000\" stroke=\"#000000\" points=\"1267.3295,-268.8343 1274.2323,-276.8718 1273.8484,-266.2839 1267.3295,-268.8343\"/>\n<text text-anchor=\"middle\" x=\"1210.3731\" y=\"-229.1478\" font-family=\"Times,serif\" font-size=\"14.00\" fill=\"#000000\">&lt;epsilon&gt;</text>\n</g>\n<!-- 161 -->\n<g id=\"node165\" class=\"node\">\n<title>161</title>\n<ellipse fill=\"none\" stroke=\"#000000\" cx=\"708.8299\" cy=\"-94.3478\" rx=\"25.1964\" ry=\"25.1964\"/>\n<text text-anchor=\"middle\" x=\"708.8299\" y=\"-90.6478\" font-family=\"Times,serif\" font-size=\"14.00\" fill=\"#000000\">161</text>\n</g>\n<!-- 160&#45;&gt;161 -->\n<g id=\"edge183\" class=\"edge\">\n<title>160&#45;&gt;161</title>\n<path fill=\"none\" stroke=\"#000000\" d=\"M592.7944,-94.3478C615.2643,-94.3478 648.1423,-94.3478 673.169,-94.3478\"/>\n<polygon fill=\"#000000\" stroke=\"#000000\" points=\"673.3608,-97.8478 683.3608,-94.3478 673.3607,-90.8478 673.3608,-97.8478\"/>\n<text text-anchor=\"middle\" x=\"637.9821\" y=\"-98.1478\" font-family=\"Times,serif\" font-size=\"14.00\" fill=\"#000000\">i</text>\n</g>\n<!-- 162 -->\n<g id=\"node166\" class=\"node\">\n<title>162</title>\n<ellipse fill=\"none\" stroke=\"#000000\" cx=\"843.8731\" cy=\"-126.3478\" rx=\"25.1964\" ry=\"25.1964\"/>\n<text text-anchor=\"middle\" x=\"843.8731\" y=\"-122.6478\" font-family=\"Times,serif\" font-size=\"14.00\" fill=\"#000000\">162</text>\n</g>\n<!-- 161&#45;&gt;162 -->\n<g id=\"edge184\" class=\"edge\">\n<title>161&#45;&gt;162</title>\n<path fill=\"none\" stroke=\"#000000\" d=\"M733.5989,-100.217C754.6914,-105.2152 785.2394,-112.4538 808.8373,-118.0456\"/>\n<polygon fill=\"#000000\" stroke=\"#000000\" points=\"808.2662,-121.5072 818.8038,-120.4073 809.8803,-114.6958 808.2662,-121.5072\"/>\n<text text-anchor=\"middle\" x=\"774.5254\" y=\"-119.1478\" font-family=\"Times,serif\" font-size=\"14.00\" fill=\"#000000\">g</text>\n</g>\n<!-- 163 -->\n<g id=\"node167\" class=\"node\">\n<title>163</title>\n<ellipse fill=\"none\" stroke=\"#000000\" cx=\"989.8731\" cy=\"-128.3478\" rx=\"25.1964\" ry=\"25.1964\"/>\n<text text-anchor=\"middle\" x=\"989.8731\" y=\"-124.6478\" font-family=\"Times,serif\" font-size=\"14.00\" fill=\"#000000\">163</text>\n</g>\n<!-- 162&#45;&gt;163 -->\n<g id=\"edge185\" class=\"edge\">\n<title>162&#45;&gt;163</title>\n<path fill=\"none\" stroke=\"#000000\" d=\"M869.3044,-126.6961C892.7131,-127.0168 927.6806,-127.4958 953.9389,-127.8555\"/>\n<polygon fill=\"#000000\" stroke=\"#000000\" points=\"954.1964,-131.3593 964.2434,-127.9967 954.2923,-124.3599 954.1964,-131.3593\"/>\n<text text-anchor=\"middle\" x=\"916.8731\" y=\"-132.1478\" font-family=\"Times,serif\" font-size=\"14.00\" fill=\"#000000\">h</text>\n</g>\n<!-- 164 -->\n<g id=\"node168\" class=\"node\">\n<title>164</title>\n<ellipse fill=\"none\" stroke=\"#000000\" cx=\"1135.8731\" cy=\"-129.3478\" rx=\"25.1964\" ry=\"25.1964\"/>\n<text text-anchor=\"middle\" x=\"1135.8731\" y=\"-125.6478\" font-family=\"Times,serif\" font-size=\"14.00\" fill=\"#000000\">164</text>\n</g>\n<!-- 163&#45;&gt;164 -->\n<g id=\"edge186\" class=\"edge\">\n<title>163&#45;&gt;164</title>\n<path fill=\"none\" stroke=\"#000000\" d=\"M1015.3044,-128.5219C1038.7131,-128.6823 1073.6806,-128.9218 1099.9389,-129.1016\"/>\n<polygon fill=\"#000000\" stroke=\"#000000\" points=\"1100.2197,-132.6035 1110.2434,-129.1722 1100.2677,-125.6037 1100.2197,-132.6035\"/>\n<text text-anchor=\"middle\" x=\"1062.8731\" y=\"-133.1478\" font-family=\"Times,serif\" font-size=\"14.00\" fill=\"#000000\">t</text>\n</g>\n<!-- 164&#45;&gt;170 -->\n<g id=\"edge187\" class=\"edge\">\n<title>164&#45;&gt;170</title>\n<path fill=\"none\" stroke=\"#000000\" d=\"M1160.4751,-136.6248C1184.1841,-144.8313 1219.5162,-160.389 1240.8731,-185.3478 1260.4024,-208.1706 1270.6562,-241.0023 1275.9291,-265.916\"/>\n<polygon fill=\"#000000\" stroke=\"#000000\" points=\"1272.5558,-266.906 1277.8965,-276.0563 1279.4277,-265.5727 1272.5558,-266.906\"/>\n<text text-anchor=\"middle\" x=\"1210.3731\" y=\"-189.1478\" font-family=\"Times,serif\" font-size=\"14.00\" fill=\"#000000\">&lt;epsilon&gt;</text>\n</g>\n<!-- 167 -->\n<g id=\"node170\" class=\"node\">\n<title>167</title>\n<ellipse fill=\"none\" stroke=\"#000000\" cx=\"708.8299\" cy=\"-25.3478\" rx=\"25.1964\" ry=\"25.1964\"/>\n<text text-anchor=\"middle\" x=\"708.8299\" y=\"-21.6478\" font-family=\"Times,serif\" font-size=\"14.00\" fill=\"#000000\">167</text>\n</g>\n<!-- 166&#45;&gt;167 -->\n<g id=\"edge189\" class=\"edge\">\n<title>166&#45;&gt;167</title>\n<path fill=\"none\" stroke=\"#000000\" d=\"M592.7944,-25.3478C615.2643,-25.3478 648.1423,-25.3478 673.169,-25.3478\"/>\n<polygon fill=\"#000000\" stroke=\"#000000\" points=\"673.3608,-28.8478 683.3608,-25.3478 673.3607,-21.8478 673.3608,-28.8478\"/>\n<text text-anchor=\"middle\" x=\"637.9821\" y=\"-29.1478\" font-family=\"Times,serif\" font-size=\"14.00\" fill=\"#000000\">i</text>\n</g>\n<!-- 168 -->\n<g id=\"node171\" class=\"node\">\n<title>168</title>\n<ellipse fill=\"none\" stroke=\"#000000\" cx=\"843.8731\" cy=\"-57.3478\" rx=\"25.1964\" ry=\"25.1964\"/>\n<text text-anchor=\"middle\" x=\"843.8731\" y=\"-53.6478\" font-family=\"Times,serif\" font-size=\"14.00\" fill=\"#000000\">168</text>\n</g>\n<!-- 167&#45;&gt;168 -->\n<g id=\"edge190\" class=\"edge\">\n<title>167&#45;&gt;168</title>\n<path fill=\"none\" stroke=\"#000000\" d=\"M733.5989,-31.217C754.6914,-36.2152 785.2394,-43.4538 808.8373,-49.0456\"/>\n<polygon fill=\"#000000\" stroke=\"#000000\" points=\"808.2662,-52.5072 818.8038,-51.4073 809.8803,-45.6958 808.2662,-52.5072\"/>\n<text text-anchor=\"middle\" x=\"774.5254\" y=\"-50.1478\" font-family=\"Times,serif\" font-size=\"14.00\" fill=\"#000000\">n</text>\n</g>\n<!-- 169 -->\n<g id=\"node172\" class=\"node\">\n<title>169</title>\n<ellipse fill=\"none\" stroke=\"#000000\" cx=\"1062.8731\" cy=\"-61.3478\" rx=\"25.1964\" ry=\"25.1964\"/>\n<text text-anchor=\"middle\" x=\"1062.8731\" y=\"-57.6478\" font-family=\"Times,serif\" font-size=\"14.00\" fill=\"#000000\">169</text>\n</g>\n<!-- 168&#45;&gt;169 -->\n<g id=\"edge191\" class=\"edge\">\n<title>168&#45;&gt;169</title>\n<path fill=\"none\" stroke=\"#000000\" d=\"M869.4238,-57.8144C908.4909,-58.528 983.1876,-59.8923 1027.4584,-60.7009\"/>\n<polygon fill=\"#000000\" stroke=\"#000000\" points=\"1027.4229,-64.2007 1037.4852,-60.884 1027.5508,-57.2019 1027.4229,-64.2007\"/>\n<text text-anchor=\"middle\" x=\"916.8731\" y=\"-63.1478\" font-family=\"Times,serif\" font-size=\"14.00\" fill=\"#000000\">e</text>\n</g>\n<!-- 169&#45;&gt;170 -->\n<g id=\"edge192\" class=\"edge\">\n<title>169&#45;&gt;170</title>\n<path fill=\"none\" stroke=\"#000000\" d=\"M1088.2235,-62.6261C1109.5181,-64.4918 1140.3163,-69.0779 1164.8731,-80.3478 1204.2379,-98.4133 1217.4735,-104.9004 1240.8731,-141.3478 1265.3483,-179.4705 1274.9817,-231.5494 1278.7702,-265.7944\"/>\n<polygon fill=\"#000000\" stroke=\"#000000\" points=\"1275.2943,-266.2106 1279.7683,-275.8144 1282.2598,-265.5167 1275.2943,-266.2106\"/>\n<text text-anchor=\"middle\" x=\"1135.8731\" y=\"-84.1478\" font-family=\"Times,serif\" font-size=\"14.00\" fill=\"#000000\">&lt;epsilon&gt;</text>\n</g>\n<!-- 172 -->\n<g id=\"node174\" class=\"node\">\n<title>172</title>\n<ellipse fill=\"none\" stroke=\"#000000\" cx=\"1511.6119\" cy=\"-470.3478\" rx=\"25.1964\" ry=\"25.1964\"/>\n<text text-anchor=\"middle\" x=\"1511.6119\" y=\"-466.6478\" font-family=\"Times,serif\" font-size=\"14.00\" fill=\"#000000\">172</text>\n</g>\n<!-- 171&#45;&gt;172 -->\n<g id=\"edge194\" class=\"edge\">\n<title>171&#45;&gt;172</title>\n<path fill=\"none\" stroke=\"#000000\" d=\"M1447.1528,-447.0919C1456.7146,-450.5416 1467.8589,-454.5623 1478.1657,-458.2809\"/>\n<polygon fill=\"#000000\" stroke=\"#000000\" points=\"1477.1175,-461.6235 1487.7118,-461.725 1479.4931,-455.0389 1477.1175,-461.6235\"/>\n<text text-anchor=\"middle\" x=\"1467.2641\" y=\"-458.1478\" font-family=\"Times,serif\" font-size=\"14.00\" fill=\"#000000\">d</text>\n</g>\n<!-- 173 -->\n<g id=\"node175\" class=\"node\">\n<title>173</title>\n<ellipse fill=\"none\" stroke=\"#000000\" cx=\"1643.0029\" cy=\"-482.3478\" rx=\"25.1964\" ry=\"25.1964\"/>\n<text text-anchor=\"middle\" x=\"1643.0029\" y=\"-478.6478\" font-family=\"Times,serif\" font-size=\"14.00\" fill=\"#000000\">173</text>\n</g>\n<!-- 172&#45;&gt;173 -->\n<g id=\"edge195\" class=\"edge\">\n<title>172&#45;&gt;173</title>\n<path fill=\"none\" stroke=\"#000000\" d=\"M1536.9454,-472.6615C1557.0308,-474.4959 1585.3344,-477.0809 1607.6511,-479.1191\"/>\n<polygon fill=\"#000000\" stroke=\"#000000\" points=\"1607.4702,-482.617 1617.7471,-480.0411 1608.107,-475.646 1607.4702,-482.617\"/>\n<text text-anchor=\"middle\" x=\"1577.3074\" y=\"-482.1478\" font-family=\"Times,serif\" font-size=\"14.00\" fill=\"#000000\">o</text>\n</g>\n<!-- 174 -->\n<g id=\"node176\" class=\"node\">\n<title>174</title>\n<ellipse fill=\"none\" stroke=\"#000000\" cx=\"1731.6984\" cy=\"-485.3478\" rx=\"25.1964\" ry=\"25.1964\"/>\n<text text-anchor=\"middle\" x=\"1731.6984\" y=\"-481.6478\" font-family=\"Times,serif\" font-size=\"14.00\" fill=\"#000000\">174</text>\n</g>\n<!-- 173&#45;&gt;174 -->\n<g id=\"edge196\" class=\"edge\">\n<title>173&#45;&gt;174</title>\n<path fill=\"none\" stroke=\"#000000\" d=\"M1668.6573,-483.2155C1677.207,-483.5047 1686.8913,-483.8322 1696.0588,-484.1423\"/>\n<polygon fill=\"#000000\" stroke=\"#000000\" points=\"1695.989,-487.6418 1706.1016,-484.482 1696.2257,-480.6458 1695.989,-487.6418\"/>\n<text text-anchor=\"middle\" x=\"1687.3506\" y=\"-487.1478\" font-family=\"Times,serif\" font-size=\"14.00\" fill=\"#000000\">l</text>\n</g>\n<!-- 175 -->\n<g id=\"node177\" class=\"node\">\n<title>175</title>\n<ellipse fill=\"none\" stroke=\"#000000\" cx=\"1819.3939\" cy=\"-485.3478\" rx=\"25.1964\" ry=\"25.1964\"/>\n<text text-anchor=\"middle\" x=\"1819.3939\" y=\"-481.6478\" font-family=\"Times,serif\" font-size=\"14.00\" fill=\"#000000\">175</text>\n</g>\n<!-- 174&#45;&gt;175 -->\n<g id=\"edge197\" class=\"edge\">\n<title>174&#45;&gt;175</title>\n<path fill=\"none\" stroke=\"#000000\" d=\"M1757.0636,-485.3478C1765.3533,-485.3478 1774.7218,-485.3478 1783.6293,-485.3478\"/>\n<polygon fill=\"#000000\" stroke=\"#000000\" points=\"1783.7819,-488.8478 1793.7819,-485.3478 1783.7819,-481.8478 1783.7819,-488.8478\"/>\n<text text-anchor=\"middle\" x=\"1775.5461\" y=\"-489.1478\" font-family=\"Times,serif\" font-size=\"14.00\" fill=\"#000000\">l</text>\n</g>\n<!-- 176 -->\n<g id=\"node178\" class=\"node\">\n<title>176</title>\n<ellipse fill=\"none\" stroke=\"#000000\" cx=\"1961.4394\" cy=\"-485.3478\" rx=\"25.1964\" ry=\"25.1964\"/>\n<text text-anchor=\"middle\" x=\"1961.4394\" y=\"-481.6478\" font-family=\"Times,serif\" font-size=\"14.00\" fill=\"#000000\">176</text>\n</g>\n<!-- 175&#45;&gt;176 -->\n<g id=\"edge198\" class=\"edge\">\n<title>175&#45;&gt;176</title>\n<path fill=\"none\" stroke=\"#000000\" d=\"M1844.7888,-485.3478C1867.2723,-485.3478 1900.3352,-485.3478 1925.5255,-485.3478\"/>\n<polygon fill=\"#000000\" stroke=\"#000000\" points=\"1925.7855,-488.8478 1935.7855,-485.3478 1925.7854,-481.8478 1925.7855,-488.8478\"/>\n<text text-anchor=\"middle\" x=\"1888.7416\" y=\"-489.1478\" font-family=\"Times,serif\" font-size=\"14.00\" fill=\"#000000\">a</text>\n</g>\n<!-- 177 -->\n<g id=\"node179\" class=\"node\">\n<title>177</title>\n<ellipse fill=\"none\" stroke=\"#000000\" cx=\"2051.485\" cy=\"-485.3478\" rx=\"25.1964\" ry=\"25.1964\"/>\n<text text-anchor=\"middle\" x=\"2051.485\" y=\"-481.6478\" font-family=\"Times,serif\" font-size=\"14.00\" fill=\"#000000\">177</text>\n</g>\n<!-- 176&#45;&gt;177 -->\n<g id=\"edge199\" class=\"edge\">\n<title>176&#45;&gt;177</title>\n<path fill=\"none\" stroke=\"#000000\" d=\"M1987.002,-485.3478C1995.937,-485.3478 2006.1382,-485.3478 2015.7492,-485.3478\"/>\n<polygon fill=\"#000000\" stroke=\"#000000\" points=\"2015.8585,-488.8478 2025.8585,-485.3478 2015.8585,-481.8478 2015.8585,-488.8478\"/>\n<text text-anchor=\"middle\" x=\"2008.1373\" y=\"-489.1478\" font-family=\"Times,serif\" font-size=\"14.00\" fill=\"#000000\">r</text>\n</g>\n<!-- 178 -->\n<g id=\"node180\" class=\"node\">\n<title>178</title>\n<ellipse fill=\"none\" stroke=\"#000000\" cx=\"2138.1805\" cy=\"-485.3478\" rx=\"25.1964\" ry=\"25.1964\"/>\n<text text-anchor=\"middle\" x=\"2138.1805\" y=\"-481.6478\" font-family=\"Times,serif\" font-size=\"14.00\" fill=\"#000000\">178</text>\n</g>\n<!-- 177&#45;&gt;178 -->\n<g id=\"edge200\" class=\"edge\">\n<title>177&#45;&gt;178</title>\n<path fill=\"none\" stroke=\"#000000\" d=\"M2077.0276,-485.3478C2085.0527,-485.3478 2094.0633,-485.3478 2102.6506,-485.3478\"/>\n<polygon fill=\"#000000\" stroke=\"#000000\" points=\"2102.8205,-488.8478 2112.8205,-485.3478 2102.8204,-481.8478 2102.8205,-488.8478\"/>\n<text text-anchor=\"middle\" x=\"2094.8328\" y=\"-489.1478\" font-family=\"Times,serif\" font-size=\"14.00\" fill=\"#000000\">s</text>\n</g>\n<!-- 178&#45;&gt;179 -->\n<g id=\"edge201\" class=\"edge\">\n<title>178&#45;&gt;179</title>\n<path fill=\"none\" stroke=\"#000000\" d=\"M2163.2972,-490.2372C2185.2915,-494.5189 2217.4733,-500.7838 2241.9701,-505.5526\"/>\n<polygon fill=\"#000000\" stroke=\"#000000\" points=\"2241.4616,-509.0192 2251.9462,-507.4946 2242.7992,-502.1482 2241.4616,-509.0192\"/>\n<text text-anchor=\"middle\" x=\"2207.5283\" y=\"-508.1478\" font-family=\"Times,serif\" font-size=\"14.00\" fill=\"#000000\">&lt;epsilon&gt;</text>\n</g>\n<!-- 181 -->\n<g id=\"node182\" class=\"node\">\n<title>181</title>\n<ellipse fill=\"none\" stroke=\"#000000\" cx=\"2557.267\" cy=\"-512.3478\" rx=\"25.1964\" ry=\"25.1964\"/>\n<text text-anchor=\"middle\" x=\"2557.267\" y=\"-508.6478\" font-family=\"Times,serif\" font-size=\"14.00\" fill=\"#000000\">181</text>\n</g>\n<!-- 180&#45;&gt;181 -->\n<g id=\"edge203\" class=\"edge\">\n<title>180&#45;&gt;181</title>\n<path fill=\"none\" stroke=\"#000000\" d=\"M2444.0104,-512.3478C2465.6734,-512.3478 2497.0475,-512.3478 2521.2837,-512.3478\"/>\n<polygon fill=\"#000000\" stroke=\"#000000\" points=\"2521.5197,-515.8478 2531.5197,-512.3478 2521.5197,-508.8478 2521.5197,-515.8478\"/>\n<text text-anchor=\"middle\" x=\"2487.9193\" y=\"-516.1478\" font-family=\"Times,serif\" font-size=\"14.00\" fill=\"#000000\">&lt;epsilon&gt;</text>\n</g>\n<!-- 182 -->\n<g id=\"node183\" class=\"node\">\n<title>182</title>\n<ellipse fill=\"none\" stroke=\"#000000\" cx=\"2695.9625\" cy=\"-622.3478\" rx=\"25.1964\" ry=\"25.1964\"/>\n<text text-anchor=\"middle\" x=\"2695.9625\" y=\"-618.6478\" font-family=\"Times,serif\" font-size=\"14.00\" fill=\"#000000\">182</text>\n</g>\n<!-- 181&#45;&gt;182 -->\n<g id=\"edge204\" class=\"edge\">\n<title>181&#45;&gt;182</title>\n<path fill=\"none\" stroke=\"#000000\" d=\"M2577.1387,-528.1081C2600.8971,-546.951 2640.8218,-578.6154 2667.7643,-599.9836\"/>\n<polygon fill=\"#000000\" stroke=\"#000000\" points=\"2665.6668,-602.7872 2675.6767,-606.259 2670.0166,-597.3027 2665.6668,-602.7872\"/>\n<text text-anchor=\"middle\" x=\"2626.6148\" y=\"-593.1478\" font-family=\"Times,serif\" font-size=\"14.00\" fill=\"#000000\">o</text>\n</g>\n<!-- 190 -->\n<g id=\"node184\" class=\"node\">\n<title>190</title>\n<ellipse fill=\"none\" stroke=\"#000000\" cx=\"2695.9625\" cy=\"-478.3478\" rx=\"25.1964\" ry=\"25.1964\"/>\n<text text-anchor=\"middle\" x=\"2695.9625\" y=\"-474.6478\" font-family=\"Times,serif\" font-size=\"14.00\" fill=\"#000000\">190</text>\n</g>\n<!-- 181&#45;&gt;190 -->\n<g id=\"edge205\" class=\"edge\">\n<title>181&#45;&gt;190</title>\n<path fill=\"none\" stroke=\"#000000\" d=\"M2582.063,-506.2692C2604.0162,-500.8876 2636.2994,-492.9737 2660.8955,-486.9441\"/>\n<polygon fill=\"#000000\" stroke=\"#000000\" points=\"2662.0345,-490.2686 2670.9136,-484.4883 2660.3678,-483.4699 2662.0345,-490.2686\"/>\n<text text-anchor=\"middle\" x=\"2626.6148\" y=\"-505.1478\" font-family=\"Times,serif\" font-size=\"14.00\" fill=\"#000000\">&lt;epsilon&gt;</text>\n</g>\n<!-- 183 -->\n<g id=\"node185\" class=\"node\">\n<title>183</title>\n<ellipse fill=\"none\" stroke=\"#000000\" cx=\"2834.658\" cy=\"-720.3478\" rx=\"25.1964\" ry=\"25.1964\"/>\n<text text-anchor=\"middle\" x=\"2834.658\" y=\"-716.6478\" font-family=\"Times,serif\" font-size=\"14.00\" fill=\"#000000\">183</text>\n</g>\n<!-- 182&#45;&gt;183 -->\n<g id=\"edge206\" class=\"edge\">\n<title>182&#45;&gt;183</title>\n<path fill=\"none\" stroke=\"#000000\" d=\"M2716.8713,-637.4448C2723.1141,-641.9337 2729.9802,-646.8525 2736.3103,-651.3478 2759.4194,-667.7584 2785.7065,-686.1891 2805.2862,-699.8711\"/>\n<polygon fill=\"#000000\" stroke=\"#000000\" points=\"2803.3033,-702.7553 2813.5059,-705.6114 2807.3112,-697.0162 2803.3033,-702.7553\"/>\n<text text-anchor=\"middle\" x=\"2765.3103\" y=\"-694.1478\" font-family=\"Times,serif\" font-size=\"14.00\" fill=\"#000000\">n</text>\n</g>\n<!-- 191 -->\n<g id=\"node192\" class=\"node\">\n<title>191</title>\n<ellipse fill=\"none\" stroke=\"#000000\" cx=\"2834.658\" cy=\"-650.3478\" rx=\"25.1964\" ry=\"25.1964\"/>\n<text text-anchor=\"middle\" x=\"2834.658\" y=\"-646.6478\" font-family=\"Times,serif\" font-size=\"14.00\" fill=\"#000000\">191</text>\n</g>\n<!-- 190&#45;&gt;191 -->\n<g id=\"edge213\" class=\"edge\">\n<title>190&#45;&gt;191</title>\n<path fill=\"none\" stroke=\"#000000\" d=\"M2700.1944,-503.6375C2705.3033,-527.812 2715.8856,-564.2002 2736.3103,-589.3478 2745.8431,-601.0849 2778.1638,-620.1072 2803.1807,-633.7907\"/>\n<polygon fill=\"#000000\" stroke=\"#000000\" points=\"2801.5503,-636.8879 2812.0112,-638.567 2804.8806,-630.7309 2801.5503,-636.8879\"/>\n<text text-anchor=\"middle\" x=\"2765.3103\" y=\"-632.1478\" font-family=\"Times,serif\" font-size=\"14.00\" fill=\"#000000\">t</text>\n</g>\n<!-- 194 -->\n<g id=\"node193\" class=\"node\">\n<title>194</title>\n<ellipse fill=\"none\" stroke=\"#000000\" cx=\"2834.658\" cy=\"-580.3478\" rx=\"25.1964\" ry=\"25.1964\"/>\n<text text-anchor=\"middle\" x=\"2834.658\" y=\"-576.6478\" font-family=\"Times,serif\" font-size=\"14.00\" fill=\"#000000\">194</text>\n</g>\n<!-- 190&#45;&gt;194 -->\n<g id=\"edge214\" class=\"edge\">\n<title>190&#45;&gt;194</title>\n<path fill=\"none\" stroke=\"#000000\" d=\"M2706.0811,-501.7131C2712.9262,-515.164 2723.1248,-531.4984 2736.3103,-542.3478 2754.6897,-557.4709 2779.7715,-567.0348 2800.0051,-572.7852\"/>\n<polygon fill=\"#000000\" stroke=\"#000000\" points=\"2799.2264,-576.1996 2809.7896,-575.3816 2801.0219,-569.4338 2799.2264,-576.1996\"/>\n<text text-anchor=\"middle\" x=\"2765.3103\" y=\"-574.1478\" font-family=\"Times,serif\" font-size=\"14.00\" fill=\"#000000\">&lt;epsilon&gt;</text>\n</g>\n<!-- 200 -->\n<g id=\"node194\" class=\"node\">\n<title>200</title>\n<ellipse fill=\"none\" stroke=\"#000000\" cx=\"2900.3535\" cy=\"-534.3478\" rx=\"25.1964\" ry=\"25.1964\"/>\n<text text-anchor=\"middle\" x=\"2900.3535\" y=\"-530.6478\" font-family=\"Times,serif\" font-size=\"14.00\" fill=\"#000000\">200</text>\n</g>\n<!-- 190&#45;&gt;200 -->\n<g id=\"edge215\" class=\"edge\">\n<title>190&#45;&gt;200</title>\n<path fill=\"none\" stroke=\"#000000\" d=\"M2718.6459,-490.0869C2724.3154,-492.7246 2730.4523,-495.3349 2736.3103,-497.3478 2779.5366,-512.2007 2831.2438,-522.7248 2864.8927,-528.6597\"/>\n<polygon fill=\"#000000\" stroke=\"#000000\" points=\"2864.7006,-532.178 2875.1494,-530.425 2865.888,-525.2795 2864.7006,-532.178\"/>\n<text text-anchor=\"middle\" x=\"2765.3103\" y=\"-517.1478\" font-family=\"Times,serif\" font-size=\"14.00\" fill=\"#000000\">&lt;epsilon&gt;</text>\n</g>\n<!-- 205 -->\n<g id=\"node195\" class=\"node\">\n<title>205</title>\n<ellipse fill=\"none\" stroke=\"#000000\" cx=\"2900.3535\" cy=\"-478.3478\" rx=\"25.1964\" ry=\"25.1964\"/>\n<text text-anchor=\"middle\" x=\"2900.3535\" y=\"-474.6478\" font-family=\"Times,serif\" font-size=\"14.00\" fill=\"#000000\">205</text>\n</g>\n<!-- 190&#45;&gt;205 -->\n<g id=\"edge216\" class=\"edge\">\n<title>190&#45;&gt;205</title>\n<path fill=\"none\" stroke=\"#000000\" d=\"M2721.4355,-478.3478C2757.5643,-478.3478 2823.841,-478.3478 2864.7978,-478.3478\"/>\n<polygon fill=\"#000000\" stroke=\"#000000\" points=\"2864.8814,-481.8479 2874.8813,-478.3478 2864.8813,-474.8479 2864.8814,-481.8479\"/>\n<text text-anchor=\"middle\" x=\"2765.3103\" y=\"-482.1478\" font-family=\"Times,serif\" font-size=\"14.00\" fill=\"#000000\">&lt;epsilon&gt;</text>\n</g>\n<!-- 210 -->\n<g id=\"node196\" class=\"node\">\n<title>210</title>\n<ellipse fill=\"none\" stroke=\"#000000\" cx=\"2900.3535\" cy=\"-422.3478\" rx=\"25.1964\" ry=\"25.1964\"/>\n<text text-anchor=\"middle\" x=\"2900.3535\" y=\"-418.6478\" font-family=\"Times,serif\" font-size=\"14.00\" fill=\"#000000\">210</text>\n</g>\n<!-- 190&#45;&gt;210 -->\n<g id=\"edge217\" class=\"edge\">\n<title>190&#45;&gt;210</title>\n<path fill=\"none\" stroke=\"#000000\" d=\"M2718.6459,-466.6086C2724.3154,-463.9709 2730.4523,-461.3606 2736.3103,-459.3478 2779.5366,-444.4948 2831.2438,-433.9707 2864.8927,-428.0358\"/>\n<polygon fill=\"#000000\" stroke=\"#000000\" points=\"2865.888,-431.416 2875.1494,-426.2705 2864.7006,-424.5175 2865.888,-431.416\"/>\n<text text-anchor=\"middle\" x=\"2765.3103\" y=\"-463.1478\" font-family=\"Times,serif\" font-size=\"14.00\" fill=\"#000000\">&lt;epsilon&gt;</text>\n</g>\n<!-- 214 -->\n<g id=\"node197\" class=\"node\">\n<title>214</title>\n<ellipse fill=\"none\" stroke=\"#000000\" cx=\"2834.658\" cy=\"-383.3478\" rx=\"25.1964\" ry=\"25.1964\"/>\n<text text-anchor=\"middle\" x=\"2834.658\" y=\"-379.6478\" font-family=\"Times,serif\" font-size=\"14.00\" fill=\"#000000\">214</text>\n</g>\n<!-- 190&#45;&gt;214 -->\n<g id=\"edge218\" class=\"edge\">\n<title>190&#45;&gt;214</title>\n<path fill=\"none\" stroke=\"#000000\" d=\"M2702.8212,-453.6993C2708.8552,-436.6558 2719.3751,-414.8724 2736.3103,-402.3478 2754.2887,-389.0514 2779.019,-384.3187 2799.1825,-382.9014\"/>\n<polygon fill=\"#000000\" stroke=\"#000000\" points=\"2799.4233,-386.3941 2809.2505,-382.4346 2799.0991,-379.4016 2799.4233,-386.3941\"/>\n<text text-anchor=\"middle\" x=\"2765.3103\" y=\"-406.1478\" font-family=\"Times,serif\" font-size=\"14.00\" fill=\"#000000\">&lt;epsilon&gt;</text>\n</g>\n<!-- 220 -->\n<g id=\"node198\" class=\"node\">\n<title>220</title>\n<ellipse fill=\"none\" stroke=\"#000000\" cx=\"2834.658\" cy=\"-309.3478\" rx=\"25.1964\" ry=\"25.1964\"/>\n<text text-anchor=\"middle\" x=\"2834.658\" y=\"-305.6478\" font-family=\"Times,serif\" font-size=\"14.00\" fill=\"#000000\">220</text>\n</g>\n<!-- 190&#45;&gt;220 -->\n<g id=\"edge219\" class=\"edge\">\n<title>190&#45;&gt;220</title>\n<path fill=\"none\" stroke=\"#000000\" d=\"M2699.4948,-452.8564C2704.1335,-427.6391 2714.4224,-389.1737 2736.3103,-363.3478 2753.2707,-343.3357 2779.6036,-329.4348 2800.7542,-320.7535\"/>\n<polygon fill=\"#000000\" stroke=\"#000000\" points=\"2802.3049,-323.9058 2810.3554,-317.0181 2799.7668,-317.3821 2802.3049,-323.9058\"/>\n<text text-anchor=\"middle\" x=\"2765.3103\" y=\"-367.1478\" font-family=\"Times,serif\" font-size=\"14.00\" fill=\"#000000\">&lt;epsilon&gt;</text>\n</g>\n<!-- 226 -->\n<g id=\"node199\" class=\"node\">\n<title>226</title>\n<ellipse fill=\"none\" stroke=\"#000000\" cx=\"2900.3535\" cy=\"-244.3478\" rx=\"25.1964\" ry=\"25.1964\"/>\n<text text-anchor=\"middle\" x=\"2900.3535\" y=\"-240.6478\" font-family=\"Times,serif\" font-size=\"14.00\" fill=\"#000000\">226</text>\n</g>\n<!-- 190&#45;&gt;226 -->\n<g id=\"edge220\" class=\"edge\">\n<title>190&#45;&gt;226</title>\n<path fill=\"none\" stroke=\"#000000\" d=\"M2699.014,-452.887C2704.57,-410.3774 2717.5235,-327.427 2736.3103,-305.3478 2768.7074,-267.2727 2827.2216,-252.9425 2864.8998,-247.5629\"/>\n<polygon fill=\"#000000\" stroke=\"#000000\" points=\"2865.4644,-251.0192 2874.9355,-246.2706 2864.5703,-244.0765 2865.4644,-251.0192\"/>\n<text text-anchor=\"middle\" x=\"2765.3103\" y=\"-309.1478\" font-family=\"Times,serif\" font-size=\"14.00\" fill=\"#000000\">&lt;epsilon&gt;</text>\n</g>\n<!-- 184 -->\n<g id=\"node186\" class=\"node\">\n<title>184</title>\n<ellipse fill=\"none\" stroke=\"#000000\" cx=\"2966.049\" cy=\"-725.3478\" rx=\"25.1964\" ry=\"25.1964\"/>\n<text text-anchor=\"middle\" x=\"2966.049\" y=\"-721.6478\" font-family=\"Times,serif\" font-size=\"14.00\" fill=\"#000000\">184</text>\n</g>\n<!-- 183&#45;&gt;184 -->\n<g id=\"edge207\" class=\"edge\">\n<title>183&#45;&gt;184</title>\n<path fill=\"none\" stroke=\"#000000\" d=\"M2859.9915,-721.3118C2879.9482,-722.0712 2908.018,-723.1394 2930.2673,-723.9861\"/>\n<polygon fill=\"#000000\" stroke=\"#000000\" points=\"2930.2191,-727.4867 2940.345,-724.3696 2930.4853,-720.4918 2930.2191,-727.4867\"/>\n<text text-anchor=\"middle\" x=\"2900.3535\" y=\"-727.1478\" font-family=\"Times,serif\" font-size=\"14.00\" fill=\"#000000\">e</text>\n</g>\n<!-- 185 -->\n<g id=\"node187\" class=\"node\">\n<title>185</title>\n<ellipse fill=\"none\" stroke=\"#000000\" cx=\"3107.7445\" cy=\"-725.3478\" rx=\"25.1964\" ry=\"25.1964\"/>\n<text text-anchor=\"middle\" x=\"3107.7445\" y=\"-721.6478\" font-family=\"Times,serif\" font-size=\"14.00\" fill=\"#000000\">185</text>\n</g>\n<!-- 184&#45;&gt;185 -->\n<g id=\"edge208\" class=\"edge\">\n<title>184&#45;&gt;185</title>\n<path fill=\"none\" stroke=\"#000000\" d=\"M2991.709,-725.3478C3014.179,-725.3478 3047.057,-725.3478 3072.0836,-725.3478\"/>\n<polygon fill=\"#000000\" stroke=\"#000000\" points=\"3072.2755,-728.8478 3082.2754,-725.3478 3072.2754,-721.8478 3072.2755,-728.8478\"/>\n<text text-anchor=\"middle\" x=\"3036.8968\" y=\"-729.1478\" font-family=\"Times,serif\" font-size=\"14.00\" fill=\"#000000\">&lt;SPACE&gt;</text>\n</g>\n<!-- 186 -->\n<g id=\"node188\" class=\"node\">\n<title>186</title>\n<ellipse fill=\"none\" stroke=\"#000000\" cx=\"3239.1355\" cy=\"-725.3478\" rx=\"25.1964\" ry=\"25.1964\"/>\n<text text-anchor=\"middle\" x=\"3239.1355\" y=\"-721.6478\" font-family=\"Times,serif\" font-size=\"14.00\" fill=\"#000000\">186</text>\n</g>\n<!-- 185&#45;&gt;186 -->\n<g id=\"edge209\" class=\"edge\">\n<title>185&#45;&gt;186</title>\n<path fill=\"none\" stroke=\"#000000\" d=\"M3133.3899,-725.3478C3153.3761,-725.3478 3181.3593,-725.3478 3203.5193,-725.3478\"/>\n<polygon fill=\"#000000\" stroke=\"#000000\" points=\"3203.5548,-728.8479 3213.5548,-725.3478 3203.5548,-721.8479 3203.5548,-728.8479\"/>\n<text text-anchor=\"middle\" x=\"3173.44\" y=\"-729.1478\" font-family=\"Times,serif\" font-size=\"14.00\" fill=\"#000000\">c</text>\n</g>\n<!-- 187 -->\n<g id=\"node189\" class=\"node\">\n<title>187</title>\n<ellipse fill=\"none\" stroke=\"#000000\" cx=\"3374.1788\" cy=\"-725.3478\" rx=\"25.1964\" ry=\"25.1964\"/>\n<text text-anchor=\"middle\" x=\"3374.1788\" y=\"-721.6478\" font-family=\"Times,serif\" font-size=\"14.00\" fill=\"#000000\">187</text>\n</g>\n<!-- 186&#45;&gt;187 -->\n<g id=\"edge210\" class=\"edge\">\n<title>186&#45;&gt;187</title>\n<path fill=\"none\" stroke=\"#000000\" d=\"M3264.5361,-725.3478C3285.3406,-725.3478 3315.0279,-725.3478 3338.2652,-725.3478\"/>\n<polygon fill=\"#000000\" stroke=\"#000000\" points=\"3338.433,-728.8478 3348.4329,-725.3478 3338.4329,-721.8478 3338.433,-728.8478\"/>\n<text text-anchor=\"middle\" x=\"3304.831\" y=\"-729.1478\" font-family=\"Times,serif\" font-size=\"14.00\" fill=\"#000000\">e</text>\n</g>\n<!-- 188 -->\n<g id=\"node190\" class=\"node\">\n<title>188</title>\n<ellipse fill=\"none\" stroke=\"#000000\" cx=\"3520.1788\" cy=\"-725.3478\" rx=\"25.1964\" ry=\"25.1964\"/>\n<text text-anchor=\"middle\" x=\"3520.1788\" y=\"-721.6478\" font-family=\"Times,serif\" font-size=\"14.00\" fill=\"#000000\">188</text>\n</g>\n<!-- 187&#45;&gt;188 -->\n<g id=\"edge211\" class=\"edge\">\n<title>187&#45;&gt;188</title>\n<path fill=\"none\" stroke=\"#000000\" d=\"M3399.61,-725.3478C3423.0188,-725.3478 3457.9862,-725.3478 3484.2446,-725.3478\"/>\n<polygon fill=\"#000000\" stroke=\"#000000\" points=\"3484.5491,-728.8478 3494.5491,-725.3478 3484.549,-721.8478 3484.5491,-728.8478\"/>\n<text text-anchor=\"middle\" x=\"3447.1788\" y=\"-729.1478\" font-family=\"Times,serif\" font-size=\"14.00\" fill=\"#000000\">n</text>\n</g>\n<!-- 189 -->\n<g id=\"node191\" class=\"node\">\n<title>189</title>\n<ellipse fill=\"none\" stroke=\"#000000\" cx=\"3666.5265\" cy=\"-725.3478\" rx=\"25.2169\" ry=\"25.2169\"/>\n<ellipse fill=\"none\" stroke=\"#000000\" cx=\"3666.5265\" cy=\"-725.3478\" rx=\"29.1963\" ry=\"29.1963\"/>\n<text text-anchor=\"middle\" x=\"3666.5265\" y=\"-721.6478\" font-family=\"Times,serif\" font-size=\"14.00\" fill=\"#000000\">189</text>\n</g>\n<!-- 188&#45;&gt;189 -->\n<g id=\"edge212\" class=\"edge\">\n<title>188&#45;&gt;189</title>\n<path fill=\"none\" stroke=\"#000000\" d=\"M3545.6706,-725.3478C3568.0554,-725.3478 3600.9848,-725.3478 3626.82,-725.3478\"/>\n<polygon fill=\"#000000\" stroke=\"#000000\" points=\"3627.0485,-728.8478 3637.0484,-725.3478 3627.0484,-721.8478 3627.0485,-728.8478\"/>\n<text text-anchor=\"middle\" x=\"3593.1788\" y=\"-729.1478\" font-family=\"Times,serif\" font-size=\"14.00\" fill=\"#000000\">t</text>\n</g>\n<!-- 192 -->\n<g id=\"node200\" class=\"node\">\n<title>192</title>\n<ellipse fill=\"none\" stroke=\"#000000\" cx=\"2966.049\" cy=\"-656.3478\" rx=\"25.1964\" ry=\"25.1964\"/>\n<text text-anchor=\"middle\" x=\"2966.049\" y=\"-652.6478\" font-family=\"Times,serif\" font-size=\"14.00\" fill=\"#000000\">192</text>\n</g>\n<!-- 191&#45;&gt;192 -->\n<g id=\"edge221\" class=\"edge\">\n<title>191&#45;&gt;192</title>\n<path fill=\"none\" stroke=\"#000000\" d=\"M2859.9915,-651.5046C2879.9482,-652.4159 2908.018,-653.6977 2930.2673,-654.7138\"/>\n<polygon fill=\"#000000\" stroke=\"#000000\" points=\"2930.1957,-658.2141 2940.345,-655.174 2930.5151,-651.2213 2930.1957,-658.2141\"/>\n<text text-anchor=\"middle\" x=\"2900.3535\" y=\"-658.1478\" font-family=\"Times,serif\" font-size=\"14.00\" fill=\"#000000\">w</text>\n</g>\n<!-- 195 -->\n<g id=\"node203\" class=\"node\">\n<title>195</title>\n<ellipse fill=\"none\" stroke=\"#000000\" cx=\"2966.049\" cy=\"-587.3478\" rx=\"25.1964\" ry=\"25.1964\"/>\n<text text-anchor=\"middle\" x=\"2966.049\" y=\"-583.6478\" font-family=\"Times,serif\" font-size=\"14.00\" fill=\"#000000\">195</text>\n</g>\n<!-- 194&#45;&gt;195 -->\n<g id=\"edge224\" class=\"edge\">\n<title>194&#45;&gt;195</title>\n<path fill=\"none\" stroke=\"#000000\" d=\"M2859.9915,-581.6974C2879.9482,-582.7606 2908.018,-584.2561 2930.2673,-585.4414\"/>\n<polygon fill=\"#000000\" stroke=\"#000000\" points=\"2930.1729,-588.9413 2940.345,-585.9783 2930.5454,-581.9512 2930.1729,-588.9413\"/>\n<text text-anchor=\"middle\" x=\"2900.3535\" y=\"-588.1478\" font-family=\"Times,serif\" font-size=\"14.00\" fill=\"#000000\">t</text>\n</g>\n<!-- 201 -->\n<g id=\"node208\" class=\"node\">\n<title>201</title>\n<ellipse fill=\"none\" stroke=\"#000000\" cx=\"3036.8968\" cy=\"-535.3478\" rx=\"25.1964\" ry=\"25.1964\"/>\n<text text-anchor=\"middle\" x=\"3036.8968\" y=\"-531.6478\" font-family=\"Times,serif\" font-size=\"14.00\" fill=\"#000000\">201</text>\n</g>\n<!-- 200&#45;&gt;201 -->\n<g id=\"edge230\" class=\"edge\">\n<title>200&#45;&gt;201</title>\n<path fill=\"none\" stroke=\"#000000\" d=\"M2925.7163,-534.5335C2946.9457,-534.689 2977.4841,-534.9126 3001.1858,-535.0862\"/>\n<polygon fill=\"#000000\" stroke=\"#000000\" points=\"3001.1811,-538.5862 3011.2065,-535.1596 3001.2324,-531.5864 3001.1811,-538.5862\"/>\n<text text-anchor=\"middle\" x=\"2966.049\" y=\"-538.1478\" font-family=\"Times,serif\" font-size=\"14.00\" fill=\"#000000\">f</text>\n</g>\n<!-- 206 -->\n<g id=\"node212\" class=\"node\">\n<title>206</title>\n<ellipse fill=\"none\" stroke=\"#000000\" cx=\"3036.8968\" cy=\"-479.3478\" rx=\"25.1964\" ry=\"25.1964\"/>\n<text text-anchor=\"middle\" x=\"3036.8968\" y=\"-475.6478\" font-family=\"Times,serif\" font-size=\"14.00\" fill=\"#000000\">206</text>\n</g>\n<!-- 205&#45;&gt;206 -->\n<g id=\"edge235\" class=\"edge\">\n<title>205&#45;&gt;206</title>\n<path fill=\"none\" stroke=\"#000000\" d=\"M2925.7163,-478.5335C2946.9457,-478.689 2977.4841,-478.9126 3001.1858,-479.0862\"/>\n<polygon fill=\"#000000\" stroke=\"#000000\" points=\"3001.1811,-482.5862 3011.2065,-479.1596 3001.2324,-475.5864 3001.1811,-482.5862\"/>\n<text text-anchor=\"middle\" x=\"2966.049\" y=\"-482.1478\" font-family=\"Times,serif\" font-size=\"14.00\" fill=\"#000000\">f</text>\n</g>\n<!-- 211 -->\n<g id=\"node216\" class=\"node\">\n<title>211</title>\n<ellipse fill=\"none\" stroke=\"#000000\" cx=\"3036.8968\" cy=\"-424.3478\" rx=\"24.8972\" ry=\"24.8972\"/>\n<text text-anchor=\"middle\" x=\"3036.8968\" y=\"-420.6478\" font-family=\"Times,serif\" font-size=\"14.00\" fill=\"#000000\">211</text>\n</g>\n<!-- 210&#45;&gt;211 -->\n<g id=\"edge240\" class=\"edge\">\n<title>210&#45;&gt;211</title>\n<path fill=\"none\" stroke=\"#000000\" d=\"M2925.7163,-422.7192C2947.2145,-423.0341 2978.2588,-423.4889 3002.0825,-423.8378\"/>\n<polygon fill=\"#000000\" stroke=\"#000000\" points=\"3002.08,-427.3381 3012.1302,-423.985 3002.1826,-420.3388 3002.08,-427.3381\"/>\n<text text-anchor=\"middle\" x=\"2966.049\" y=\"-427.1478\" font-family=\"Times,serif\" font-size=\"14.00\" fill=\"#000000\">s</text>\n</g>\n<!-- 215 -->\n<g id=\"node219\" class=\"node\">\n<title>215</title>\n<ellipse fill=\"none\" stroke=\"#000000\" cx=\"2966.049\" cy=\"-366.3478\" rx=\"25.1964\" ry=\"25.1964\"/>\n<text text-anchor=\"middle\" x=\"2966.049\" y=\"-362.6478\" font-family=\"Times,serif\" font-size=\"14.00\" fill=\"#000000\">215</text>\n</g>\n<!-- 214&#45;&gt;215 -->\n<g id=\"edge244\" class=\"edge\">\n<title>214&#45;&gt;215</title>\n<path fill=\"none\" stroke=\"#000000\" d=\"M2859.2761,-376.5576C2864.4401,-375.3276 2869.8759,-374.1748 2875.0058,-373.3478 2893.1508,-370.4224 2913.5338,-368.7111 2930.4062,-367.7141\"/>\n<polygon fill=\"#000000\" stroke=\"#000000\" points=\"2930.607,-371.2084 2940.4065,-367.1811 2930.2344,-364.2183 2930.607,-371.2084\"/>\n<text text-anchor=\"middle\" x=\"2900.3535\" y=\"-377.1478\" font-family=\"Times,serif\" font-size=\"14.00\" fill=\"#000000\">s</text>\n</g>\n<!-- 221 -->\n<g id=\"node224\" class=\"node\">\n<title>221</title>\n<ellipse fill=\"none\" stroke=\"#000000\" cx=\"2966.049\" cy=\"-297.3478\" rx=\"25.1964\" ry=\"25.1964\"/>\n<text text-anchor=\"middle\" x=\"2966.049\" y=\"-293.6478\" font-family=\"Times,serif\" font-size=\"14.00\" fill=\"#000000\">221</text>\n</g>\n<!-- 220&#45;&gt;221 -->\n<g id=\"edge250\" class=\"edge\">\n<title>220&#45;&gt;221</title>\n<path fill=\"none\" stroke=\"#000000\" d=\"M2859.9915,-307.034C2880.0769,-305.1996 2908.3805,-302.6146 2930.6972,-300.5764\"/>\n<polygon fill=\"#000000\" stroke=\"#000000\" points=\"2931.1531,-304.0495 2940.7933,-299.6544 2930.5164,-297.0785 2931.1531,-304.0495\"/>\n<text text-anchor=\"middle\" x=\"2900.3535\" y=\"-310.1478\" font-family=\"Times,serif\" font-size=\"14.00\" fill=\"#000000\">e</text>\n</g>\n<!-- 227 -->\n<g id=\"node229\" class=\"node\">\n<title>227</title>\n<ellipse fill=\"none\" stroke=\"#000000\" cx=\"3036.8968\" cy=\"-239.3478\" rx=\"25.1964\" ry=\"25.1964\"/>\n<text text-anchor=\"middle\" x=\"3036.8968\" y=\"-235.6478\" font-family=\"Times,serif\" font-size=\"14.00\" fill=\"#000000\">227</text>\n</g>\n<!-- 226&#45;&gt;227 -->\n<g id=\"edge256\" class=\"edge\">\n<title>226&#45;&gt;227</title>\n<path fill=\"none\" stroke=\"#000000\" d=\"M2925.7163,-243.419C2946.9457,-242.6416 2977.4841,-241.5233 3001.1858,-240.6554\"/>\n<polygon fill=\"#000000\" stroke=\"#000000\" points=\"3001.3413,-244.1522 3011.2065,-240.2885 3001.0851,-237.1569 3001.3413,-244.1522\"/>\n<text text-anchor=\"middle\" x=\"2966.049\" y=\"-247.1478\" font-family=\"Times,serif\" font-size=\"14.00\" fill=\"#000000\">n</text>\n</g>\n<!-- 193 -->\n<g id=\"node201\" class=\"node\">\n<title>193</title>\n<ellipse fill=\"none\" stroke=\"#000000\" cx=\"3173.44\" cy=\"-655.3478\" rx=\"25.1964\" ry=\"25.1964\"/>\n<text text-anchor=\"middle\" x=\"3173.44\" y=\"-651.6478\" font-family=\"Times,serif\" font-size=\"14.00\" fill=\"#000000\">193</text>\n</g>\n<!-- 192&#45;&gt;193 -->\n<g id=\"edge222\" class=\"edge\">\n<title>192&#45;&gt;193</title>\n<path fill=\"none\" stroke=\"#000000\" d=\"M2991.4792,-656.2251C3028.0957,-656.0486 3095.8401,-655.7219 3137.5414,-655.5208\"/>\n<polygon fill=\"#000000\" stroke=\"#000000\" points=\"3137.8188,-659.0196 3147.8018,-655.4714 3137.785,-652.0197 3137.8188,-659.0196\"/>\n<text text-anchor=\"middle\" x=\"3036.8968\" y=\"-659.1478\" font-family=\"Times,serif\" font-size=\"14.00\" fill=\"#000000\">o</text>\n</g>\n<!-- 231 -->\n<g id=\"node202\" class=\"node\">\n<title>231</title>\n<ellipse fill=\"none\" stroke=\"#000000\" cx=\"3666.5265\" cy=\"-452.3478\" rx=\"25.1964\" ry=\"25.1964\"/>\n<text text-anchor=\"middle\" x=\"3666.5265\" y=\"-448.6478\" font-family=\"Times,serif\" font-size=\"14.00\" fill=\"#000000\">231</text>\n</g>\n<!-- 193&#45;&gt;231 -->\n<g id=\"edge223\" class=\"edge\">\n<title>193&#45;&gt;231</title>\n<path fill=\"none\" stroke=\"#000000\" d=\"M3199.1202,-655.3478C3225.6056,-655.3478 3268.1054,-655.3478 3304.831,-655.3478 3304.831,-655.3478 3304.831,-655.3478 3520.1788,-655.3478 3572.7737,-655.3478 3589.5224,-636.5762 3622.1788,-595.3478 3646.9737,-564.0444 3657.9804,-518.8111 3662.8182,-487.6414\"/>\n<polygon fill=\"#000000\" stroke=\"#000000\" points=\"3666.2963,-488.0424 3664.2334,-477.6504 3659.3655,-487.0606 3666.2963,-488.0424\"/>\n<text text-anchor=\"middle\" x=\"3374.1788\" y=\"-659.1478\" font-family=\"Times,serif\" font-size=\"14.00\" fill=\"#000000\">&lt;epsilon&gt;</text>\n</g>\n<!-- 232 -->\n<g id=\"node233\" class=\"node\">\n<title>232</title>\n<ellipse fill=\"none\" stroke=\"#000000\" cx=\"3812.222\" cy=\"-452.3478\" rx=\"25.1964\" ry=\"25.1964\"/>\n<text text-anchor=\"middle\" x=\"3812.222\" y=\"-448.6478\" font-family=\"Times,serif\" font-size=\"14.00\" fill=\"#000000\">232</text>\n</g>\n<!-- 231&#45;&gt;232 -->\n<g id=\"edge261\" class=\"edge\">\n<title>231&#45;&gt;232</title>\n<path fill=\"none\" stroke=\"#000000\" d=\"M3691.9047,-452.3478C3715.2647,-452.3478 3750.1592,-452.3478 3776.3628,-452.3478\"/>\n<polygon fill=\"#000000\" stroke=\"#000000\" points=\"3776.6458,-455.8478 3786.6458,-452.3478 3776.6458,-448.8478 3776.6458,-455.8478\"/>\n<text text-anchor=\"middle\" x=\"3741.3743\" y=\"-456.1478\" font-family=\"Times,serif\" font-size=\"14.00\" fill=\"#000000\">&lt;SPACE&gt;</text>\n</g>\n<!-- 196 -->\n<g id=\"node204\" class=\"node\">\n<title>196</title>\n<ellipse fill=\"none\" stroke=\"#000000\" cx=\"3107.7445\" cy=\"-593.3478\" rx=\"25.1964\" ry=\"25.1964\"/>\n<text text-anchor=\"middle\" x=\"3107.7445\" y=\"-589.6478\" font-family=\"Times,serif\" font-size=\"14.00\" fill=\"#000000\">196</text>\n</g>\n<!-- 195&#45;&gt;196 -->\n<g id=\"edge225\" class=\"edge\">\n<title>195&#45;&gt;196</title>\n<path fill=\"none\" stroke=\"#000000\" d=\"M2991.3813,-588.4204C3013.8094,-589.3701 3046.7909,-590.7667 3071.919,-591.8307\"/>\n<polygon fill=\"#000000\" stroke=\"#000000\" points=\"3072.0146,-595.3378 3082.1538,-592.2641 3072.3108,-588.3441 3072.0146,-595.3378\"/>\n<text text-anchor=\"middle\" x=\"3036.8968\" y=\"-595.1478\" font-family=\"Times,serif\" font-size=\"14.00\" fill=\"#000000\">h</text>\n</g>\n<!-- 197 -->\n<g id=\"node205\" class=\"node\">\n<title>197</title>\n<ellipse fill=\"none\" stroke=\"#000000\" cx=\"3239.1355\" cy=\"-593.3478\" rx=\"25.1964\" ry=\"25.1964\"/>\n<text text-anchor=\"middle\" x=\"3239.1355\" y=\"-589.6478\" font-family=\"Times,serif\" font-size=\"14.00\" fill=\"#000000\">197</text>\n</g>\n<!-- 196&#45;&gt;197 -->\n<g id=\"edge226\" class=\"edge\">\n<title>196&#45;&gt;197</title>\n<path fill=\"none\" stroke=\"#000000\" d=\"M3133.3899,-593.3478C3153.3761,-593.3478 3181.3593,-593.3478 3203.5193,-593.3478\"/>\n<polygon fill=\"#000000\" stroke=\"#000000\" points=\"3203.5548,-596.8479 3213.5548,-593.3478 3203.5548,-589.8479 3203.5548,-596.8479\"/>\n<text text-anchor=\"middle\" x=\"3173.44\" y=\"-597.1478\" font-family=\"Times,serif\" font-size=\"14.00\" fill=\"#000000\">r</text>\n</g>\n<!-- 198 -->\n<g id=\"node206\" class=\"node\">\n<title>198</title>\n<ellipse fill=\"none\" stroke=\"#000000\" cx=\"3374.1788\" cy=\"-590.3478\" rx=\"25.1964\" ry=\"25.1964\"/>\n<text text-anchor=\"middle\" x=\"3374.1788\" y=\"-586.6478\" font-family=\"Times,serif\" font-size=\"14.00\" fill=\"#000000\">198</text>\n</g>\n<!-- 197&#45;&gt;198 -->\n<g id=\"edge227\" class=\"edge\">\n<title>197&#45;&gt;198</title>\n<path fill=\"none\" stroke=\"#000000\" d=\"M3264.5361,-592.7835C3285.3406,-592.3213 3315.0279,-591.6618 3338.2652,-591.1456\"/>\n<polygon fill=\"#000000\" stroke=\"#000000\" points=\"3338.5132,-594.641 3348.4329,-590.9197 3338.3576,-587.6428 3338.5132,-594.641\"/>\n<text text-anchor=\"middle\" x=\"3304.831\" y=\"-596.1478\" font-family=\"Times,serif\" font-size=\"14.00\" fill=\"#000000\">e</text>\n</g>\n<!-- 199 -->\n<g id=\"node207\" class=\"node\">\n<title>199</title>\n<ellipse fill=\"none\" stroke=\"#000000\" cx=\"3520.1788\" cy=\"-590.3478\" rx=\"25.1964\" ry=\"25.1964\"/>\n<text text-anchor=\"middle\" x=\"3520.1788\" y=\"-586.6478\" font-family=\"Times,serif\" font-size=\"14.00\" fill=\"#000000\">199</text>\n</g>\n<!-- 198&#45;&gt;199 -->\n<g id=\"edge228\" class=\"edge\">\n<title>198&#45;&gt;199</title>\n<path fill=\"none\" stroke=\"#000000\" d=\"M3399.61,-590.3478C3423.0188,-590.3478 3457.9862,-590.3478 3484.2446,-590.3478\"/>\n<polygon fill=\"#000000\" stroke=\"#000000\" points=\"3484.5491,-593.8478 3494.5491,-590.3478 3484.549,-586.8478 3484.5491,-593.8478\"/>\n<text text-anchor=\"middle\" x=\"3447.1788\" y=\"-594.1478\" font-family=\"Times,serif\" font-size=\"14.00\" fill=\"#000000\">e</text>\n</g>\n<!-- 199&#45;&gt;231 -->\n<g id=\"edge229\" class=\"edge\">\n<title>199&#45;&gt;231</title>\n<path fill=\"none\" stroke=\"#000000\" d=\"M3545.1948,-584.0433C3567.7423,-577.256 3600.5784,-564.4848 3622.1788,-543.3478 3638.0438,-527.8231 3649.0489,-505.467 3656.1279,-486.799\"/>\n<polygon fill=\"#000000\" stroke=\"#000000\" points=\"3659.5057,-487.7469 3659.5696,-477.1523 3652.9128,-485.3946 3659.5057,-487.7469\"/>\n<text text-anchor=\"middle\" x=\"3593.1788\" y=\"-580.1478\" font-family=\"Times,serif\" font-size=\"14.00\" fill=\"#000000\">&lt;epsilon&gt;</text>\n</g>\n<!-- 202 -->\n<g id=\"node209\" class=\"node\">\n<title>202</title>\n<ellipse fill=\"none\" stroke=\"#000000\" cx=\"3173.44\" cy=\"-535.3478\" rx=\"25.1964\" ry=\"25.1964\"/>\n<text text-anchor=\"middle\" x=\"3173.44\" y=\"-531.6478\" font-family=\"Times,serif\" font-size=\"14.00\" fill=\"#000000\">202</text>\n</g>\n<!-- 201&#45;&gt;202 -->\n<g id=\"edge231\" class=\"edge\">\n<title>201&#45;&gt;202</title>\n<path fill=\"none\" stroke=\"#000000\" d=\"M3062.2595,-535.3478C3083.489,-535.3478 3114.0274,-535.3478 3137.729,-535.3478\"/>\n<polygon fill=\"#000000\" stroke=\"#000000\" points=\"3137.7498,-538.8479 3147.7498,-535.3478 3137.7497,-531.8479 3137.7498,-538.8479\"/>\n<text text-anchor=\"middle\" x=\"3107.7445\" y=\"-539.1478\" font-family=\"Times,serif\" font-size=\"14.00\" fill=\"#000000\">o</text>\n</g>\n<!-- 203 -->\n<g id=\"node210\" class=\"node\">\n<title>203</title>\n<ellipse fill=\"none\" stroke=\"#000000\" cx=\"3304.831\" cy=\"-535.3478\" rx=\"25.1964\" ry=\"25.1964\"/>\n<text text-anchor=\"middle\" x=\"3304.831\" y=\"-531.6478\" font-family=\"Times,serif\" font-size=\"14.00\" fill=\"#000000\">203</text>\n</g>\n<!-- 202&#45;&gt;203 -->\n<g id=\"edge232\" class=\"edge\">\n<title>202&#45;&gt;203</title>\n<path fill=\"none\" stroke=\"#000000\" d=\"M3199.0854,-535.3478C3219.0716,-535.3478 3247.0548,-535.3478 3269.2148,-535.3478\"/>\n<polygon fill=\"#000000\" stroke=\"#000000\" points=\"3269.2503,-538.8479 3279.2503,-535.3478 3269.2503,-531.8479 3269.2503,-538.8479\"/>\n<text text-anchor=\"middle\" x=\"3239.1355\" y=\"-539.1478\" font-family=\"Times,serif\" font-size=\"14.00\" fill=\"#000000\">u</text>\n</g>\n<!-- 204 -->\n<g id=\"node211\" class=\"node\">\n<title>204</title>\n<ellipse fill=\"none\" stroke=\"#000000\" cx=\"3447.1788\" cy=\"-531.3478\" rx=\"25.1964\" ry=\"25.1964\"/>\n<text text-anchor=\"middle\" x=\"3447.1788\" y=\"-527.6478\" font-family=\"Times,serif\" font-size=\"14.00\" fill=\"#000000\">204</text>\n</g>\n<!-- 203&#45;&gt;204 -->\n<g id=\"edge233\" class=\"edge\">\n<title>203&#45;&gt;204</title>\n<path fill=\"none\" stroke=\"#000000\" d=\"M3330.28,-534.6326C3352.8113,-533.9995 3385.9445,-533.0684 3411.1884,-532.3591\"/>\n<polygon fill=\"#000000\" stroke=\"#000000\" points=\"3411.5725,-535.8498 3421.4702,-532.0702 3411.3758,-528.8525 3411.5725,-535.8498\"/>\n<text text-anchor=\"middle\" x=\"3374.1788\" y=\"-537.1478\" font-family=\"Times,serif\" font-size=\"14.00\" fill=\"#000000\">r</text>\n</g>\n<!-- 204&#45;&gt;231 -->\n<g id=\"edge234\" class=\"edge\">\n<title>204&#45;&gt;231</title>\n<path fill=\"none\" stroke=\"#000000\" d=\"M3471.5762,-524.2928C3505.7061,-514.1917 3569.443,-494.481 3622.1788,-473.3478 3626.182,-471.7435 3630.3362,-469.9525 3634.4251,-468.1114\"/>\n<polygon fill=\"#000000\" stroke=\"#000000\" points=\"3636.1464,-471.1712 3643.7456,-463.7887 3633.2012,-464.8209 3636.1464,-471.1712\"/>\n<text text-anchor=\"middle\" x=\"3520.1788\" y=\"-521.1478\" font-family=\"Times,serif\" font-size=\"14.00\" fill=\"#000000\">&lt;epsilon&gt;</text>\n</g>\n<!-- 207 -->\n<g id=\"node213\" class=\"node\">\n<title>207</title>\n<ellipse fill=\"none\" stroke=\"#000000\" cx=\"3173.44\" cy=\"-479.3478\" rx=\"25.1964\" ry=\"25.1964\"/>\n<text text-anchor=\"middle\" x=\"3173.44\" y=\"-475.6478\" font-family=\"Times,serif\" font-size=\"14.00\" fill=\"#000000\">207</text>\n</g>\n<!-- 206&#45;&gt;207 -->\n<g id=\"edge236\" class=\"edge\">\n<title>206&#45;&gt;207</title>\n<path fill=\"none\" stroke=\"#000000\" d=\"M3062.2595,-479.3478C3083.489,-479.3478 3114.0274,-479.3478 3137.729,-479.3478\"/>\n<polygon fill=\"#000000\" stroke=\"#000000\" points=\"3137.7498,-482.8479 3147.7498,-479.3478 3137.7497,-475.8479 3137.7498,-482.8479\"/>\n<text text-anchor=\"middle\" x=\"3107.7445\" y=\"-483.1478\" font-family=\"Times,serif\" font-size=\"14.00\" fill=\"#000000\">i</text>\n</g>\n<!-- 208 -->\n<g id=\"node214\" class=\"node\">\n<title>208</title>\n<ellipse fill=\"none\" stroke=\"#000000\" cx=\"3304.831\" cy=\"-479.3478\" rx=\"25.1964\" ry=\"25.1964\"/>\n<text text-anchor=\"middle\" x=\"3304.831\" y=\"-475.6478\" font-family=\"Times,serif\" font-size=\"14.00\" fill=\"#000000\">208</text>\n</g>\n<!-- 207&#45;&gt;208 -->\n<g id=\"edge237\" class=\"edge\">\n<title>207&#45;&gt;208</title>\n<path fill=\"none\" stroke=\"#000000\" d=\"M3199.0854,-479.3478C3219.0716,-479.3478 3247.0548,-479.3478 3269.2148,-479.3478\"/>\n<polygon fill=\"#000000\" stroke=\"#000000\" points=\"3269.2503,-482.8479 3279.2503,-479.3478 3269.2503,-475.8479 3269.2503,-482.8479\"/>\n<text text-anchor=\"middle\" x=\"3239.1355\" y=\"-483.1478\" font-family=\"Times,serif\" font-size=\"14.00\" fill=\"#000000\">v</text>\n</g>\n<!-- 209 -->\n<g id=\"node215\" class=\"node\">\n<title>209</title>\n<ellipse fill=\"none\" stroke=\"#000000\" cx=\"3447.1788\" cy=\"-475.3478\" rx=\"25.1964\" ry=\"25.1964\"/>\n<text text-anchor=\"middle\" x=\"3447.1788\" y=\"-471.6478\" font-family=\"Times,serif\" font-size=\"14.00\" fill=\"#000000\">209</text>\n</g>\n<!-- 208&#45;&gt;209 -->\n<g id=\"edge238\" class=\"edge\">\n<title>208&#45;&gt;209</title>\n<path fill=\"none\" stroke=\"#000000\" d=\"M3330.28,-478.6326C3352.8113,-477.9995 3385.9445,-477.0684 3411.1884,-476.3591\"/>\n<polygon fill=\"#000000\" stroke=\"#000000\" points=\"3411.5725,-479.8498 3421.4702,-476.0702 3411.3758,-472.8525 3411.5725,-479.8498\"/>\n<text text-anchor=\"middle\" x=\"3374.1788\" y=\"-481.1478\" font-family=\"Times,serif\" font-size=\"14.00\" fill=\"#000000\">e</text>\n</g>\n<!-- 209&#45;&gt;231 -->\n<g id=\"edge239\" class=\"edge\">\n<title>209&#45;&gt;231</title>\n<path fill=\"none\" stroke=\"#000000\" d=\"M3472.77,-472.6643C3511.8991,-468.5614 3586.7145,-460.7165 3631.0556,-456.0671\"/>\n<polygon fill=\"#000000\" stroke=\"#000000\" points=\"3631.5178,-459.5379 3641.0983,-455.0141 3630.7878,-452.5761 3631.5178,-459.5379\"/>\n<text text-anchor=\"middle\" x=\"3520.1788\" y=\"-474.1478\" font-family=\"Times,serif\" font-size=\"14.00\" fill=\"#000000\">&lt;epsilon&gt;</text>\n</g>\n<!-- 212 -->\n<g id=\"node217\" class=\"node\">\n<title>212</title>\n<ellipse fill=\"none\" stroke=\"#000000\" cx=\"3173.44\" cy=\"-423.3478\" rx=\"25.1964\" ry=\"25.1964\"/>\n<text text-anchor=\"middle\" x=\"3173.44\" y=\"-419.6478\" font-family=\"Times,serif\" font-size=\"14.00\" fill=\"#000000\">212</text>\n</g>\n<!-- 211&#45;&gt;212 -->\n<g id=\"edge241\" class=\"edge\">\n<title>211&#45;&gt;212</title>\n<path fill=\"none\" stroke=\"#000000\" d=\"M3061.6237,-424.1667C3082.9122,-424.0107 3113.8955,-423.7838 3137.8517,-423.6084\"/>\n<polygon fill=\"#000000\" stroke=\"#000000\" points=\"3137.9971,-427.1075 3147.9712,-423.5343 3137.9458,-420.1077 3137.9971,-427.1075\"/>\n<text text-anchor=\"middle\" x=\"3107.7445\" y=\"-427.1478\" font-family=\"Times,serif\" font-size=\"14.00\" fill=\"#000000\">i</text>\n</g>\n<!-- 213 -->\n<g id=\"node218\" class=\"node\">\n<title>213</title>\n<ellipse fill=\"none\" stroke=\"#000000\" cx=\"3304.831\" cy=\"-423.3478\" rx=\"25.1964\" ry=\"25.1964\"/>\n<text text-anchor=\"middle\" x=\"3304.831\" y=\"-419.6478\" font-family=\"Times,serif\" font-size=\"14.00\" fill=\"#000000\">213</text>\n</g>\n<!-- 212&#45;&gt;213 -->\n<g id=\"edge242\" class=\"edge\">\n<title>212&#45;&gt;213</title>\n<path fill=\"none\" stroke=\"#000000\" d=\"M3199.0854,-423.3478C3219.0716,-423.3478 3247.0548,-423.3478 3269.2148,-423.3478\"/>\n<polygon fill=\"#000000\" stroke=\"#000000\" points=\"3269.2503,-426.8479 3279.2503,-423.3478 3269.2503,-419.8479 3269.2503,-426.8479\"/>\n<text text-anchor=\"middle\" x=\"3239.1355\" y=\"-427.1478\" font-family=\"Times,serif\" font-size=\"14.00\" fill=\"#000000\">x</text>\n</g>\n<!-- 213&#45;&gt;231 -->\n<g id=\"edge243\" class=\"edge\">\n<title>213&#45;&gt;231</title>\n<path fill=\"none\" stroke=\"#000000\" d=\"M3330.4217,-422.8541C3363.953,-422.4229 3424.5615,-422.3846 3476.1788,-426.3478 3530.5904,-430.5255 3593.2044,-439.9836 3631.3096,-446.2659\"/>\n<polygon fill=\"#000000\" stroke=\"#000000\" points=\"3630.9403,-449.7526 3641.3801,-447.9466 3632.0927,-442.8481 3630.9403,-449.7526\"/>\n<text text-anchor=\"middle\" x=\"3447.1788\" y=\"-430.1478\" font-family=\"Times,serif\" font-size=\"14.00\" fill=\"#000000\">&lt;epsilon&gt;</text>\n</g>\n<!-- 216 -->\n<g id=\"node220\" class=\"node\">\n<title>216</title>\n<ellipse fill=\"none\" stroke=\"#000000\" cx=\"3107.7445\" cy=\"-366.3478\" rx=\"25.1964\" ry=\"25.1964\"/>\n<text text-anchor=\"middle\" x=\"3107.7445\" y=\"-362.6478\" font-family=\"Times,serif\" font-size=\"14.00\" fill=\"#000000\">216</text>\n</g>\n<!-- 215&#45;&gt;216 -->\n<g id=\"edge245\" class=\"edge\">\n<title>215&#45;&gt;216</title>\n<path fill=\"none\" stroke=\"#000000\" d=\"M2991.709,-366.3478C3014.179,-366.3478 3047.057,-366.3478 3072.0836,-366.3478\"/>\n<polygon fill=\"#000000\" stroke=\"#000000\" points=\"3072.2755,-369.8478 3082.2754,-366.3478 3072.2754,-362.8478 3072.2755,-369.8478\"/>\n<text text-anchor=\"middle\" x=\"3036.8968\" y=\"-370.1478\" font-family=\"Times,serif\" font-size=\"14.00\" fill=\"#000000\">e</text>\n</g>\n<!-- 217 -->\n<g id=\"node221\" class=\"node\">\n<title>217</title>\n<ellipse fill=\"none\" stroke=\"#000000\" cx=\"3239.1355\" cy=\"-366.3478\" rx=\"25.1964\" ry=\"25.1964\"/>\n<text text-anchor=\"middle\" x=\"3239.1355\" y=\"-362.6478\" font-family=\"Times,serif\" font-size=\"14.00\" fill=\"#000000\">217</text>\n</g>\n<!-- 216&#45;&gt;217 -->\n<g id=\"edge246\" class=\"edge\">\n<title>216&#45;&gt;217</title>\n<path fill=\"none\" stroke=\"#000000\" d=\"M3133.3899,-366.3478C3153.3761,-366.3478 3181.3593,-366.3478 3203.5193,-366.3478\"/>\n<polygon fill=\"#000000\" stroke=\"#000000\" points=\"3203.5548,-369.8479 3213.5548,-366.3478 3203.5548,-362.8479 3203.5548,-369.8479\"/>\n<text text-anchor=\"middle\" x=\"3173.44\" y=\"-370.1478\" font-family=\"Times,serif\" font-size=\"14.00\" fill=\"#000000\">v</text>\n</g>\n<!-- 218 -->\n<g id=\"node222\" class=\"node\">\n<title>218</title>\n<ellipse fill=\"none\" stroke=\"#000000\" cx=\"3374.1788\" cy=\"-376.3478\" rx=\"25.1964\" ry=\"25.1964\"/>\n<text text-anchor=\"middle\" x=\"3374.1788\" y=\"-372.6478\" font-family=\"Times,serif\" font-size=\"14.00\" fill=\"#000000\">218</text>\n</g>\n<!-- 217&#45;&gt;218 -->\n<g id=\"edge247\" class=\"edge\">\n<title>217&#45;&gt;218</title>\n<path fill=\"none\" stroke=\"#000000\" d=\"M3264.5361,-368.2287C3285.4732,-369.7791 3315.4064,-371.9956 3338.7085,-373.7212\"/>\n<polygon fill=\"#000000\" stroke=\"#000000\" points=\"3338.6609,-377.2271 3348.8921,-374.4753 3339.1779,-370.2462 3338.6609,-377.2271\"/>\n<text text-anchor=\"middle\" x=\"3304.831\" y=\"-376.1478\" font-family=\"Times,serif\" font-size=\"14.00\" fill=\"#000000\">e</text>\n</g>\n<!-- 219 -->\n<g id=\"node223\" class=\"node\">\n<title>219</title>\n<ellipse fill=\"none\" stroke=\"#000000\" cx=\"3520.1788\" cy=\"-376.3478\" rx=\"25.1964\" ry=\"25.1964\"/>\n<text text-anchor=\"middle\" x=\"3520.1788\" y=\"-372.6478\" font-family=\"Times,serif\" font-size=\"14.00\" fill=\"#000000\">219</text>\n</g>\n<!-- 218&#45;&gt;219 -->\n<g id=\"edge248\" class=\"edge\">\n<title>218&#45;&gt;219</title>\n<path fill=\"none\" stroke=\"#000000\" d=\"M3399.61,-376.3478C3423.0188,-376.3478 3457.9862,-376.3478 3484.2446,-376.3478\"/>\n<polygon fill=\"#000000\" stroke=\"#000000\" points=\"3484.5491,-379.8478 3494.5491,-376.3478 3484.549,-372.8478 3484.5491,-379.8478\"/>\n<text text-anchor=\"middle\" x=\"3447.1788\" y=\"-380.1478\" font-family=\"Times,serif\" font-size=\"14.00\" fill=\"#000000\">n</text>\n</g>\n<!-- 219&#45;&gt;231 -->\n<g id=\"edge249\" class=\"edge\">\n<title>219&#45;&gt;231</title>\n<path fill=\"none\" stroke=\"#000000\" d=\"M3545.7462,-377.927C3567.4557,-380.2605 3598.7296,-386.0395 3622.1788,-400.3478 3631.5428,-406.0615 3639.9274,-414.4304 3646.8186,-422.7915\"/>\n<polygon fill=\"#000000\" stroke=\"#000000\" points=\"3644.064,-424.9508 3652.9514,-430.7184 3649.6005,-420.6674 3644.064,-424.9508\"/>\n<text text-anchor=\"middle\" x=\"3593.1788\" y=\"-404.1478\" font-family=\"Times,serif\" font-size=\"14.00\" fill=\"#000000\">&lt;epsilon&gt;</text>\n</g>\n<!-- 222 -->\n<g id=\"node225\" class=\"node\">\n<title>222</title>\n<ellipse fill=\"none\" stroke=\"#000000\" cx=\"3107.7445\" cy=\"-297.3478\" rx=\"25.1964\" ry=\"25.1964\"/>\n<text text-anchor=\"middle\" x=\"3107.7445\" y=\"-293.6478\" font-family=\"Times,serif\" font-size=\"14.00\" fill=\"#000000\">222</text>\n</g>\n<!-- 221&#45;&gt;222 -->\n<g id=\"edge251\" class=\"edge\">\n<title>221&#45;&gt;222</title>\n<path fill=\"none\" stroke=\"#000000\" d=\"M2991.709,-297.3478C3014.179,-297.3478 3047.057,-297.3478 3072.0836,-297.3478\"/>\n<polygon fill=\"#000000\" stroke=\"#000000\" points=\"3072.2755,-300.8478 3082.2754,-297.3478 3072.2754,-293.8478 3072.2755,-300.8478\"/>\n<text text-anchor=\"middle\" x=\"3036.8968\" y=\"-301.1478\" font-family=\"Times,serif\" font-size=\"14.00\" fill=\"#000000\">i</text>\n</g>\n<!-- 223 -->\n<g id=\"node226\" class=\"node\">\n<title>223</title>\n<ellipse fill=\"none\" stroke=\"#000000\" cx=\"3239.1355\" cy=\"-297.3478\" rx=\"25.1964\" ry=\"25.1964\"/>\n<text text-anchor=\"middle\" x=\"3239.1355\" y=\"-293.6478\" font-family=\"Times,serif\" font-size=\"14.00\" fill=\"#000000\">223</text>\n</g>\n<!-- 222&#45;&gt;223 -->\n<g id=\"edge252\" class=\"edge\">\n<title>222&#45;&gt;223</title>\n<path fill=\"none\" stroke=\"#000000\" d=\"M3133.3899,-297.3478C3153.3761,-297.3478 3181.3593,-297.3478 3203.5193,-297.3478\"/>\n<polygon fill=\"#000000\" stroke=\"#000000\" points=\"3203.5548,-300.8479 3213.5548,-297.3478 3203.5548,-293.8479 3203.5548,-300.8479\"/>\n<text text-anchor=\"middle\" x=\"3173.44\" y=\"-301.1478\" font-family=\"Times,serif\" font-size=\"14.00\" fill=\"#000000\">g</text>\n</g>\n<!-- 224 -->\n<g id=\"node227\" class=\"node\">\n<title>224</title>\n<ellipse fill=\"none\" stroke=\"#000000\" cx=\"3374.1788\" cy=\"-307.3478\" rx=\"25.1964\" ry=\"25.1964\"/>\n<text text-anchor=\"middle\" x=\"3374.1788\" y=\"-303.6478\" font-family=\"Times,serif\" font-size=\"14.00\" fill=\"#000000\">224</text>\n</g>\n<!-- 223&#45;&gt;224 -->\n<g id=\"edge253\" class=\"edge\">\n<title>223&#45;&gt;224</title>\n<path fill=\"none\" stroke=\"#000000\" d=\"M3264.5361,-299.2287C3285.4732,-300.7791 3315.4064,-302.9956 3338.7085,-304.7212\"/>\n<polygon fill=\"#000000\" stroke=\"#000000\" points=\"3338.6609,-308.2271 3348.8921,-305.4753 3339.1779,-301.2462 3338.6609,-308.2271\"/>\n<text text-anchor=\"middle\" x=\"3304.831\" y=\"-308.1478\" font-family=\"Times,serif\" font-size=\"14.00\" fill=\"#000000\">h</text>\n</g>\n<!-- 225 -->\n<g id=\"node228\" class=\"node\">\n<title>225</title>\n<ellipse fill=\"none\" stroke=\"#000000\" cx=\"3520.1788\" cy=\"-307.3478\" rx=\"25.1964\" ry=\"25.1964\"/>\n<text text-anchor=\"middle\" x=\"3520.1788\" y=\"-303.6478\" font-family=\"Times,serif\" font-size=\"14.00\" fill=\"#000000\">225</text>\n</g>\n<!-- 224&#45;&gt;225 -->\n<g id=\"edge254\" class=\"edge\">\n<title>224&#45;&gt;225</title>\n<path fill=\"none\" stroke=\"#000000\" d=\"M3399.61,-307.3478C3423.0188,-307.3478 3457.9862,-307.3478 3484.2446,-307.3478\"/>\n<polygon fill=\"#000000\" stroke=\"#000000\" points=\"3484.5491,-310.8478 3494.5491,-307.3478 3484.549,-303.8478 3484.5491,-310.8478\"/>\n<text text-anchor=\"middle\" x=\"3447.1788\" y=\"-311.1478\" font-family=\"Times,serif\" font-size=\"14.00\" fill=\"#000000\">t</text>\n</g>\n<!-- 225&#45;&gt;231 -->\n<g id=\"edge255\" class=\"edge\">\n<title>225&#45;&gt;231</title>\n<path fill=\"none\" stroke=\"#000000\" d=\"M3544.3316,-315.1836C3566.9007,-323.548 3600.3096,-338.735 3622.1788,-361.3478 3637.61,-377.3037 3648.6094,-399.6655 3655.7939,-418.2286\"/>\n<polygon fill=\"#000000\" stroke=\"#000000\" points=\"3652.577,-419.6226 3659.3014,-427.8099 3659.1503,-417.2161 3652.577,-419.6226\"/>\n<text text-anchor=\"middle\" x=\"3593.1788\" y=\"-365.1478\" font-family=\"Times,serif\" font-size=\"14.00\" fill=\"#000000\">&lt;epsilon&gt;</text>\n</g>\n<!-- 228 -->\n<g id=\"node230\" class=\"node\">\n<title>228</title>\n<ellipse fill=\"none\" stroke=\"#000000\" cx=\"3173.44\" cy=\"-239.3478\" rx=\"25.1964\" ry=\"25.1964\"/>\n<text text-anchor=\"middle\" x=\"3173.44\" y=\"-235.6478\" font-family=\"Times,serif\" font-size=\"14.00\" fill=\"#000000\">228</text>\n</g>\n<!-- 227&#45;&gt;228 -->\n<g id=\"edge257\" class=\"edge\">\n<title>227&#45;&gt;228</title>\n<path fill=\"none\" stroke=\"#000000\" d=\"M3062.2595,-239.3478C3083.489,-239.3478 3114.0274,-239.3478 3137.729,-239.3478\"/>\n<polygon fill=\"#000000\" stroke=\"#000000\" points=\"3137.7498,-242.8479 3147.7498,-239.3478 3137.7497,-235.8479 3137.7498,-242.8479\"/>\n<text text-anchor=\"middle\" x=\"3107.7445\" y=\"-243.1478\" font-family=\"Times,serif\" font-size=\"14.00\" fill=\"#000000\">i</text>\n</g>\n<!-- 229 -->\n<g id=\"node231\" class=\"node\">\n<title>229</title>\n<ellipse fill=\"none\" stroke=\"#000000\" cx=\"3304.831\" cy=\"-246.3478\" rx=\"25.1964\" ry=\"25.1964\"/>\n<text text-anchor=\"middle\" x=\"3304.831\" y=\"-242.6478\" font-family=\"Times,serif\" font-size=\"14.00\" fill=\"#000000\">229</text>\n</g>\n<!-- 228&#45;&gt;229 -->\n<g id=\"edge258\" class=\"edge\">\n<title>228&#45;&gt;229</title>\n<path fill=\"none\" stroke=\"#000000\" d=\"M3198.7735,-240.6974C3218.7302,-241.7606 3246.8,-243.2561 3269.0493,-244.4414\"/>\n<polygon fill=\"#000000\" stroke=\"#000000\" points=\"3268.9549,-247.9413 3279.127,-244.9783 3269.3274,-240.9512 3268.9549,-247.9413\"/>\n<text text-anchor=\"middle\" x=\"3239.1355\" y=\"-248.1478\" font-family=\"Times,serif\" font-size=\"14.00\" fill=\"#000000\">n</text>\n</g>\n<!-- 230 -->\n<g id=\"node232\" class=\"node\">\n<title>230</title>\n<ellipse fill=\"none\" stroke=\"#000000\" cx=\"3447.1788\" cy=\"-248.3478\" rx=\"25.1964\" ry=\"25.1964\"/>\n<text text-anchor=\"middle\" x=\"3447.1788\" y=\"-244.6478\" font-family=\"Times,serif\" font-size=\"14.00\" fill=\"#000000\">230</text>\n</g>\n<!-- 229&#45;&gt;230 -->\n<g id=\"edge259\" class=\"edge\">\n<title>229&#45;&gt;230</title>\n<path fill=\"none\" stroke=\"#000000\" d=\"M3330.28,-246.7053C3352.8113,-247.0219 3385.9445,-247.4874 3411.1884,-247.8421\"/>\n<polygon fill=\"#000000\" stroke=\"#000000\" points=\"3411.422,-251.3456 3421.4702,-247.9865 3411.5204,-244.3463 3411.422,-251.3456\"/>\n<text text-anchor=\"middle\" x=\"3374.1788\" y=\"-252.1478\" font-family=\"Times,serif\" font-size=\"14.00\" fill=\"#000000\">e</text>\n</g>\n<!-- 230&#45;&gt;231 -->\n<g id=\"edge260\" class=\"edge\">\n<title>230&#45;&gt;231</title>\n<path fill=\"none\" stroke=\"#000000\" d=\"M3472.5206,-246.714C3493.8099,-246.2888 3524.6053,-247.9318 3549.1788,-258.3478 3588.3705,-274.9599 3598.3051,-285.1057 3622.1788,-320.3478 3642.1366,-349.8093 3653.8052,-389.0309 3660.1188,-417.0487\"/>\n<polygon fill=\"#000000\" stroke=\"#000000\" points=\"3656.7736,-418.1444 3662.2824,-427.1945 3663.6197,-416.6844 3656.7736,-418.1444\"/>\n<text text-anchor=\"middle\" x=\"3520.1788\" y=\"-262.1478\" font-family=\"Times,serif\" font-size=\"14.00\" fill=\"#000000\">&lt;epsilon&gt;</text>\n</g>\n<!-- 233 -->\n<g id=\"node234\" class=\"node\">\n<title>233</title>\n<ellipse fill=\"none\" stroke=\"#000000\" cx=\"3899.9175\" cy=\"-452.3478\" rx=\"25.1964\" ry=\"25.1964\"/>\n<text text-anchor=\"middle\" x=\"3899.9175\" y=\"-448.6478\" font-family=\"Times,serif\" font-size=\"14.00\" fill=\"#000000\">233</text>\n</g>\n<!-- 232&#45;&gt;233 -->\n<g id=\"edge262\" class=\"edge\">\n<title>232&#45;&gt;233</title>\n<path fill=\"none\" stroke=\"#000000\" d=\"M3837.5872,-452.3478C3845.8769,-452.3478 3855.2454,-452.3478 3864.1529,-452.3478\"/>\n<polygon fill=\"#000000\" stroke=\"#000000\" points=\"3864.3056,-455.8478 3874.3056,-452.3478 3864.3055,-448.8478 3864.3056,-455.8478\"/>\n<text text-anchor=\"middle\" x=\"3856.0698\" y=\"-456.1478\" font-family=\"Times,serif\" font-size=\"14.00\" fill=\"#000000\">c</text>\n</g>\n<!-- 234 -->\n<g id=\"node235\" class=\"node\">\n<title>234</title>\n<ellipse fill=\"none\" stroke=\"#000000\" cx=\"3987.613\" cy=\"-452.3478\" rx=\"25.1964\" ry=\"25.1964\"/>\n<text text-anchor=\"middle\" x=\"3987.613\" y=\"-448.6478\" font-family=\"Times,serif\" font-size=\"14.00\" fill=\"#000000\">234</text>\n</g>\n<!-- 233&#45;&gt;234 -->\n<g id=\"edge263\" class=\"edge\">\n<title>233&#45;&gt;234</title>\n<path fill=\"none\" stroke=\"#000000\" d=\"M3925.2827,-452.3478C3933.5724,-452.3478 3942.9409,-452.3478 3951.8484,-452.3478\"/>\n<polygon fill=\"#000000\" stroke=\"#000000\" points=\"3952.0011,-455.8478 3962.0011,-452.3478 3952.001,-448.8478 3952.0011,-455.8478\"/>\n<text text-anchor=\"middle\" x=\"3943.7653\" y=\"-456.1478\" font-family=\"Times,serif\" font-size=\"14.00\" fill=\"#000000\">e</text>\n</g>\n<!-- 235 -->\n<g id=\"node236\" class=\"node\">\n<title>235</title>\n<ellipse fill=\"none\" stroke=\"#000000\" cx=\"4076.3085\" cy=\"-452.3478\" rx=\"25.1964\" ry=\"25.1964\"/>\n<text text-anchor=\"middle\" x=\"4076.3085\" y=\"-448.6478\" font-family=\"Times,serif\" font-size=\"14.00\" fill=\"#000000\">235</text>\n</g>\n<!-- 234&#45;&gt;235 -->\n<g id=\"edge264\" class=\"edge\">\n<title>234&#45;&gt;235</title>\n<path fill=\"none\" stroke=\"#000000\" d=\"M4013.2674,-452.3478C4021.8172,-452.3478 4031.5015,-452.3478 4040.669,-452.3478\"/>\n<polygon fill=\"#000000\" stroke=\"#000000\" points=\"4040.7118,-455.8479 4050.7118,-452.3478 4040.7117,-448.8479 4040.7118,-455.8479\"/>\n<text text-anchor=\"middle\" x=\"4031.9608\" y=\"-456.1478\" font-family=\"Times,serif\" font-size=\"14.00\" fill=\"#000000\">n</text>\n</g>\n<!-- 236 -->\n<g id=\"node237\" class=\"node\">\n<title>236</title>\n<ellipse fill=\"none\" stroke=\"#000000\" cx=\"4161.004\" cy=\"-452.3478\" rx=\"25.1964\" ry=\"25.1964\"/>\n<text text-anchor=\"middle\" x=\"4161.004\" y=\"-448.6478\" font-family=\"Times,serif\" font-size=\"14.00\" fill=\"#000000\">236</text>\n</g>\n<!-- 235&#45;&gt;236 -->\n<g id=\"edge265\" class=\"edge\">\n<title>235&#45;&gt;236</title>\n<path fill=\"none\" stroke=\"#000000\" d=\"M4101.72,-452.3478C4109.1735,-452.3478 4117.4651,-452.3478 4125.4287,-452.3478\"/>\n<polygon fill=\"#000000\" stroke=\"#000000\" points=\"4125.6106,-455.8478 4135.6105,-452.3478 4125.6105,-448.8478 4125.6106,-455.8478\"/>\n<text text-anchor=\"middle\" x=\"4118.6563\" y=\"-456.1478\" font-family=\"Times,serif\" font-size=\"14.00\" fill=\"#000000\">t</text>\n</g>\n<!-- 237 -->\n<g id=\"node238\" class=\"node\">\n<title>237</title>\n<ellipse fill=\"none\" stroke=\"#000000\" cx=\"4251.6995\" cy=\"-452.3478\" rx=\"25.2169\" ry=\"25.2169\"/>\n<ellipse fill=\"none\" stroke=\"#000000\" cx=\"4251.6995\" cy=\"-452.3478\" rx=\"29.1963\" ry=\"29.1963\"/>\n<text text-anchor=\"middle\" x=\"4251.6995\" y=\"-448.6478\" font-family=\"Times,serif\" font-size=\"14.00\" fill=\"#000000\">237</text>\n</g>\n<!-- 236&#45;&gt;237 -->\n<g id=\"edge266\" class=\"edge\">\n<title>236&#45;&gt;237</title>\n<path fill=\"none\" stroke=\"#000000\" d=\"M4186.7511,-452.3478C4194.5698,-452.3478 4203.3512,-452.3478 4211.8689,-452.3478\"/>\n<polygon fill=\"#000000\" stroke=\"#000000\" points=\"4212.0456,-455.8478 4222.0456,-452.3478 4212.0456,-448.8478 4212.0456,-455.8478\"/>\n<text text-anchor=\"middle\" x=\"4204.3518\" y=\"-456.1478\" font-family=\"Times,serif\" font-size=\"14.00\" fill=\"#000000\">s</text>\n</g>\n</g>\n</svg>\n"
          },
          "metadata": {
            "tags": []
          },
          "execution_count": 32
        }
      ]
    },
    {
      "cell_type": "markdown",
      "metadata": {
        "id": "ElsJFQJP-ToO",
        "colab_type": "text"
      },
      "source": [
        "Actually, it's complex because it deals with characters, not words. We can simplify it a bit if we make the transissions accepts whole tokens, instead of characters. Pynini allows it if you put the tokens in square brackets:"
      ]
    },
    {
      "cell_type": "code",
      "metadata": {
        "id": "gnXCZDEy-ToP",
        "colab_type": "code",
        "outputId": "dbc51bec-5c52-4b79-8211-2899a14f4b32",
        "colab": {
          "base_uri": "https://localhost:8080/",
          "height": 478
        }
      },
      "source": [
        "a_2_to_9_words = pn.u(\"[two]\", \"[three]\", \"[four]\", \"[five]\", \"[six]\", \"[seven]\", \"[eight]\", \"[nine]\")\n",
        "dollars_words = pn.u(\"[one][dollar]\", a_2_to_9_words + \"[dollars]\")\n",
        "cents_words = pn.u(\"[one][cent]\", a_2_to_9_words + \"[cents]\")\n",
        "money_words = pn.u(dollars_words, cents_words, dollars_words + cents_words).optimize()\n",
        "money_words"
      ],
      "execution_count": 0,
      "outputs": [
        {
          "output_type": "execute_result",
          "data": {
            "text/plain": [
              "<vector Fst at 0x7fc15f409458>"
            ],
            "image/svg+xml": "<?xml version=\"1.0\" encoding=\"UTF-8\" standalone=\"no\"?>\n<!DOCTYPE svg PUBLIC \"-//W3C//DTD SVG 1.1//EN\"\n \"http://www.w3.org/Graphics/SVG/1.1/DTD/svg11.dtd\">\n<!-- Generated by graphviz version 2.40.1 (20161225.0304)\n -->\n<!-- Title: FST Pages: 1 -->\n<svg width=\"458pt\" height=\"343pt\"\n viewBox=\"0.00 0.00 458.00 343.33\" xmlns=\"http://www.w3.org/2000/svg\" xmlns:xlink=\"http://www.w3.org/1999/xlink\">\n<g id=\"graph0\" class=\"graph\" transform=\"scale(1 1) rotate(0) translate(4 339.3272)\">\n<title>FST</title>\n<polygon fill=\"#ffffff\" stroke=\"transparent\" points=\"-4,4 -4,-339.3272 454,-339.3272 454,4 -4,4\"/>\n<!-- 0 -->\n<g id=\"node1\" class=\"node\">\n<title>0</title>\n<ellipse fill=\"none\" stroke=\"#000000\" stroke-width=\"2\" cx=\"18\" cy=\"-105.3272\" rx=\"18\" ry=\"18\"/>\n<text text-anchor=\"middle\" x=\"18\" y=\"-101.6272\" font-family=\"Times,serif\" font-size=\"14.00\" fill=\"#000000\">0</text>\n</g>\n<!-- 1 -->\n<g id=\"node2\" class=\"node\">\n<title>1</title>\n<ellipse fill=\"none\" stroke=\"#000000\" cx=\"117\" cy=\"-257.3272\" rx=\"18\" ry=\"18\"/>\n<text text-anchor=\"middle\" x=\"117\" y=\"-253.6272\" font-family=\"Times,serif\" font-size=\"14.00\" fill=\"#000000\">1</text>\n</g>\n<!-- 0&#45;&gt;1 -->\n<g id=\"edge1\" class=\"edge\">\n<title>0&#45;&gt;1</title>\n<path fill=\"none\" stroke=\"#000000\" d=\"M21.2876,-123.3609C26.838,-152.211 38.6727,-207.0536 51,-222.3272 61.0289,-234.753 76.6766,-243.3222 90.2191,-248.8703\"/>\n<polygon fill=\"#000000\" stroke=\"#000000\" points=\"89.0054,-252.1531 99.5976,-252.3881 91.4639,-245.599 89.0054,-252.1531\"/>\n<text text-anchor=\"middle\" x=\"67.5\" y=\"-249.1272\" font-family=\"Times,serif\" font-size=\"14.00\" fill=\"#000000\">one</text>\n</g>\n<!-- 2 -->\n<g id=\"node3\" class=\"node\">\n<title>2</title>\n<ellipse fill=\"none\" stroke=\"#000000\" cx=\"117\" cy=\"-86.3272\" rx=\"18\" ry=\"18\"/>\n<text text-anchor=\"middle\" x=\"117\" y=\"-82.6272\" font-family=\"Times,serif\" font-size=\"14.00\" fill=\"#000000\">2</text>\n</g>\n<!-- 0&#45;&gt;2 -->\n<g id=\"edge2\" class=\"edge\">\n<title>0&#45;&gt;2</title>\n<path fill=\"none\" stroke=\"#000000\" d=\"M21.8841,-123.3245C27.5196,-147.5528 38.6493,-188.6362 51,-197.3272 62.9946,-205.7677 72.2439,-206.0968 84,-197.3272 97.3475,-187.3705 107.239,-143.8204 112.5581,-114.3224\"/>\n<polygon fill=\"#000000\" stroke=\"#000000\" points=\"116.057,-114.6283 114.3089,-104.1787 109.159,-113.4377 116.057,-114.6283\"/>\n<text text-anchor=\"middle\" x=\"67.5\" y=\"-207.1272\" font-family=\"Times,serif\" font-size=\"14.00\" fill=\"#000000\">two</text>\n</g>\n<!-- 0&#45;&gt;2 -->\n<g id=\"edge3\" class=\"edge\">\n<title>0&#45;&gt;2</title>\n<path fill=\"none\" stroke=\"#000000\" d=\"M23.3953,-122.5847C28.3634,-135.2453 37.1049,-151.5344 51,-159.3272 63.7922,-166.5015 71.6769,-167.2803 84,-159.3272 99.3379,-149.4285 107.6228,-130.4913 112.055,-114.3855\"/>\n<polygon fill=\"#000000\" stroke=\"#000000\" points=\"115.5367,-114.8727 114.4467,-104.3341 108.7268,-113.2523 115.5367,-114.8727\"/>\n<text text-anchor=\"middle\" x=\"67.5\" y=\"-168.1272\" font-family=\"Times,serif\" font-size=\"14.00\" fill=\"#000000\">three</text>\n</g>\n<!-- 0&#45;&gt;2 -->\n<g id=\"edge4\" class=\"edge\">\n<title>0&#45;&gt;2</title>\n<path fill=\"none\" stroke=\"#000000\" d=\"M33.6807,-114.6193C47.3632,-121.456 67.5456,-128.428 84,-121.3272 90.1391,-118.6779 95.6659,-114.2624 100.363,-109.4446\"/>\n<polygon fill=\"#000000\" stroke=\"#000000\" points=\"103.1341,-111.5911 107.03,-101.7385 97.8403,-107.0111 103.1341,-111.5911\"/>\n<text text-anchor=\"middle\" x=\"67.5\" y=\"-127.1272\" font-family=\"Times,serif\" font-size=\"14.00\" fill=\"#000000\">four</text>\n</g>\n<!-- 0&#45;&gt;2 -->\n<g id=\"edge5\" class=\"edge\">\n<title>0&#45;&gt;2</title>\n<path fill=\"none\" stroke=\"#000000\" d=\"M35.6992,-101.9304C50.5298,-99.0841 71.965,-94.9703 89.1025,-91.6813\"/>\n<polygon fill=\"#000000\" stroke=\"#000000\" points=\"89.9592,-95.0808 99.1202,-89.7587 88.6397,-88.2063 89.9592,-95.0808\"/>\n<text text-anchor=\"middle\" x=\"67.5\" y=\"-103.1272\" font-family=\"Times,serif\" font-size=\"14.00\" fill=\"#000000\">five</text>\n</g>\n<!-- 0&#45;&gt;2 -->\n<g id=\"edge6\" class=\"edge\">\n<title>0&#45;&gt;2</title>\n<path fill=\"none\" stroke=\"#000000\" d=\"M28.9117,-90.9918C34.6911,-84.5957 42.3762,-77.7425 51,-74.3272 63.6044,-69.3355 78.3925,-71.3645 90.7721,-75.0615\"/>\n<polygon fill=\"#000000\" stroke=\"#000000\" points=\"89.909,-78.4668 100.5038,-78.4419 92.2059,-71.8543 89.909,-78.4668\"/>\n<text text-anchor=\"middle\" x=\"67.5\" y=\"-78.1272\" font-family=\"Times,serif\" font-size=\"14.00\" fill=\"#000000\">six</text>\n</g>\n<!-- 0&#45;&gt;2 -->\n<g id=\"edge7\" class=\"edge\">\n<title>0&#45;&gt;2</title>\n<path fill=\"none\" stroke=\"#000000\" d=\"M23.7811,-88.1821C28.8746,-76.0554 37.6014,-60.6932 51,-53.3272 63.8525,-46.2615 70.4498,-47.7145 84,-53.3272 89.7545,-55.7108 95.0287,-59.6386 99.5922,-63.9683\"/>\n<polygon fill=\"#000000\" stroke=\"#000000\" points=\"97.178,-66.5113 106.5605,-71.4326 102.2949,-61.7344 97.178,-66.5113\"/>\n<text text-anchor=\"middle\" x=\"67.5\" y=\"-57.1272\" font-family=\"Times,serif\" font-size=\"14.00\" fill=\"#000000\">seven</text>\n</g>\n<!-- 0&#45;&gt;2 -->\n<g id=\"edge8\" class=\"edge\">\n<title>0&#45;&gt;2</title>\n<path fill=\"none\" stroke=\"#000000\" d=\"M20.3363,-87.1786C23.712,-69.2806 31.8192,-42.8431 51,-30.3272 63.283,-22.3123 71.2658,-23.0505 84,-30.3272 95.1397,-36.6928 102.8937,-48.4498 108.0721,-59.5539\"/>\n<polygon fill=\"#000000\" stroke=\"#000000\" points=\"104.9206,-61.0917 111.9801,-68.9919 111.3881,-58.4137 104.9206,-61.0917\"/>\n<text text-anchor=\"middle\" x=\"67.5\" y=\"-34.1272\" font-family=\"Times,serif\" font-size=\"14.00\" fill=\"#000000\">eight</text>\n</g>\n<!-- 0&#45;&gt;2 -->\n<g id=\"edge9\" class=\"edge\">\n<title>0&#45;&gt;2</title>\n<path fill=\"none\" stroke=\"#000000\" d=\"M21.4127,-87.2829C26.7099,-61.434 37.6988,-15.9142 51,-6.3272 62.8982,2.2486 71.8111,1.8301 84,-6.3272 101.1175,-17.7829 109.3653,-39.9118 113.3342,-57.9971\"/>\n<polygon fill=\"#000000\" stroke=\"#000000\" points=\"109.9379,-58.8776 115.2112,-68.0669 116.8194,-57.5948 109.9379,-58.8776\"/>\n<text text-anchor=\"middle\" x=\"67.5\" y=\"-10.1272\" font-family=\"Times,serif\" font-size=\"14.00\" fill=\"#000000\">nine</text>\n</g>\n<!-- 3 -->\n<g id=\"node4\" class=\"node\">\n<title>3</title>\n<ellipse fill=\"none\" stroke=\"#000000\" cx=\"226\" cy=\"-156.3272\" rx=\"18\" ry=\"18\"/>\n<ellipse fill=\"none\" stroke=\"#000000\" cx=\"226\" cy=\"-156.3272\" rx=\"22\" ry=\"22\"/>\n<text text-anchor=\"middle\" x=\"226\" y=\"-152.6272\" font-family=\"Times,serif\" font-size=\"14.00\" fill=\"#000000\">3</text>\n</g>\n<!-- 1&#45;&gt;3 -->\n<g id=\"edge10\" class=\"edge\">\n<title>1&#45;&gt;3</title>\n<path fill=\"none\" stroke=\"#000000\" d=\"M130.3655,-244.9426C148.1874,-228.4288 180.0394,-198.9145 202.0584,-178.5116\"/>\n<polygon fill=\"#000000\" stroke=\"#000000\" points=\"204.7253,-180.812 209.6816,-171.4479 199.9676,-175.6774 204.7253,-180.812\"/>\n<text text-anchor=\"middle\" x=\"169.5\" y=\"-228.1272\" font-family=\"Times,serif\" font-size=\"14.00\" fill=\"#000000\">dollar</text>\n</g>\n<!-- 6 -->\n<g id=\"node5\" class=\"node\">\n<title>6</title>\n<ellipse fill=\"none\" stroke=\"#000000\" cx=\"428\" cy=\"-264.3272\" rx=\"18\" ry=\"18\"/>\n<ellipse fill=\"none\" stroke=\"#000000\" cx=\"428\" cy=\"-264.3272\" rx=\"22\" ry=\"22\"/>\n<text text-anchor=\"middle\" x=\"428\" y=\"-260.6272\" font-family=\"Times,serif\" font-size=\"14.00\" fill=\"#000000\">6</text>\n</g>\n<!-- 1&#45;&gt;6 -->\n<g id=\"edge11\" class=\"edge\">\n<title>1&#45;&gt;6</title>\n<path fill=\"none\" stroke=\"#000000\" d=\"M132.7286,-266.6278C169.7287,-287.3736 265.3223,-334.388 347,-318.3272 367.7316,-314.2506 373.3268,-311.9064 391,-300.3272 396.1868,-296.9289 401.2725,-292.738 405.933,-288.431\"/>\n<polygon fill=\"#000000\" stroke=\"#000000\" points=\"408.6261,-290.6923 413.3175,-281.1927 403.7261,-285.6933 408.6261,-290.6923\"/>\n<text text-anchor=\"middle\" x=\"279.5\" y=\"-324.1272\" font-family=\"Times,serif\" font-size=\"14.00\" fill=\"#000000\">cent</text>\n</g>\n<!-- 2&#45;&gt;3 -->\n<g id=\"edge12\" class=\"edge\">\n<title>2&#45;&gt;3</title>\n<path fill=\"none\" stroke=\"#000000\" d=\"M132.156,-96.0604C149.354,-107.105 177.7441,-125.3371 198.8022,-138.8607\"/>\n<polygon fill=\"#000000\" stroke=\"#000000\" points=\"197.0186,-141.8748 207.3242,-144.3336 200.8012,-135.9848 197.0186,-141.8748\"/>\n<text text-anchor=\"middle\" x=\"169.5\" y=\"-135.1272\" font-family=\"Times,serif\" font-size=\"14.00\" fill=\"#000000\">dollars</text>\n</g>\n<!-- 2&#45;&gt;6 -->\n<g id=\"edge13\" class=\"edge\">\n<title>2&#45;&gt;6</title>\n<path fill=\"none\" stroke=\"#000000\" d=\"M131.8208,-75.2964C163.6734,-53.0475 240.2808,-7.4449 296,-38.3272 370.1757,-79.4389 406.3565,-180.7324 420.5167,-232.6018\"/>\n<polygon fill=\"#000000\" stroke=\"#000000\" points=\"417.212,-233.7981 423.135,-242.5826 423.9829,-232.0218 417.212,-233.7981\"/>\n<text text-anchor=\"middle\" x=\"279.5\" y=\"-42.1272\" font-family=\"Times,serif\" font-size=\"14.00\" fill=\"#000000\">cents</text>\n</g>\n<!-- 4 -->\n<g id=\"node6\" class=\"node\">\n<title>4</title>\n<ellipse fill=\"none\" stroke=\"#000000\" cx=\"329\" cy=\"-291.3272\" rx=\"18\" ry=\"18\"/>\n<text text-anchor=\"middle\" x=\"329\" y=\"-287.6272\" font-family=\"Times,serif\" font-size=\"14.00\" fill=\"#000000\">4</text>\n</g>\n<!-- 3&#45;&gt;4 -->\n<g id=\"edge14\" class=\"edge\">\n<title>3&#45;&gt;4</title>\n<path fill=\"none\" stroke=\"#000000\" d=\"M229.0933,-178.2668C233.279,-200.745 242.7048,-235.5375 263,-258.3272 273.3197,-269.9153 288.6491,-277.9253 301.9374,-283.1489\"/>\n<polygon fill=\"#000000\" stroke=\"#000000\" points=\"300.9899,-286.5274 311.5844,-286.6134 303.3559,-279.9394 300.9899,-286.5274\"/>\n<text text-anchor=\"middle\" x=\"279.5\" y=\"-284.1272\" font-family=\"Times,serif\" font-size=\"14.00\" fill=\"#000000\">one</text>\n</g>\n<!-- 5 -->\n<g id=\"node7\" class=\"node\">\n<title>5</title>\n<ellipse fill=\"none\" stroke=\"#000000\" cx=\"329\" cy=\"-156.3272\" rx=\"18\" ry=\"18\"/>\n<text text-anchor=\"middle\" x=\"329\" y=\"-152.6272\" font-family=\"Times,serif\" font-size=\"14.00\" fill=\"#000000\">5</text>\n</g>\n<!-- 3&#45;&gt;5 -->\n<g id=\"edge15\" class=\"edge\">\n<title>3&#45;&gt;5</title>\n<path fill=\"none\" stroke=\"#000000\" d=\"M234.1562,-176.8654C240.1641,-188.98 249.6285,-203.28 263,-210.3272 275.975,-217.1655 283.2078,-217.5015 296,-210.3272 306.6384,-204.3608 314.2559,-193.4141 319.4719,-182.9285\"/>\n<polygon fill=\"#000000\" stroke=\"#000000\" points=\"322.7605,-184.1458 323.6047,-173.5847 316.3588,-181.3142 322.7605,-184.1458\"/>\n<text text-anchor=\"middle\" x=\"279.5\" y=\"-219.1272\" font-family=\"Times,serif\" font-size=\"14.00\" fill=\"#000000\">two</text>\n</g>\n<!-- 3&#45;&gt;5 -->\n<g id=\"edge16\" class=\"edge\">\n<title>3&#45;&gt;5</title>\n<path fill=\"none\" stroke=\"#000000\" d=\"M245.8673,-166.6763C251.2807,-169.0036 257.2433,-171.1358 263,-172.3272 277.3623,-175.2996 281.7054,-175.6098 296,-172.3272 298.6994,-171.7073 301.4343,-170.8361 304.1146,-169.8169\"/>\n<polygon fill=\"#000000\" stroke=\"#000000\" points=\"305.718,-172.9341 313.4226,-165.6615 302.8644,-166.5421 305.718,-172.9341\"/>\n<text text-anchor=\"middle\" x=\"279.5\" y=\"-178.1272\" font-family=\"Times,serif\" font-size=\"14.00\" fill=\"#000000\">three</text>\n</g>\n<!-- 3&#45;&gt;5 -->\n<g id=\"edge17\" class=\"edge\">\n<title>3&#45;&gt;5</title>\n<path fill=\"none\" stroke=\"#000000\" d=\"M248.2871,-154.2267C253.1329,-153.8521 258.2348,-153.5201 263,-153.3272 277.6547,-152.7341 281.3484,-152.6626 296,-153.3272 297.5086,-153.3956 299.0547,-153.4816 300.6149,-153.5807\"/>\n<polygon fill=\"#000000\" stroke=\"#000000\" points=\"300.6227,-157.0919 310.8648,-154.3808 301.1675,-150.1131 300.6227,-157.0919\"/>\n<text text-anchor=\"middle\" x=\"279.5\" y=\"-157.1272\" font-family=\"Times,serif\" font-size=\"14.00\" fill=\"#000000\">four</text>\n</g>\n<!-- 3&#45;&gt;5 -->\n<g id=\"edge18\" class=\"edge\">\n<title>3&#45;&gt;5</title>\n<path fill=\"none\" stroke=\"#000000\" d=\"M243.4845,-142.6976C249.3588,-138.8983 256.1634,-135.2789 263,-133.3272 277.1032,-129.301 282.0074,-128.9321 296,-133.3272 299.8621,-134.5403 303.6673,-136.3834 307.2432,-138.5089\"/>\n<polygon fill=\"#000000\" stroke=\"#000000\" points=\"305.3269,-141.4383 315.5618,-144.1763 309.2682,-135.6533 305.3269,-141.4383\"/>\n<text text-anchor=\"middle\" x=\"279.5\" y=\"-137.1272\" font-family=\"Times,serif\" font-size=\"14.00\" fill=\"#000000\">five</text>\n</g>\n<!-- 3&#45;&gt;5 -->\n<g id=\"edge19\" class=\"edge\">\n<title>3&#45;&gt;5</title>\n<path fill=\"none\" stroke=\"#000000\" d=\"M236.225,-136.6284C242.4993,-126.7813 251.5383,-115.8173 263,-110.3272 276.2275,-103.9913 282.952,-103.6294 296,-110.3272 304.64,-114.7623 311.5267,-122.627 316.7264,-130.6129\"/>\n<polygon fill=\"#000000\" stroke=\"#000000\" points=\"313.8387,-132.6102 321.8836,-139.5044 319.8939,-129.0981 313.8387,-132.6102\"/>\n<text text-anchor=\"middle\" x=\"279.5\" y=\"-114.1272\" font-family=\"Times,serif\" font-size=\"14.00\" fill=\"#000000\">six</text>\n</g>\n<!-- 3&#45;&gt;5 -->\n<g id=\"edge20\" class=\"edge\">\n<title>3&#45;&gt;5</title>\n<path fill=\"none\" stroke=\"#000000\" d=\"M231.1912,-134.7014C236.3314,-118.528 245.9712,-97.5184 263,-87.3272 275.5851,-79.7954 283.5919,-79.5073 296,-87.3272 310.3302,-96.3584 318.5729,-113.5216 323.2367,-128.4701\"/>\n<polygon fill=\"#000000\" stroke=\"#000000\" points=\"319.9194,-129.6095 325.9245,-138.3381 326.6734,-127.7698 319.9194,-129.6095\"/>\n<text text-anchor=\"middle\" x=\"279.5\" y=\"-91.1272\" font-family=\"Times,serif\" font-size=\"14.00\" fill=\"#000000\">seven</text>\n</g>\n<!-- 3&#45;&gt;5 -->\n<g id=\"edge21\" class=\"edge\">\n<title>3&#45;&gt;5</title>\n<path fill=\"none\" stroke=\"#000000\" d=\"M227.8796,-134.311C231.0755,-112.1749 239.7043,-79.1307 263,-63.3272 275.1374,-55.0934 284.0199,-54.8662 296,-63.3272 306.9591,-71.067 316.8608,-104.1479 322.8968,-128.6644\"/>\n<polygon fill=\"#000000\" stroke=\"#000000\" points=\"319.5273,-129.6248 325.2388,-138.5483 326.3387,-128.0108 319.5273,-129.6248\"/>\n<text text-anchor=\"middle\" x=\"279.5\" y=\"-67.1272\" font-family=\"Times,serif\" font-size=\"14.00\" fill=\"#000000\">eight</text>\n</g>\n<!-- 3&#45;&gt;5 -->\n<g id=\"edge22\" class=\"edge\">\n<title>3&#45;&gt;5</title>\n<path fill=\"none\" stroke=\"#000000\" d=\"M229.7369,-178.094C234.1883,-196.6028 243.6192,-222.0699 263,-234.3272 275.3957,-242.1668 283.7745,-242.4295 296,-234.3272 312.5443,-223.3627 320.8164,-202.2749 324.9402,-184.7878\"/>\n<polygon fill=\"#000000\" stroke=\"#000000\" points=\"328.4712,-184.9811 327.0086,-174.4877 321.6082,-183.6029 328.4712,-184.9811\"/>\n<text text-anchor=\"middle\" x=\"279.5\" y=\"-243.1272\" font-family=\"Times,serif\" font-size=\"14.00\" fill=\"#000000\">nine</text>\n</g>\n<!-- 4&#45;&gt;6 -->\n<g id=\"edge23\" class=\"edge\">\n<title>4&#45;&gt;6</title>\n<path fill=\"none\" stroke=\"#000000\" d=\"M346.6992,-286.5001C360.6087,-282.7066 380.3277,-277.3287 396.8621,-272.8194\"/>\n<polygon fill=\"#000000\" stroke=\"#000000\" points=\"397.9384,-276.1537 406.6651,-270.1458 396.0965,-269.4004 397.9384,-276.1537\"/>\n<text text-anchor=\"middle\" x=\"376.5\" y=\"-285.1272\" font-family=\"Times,serif\" font-size=\"14.00\" fill=\"#000000\">cent</text>\n</g>\n<!-- 5&#45;&gt;6 -->\n<g id=\"edge24\" class=\"edge\">\n<title>5&#45;&gt;6</title>\n<path fill=\"none\" stroke=\"#000000\" d=\"M341.5384,-170.0055C357.7572,-187.6987 386.2758,-218.8099 406.1055,-240.4423\"/>\n<polygon fill=\"#000000\" stroke=\"#000000\" points=\"403.6418,-242.9343 412.9792,-247.9408 408.8019,-238.2042 403.6418,-242.9343\"/>\n<text text-anchor=\"middle\" x=\"376.5\" y=\"-226.1272\" font-family=\"Times,serif\" font-size=\"14.00\" fill=\"#000000\">cents</text>\n</g>\n</g>\n</svg>\n"
          },
          "metadata": {
            "tags": []
          },
          "execution_count": 33
        }
      ]
    },
    {
      "cell_type": "markdown",
      "metadata": {
        "id": "RIPRIHTU-ToS",
        "colab_type": "text"
      },
      "source": [
        "The above picture looks already much nicer! Note that the test string must then also be tokenized, with tokens surrounded by square brackets:"
      ]
    },
    {
      "cell_type": "code",
      "metadata": {
        "id": "byoPV0dV-ToS",
        "colab_type": "code",
        "outputId": "26f9b3b2-c739-4308-c622-634932db8ef2",
        "colab": {
          "base_uri": "https://localhost:8080/",
          "height": 34
        }
      },
      "source": [
        "pn.matches(money_words, \"[one][dollar]\")"
      ],
      "execution_count": 0,
      "outputs": [
        {
          "output_type": "execute_result",
          "data": {
            "text/plain": [
              "True"
            ]
          },
          "metadata": {
            "tags": []
          },
          "execution_count": 34
        }
      ]
    },
    {
      "cell_type": "markdown",
      "metadata": {
        "id": "czpzCRlC-ToU",
        "colab_type": "text"
      },
      "source": [
        "One way to debug FSTs is to  generate random output, by selecting random paths from it's start state until the end state:"
      ]
    },
    {
      "cell_type": "code",
      "metadata": {
        "id": "7hmw7SyZ-ToV",
        "colab_type": "code",
        "outputId": "688ec99f-cccf-4fe0-ebae-88a8a8f2dae4",
        "colab": {
          "base_uri": "https://localhost:8080/",
          "height": 90
        }
      },
      "source": [
        "pn.randgen(money_words)"
      ],
      "execution_count": 0,
      "outputs": [
        {
          "output_type": "execute_result",
          "data": {
            "text/plain": [
              "<vector Fst at 0x7fc15f405618>"
            ],
            "image/svg+xml": "<?xml version=\"1.0\" encoding=\"UTF-8\" standalone=\"no\"?>\n<!DOCTYPE svg PUBLIC \"-//W3C//DTD SVG 1.1//EN\"\n \"http://www.w3.org/Graphics/SVG/1.1/DTD/svg11.dtd\">\n<!-- Generated by graphviz version 2.40.1 (20161225.0304)\n -->\n<!-- Title: FST Pages: 1 -->\n<svg width=\"246pt\" height=\"52pt\"\n viewBox=\"0.00 0.00 246.00 52.00\" xmlns=\"http://www.w3.org/2000/svg\" xmlns:xlink=\"http://www.w3.org/1999/xlink\">\n<g id=\"graph0\" class=\"graph\" transform=\"scale(1 1) rotate(0) translate(4 48)\">\n<title>FST</title>\n<polygon fill=\"#ffffff\" stroke=\"transparent\" points=\"-4,4 -4,-48 242,-48 242,4 -4,4\"/>\n<!-- 0 -->\n<g id=\"node1\" class=\"node\">\n<title>0</title>\n<ellipse fill=\"none\" stroke=\"#000000\" stroke-width=\"2\" cx=\"18\" cy=\"-22\" rx=\"18\" ry=\"18\"/>\n<text text-anchor=\"middle\" x=\"18\" y=\"-18.3\" font-family=\"Times,serif\" font-size=\"14.00\" fill=\"#000000\">0</text>\n</g>\n<!-- 1 -->\n<g id=\"node2\" class=\"node\">\n<title>1</title>\n<ellipse fill=\"none\" stroke=\"#000000\" cx=\"117\" cy=\"-22\" rx=\"18\" ry=\"18\"/>\n<text text-anchor=\"middle\" x=\"117\" y=\"-18.3\" font-family=\"Times,serif\" font-size=\"14.00\" fill=\"#000000\">1</text>\n</g>\n<!-- 0&#45;&gt;1 -->\n<g id=\"edge1\" class=\"edge\">\n<title>0&#45;&gt;1</title>\n<path fill=\"none\" stroke=\"#000000\" d=\"M36.1581,-22C50.8112,-22 71.689,-22 88.557,-22\"/>\n<polygon fill=\"#000000\" stroke=\"#000000\" points=\"88.957,-25.5001 98.957,-22 88.957,-18.5001 88.957,-25.5001\"/>\n<text text-anchor=\"middle\" x=\"67.5\" y=\"-25.8\" font-family=\"Times,serif\" font-size=\"14.00\" fill=\"#000000\">seven</text>\n</g>\n<!-- 2 -->\n<g id=\"node3\" class=\"node\">\n<title>2</title>\n<ellipse fill=\"none\" stroke=\"#000000\" cx=\"216\" cy=\"-22\" rx=\"18\" ry=\"18\"/>\n<ellipse fill=\"none\" stroke=\"#000000\" cx=\"216\" cy=\"-22\" rx=\"22\" ry=\"22\"/>\n<text text-anchor=\"middle\" x=\"216\" y=\"-18.3\" font-family=\"Times,serif\" font-size=\"14.00\" fill=\"#000000\">2</text>\n</g>\n<!-- 1&#45;&gt;2 -->\n<g id=\"edge2\" class=\"edge\">\n<title>1&#45;&gt;2</title>\n<path fill=\"none\" stroke=\"#000000\" d=\"M135.1581,-22C148.7122,-22 167.5923,-22 183.6984,-22\"/>\n<polygon fill=\"#000000\" stroke=\"#000000\" points=\"183.7979,-25.5001 193.7979,-22 183.7978,-18.5001 183.7979,-25.5001\"/>\n<text text-anchor=\"middle\" x=\"164.5\" y=\"-25.8\" font-family=\"Times,serif\" font-size=\"14.00\" fill=\"#000000\">cents</text>\n</g>\n</g>\n</svg>\n"
          },
          "metadata": {
            "tags": []
          },
          "execution_count": 35
        }
      ]
    },
    {
      "cell_type": "code",
      "metadata": {
        "id": "dCSegAKd-ToZ",
        "colab_type": "code",
        "outputId": "deb0ed04-e485-4752-c650-0c19431935ad",
        "colab": {
          "base_uri": "https://localhost:8080/",
          "height": 249
        }
      },
      "source": [
        "pn.randgen(money_words, 3)"
      ],
      "execution_count": 0,
      "outputs": [
        {
          "output_type": "execute_result",
          "data": {
            "text/plain": [
              "<vector Fst at 0x7fc15f405b90>"
            ],
            "image/svg+xml": "<?xml version=\"1.0\" encoding=\"UTF-8\" standalone=\"no\"?>\n<!DOCTYPE svg PUBLIC \"-//W3C//DTD SVG 1.1//EN\"\n \"http://www.w3.org/Graphics/SVG/1.1/DTD/svg11.dtd\">\n<!-- Generated by graphviz version 2.40.1 (20161225.0304)\n -->\n<!-- Title: FST Pages: 1 -->\n<svg width=\"453pt\" height=\"171pt\"\n viewBox=\"0.00 0.00 452.60 170.80\" xmlns=\"http://www.w3.org/2000/svg\" xmlns:xlink=\"http://www.w3.org/1999/xlink\">\n<g id=\"graph0\" class=\"graph\" transform=\"scale(1 1) rotate(0) translate(4 166.7982)\">\n<title>FST</title>\n<polygon fill=\"#ffffff\" stroke=\"transparent\" points=\"-4,4 -4,-166.7982 448.5963,-166.7982 448.5963,4 -4,4\"/>\n<!-- 0 -->\n<g id=\"node1\" class=\"node\">\n<title>0</title>\n<ellipse fill=\"none\" stroke=\"#000000\" stroke-width=\"2\" cx=\"18\" cy=\"-82.7982\" rx=\"18\" ry=\"18\"/>\n<text text-anchor=\"middle\" x=\"18\" y=\"-79.0982\" font-family=\"Times,serif\" font-size=\"14.00\" fill=\"#000000\">0</text>\n</g>\n<!-- 1 -->\n<g id=\"node2\" class=\"node\">\n<title>1</title>\n<ellipse fill=\"none\" stroke=\"#000000\" cx=\"106\" cy=\"-138.7982\" rx=\"18\" ry=\"18\"/>\n<text text-anchor=\"middle\" x=\"106\" y=\"-135.0982\" font-family=\"Times,serif\" font-size=\"14.00\" fill=\"#000000\">1</text>\n</g>\n<!-- 0&#45;&gt;1 -->\n<g id=\"edge1\" class=\"edge\">\n<title>0&#45;&gt;1</title>\n<path fill=\"none\" stroke=\"#000000\" d=\"M33.3284,-92.5526C46.748,-101.0923 66.4699,-113.6427 81.9835,-123.515\"/>\n<polygon fill=\"#000000\" stroke=\"#000000\" points=\"80.2363,-126.5516 90.552,-128.9676 83.9944,-120.646 80.2363,-126.5516\"/>\n<text text-anchor=\"middle\" x=\"62\" y=\"-120.5982\" font-family=\"Times,serif\" font-size=\"14.00\" fill=\"#000000\">one</text>\n</g>\n<!-- 5 -->\n<g id=\"node3\" class=\"node\">\n<title>5</title>\n<ellipse fill=\"none\" stroke=\"#000000\" cx=\"106\" cy=\"-82.7982\" rx=\"18\" ry=\"18\"/>\n<text text-anchor=\"middle\" x=\"106\" y=\"-79.0982\" font-family=\"Times,serif\" font-size=\"14.00\" fill=\"#000000\">5</text>\n</g>\n<!-- 0&#45;&gt;5 -->\n<g id=\"edge2\" class=\"edge\">\n<title>0&#45;&gt;5</title>\n<path fill=\"none\" stroke=\"#000000\" d=\"M36.2337,-82.7982C48.1508,-82.7982 63.9616,-82.7982 77.5183,-82.7982\"/>\n<polygon fill=\"#000000\" stroke=\"#000000\" points=\"77.7897,-86.2983 87.7897,-82.7982 77.7897,-79.2983 77.7897,-86.2983\"/>\n<text text-anchor=\"middle\" x=\"62\" y=\"-86.5982\" font-family=\"Times,serif\" font-size=\"14.00\" fill=\"#000000\">two</text>\n</g>\n<!-- 7 -->\n<g id=\"node4\" class=\"node\">\n<title>7</title>\n<ellipse fill=\"none\" stroke=\"#000000\" cx=\"106\" cy=\"-27.7982\" rx=\"18\" ry=\"18\"/>\n<text text-anchor=\"middle\" x=\"106\" y=\"-24.0982\" font-family=\"Times,serif\" font-size=\"14.00\" fill=\"#000000\">7</text>\n</g>\n<!-- 0&#45;&gt;7 -->\n<g id=\"edge3\" class=\"edge\">\n<title>0&#45;&gt;7</title>\n<path fill=\"none\" stroke=\"#000000\" d=\"M33.3284,-73.2179C46.748,-64.8307 66.4699,-52.5044 81.9835,-42.8084\"/>\n<polygon fill=\"#000000\" stroke=\"#000000\" points=\"83.927,-45.7212 90.552,-37.4532 80.217,-39.7852 83.927,-45.7212\"/>\n<text text-anchor=\"middle\" x=\"62\" y=\"-65.5982\" font-family=\"Times,serif\" font-size=\"14.00\" fill=\"#000000\">five</text>\n</g>\n<!-- 2 -->\n<g id=\"node5\" class=\"node\">\n<title>2</title>\n<ellipse fill=\"none\" stroke=\"#000000\" cx=\"215\" cy=\"-140.7982\" rx=\"18\" ry=\"18\"/>\n<text text-anchor=\"middle\" x=\"215\" y=\"-137.0982\" font-family=\"Times,serif\" font-size=\"14.00\" fill=\"#000000\">2</text>\n</g>\n<!-- 1&#45;&gt;2 -->\n<g id=\"edge4\" class=\"edge\">\n<title>1&#45;&gt;2</title>\n<path fill=\"none\" stroke=\"#000000\" d=\"M123.9991,-139.1284C141.1184,-139.4425 167.1302,-139.9198 186.9655,-140.2838\"/>\n<polygon fill=\"#000000\" stroke=\"#000000\" points=\"186.9116,-143.7833 196.9741,-140.4674 187.0401,-136.7844 186.9116,-143.7833\"/>\n<text text-anchor=\"middle\" x=\"158.5\" y=\"-143.5982\" font-family=\"Times,serif\" font-size=\"14.00\" fill=\"#000000\">dollar</text>\n</g>\n<!-- 6 -->\n<g id=\"node8\" class=\"node\">\n<title>6</title>\n<ellipse fill=\"none\" stroke=\"#000000\" cx=\"215\" cy=\"-82.7982\" rx=\"18\" ry=\"18\"/>\n<ellipse fill=\"none\" stroke=\"#000000\" cx=\"215\" cy=\"-82.7982\" rx=\"22\" ry=\"22\"/>\n<text text-anchor=\"middle\" x=\"215\" y=\"-79.0982\" font-family=\"Times,serif\" font-size=\"14.00\" fill=\"#000000\">6</text>\n</g>\n<!-- 5&#45;&gt;6 -->\n<g id=\"edge7\" class=\"edge\">\n<title>5&#45;&gt;6</title>\n<path fill=\"none\" stroke=\"#000000\" d=\"M124.4904,-82.7982C140.3773,-82.7982 163.6535,-82.7982 182.623,-82.7982\"/>\n<polygon fill=\"#000000\" stroke=\"#000000\" points=\"182.6442,-86.2983 192.6442,-82.7982 182.6442,-79.2983 182.6442,-86.2983\"/>\n<text text-anchor=\"middle\" x=\"158.5\" y=\"-86.5982\" font-family=\"Times,serif\" font-size=\"14.00\" fill=\"#000000\">cents</text>\n</g>\n<!-- 8 -->\n<g id=\"node9\" class=\"node\">\n<title>8</title>\n<ellipse fill=\"none\" stroke=\"#000000\" cx=\"215\" cy=\"-24.7982\" rx=\"18\" ry=\"18\"/>\n<text text-anchor=\"middle\" x=\"215\" y=\"-21.0982\" font-family=\"Times,serif\" font-size=\"14.00\" fill=\"#000000\">8</text>\n</g>\n<!-- 7&#45;&gt;8 -->\n<g id=\"edge8\" class=\"edge\">\n<title>7&#45;&gt;8</title>\n<path fill=\"none\" stroke=\"#000000\" d=\"M123.9991,-27.3028C141.1184,-26.8316 167.1302,-26.1157 186.9655,-25.5697\"/>\n<polygon fill=\"#000000\" stroke=\"#000000\" points=\"187.0742,-29.0682 196.9741,-25.2943 186.8816,-22.0708 187.0742,-29.0682\"/>\n<text text-anchor=\"middle\" x=\"158.5\" y=\"-31.5982\" font-family=\"Times,serif\" font-size=\"14.00\" fill=\"#000000\">dollars</text>\n</g>\n<!-- 3 -->\n<g id=\"node6\" class=\"node\">\n<title>3</title>\n<ellipse fill=\"none\" stroke=\"#000000\" cx=\"318\" cy=\"-140.7982\" rx=\"18\" ry=\"18\"/>\n<text text-anchor=\"middle\" x=\"318\" y=\"-137.0982\" font-family=\"Times,serif\" font-size=\"14.00\" fill=\"#000000\">3</text>\n</g>\n<!-- 2&#45;&gt;3 -->\n<g id=\"edge5\" class=\"edge\">\n<title>2&#45;&gt;3</title>\n<path fill=\"none\" stroke=\"#000000\" d=\"M233.4143,-140.7982C249.0132,-140.7982 271.635,-140.7982 289.5599,-140.7982\"/>\n<polygon fill=\"#000000\" stroke=\"#000000\" points=\"289.7451,-144.2983 299.7451,-140.7982 289.7451,-137.2983 289.7451,-144.2983\"/>\n<text text-anchor=\"middle\" x=\"268.5\" y=\"-144.5982\" font-family=\"Times,serif\" font-size=\"14.00\" fill=\"#000000\">seven</text>\n</g>\n<!-- 4 -->\n<g id=\"node7\" class=\"node\">\n<title>4</title>\n<ellipse fill=\"none\" stroke=\"#000000\" cx=\"419.7982\" cy=\"-140.7982\" rx=\"18\" ry=\"18\"/>\n<ellipse fill=\"none\" stroke=\"#000000\" cx=\"419.7982\" cy=\"-140.7982\" rx=\"22\" ry=\"22\"/>\n<text text-anchor=\"middle\" x=\"419.7982\" y=\"-137.0982\" font-family=\"Times,serif\" font-size=\"14.00\" fill=\"#000000\">4</text>\n</g>\n<!-- 3&#45;&gt;4 -->\n<g id=\"edge6\" class=\"edge\">\n<title>3&#45;&gt;4</title>\n<path fill=\"none\" stroke=\"#000000\" d=\"M336.1995,-140.7982C350.4074,-140.7982 370.5102,-140.7982 387.4419,-140.7982\"/>\n<polygon fill=\"#000000\" stroke=\"#000000\" points=\"387.4936,-144.2983 397.4935,-140.7982 387.4935,-137.2983 387.4936,-144.2983\"/>\n<text text-anchor=\"middle\" x=\"365.5\" y=\"-144.5982\" font-family=\"Times,serif\" font-size=\"14.00\" fill=\"#000000\">cents</text>\n</g>\n<!-- 9 -->\n<g id=\"node10\" class=\"node\">\n<title>9</title>\n<ellipse fill=\"none\" stroke=\"#000000\" cx=\"318\" cy=\"-24.7982\" rx=\"18\" ry=\"18\"/>\n<text text-anchor=\"middle\" x=\"318\" y=\"-21.0982\" font-family=\"Times,serif\" font-size=\"14.00\" fill=\"#000000\">9</text>\n</g>\n<!-- 8&#45;&gt;9 -->\n<g id=\"edge9\" class=\"edge\">\n<title>8&#45;&gt;9</title>\n<path fill=\"none\" stroke=\"#000000\" d=\"M233.4143,-24.7982C249.0132,-24.7982 271.635,-24.7982 289.5599,-24.7982\"/>\n<polygon fill=\"#000000\" stroke=\"#000000\" points=\"289.7451,-28.2983 299.7451,-24.7982 289.7451,-21.2983 289.7451,-28.2983\"/>\n<text text-anchor=\"middle\" x=\"268.5\" y=\"-28.5982\" font-family=\"Times,serif\" font-size=\"14.00\" fill=\"#000000\">seven</text>\n</g>\n<!-- 10 -->\n<g id=\"node11\" class=\"node\">\n<title>10</title>\n<ellipse fill=\"none\" stroke=\"#000000\" cx=\"419.7982\" cy=\"-24.7982\" rx=\"20.6302\" ry=\"20.6302\"/>\n<ellipse fill=\"none\" stroke=\"#000000\" cx=\"419.7982\" cy=\"-24.7982\" rx=\"24.5979\" ry=\"24.5979\"/>\n<text text-anchor=\"middle\" x=\"419.7982\" y=\"-21.0982\" font-family=\"Times,serif\" font-size=\"14.00\" fill=\"#000000\">10</text>\n</g>\n<!-- 9&#45;&gt;10 -->\n<g id=\"edge10\" class=\"edge\">\n<title>9&#45;&gt;10</title>\n<path fill=\"none\" stroke=\"#000000\" d=\"M336.1995,-24.7982C349.6165,-24.7982 368.2906,-24.7982 384.5868,-24.7982\"/>\n<polygon fill=\"#000000\" stroke=\"#000000\" points=\"384.8732,-28.2983 394.8731,-24.7982 384.8731,-21.2983 384.8732,-28.2983\"/>\n<text text-anchor=\"middle\" x=\"365.5\" y=\"-28.5982\" font-family=\"Times,serif\" font-size=\"14.00\" fill=\"#000000\">cents</text>\n</g>\n</g>\n</svg>\n"
          },
          "metadata": {
            "tags": []
          },
          "execution_count": 36
        }
      ]
    },
    {
      "cell_type": "markdown",
      "metadata": {
        "id": "-phVTZtl-Toe",
        "colab_type": "text"
      },
      "source": [
        "The task of making this FSA to accept more complex amounts, like \"twenty one dollars thirteen cents\" is left for the students.\n",
        "\n",
        "#### Excercise\n",
        "\n",
        "Construct a FSA that accepts English (or Estonian) numbers from 0 to 99, given as words, e.g. `[twenty] [one]`. Try to be economical, don't just list all possible 100 variants"
      ]
    },
    {
      "cell_type": "markdown",
      "metadata": {
        "id": "VXkaXz3T-Tof",
        "colab_type": "text"
      },
      "source": [
        "Let's try to construct a naive FSA that accepts a very limited set of English nouns, like dog, cat, mouse, dogs, mice sheep, etc."
      ]
    },
    {
      "cell_type": "code",
      "metadata": {
        "id": "vwobPZPh-Tof",
        "colab_type": "code",
        "outputId": "793d80c6-095b-4d1c-b882-d4625e53c6bb",
        "colab": {
          "base_uri": "https://localhost:8080/",
          "height": 357
        }
      },
      "source": [
        "reg_noun = pn.u(\"dog\", \"cat\")\n",
        "irreg_noun_sg = pn.u(\"mouse\", \"sheep\")\n",
        "irreg_noun_pl = pn.u(\"mice\", \"sheep\")\n",
        "nouns = pn.u(reg_noun, reg_noun + \"s\", irreg_noun_sg, irreg_noun_pl).optimize()\n",
        "nouns"
      ],
      "execution_count": 0,
      "outputs": [
        {
          "output_type": "execute_result",
          "data": {
            "text/plain": [
              "<vector Fst at 0x7fc15f4097a0>"
            ],
            "image/svg+xml": "<?xml version=\"1.0\" encoding=\"UTF-8\" standalone=\"no\"?>\n<!DOCTYPE svg PUBLIC \"-//W3C//DTD SVG 1.1//EN\"\n \"http://www.w3.org/Graphics/SVG/1.1/DTD/svg11.dtd\">\n<!-- Generated by graphviz version 2.40.1 (20161225.0304)\n -->\n<!-- Title: FST Pages: 1 -->\n<svg width=\"478pt\" height=\"252pt\"\n viewBox=\"0.00 0.00 477.79 251.80\" xmlns=\"http://www.w3.org/2000/svg\" xmlns:xlink=\"http://www.w3.org/1999/xlink\">\n<g id=\"graph0\" class=\"graph\" transform=\"scale(1 1) rotate(0) translate(4 247.7982)\">\n<title>FST</title>\n<polygon fill=\"#ffffff\" stroke=\"transparent\" points=\"-4,4 -4,-247.7982 473.7889,-247.7982 473.7889,4 -4,4\"/>\n<!-- 0 -->\n<g id=\"node1\" class=\"node\">\n<title>0</title>\n<ellipse fill=\"none\" stroke=\"#000000\" stroke-width=\"2\" cx=\"18\" cy=\"-140.7982\" rx=\"18\" ry=\"18\"/>\n<text text-anchor=\"middle\" x=\"18\" y=\"-137.0982\" font-family=\"Times,serif\" font-size=\"14.00\" fill=\"#000000\">0</text>\n</g>\n<!-- 1 -->\n<g id=\"node2\" class=\"node\">\n<title>1</title>\n<ellipse fill=\"none\" stroke=\"#000000\" cx=\"96\" cy=\"-225.7982\" rx=\"18\" ry=\"18\"/>\n<text text-anchor=\"middle\" x=\"96\" y=\"-222.0982\" font-family=\"Times,serif\" font-size=\"14.00\" fill=\"#000000\">1</text>\n</g>\n<!-- 0&#45;&gt;1 -->\n<g id=\"edge1\" class=\"edge\">\n<title>0&#45;&gt;1</title>\n<path fill=\"none\" stroke=\"#000000\" d=\"M30.1433,-154.5766C36.3432,-161.5695 44.0298,-170.1758 51,-177.7982 59.2625,-186.8337 68.4949,-196.7178 76.4366,-205.1558\"/>\n<polygon fill=\"#000000\" stroke=\"#000000\" points=\"73.8938,-207.5609 83.3022,-212.4326 78.9853,-202.7571 73.8938,-207.5609\"/>\n<text text-anchor=\"middle\" x=\"57\" y=\"-193.5982\" font-family=\"Times,serif\" font-size=\"14.00\" fill=\"#000000\">c</text>\n</g>\n<!-- 2 -->\n<g id=\"node3\" class=\"node\">\n<title>2</title>\n<ellipse fill=\"none\" stroke=\"#000000\" cx=\"96\" cy=\"-171.7982\" rx=\"18\" ry=\"18\"/>\n<text text-anchor=\"middle\" x=\"96\" y=\"-168.0982\" font-family=\"Times,serif\" font-size=\"14.00\" fill=\"#000000\">2</text>\n</g>\n<!-- 0&#45;&gt;2 -->\n<g id=\"edge2\" class=\"edge\">\n<title>0&#45;&gt;2</title>\n<path fill=\"none\" stroke=\"#000000\" d=\"M34.9248,-147.5247C45.0439,-151.5464 58.1193,-156.743 69.5741,-161.2955\"/>\n<polygon fill=\"#000000\" stroke=\"#000000\" points=\"68.5225,-164.6439 79.1082,-165.0847 71.1079,-158.1388 68.5225,-164.6439\"/>\n<text text-anchor=\"middle\" x=\"57\" y=\"-162.5982\" font-family=\"Times,serif\" font-size=\"14.00\" fill=\"#000000\">d</text>\n</g>\n<!-- 3 -->\n<g id=\"node4\" class=\"node\">\n<title>3</title>\n<ellipse fill=\"none\" stroke=\"#000000\" cx=\"96\" cy=\"-117.7982\" rx=\"18\" ry=\"18\"/>\n<text text-anchor=\"middle\" x=\"96\" y=\"-114.0982\" font-family=\"Times,serif\" font-size=\"14.00\" fill=\"#000000\">3</text>\n</g>\n<!-- 0&#45;&gt;3 -->\n<g id=\"edge3\" class=\"edge\">\n<title>0&#45;&gt;3</title>\n<path fill=\"none\" stroke=\"#000000\" d=\"M35.4561,-135.4622C40.4705,-133.9419 45.9485,-132.2931 51,-130.7982 56.6533,-129.1251 62.7137,-127.357 68.4972,-125.6819\"/>\n<polygon fill=\"#000000\" stroke=\"#000000\" points=\"69.8227,-128.9424 78.4608,-122.8078 67.8825,-122.2166 69.8227,-128.9424\"/>\n<text text-anchor=\"middle\" x=\"57\" y=\"-134.5982\" font-family=\"Times,serif\" font-size=\"14.00\" fill=\"#000000\">m</text>\n</g>\n<!-- 4 -->\n<g id=\"node5\" class=\"node\">\n<title>4</title>\n<ellipse fill=\"none\" stroke=\"#000000\" cx=\"96\" cy=\"-48.7982\" rx=\"18\" ry=\"18\"/>\n<text text-anchor=\"middle\" x=\"96\" y=\"-45.0982\" font-family=\"Times,serif\" font-size=\"14.00\" fill=\"#000000\">4</text>\n</g>\n<!-- 0&#45;&gt;4 -->\n<g id=\"edge4\" class=\"edge\">\n<title>0&#45;&gt;4</title>\n<path fill=\"none\" stroke=\"#000000\" d=\"M29.8465,-126.8253C42.5186,-111.8788 62.7837,-87.9764 77.5486,-70.5614\"/>\n<polygon fill=\"#000000\" stroke=\"#000000\" points=\"80.5003,-72.492 84.2976,-62.601 75.161,-67.9652 80.5003,-72.492\"/>\n<text text-anchor=\"middle\" x=\"57\" y=\"-104.5982\" font-family=\"Times,serif\" font-size=\"14.00\" fill=\"#000000\">s</text>\n</g>\n<!-- 5 -->\n<g id=\"node6\" class=\"node\">\n<title>5</title>\n<ellipse fill=\"none\" stroke=\"#000000\" cx=\"170\" cy=\"-225.7982\" rx=\"18\" ry=\"18\"/>\n<text text-anchor=\"middle\" x=\"170\" y=\"-222.0982\" font-family=\"Times,serif\" font-size=\"14.00\" fill=\"#000000\">5</text>\n</g>\n<!-- 1&#45;&gt;5 -->\n<g id=\"edge5\" class=\"edge\">\n<title>1&#45;&gt;5</title>\n<path fill=\"none\" stroke=\"#000000\" d=\"M114.2921,-225.7982C122.5365,-225.7982 132.4624,-225.7982 141.6378,-225.7982\"/>\n<polygon fill=\"#000000\" stroke=\"#000000\" points=\"141.9183,-229.2983 151.9183,-225.7982 141.9182,-222.2983 141.9183,-229.2983\"/>\n<text text-anchor=\"middle\" x=\"133\" y=\"-229.5982\" font-family=\"Times,serif\" font-size=\"14.00\" fill=\"#000000\">a</text>\n</g>\n<!-- 6 -->\n<g id=\"node7\" class=\"node\">\n<title>6</title>\n<ellipse fill=\"none\" stroke=\"#000000\" cx=\"170\" cy=\"-171.7982\" rx=\"18\" ry=\"18\"/>\n<text text-anchor=\"middle\" x=\"170\" y=\"-168.0982\" font-family=\"Times,serif\" font-size=\"14.00\" fill=\"#000000\">6</text>\n</g>\n<!-- 2&#45;&gt;6 -->\n<g id=\"edge6\" class=\"edge\">\n<title>2&#45;&gt;6</title>\n<path fill=\"none\" stroke=\"#000000\" d=\"M114.2921,-171.7982C122.5365,-171.7982 132.4624,-171.7982 141.6378,-171.7982\"/>\n<polygon fill=\"#000000\" stroke=\"#000000\" points=\"141.9183,-175.2983 151.9183,-171.7982 141.9182,-168.2983 141.9183,-175.2983\"/>\n<text text-anchor=\"middle\" x=\"133\" y=\"-175.5982\" font-family=\"Times,serif\" font-size=\"14.00\" fill=\"#000000\">o</text>\n</g>\n<!-- 8 -->\n<g id=\"node8\" class=\"node\">\n<title>8</title>\n<ellipse fill=\"none\" stroke=\"#000000\" cx=\"221\" cy=\"-127.7982\" rx=\"18\" ry=\"18\"/>\n<text text-anchor=\"middle\" x=\"221\" y=\"-124.0982\" font-family=\"Times,serif\" font-size=\"14.00\" fill=\"#000000\">8</text>\n</g>\n<!-- 3&#45;&gt;8 -->\n<g id=\"edge7\" class=\"edge\">\n<title>3&#45;&gt;8</title>\n<path fill=\"none\" stroke=\"#000000\" d=\"M114.1761,-119.2522C134.7277,-120.8964 168.4528,-123.5944 192.5107,-125.519\"/>\n<polygon fill=\"#000000\" stroke=\"#000000\" points=\"192.5547,-129.0336 202.802,-126.3423 193.113,-122.0559 192.5547,-129.0336\"/>\n<text text-anchor=\"middle\" x=\"133\" y=\"-125.5982\" font-family=\"Times,serif\" font-size=\"14.00\" fill=\"#000000\">i</text>\n</g>\n<!-- 7 -->\n<g id=\"node9\" class=\"node\">\n<title>7</title>\n<ellipse fill=\"none\" stroke=\"#000000\" cx=\"170\" cy=\"-79.7982\" rx=\"18\" ry=\"18\"/>\n<text text-anchor=\"middle\" x=\"170\" y=\"-76.0982\" font-family=\"Times,serif\" font-size=\"14.00\" fill=\"#000000\">7</text>\n</g>\n<!-- 3&#45;&gt;7 -->\n<g id=\"edge8\" class=\"edge\">\n<title>3&#45;&gt;7</title>\n<path fill=\"none\" stroke=\"#000000\" d=\"M108.343,-104.2551C114.1092,-98.6886 121.3783,-92.6556 129,-88.7982 132.9501,-86.799 137.3343,-85.2418 141.7241,-84.0294\"/>\n<polygon fill=\"#000000\" stroke=\"#000000\" points=\"142.7811,-87.3795 151.7756,-81.7806 141.2527,-80.5484 142.7811,-87.3795\"/>\n<text text-anchor=\"middle\" x=\"133\" y=\"-92.5982\" font-family=\"Times,serif\" font-size=\"14.00\" fill=\"#000000\">o</text>\n</g>\n<!-- 9 -->\n<g id=\"node10\" class=\"node\">\n<title>9</title>\n<ellipse fill=\"none\" stroke=\"#000000\" cx=\"170\" cy=\"-24.7982\" rx=\"18\" ry=\"18\"/>\n<text text-anchor=\"middle\" x=\"170\" y=\"-21.0982\" font-family=\"Times,serif\" font-size=\"14.00\" fill=\"#000000\">9</text>\n</g>\n<!-- 4&#45;&gt;9 -->\n<g id=\"edge9\" class=\"edge\">\n<title>4&#45;&gt;9</title>\n<path fill=\"none\" stroke=\"#000000\" d=\"M113.1631,-43.2317C122.0652,-40.3446 133.1424,-36.752 143.147,-33.5072\"/>\n<polygon fill=\"#000000\" stroke=\"#000000\" points=\"144.2412,-36.8319 152.6737,-30.4175 142.0816,-30.1733 144.2412,-36.8319\"/>\n<text text-anchor=\"middle\" x=\"133\" y=\"-41.5982\" font-family=\"Times,serif\" font-size=\"14.00\" fill=\"#000000\">h</text>\n</g>\n<!-- 10 -->\n<g id=\"node11\" class=\"node\">\n<title>10</title>\n<ellipse fill=\"none\" stroke=\"#000000\" cx=\"278.7982\" cy=\"-193.7982\" rx=\"20.6302\" ry=\"20.6302\"/>\n<ellipse fill=\"none\" stroke=\"#000000\" cx=\"278.7982\" cy=\"-193.7982\" rx=\"24.5979\" ry=\"24.5979\"/>\n<text text-anchor=\"middle\" x=\"278.7982\" y=\"-190.0982\" font-family=\"Times,serif\" font-size=\"14.00\" fill=\"#000000\">10</text>\n</g>\n<!-- 5&#45;&gt;10 -->\n<g id=\"edge10\" class=\"edge\">\n<title>5&#45;&gt;10</title>\n<path fill=\"none\" stroke=\"#000000\" d=\"M187.4803,-220.6568C202.959,-216.1042 225.9884,-209.3307 245.0472,-203.7251\"/>\n<polygon fill=\"#000000\" stroke=\"#000000\" points=\"246.2654,-207.0151 254.8715,-200.8355 244.2902,-200.2995 246.2654,-207.0151\"/>\n<text text-anchor=\"middle\" x=\"221\" y=\"-218.5982\" font-family=\"Times,serif\" font-size=\"14.00\" fill=\"#000000\">t</text>\n</g>\n<!-- 6&#45;&gt;10 -->\n<g id=\"edge11\" class=\"edge\">\n<title>6&#45;&gt;10</title>\n<path fill=\"none\" stroke=\"#000000\" d=\"M187.9056,-174.9882C201.8546,-177.5176 221.6922,-181.2119 239,-184.7982 240.7168,-185.1539 242.4736,-185.5249 244.2467,-185.9051\"/>\n<polygon fill=\"#000000\" stroke=\"#000000\" points=\"243.8957,-189.4113 254.4137,-188.1372 245.3969,-182.5741 243.8957,-189.4113\"/>\n<text text-anchor=\"middle\" x=\"221\" y=\"-188.5982\" font-family=\"Times,serif\" font-size=\"14.00\" fill=\"#000000\">g</text>\n</g>\n<!-- 12 -->\n<g id=\"node13\" class=\"node\">\n<title>12</title>\n<ellipse fill=\"none\" stroke=\"#000000\" cx=\"361.3945\" cy=\"-116.7982\" rx=\"20.5982\" ry=\"20.5982\"/>\n<text text-anchor=\"middle\" x=\"361.3945\" y=\"-113.0982\" font-family=\"Times,serif\" font-size=\"14.00\" fill=\"#000000\">12</text>\n</g>\n<!-- 8&#45;&gt;12 -->\n<g id=\"edge13\" class=\"edge\">\n<title>8&#45;&gt;12</title>\n<path fill=\"none\" stroke=\"#000000\" d=\"M239.1431,-126.4507C260.0053,-124.892 295.2793,-122.2278 325.5963,-119.7982 327.1117,-119.6767 328.663,-119.5512 330.2297,-119.4235\"/>\n<polygon fill=\"#000000\" stroke=\"#000000\" points=\"330.8964,-122.8804 340.5741,-118.5687 330.3198,-115.9042 330.8964,-122.8804\"/>\n<text text-anchor=\"middle\" x=\"278.7982\" y=\"-129.5982\" font-family=\"Times,serif\" font-size=\"14.00\" fill=\"#000000\">c</text>\n</g>\n<!-- 11 -->\n<g id=\"node12\" class=\"node\">\n<title>11</title>\n<ellipse fill=\"none\" stroke=\"#000000\" cx=\"278.7982\" cy=\"-79.7982\" rx=\"20.2975\" ry=\"20.2975\"/>\n<text text-anchor=\"middle\" x=\"278.7982\" y=\"-76.0982\" font-family=\"Times,serif\" font-size=\"14.00\" fill=\"#000000\">11</text>\n</g>\n<!-- 7&#45;&gt;11 -->\n<g id=\"edge12\" class=\"edge\">\n<title>7&#45;&gt;11</title>\n<path fill=\"none\" stroke=\"#000000\" d=\"M188.4561,-79.7982C204.8252,-79.7982 229.0533,-79.7982 248.2996,-79.7982\"/>\n<polygon fill=\"#000000\" stroke=\"#000000\" points=\"248.3979,-83.2983 258.3979,-79.7982 248.3979,-76.2983 248.3979,-83.2983\"/>\n<text text-anchor=\"middle\" x=\"221\" y=\"-83.5982\" font-family=\"Times,serif\" font-size=\"14.00\" fill=\"#000000\">u</text>\n</g>\n<!-- 13 -->\n<g id=\"node14\" class=\"node\">\n<title>13</title>\n<ellipse fill=\"none\" stroke=\"#000000\" cx=\"278.7982\" cy=\"-20.7982\" rx=\"20.5982\" ry=\"20.5982\"/>\n<text text-anchor=\"middle\" x=\"278.7982\" y=\"-17.0982\" font-family=\"Times,serif\" font-size=\"14.00\" fill=\"#000000\">13</text>\n</g>\n<!-- 9&#45;&gt;13 -->\n<g id=\"edge14\" class=\"edge\">\n<title>9&#45;&gt;13</title>\n<path fill=\"none\" stroke=\"#000000\" d=\"M188.4561,-24.1196C204.6206,-23.5253 228.4489,-22.6493 247.5756,-21.9461\"/>\n<polygon fill=\"#000000\" stroke=\"#000000\" points=\"247.7747,-25.4412 257.6393,-21.5761 247.5174,-18.4459 247.7747,-25.4412\"/>\n<text text-anchor=\"middle\" x=\"221\" y=\"-27.5982\" font-family=\"Times,serif\" font-size=\"14.00\" fill=\"#000000\">e</text>\n</g>\n<!-- 14 -->\n<g id=\"node15\" class=\"node\">\n<title>14</title>\n<ellipse fill=\"none\" stroke=\"#000000\" cx=\"444.9908\" cy=\"-116.7982\" rx=\"20.6302\" ry=\"20.6302\"/>\n<ellipse fill=\"none\" stroke=\"#000000\" cx=\"444.9908\" cy=\"-116.7982\" rx=\"24.5979\" ry=\"24.5979\"/>\n<text text-anchor=\"middle\" x=\"444.9908\" y=\"-113.0982\" font-family=\"Times,serif\" font-size=\"14.00\" fill=\"#000000\">14</text>\n</g>\n<!-- 10&#45;&gt;14 -->\n<g id=\"edge15\" class=\"edge\">\n<title>10&#45;&gt;14</title>\n<path fill=\"none\" stroke=\"#000000\" d=\"M301.445,-183.6527C322.4307,-174.216 354.491,-159.7097 382.1926,-146.7982 392.4006,-142.0403 403.5003,-136.77 413.4892,-131.9911\"/>\n<polygon fill=\"#000000\" stroke=\"#000000\" points=\"415.1571,-135.0729 422.6603,-127.5927 412.1301,-128.7613 415.1571,-135.0729\"/>\n<text text-anchor=\"middle\" x=\"361.3945\" y=\"-169.5982\" font-family=\"Times,serif\" font-size=\"14.00\" fill=\"#000000\">s</text>\n</g>\n<!-- 11&#45;&gt;12 -->\n<g id=\"edge16\" class=\"edge\">\n<title>11&#45;&gt;12</title>\n<path fill=\"none\" stroke=\"#000000\" d=\"M297.5405,-88.194C307.9523,-92.8581 321.1231,-98.7581 332.7948,-103.9866\"/>\n<polygon fill=\"#000000\" stroke=\"#000000\" points=\"331.596,-107.2847 342.1531,-108.1787 334.4578,-100.8964 331.596,-107.2847\"/>\n<text text-anchor=\"middle\" x=\"322.0963\" y=\"-104.5982\" font-family=\"Times,serif\" font-size=\"14.00\" fill=\"#000000\">s</text>\n</g>\n<!-- 12&#45;&gt;14 -->\n<g id=\"edge17\" class=\"edge\">\n<title>12&#45;&gt;14</title>\n<path fill=\"none\" stroke=\"#000000\" d=\"M382.4893,-116.7982C390.783,-116.7982 400.5317,-116.7982 409.8305,-116.7982\"/>\n<polygon fill=\"#000000\" stroke=\"#000000\" points=\"410.0365,-120.2983 420.0365,-116.7982 410.0365,-113.2983 410.0365,-120.2983\"/>\n<text text-anchor=\"middle\" x=\"401.1926\" y=\"-120.5982\" font-family=\"Times,serif\" font-size=\"14.00\" fill=\"#000000\">e</text>\n</g>\n<!-- 15 -->\n<g id=\"node16\" class=\"node\">\n<title>15</title>\n<ellipse fill=\"none\" stroke=\"#000000\" cx=\"361.3945\" cy=\"-50.7982\" rx=\"20.5982\" ry=\"20.5982\"/>\n<text text-anchor=\"middle\" x=\"361.3945\" y=\"-47.0982\" font-family=\"Times,serif\" font-size=\"14.00\" fill=\"#000000\">15</text>\n</g>\n<!-- 13&#45;&gt;15 -->\n<g id=\"edge18\" class=\"edge\">\n<title>13&#45;&gt;15</title>\n<path fill=\"none\" stroke=\"#000000\" d=\"M298.3723,-27.9077C308.482,-31.5797 321.0197,-36.1336 332.2435,-40.2102\"/>\n<polygon fill=\"#000000\" stroke=\"#000000\" points=\"331.0804,-43.5114 341.6746,-43.6356 333.4702,-36.9319 331.0804,-43.5114\"/>\n<text text-anchor=\"middle\" x=\"322.0963\" y=\"-41.5982\" font-family=\"Times,serif\" font-size=\"14.00\" fill=\"#000000\">e</text>\n</g>\n<!-- 15&#45;&gt;14 -->\n<g id=\"edge19\" class=\"edge\">\n<title>15&#45;&gt;14</title>\n<path fill=\"none\" stroke=\"#000000\" d=\"M377.9104,-63.8376C389.0738,-72.6513 404.0913,-84.5077 417.0868,-94.7677\"/>\n<polygon fill=\"#000000\" stroke=\"#000000\" points=\"415.2564,-97.7819 425.2739,-101.2315 419.594,-92.2878 415.2564,-97.7819\"/>\n<text text-anchor=\"middle\" x=\"401.1926\" y=\"-87.5982\" font-family=\"Times,serif\" font-size=\"14.00\" fill=\"#000000\">p</text>\n</g>\n</g>\n</svg>\n"
          },
          "metadata": {
            "tags": []
          },
          "execution_count": 37
        }
      ]
    },
    {
      "cell_type": "code",
      "metadata": {
        "id": "k3Z0ZLx9-Toj",
        "colab_type": "code",
        "outputId": "a3136c85-c529-4755-e2a3-919e1242b9db",
        "colab": {
          "base_uri": "https://localhost:8080/",
          "height": 34
        }
      },
      "source": [
        "pn.matches(nouns, \"dogs\")"
      ],
      "execution_count": 0,
      "outputs": [
        {
          "output_type": "execute_result",
          "data": {
            "text/plain": [
              "True"
            ]
          },
          "metadata": {
            "tags": []
          },
          "execution_count": 38
        }
      ]
    },
    {
      "cell_type": "code",
      "metadata": {
        "id": "Mg-NBfq4-Ton",
        "colab_type": "code",
        "outputId": "16f37f51-98fb-4ac7-e874-ae8f57ccfa94",
        "colab": {
          "base_uri": "https://localhost:8080/",
          "height": 34
        }
      },
      "source": [
        "pn.matches(nouns, \"mouses\")"
      ],
      "execution_count": 0,
      "outputs": [
        {
          "output_type": "execute_result",
          "data": {
            "text/plain": [
              "False"
            ]
          },
          "metadata": {
            "tags": []
          },
          "execution_count": 39
        }
      ]
    },
    {
      "cell_type": "code",
      "metadata": {
        "id": "E6pGhlwe-Tos",
        "colab_type": "code",
        "outputId": "ab289c8d-807f-400a-9f51-c4568016787e",
        "colab": {
          "base_uri": "https://localhost:8080/",
          "height": 90
        }
      },
      "source": [
        "pn.randgen(nouns)"
      ],
      "execution_count": 0,
      "outputs": [
        {
          "output_type": "execute_result",
          "data": {
            "text/plain": [
              "<vector Fst at 0x7fc15f405c38>"
            ],
            "image/svg+xml": "<?xml version=\"1.0\" encoding=\"UTF-8\" standalone=\"no\"?>\n<!DOCTYPE svg PUBLIC \"-//W3C//DTD SVG 1.1//EN\"\n \"http://www.w3.org/Graphics/SVG/1.1/DTD/svg11.dtd\">\n<!-- Generated by graphviz version 2.40.1 (20161225.0304)\n -->\n<!-- Title: FST Pages: 1 -->\n<svg width=\"418pt\" height=\"52pt\"\n viewBox=\"0.00 0.00 418.00 52.00\" xmlns=\"http://www.w3.org/2000/svg\" xmlns:xlink=\"http://www.w3.org/1999/xlink\">\n<g id=\"graph0\" class=\"graph\" transform=\"scale(1 1) rotate(0) translate(4 48)\">\n<title>FST</title>\n<polygon fill=\"#ffffff\" stroke=\"transparent\" points=\"-4,4 -4,-48 414,-48 414,4 -4,4\"/>\n<!-- 0 -->\n<g id=\"node1\" class=\"node\">\n<title>0</title>\n<ellipse fill=\"none\" stroke=\"#000000\" stroke-width=\"2\" cx=\"18\" cy=\"-22\" rx=\"18\" ry=\"18\"/>\n<text text-anchor=\"middle\" x=\"18\" y=\"-18.3\" font-family=\"Times,serif\" font-size=\"14.00\" fill=\"#000000\">0</text>\n</g>\n<!-- 1 -->\n<g id=\"node2\" class=\"node\">\n<title>1</title>\n<ellipse fill=\"none\" stroke=\"#000000\" cx=\"90\" cy=\"-22\" rx=\"18\" ry=\"18\"/>\n<text text-anchor=\"middle\" x=\"90\" y=\"-18.3\" font-family=\"Times,serif\" font-size=\"14.00\" fill=\"#000000\">1</text>\n</g>\n<!-- 0&#45;&gt;1 -->\n<g id=\"edge1\" class=\"edge\">\n<title>0&#45;&gt;1</title>\n<path fill=\"none\" stroke=\"#000000\" d=\"M36.1686,-22C43.869,-22 53.0257,-22 61.5834,-22\"/>\n<polygon fill=\"#000000\" stroke=\"#000000\" points=\"61.5868,-25.5001 71.5867,-22 61.5867,-18.5001 61.5868,-25.5001\"/>\n<text text-anchor=\"middle\" x=\"54\" y=\"-25.8\" font-family=\"Times,serif\" font-size=\"14.00\" fill=\"#000000\">s</text>\n</g>\n<!-- 2 -->\n<g id=\"node3\" class=\"node\">\n<title>2</title>\n<ellipse fill=\"none\" stroke=\"#000000\" cx=\"164\" cy=\"-22\" rx=\"18\" ry=\"18\"/>\n<text text-anchor=\"middle\" x=\"164\" y=\"-18.3\" font-family=\"Times,serif\" font-size=\"14.00\" fill=\"#000000\">2</text>\n</g>\n<!-- 1&#45;&gt;2 -->\n<g id=\"edge2\" class=\"edge\">\n<title>1&#45;&gt;2</title>\n<path fill=\"none\" stroke=\"#000000\" d=\"M108.2921,-22C116.5365,-22 126.4624,-22 135.6378,-22\"/>\n<polygon fill=\"#000000\" stroke=\"#000000\" points=\"135.9183,-25.5001 145.9183,-22 135.9182,-18.5001 135.9183,-25.5001\"/>\n<text text-anchor=\"middle\" x=\"127\" y=\"-25.8\" font-family=\"Times,serif\" font-size=\"14.00\" fill=\"#000000\">h</text>\n</g>\n<!-- 3 -->\n<g id=\"node4\" class=\"node\">\n<title>3</title>\n<ellipse fill=\"none\" stroke=\"#000000\" cx=\"237\" cy=\"-22\" rx=\"18\" ry=\"18\"/>\n<text text-anchor=\"middle\" x=\"237\" y=\"-18.3\" font-family=\"Times,serif\" font-size=\"14.00\" fill=\"#000000\">3</text>\n</g>\n<!-- 2&#45;&gt;3 -->\n<g id=\"edge3\" class=\"edge\">\n<title>2&#45;&gt;3</title>\n<path fill=\"none\" stroke=\"#000000\" d=\"M182.0449,-22C190.1172,-22 199.8236,-22 208.8183,-22\"/>\n<polygon fill=\"#000000\" stroke=\"#000000\" points=\"208.9097,-25.5001 218.9096,-22 208.9096,-18.5001 208.9097,-25.5001\"/>\n<text text-anchor=\"middle\" x=\"200.5\" y=\"-25.8\" font-family=\"Times,serif\" font-size=\"14.00\" fill=\"#000000\">e</text>\n</g>\n<!-- 4 -->\n<g id=\"node5\" class=\"node\">\n<title>4</title>\n<ellipse fill=\"none\" stroke=\"#000000\" cx=\"310\" cy=\"-22\" rx=\"18\" ry=\"18\"/>\n<text text-anchor=\"middle\" x=\"310\" y=\"-18.3\" font-family=\"Times,serif\" font-size=\"14.00\" fill=\"#000000\">4</text>\n</g>\n<!-- 3&#45;&gt;4 -->\n<g id=\"edge4\" class=\"edge\">\n<title>3&#45;&gt;4</title>\n<path fill=\"none\" stroke=\"#000000\" d=\"M255.0449,-22C263.1172,-22 272.8236,-22 281.8183,-22\"/>\n<polygon fill=\"#000000\" stroke=\"#000000\" points=\"281.9097,-25.5001 291.9096,-22 281.9096,-18.5001 281.9097,-25.5001\"/>\n<text text-anchor=\"middle\" x=\"273.5\" y=\"-25.8\" font-family=\"Times,serif\" font-size=\"14.00\" fill=\"#000000\">e</text>\n</g>\n<!-- 5 -->\n<g id=\"node6\" class=\"node\">\n<title>5</title>\n<ellipse fill=\"none\" stroke=\"#000000\" cx=\"388\" cy=\"-22\" rx=\"18\" ry=\"18\"/>\n<ellipse fill=\"none\" stroke=\"#000000\" cx=\"388\" cy=\"-22\" rx=\"22\" ry=\"22\"/>\n<text text-anchor=\"middle\" x=\"388\" y=\"-18.3\" font-family=\"Times,serif\" font-size=\"14.00\" fill=\"#000000\">5</text>\n</g>\n<!-- 4&#45;&gt;5 -->\n<g id=\"edge5\" class=\"edge\">\n<title>4&#45;&gt;5</title>\n<path fill=\"none\" stroke=\"#000000\" d=\"M328.0908,-22C336.2654,-22 346.1799,-22 355.5711,-22\"/>\n<polygon fill=\"#000000\" stroke=\"#000000\" points=\"355.831,-25.5001 365.8309,-22 355.8309,-18.5001 355.831,-25.5001\"/>\n<text text-anchor=\"middle\" x=\"347\" y=\"-25.8\" font-family=\"Times,serif\" font-size=\"14.00\" fill=\"#000000\">p</text>\n</g>\n</g>\n</svg>\n"
          },
          "metadata": {
            "tags": []
          },
          "execution_count": 40
        }
      ]
    },
    {
      "cell_type": "code",
      "metadata": {
        "id": "7YC3_SJJ-Tou",
        "colab_type": "code",
        "outputId": "2197e863-4971-40ba-8fcb-6c0b3544280f",
        "colab": {
          "base_uri": "https://localhost:8080/",
          "height": 34
        }
      },
      "source": [
        "pn.randgen(nouns).stringify()"
      ],
      "execution_count": 0,
      "outputs": [
        {
          "output_type": "execute_result",
          "data": {
            "text/plain": [
              "'dog'"
            ]
          },
          "metadata": {
            "tags": []
          },
          "execution_count": 41
        }
      ]
    },
    {
      "cell_type": "markdown",
      "metadata": {
        "id": "EX0eXGeJ-Toz",
        "colab_type": "text"
      },
      "source": [
        "#### Exercise: \n",
        "Create a FST that accepts Estonian nouns with at least 3 words and 3 inflections. The words are karu, laud, vahvel, and the inflections are nimetav (karu - laud - vahvel), omastav (karu - laua - vahvli) and kaasaütlev (karuga - lauaga - vahvliga). Try to reuse parts omastav when constructing kaasaütlev, instead of just listing all nine varints of the words. That is, it should be easy to extend this FSA to understand new inflections."
      ]
    },
    {
      "cell_type": "markdown",
      "metadata": {
        "id": "6mECczDC-To0",
        "colab_type": "text"
      },
      "source": [
        "## Transducers\n",
        "\n",
        "So far, we looked at acceptors. Transducers are like acceptors, but every arc has input and output symbols, instead of just input symbols. Note that by default, output symbols are equal to input symbols. So, actually every FSA is also an FST.\n",
        "\n",
        "A transducer arc is constucted using Pynini's transducer() (alias: t()) function. It takes two arguments: input and output symbols.\n"
      ]
    },
    {
      "cell_type": "code",
      "metadata": {
        "id": "GgVe9DmM-To0",
        "colab_type": "code",
        "outputId": "3b344cbb-7fdb-4589-b27a-f5ece26ff74b",
        "colab": {
          "base_uri": "https://localhost:8080/",
          "height": 90
        }
      },
      "source": [
        "pn.transducer(\"a\", \"b\")"
      ],
      "execution_count": 0,
      "outputs": [
        {
          "output_type": "execute_result",
          "data": {
            "text/plain": [
              "<vector Fst at 0x7fc15f405810>"
            ],
            "image/svg+xml": "<?xml version=\"1.0\" encoding=\"UTF-8\" standalone=\"no\"?>\n<!DOCTYPE svg PUBLIC \"-//W3C//DTD SVG 1.1//EN\"\n \"http://www.w3.org/Graphics/SVG/1.1/DTD/svg11.dtd\">\n<!-- Generated by graphviz version 2.40.1 (20161225.0304)\n -->\n<!-- Title: FST Pages: 1 -->\n<svg width=\"136pt\" height=\"52pt\"\n viewBox=\"0.00 0.00 136.00 52.00\" xmlns=\"http://www.w3.org/2000/svg\" xmlns:xlink=\"http://www.w3.org/1999/xlink\">\n<g id=\"graph0\" class=\"graph\" transform=\"scale(1 1) rotate(0) translate(4 48)\">\n<title>FST</title>\n<polygon fill=\"#ffffff\" stroke=\"transparent\" points=\"-4,4 -4,-48 132,-48 132,4 -4,4\"/>\n<!-- 0 -->\n<g id=\"node1\" class=\"node\">\n<title>0</title>\n<ellipse fill=\"none\" stroke=\"#000000\" stroke-width=\"2\" cx=\"18\" cy=\"-22\" rx=\"18\" ry=\"18\"/>\n<text text-anchor=\"middle\" x=\"18\" y=\"-18.3\" font-family=\"Times,serif\" font-size=\"14.00\" fill=\"#000000\">0</text>\n</g>\n<!-- 1 -->\n<g id=\"node2\" class=\"node\">\n<title>1</title>\n<ellipse fill=\"none\" stroke=\"#000000\" cx=\"106\" cy=\"-22\" rx=\"18\" ry=\"18\"/>\n<ellipse fill=\"none\" stroke=\"#000000\" cx=\"106\" cy=\"-22\" rx=\"22\" ry=\"22\"/>\n<text text-anchor=\"middle\" x=\"106\" y=\"-18.3\" font-family=\"Times,serif\" font-size=\"14.00\" fill=\"#000000\">1</text>\n</g>\n<!-- 0&#45;&gt;1 -->\n<g id=\"edge1\" class=\"edge\">\n<title>0&#45;&gt;1</title>\n<path fill=\"none\" stroke=\"#000000\" d=\"M36.2337,-22C47.0103,-22 60.9708,-22 73.5692,-22\"/>\n<polygon fill=\"#000000\" stroke=\"#000000\" points=\"73.7317,-25.5001 83.7317,-22 73.7317,-18.5001 73.7317,-25.5001\"/>\n<text text-anchor=\"middle\" x=\"60\" y=\"-25.8\" font-family=\"Times,serif\" font-size=\"14.00\" fill=\"#000000\">a:b</text>\n</g>\n</g>\n</svg>\n"
          },
          "metadata": {
            "tags": []
          },
          "execution_count": 42
        }
      ]
    },
    {
      "cell_type": "markdown",
      "metadata": {
        "id": "thFu4fOv-To_",
        "colab_type": "text"
      },
      "source": [
        "Lets's  construct a FST that accepts a string \"aabdd\" and changes it into \"aacdd\":"
      ]
    },
    {
      "cell_type": "code",
      "metadata": {
        "id": "dF0a3fOU-TpA",
        "colab_type": "code",
        "outputId": "b8ef585b-e487-4fa0-fedf-8b9f7c3c8d28",
        "colab": {
          "base_uri": "https://localhost:8080/",
          "height": 90
        }
      },
      "source": [
        "fst0 = (pn.a(\"aa\") + pn.t(\"b\", \"c\") + pn.a(\"dd\")).optimize()\n",
        "fst0"
      ],
      "execution_count": 0,
      "outputs": [
        {
          "output_type": "execute_result",
          "data": {
            "text/plain": [
              "<vector Fst at 0x7fc15f409880>"
            ],
            "image/svg+xml": "<?xml version=\"1.0\" encoding=\"UTF-8\" standalone=\"no\"?>\n<!DOCTYPE svg PUBLIC \"-//W3C//DTD SVG 1.1//EN\"\n \"http://www.w3.org/Graphics/SVG/1.1/DTD/svg11.dtd\">\n<!-- Generated by graphviz version 2.40.1 (20161225.0304)\n -->\n<!-- Title: FST Pages: 1 -->\n<svg width=\"470pt\" height=\"52pt\"\n viewBox=\"0.00 0.00 470.00 52.00\" xmlns=\"http://www.w3.org/2000/svg\" xmlns:xlink=\"http://www.w3.org/1999/xlink\">\n<g id=\"graph0\" class=\"graph\" transform=\"scale(1 1) rotate(0) translate(4 48)\">\n<title>FST</title>\n<polygon fill=\"#ffffff\" stroke=\"transparent\" points=\"-4,4 -4,-48 466,-48 466,4 -4,4\"/>\n<!-- 0 -->\n<g id=\"node1\" class=\"node\">\n<title>0</title>\n<ellipse fill=\"none\" stroke=\"#000000\" stroke-width=\"2\" cx=\"18\" cy=\"-22\" rx=\"18\" ry=\"18\"/>\n<text text-anchor=\"middle\" x=\"18\" y=\"-18.3\" font-family=\"Times,serif\" font-size=\"14.00\" fill=\"#000000\">0</text>\n</g>\n<!-- 1 -->\n<g id=\"node2\" class=\"node\">\n<title>1</title>\n<ellipse fill=\"none\" stroke=\"#000000\" cx=\"100\" cy=\"-22\" rx=\"18\" ry=\"18\"/>\n<text text-anchor=\"middle\" x=\"100\" y=\"-18.3\" font-family=\"Times,serif\" font-size=\"14.00\" fill=\"#000000\">1</text>\n</g>\n<!-- 0&#45;&gt;1 -->\n<g id=\"edge1\" class=\"edge\">\n<title>0&#45;&gt;1</title>\n<path fill=\"none\" stroke=\"#000000\" d=\"M36.1985,-22C46.6024,-22 59.8785,-22 71.6232,-22\"/>\n<polygon fill=\"#000000\" stroke=\"#000000\" points=\"71.8524,-25.5001 81.8524,-22 71.8524,-18.5001 71.8524,-25.5001\"/>\n<text text-anchor=\"middle\" x=\"59\" y=\"-25.8\" font-family=\"Times,serif\" font-size=\"14.00\" fill=\"#000000\">a:a</text>\n</g>\n<!-- 2 -->\n<g id=\"node3\" class=\"node\">\n<title>2</title>\n<ellipse fill=\"none\" stroke=\"#000000\" cx=\"182\" cy=\"-22\" rx=\"18\" ry=\"18\"/>\n<text text-anchor=\"middle\" x=\"182\" y=\"-18.3\" font-family=\"Times,serif\" font-size=\"14.00\" fill=\"#000000\">2</text>\n</g>\n<!-- 1&#45;&gt;2 -->\n<g id=\"edge2\" class=\"edge\">\n<title>1&#45;&gt;2</title>\n<path fill=\"none\" stroke=\"#000000\" d=\"M118.1985,-22C128.6024,-22 141.8785,-22 153.6232,-22\"/>\n<polygon fill=\"#000000\" stroke=\"#000000\" points=\"153.8524,-25.5001 163.8524,-22 153.8524,-18.5001 153.8524,-25.5001\"/>\n<text text-anchor=\"middle\" x=\"141\" y=\"-25.8\" font-family=\"Times,serif\" font-size=\"14.00\" fill=\"#000000\">a:a</text>\n</g>\n<!-- 3 -->\n<g id=\"node4\" class=\"node\">\n<title>3</title>\n<ellipse fill=\"none\" stroke=\"#000000\" cx=\"266\" cy=\"-22\" rx=\"18\" ry=\"18\"/>\n<text text-anchor=\"middle\" x=\"266\" y=\"-18.3\" font-family=\"Times,serif\" font-size=\"14.00\" fill=\"#000000\">3</text>\n</g>\n<!-- 2&#45;&gt;3 -->\n<g id=\"edge3\" class=\"edge\">\n<title>2&#45;&gt;3</title>\n<path fill=\"none\" stroke=\"#000000\" d=\"M200.2267,-22C211.1242,-22 225.2054,-22 237.5413,-22\"/>\n<polygon fill=\"#000000\" stroke=\"#000000\" points=\"237.8089,-25.5001 247.8088,-22 237.8088,-18.5001 237.8089,-25.5001\"/>\n<text text-anchor=\"middle\" x=\"224\" y=\"-25.8\" font-family=\"Times,serif\" font-size=\"14.00\" fill=\"#000000\">b:c</text>\n</g>\n<!-- 4 -->\n<g id=\"node5\" class=\"node\">\n<title>4</title>\n<ellipse fill=\"none\" stroke=\"#000000\" cx=\"351\" cy=\"-22\" rx=\"18\" ry=\"18\"/>\n<text text-anchor=\"middle\" x=\"351\" y=\"-18.3\" font-family=\"Times,serif\" font-size=\"14.00\" fill=\"#000000\">4</text>\n</g>\n<!-- 3&#45;&gt;4 -->\n<g id=\"edge4\" class=\"edge\">\n<title>3&#45;&gt;4</title>\n<path fill=\"none\" stroke=\"#000000\" d=\"M284.0263,-22C295.2957,-22 310.0476,-22 322.8373,-22\"/>\n<polygon fill=\"#000000\" stroke=\"#000000\" points=\"322.9997,-25.5001 332.9997,-22 322.9996,-18.5001 322.9997,-25.5001\"/>\n<text text-anchor=\"middle\" x=\"308.5\" y=\"-25.8\" font-family=\"Times,serif\" font-size=\"14.00\" fill=\"#000000\">d:d</text>\n</g>\n<!-- 5 -->\n<g id=\"node6\" class=\"node\">\n<title>5</title>\n<ellipse fill=\"none\" stroke=\"#000000\" cx=\"440\" cy=\"-22\" rx=\"18\" ry=\"18\"/>\n<ellipse fill=\"none\" stroke=\"#000000\" cx=\"440\" cy=\"-22\" rx=\"22\" ry=\"22\"/>\n<text text-anchor=\"middle\" x=\"440\" y=\"-18.3\" font-family=\"Times,serif\" font-size=\"14.00\" fill=\"#000000\">5</text>\n</g>\n<!-- 4&#45;&gt;5 -->\n<g id=\"edge5\" class=\"edge\">\n<title>4&#45;&gt;5</title>\n<path fill=\"none\" stroke=\"#000000\" d=\"M369.0105,-22C380.1524,-22 394.7778,-22 407.8566,-22\"/>\n<polygon fill=\"#000000\" stroke=\"#000000\" points=\"407.9179,-25.5001 417.9178,-22 407.9178,-18.5001 407.9179,-25.5001\"/>\n<text text-anchor=\"middle\" x=\"393.5\" y=\"-25.8\" font-family=\"Times,serif\" font-size=\"14.00\" fill=\"#000000\">d:d</text>\n</g>\n</g>\n</svg>\n"
          },
          "metadata": {
            "tags": []
          },
          "execution_count": 43
        }
      ]
    },
    {
      "cell_type": "markdown",
      "metadata": {
        "id": "QWm4jcE3-TpB",
        "colab_type": "text"
      },
      "source": [
        "Let's look at something more complicated. "
      ]
    },
    {
      "cell_type": "code",
      "metadata": {
        "id": "vR3JjxIa-TpC",
        "colab_type": "code",
        "outputId": "9830dc0a-63f3-42a0-ab58-8365ed7861b6",
        "colab": {
          "base_uri": "https://localhost:8080/",
          "height": 214
        }
      },
      "source": [
        "fst1 = (pn.t(\"aa\", \"b\").closure() + pn.u(pn.t(\"b\", \"a\"), pn.a(\"b\")) + pn.t(\"b\", \"\").closure()).optimize()\n",
        "fst1"
      ],
      "execution_count": 0,
      "outputs": [
        {
          "output_type": "execute_result",
          "data": {
            "text/plain": [
              "<vector Fst at 0x7fc15f409a08>"
            ],
            "image/svg+xml": "<?xml version=\"1.0\" encoding=\"UTF-8\" standalone=\"no\"?>\n<!DOCTYPE svg PUBLIC \"-//W3C//DTD SVG 1.1//EN\"\n \"http://www.w3.org/Graphics/SVG/1.1/DTD/svg11.dtd\">\n<!-- Generated by graphviz version 2.40.1 (20161225.0304)\n -->\n<!-- Title: FST Pages: 1 -->\n<svg width=\"199pt\" height=\"145pt\"\n viewBox=\"0.00 0.00 199.00 145.00\" xmlns=\"http://www.w3.org/2000/svg\" xmlns:xlink=\"http://www.w3.org/1999/xlink\">\n<g id=\"graph0\" class=\"graph\" transform=\"scale(1 1) rotate(0) translate(4 141)\">\n<title>FST</title>\n<polygon fill=\"#ffffff\" stroke=\"transparent\" points=\"-4,4 -4,-141 195,-141 195,4 -4,4\"/>\n<!-- 1 -->\n<g id=\"node1\" class=\"node\">\n<title>1</title>\n<ellipse fill=\"none\" stroke=\"#000000\" stroke-width=\"2\" cx=\"18\" cy=\"-68\" rx=\"18\" ry=\"18\"/>\n<text text-anchor=\"middle\" x=\"18\" y=\"-64.3\" font-family=\"Times,serif\" font-size=\"14.00\" fill=\"#000000\">1</text>\n</g>\n<!-- 0 -->\n<g id=\"node2\" class=\"node\">\n<title>0</title>\n<ellipse fill=\"none\" stroke=\"#000000\" cx=\"156\" cy=\"-119\" rx=\"18\" ry=\"18\"/>\n<text text-anchor=\"middle\" x=\"156\" y=\"-115.3\" font-family=\"Times,serif\" font-size=\"14.00\" fill=\"#000000\">0</text>\n</g>\n<!-- 1&#45;&gt;0 -->\n<g id=\"edge1\" class=\"edge\">\n<title>1&#45;&gt;0</title>\n<path fill=\"none\" stroke=\"#000000\" d=\"M28.2427,-82.84C34.0592,-90.0972 41.9769,-98.2679 51,-103 74.8573,-115.5118 105.6807,-118.9539 127.7496,-119.6034\"/>\n<polygon fill=\"#000000\" stroke=\"#000000\" points=\"127.7696,-123.1038 137.8114,-119.7254 127.8546,-116.1043 127.7696,-123.1038\"/>\n<text text-anchor=\"middle\" x=\"85\" y=\"-122.8\" font-family=\"Times,serif\" font-size=\"14.00\" fill=\"#000000\">a:b</text>\n</g>\n<!-- 2 -->\n<g id=\"node3\" class=\"node\">\n<title>2</title>\n<ellipse fill=\"none\" stroke=\"#000000\" cx=\"156\" cy=\"-22\" rx=\"18\" ry=\"18\"/>\n<ellipse fill=\"none\" stroke=\"#000000\" cx=\"156\" cy=\"-22\" rx=\"22\" ry=\"22\"/>\n<text text-anchor=\"middle\" x=\"156\" y=\"-18.3\" font-family=\"Times,serif\" font-size=\"14.00\" fill=\"#000000\">2</text>\n</g>\n<!-- 1&#45;&gt;2 -->\n<g id=\"edge2\" class=\"edge\">\n<title>1&#45;&gt;2</title>\n<path fill=\"none\" stroke=\"#000000\" d=\"M33.4073,-58.6046C38.8326,-55.5658 45.0607,-52.3721 51,-50 74.9402,-40.4387 103.2377,-33.1072 124.4208,-28.349\"/>\n<polygon fill=\"#000000\" stroke=\"#000000\" points=\"125.1708,-31.7678 134.1979,-26.2215 123.6824,-24.9279 125.1708,-31.7678\"/>\n<text text-anchor=\"middle\" x=\"85\" y=\"-53.8\" font-family=\"Times,serif\" font-size=\"14.00\" fill=\"#000000\">b:a</text>\n</g>\n<!-- 1&#45;&gt;2 -->\n<g id=\"edge3\" class=\"edge\">\n<title>1&#45;&gt;2</title>\n<path fill=\"none\" stroke=\"#000000\" d=\"M22.7504,-50.344C27.4645,-36.6583 36.1782,-18.6199 51,-10 73.8319,3.2783 104.1873,-2.1711 126.3856,-9.4849\"/>\n<polygon fill=\"#000000\" stroke=\"#000000\" points=\"125.3599,-12.8353 135.9545,-12.9159 127.7226,-6.246 125.3599,-12.8353\"/>\n<text text-anchor=\"middle\" x=\"85\" y=\"-13.8\" font-family=\"Times,serif\" font-size=\"14.00\" fill=\"#000000\">b:b</text>\n</g>\n<!-- 0&#45;&gt;1 -->\n<g id=\"edge4\" class=\"edge\">\n<title>0&#45;&gt;1</title>\n<path fill=\"none\" stroke=\"#000000\" d=\"M144.7996,-104.896C138.1155,-97.4754 128.9961,-88.9198 119,-84 96.2121,-72.7843 67.3514,-69.1073 46.322,-68.0459\"/>\n<polygon fill=\"#000000\" stroke=\"#000000\" points=\"46.2243,-64.5407 36.1124,-67.7032 45.9893,-71.5368 46.2243,-64.5407\"/>\n<text text-anchor=\"middle\" x=\"85\" y=\"-87.8\" font-family=\"Times,serif\" font-size=\"14.00\" fill=\"#000000\">a:&lt;epsilon&gt;</text>\n</g>\n<!-- 2&#45;&gt;2 -->\n<g id=\"edge5\" class=\"edge\">\n<title>2&#45;&gt;2</title>\n<path fill=\"none\" stroke=\"#000000\" d=\"M143.6953,-40.5156C140.9609,-51.5833 145.0625,-62 156,-62 163.3486,-62 167.6114,-57.2977 168.7883,-50.8551\"/>\n<polygon fill=\"#000000\" stroke=\"#000000\" points=\"172.2682,-50.3411 168.3047,-40.5156 165.2759,-50.6683 172.2682,-50.3411\"/>\n<text text-anchor=\"middle\" x=\"156\" y=\"-65.8\" font-family=\"Times,serif\" font-size=\"14.00\" fill=\"#000000\">b:&lt;epsilon&gt;</text>\n</g>\n</g>\n</svg>\n"
          },
          "metadata": {
            "tags": []
          },
          "execution_count": 44
        }
      ]
    },
    {
      "cell_type": "markdown",
      "metadata": {
        "id": "zX_0xlJu-TpF",
        "colab_type": "text"
      },
      "source": [
        "Let's test:"
      ]
    },
    {
      "cell_type": "code",
      "metadata": {
        "id": "fUn0DG7j-TpF",
        "colab_type": "code",
        "outputId": "17e65b2b-82fb-4050-8a8d-64d19f9f95be",
        "colab": {
          "base_uri": "https://localhost:8080/",
          "height": 90
        }
      },
      "source": [
        "\"b\" * fst1"
      ],
      "execution_count": 0,
      "outputs": [
        {
          "output_type": "execute_result",
          "data": {
            "text/plain": [
              "<vector Fst at 0x7fc15f405c00>"
            ],
            "image/svg+xml": "<?xml version=\"1.0\" encoding=\"UTF-8\" standalone=\"no\"?>\n<!DOCTYPE svg PUBLIC \"-//W3C//DTD SVG 1.1//EN\"\n \"http://www.w3.org/Graphics/SVG/1.1/DTD/svg11.dtd\">\n<!-- Generated by graphviz version 2.40.1 (20161225.0304)\n -->\n<!-- Title: FST Pages: 1 -->\n<svg width=\"137pt\" height=\"52pt\"\n viewBox=\"0.00 0.00 137.00 52.00\" xmlns=\"http://www.w3.org/2000/svg\" xmlns:xlink=\"http://www.w3.org/1999/xlink\">\n<g id=\"graph0\" class=\"graph\" transform=\"scale(1 1) rotate(0) translate(4 48)\">\n<title>FST</title>\n<polygon fill=\"#ffffff\" stroke=\"transparent\" points=\"-4,4 -4,-48 133,-48 133,4 -4,4\"/>\n<!-- 0 -->\n<g id=\"node1\" class=\"node\">\n<title>0</title>\n<ellipse fill=\"none\" stroke=\"#000000\" stroke-width=\"2\" cx=\"18\" cy=\"-22\" rx=\"18\" ry=\"18\"/>\n<text text-anchor=\"middle\" x=\"18\" y=\"-18.3\" font-family=\"Times,serif\" font-size=\"14.00\" fill=\"#000000\">0</text>\n</g>\n<!-- 1 -->\n<g id=\"node2\" class=\"node\">\n<title>1</title>\n<ellipse fill=\"none\" stroke=\"#000000\" cx=\"107\" cy=\"-22\" rx=\"18\" ry=\"18\"/>\n<ellipse fill=\"none\" stroke=\"#000000\" cx=\"107\" cy=\"-22\" rx=\"22\" ry=\"22\"/>\n<text text-anchor=\"middle\" x=\"107\" y=\"-18.3\" font-family=\"Times,serif\" font-size=\"14.00\" fill=\"#000000\">1</text>\n</g>\n<!-- 0&#45;&gt;1 -->\n<g id=\"edge1\" class=\"edge\">\n<title>0&#45;&gt;1</title>\n<path fill=\"none\" stroke=\"#000000\" d=\"M36.0105,-22C47.1524,-22 61.7778,-22 74.8566,-22\"/>\n<polygon fill=\"#000000\" stroke=\"#000000\" points=\"74.9179,-25.5001 84.9178,-22 74.9178,-18.5001 74.9179,-25.5001\"/>\n<text text-anchor=\"middle\" x=\"60.5\" y=\"-25.8\" font-family=\"Times,serif\" font-size=\"14.00\" fill=\"#000000\">b:a</text>\n</g>\n<!-- 0&#45;&gt;1 -->\n<g id=\"edge2\" class=\"edge\">\n<title>0&#45;&gt;1</title>\n<path fill=\"none\" stroke=\"#000000\" d=\"M32.7129,-11.3344C38.1808,-7.9798 44.6133,-4.7072 51,-3 60.3232,-.5078 70.35,-2.4075 79.3066,-5.8099\"/>\n<polygon fill=\"#000000\" stroke=\"#000000\" points=\"77.9659,-9.0445 88.5216,-9.9548 80.8375,-2.6606 77.9659,-9.0445\"/>\n<text text-anchor=\"middle\" x=\"60.5\" y=\"-6.8\" font-family=\"Times,serif\" font-size=\"14.00\" fill=\"#000000\">b:b</text>\n</g>\n</g>\n</svg>\n"
          },
          "metadata": {
            "tags": []
          },
          "execution_count": 45
        }
      ]
    },
    {
      "cell_type": "markdown",
      "metadata": {
        "id": "WyAO_4T1-TpI",
        "colab_type": "text"
      },
      "source": [
        "We saw that the result of composing a string \"b\" with the FST is actually ambiguous: there are two paths, one resulting in output \"a\" and the other one in \"b\". This is because the FST is non-deterministic: it has to arcs from state 1 to state 2, both with input \"b\". The ambiguous result is conveniently represented as an FST.\n",
        "\n",
        "To get the possible outputs as strings, use the paths() method of the resulting FST. Each element in the iterator that is returned by paths() includes three items: input, output, and weight."
      ]
    },
    {
      "cell_type": "code",
      "metadata": {
        "id": "vBGxcs98-TpJ",
        "colab_type": "code",
        "outputId": "7f154764-79cd-4543-b70a-b203ab6e6045",
        "colab": {
          "base_uri": "https://localhost:8080/",
          "height": 51
        }
      },
      "source": [
        "list((\"b\" * fst1).paths())"
      ],
      "execution_count": 0,
      "outputs": [
        {
          "output_type": "execute_result",
          "data": {
            "text/plain": [
              "[('b', 'a', <tropical Weight 0 at 0x7fc15f403390>),\n",
              " ('b', 'b', <tropical Weight 0 at 0x7fc15f403410>)]"
            ]
          },
          "metadata": {
            "tags": []
          },
          "execution_count": 46
        }
      ]
    },
    {
      "cell_type": "markdown",
      "metadata": {
        "id": "DLESJCs_-TpK",
        "colab_type": "text"
      },
      "source": [
        "If we only need the output, we can use the following list comprehension:"
      ]
    },
    {
      "cell_type": "code",
      "metadata": {
        "id": "rARmAztl-TpL",
        "colab_type": "code",
        "outputId": "e468788c-5671-413a-fbc9-3f02c8a03f7f",
        "colab": {
          "base_uri": "https://localhost:8080/",
          "height": 34
        }
      },
      "source": [
        "[p[1] for p in (\"b\" * fst1).paths()]"
      ],
      "execution_count": 0,
      "outputs": [
        {
          "output_type": "execute_result",
          "data": {
            "text/plain": [
              "['a', 'b']"
            ]
          },
          "metadata": {
            "tags": []
          },
          "execution_count": 47
        }
      ]
    },
    {
      "cell_type": "markdown",
      "metadata": {
        "id": "m-3fg_lG-TpN",
        "colab_type": "text"
      },
      "source": [
        "We can actually define a quick function that does this:"
      ]
    },
    {
      "cell_type": "code",
      "metadata": {
        "id": "nYFQlnZU-TpN",
        "colab_type": "code",
        "outputId": "acea2388-2a2e-4df6-a39c-9802776df157",
        "colab": {
          "base_uri": "https://localhost:8080/",
          "height": 34
        }
      },
      "source": [
        "def all_paths(fst):\n",
        "    return [p[1] for p in fst.paths()]\n",
        "\n",
        "all_paths(\"b\" * fst1)"
      ],
      "execution_count": 0,
      "outputs": [
        {
          "output_type": "execute_result",
          "data": {
            "text/plain": [
              "['a', 'b']"
            ]
          },
          "metadata": {
            "tags": []
          },
          "execution_count": 48
        }
      ]
    },
    {
      "cell_type": "markdown",
      "metadata": {
        "id": "U-Y-rEz--TpQ",
        "colab_type": "text"
      },
      "source": [
        "Let's play some more with this FST:"
      ]
    },
    {
      "cell_type": "code",
      "metadata": {
        "scrolled": true,
        "id": "32Ghw93_-TpQ",
        "colab_type": "code",
        "outputId": "76ba6e3e-24b4-43e6-bb7f-c56df6dfec78",
        "colab": {
          "base_uri": "https://localhost:8080/",
          "height": 77
        }
      },
      "source": [
        "(\"aabbbb\" * fst1)"
      ],
      "execution_count": 0,
      "outputs": [
        {
          "output_type": "execute_result",
          "data": {
            "text/plain": [
              "<vector Fst at 0x7fc15f409d50>"
            ],
            "image/svg+xml": "<?xml version=\"1.0\" encoding=\"UTF-8\" standalone=\"no\"?>\n<!DOCTYPE svg PUBLIC \"-//W3C//DTD SVG 1.1//EN\"\n \"http://www.w3.org/Graphics/SVG/1.1/DTD/svg11.dtd\">\n<!-- Generated by graphviz version 2.40.1 (20161225.0304)\n -->\n<!-- Title: FST Pages: 1 -->\n<svg width=\"612pt\" height=\"42pt\"\n viewBox=\"0.00 0.00 612.00 41.71\" xmlns=\"http://www.w3.org/2000/svg\" xmlns:xlink=\"http://www.w3.org/1999/xlink\">\n<g id=\"graph0\" class=\"graph\" transform=\"scale(.8021 .8021) rotate(0) translate(4 48)\">\n<title>FST</title>\n<polygon fill=\"#ffffff\" stroke=\"transparent\" points=\"-4,4 -4,-48 759,-48 759,4 -4,4\"/>\n<!-- 0 -->\n<g id=\"node1\" class=\"node\">\n<title>0</title>\n<ellipse fill=\"none\" stroke=\"#000000\" stroke-width=\"2\" cx=\"18\" cy=\"-22\" rx=\"18\" ry=\"18\"/>\n<text text-anchor=\"middle\" x=\"18\" y=\"-18.3\" font-family=\"Times,serif\" font-size=\"14.00\" fill=\"#000000\">0</text>\n</g>\n<!-- 1 -->\n<g id=\"node2\" class=\"node\">\n<title>1</title>\n<ellipse fill=\"none\" stroke=\"#000000\" cx=\"102\" cy=\"-22\" rx=\"18\" ry=\"18\"/>\n<text text-anchor=\"middle\" x=\"102\" y=\"-18.3\" font-family=\"Times,serif\" font-size=\"14.00\" fill=\"#000000\">1</text>\n</g>\n<!-- 0&#45;&gt;1 -->\n<g id=\"edge1\" class=\"edge\">\n<title>0&#45;&gt;1</title>\n<path fill=\"none\" stroke=\"#000000\" d=\"M36.2267,-22C47.1242,-22 61.2054,-22 73.5413,-22\"/>\n<polygon fill=\"#000000\" stroke=\"#000000\" points=\"73.8089,-25.5001 83.8088,-22 73.8088,-18.5001 73.8089,-25.5001\"/>\n<text text-anchor=\"middle\" x=\"60\" y=\"-25.8\" font-family=\"Times,serif\" font-size=\"14.00\" fill=\"#000000\">a:b</text>\n</g>\n<!-- 2 -->\n<g id=\"node3\" class=\"node\">\n<title>2</title>\n<ellipse fill=\"none\" stroke=\"#000000\" cx=\"236\" cy=\"-22\" rx=\"18\" ry=\"18\"/>\n<text text-anchor=\"middle\" x=\"236\" y=\"-18.3\" font-family=\"Times,serif\" font-size=\"14.00\" fill=\"#000000\">2</text>\n</g>\n<!-- 1&#45;&gt;2 -->\n<g id=\"edge2\" class=\"edge\">\n<title>1&#45;&gt;2</title>\n<path fill=\"none\" stroke=\"#000000\" d=\"M120.0718,-22C142.5497,-22 181.1826,-22 207.6252,-22\"/>\n<polygon fill=\"#000000\" stroke=\"#000000\" points=\"207.7866,-25.5001 217.7865,-22 207.7865,-18.5001 207.7866,-25.5001\"/>\n<text text-anchor=\"middle\" x=\"169\" y=\"-25.8\" font-family=\"Times,serif\" font-size=\"14.00\" fill=\"#000000\">a:&lt;epsilon&gt;</text>\n</g>\n<!-- 3 -->\n<g id=\"node4\" class=\"node\">\n<title>3</title>\n<ellipse fill=\"none\" stroke=\"#000000\" cx=\"321\" cy=\"-22\" rx=\"18\" ry=\"18\"/>\n<text text-anchor=\"middle\" x=\"321\" y=\"-18.3\" font-family=\"Times,serif\" font-size=\"14.00\" fill=\"#000000\">3</text>\n</g>\n<!-- 2&#45;&gt;3 -->\n<g id=\"edge3\" class=\"edge\">\n<title>2&#45;&gt;3</title>\n<path fill=\"none\" stroke=\"#000000\" d=\"M254.0263,-22C265.2957,-22 280.0476,-22 292.8373,-22\"/>\n<polygon fill=\"#000000\" stroke=\"#000000\" points=\"292.9997,-25.5001 302.9997,-22 292.9996,-18.5001 292.9997,-25.5001\"/>\n<text text-anchor=\"middle\" x=\"278.5\" y=\"-25.8\" font-family=\"Times,serif\" font-size=\"14.00\" fill=\"#000000\">b:a</text>\n</g>\n<!-- 2&#45;&gt;3 -->\n<g id=\"edge4\" class=\"edge\">\n<title>2&#45;&gt;3</title>\n<path fill=\"none\" stroke=\"#000000\" d=\"M250.7129,-11.3344C256.1808,-7.9798 262.6133,-4.7072 269,-3 277.158,-.8193 279.842,-.8193 288,-3 291.1933,-3.8536 294.3981,-5.0986 297.4881,-6.5494\"/>\n<polygon fill=\"#000000\" stroke=\"#000000\" points=\"295.83,-9.6318 306.2871,-11.3344 299.1742,-3.4822 295.83,-9.6318\"/>\n<text text-anchor=\"middle\" x=\"278.5\" y=\"-6.8\" font-family=\"Times,serif\" font-size=\"14.00\" fill=\"#000000\">b:b</text>\n</g>\n<!-- 4 -->\n<g id=\"node5\" class=\"node\">\n<title>4</title>\n<ellipse fill=\"none\" stroke=\"#000000\" cx=\"457\" cy=\"-22\" rx=\"18\" ry=\"18\"/>\n<text text-anchor=\"middle\" x=\"457\" y=\"-18.3\" font-family=\"Times,serif\" font-size=\"14.00\" fill=\"#000000\">4</text>\n</g>\n<!-- 3&#45;&gt;4 -->\n<g id=\"edge5\" class=\"edge\">\n<title>3&#45;&gt;4</title>\n<path fill=\"none\" stroke=\"#000000\" d=\"M339.0597,-22C361.9217,-22 401.5686,-22 428.5239,-22\"/>\n<polygon fill=\"#000000\" stroke=\"#000000\" points=\"428.8656,-25.5001 438.8656,-22 428.8655,-18.5001 428.8656,-25.5001\"/>\n<text text-anchor=\"middle\" x=\"389\" y=\"-25.8\" font-family=\"Times,serif\" font-size=\"14.00\" fill=\"#000000\">b:&lt;epsilon&gt;</text>\n</g>\n<!-- 5 -->\n<g id=\"node6\" class=\"node\">\n<title>5</title>\n<ellipse fill=\"none\" stroke=\"#000000\" cx=\"593\" cy=\"-22\" rx=\"18\" ry=\"18\"/>\n<text text-anchor=\"middle\" x=\"593\" y=\"-18.3\" font-family=\"Times,serif\" font-size=\"14.00\" fill=\"#000000\">5</text>\n</g>\n<!-- 4&#45;&gt;5 -->\n<g id=\"edge6\" class=\"edge\">\n<title>4&#45;&gt;5</title>\n<path fill=\"none\" stroke=\"#000000\" d=\"M475.0597,-22C497.9217,-22 537.5686,-22 564.5239,-22\"/>\n<polygon fill=\"#000000\" stroke=\"#000000\" points=\"564.8656,-25.5001 574.8656,-22 564.8655,-18.5001 564.8656,-25.5001\"/>\n<text text-anchor=\"middle\" x=\"525\" y=\"-25.8\" font-family=\"Times,serif\" font-size=\"14.00\" fill=\"#000000\">b:&lt;epsilon&gt;</text>\n</g>\n<!-- 6 -->\n<g id=\"node7\" class=\"node\">\n<title>6</title>\n<ellipse fill=\"none\" stroke=\"#000000\" cx=\"733\" cy=\"-22\" rx=\"18\" ry=\"18\"/>\n<ellipse fill=\"none\" stroke=\"#000000\" cx=\"733\" cy=\"-22\" rx=\"22\" ry=\"22\"/>\n<text text-anchor=\"middle\" x=\"733\" y=\"-18.3\" font-family=\"Times,serif\" font-size=\"14.00\" fill=\"#000000\">6</text>\n</g>\n<!-- 5&#45;&gt;6 -->\n<g id=\"edge7\" class=\"edge\">\n<title>5&#45;&gt;6</title>\n<path fill=\"none\" stroke=\"#000000\" d=\"M611.0159,-22C633.6738,-22 672.9785,-22 700.8437,-22\"/>\n<polygon fill=\"#000000\" stroke=\"#000000\" points=\"700.9047,-25.5001 710.9047,-22 700.9047,-18.5001 700.9047,-25.5001\"/>\n<text text-anchor=\"middle\" x=\"661\" y=\"-25.8\" font-family=\"Times,serif\" font-size=\"14.00\" fill=\"#000000\">b:&lt;epsilon&gt;</text>\n</g>\n</g>\n</svg>\n"
          },
          "metadata": {
            "tags": []
          },
          "execution_count": 49
        }
      ]
    },
    {
      "cell_type": "code",
      "metadata": {
        "id": "o7Jd4zgj-TpS",
        "colab_type": "code",
        "outputId": "e5cd4b68-1823-470e-dc77-1640173559aa",
        "colab": {
          "base_uri": "https://localhost:8080/",
          "height": 34
        }
      },
      "source": [
        "all_paths(\"aabbbb\" * fst1)"
      ],
      "execution_count": 0,
      "outputs": [
        {
          "output_type": "execute_result",
          "data": {
            "text/plain": [
              "['ba', 'bb']"
            ]
          },
          "metadata": {
            "tags": []
          },
          "execution_count": 50
        }
      ]
    },
    {
      "cell_type": "markdown",
      "metadata": {
        "id": "z6ZpmRCj-TpT",
        "colab_type": "text"
      },
      "source": [
        "We learned in the lecture that FST can be inverted. The inversion of a transducer switches the input and output labels:"
      ]
    },
    {
      "cell_type": "code",
      "metadata": {
        "id": "qe6zY-7k-TpW",
        "colab_type": "code",
        "outputId": "5872c969-0a51-4493-8ed4-b966f8e1e38b",
        "colab": {
          "base_uri": "https://localhost:8080/",
          "height": 214
        }
      },
      "source": [
        "fst1_invert = pn.invert(fst1)\n",
        "fst1_invert"
      ],
      "execution_count": 0,
      "outputs": [
        {
          "output_type": "execute_result",
          "data": {
            "text/plain": [
              "<vector Fst at 0x7fc15f4098f0>"
            ],
            "image/svg+xml": "<?xml version=\"1.0\" encoding=\"UTF-8\" standalone=\"no\"?>\n<!DOCTYPE svg PUBLIC \"-//W3C//DTD SVG 1.1//EN\"\n \"http://www.w3.org/Graphics/SVG/1.1/DTD/svg11.dtd\">\n<!-- Generated by graphviz version 2.40.1 (20161225.0304)\n -->\n<!-- Title: FST Pages: 1 -->\n<svg width=\"199pt\" height=\"145pt\"\n viewBox=\"0.00 0.00 199.00 145.00\" xmlns=\"http://www.w3.org/2000/svg\" xmlns:xlink=\"http://www.w3.org/1999/xlink\">\n<g id=\"graph0\" class=\"graph\" transform=\"scale(1 1) rotate(0) translate(4 141)\">\n<title>FST</title>\n<polygon fill=\"#ffffff\" stroke=\"transparent\" points=\"-4,4 -4,-141 195,-141 195,4 -4,4\"/>\n<!-- 1 -->\n<g id=\"node1\" class=\"node\">\n<title>1</title>\n<ellipse fill=\"none\" stroke=\"#000000\" stroke-width=\"2\" cx=\"18\" cy=\"-68\" rx=\"18\" ry=\"18\"/>\n<text text-anchor=\"middle\" x=\"18\" y=\"-64.3\" font-family=\"Times,serif\" font-size=\"14.00\" fill=\"#000000\">1</text>\n</g>\n<!-- 0 -->\n<g id=\"node2\" class=\"node\">\n<title>0</title>\n<ellipse fill=\"none\" stroke=\"#000000\" cx=\"156\" cy=\"-119\" rx=\"18\" ry=\"18\"/>\n<text text-anchor=\"middle\" x=\"156\" y=\"-115.3\" font-family=\"Times,serif\" font-size=\"14.00\" fill=\"#000000\">0</text>\n</g>\n<!-- 1&#45;&gt;0 -->\n<g id=\"edge1\" class=\"edge\">\n<title>1&#45;&gt;0</title>\n<path fill=\"none\" stroke=\"#000000\" d=\"M28.2427,-82.84C34.0592,-90.0972 41.9769,-98.2679 51,-103 74.8573,-115.5118 105.6807,-118.9539 127.7496,-119.6034\"/>\n<polygon fill=\"#000000\" stroke=\"#000000\" points=\"127.7696,-123.1038 137.8114,-119.7254 127.8546,-116.1043 127.7696,-123.1038\"/>\n<text text-anchor=\"middle\" x=\"85\" y=\"-122.8\" font-family=\"Times,serif\" font-size=\"14.00\" fill=\"#000000\">b:a</text>\n</g>\n<!-- 2 -->\n<g id=\"node3\" class=\"node\">\n<title>2</title>\n<ellipse fill=\"none\" stroke=\"#000000\" cx=\"156\" cy=\"-22\" rx=\"18\" ry=\"18\"/>\n<ellipse fill=\"none\" stroke=\"#000000\" cx=\"156\" cy=\"-22\" rx=\"22\" ry=\"22\"/>\n<text text-anchor=\"middle\" x=\"156\" y=\"-18.3\" font-family=\"Times,serif\" font-size=\"14.00\" fill=\"#000000\">2</text>\n</g>\n<!-- 1&#45;&gt;2 -->\n<g id=\"edge2\" class=\"edge\">\n<title>1&#45;&gt;2</title>\n<path fill=\"none\" stroke=\"#000000\" d=\"M33.4073,-58.6046C38.8326,-55.5658 45.0607,-52.3721 51,-50 74.9402,-40.4387 103.2377,-33.1072 124.4208,-28.349\"/>\n<polygon fill=\"#000000\" stroke=\"#000000\" points=\"125.1708,-31.7678 134.1979,-26.2215 123.6824,-24.9279 125.1708,-31.7678\"/>\n<text text-anchor=\"middle\" x=\"85\" y=\"-53.8\" font-family=\"Times,serif\" font-size=\"14.00\" fill=\"#000000\">a:b</text>\n</g>\n<!-- 1&#45;&gt;2 -->\n<g id=\"edge3\" class=\"edge\">\n<title>1&#45;&gt;2</title>\n<path fill=\"none\" stroke=\"#000000\" d=\"M22.7504,-50.344C27.4645,-36.6583 36.1782,-18.6199 51,-10 73.8319,3.2783 104.1873,-2.1711 126.3856,-9.4849\"/>\n<polygon fill=\"#000000\" stroke=\"#000000\" points=\"125.3599,-12.8353 135.9545,-12.9159 127.7226,-6.246 125.3599,-12.8353\"/>\n<text text-anchor=\"middle\" x=\"85\" y=\"-13.8\" font-family=\"Times,serif\" font-size=\"14.00\" fill=\"#000000\">b:b</text>\n</g>\n<!-- 0&#45;&gt;1 -->\n<g id=\"edge4\" class=\"edge\">\n<title>0&#45;&gt;1</title>\n<path fill=\"none\" stroke=\"#000000\" d=\"M144.7996,-104.896C138.1155,-97.4754 128.9961,-88.9198 119,-84 96.2121,-72.7843 67.3514,-69.1073 46.322,-68.0459\"/>\n<polygon fill=\"#000000\" stroke=\"#000000\" points=\"46.2243,-64.5407 36.1124,-67.7032 45.9893,-71.5368 46.2243,-64.5407\"/>\n<text text-anchor=\"middle\" x=\"85\" y=\"-87.8\" font-family=\"Times,serif\" font-size=\"14.00\" fill=\"#000000\">&lt;epsilon&gt;:a</text>\n</g>\n<!-- 2&#45;&gt;2 -->\n<g id=\"edge5\" class=\"edge\">\n<title>2&#45;&gt;2</title>\n<path fill=\"none\" stroke=\"#000000\" d=\"M143.6953,-40.5156C140.9609,-51.5833 145.0625,-62 156,-62 163.3486,-62 167.6114,-57.2977 168.7883,-50.8551\"/>\n<polygon fill=\"#000000\" stroke=\"#000000\" points=\"172.2682,-50.3411 168.3047,-40.5156 165.2759,-50.6683 172.2682,-50.3411\"/>\n<text text-anchor=\"middle\" x=\"156\" y=\"-65.8\" font-family=\"Times,serif\" font-size=\"14.00\" fill=\"#000000\">&lt;epsilon&gt;:b</text>\n</g>\n</g>\n</svg>\n"
          },
          "metadata": {
            "tags": []
          },
          "execution_count": 51
        }
      ]
    },
    {
      "cell_type": "markdown",
      "metadata": {
        "id": "HvO8YQy7-TpZ",
        "colab_type": "text"
      },
      "source": [
        "The inverse FST should apply the inverse mapping. I.e., if the original FST converts from \"b\" to \"a\", then the inverse should convert from \"a\" to \"b\". Let's try:"
      ]
    },
    {
      "cell_type": "code",
      "metadata": {
        "id": "S4fY_ccI-TpZ",
        "colab_type": "code",
        "outputId": "a4c6f18b-087b-414a-bcb5-f453c53562a0",
        "colab": {
          "base_uri": "https://localhost:8080/",
          "height": 134
        }
      },
      "source": [
        "\"a\" * fst1_invert"
      ],
      "execution_count": 0,
      "outputs": [
        {
          "output_type": "execute_result",
          "data": {
            "text/plain": [
              "<vector Fst at 0x7fc15f409f48>"
            ],
            "image/svg+xml": "<?xml version=\"1.0\" encoding=\"UTF-8\" standalone=\"no\"?>\n<!DOCTYPE svg PUBLIC \"-//W3C//DTD SVG 1.1//EN\"\n \"http://www.w3.org/Graphics/SVG/1.1/DTD/svg11.dtd\">\n<!-- Generated by graphviz version 2.40.1 (20161225.0304)\n -->\n<!-- Title: FST Pages: 1 -->\n<svg width=\"149pt\" height=\"85pt\"\n viewBox=\"0.00 0.00 149.00 85.00\" xmlns=\"http://www.w3.org/2000/svg\" xmlns:xlink=\"http://www.w3.org/1999/xlink\">\n<g id=\"graph0\" class=\"graph\" transform=\"scale(1 1) rotate(0) translate(4 81)\">\n<title>FST</title>\n<polygon fill=\"#ffffff\" stroke=\"transparent\" points=\"-4,4 -4,-81 145,-81 145,4 -4,4\"/>\n<!-- 0 -->\n<g id=\"node1\" class=\"node\">\n<title>0</title>\n<ellipse fill=\"none\" stroke=\"#000000\" stroke-width=\"2\" cx=\"18\" cy=\"-22\" rx=\"18\" ry=\"18\"/>\n<text text-anchor=\"middle\" x=\"18\" y=\"-18.3\" font-family=\"Times,serif\" font-size=\"14.00\" fill=\"#000000\">0</text>\n</g>\n<!-- 1 -->\n<g id=\"node2\" class=\"node\">\n<title>1</title>\n<ellipse fill=\"none\" stroke=\"#000000\" cx=\"106\" cy=\"-22\" rx=\"18\" ry=\"18\"/>\n<ellipse fill=\"none\" stroke=\"#000000\" cx=\"106\" cy=\"-22\" rx=\"22\" ry=\"22\"/>\n<text text-anchor=\"middle\" x=\"106\" y=\"-18.3\" font-family=\"Times,serif\" font-size=\"14.00\" fill=\"#000000\">1</text>\n</g>\n<!-- 0&#45;&gt;1 -->\n<g id=\"edge1\" class=\"edge\">\n<title>0&#45;&gt;1</title>\n<path fill=\"none\" stroke=\"#000000\" d=\"M36.2337,-22C47.0103,-22 60.9708,-22 73.5692,-22\"/>\n<polygon fill=\"#000000\" stroke=\"#000000\" points=\"73.7317,-25.5001 83.7317,-22 73.7317,-18.5001 73.7317,-25.5001\"/>\n<text text-anchor=\"middle\" x=\"60\" y=\"-25.8\" font-family=\"Times,serif\" font-size=\"14.00\" fill=\"#000000\">a:b</text>\n</g>\n<!-- 1&#45;&gt;1 -->\n<g id=\"edge2\" class=\"edge\">\n<title>1&#45;&gt;1</title>\n<path fill=\"none\" stroke=\"#000000\" d=\"M97.6298,-42.5808C96.4716,-52.8447 99.2617,-62 106,-62 110.3167,-62 113.0131,-58.2427 114.0891,-52.8436\"/>\n<polygon fill=\"#000000\" stroke=\"#000000\" points=\"117.595,-52.6729 114.3702,-42.5808 110.5976,-52.4812 117.595,-52.6729\"/>\n<text text-anchor=\"middle\" x=\"106\" y=\"-65.8\" font-family=\"Times,serif\" font-size=\"14.00\" fill=\"#000000\">&lt;epsilon&gt;:b</text>\n</g>\n</g>\n</svg>\n"
          },
          "metadata": {
            "tags": []
          },
          "execution_count": 52
        }
      ]
    },
    {
      "cell_type": "code",
      "metadata": {
        "id": "uOnrPGbq-Tpc",
        "colab_type": "code",
        "outputId": "af6b02df-7647-4259-91b2-7cb81dfc07c5",
        "colab": {
          "base_uri": "https://localhost:8080/",
          "height": 367
        }
      },
      "source": [
        "all_paths(\"a\" * fst1_invert)"
      ],
      "execution_count": 0,
      "outputs": [
        {
          "output_type": "error",
          "ename": "FstArgError",
          "evalue": "ignored",
          "traceback": [
            "\u001b[0;31m---------------------------------------------------------------------------\u001b[0m",
            "\u001b[0;31mFstArgError\u001b[0m                               Traceback (most recent call last)",
            "\u001b[0;32m<ipython-input-53-20d3c6a80f54>\u001b[0m in \u001b[0;36m<module>\u001b[0;34m()\u001b[0m\n\u001b[0;32m----> 1\u001b[0;31m \u001b[0mall_paths\u001b[0m\u001b[0;34m(\u001b[0m\u001b[0;34m\"a\"\u001b[0m \u001b[0;34m*\u001b[0m \u001b[0mfst1_invert\u001b[0m\u001b[0;34m)\u001b[0m\u001b[0;34m\u001b[0m\u001b[0;34m\u001b[0m\u001b[0m\n\u001b[0m",
            "\u001b[0;32m<ipython-input-48-696974cda83f>\u001b[0m in \u001b[0;36mall_paths\u001b[0;34m(fst)\u001b[0m\n\u001b[1;32m      1\u001b[0m \u001b[0;32mdef\u001b[0m \u001b[0mall_paths\u001b[0m\u001b[0;34m(\u001b[0m\u001b[0mfst\u001b[0m\u001b[0;34m)\u001b[0m\u001b[0;34m:\u001b[0m\u001b[0;34m\u001b[0m\u001b[0;34m\u001b[0m\u001b[0m\n\u001b[0;32m----> 2\u001b[0;31m     \u001b[0;32mreturn\u001b[0m \u001b[0;34m[\u001b[0m\u001b[0mp\u001b[0m\u001b[0;34m[\u001b[0m\u001b[0;36m1\u001b[0m\u001b[0;34m]\u001b[0m \u001b[0;32mfor\u001b[0m \u001b[0mp\u001b[0m \u001b[0;32min\u001b[0m \u001b[0mfst\u001b[0m\u001b[0;34m.\u001b[0m\u001b[0mpaths\u001b[0m\u001b[0;34m(\u001b[0m\u001b[0;34m)\u001b[0m\u001b[0;34m]\u001b[0m\u001b[0;34m\u001b[0m\u001b[0;34m\u001b[0m\u001b[0m\n\u001b[0m\u001b[1;32m      3\u001b[0m \u001b[0;34m\u001b[0m\u001b[0m\n\u001b[1;32m      4\u001b[0m \u001b[0mall_paths\u001b[0m\u001b[0;34m(\u001b[0m\u001b[0;34m\"b\"\u001b[0m \u001b[0;34m*\u001b[0m \u001b[0mfst1\u001b[0m\u001b[0;34m)\u001b[0m\u001b[0;34m\u001b[0m\u001b[0;34m\u001b[0m\u001b[0m\n",
            "\u001b[0;32mpynini.pyx\u001b[0m in \u001b[0;36mpynini.Fst.paths\u001b[0;34m()\u001b[0m\n",
            "\u001b[0;32mpynini.pyx\u001b[0m in \u001b[0;36mpynini.Fst.paths\u001b[0;34m()\u001b[0m\n",
            "\u001b[0;32mpynini.pyx\u001b[0m in \u001b[0;36mpynini.StringPathIterator.__init__\u001b[0;34m()\u001b[0m\n",
            "\u001b[0;31mFstArgError\u001b[0m: FST is not acyclic"
          ]
        }
      ]
    },
    {
      "cell_type": "markdown",
      "metadata": {
        "id": "482DHeRe-Tpf",
        "colab_type": "text"
      },
      "source": [
        "We got an error, because there is an infinite number of outputs that correspond to input \"a\": b, bb, bbbbbbbb, etc, (Do you see why? Note that arc `<epsilon>:b` from the final state? We can take this arc any number of times). We can use the `pynini.shortestpath(fst, nshortest=10)` function to select 10 shortest paths from the resulting FST. Note that \"shortest\" here means shortest in the FST sense, i.e., the paths with the minimum *cost*. Since all our paths have a cost of zero (since we haven't added any weights to them), all paths have the same cost, and `shortestpath()` selects random paths:"
      ]
    },
    {
      "cell_type": "code",
      "metadata": {
        "id": "vznb78I6-Tpf",
        "colab_type": "code",
        "outputId": "abdd3de4-c009-40a6-a4b1-c729f4d5f825",
        "colab": {
          "base_uri": "https://localhost:8080/",
          "height": 187
        }
      },
      "source": [
        "list((pn.shortestpath(\"a\" * fst1_invert, nshortest=10)).paths())"
      ],
      "execution_count": 0,
      "outputs": [
        {
          "output_type": "execute_result",
          "data": {
            "text/plain": [
              "[('a', 'bbbbbbbb', <tropical Weight 0 at 0x7fc15f4035f0>),\n",
              " ('a', 'bbbbbbbbb', <tropical Weight 0 at 0x7fc15f4030b0>),\n",
              " ('a', 'bbbbbbbbbb', <tropical Weight 0 at 0x7fc15f403610>),\n",
              " ('a', 'bbbb', <tropical Weight 0 at 0x7fc15f4036d0>),\n",
              " ('a', 'bbbbb', <tropical Weight 0 at 0x7fc15f4035b0>),\n",
              " ('a', 'bbbbbb', <tropical Weight 0 at 0x7fc15f403570>),\n",
              " ('a', 'bbb', <tropical Weight 0 at 0x7fc15f4036b0>),\n",
              " ('a', 'bb', <tropical Weight 0 at 0x7fc15f403310>),\n",
              " ('a', 'bbbbbbb', <tropical Weight 0 at 0x7fc15f4035d0>),\n",
              " ('a', 'b', <tropical Weight 0 at 0x7fc15f4033b0>)]"
            ]
          },
          "metadata": {
            "tags": []
          },
          "execution_count": 54
        }
      ]
    },
    {
      "cell_type": "markdown",
      "metadata": {
        "id": "MZxRsdbI-Tph",
        "colab_type": "text"
      },
      "source": [
        "Let's make a new function top10_paths function actually do that:"
      ]
    },
    {
      "cell_type": "code",
      "metadata": {
        "id": "rQduhoyD-Tph",
        "colab_type": "code",
        "outputId": "83a027dc-7729-4035-c3dc-13068c7e5c67",
        "colab": {
          "base_uri": "https://localhost:8080/",
          "height": 187
        }
      },
      "source": [
        "def top10_paths(fst):\n",
        "    return [p[1] for p in pn.shortestpath(fst, nshortest=10).paths()]\n",
        "\n",
        "top10_paths(\"a\" * fst1_invert)"
      ],
      "execution_count": 0,
      "outputs": [
        {
          "output_type": "execute_result",
          "data": {
            "text/plain": [
              "['bbbbbbbb',\n",
              " 'bbbbbbbbb',\n",
              " 'bbbbbbbbbb',\n",
              " 'bbbb',\n",
              " 'bbbbb',\n",
              " 'bbbbbb',\n",
              " 'bbb',\n",
              " 'bb',\n",
              " 'bbbbbbb',\n",
              " 'b']"
            ]
          },
          "metadata": {
            "tags": []
          },
          "execution_count": 55
        }
      ]
    },
    {
      "cell_type": "markdown",
      "metadata": {
        "id": "_qEZXGlc-Tpj",
        "colab_type": "text"
      },
      "source": [
        "Let's now try do do some simple morphological analysis using FSTs.\n",
        "\n",
        "We look at the Estonian words ratsu, kõne, male. They all infect in the same way:\n",
        "  * Nominative: ratsu, kõne, male\n",
        "  * Genitive: ratsu, kõne, male\n",
        "  * Partitive: ratsut, kõnet, malet \n",
        "  * Illative: ratsusse, kõnesse, malesse\n",
        "  \n",
        "The FST should accept all the above words in the four inflections, and output the word in Nominative case, with a an appended infection marker, e.g.: ratsusse -> ratsu /ill/, kõnet -> kõne /p/.\n",
        "\n",
        "Let's first try to define the stems, and a transducer for nominative inflection:"
      ]
    },
    {
      "cell_type": "code",
      "metadata": {
        "id": "LhqjFWa_-Tpj",
        "colab_type": "code",
        "colab": {}
      },
      "source": [
        "stems = pn.union(\"ratsu\", \"kõne\", \"male\")\n",
        "nominative = stems + pn.t(\"\", \" /nom/\")"
      ],
      "execution_count": 0,
      "outputs": []
    },
    {
      "cell_type": "code",
      "metadata": {
        "id": "2Tg4QF2x-Tpl",
        "colab_type": "code",
        "outputId": "39fb9a59-fe9f-4a7c-de4e-d51beb24f741",
        "colab": {
          "base_uri": "https://localhost:8080/",
          "height": 34
        }
      },
      "source": [
        "top10_paths(\"ratsu\" * nominative)"
      ],
      "execution_count": 0,
      "outputs": [
        {
          "output_type": "execute_result",
          "data": {
            "text/plain": [
              "['ratsu /nom/']"
            ]
          },
          "metadata": {
            "tags": []
          },
          "execution_count": 57
        }
      ]
    },
    {
      "cell_type": "markdown",
      "metadata": {
        "id": "7VePEmmF-Tpn",
        "colab_type": "text"
      },
      "source": [
        "Let's also define transducers for other infections."
      ]
    },
    {
      "cell_type": "code",
      "metadata": {
        "id": "9txk6cOg-Tpn",
        "colab_type": "code",
        "colab": {}
      },
      "source": [
        "genitive = stems + pn.t(\"\", \" /gen/\")\n",
        "partitive = stems + pn.t(\"t\", \" /p/\")\n",
        "illative = stems + pn.t(\"sse\", \" /ill/\")\n",
        "\n",
        "wordform_to_analysis = pn.u(nominative, genitive, partitive, illative)"
      ],
      "execution_count": 0,
      "outputs": []
    },
    {
      "cell_type": "markdown",
      "metadata": {
        "id": "pyMzg3bZ-Tpp",
        "colab_type": "text"
      },
      "source": [
        "We can see that now the word `ratsu` has actually two ambiguous analyses, because `ratsu` can be either nominative or genitive -- both use the same word form:"
      ]
    },
    {
      "cell_type": "code",
      "metadata": {
        "id": "1GHEpAKG-Tpp",
        "colab_type": "code",
        "outputId": "9eb180a3-1524-4ddc-bfc2-20d13eb04fcd",
        "colab": {
          "base_uri": "https://localhost:8080/",
          "height": 34
        }
      },
      "source": [
        "top10_paths(\"ratsu\" * wordform_to_analysis)"
      ],
      "execution_count": 0,
      "outputs": [
        {
          "output_type": "execute_result",
          "data": {
            "text/plain": [
              "['ratsu /nom/', 'ratsu /gen/']"
            ]
          },
          "metadata": {
            "tags": []
          },
          "execution_count": 59
        }
      ]
    },
    {
      "cell_type": "code",
      "metadata": {
        "id": "6i4iwTfQ-Tpr",
        "colab_type": "code",
        "outputId": "c93b1df5-7920-4840-e430-112aaaaf20d1",
        "colab": {
          "base_uri": "https://localhost:8080/",
          "height": 34
        }
      },
      "source": [
        "top10_paths(\"kõnesse\" * wordform_to_analysis)[0]"
      ],
      "execution_count": 0,
      "outputs": [
        {
          "output_type": "execute_result",
          "data": {
            "text/plain": [
              "'kõne /ill/'"
            ]
          },
          "metadata": {
            "tags": []
          },
          "execution_count": 61
        }
      ]
    },
    {
      "cell_type": "markdown",
      "metadata": {
        "id": "SxYRuXCR-Tp3",
        "colab_type": "text"
      },
      "source": [
        "One of the nice things about FSTs is that they can be inverted, as we already learned. But it turns out that this is really useful in the context of morphological analysis. If we invert a FST that does morphological analysis, we get a FST that does morpholgical generation! Let's try:"
      ]
    },
    {
      "cell_type": "code",
      "metadata": {
        "id": "8pBUYZYk-Tp4",
        "colab_type": "code",
        "outputId": "9d453d42-4dfc-40e1-8333-feccd5c2d4c0",
        "colab": {
          "base_uri": "https://localhost:8080/",
          "height": 34
        }
      },
      "source": [
        "analysis_to_wordform = pn.invert(wordform_to_analysis)\n",
        "top10_paths(\"male /ill/\" * analysis_to_wordform)"
      ],
      "execution_count": 0,
      "outputs": [
        {
          "output_type": "execute_result",
          "data": {
            "text/plain": [
              "['malesse']"
            ]
          },
          "metadata": {
            "tags": []
          },
          "execution_count": 62
        }
      ]
    },
    {
      "cell_type": "markdown",
      "metadata": {
        "id": "FVVGt6XD-Tp6",
        "colab_type": "text"
      },
      "source": [
        "Now, we will learn about one of the most useful FST operations, the context-dependent rewrite operation.\n",
        "\n",
        "For example, the FST below transforms b to c when b occurs between a and d\n",
        "\n",
        "For example: abbabdc -> abbacdc\n",
        "\n",
        "The standard notation for this is: b → c/a___d"
      ]
    },
    {
      "cell_type": "code",
      "metadata": {
        "id": "DTuGZltx-Tp7",
        "colab_type": "code",
        "outputId": "e15ba76b-8f99-480e-9de5-b2a60d42e04d",
        "colab": {
          "base_uri": "https://localhost:8080/",
          "height": 314
        }
      },
      "source": [
        "rewrite_fst = pn.cdrewrite(pn.t(\"b\", \"c\"), \"a\", \"d\", pn.u(*\"abcd\").closure()).optimize()\n",
        "rewrite_fst"
      ],
      "execution_count": 0,
      "outputs": [
        {
          "output_type": "execute_result",
          "data": {
            "text/plain": [
              "<vector Fst at 0x7fc15e3351f0>"
            ],
            "image/svg+xml": "<?xml version=\"1.0\" encoding=\"UTF-8\" standalone=\"no\"?>\n<!DOCTYPE svg PUBLIC \"-//W3C//DTD SVG 1.1//EN\"\n \"http://www.w3.org/Graphics/SVG/1.1/DTD/svg11.dtd\">\n<!-- Generated by graphviz version 2.40.1 (20161225.0304)\n -->\n<!-- Title: FST Pages: 1 -->\n<svg width=\"238pt\" height=\"220pt\"\n viewBox=\"0.00 0.00 238.00 220.00\" xmlns=\"http://www.w3.org/2000/svg\" xmlns:xlink=\"http://www.w3.org/1999/xlink\">\n<g id=\"graph0\" class=\"graph\" transform=\"scale(1 1) rotate(0) translate(4 216)\">\n<title>FST</title>\n<polygon fill=\"#ffffff\" stroke=\"transparent\" points=\"-4,4 -4,-216 234,-216 234,4 -4,4\"/>\n<!-- 1 -->\n<g id=\"node1\" class=\"node\">\n<title>1</title>\n<ellipse fill=\"none\" stroke=\"#000000\" stroke-width=\"2\" cx=\"22\" cy=\"-91\" rx=\"18\" ry=\"18\"/>\n<ellipse fill=\"none\" stroke=\"#000000\" stroke-width=\"2\" cx=\"22\" cy=\"-91\" rx=\"22\" ry=\"22\"/>\n<text text-anchor=\"middle\" x=\"22\" y=\"-87.3\" font-family=\"Times,serif\" font-size=\"14.00\" fill=\"#000000\">1</text>\n</g>\n<!-- 1&#45;&gt;1 -->\n<g id=\"edge2\" class=\"edge\">\n<title>1&#45;&gt;1</title>\n<path fill=\"none\" stroke=\"#000000\" d=\"M19.1594,-113.2124C18.9268,-122.7952 19.8737,-131 22,-131 23.2957,-131 24.1535,-127.9533 24.5732,-123.4045\"/>\n<polygon fill=\"#000000\" stroke=\"#000000\" points=\"28.0771,-123.3007 24.8406,-113.2124 21.0795,-123.1171 28.0771,-123.3007\"/>\n<text text-anchor=\"middle\" x=\"22\" y=\"-134.8\" font-family=\"Times,serif\" font-size=\"14.00\" fill=\"#000000\">b:b</text>\n</g>\n<!-- 1&#45;&gt;1 -->\n<g id=\"edge3\" class=\"edge\">\n<title>1&#45;&gt;1</title>\n<path fill=\"none\" stroke=\"#000000\" d=\"M17.0926,-112.7173C15.0634,-130.5157 16.6992,-149 22,-149 26.2655,-149 28.1578,-137.031 27.6769,-123.0817\"/>\n<polygon fill=\"#000000\" stroke=\"#000000\" points=\"31.1383,-122.4307 26.9074,-112.7173 24.1575,-122.9491 31.1383,-122.4307\"/>\n<text text-anchor=\"middle\" x=\"22\" y=\"-152.8\" font-family=\"Times,serif\" font-size=\"14.00\" fill=\"#000000\">c:c</text>\n</g>\n<!-- 1&#45;&gt;1 -->\n<g id=\"edge4\" class=\"edge\">\n<title>1&#45;&gt;1</title>\n<path fill=\"none\" stroke=\"#000000\" d=\"M15.7381,-112.3963C11.1529,-137.6024 13.2402,-167 22,-167 29.5964,-167 32.1749,-144.8926 29.7357,-122.5825\"/>\n<polygon fill=\"#000000\" stroke=\"#000000\" points=\"33.1578,-121.792 28.2619,-112.3963 26.23,-122.7944 33.1578,-121.792\"/>\n<text text-anchor=\"middle\" x=\"22\" y=\"-170.8\" font-family=\"Times,serif\" font-size=\"14.00\" fill=\"#000000\">d:d</text>\n</g>\n<!-- 0 -->\n<g id=\"node2\" class=\"node\">\n<title>0</title>\n<ellipse fill=\"none\" stroke=\"#000000\" cx=\"115\" cy=\"-53\" rx=\"18\" ry=\"18\"/>\n<ellipse fill=\"none\" stroke=\"#000000\" cx=\"115\" cy=\"-53\" rx=\"22\" ry=\"22\"/>\n<text text-anchor=\"middle\" x=\"115\" y=\"-49.3\" font-family=\"Times,serif\" font-size=\"14.00\" fill=\"#000000\">0</text>\n</g>\n<!-- 1&#45;&gt;0 -->\n<g id=\"edge1\" class=\"edge\">\n<title>1&#45;&gt;0</title>\n<path fill=\"none\" stroke=\"#000000\" d=\"M41.7864,-80.8785C47.3027,-78.1929 53.3366,-75.3804 59,-73 67.1193,-69.5873 76.0462,-66.228 84.3408,-63.2656\"/>\n<polygon fill=\"#000000\" stroke=\"#000000\" points=\"85.7633,-66.4761 94.048,-59.872 83.4531,-59.8683 85.7633,-66.4761\"/>\n<text text-anchor=\"middle\" x=\"68.5\" y=\"-76.8\" font-family=\"Times,serif\" font-size=\"14.00\" fill=\"#000000\">a:a</text>\n</g>\n<!-- 0&#45;&gt;1 -->\n<g id=\"edge8\" class=\"edge\">\n<title>0&#45;&gt;1</title>\n<path fill=\"none\" stroke=\"#000000\" d=\"M94.1837,-45.1268C83.25,-42.2673 69.8967,-40.8524 59,-46 50.9808,-49.7883 44.1142,-56.261 38.5514,-63.1348\"/>\n<polygon fill=\"#000000\" stroke=\"#000000\" points=\"35.6961,-61.1101 32.6291,-71.2514 41.3508,-65.2361 35.6961,-61.1101\"/>\n<text text-anchor=\"middle\" x=\"68.5\" y=\"-49.8\" font-family=\"Times,serif\" font-size=\"14.00\" fill=\"#000000\">c:c</text>\n</g>\n<!-- 0&#45;&gt;1 -->\n<g id=\"edge9\" class=\"edge\">\n<title>0&#45;&gt;1</title>\n<path fill=\"none\" stroke=\"#000000\" d=\"M101.3442,-70.4225C95.0256,-77.1607 86.9374,-84.1625 78,-88 70.6598,-91.1517 62.2725,-92.5914 54.2631,-93.0926\"/>\n<polygon fill=\"#000000\" stroke=\"#000000\" points=\"54.007,-89.5966 44.0716,-93.2761 54.1331,-96.5954 54.007,-89.5966\"/>\n<text text-anchor=\"middle\" x=\"68.5\" y=\"-95.8\" font-family=\"Times,serif\" font-size=\"14.00\" fill=\"#000000\">d:d</text>\n</g>\n<!-- 0&#45;&gt;0 -->\n<g id=\"edge5\" class=\"edge\">\n<title>0&#45;&gt;0</title>\n<path fill=\"none\" stroke=\"#000000\" d=\"M106.6298,-73.5808C105.4716,-83.8447 108.2617,-93 115,-93 119.3167,-93 122.0131,-89.2427 123.0891,-83.8436\"/>\n<polygon fill=\"#000000\" stroke=\"#000000\" points=\"126.595,-83.6729 123.3702,-73.5808 119.5976,-83.4812 126.595,-83.6729\"/>\n<text text-anchor=\"middle\" x=\"115\" y=\"-96.8\" font-family=\"Times,serif\" font-size=\"14.00\" fill=\"#000000\">a:a</text>\n</g>\n<!-- 2 -->\n<g id=\"node3\" class=\"node\">\n<title>2</title>\n<ellipse fill=\"none\" stroke=\"#000000\" cx=\"208\" cy=\"-131\" rx=\"18\" ry=\"18\"/>\n<ellipse fill=\"none\" stroke=\"#000000\" cx=\"208\" cy=\"-131\" rx=\"22\" ry=\"22\"/>\n<text text-anchor=\"middle\" x=\"208\" y=\"-127.3\" font-family=\"Times,serif\" font-size=\"14.00\" fill=\"#000000\">2</text>\n</g>\n<!-- 0&#45;&gt;2 -->\n<g id=\"edge6\" class=\"edge\">\n<title>0&#45;&gt;2</title>\n<path fill=\"none\" stroke=\"#000000\" d=\"M129.8782,-69.5429C136.4034,-76.4578 144.3154,-84.4017 152,-91 161.0915,-98.8064 171.655,-106.6357 181.1414,-113.2718\"/>\n<polygon fill=\"#000000\" stroke=\"#000000\" points=\"179.2527,-116.2206 189.4776,-118.9958 183.2151,-110.45 179.2527,-116.2206\"/>\n<text text-anchor=\"middle\" x=\"161.5\" y=\"-108.8\" font-family=\"Times,serif\" font-size=\"14.00\" fill=\"#000000\">b:b</text>\n</g>\n<!-- 3 -->\n<g id=\"node4\" class=\"node\">\n<title>3</title>\n<ellipse fill=\"none\" stroke=\"#000000\" cx=\"208\" cy=\"-18\" rx=\"18\" ry=\"18\"/>\n<text text-anchor=\"middle\" x=\"208\" y=\"-14.3\" font-family=\"Times,serif\" font-size=\"14.00\" fill=\"#000000\">3</text>\n</g>\n<!-- 0&#45;&gt;3 -->\n<g id=\"edge7\" class=\"edge\">\n<title>0&#45;&gt;3</title>\n<path fill=\"none\" stroke=\"#000000\" d=\"M135.234,-43.8987C140.6446,-41.5617 146.5141,-39.1128 152,-37 161.4279,-33.369 171.8824,-29.722 181.1811,-26.6079\"/>\n<polygon fill=\"#000000\" stroke=\"#000000\" points=\"182.3137,-29.9198 190.7143,-23.4638 180.1212,-23.2721 182.3137,-29.9198\"/>\n<text text-anchor=\"middle\" x=\"161.5\" y=\"-40.8\" font-family=\"Times,serif\" font-size=\"14.00\" fill=\"#000000\">b:c</text>\n</g>\n<!-- 2&#45;&gt;1 -->\n<g id=\"edge11\" class=\"edge\">\n<title>2&#45;&gt;1</title>\n<path fill=\"none\" stroke=\"#000000\" d=\"M191.3581,-145.7882C185.3259,-150.402 178.2131,-155.0501 171,-158 124.9262,-176.8423 99.9105,-186.3577 59,-158 46.4335,-149.2893 37.6885,-134.8725 31.8685,-121.6392\"/>\n<polygon fill=\"#000000\" stroke=\"#000000\" points=\"35.1002,-120.2942 28.1347,-112.3109 28.6014,-122.8955 35.1002,-120.2942\"/>\n<text text-anchor=\"middle\" x=\"115\" y=\"-178.8\" font-family=\"Times,serif\" font-size=\"14.00\" fill=\"#000000\">b:b</text>\n</g>\n<!-- 2&#45;&gt;1 -->\n<g id=\"edge12\" class=\"edge\">\n<title>2&#45;&gt;1</title>\n<path fill=\"none\" stroke=\"#000000\" d=\"M185.8981,-130.7796C156.2312,-129.8735 102.2576,-126.0643 59,-111 56.0607,-109.9764 53.0744,-108.7392 50.1383,-107.3879\"/>\n<polygon fill=\"#000000\" stroke=\"#000000\" points=\"51.5543,-104.1821 41.0494,-102.8046 48.4024,-110.4324 51.5543,-104.1821\"/>\n<text text-anchor=\"middle\" x=\"115\" y=\"-130.8\" font-family=\"Times,serif\" font-size=\"14.00\" fill=\"#000000\">c:c</text>\n</g>\n<!-- 2&#45;&gt;0 -->\n<g id=\"edge10\" class=\"edge\">\n<title>2&#45;&gt;0</title>\n<path fill=\"none\" stroke=\"#000000\" d=\"M199.4598,-110.4179C193.2519,-97.741 183.7102,-82.0467 171,-72 163.9374,-66.4174 155.1429,-62.4301 146.6314,-59.6\"/>\n<polygon fill=\"#000000\" stroke=\"#000000\" points=\"147.4693,-56.199 136.8906,-56.7833 145.5247,-62.9235 147.4693,-56.199\"/>\n<text text-anchor=\"middle\" x=\"161.5\" y=\"-75.8\" font-family=\"Times,serif\" font-size=\"14.00\" fill=\"#000000\">a:a</text>\n</g>\n<!-- 3&#45;&gt;1 -->\n<g id=\"edge13\" class=\"edge\">\n<title>3&#45;&gt;1</title>\n<path fill=\"none\" stroke=\"#000000\" d=\"M190.9707,-11.7125C167.9274,-4.2287 125.9151,5.7529 93,-7 67.5233,-16.8709 48.3454,-41.9493 36.3841,-62.1517\"/>\n<polygon fill=\"#000000\" stroke=\"#000000\" points=\"33.249,-60.5864 31.3995,-71.0186 39.3509,-64.0167 33.249,-60.5864\"/>\n<text text-anchor=\"middle\" x=\"115\" y=\"-10.8\" font-family=\"Times,serif\" font-size=\"14.00\" fill=\"#000000\">d:d</text>\n</g>\n</g>\n</svg>\n"
          },
          "metadata": {
            "tags": []
          },
          "execution_count": 63
        }
      ]
    },
    {
      "cell_type": "markdown",
      "metadata": {
        "id": "utu9p7nq-TqA",
        "colab_type": "text"
      },
      "source": [
        "Note that the last argument to cdrewrite, `pn.u(*\"abcd\").closure()` must be a cyclic, unweighted acceptor representing the closure over the alphabet. I.e., it represents all the possible strings that can be input to cdrewrite. Let's check what this FST does:"
      ]
    },
    {
      "cell_type": "code",
      "metadata": {
        "id": "GdX7GvA1-TqA",
        "colab_type": "code",
        "outputId": "79d8bc21-0140-482c-ebbe-3f864e6610ce",
        "colab": {
          "base_uri": "https://localhost:8080/",
          "height": 34
        }
      },
      "source": [
        "top10_paths(\"abd\" * rewrite_fst)"
      ],
      "execution_count": 0,
      "outputs": [
        {
          "output_type": "execute_result",
          "data": {
            "text/plain": [
              "['acd']"
            ]
          },
          "metadata": {
            "tags": []
          },
          "execution_count": 64
        }
      ]
    },
    {
      "cell_type": "code",
      "metadata": {
        "id": "zzh7-09J-TqC",
        "colab_type": "code",
        "outputId": "5c517ca8-efe1-406b-9b8b-6863eb2da90a",
        "colab": {
          "base_uri": "https://localhost:8080/",
          "height": 34
        }
      },
      "source": [
        "top10_paths(\"abbabdc\" * rewrite_fst)"
      ],
      "execution_count": 0,
      "outputs": [
        {
          "output_type": "execute_result",
          "data": {
            "text/plain": [
              "['abbacdc']"
            ]
          },
          "metadata": {
            "tags": []
          },
          "execution_count": 65
        }
      ]
    },
    {
      "cell_type": "markdown",
      "metadata": {
        "id": "0cBtt6BL-TqF",
        "colab_type": "text"
      },
      "source": [
        "If the left context and right context do not match, it doesn't do anything."
      ]
    },
    {
      "cell_type": "code",
      "metadata": {
        "id": "-poX2J6H-TqG",
        "colab_type": "code",
        "outputId": "a3fe643b-a017-4358-9541-3d6cc7c453bc",
        "colab": {
          "base_uri": "https://localhost:8080/",
          "height": 34
        }
      },
      "source": [
        "top10_paths(\"b\" * rewrite_fst)"
      ],
      "execution_count": 0,
      "outputs": [
        {
          "output_type": "execute_result",
          "data": {
            "text/plain": [
              "['b']"
            ]
          },
          "metadata": {
            "tags": []
          },
          "execution_count": 66
        }
      ]
    },
    {
      "cell_type": "markdown",
      "metadata": {
        "id": "lhIUgXGC-TqJ",
        "colab_type": "text"
      },
      "source": [
        "We may leave the right (or left) context empty, then this context is not checked:"
      ]
    },
    {
      "cell_type": "code",
      "metadata": {
        "id": "T7Do7rvR-TqK",
        "colab_type": "code",
        "outputId": "98c8280b-3451-4e8b-d91d-bda734d58adc",
        "colab": {
          "base_uri": "https://localhost:8080/",
          "height": 34
        }
      },
      "source": [
        "rewrite_fst2 = pn.cdrewrite(pn.t(\"b\", \"c\"), \"a\", \"\", pn.u(*\"abcd\").closure()).optimize()\n",
        "top10_paths(\"abbbaa\" * rewrite_fst2)"
      ],
      "execution_count": 0,
      "outputs": [
        {
          "output_type": "execute_result",
          "data": {
            "text/plain": [
              "['acbbaa']"
            ]
          },
          "metadata": {
            "tags": []
          },
          "execution_count": 67
        }
      ]
    },
    {
      "cell_type": "markdown",
      "metadata": {
        "id": "EOKxL328-TqN",
        "colab_type": "text"
      },
      "source": [
        "Note that the left context and right context do not need to be strings -- they can be any acceptors. For example, let's modify the rewrite FST so that it replaces \"b\" with \"c\" if \"a\" is seen *anywhere* before the \"c\", not necessarily immidiately before it:"
      ]
    },
    {
      "cell_type": "code",
      "metadata": {
        "id": "nRUh0m-9-TqN",
        "colab_type": "code",
        "outputId": "fd85d1e7-0e51-4518-cf85-0f3329cd3c4b",
        "colab": {
          "base_uri": "https://localhost:8080/",
          "height": 34
        }
      },
      "source": [
        "rewrite_fst3 = pn.cdrewrite(pn.t(\"b\", \"c\"), \"a\" + pn.u(*\"abcd\").closure(), \"\", pn.u(*\"abcd\").closure()).optimize()\n",
        "top10_paths(\"ab\" * rewrite_fst3)"
      ],
      "execution_count": 0,
      "outputs": [
        {
          "output_type": "execute_result",
          "data": {
            "text/plain": [
              "['ac']"
            ]
          },
          "metadata": {
            "tags": []
          },
          "execution_count": 68
        }
      ]
    },
    {
      "cell_type": "code",
      "metadata": {
        "id": "7fEEdVOO-TqP",
        "colab_type": "code",
        "outputId": "fa76d590-1442-42bb-b4ce-9965a847083e",
        "colab": {
          "base_uri": "https://localhost:8080/",
          "height": 34
        }
      },
      "source": [
        "top10_paths(\"cccb\" * rewrite_fst3)"
      ],
      "execution_count": 0,
      "outputs": [
        {
          "output_type": "execute_result",
          "data": {
            "text/plain": [
              "['cccb']"
            ]
          },
          "metadata": {
            "tags": []
          },
          "execution_count": 69
        }
      ]
    },
    {
      "cell_type": "code",
      "metadata": {
        "id": "QL-em_jz-TqZ",
        "colab_type": "code",
        "outputId": "a3d5bf19-95b8-40de-eadc-55abcc9b8450",
        "colab": {
          "base_uri": "https://localhost:8080/",
          "height": 34
        }
      },
      "source": [
        "top10_paths(\"acccb\" * rewrite_fst3)"
      ],
      "execution_count": 0,
      "outputs": [
        {
          "output_type": "execute_result",
          "data": {
            "text/plain": [
              "['acccc']"
            ]
          },
          "metadata": {
            "tags": []
          },
          "execution_count": 70
        }
      ]
    },
    {
      "cell_type": "markdown",
      "metadata": {
        "id": "SBBU8ZpM-Tqb",
        "colab_type": "text"
      },
      "source": [
        "The cdrewrite function is useful for making a morphological analyzer more flexible. Let's try to make an analyzer for the Estonian words vahvel, noobel, number. They inflect as:\n",
        "\n",
        "  * Nominative: vahvel, noobel, number\n",
        "  * Genitive: vahvli, noobli, numbri\n",
        "  * Partitive: vahvlit, nooblit, numbrit\n",
        "  * Illative: vahvlisse, nooblisse, numbrisse\n",
        "  \n",
        "THose words are more complicated because different inflections are not a result of just adding a suffix to the nominative stem (as with the word \"ratsu\") -- the stem also changes from \"vahvel\" to \"vahvl\"."
      ]
    },
    {
      "cell_type": "markdown",
      "metadata": {
        "id": "UdV9YPXY-Tqb",
        "colab_type": "text"
      },
      "source": [
        "Let's first make a FST that can inflect all words based on the ending, where the ending is seperated by \"^\":"
      ]
    },
    {
      "cell_type": "code",
      "metadata": {
        "id": "iXGZPpEF-Tqc",
        "colab_type": "code",
        "colab": {}
      },
      "source": [
        "words = [\"number\", \"vahvel\", \"noobel\"]\n",
        "end_analyzer = pn.string_map(words) + pn.u(pn.t(\"^it\", \" /part/\"), pn.t(\"^isse\", \" /ill/\"), pn.t(\"^i\", \" /gen/\"), pn.t(\"\", \" /nom/\")).optimize()"
      ],
      "execution_count": 0,
      "outputs": []
    },
    {
      "cell_type": "markdown",
      "metadata": {
        "id": "BcZKdlWQ-Tqg",
        "colab_type": "text"
      },
      "source": [
        "This FST can analyze words where the ending has been properly seperated:"
      ]
    },
    {
      "cell_type": "code",
      "metadata": {
        "id": "4nq0vcC6-Tqh",
        "colab_type": "code",
        "outputId": "219c99bc-7a09-40e9-bff4-79773972326f",
        "colab": {
          "base_uri": "https://localhost:8080/",
          "height": 34
        }
      },
      "source": [
        "top10_paths(\"number^i\"* end_analyzer)"
      ],
      "execution_count": 0,
      "outputs": [
        {
          "output_type": "execute_result",
          "data": {
            "text/plain": [
              "['number /gen/']"
            ]
          },
          "metadata": {
            "tags": []
          },
          "execution_count": 72
        }
      ]
    },
    {
      "cell_type": "markdown",
      "metadata": {
        "id": "UvFYVvio-Tqi",
        "colab_type": "text"
      },
      "source": [
        "Now let's create another FST that can transform \"numbri\" to \"number^i\" and \"vahvli\" to \"vahvel^i\":"
      ]
    },
    {
      "cell_type": "code",
      "metadata": {
        "id": "UBk57Y-d-Tqi",
        "colab_type": "code",
        "outputId": "f5d5bb97-b975-402e-c1d0-e42a7daaddf8",
        "colab": {
          "base_uri": "https://localhost:8080/",
          "height": 34
        }
      },
      "source": [
        "sigma_star = pn.u(*\"abdefghjiklmnoprstuvõäöüxy^\").closure()\n",
        "stem_change = pn.cdrewrite(pn.u(pn.t(\"li\", \"el^i\"), pn.t(\"ri\", \"er^i\")), \"\", pn.union(\"\", \"s\", \"sse\", \"ga\") + \"[EOS]\", sigma_star).optimize()\n",
        "\n",
        "top10_paths(\"numbri\"* stem_change)"
      ],
      "execution_count": 0,
      "outputs": [
        {
          "output_type": "execute_result",
          "data": {
            "text/plain": [
              "['number^i']"
            ]
          },
          "metadata": {
            "tags": []
          },
          "execution_count": 73
        }
      ]
    },
    {
      "cell_type": "markdown",
      "metadata": {
        "id": "jCgesBme-Tqk",
        "colab_type": "text"
      },
      "source": [
        "The stem change li -> el^i, ri -> er^i is only applied if the left context is \"[EOS]\", \"s[EOS]\", \"sse[EOS]\", etc. Here [EOS] is Pynini's special symbol for the end-of-string. This is needed because we don't want any other occurrences of \"li\" to be replaced, e.g. \"ribambri\" should be changed to \"ribamber^i\", not \"er^ibamber^i\". Let's check:"
      ]
    },
    {
      "cell_type": "code",
      "metadata": {
        "id": "hoRReHk7-Tql",
        "colab_type": "code",
        "outputId": "dd656947-f85b-4d5e-bea4-93071324b624",
        "colab": {
          "base_uri": "https://localhost:8080/",
          "height": 34
        }
      },
      "source": [
        "top10_paths(\"ribambri\"* stem_change)"
      ],
      "execution_count": 0,
      "outputs": [
        {
          "output_type": "execute_result",
          "data": {
            "text/plain": [
              "['ribamber^i']"
            ]
          },
          "metadata": {
            "tags": []
          },
          "execution_count": 74
        }
      ]
    },
    {
      "cell_type": "markdown",
      "metadata": {
        "id": "9ld6vi3c-Tqo",
        "colab_type": "text"
      },
      "source": [
        "And now, we can put the two FSTs together, by composing them:"
      ]
    },
    {
      "cell_type": "code",
      "metadata": {
        "id": "O6790sdq-Tqp",
        "colab_type": "code",
        "outputId": "9c4e3b9c-5203-4390-d659-960a3d7b794d",
        "colab": {
          "base_uri": "https://localhost:8080/",
          "height": 34
        }
      },
      "source": [
        "wordform_to_analysis2 = stem_change * end_analyzer\n",
        "\n",
        "top10_paths(\"numbri\" * wordform_to_analysis2)"
      ],
      "execution_count": 0,
      "outputs": [
        {
          "output_type": "execute_result",
          "data": {
            "text/plain": [
              "['number /gen/']"
            ]
          },
          "metadata": {
            "tags": []
          },
          "execution_count": 75
        }
      ]
    },
    {
      "cell_type": "markdown",
      "metadata": {
        "id": "G2G_UnV8-Tqr",
        "colab_type": "text"
      },
      "source": [
        "Can we invert it, as we did before with the simpler analyzer?"
      ]
    },
    {
      "cell_type": "code",
      "metadata": {
        "id": "AeMnX-fc-Tqu",
        "colab_type": "code",
        "colab": {}
      },
      "source": [
        "analysis_to_word2 = pn.invert(wordform_to_analysis2)"
      ],
      "execution_count": 0,
      "outputs": []
    },
    {
      "cell_type": "code",
      "metadata": {
        "id": "6RgBLcZP-Tqw",
        "colab_type": "code",
        "outputId": "c46f3931-4077-4eac-816f-f74d79bd8652",
        "colab": {
          "base_uri": "https://localhost:8080/",
          "height": 34
        }
      },
      "source": [
        "top10_paths(\"number /gen/\" * analysis_to_word2)"
      ],
      "execution_count": 0,
      "outputs": [
        {
          "output_type": "execute_result",
          "data": {
            "text/plain": [
              "['number^i', 'numbri']"
            ]
          },
          "metadata": {
            "tags": []
          },
          "execution_count": 77
        }
      ]
    },
    {
      "cell_type": "markdown",
      "metadata": {
        "id": "_52RGU1e-Tqy",
        "colab_type": "text"
      },
      "source": [
        "What happened? Why is 'number^i' also returned as a possible word form? This is because the cdrewrite operation is optional. Actually, when we analyze 'number^i' with our analysis_to_word2, it should happily analyze it (which is of course a problem):"
      ]
    },
    {
      "cell_type": "code",
      "metadata": {
        "id": "GTsFpskr-Tq0",
        "colab_type": "code",
        "outputId": "3bc033b0-004a-4480-c5d0-61d9162a3154",
        "colab": {
          "base_uri": "https://localhost:8080/",
          "height": 34
        }
      },
      "source": [
        "top10_paths(\"number^i\" * wordform_to_analysis2)"
      ],
      "execution_count": 0,
      "outputs": [
        {
          "output_type": "execute_result",
          "data": {
            "text/plain": [
              "['number /gen/']"
            ]
          },
          "metadata": {
            "tags": []
          },
          "execution_count": 78
        }
      ]
    },
    {
      "cell_type": "markdown",
      "metadata": {
        "id": "XBaVH8e0-Tq6",
        "colab_type": "text"
      },
      "source": [
        "In order to fix this, we have to change our FST so that it wouldn't even accept a string containing \"^\". We can do it by just putting an acceptor before everything, that doesn't accept a string containing \"^\":"
      ]
    },
    {
      "cell_type": "code",
      "metadata": {
        "id": "S8EUkTiL-Tq6",
        "colab_type": "code",
        "outputId": "153a2a72-ddcc-4d35-c2e5-0068f9ec57f6",
        "colab": {
          "base_uri": "https://localhost:8080/",
          "height": 34
        }
      },
      "source": [
        "valid_chars = pn.u(*\"abdefghjiklmnoprstuvõäöüxy\").closure().optimize()\n",
        "wordform_to_analysis2 = (valid_chars *stem_change * end_analyzer)\n",
        "top10_paths(\"numbri\" * wordform_to_analysis2)"
      ],
      "execution_count": 0,
      "outputs": [
        {
          "output_type": "execute_result",
          "data": {
            "text/plain": [
              "['number /gen/']"
            ]
          },
          "metadata": {
            "tags": []
          },
          "execution_count": 79
        }
      ]
    },
    {
      "cell_type": "code",
      "metadata": {
        "id": "y-hBRTsN-Tq9",
        "colab_type": "code",
        "outputId": "bd0bff77-0b47-470f-92f5-6d52f2f016b5",
        "colab": {
          "base_uri": "https://localhost:8080/",
          "height": 34
        }
      },
      "source": [
        "top10_paths(\"number^i\" * wordform_to_analysis2)"
      ],
      "execution_count": 0,
      "outputs": [
        {
          "output_type": "execute_result",
          "data": {
            "text/plain": [
              "[]"
            ]
          },
          "metadata": {
            "tags": []
          },
          "execution_count": 80
        }
      ]
    },
    {
      "cell_type": "code",
      "metadata": {
        "id": "btlhVI-g-Tq-",
        "colab_type": "code",
        "outputId": "8539e526-663e-4efd-d055-5509fe99851c",
        "colab": {
          "base_uri": "https://localhost:8080/",
          "height": 34
        }
      },
      "source": [
        "analysis_to_word2 = pn.invert(wordform_to_analysis2)\n",
        "top10_paths(\"number /gen/\" * analysis_to_word2)"
      ],
      "execution_count": 0,
      "outputs": [
        {
          "output_type": "execute_result",
          "data": {
            "text/plain": [
              "['numbri']"
            ]
          },
          "metadata": {
            "tags": []
          },
          "execution_count": 81
        }
      ]
    },
    {
      "cell_type": "markdown",
      "metadata": {
        "id": "RLeUAhxb-Tq_",
        "colab_type": "text"
      },
      "source": [
        "We can now even put our two analyzers together:"
      ]
    },
    {
      "cell_type": "code",
      "metadata": {
        "id": "tW-uXdOP-TrA",
        "colab_type": "code",
        "colab": {}
      },
      "source": [
        "composite_wordform_to_analysis = pn.u(wordform_to_analysis, wordform_to_analysis2)"
      ],
      "execution_count": 0,
      "outputs": []
    },
    {
      "cell_type": "code",
      "metadata": {
        "id": "i4UaTisT-TrD",
        "colab_type": "code",
        "outputId": "c283ce5d-797e-4442-97b4-3c02eb568589",
        "colab": {
          "base_uri": "https://localhost:8080/",
          "height": 34
        }
      },
      "source": [
        "top10_paths(\"numbri\" * composite_wordform_to_analysis)"
      ],
      "execution_count": 0,
      "outputs": [
        {
          "output_type": "execute_result",
          "data": {
            "text/plain": [
              "['number /gen/']"
            ]
          },
          "metadata": {
            "tags": []
          },
          "execution_count": 83
        }
      ]
    },
    {
      "cell_type": "code",
      "metadata": {
        "id": "ZlEXlvtj-TrF",
        "colab_type": "code",
        "outputId": "42a3bedb-f0dd-4c55-a06c-be8418ab5763",
        "colab": {
          "base_uri": "https://localhost:8080/",
          "height": 34
        }
      },
      "source": [
        "top10_paths(\"ratsu\" * composite_wordform_to_analysis)"
      ],
      "execution_count": 0,
      "outputs": [
        {
          "output_type": "execute_result",
          "data": {
            "text/plain": [
              "['ratsu /nom/', 'ratsu /gen/']"
            ]
          },
          "metadata": {
            "tags": []
          },
          "execution_count": 84
        }
      ]
    },
    {
      "cell_type": "markdown",
      "metadata": {
        "id": "aUuJsUV9-TrG",
        "colab_type": "text"
      },
      "source": [
        "As before, we can use random generation to check whether the big FST generates only valid output"
      ]
    },
    {
      "cell_type": "code",
      "metadata": {
        "id": "r1B82gfJ-TrH",
        "colab_type": "code",
        "outputId": "458c8a41-c419-46a4-998b-0c58b7e2cb94",
        "colab": {
          "base_uri": "https://localhost:8080/",
          "height": 102
        }
      },
      "source": [
        "for w in (top10_paths(pn.randgen(composite_wordform_to_analysis, 5))): print(w)"
      ],
      "execution_count": 0,
      "outputs": [
        {
          "output_type": "stream",
          "text": [
            "ratsu /p/\n",
            "male /p/\n",
            "ratsu /nom/\n",
            "vahvel /nom/\n",
            "ratsu /nom/\n"
          ],
          "name": "stdout"
        }
      ]
    },
    {
      "cell_type": "markdown",
      "metadata": {
        "id": "FrBcXBVLCUhR",
        "colab_type": "text"
      },
      "source": [
        "Finally, a remark that you might need in your homework. It's important to understand you can transduce \"something\" from \"nothing\". For example, you can use the following transducer for put spaces between each character (see how `pn.t(\"\", \" \")` transduces empty string sto space):"
      ]
    },
    {
      "cell_type": "code",
      "metadata": {
        "id": "uPFJv_E9-TrI",
        "colab_type": "code",
        "colab": {}
      },
      "source": [
        "one_character = pn.u(*\"abdefghjiklmnoprstuvõäöüxy\")\n",
        "spacer = (one_character +  pn.t(\"\", \" \")).closure() + one_character"
      ],
      "execution_count": 0,
      "outputs": []
    },
    {
      "cell_type": "code",
      "metadata": {
        "id": "9RyRPahrDHqE",
        "colab_type": "code",
        "outputId": "4b4c01c1-f3ba-428a-f9cb-00da5061f2fd",
        "colab": {
          "base_uri": "https://localhost:8080/",
          "height": 34
        }
      },
      "source": [
        "(\"test\" * spacer).stringify()"
      ],
      "execution_count": 0,
      "outputs": [
        {
          "output_type": "execute_result",
          "data": {
            "text/plain": [
              "'t e s t'"
            ]
          },
          "metadata": {
            "tags": []
          },
          "execution_count": 93
        }
      ]
    },
    {
      "cell_type": "code",
      "metadata": {
        "id": "XZ7qXvZ3DQXi",
        "colab_type": "code",
        "colab": {}
      },
      "source": [
        ""
      ],
      "execution_count": 0,
      "outputs": []
    }
  ]
}