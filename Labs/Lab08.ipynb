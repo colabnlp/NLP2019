{
  "nbformat": 4,
  "nbformat_minor": 0,
  "metadata": {
    "colab": {
      "name": "Lab08.ipynb",
      "version": "0.3.2",
      "provenance": [],
      "collapsed_sections": [],
      "include_colab_link": true
    },
    "kernelspec": {
      "name": "python3",
      "display_name": "Python 3"
    }
  },
  "cells": [
    {
      "cell_type": "markdown",
      "metadata": {
        "id": "view-in-github",
        "colab_type": "text"
      },
      "source": [
        "<a href=\"https://colab.research.google.com/github/akaver/NLP2019/blob/master/Lab08.ipynb\" target=\"_parent\"><img src=\"https://colab.research.google.com/assets/colab-badge.svg\" alt=\"Open In Colab\"/></a>"
      ]
    },
    {
      "cell_type": "markdown",
      "metadata": {
        "id": "4DlesM3y6g1w",
        "colab_type": "text"
      },
      "source": [
        "# Word embeddings\n",
        "\n",
        "First, we will look how to use pretrained word embeddings. We use word embeddings computed for Estonian *lemmas*, that is, word is lemmatized (using EstNLTK) before training is performed (using word2vec toolkit).\n",
        "\n",
        "We will download the pretrained mebeddings from Tartu University web site."
      ]
    },
    {
      "cell_type": "code",
      "metadata": {
        "id": "IIbhpeXr69ZZ",
        "colab_type": "code",
        "outputId": "a50b3f2b-8300-47db-e94a-a4c30b418ea0",
        "colab": {
          "base_uri": "https://localhost:8080/",
          "height": 233
        }
      },
      "source": [
        "!wget http://ats.cs.ut.ee/keeletehnoloogia/estnltk/word2vec/lemmas.sg.s100.w2v.bin.gz"
      ],
      "execution_count": 0,
      "outputs": [
        {
          "output_type": "stream",
          "text": [
            "--2019-03-19 11:12:37--  http://ats.cs.ut.ee/keeletehnoloogia/estnltk/word2vec/lemmas.sg.s100.w2v.bin.gz\n",
            "Resolving ats.cs.ut.ee (ats.cs.ut.ee)... 193.40.36.55, 193.40.36.57\n",
            "Connecting to ats.cs.ut.ee (ats.cs.ut.ee)|193.40.36.55|:80... failed: Connection timed out.\n",
            "Connecting to ats.cs.ut.ee (ats.cs.ut.ee)|193.40.36.57|:80... connected.\n",
            "HTTP request sent, awaiting response... 200 OK\n",
            "Length: 168965300 (161M) [application/x-gzip]\n",
            "Saving to: ‘lemmas.sg.s100.w2v.bin.gz’\n",
            "\n",
            "lemmas.sg.s100.w2v. 100%[===================>] 161.14M  7.19MB/s    in 19s     \n",
            "\n",
            "2019-03-19 11:15:08 (8.30 MB/s) - ‘lemmas.sg.s100.w2v.bin.gz’ saved [168965300/168965300]\n",
            "\n"
          ],
          "name": "stdout"
        }
      ]
    },
    {
      "cell_type": "code",
      "metadata": {
        "id": "jUk133O77FgU",
        "colab_type": "code",
        "outputId": "5af3a8e7-f121-4223-8ea2-f7f1113b0194",
        "colab": {
          "base_uri": "https://localhost:8080/",
          "height": 35
        }
      },
      "source": [
        "!gunzip lemmas.sg.s100.w2v.bin.gz"
      ],
      "execution_count": 0,
      "outputs": [
        {
          "output_type": "stream",
          "text": [
            "gzip: lemmas.sg.s100.w2v.bin already exists; do you wish to overwrite (y or n)? y\n"
          ],
          "name": "stdout"
        }
      ]
    },
    {
      "cell_type": "markdown",
      "metadata": {
        "id": "IGh9Yiiw7o01",
        "colab_type": "text"
      },
      "source": [
        "Next, we will install the `gensim` Python package. Gensim is useful for working with embeddings, training embeddings, topic modeling, and many other tasks related to text semantics."
      ]
    },
    {
      "cell_type": "code",
      "metadata": {
        "id": "bVbIcx9l7Z5r",
        "colab_type": "code",
        "outputId": "36460836-0984-43d8-cf16-a0ea06a271e8",
        "colab": {
          "base_uri": "https://localhost:8080/",
          "height": 341
        }
      },
      "source": [
        "!pip3 install gensim"
      ],
      "execution_count": 0,
      "outputs": [
        {
          "output_type": "stream",
          "text": [
            "Requirement already satisfied: gensim in /usr/local/lib/python3.6/dist-packages (3.6.0)\n",
            "Requirement already satisfied: scipy>=0.18.1 in /usr/local/lib/python3.6/dist-packages (from gensim) (1.1.0)\n",
            "Requirement already satisfied: smart-open>=1.2.1 in /usr/local/lib/python3.6/dist-packages (from gensim) (1.8.0)\n",
            "Requirement already satisfied: numpy>=1.11.3 in /usr/local/lib/python3.6/dist-packages (from gensim) (1.14.6)\n",
            "Requirement already satisfied: six>=1.5.0 in /usr/local/lib/python3.6/dist-packages (from gensim) (1.11.0)\n",
            "Requirement already satisfied: boto>=2.32 in /usr/local/lib/python3.6/dist-packages (from smart-open>=1.2.1->gensim) (2.49.0)\n",
            "Requirement already satisfied: bz2file in /usr/local/lib/python3.6/dist-packages (from smart-open>=1.2.1->gensim) (0.98)\n",
            "Requirement already satisfied: requests in /usr/local/lib/python3.6/dist-packages (from smart-open>=1.2.1->gensim) (2.18.4)\n",
            "Requirement already satisfied: boto3 in /usr/local/lib/python3.6/dist-packages (from smart-open>=1.2.1->gensim) (1.9.113)\n",
            "Requirement already satisfied: idna<2.7,>=2.5 in /usr/local/lib/python3.6/dist-packages (from requests->smart-open>=1.2.1->gensim) (2.6)\n",
            "Requirement already satisfied: certifi>=2017.4.17 in /usr/local/lib/python3.6/dist-packages (from requests->smart-open>=1.2.1->gensim) (2019.3.9)\n",
            "Requirement already satisfied: urllib3<1.23,>=1.21.1 in /usr/local/lib/python3.6/dist-packages (from requests->smart-open>=1.2.1->gensim) (1.22)\n",
            "Requirement already satisfied: chardet<3.1.0,>=3.0.2 in /usr/local/lib/python3.6/dist-packages (from requests->smart-open>=1.2.1->gensim) (3.0.4)\n",
            "Requirement already satisfied: jmespath<1.0.0,>=0.7.1 in /usr/local/lib/python3.6/dist-packages (from boto3->smart-open>=1.2.1->gensim) (0.9.4)\n",
            "Requirement already satisfied: botocore<1.13.0,>=1.12.113 in /usr/local/lib/python3.6/dist-packages (from boto3->smart-open>=1.2.1->gensim) (1.12.113)\n",
            "Requirement already satisfied: s3transfer<0.3.0,>=0.2.0 in /usr/local/lib/python3.6/dist-packages (from boto3->smart-open>=1.2.1->gensim) (0.2.0)\n",
            "Requirement already satisfied: python-dateutil<3.0.0,>=2.1; python_version >= \"2.7\" in /usr/local/lib/python3.6/dist-packages (from botocore<1.13.0,>=1.12.113->boto3->smart-open>=1.2.1->gensim) (2.5.3)\n",
            "Requirement already satisfied: docutils>=0.10 in /usr/local/lib/python3.6/dist-packages (from botocore<1.13.0,>=1.12.113->boto3->smart-open>=1.2.1->gensim) (0.14)\n"
          ],
          "name": "stdout"
        }
      ]
    },
    {
      "cell_type": "markdown",
      "metadata": {
        "id": "45ZZlOP47n1W",
        "colab_type": "text"
      },
      "source": [
        "We will now load the pretrained embeddings using Gensim."
      ]
    },
    {
      "cell_type": "code",
      "metadata": {
        "id": "hFJB06X87i3D",
        "colab_type": "code",
        "colab": {}
      },
      "source": [
        "import gensim\n",
        "from gensim.models import KeyedVectors"
      ],
      "execution_count": 0,
      "outputs": []
    },
    {
      "cell_type": "code",
      "metadata": {
        "id": "bj5S8IFj75Xg",
        "colab_type": "code",
        "colab": {}
      },
      "source": [
        "wv =  KeyedVectors.load_word2vec_format(\"lemmas.sg.s100.w2v.bin\", binary=True)"
      ],
      "execution_count": 0,
      "outputs": []
    },
    {
      "cell_type": "markdown",
      "metadata": {
        "id": "NlKcazfT8-3U",
        "colab_type": "text"
      },
      "source": [
        "It is easy to find words that have most similar vectors to a word:"
      ]
    },
    {
      "cell_type": "code",
      "metadata": {
        "id": "kP-Yh7qx8Zy5",
        "colab_type": "code",
        "outputId": "ea37a82d-af8f-46a0-acc0-643b586c7d88",
        "colab": {
          "base_uri": "https://localhost:8080/",
          "height": 233
        }
      },
      "source": [
        " wv.most_similar(\"arvuti\")"
      ],
      "execution_count": 0,
      "outputs": [
        {
          "output_type": "stream",
          "text": [
            "/usr/local/lib/python3.6/dist-packages/gensim/matutils.py:737: FutureWarning: Conversion of the second argument of issubdtype from `int` to `np.signedinteger` is deprecated. In future, it will be treated as `np.int64 == np.dtype(int).type`.\n",
            "  if np.issubdtype(vec.dtype, np.int):\n"
          ],
          "name": "stderr"
        },
        {
          "output_type": "execute_result",
          "data": {
            "text/plain": [
              "[('kõvaketas', 0.8456020355224609),\n",
              " ('koduarvuti', 0.8447602987289429),\n",
              " ('lauaarvuti', 0.8266680240631104),\n",
              " ('sülearvuti', 0.8263174295425415),\n",
              " ('kontoriarvuti', 0.8158494234085083),\n",
              " ('raadiokaart', 0.8081041574478149),\n",
              " ('arvutis', 0.8049970269203186),\n",
              " ('laptopp', 0.8048467636108398),\n",
              " ('riistvara', 0.8041128516197205),\n",
              " ('tarkvara', 0.8034973740577698)]"
            ]
          },
          "metadata": {
            "tags": []
          },
          "execution_count": 9
        }
      ]
    },
    {
      "cell_type": "markdown",
      "metadata": {
        "id": "Rq4u9WXE8s9F",
        "colab_type": "text"
      },
      "source": [
        "Remember that those embeddings are availabe only for lemmas, so you cannot find similar words to words like \"arvutile\".\n",
        "\n",
        "Gensim also allows to specify \"positive words\" and \"negative words\" when computing similarity. This allows us to find whether there are some biases in our word vectors, as covered in the lecture:"
      ]
    },
    {
      "cell_type": "code",
      "metadata": {
        "id": "sAhv_KoC8rOn",
        "colab_type": "code",
        "outputId": "996e78da-ebc3-4afa-8699-b5b78c9fdc59",
        "colab": {
          "base_uri": "https://localhost:8080/",
          "height": 233
        }
      },
      "source": [
        " wv.most_similar(positive=['kaabu', 'naine'], negative=['mees'])"
      ],
      "execution_count": 0,
      "outputs": [
        {
          "output_type": "stream",
          "text": [
            "/usr/local/lib/python3.6/dist-packages/gensim/matutils.py:737: FutureWarning: Conversion of the second argument of issubdtype from `int` to `np.signedinteger` is deprecated. In future, it will be treated as `np.int64 == np.dtype(int).type`.\n",
            "  if np.issubdtype(vec.dtype, np.int):\n"
          ],
          "name": "stderr"
        },
        {
          "output_type": "execute_result",
          "data": {
            "text/plain": [
              "[('kleit', 0.8228166699409485),\n",
              " ('mantel', 0.8165278434753418),\n",
              " ('seelik', 0.8044856190681458),\n",
              " ('miniseelik', 0.7953897714614868),\n",
              " ('pluus', 0.7906196117401123),\n",
              " ('õlgkübar', 0.7902539372444153),\n",
              " ('mütsike', 0.7874605655670166),\n",
              " ('tikk-konts', 0.7821874618530273),\n",
              " ('hommikumantel', 0.7818199992179871),\n",
              " ('parukas', 0.7811592817306519)]"
            ]
          },
          "metadata": {
            "tags": []
          },
          "execution_count": 18
        }
      ]
    },
    {
      "cell_type": "markdown",
      "metadata": {
        "id": "RDhhyB5z9t04",
        "colab_type": "text"
      },
      "source": [
        "So, maybe 'sisearhitekt' is the female equivalent of 'arhitekt'?  Let's also try whether the famous `queen = king - man + woman` example works with Estonian lemmas:"
      ]
    },
    {
      "cell_type": "code",
      "metadata": {
        "id": "-FLivP-39U8c",
        "colab_type": "code",
        "outputId": "cfc10ab1-be70-47c7-a4f2-4dfe82062151",
        "colab": {
          "base_uri": "https://localhost:8080/",
          "height": 233
        }
      },
      "source": [
        " wv.most_similar(positive=['kuningas', 'naine'], negative=['mees'])"
      ],
      "execution_count": 0,
      "outputs": [
        {
          "output_type": "stream",
          "text": [
            "/usr/local/lib/python3.6/dist-packages/gensim/matutils.py:737: FutureWarning: Conversion of the second argument of issubdtype from `int` to `np.signedinteger` is deprecated. In future, it will be treated as `np.int64 == np.dtype(int).type`.\n",
            "  if np.issubdtype(vec.dtype, np.int):\n"
          ],
          "name": "stderr"
        },
        {
          "output_type": "execute_result",
          "data": {
            "text/plain": [
              "[('kuninganna', 0.8504600524902344),\n",
              " ('prints', 0.7523321509361267),\n",
              " ('monarh', 0.7449131608009338),\n",
              " ('kroonprints', 0.7391809821128845),\n",
              " ('haakon|haakoni', 0.7388002276420593),\n",
              " ('krahvinna', 0.7360948324203491),\n",
              " ('printsess', 0.7353565692901611),\n",
              " ('aishwarya', 0.7319592237472534),\n",
              " ('heroodes', 0.730731189250946),\n",
              " ('haakon', 0.7300544381141663)]"
            ]
          },
          "metadata": {
            "tags": []
          },
          "execution_count": 19
        }
      ]
    },
    {
      "cell_type": "code",
      "metadata": {
        "id": "oUTd8Tdg96IV",
        "colab_type": "code",
        "colab": {}
      },
      "source": [
        ""
      ],
      "execution_count": 0,
      "outputs": []
    },
    {
      "cell_type": "markdown",
      "metadata": {
        "id": "HYw28Qeo-Vl6",
        "colab_type": "text"
      },
      "source": [
        "It's interesting to play with lemmas:"
      ]
    },
    {
      "cell_type": "code",
      "metadata": {
        "id": "94iOqnIf-Yd8",
        "colab_type": "code",
        "outputId": "6dd11db4-832f-46d8-b628-2d3f8476188e",
        "colab": {
          "base_uri": "https://localhost:8080/",
          "height": 233
        }
      },
      "source": [
        "wv.most_similar(positive=['helsinki', 'prantsusmaa'], negative=['soome'])"
      ],
      "execution_count": 0,
      "outputs": [
        {
          "output_type": "stream",
          "text": [
            "/usr/local/lib/python3.6/dist-packages/gensim/matutils.py:737: FutureWarning: Conversion of the second argument of issubdtype from `int` to `np.signedinteger` is deprecated. In future, it will be treated as `np.int64 == np.dtype(int).type`.\n",
            "  if np.issubdtype(vec.dtype, np.int):\n"
          ],
          "name": "stderr"
        },
        {
          "output_type": "execute_result",
          "data": {
            "text/plain": [
              "[('montpellier', 0.7420971989631653),\n",
              " ('pariis', 0.7152196764945984),\n",
              " ('saint-etienne', 0.7123215198516846),\n",
              " ('antverpen', 0.7113099098205566),\n",
              " ('dublin', 0.7105499505996704),\n",
              " ('saint-germain', 0.7081636786460876),\n",
              " ('salamanca', 0.6966378092765808),\n",
              " ('lyon', 0.6964538097381592),\n",
              " ('montevideo', 0.6919864416122437),\n",
              " ('saint-denis', 0.6916863322257996)]"
            ]
          },
          "metadata": {
            "tags": []
          },
          "execution_count": 20
        }
      ]
    },
    {
      "cell_type": "code",
      "metadata": {
        "id": "hUNG2C1f-eNb",
        "colab_type": "code",
        "colab": {}
      },
      "source": [
        ""
      ],
      "execution_count": 0,
      "outputs": []
    },
    {
      "cell_type": "markdown",
      "metadata": {
        "id": "r2jBAZA1-pYQ",
        "colab_type": "text"
      },
      "source": [
        "It's also easy to create a clustering tree (dendrogram) for a bunch of words. For example, let's try with placenames."
      ]
    },
    {
      "cell_type": "code",
      "metadata": {
        "id": "AXM2iy1X-0Jy",
        "colab_type": "code",
        "colab": {}
      },
      "source": [
        "words = \"kuressaare orissaare kärdla tallinn tartu narva jõgeva võru valga riia helsinki stockholm moskva kiiev pariis\".split()"
      ],
      "execution_count": 0,
      "outputs": []
    },
    {
      "cell_type": "code",
      "metadata": {
        "id": "Pnkxd7kG-2Yu",
        "colab_type": "code",
        "colab": {}
      },
      "source": [
        "from scipy.cluster.hierarchy import dendrogram, linkage\n",
        "import matplotlib.pyplot as plt"
      ],
      "execution_count": 0,
      "outputs": []
    },
    {
      "cell_type": "code",
      "metadata": {
        "id": "HM44vIci-85I",
        "colab_type": "code",
        "outputId": "3e62aff4-1205-485c-fdf2-748d03fae7e2",
        "colab": {
          "base_uri": "https://localhost:8080/",
          "height": 376
        }
      },
      "source": [
        "l = linkage([wv[w] for w in words], method='complete', metric='seuclidean')\n",
        "plt.figure(figsize=(15, 5))\n",
        "\n",
        "\n",
        "dendrogram(\n",
        "    l,\n",
        "    leaf_rotation=45.,  # rotates the x axis labels\n",
        "    leaf_font_size=16.,  # font size for the x axis labels\n",
        "    orientation='top',\n",
        "    leaf_label_func=lambda v: str(words[v])\n",
        ")\n",
        "plt.show()"
      ],
      "execution_count": 0,
      "outputs": [
        {
          "output_type": "display_data",
          "data": {
            "image/png": "[encoded data removed]",
            "text/plain": [
              "<Figure size 1080x360 with 1 Axes>"
            ]
          },
          "metadata": {
            "tags": []
          }
        }
      ]
    },
    {
      "cell_type": "markdown",
      "metadata": {
        "id": "2Yy709onJJK8",
        "colab_type": "text"
      },
      "source": [
        "Let's also experiment with English pretrained word embeddings."
      ]
    },
    {
      "cell_type": "code",
      "metadata": {
        "id": "og8vQOHIJC-e",
        "colab_type": "code",
        "outputId": "ee2a618a-bd60-4a29-85ce-049803e19115",
        "colab": {
          "base_uri": "https://localhost:8080/",
          "height": 251
        }
      },
      "source": [
        "!wget --no-check-certificate https://phon.ioc.ee/~tanela/tmp/glove.6B.50d.w2vformat.txt.gz"
      ],
      "execution_count": 0,
      "outputs": [
        {
          "output_type": "stream",
          "text": [
            "--2019-03-19 11:18:33--  https://phon.ioc.ee/~tanela/tmp/glove.6B.50d.w2vformat.txt.gz\n",
            "Resolving phon.ioc.ee (phon.ioc.ee)... 193.40.251.126\n",
            "Connecting to phon.ioc.ee (phon.ioc.ee)|193.40.251.126|:443... connected.\n",
            "WARNING: cannot verify phon.ioc.ee's certificate, issued by ‘CN=TERENA SSL CA 3,O=TERENA,L=Amsterdam,ST=Noord-Holland,C=NL’:\n",
            "  Issued certificate has expired.\n",
            "HTTP request sent, awaiting response... 200 OK\n",
            "Length: 69182535 (66M) [application/x-gzip]\n",
            "Saving to: ‘glove.6B.50d.w2vformat.txt.gz’\n",
            "\n",
            "glove.6B.50d.w2vfor 100%[===================>]  65.98M  9.44MB/s    in 25s     \n",
            "\n",
            "2019-03-19 11:18:58 (2.68 MB/s) - ‘glove.6B.50d.w2vformat.txt.gz’ saved [69182535/69182535]\n",
            "\n"
          ],
          "name": "stdout"
        }
      ]
    },
    {
      "cell_type": "markdown",
      "metadata": {
        "id": "EAAt_kCWJIIR",
        "colab_type": "text"
      },
      "source": [
        ""
      ]
    },
    {
      "cell_type": "code",
      "metadata": {
        "id": "KTv7TeKcJCaD",
        "colab_type": "code",
        "colab": {}
      },
      "source": [
        "!gunzip glove.6B.50d.w2vformat.txt.gz"
      ],
      "execution_count": 0,
      "outputs": []
    },
    {
      "cell_type": "code",
      "metadata": {
        "id": "bmVG_n9UJByY",
        "colab_type": "code",
        "colab": {}
      },
      "source": [
        "wv_en =  KeyedVectors.load_word2vec_format(\"glove.6B.50d.w2vformat.txt\", binary=False)"
      ],
      "execution_count": 0,
      "outputs": []
    },
    {
      "cell_type": "code",
      "metadata": {
        "id": "KcGMfqLKTyVY",
        "colab_type": "code",
        "outputId": "f9665636-f0d2-40cf-8c55-cc093bfa9628",
        "colab": {
          "base_uri": "https://localhost:8080/",
          "height": 233
        }
      },
      "source": [
        "wv_en.most_similar(positive=['estonia', 'helsinki'], negative=['finland'])"
      ],
      "execution_count": 0,
      "outputs": [
        {
          "output_type": "stream",
          "text": [
            "/usr/local/lib/python3.6/dist-packages/gensim/matutils.py:737: FutureWarning: Conversion of the second argument of issubdtype from `int` to `np.signedinteger` is deprecated. In future, it will be treated as `np.int64 == np.dtype(int).type`.\n",
            "  if np.issubdtype(vec.dtype, np.int):\n"
          ],
          "name": "stderr"
        },
        {
          "output_type": "execute_result",
          "data": {
            "text/plain": [
              "[('tallinn', 0.8663182258605957),\n",
              " ('riga', 0.8012927174568176),\n",
              " ('vilnius', 0.8002323508262634),\n",
              " ('budapest', 0.7893616557121277),\n",
              " ('prague', 0.7761988043785095),\n",
              " ('bratislava', 0.766411304473877),\n",
              " ('skopje', 0.7501643300056458),\n",
              " ('ljubljana', 0.7443312406539917),\n",
              " ('minsk', 0.7439618706703186),\n",
              " ('bucharest', 0.7199530601501465)]"
            ]
          },
          "metadata": {
            "tags": []
          },
          "execution_count": 30
        }
      ]
    },
    {
      "cell_type": "code",
      "metadata": {
        "id": "CJPoNVV6U8Gr",
        "colab_type": "code",
        "colab": {}
      },
      "source": [
        "words_en = \"estonia latvia lithuania france poland italy finland sweden thailand canada norway\".split()"
      ],
      "execution_count": 0,
      "outputs": []
    },
    {
      "cell_type": "code",
      "metadata": {
        "id": "4LPhqf0aVeHe",
        "colab_type": "code",
        "outputId": "a28da505-0b1b-4136-f2df-6fd9a10da339",
        "colab": {
          "base_uri": "https://localhost:8080/",
          "height": 363
        }
      },
      "source": [
        "l = linkage([wv_en[w] for w in words_en], method='complete', metric='seuclidean')\n",
        "plt.figure(figsize=(15, 5))\n",
        "\n",
        "\n",
        "dendrogram(\n",
        "    l,\n",
        "    leaf_rotation=45.,  # rotates the x axis labels\n",
        "    leaf_font_size=16.,  # font size for the x axis labels\n",
        "    orientation='top',\n",
        "    leaf_label_func=lambda v: str(words_en[v])\n",
        ")\n",
        "plt.show()"
      ],
      "execution_count": 0,
      "outputs": [
        {
          "output_type": "display_data",
          "data": {
            "image/png": "[encoded data removed]",
            "text/plain": [
              "<Figure size 1080x360 with 1 Axes>"
            ]
          },
          "metadata": {
            "tags": []
          }
        }
      ]
    },
    {
      "cell_type": "code",
      "metadata": {
        "id": "HAj929P4Vie0",
        "colab_type": "code",
        "colab": {}
      },
      "source": [
        ""
      ],
      "execution_count": 0,
      "outputs": []
    }
  ]
}