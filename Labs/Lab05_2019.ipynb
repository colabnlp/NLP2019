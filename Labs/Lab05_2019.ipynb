{
  "nbformat": 4,
  "nbformat_minor": 0,
  "metadata": {
    "colab": {
      "name": "Lab05_2019.ipynb",
      "version": "0.3.2",
      "provenance": [],
      "collapsed_sections": [],
      "include_colab_link": true
    },
    "kernelspec": {
      "name": "python3",
      "display_name": "Python 3"
    }
  },
  "cells": [
    {
      "cell_type": "markdown",
      "metadata": {
        "id": "view-in-github",
        "colab_type": "text"
      },
      "source": [
        "<a href=\"https://colab.research.google.com/github/akaver/NLP2019/blob/master/Lab05_2019.ipynb\" target=\"_parent\"><img src=\"https://colab.research.google.com/assets/colab-badge.svg\" alt=\"Open In Colab\"/></a>"
      ]
    },
    {
      "cell_type": "markdown",
      "metadata": {
        "collapsed": true,
        "id": "u0ZdPxAWaqCE",
        "colab_type": "text"
      },
      "source": [
        "In this lab, we will learn how to do text classification using sklearn.\n",
        "\n",
        "The sklearn Python package (also known as scikit-learn) is a general purpose machine learning toolkit. It has a very nice API, a lot of features and is well documented. This lab is largely based on the Sklearn text classification tutorial: http://scikit-learn.org/stable/tutorial/text_analytics/working_with_text_data.html.\n",
        "\n",
        "We will also look a bit at the pandas Python package which is excellent for working with tabular data, and works very well together with sklearn."
      ]
    },
    {
      "cell_type": "code",
      "metadata": {
        "id": "BE2I_Q_xaqCG",
        "colab_type": "code",
        "colab": {}
      },
      "source": [
        "import sklearn\n",
        "import sklearn.model_selection\n",
        "import pandas as pd\n",
        "import numpy as np"
      ],
      "execution_count": 0,
      "outputs": []
    },
    {
      "cell_type": "code",
      "metadata": {
        "id": "Al-_u7_iaqCL",
        "colab_type": "code",
        "colab": {}
      },
      "source": [
        ""
      ],
      "execution_count": 0,
      "outputs": []
    },
    {
      "cell_type": "markdown",
      "metadata": {
        "id": "Per6D52RaqCP",
        "colab_type": "text"
      },
      "source": [
        "As a sample dataset, we will use Estonian data from the www.hinnavaatlus.ee website which is a price comparison website, originally for IT components but now for other stuff also. The website allows users to give ratings (1-5 stars) to companies that sell stuff, together with comments. This data was used to create a sentiment analysis dataset: the comments with 4-5 stars where determined to be positive (`Positiivne`), comments with 1-2 stars as negative (`Negatiivne`) and commens with 3 stars as neutral (`Neutraalne`). We can load the dataset CSV file directly from the web using the pandas CSV reader:"
      ]
    },
    {
      "cell_type": "code",
      "metadata": {
        "scrolled": false,
        "id": "UhjDtz2UaqCQ",
        "colab_type": "code",
        "outputId": "5d2e4794-5799-4de3-9adb-95e196d20377",
        "colab": {
          "base_uri": "https://localhost:8080/",
          "height": 204
        }
      },
      "source": [
        "data = pd.read_csv(\"https://raw.githubusercontent.com/estnltk/estnltk/master/docs/tutorials/data/hinnavaatlus.csv\")\n",
        "# let's explore the data\n",
        "data.head()"
      ],
      "execution_count": 0,
      "outputs": [
        {
          "output_type": "execute_result",
          "data": {
            "text/html": [
              "<div>\n",
              "<style scoped>\n",
              "    .dataframe tbody tr th:only-of-type {\n",
              "        vertical-align: middle;\n",
              "    }\n",
              "\n",
              "    .dataframe tbody tr th {\n",
              "        vertical-align: top;\n",
              "    }\n",
              "\n",
              "    .dataframe thead th {\n",
              "        text-align: right;\n",
              "    }\n",
              "</style>\n",
              "<table border=\"1\" class=\"dataframe\">\n",
              "  <thead>\n",
              "    <tr style=\"text-align: right;\">\n",
              "      <th></th>\n",
              "      <th>Kommentaari ID</th>\n",
              "      <th>Kommentaar</th>\n",
              "      <th>Meelsus</th>\n",
              "    </tr>\n",
              "  </thead>\n",
              "  <tbody>\n",
              "    <tr>\n",
              "      <th>0</th>\n",
              "      <td>4</td>\n",
              "      <td>Väike, aga tubli firma!</td>\n",
              "      <td>Neutraalne</td>\n",
              "    </tr>\n",
              "    <tr>\n",
              "      <th>1</th>\n",
              "      <td>8</td>\n",
              "      <td>väga hea firma</td>\n",
              "      <td>Positiivne</td>\n",
              "    </tr>\n",
              "    <tr>\n",
              "      <th>2</th>\n",
              "      <td>10</td>\n",
              "      <td>Viimasel ajal pole midagi halba öelda, aga sam...</td>\n",
              "      <td>Negatiivne</td>\n",
              "    </tr>\n",
              "    <tr>\n",
              "      <th>3</th>\n",
              "      <td>11</td>\n",
              "      <td>Fotode kvaliteet väga pro ja \"jjk\" seal töötam...</td>\n",
              "      <td>Positiivne</td>\n",
              "    </tr>\n",
              "    <tr>\n",
              "      <th>4</th>\n",
              "      <td>13</td>\n",
              "      <td>Ainult positiivsed kogemused</td>\n",
              "      <td>Positiivne</td>\n",
              "    </tr>\n",
              "  </tbody>\n",
              "</table>\n",
              "</div>"
            ],
            "text/plain": [
              "   Kommentaari ID                                         Kommentaar  \\\n",
              "0               4                            Väike, aga tubli firma!   \n",
              "1               8                                     väga hea firma   \n",
              "2              10  Viimasel ajal pole midagi halba öelda, aga sam...   \n",
              "3              11  Fotode kvaliteet väga pro ja \"jjk\" seal töötam...   \n",
              "4              13                       Ainult positiivsed kogemused   \n",
              "\n",
              "      Meelsus  \n",
              "0  Neutraalne  \n",
              "1  Positiivne  \n",
              "2  Negatiivne  \n",
              "3  Positiivne  \n",
              "4  Positiivne  "
            ]
          },
          "metadata": {
            "tags": []
          },
          "execution_count": 3
        }
      ]
    },
    {
      "cell_type": "markdown",
      "metadata": {
        "id": "KEFXBfBqaqCY",
        "colab_type": "text"
      },
      "source": [
        "To experiment with sentiment calssification, we will split the data into training and development set. This can be easily accomplished using the sklearn's `train_test_split()` function that randomly shuffles the data and splits it into two sets according to the specified ratio. I also add the `random_state=0` argument so that the train/test split is deterministic, not different across runs."
      ]
    },
    {
      "cell_type": "code",
      "metadata": {
        "scrolled": false,
        "id": "gckqqGVkaqCZ",
        "colab_type": "code",
        "outputId": "2cc52f6d-cac1-4acc-9ae5-9535b93a84b8",
        "colab": {
          "base_uri": "https://localhost:8080/",
          "height": 35
        }
      },
      "source": [
        "train_data, dev_data = sklearn.model_selection.train_test_split(data, test_size=0.2, random_state=0)\n",
        "train_data.shape, dev_data.shape"
      ],
      "execution_count": 0,
      "outputs": [
        {
          "output_type": "execute_result",
          "data": {
            "text/plain": [
              "((650, 3), (163, 3))"
            ]
          },
          "metadata": {
            "tags": []
          },
          "execution_count": 6
        }
      ]
    },
    {
      "cell_type": "markdown",
      "metadata": {
        "id": "R1JyPtf7aqCf",
        "colab_type": "text"
      },
      "source": [
        "Next, we will use a Naive Bayes classifier to train a model that classifies comments to the three categories.\n",
        "\n",
        "First, we have convert each comment into the bag-of-words representation. This is very easy to using sklearn's [CountVectorizer](http://scikit-learn.org/stable/modules/generated/sklearn.feature_extraction.text.CountVectorizer.html) class. It converts a collection of text documents to a matrix of token counts, exactly as needed by the Naive Bayes classifier.\n",
        "\n",
        "To convert training data to bag-of-words, we use the `fit_transform()` method of `CountVectorizer`. This method first discovers the vocabulary of the training data (fit), and then transforms ther data from textual representation to matrix form."
      ]
    },
    {
      "cell_type": "code",
      "metadata": {
        "id": "5xvGdzb9aqCg",
        "colab_type": "code",
        "colab": {}
      },
      "source": [
        "from sklearn.feature_extraction.text import CountVectorizer\n",
        "count_vect = CountVectorizer()\n",
        "X_train_counts = count_vect.fit_transform(train_data['Kommentaar'])\n"
      ],
      "execution_count": 0,
      "outputs": []
    },
    {
      "cell_type": "markdown",
      "metadata": {
        "id": "dhEHobp3aqCl",
        "colab_type": "text"
      },
      "source": [
        "The result is a sparse matrix, where the number of rows is equal to the number of items in training data, and the number of columns if equal to the vocabulary size:"
      ]
    },
    {
      "cell_type": "code",
      "metadata": {
        "id": "UfBrjsGOaqCm",
        "colab_type": "code",
        "outputId": "54a376c0-1ead-4bca-b873-be2dc243dd0b",
        "colab": {
          "base_uri": "https://localhost:8080/",
          "height": 35
        }
      },
      "source": [
        "X_train_counts.shape"
      ],
      "execution_count": 0,
      "outputs": [
        {
          "output_type": "execute_result",
          "data": {
            "text/plain": [
              "(650, 4426)"
            ]
          },
          "metadata": {
            "tags": []
          },
          "execution_count": 8
        }
      ]
    },
    {
      "cell_type": "markdown",
      "metadata": {
        "id": "syzM0l8MaqCr",
        "colab_type": "text"
      },
      "source": [
        "After the `fit_transform()` method is called, the `vocabulary_` attribute of CountVectorizer gets polulated by the discovered vocabulary of training data:"
      ]
    },
    {
      "cell_type": "code",
      "metadata": {
        "id": "w-TCn9CEaqCs",
        "colab_type": "code",
        "outputId": "b1b380f5-9a8a-4ce6-d5cb-e898dc0ebfc9",
        "colab": {
          "base_uri": "https://localhost:8080/",
          "height": 18035
        }
      },
      "source": [
        "count_vect.vocabulary_"
      ],
      "execution_count": 0,
      "outputs": [
        {
          "output_type": "execute_result",
          "data": {
            "text/plain": [
              "{'veljo': 3881,\n",
              " 'ja': 812,\n",
              " 'vabatahtlike': 3753,\n",
              " 'abiga': 134,\n",
              " 'on': 2266,\n",
              " 'eesti': 430,\n",
              " 'tõusnud': 3642,\n",
              " 'üheks': 4124,\n",
              " 'suurima': 3118,\n",
              " 'wifi': 4060,\n",
              " 'võrkude': 4040,\n",
              " 'arvuga': 250,\n",
              " 'riigiks': 2767,\n",
              " 'maailmas': 1746,\n",
              " 'saavutanud': 2841,\n",
              " 'edumeelse': 400,\n",
              " 'riigi': 2764,\n",
              " 'maine': 1767,\n",
              " 'huvitav': 723,\n",
              " 'et': 531,\n",
              " 'kuidas': 1399,\n",
              " 'seda': 2880,\n",
              " 'kohta': 1249,\n",
              " 'ültse': 4173,\n",
              " 'võimalik': 4019,\n",
              " 'ülesse': 4159,\n",
              " 'leida': 1615,\n",
              " 'kui': 1397,\n",
              " 'mitte': 1914,\n",
              " 'kusagil': 1435,\n",
              " 'pole': 2576,\n",
              " 'ühtegi': 4139,\n",
              " 'viita': 3932,\n",
              " 'kus': 1434,\n",
              " 'se': 2872,\n",
              " 'kauplus': 1051,\n",
              " 'asub': 303,\n",
              " 'head': 632,\n",
              " 'hinnad': 676,\n",
              " 'konkreetne': 1303,\n",
              " 'teenindus': 3298,\n",
              " 'sellel': 2924,\n",
              " 'aastal': 129,\n",
              " 'fotokas': 580,\n",
              " 'televiisor': 3398,\n",
              " 'tellitud': 3431,\n",
              " 'nende': 2088,\n",
              " 'kaudu': 1039,\n",
              " 'ei': 439,\n",
              " 'saa': 2793,\n",
              " 'midagi': 1856,\n",
              " 'halba': 622,\n",
              " 'öelda': 4111,\n",
              " 'kaup': 1042,\n",
              " 'kohal': 1232,\n",
              " 'mõlemal': 2010,\n",
              " 'korral': 1357,\n",
              " 'järgmine': 895,\n",
              " 'päev': 2678,\n",
              " 'toodud': 3489,\n",
              " 'otse': 2349,\n",
              " 'koju': 1252,\n",
              " 'ka': 939,\n",
              " 'mõttetu': 2027,\n",
              " 'garantii': 587,\n",
              " 'suht': 3066,\n",
              " 'uue': 3712,\n",
              " 'läpakaga': 1713,\n",
              " 'kestis': 1102,\n",
              " 'ligi': 1635,\n",
              " 'nädalat': 2153,\n",
              " 'siis': 2955,\n",
              " 'saadeti': 2813,\n",
              " 'kukele': 1404,\n",
              " 'küsisid': 1549,\n",
              " 'raha': 2713,\n",
              " 'peale': 2484,\n",
              " 'samuti': 2863,\n",
              " 'pidin': 2522,\n",
              " 'ise': 803,\n",
              " 'ühendust': 4131,\n",
              " 'võtma': 4052,\n",
              " 'üldse': 4149,\n",
              " 'mingit': 1886,\n",
              " 'staatust': 3056,\n",
              " 'teada': 3264,\n",
              " 'saada': 2801,\n",
              " 'tellisin': 3428,\n",
              " 'mitu': 1917,\n",
              " 'asja': 284,\n",
              " 'olid': 2246,\n",
              " 'väga': 3963,\n",
              " 'vastutulelikud': 3857,\n",
              " 'jätsid': 913,\n",
              " 'igatepidi': 751,\n",
              " 'positiivse': 2600,\n",
              " 'mulje': 1956,\n",
              " 'kõigil': 1499,\n",
              " 'teistel': 3366,\n",
              " 'firmadel': 560,\n",
              " 'selles': 2927,\n",
              " 'majas': 1777,\n",
              " 'kaardimakseterminal': 955,\n",
              " 'olemas': 2227,\n",
              " 'kuid': 1398,\n",
              " 'neil': 2077,\n",
              " 'ainukesena': 156,\n",
              " 'ole': 2219,\n",
              " 'it': 810,\n",
              " 'pood': 2582,\n",
              " 'ikkagi': 757,\n",
              " 'ärge': 4080,\n",
              " 'ostke': 2326,\n",
              " 'meie': 1838,\n",
              " 'pere': 2501,\n",
              " 'peab': 2474,\n",
              " 'ajama': 168,\n",
              " 'tarbijakaitse': 3207,\n",
              " 'oma': 2257,\n",
              " 'taga': 3161,\n",
              " 'tellimus': 3419,\n",
              " 'tehtud': 3346,\n",
              " 'läinud': 1708,\n",
              " 'aga': 147,\n",
              " 'kaupa': 1043,\n",
              " 'telefonidele': 3382,\n",
              " 'vasta': 3829,\n",
              " 'meilidele': 1844,\n",
              " 'hoidke': 697,\n",
              " 'palun': 2429,\n",
              " 'eemale': 425,\n",
              " 'neid': 2075,\n",
              " 'asju': 297,\n",
              " 'mida': 1855,\n",
              " 'maaletooja': 1747,\n",
              " 'laos': 1586,\n",
              " 'reaalselt': 2740,\n",
              " 'korvi': 1376,\n",
              " 'lisada': 1655,\n",
              " 'rohelisega': 2777,\n",
              " 'need': 2070,\n",
              " 'mis': 1901,\n",
              " 'tellitavad': 3430,\n",
              " 'alati': 181,\n",
              " 'saab': 2794,\n",
              " 'saata': 2830,\n",
              " 'täpsustava': 3620,\n",
              " 'emaili': 457,\n",
              " 'meile': 1841,\n",
              " 'info': 774,\n",
              " 'küsimiseks': 1538,\n",
              " 'aadressil': 123,\n",
              " 'surfdata': 3097,\n",
              " 'ee': 401,\n",
              " 'komplekti': 1291,\n",
              " 'jms': 832,\n",
              " 'ostes': 2319,\n",
              " 'soodustust': 3016,\n",
              " 'sai': 2842,\n",
              " 'sealt': 2879,\n",
              " 'mõned': 2014,\n",
              " 'arvuti': 251,\n",
              " 'komplektid': 1292,\n",
              " 'kokku': 1255,\n",
              " 'pandud': 2435,\n",
              " 'ning': 2122,\n",
              " 'müüjad': 2044,\n",
              " 'abistanud': 135,\n",
              " 'mp3': 1939,\n",
              " 'pleieri': 2558,\n",
              " 'helikaardi': 635,\n",
              " 'tulid': 3552,\n",
              " 'nädalaga': 2150,\n",
              " 'ilusti': 768,\n",
              " 'raplasse': 2729,\n",
              " 'postimajja': 2611,\n",
              " 'vendi': 3882,\n",
              " 'samal': 2855,\n",
              " 'päeval': 2684,\n",
              " 'posti': 2607,\n",
              " 'käes': 1463,\n",
              " 'kõik': 1501,\n",
              " 'tip': 3453,\n",
              " 'top': 3510,\n",
              " 'bueno': 346,\n",
              " 'koht': 1248,\n",
              " 'tasemel': 3239,\n",
              " 'tüübid': 3672,\n",
              " 'pädevad': 2677,\n",
              " 'kliendile': 1180,\n",
              " 'tagastatdud': 3173,\n",
              " '30': 69,\n",
              " 'päeva': 2679,\n",
              " 'võlaõigusseaduse': 4034,\n",
              " 'alusel': 201,\n",
              " 'maksimaalne': 1789,\n",
              " 'aeg': 140,\n",
              " 'vabandame': 3745,\n",
              " 'olnud': 2250,\n",
              " 'näpukas': 2179,\n",
              " 'läks': 1709,\n",
              " 'postitusse': 2615,\n",
              " 'loomulikult': 1673,\n",
              " 'tb': 3259,\n",
              " 'ketta': 1104,\n",
              " 'hetkel': 655,\n",
              " 'vaid': 3782,\n",
              " 'gb': 595,\n",
              " 'asemel': 276,\n",
              " 'mõeldud': 2005,\n",
              " 'kahjuks': 969,\n",
              " 'järgi': 893,\n",
              " 'minnes': 1889,\n",
              " 'see': 2882,\n",
              " 'milles': 1871,\n",
              " 'me': 1813,\n",
              " 'leppinud': 1628,\n",
              " 'olime': 2247,\n",
              " 'sülearvutis': 3146,\n",
              " 'oli': 2245,\n",
              " 'graafikakaardi': 602,\n",
              " 'integreeritud': 787,\n",
              " 'graafika': 601,\n",
              " 'ati': 314,\n",
              " '3650': 76,\n",
              " 'intel': 788,\n",
              " '4500': 85,\n",
              " 'sain': 2845,\n",
              " 'ma': 1744,\n",
              " 'alles': 198,\n",
              " 'arve': 242,\n",
              " 'pealt': 2487,\n",
              " 'keegi': 1063,\n",
              " 'mulle': 1958,\n",
              " 'öelnud': 4117,\n",
              " 'kuna': 1424,\n",
              " 'juba': 838,\n",
              " 'kaugelt': 1041,\n",
              " 'järele': 884,\n",
              " 'tuldud': 3536,\n",
              " 'aega': 141,\n",
              " 'enam': 469,\n",
              " 'muuta': 1972,\n",
              " 'võtsin': 4055,\n",
              " 'ära': 4079,\n",
              " 'купил': 4269,\n",
              " 'на': 4284,\n",
              " 'днях': 4227,\n",
              " 'там': 4391,\n",
              " 'телек': 4393,\n",
              " 'samsung': 2861,\n",
              " '46': 86,\n",
              " 'led': 1606,\n",
              " 'tv': 3586,\n",
              " 'd8000': 359,\n",
              " 'единственное': 4237,\n",
              " 'ждать': 4241,\n",
              " 'пришлось': 4360,\n",
              " 'неделю': 4292,\n",
              " 'из': 4253,\n",
              " 'за': 4244,\n",
              " 'праздников': 4354,\n",
              " 'наверное': 4285,\n",
              " 'короче': 4268,\n",
              " 'принципе': 4357,\n",
              " 'доволен': 4230,\n",
              " 'kaks': 973,\n",
              " 'tagasi': 3165,\n",
              " 'sülearvuti': 3145,\n",
              " 'ütlesid': 4188,\n",
              " 'läheb': 1699,\n",
              " 'nädal': 2148,\n",
              " 'lubatud': 1683,\n",
              " 'möödas': 2032,\n",
              " 'saatsin': 2839,\n",
              " 'kirja': 1153,\n",
              " 'küsisin': 1550,\n",
              " 'kas': 1009,\n",
              " 'nad': 2052,\n",
              " 'veel': 3872,\n",
              " 'saatsid': 2838,\n",
              " 'umbes': 3692,\n",
              " 'tund': 3558,\n",
              " 'hiljem': 665,\n",
              " 'siiski': 2956,\n",
              " 'üks': 4140,\n",
              " 'täna': 3606,\n",
              " 'pidi': 2520,\n",
              " 'asi': 283,\n",
              " 'olema': 2226,\n",
              " 'helistan': 647,\n",
              " 'ütlevad': 4190,\n",
              " 'homme': 700,\n",
              " 'saan': 2825,\n",
              " 'uskumatult': 3707,\n",
              " 'sitt': 2975,\n",
              " 'pean': 2489,\n",
              " 'neile': 2078,\n",
              " 'helistama': 642,\n",
              " 'infot': 778,\n",
              " 'öeldud': 4115,\n",
              " 'ajal': 166,\n",
              " 'kätte': 1487,\n",
              " 'peaks': 2479,\n",
              " 'klienti': 1195,\n",
              " 'ju': 837,\n",
              " 'teavitama': 3279,\n",
              " 'esimene': 506,\n",
              " 'kogemus': 1221,\n",
              " '1a': 34,\n",
              " 'ga': 584,\n",
              " 'taha': 3178,\n",
              " 'korrata': 1366,\n",
              " 'kunagi': 1425,\n",
              " 'osta': 2314,\n",
              " 'neilt': 2079,\n",
              " 'täielik': 3599,\n",
              " 'pettumus': 2511,\n",
              " 'hinnang': 681,\n",
              " 'lauspask': 1603,\n",
              " 'esmaklassiline': 524,\n",
              " 'teenus': 3308,\n",
              " 'sujus': 3083,\n",
              " 'ladusalt': 1563,\n",
              " 'rahul': 2717,\n",
              " 'aitäh': 160,\n",
              " 'modikompile': 1928,\n",
              " 'ostetud': 2321,\n",
              " 'fruit': 582,\n",
              " 'isegi': 804,\n",
              " 'salongist': 2852,\n",
              " 'soodsama': 3006,\n",
              " 'hinnaga': 677,\n",
              " 'asuse': 308,\n",
              " 'emaplaadil': 462,\n",
              " 'silicon': 2960,\n",
              " 'power': 2618,\n",
              " 'mäluga': 1986,\n",
              " 'korralik': 1358,\n",
              " 'kvaliteetne': 1455,\n",
              " 'teeninduse': 3299,\n",
              " 'osakonna': 2303,\n",
              " 'sõbraliku': 3126,\n",
              " 'suhtumisega': 3078,\n",
              " 'siin': 2953,\n",
              " 'võiks': 4017,\n",
              " 'firma': 557,\n",
              " 'asuvad': 309,\n",
              " 'nüüd': 2195,\n",
              " 'mustamäe': 1963,\n",
              " 'tee': 3285,\n",
              " '44': 84,\n",
              " 'monitorid': 1935,\n",
              " 'paar': 2370,\n",
              " 'vidinat': 3902,\n",
              " 'ülejärgmine': 4152,\n",
              " 'teises': 3358,\n",
              " 'otsas': 2348,\n",
              " 'uksetaga': 3685,\n",
              " 'hind': 669,\n",
              " 'sobiv': 2992,\n",
              " 'kiire': 1117,\n",
              " 'probleeme': 2636,\n",
              " 'esinenud': 516,\n",
              " 'sama': 2853,\n",
              " 'ostsin': 2338,\n",
              " 'mingi': 1883,\n",
              " 'tahvi': 3195,\n",
              " 'netipoest': 2099,\n",
              " 'märkisin': 2002,\n",
              " 'järeletulemisega': 885,\n",
              " 'lõunakeskusesse': 1733,\n",
              " 'ootasin': 2287,\n",
              " 'kuni': 1427,\n",
              " 'tööpäeva': 3650,\n",
              " 'helistatakse': 650,\n",
              " 'kuuendal': 1445,\n",
              " 'tööpäeval': 3651,\n",
              " 'kaheksandal': 966,\n",
              " 'üritasin': 4178,\n",
              " 'helistada': 639,\n",
              " 'telefon': 3380,\n",
              " 'kinni': 1143,\n",
              " 'pidevalt': 2519,\n",
              " 'ootel': 2291,\n",
              " 'kirjutasin': 1165,\n",
              " 'järgmise': 896,\n",
              " 'lõunat': 1736,\n",
              " 'tuli': 3551,\n",
              " 'kiri': 1152,\n",
              " 'lõunakeskuses': 1732,\n",
              " 'niipalju': 2112,\n",
              " 'helistamisest': 645,\n",
              " 'läksin': 1710,\n",
              " 'ütlesin': 4189,\n",
              " 'tulin': 3554,\n",
              " 'tahvelarvuti': 3192,\n",
              " 'dokumenti': 377,\n",
              " 'küsitud': 1554,\n",
              " 'ega': 435,\n",
              " 'allkirja': 199,\n",
              " 'lihtsalt': 1640,\n",
              " 'anti': 224,\n",
              " 'oleks': 2222,\n",
              " 'võinud': 4029,\n",
              " 'olla': 2249,\n",
              " 'kes': 1095,\n",
              " 'iganes': 745,\n",
              " 'ühesõnaga': 4134,\n",
              " 'ebameeldiv': 386,\n",
              " 'soovita': 3033,\n",
              " 'igati': 752,\n",
              " 'esimese': 507,\n",
              " 'ostu': 2339,\n",
              " 'sooritatud': 3023,\n",
              " 'lcd': 1604,\n",
              " '20': 39,\n",
              " 'monitor': 1933,\n",
              " 'asjalik': 292,\n",
              " 'sülearvutite': 3148,\n",
              " 'valik': 3808,\n",
              " 'suur': 3107,\n",
              " 'soodsad': 3003,\n",
              " 'digizone': 371,\n",
              " 'tõepoolest': 3626,\n",
              " 'otsustasin': 2364,\n",
              " 'tellida': 3405,\n",
              " 'sansa': 2864,\n",
              " 'express': 551,\n",
              " 'mängija': 1994,\n",
              " 'kuigi': 1400,\n",
              " 'tarneajaga': 3218,\n",
              " 'antud': 225,\n",
              " 'juhul': 854,\n",
              " '12': 14,\n",
              " 'kontoris': 1315,\n",
              " 'jäi': 877,\n",
              " 'üht': 4136,\n",
              " 'teist': 3364,\n",
              " 'kripeldama': 1388,\n",
              " 'kliendisuhtluse': 1183,\n",
              " 'kauba': 1032,\n",
              " 'kättesaamise': 1490,\n",
              " 'kohapealt': 1242,\n",
              " 'miks': 1861,\n",
              " 'eestis': 433,\n",
              " 'laptopide': 1593,\n",
              " 'turul': 3576,\n",
              " 'nii': 2107,\n",
              " 'palju': 2420,\n",
              " 'solkijaid': 2998,\n",
              " 'kuller': 1408,\n",
              " 'tõi': 3630,\n",
              " 'laupäeval': 1601,\n",
              " 'lõpuks': 1727,\n",
              " 'üle': 4151,\n",
              " 'kuu': 1442,\n",
              " 'mina': 1875,\n",
              " 'igaljuhul': 744,\n",
              " 'ox': 2367,\n",
              " 'ist': 808,\n",
              " 'telli': 3403,\n",
              " 'ootamisega': 2283,\n",
              " 'halle': 623,\n",
              " 'karvu': 1008,\n",
              " 'juurde': 873,\n",
              " 'viisakas': 3928,\n",
              " 'küsimustele': 1545,\n",
              " 'vastatakse': 3838,\n",
              " 'kiirelt': 1120,\n",
              " 'soovitan': 3035,\n",
              " 'kõigile': 1500,\n",
              " 'aastat': 132,\n",
              " 'peaaegu': 2473,\n",
              " 'terve': 3443,\n",
              " 'kast': 1011,\n",
              " 'atf': 310,\n",
              " 'st': 3051,\n",
              " 'lasin': 1595,\n",
              " 'kohapeale': 1241,\n",
              " 'komponendid': 1294,\n",
              " 'jõudsid': 933,\n",
              " 'kohale': 1233,\n",
              " 'õigeaegselt': 4091,\n",
              " 'nägin': 2160,\n",
              " 'kohapeal': 1240,\n",
              " 'riiulis': 2769,\n",
              " 'vidinaid': 3901,\n",
              " 'näitasin': 2172,\n",
              " 'näpuga': 2178,\n",
              " 'peksid': 2497,\n",
              " 'minu': 1891,\n",
              " 'omad': 2258,\n",
              " 'lahkelt': 1574,\n",
              " 'andsid': 216,\n",
              " 'pakid': 2395,\n",
              " 'tahtsin': 3191,\n",
              " 'gt': 606,\n",
              " '1000': 10,\n",
              " 'koduleht': 1214,\n",
              " 'maas': 1752,\n",
              " 'application': 230,\n",
              " 'error': 501,\n",
              " '500': 94,\n",
              " 'realgamer': 2744,\n",
              " 'oled': 2220,\n",
              " 'ikka': 756,\n",
              " 'kindel': 1134,\n",
              " 'suhtun': 3079,\n",
              " 'loomupärase': 1674,\n",
              " 'umbusuga': 3695,\n",
              " 'netikaupmeestesse': 2095,\n",
              " 'senistest': 2938,\n",
              " 'kogemustest': 1225,\n",
              " 'parimaid': 2462,\n",
              " 'saabub': 2795,\n",
              " 'täpselt': 3616,\n",
              " 'telefonitsi': 3389,\n",
              " 'saabumisest': 2797,\n",
              " 'informeerimine': 776,\n",
              " 'toimib': 3465,\n",
              " 'laitmatult': 1579,\n",
              " 'viimasel': 3920,\n",
              " 'sattus': 2869,\n",
              " 'väikese': 3977,\n",
              " 'tehnilise': 3343,\n",
              " 'defektiga': 362,\n",
              " 'seade': 2873,\n",
              " 'lühike': 1738,\n",
              " 'mõttevahetus': 2029,\n",
              " 'meili': 1842,\n",
              " 'teel': 3287,\n",
              " 'järgmisel': 899,\n",
              " 'soovitud': 3041,\n",
              " 'vahetusseade': 3778,\n",
              " 'mind': 1876,\n",
              " 'ootamas': 2279,\n",
              " 'täpne': 3614,\n",
              " 'meeldiva': 1821,\n",
              " 'teenindusega': 3300,\n",
              " 'positiivne': 2599,\n",
              " 'täiesti': 3602,\n",
              " 'nõus': 2192,\n",
              " 'dubow': 381,\n",
              " 'vaatasin': 3744,\n",
              " 'toodet': 3484,\n",
              " 'mõtetu': 2025,\n",
              " 'võtku': 4051,\n",
              " 'tooted': 3498,\n",
              " 'maha': 1758,\n",
              " 'nimekirjast': 2118,\n",
              " 'samas': 2856,\n",
              " 'usun': 3710,\n",
              " 'toote': 3497,\n",
              " 'leidnud': 1617,\n",
              " 'ok': 2216,\n",
              " 'aja': 161,\n",
              " 'pärast': 2687,\n",
              " 'maksin': 1792,\n",
              " 'poole': 2591,\n",
              " 'meil': 1840,\n",
              " 'toode': 3483,\n",
              " 'laost': 1592,\n",
              " 'otsa': 2347,\n",
              " 'uus': 3729,\n",
              " 'kogus': 1230,\n",
              " 'lattu': 1598,\n",
              " 'compact': 354,\n",
              " 'flash': 571,\n",
              " 'kaardi': 952,\n",
              " 'märkides': 2001,\n",
              " 'maksan': 1783,\n",
              " 'sularahas': 3086,\n",
              " 'kättesaamisel': 1491,\n",
              " 'tellimise': 3414,\n",
              " 'lehel': 1609,\n",
              " 'hinnaks': 680,\n",
              " 'eurot': 548,\n",
              " 'mõnda': 2011,\n",
              " 'saabunud': 2798,\n",
              " 'arvel': 244,\n",
              " 'kirjas': 1159,\n",
              " '16': 25,\n",
              " '50': 93,\n",
              " 'kuskil': 1438,\n",
              " 'paistnud': 2386,\n",
              " 'helistamist': 646,\n",
              " 'selgus': 2918,\n",
              " 'lehe': 1608,\n",
              " 'all': 192,\n",
              " 'ääres': 4082,\n",
              " 'väikeses': 3978,\n",
              " 'link': 1650,\n",
              " 'millele': 1870,\n",
              " 'vajutades': 3795,\n",
              " 'näha': 2162,\n",
              " 'kulleritasu': 1416,\n",
              " 'kg': 1108,\n",
              " 'raskustel': 2733,\n",
              " 'asjadel': 289,\n",
              " 'nojahile': 2127,\n",
              " 'tootega': 3499,\n",
              " 'tegemist': 3327,\n",
              " 'arvutimaailmas': 261,\n",
              " 'ongi': 2267,\n",
              " 'volatiilsed': 3948,\n",
              " 'aasta': 127,\n",
              " 'komplekteerida': 1287,\n",
              " 'tipp': 3454,\n",
              " 'topp': 3511,\n",
              " 'aetud': 146,\n",
              " 'hea': 631,\n",
              " 'superlux': 3093,\n",
              " 'teleri': 3396,\n",
              " 'olen': 2234,\n",
              " 'normaalne': 2130,\n",
              " 'arvutitehnika': 272,\n",
              " 'müüja': 2043,\n",
              " 'kelle': 1085,\n",
              " 'klienditeenindus': 1187,\n",
              " '4gb': 91,\n",
              " 'ram': 2727,\n",
              " 'terabaidise': 3439,\n",
              " 'sisemise': 2967,\n",
              " 'kõvaketta': 1520,\n",
              " 'natuke': 2064,\n",
              " 'lünklik': 1741,\n",
              " 'saadud': 2816,\n",
              " 'keelest': 1068,\n",
              " 'täielikult': 3600,\n",
              " 'aru': 235,\n",
              " 'tarnimise': 3227,\n",
              " 'venis': 3885,\n",
              " 'pikaks': 2530,\n",
              " 'meilid': 1843,\n",
              " 'asukoha': 304,\n",
              " 'lünklikud': 1742,\n",
              " 'neist': 2080,\n",
              " 'raske': 2730,\n",
              " 'suudetud': 3105,\n",
              " 'ennast': 483,\n",
              " 'piisavalt': 2529,\n",
              " 'hästi': 734,\n",
              " 'väljendada': 3998,\n",
              " 'segaseks': 2899,\n",
              " 'kohati': 1245,\n",
              " 'tunne': 3567,\n",
              " 'minuga': 1892,\n",
              " 'taheta': 3184,\n",
              " 'tegeleda': 3315,\n",
              " 'üldiselt': 4146,\n",
              " 'võrreldes': 4044,\n",
              " 'hindadega': 672,\n",
              " 'odavamalt': 2212,\n",
              " 'plussiks': 2563,\n",
              " 'ettemaksu': 536,\n",
              " 'pea': 2471,\n",
              " 'tegema': 3321,\n",
              " 'miinuseks': 1858,\n",
              " 'netilehel': 2096,\n",
              " 'märgitud': 1999,\n",
              " 'tellimist': 3418,\n",
              " 'läti': 1721,\n",
              " 'keeles': 1067,\n",
              " 'tuleb': 3538,\n",
              " 'vastus': 3848,\n",
              " 'meeldinud': 1818,\n",
              " 'tarneaeg': 3213,\n",
              " 'liiga': 1641,\n",
              " 'pikk': 2533,\n",
              " 'viitsimust': 3934,\n",
              " 'tellimine': 3412,\n",
              " 'tasub': 3241,\n",
              " 'okei': 2217,\n",
              " 'staatuseid': 3054,\n",
              " 'uuendati': 3719,\n",
              " 'jõudis': 928,\n",
              " 'õigel': 4093,\n",
              " 'tartusse': 3234,\n",
              " 'tellimisel': 3416,\n",
              " 'reedel': 2747,\n",
              " 'kolmapäeva': 1270,\n",
              " 'hommikuks': 703,\n",
              " 'meilitsi': 1847,\n",
              " 'teavitati': 3281,\n",
              " 'kenasti': 1091,\n",
              " 'teele': 3288,\n",
              " 'priima': 2630,\n",
              " 'õhtul': 4086,\n",
              " 'külmkapi': 1529,\n",
              " 'reede': 2746,\n",
              " 'hommikul': 704,\n",
              " 'helistati': 651,\n",
              " 'teatati': 3278,\n",
              " 'saadavad': 2807,\n",
              " 'neljapäeval': 2086,\n",
              " 'eest': 429,\n",
              " 'dpd': 379,\n",
              " 'kullerile': 1414,\n",
              " '80': 112,\n",
              " 'euri': 544,\n",
              " 'tulevikus': 3549,\n",
              " 'tellin': 3425,\n",
              " 'tellimust': 3423,\n",
              " 'teinud': 3354,\n",
              " 'jäin': 878,\n",
              " 'rahule': 2718,\n",
              " 'mälukaardi': 1987,\n",
              " 'tasumist': 3248,\n",
              " 'nagu': 2055,\n",
              " 'viisaka': 3926,\n",
              " 'osaliseks': 2305,\n",
              " 'hiljuti': 667,\n",
              " 'veebi': 3861,\n",
              " 'digikaamera': 370,\n",
              " 'pentax': 2499,\n",
              " 'optio': 2295,\n",
              " 'h90': 608,\n",
              " 'panin': 2445,\n",
              " 'aku': 178,\n",
              " 'laadima': 1559,\n",
              " 'vastavalt': 3842,\n",
              " 'kasutusjuhendile': 1022,\n",
              " 'toimi': 3464,\n",
              " 'jääb': 916,\n",
              " 'laadimist': 1560,\n",
              " 'tühjaks': 3668,\n",
              " 'pöördusin': 2707,\n",
              " 'müügisalongi': 2042,\n",
              " 'palvega': 2433,\n",
              " 'vahetada': 3769,\n",
              " 'vastu': 3845,\n",
              " 'või': 4012,\n",
              " 'vähemalt': 3971,\n",
              " 'asendada': 277,\n",
              " 'ajutisega': 173,\n",
              " 'oodatud': 2273,\n",
              " 'sünnipäevakingitusega': 3152,\n",
              " 'naeratas': 2053,\n",
              " 'vastutulelikult': 3858,\n",
              " 'tütarlaps': 3671,\n",
              " 'vahetusest': 3777,\n",
              " 'asendamisest': 278,\n",
              " 'keeldus': 1064,\n",
              " 'selle': 2920,\n",
              " 'lubas': 1681,\n",
              " 'ta': 3157,\n",
              " 'katkise': 1028,\n",
              " 'laadija': 1558,\n",
              " 'koos': 1329,\n",
              " 'kaameraga': 947,\n",
              " 'neljaks': 2082,\n",
              " 'nädalaks': 2152,\n",
              " 'ekspertiisi': 448,\n",
              " 'teenindusesse': 3302,\n",
              " 'selgitas': 2914,\n",
              " 'selline': 2929,\n",
              " 'kord': 1336,\n",
              " 'värskelt': 4003,\n",
              " 'müüdud': 2039,\n",
              " 'vigased': 3906,\n",
              " 'vaadatakse': 3736,\n",
              " 'spetsialistide': 3045,\n",
              " 'poolt': 2597,\n",
              " 'kõigepealt': 1497,\n",
              " 'otsustatakse': 2365,\n",
              " 'parandada': 2453,\n",
              " 'mediaplayeri': 1814,\n",
              " 'pealegi': 2485,\n",
              " 'pakitud': 2397,\n",
              " 'meeldiv': 1820,\n",
              " 'товар': 4398,\n",
              " 'не': 4291,\n",
              " 'отправили': 4328,\n",
              " 'как': 4261,\n",
              " 'обещали': 4305,\n",
              " 'статус': 4383,\n",
              " 'заказа': 4245,\n",
              " 'изменили': 4254,\n",
              " 'телефон': 4394,\n",
              " 'отвечают': 4323,\n",
              " 'мошенники': 4282,\n",
              " 'soovisin': 3032,\n",
              " 'täpsustada': 3618,\n",
              " 'mille': 1864,\n",
              " 'koduleheküljel': 1211,\n",
              " 'vastuolulised': 3846,\n",
              " 'kirjeldused': 1161,\n",
              " 'teise': 3355,\n",
              " 'mudeli': 1943,\n",
              " 'palusin': 2431,\n",
              " 'korrektsed': 1370,\n",
              " 'andmed': 210,\n",
              " 'hakkas': 618,\n",
              " 'teenindaja': 3292,\n",
              " 'kohe': 1246,\n",
              " 'õigustama': 4100,\n",
              " 'nemad': 2087,\n",
              " 'teadma': 3269,\n",
              " 'kodukal': 1205,\n",
              " 'kõige': 1496,\n",
              " 'pidavat': 2518,\n",
              " 'vastutama': 3853,\n",
              " 'tootejuht': 3501,\n",
              " 'klient': 1193,\n",
              " 'sel': 2909,\n",
              " 'puhul': 2663,\n",
              " 'täpsed': 3615,\n",
              " 'ütles': 4187,\n",
              " 'naisterahvas': 2058,\n",
              " 'telliks': 3409,\n",
              " 'edastatakse': 398,\n",
              " 'õige': 4090,\n",
              " 'otsiksin': 2355,\n",
              " 'teleonivestluse': 3394,\n",
              " 'alguses': 190,\n",
              " 'tädi': 3587,\n",
              " 'professionaalne': 2647,\n",
              " 'tahab': 3179,\n",
              " 'ainult': 157,\n",
              " 'vigast': 3908,\n",
              " 'kodukat': 1207,\n",
              " 'õigustada': 4099,\n",
              " 'otsiks': 2354,\n",
              " 'lahendusi': 1572,\n",
              " 'tänaks': 3607,\n",
              " 'teatasin': 3276,\n",
              " 'vigadest': 3904,\n",
              " 'peaaaegu': 2472,\n",
              " 'karjuma': 1003,\n",
              " 'ebaviisakas': 390,\n",
              " 'https': 712,\n",
              " 'hindasid': 673,\n",
              " 'võrrelda': 4042,\n",
              " 'võrreldavad': 4043,\n",
              " 'abtline': 138,\n",
              " 'uü': 3731,\n",
              " 'tegelikult': 3320,\n",
              " 'müüv': 2050,\n",
              " 'est': 530,\n",
              " 'oü': 2368,\n",
              " 'käibemaksukohuslased': 1468,\n",
              " 'seega': 2883,\n",
              " 'tohiks': 3459,\n",
              " 'digiboom': 369,\n",
              " 'hinnavaatluses': 688,\n",
              " 'osaleda': 2304,\n",
              " 'il': 758,\n",
              " 'kõvad': 1515,\n",
              " 'mainima': 1768,\n",
              " 'koik': 1251,\n",
              " 'toimis': 3469,\n",
              " 'naq': 2060,\n",
              " 'toimima': 3466,\n",
              " 'tp': 3517,\n",
              " 'tahad': 3180,\n",
              " 'mul': 1955,\n",
              " 'protsessorit': 2657,\n",
              " '1990': 33,\n",
              " '2000': 41,\n",
              " 'muide': 1950,\n",
              " 'su': 3061,\n",
              " 'kollektsioon': 1264,\n",
              " 'v2ga': 3732,\n",
              " 'v6imas': 3733,\n",
              " 'hinnkirjas': 692,\n",
              " 'eksootilist': 447,\n",
              " 'kauppa': 1059,\n",
              " 'hulgiladudes': 713,\n",
              " 'teised': 3356,\n",
              " 'firmad': 558,\n",
              " 'paku': 2414,\n",
              " 'eksootilise': 446,\n",
              " 'kaubaga': 1034,\n",
              " 'rohkem': 2778,\n",
              " 'esmaspäeval': 529,\n",
              " 'teler': 3395,\n",
              " 'lg': 1633,\n",
              " '47lm640s': 88,\n",
              " 'inimene': 781,\n",
              " 'tehing': 3341,\n",
              " 'ostnud': 2335,\n",
              " 'kermetist': 1094,\n",
              " 'telefoni': 3381,\n",
              " 'tõesti': 3628,\n",
              " 'kliendisõbralik': 1184,\n",
              " 'lol': 1663,\n",
              " 'jututuba': 871,\n",
              " 'avatud': 333,\n",
              " 'muidu': 1951,\n",
              " 'tänapäevaseks': 3610,\n",
              " '10': 8,\n",
              " 'lenovo': 1624,\n",
              " 'z570': 4070,\n",
              " 'laupäeva': 1600,\n",
              " 'korras': 1365,\n",
              " 'ühe': 4122,\n",
              " 'kribaja': 1384,\n",
              " 'öeldi': 4114,\n",
              " 'müüdi': 2038,\n",
              " 'ebemeeldiv': 392,\n",
              " 'vabandatud': 3748,\n",
              " 'remondivad': 2759,\n",
              " 'õnnetut': 4108,\n",
              " 'lifebookide': 1634,\n",
              " 'hunnikut': 719,\n",
              " 'kiirem': 1121,\n",
              " 'soodsam': 3005,\n",
              " 'eelmises': 412,\n",
              " 'remondikohas': 2758,\n",
              " 'kaupadele': 1046,\n",
              " 'tähelepanu': 3590,\n",
              " 'pööranud': 2703,\n",
              " 'just': 866,\n",
              " 'hooldus': 705,\n",
              " 'päris': 2691,\n",
              " 'minul': 1893,\n",
              " 'igatahes': 750,\n",
              " 'negatiivne': 2071,\n",
              " 'kodulehel': 1212,\n",
              " 'saadavus': 2809,\n",
              " '1tp': 38,\n",
              " 'ajaga': 164,\n",
              " 'tarnida': 3225,\n",
              " 'vabandused': 3751,\n",
              " 'naeruväärsed': 2054,\n",
              " 'la': 1556,\n",
              " 'vale': 3797,\n",
              " 'saadame': 2805,\n",
              " 'kulleriga': 1413,\n",
              " 'välja': 3994,\n",
              " 'võtame': 4048,\n",
              " 'täpsustame': 3619,\n",
              " 'aadressi': 122,\n",
              " 'kuhu': 1396,\n",
              " 'küll': 1528,\n",
              " 'kullerauto': 1409,\n",
              " 'kadus': 960,\n",
              " 'jne': 833,\n",
              " '42le5300': 83,\n",
              " 'eile': 440,\n",
              " 'ennelõunal': 485,\n",
              " 'lõuna': 1730,\n",
              " 'paiku': 2383,\n",
              " 'telekaga': 3391,\n",
              " 'ukse': 3682,\n",
              " 'kusjuures': 1437,\n",
              " 'tarneaadress': 3212,\n",
              " 'tallinnast': 3202,\n",
              " 'kaugel': 1040,\n",
              " 'maapiirkonnas': 1751,\n",
              " 'seejuures': 2885,\n",
              " 'lihtne': 1637,\n",
              " 'registreerid': 2751,\n",
              " 'kasutajaks': 1016,\n",
              " 'võidki': 4016,\n",
              " 'tellimuse': 3420,\n",
              " 'panna': 2448,\n",
              " 'helistab': 637,\n",
              " 'härra': 733,\n",
              " 'teatab': 3274,\n",
              " 'pannakse': 2449,\n",
              " 'paari': 2371,\n",
              " 'tunni': 3569,\n",
              " 'jooksul': 835,\n",
              " 'pidanud': 2517,\n",
              " 'ilmtingimata': 764,\n",
              " 'ette': 533,\n",
              " 'tasuma': 3246,\n",
              " 'igal': 743,\n",
              " 'printerile': 2632,\n",
              " 'värvid': 4004,\n",
              " 'odavamad': 2209,\n",
              " 'enne': 484,\n",
              " 'tähtaja': 3597,\n",
              " 'asjadega': 288,\n",
              " 'tänan': 3608,\n",
              " 'koostöö': 1331,\n",
              " 'jülgen': 938,\n",
              " 'soovitada': 3034,\n",
              " 'septembri': 2942,\n",
              " 'algul': 188,\n",
              " 'produkti': 2645,\n",
              " 'euro': 545,\n",
              " 'eriti': 500,\n",
              " 'tuimalt': 3534,\n",
              " 'täsarvudeks': 3623,\n",
              " 'ümardatud': 4174,\n",
              " 'vaevalt': 3757,\n",
              " 'kliendi': 1176,\n",
              " 'kasuks': 1013,\n",
              " 'üritan': 4177,\n",
              " 'keset': 1096,\n",
              " 'emaplaat': 464,\n",
              " 'postkontoris': 2617,\n",
              " 'hinna': 675,\n",
              " 'jupid': 861,\n",
              " 'soodsa': 3002,\n",
              " 'tarnijast': 3226,\n",
              " 'tekkinud': 3375,\n",
              " ...}"
            ]
          },
          "metadata": {
            "tags": []
          },
          "execution_count": 9
        }
      ]
    },
    {
      "cell_type": "markdown",
      "metadata": {
        "id": "sEF2FuyTaqCz",
        "colab_type": "text"
      },
      "source": [
        "Let's check whether the computed counts are in correspondance with the original data.\n",
        "\n",
        "The first item of the training data looks like this in text form:"
      ]
    },
    {
      "cell_type": "code",
      "metadata": {
        "id": "pHQYlRuOaqC0",
        "colab_type": "code",
        "outputId": "ad2fd54d-b4b1-4d66-95c4-13a4b39789bc",
        "colab": {
          "base_uri": "https://localhost:8080/",
          "height": 35
        }
      },
      "source": [
        "train_data['Kommentaar'].iloc[0]"
      ],
      "execution_count": 0,
      "outputs": [
        {
          "output_type": "execute_result",
          "data": {
            "text/plain": [
              "'Veljo ja vabatahtlike abiga on Eesti tõusnud üheks suurima WiFi võrkude arvuga riigiks maailmas ja saavutanud edumeelse riigi maine!'"
            ]
          },
          "metadata": {
            "tags": []
          },
          "execution_count": 10
        }
      ]
    },
    {
      "cell_type": "markdown",
      "metadata": {
        "id": "xygTqidFaqC6",
        "colab_type": "text"
      },
      "source": [
        "This means that the count vector corresponding to thet item must have `1` at the position that corresponds to the word 'veljo' (note that CountVectorizer lower-cased our text -- it can be changed of course).\n",
        "\n",
        "Let's first check what is the ID of the word 'veljo' in `count_vect`'s vocabulary:"
      ]
    },
    {
      "cell_type": "code",
      "metadata": {
        "id": "wMkp8alMaqC7",
        "colab_type": "code",
        "outputId": "47f821eb-e988-418a-c5bc-dac9750a63ec",
        "colab": {
          "base_uri": "https://localhost:8080/",
          "height": 35
        }
      },
      "source": [
        "count_vect.vocabulary_['veljo']"
      ],
      "execution_count": 0,
      "outputs": [
        {
          "output_type": "execute_result",
          "data": {
            "text/plain": [
              "3881"
            ]
          },
          "metadata": {
            "tags": []
          },
          "execution_count": 11
        }
      ]
    },
    {
      "cell_type": "markdown",
      "metadata": {
        "id": "FlBxwCjraqDB",
        "colab_type": "text"
      },
      "source": [
        "So, the count vector corresponding to item 1 must have 1 at position 3881. Let's check:"
      ]
    },
    {
      "cell_type": "code",
      "metadata": {
        "id": "q2lSkkeoaqDC",
        "colab_type": "code",
        "outputId": "5347d36f-6edf-43f4-b25c-c9b8e36ed736",
        "colab": {
          "base_uri": "https://localhost:8080/",
          "height": 35
        }
      },
      "source": [
        "X_train_counts[0, 3881]"
      ],
      "execution_count": 0,
      "outputs": [
        {
          "output_type": "execute_result",
          "data": {
            "text/plain": [
              "1"
            ]
          },
          "metadata": {
            "tags": []
          },
          "execution_count": 12
        }
      ]
    },
    {
      "cell_type": "markdown",
      "metadata": {
        "id": "FZek3BTjaqDH",
        "colab_type": "text"
      },
      "source": [
        "CountVectorizer also has a method called `inverse_transform` that transforms count vectors back to textual representation. Let's try:"
      ]
    },
    {
      "cell_type": "code",
      "metadata": {
        "scrolled": true,
        "id": "kZJv4P-7aqDJ",
        "colab_type": "code",
        "outputId": "fe064740-c4cb-43fb-bbf1-853c000809cd",
        "colab": {
          "base_uri": "https://localhost:8080/",
          "height": 89
        }
      },
      "source": [
        "count_vect.inverse_transform(X_train_counts[0])"
      ],
      "execution_count": 0,
      "outputs": [
        {
          "output_type": "execute_result",
          "data": {
            "text/plain": [
              "[array(['maine', 'riigi', 'edumeelse', 'saavutanud', 'maailmas', 'riigiks',\n",
              "        'arvuga', 'võrkude', 'wifi', 'suurima', 'üheks', 'tõusnud',\n",
              "        'eesti', 'on', 'abiga', 'vabatahtlike', 'ja', 'veljo'],\n",
              "       dtype='<U22')]"
            ]
          },
          "metadata": {
            "tags": []
          },
          "execution_count": 13
        }
      ]
    },
    {
      "cell_type": "markdown",
      "metadata": {
        "id": "ZwVolbKEaqDQ",
        "colab_type": "text"
      },
      "source": [
        "Of course, the order of words is lost when tranforming data to bag-of-words, so the inverse transform above also resulted in the original text with words mangled.\n",
        "\n",
        "Next, we have to convert the labels (Positiivne, Neutraalne, Negatiivne) to integers (0, 1, 2), as needed by sklearn's classifiers. Tis can be dome using the LabelEncoder class:"
      ]
    },
    {
      "cell_type": "code",
      "metadata": {
        "id": "jeYSDaxWaqDT",
        "colab_type": "code",
        "outputId": "fe54ba68-2cca-474a-febb-8fe3b7771a65",
        "colab": {
          "base_uri": "https://localhost:8080/",
          "height": 35
        }
      },
      "source": [
        "from sklearn.preprocessing import LabelEncoder\n",
        "le = LabelEncoder()\n",
        "le.fit(data['Meelsus'])\n",
        "le.classes_\n"
      ],
      "execution_count": 0,
      "outputs": [
        {
          "output_type": "execute_result",
          "data": {
            "text/plain": [
              "array(['Negatiivne', 'Neutraalne', 'Positiivne'], dtype=object)"
            ]
          },
          "metadata": {
            "tags": []
          },
          "execution_count": 14
        }
      ]
    },
    {
      "cell_type": "markdown",
      "metadata": {
        "id": "zPAXikvIaqDZ",
        "colab_type": "text"
      },
      "source": [
        "We will now create new lists `y_train` and `y_dev` that hold the numeric categories of training and dev data:"
      ]
    },
    {
      "cell_type": "code",
      "metadata": {
        "id": "Aw-Ncxb8aqDb",
        "colab_type": "code",
        "colab": {}
      },
      "source": [
        "y_train = le.transform(train_data['Meelsus'])\n",
        "y_dev = le.transform(dev_data['Meelsus'])"
      ],
      "execution_count": 0,
      "outputs": []
    },
    {
      "cell_type": "markdown",
      "metadata": {
        "id": "PtzegZeVaqDg",
        "colab_type": "text"
      },
      "source": [
        "Now we are ready to train a Naive Bayes classifer. It's very easy, since we have convrerted the training data to the suitable form already:"
      ]
    },
    {
      "cell_type": "code",
      "metadata": {
        "id": "Swci3E68aqDh",
        "colab_type": "code",
        "colab": {}
      },
      "source": [
        "from sklearn.naive_bayes import MultinomialNB\n",
        "clf = MultinomialNB().fit(X_train_counts, y_train)"
      ],
      "execution_count": 0,
      "outputs": []
    },
    {
      "cell_type": "markdown",
      "metadata": {
        "id": "n3yvc4LzaqDm",
        "colab_type": "text"
      },
      "source": [
        "Let's now apply it on dev data. First, we need to convert the dev data into bag-of-words:"
      ]
    },
    {
      "cell_type": "code",
      "metadata": {
        "id": "zt717oPKaqDn",
        "colab_type": "code",
        "outputId": "b621e8e5-5803-47b2-8441-2d8fa50aad1b",
        "colab": {
          "base_uri": "https://localhost:8080/",
          "height": 35
        }
      },
      "source": [
        "X_dev_counts = count_vect.transform(dev_data['Kommentaar'])\n",
        "X_dev_counts.shape"
      ],
      "execution_count": 0,
      "outputs": [
        {
          "output_type": "execute_result",
          "data": {
            "text/plain": [
              "(163, 4426)"
            ]
          },
          "metadata": {
            "tags": []
          },
          "execution_count": 17
        }
      ]
    },
    {
      "cell_type": "markdown",
      "metadata": {
        "id": "u8tGa5wAaqDs",
        "colab_type": "text"
      },
      "source": [
        "Now, let's use the classifier to predict the classes for dev data:"
      ]
    },
    {
      "cell_type": "code",
      "metadata": {
        "id": "NCNuZzTuaqDt",
        "colab_type": "code",
        "colab": {}
      },
      "source": [
        "predicted = clf.predict(X_dev_counts)"
      ],
      "execution_count": 0,
      "outputs": []
    },
    {
      "cell_type": "code",
      "metadata": {
        "id": "m50Lz84waqDy",
        "colab_type": "code",
        "outputId": "32e6bdd6-2a22-41b2-a0ac-5e723aa155cb",
        "colab": {
          "base_uri": "https://localhost:8080/",
          "height": 161
        }
      },
      "source": [
        "predicted"
      ],
      "execution_count": 0,
      "outputs": [
        {
          "output_type": "execute_result",
          "data": {
            "text/plain": [
              "array([2, 0, 0, 2, 2, 2, 2, 0, 1, 2, 2, 1, 2, 0, 2, 0, 2, 2, 2, 2, 2, 2,\n",
              "       2, 2, 0, 2, 2, 1, 2, 0, 0, 2, 2, 0, 2, 2, 0, 0, 2, 0, 2, 2, 0, 0,\n",
              "       0, 2, 2, 2, 2, 2, 0, 2, 2, 2, 2, 2, 2, 2, 2, 2, 2, 2, 2, 2, 2, 2,\n",
              "       2, 2, 2, 0, 0, 2, 2, 2, 0, 2, 2, 2, 2, 1, 2, 0, 2, 2, 2, 0, 2, 2,\n",
              "       2, 2, 2, 2, 2, 2, 2, 2, 2, 2, 1, 0, 2, 2, 2, 0, 2, 2, 2, 0, 2, 2,\n",
              "       0, 2, 2, 2, 2, 2, 0, 0, 2, 2, 2, 0, 0, 2, 2, 2, 2, 2, 2, 2, 2, 2,\n",
              "       2, 2, 0, 2, 2, 0, 2, 2, 0, 0, 0, 0, 2, 0, 2, 0, 2, 2, 2, 2, 0, 2,\n",
              "       2, 2, 0, 2, 0, 2, 2, 2, 2])"
            ]
          },
          "metadata": {
            "tags": []
          },
          "execution_count": 19
        }
      ]
    },
    {
      "cell_type": "markdown",
      "metadata": {
        "id": "DRI0ob6paqD3",
        "colab_type": "text"
      },
      "source": [
        "The accuracy of the classifier can be calculated by comparing the predicted values with the actual values, and taking the mean of the resulting list."
      ]
    },
    {
      "cell_type": "code",
      "metadata": {
        "id": "-nrdibL5aqD4",
        "colab_type": "code",
        "outputId": "398fd8c2-241c-4e9b-bec1-48b9d9b72b64",
        "colab": {
          "base_uri": "https://localhost:8080/",
          "height": 35
        }
      },
      "source": [
        "np.mean(predicted == y_dev)"
      ],
      "execution_count": 0,
      "outputs": [
        {
          "output_type": "execute_result",
          "data": {
            "text/plain": [
              "0.6993865030674846"
            ]
          },
          "metadata": {
            "tags": []
          },
          "execution_count": 20
        }
      ]
    },
    {
      "cell_type": "markdown",
      "metadata": {
        "id": "JDCp0ak3aqD9",
        "colab_type": "text"
      },
      "source": [
        "So, the above percentage of the items in dev set were classifed into the right category. The same can be accomplished using the score() function of the classifier:"
      ]
    },
    {
      "cell_type": "code",
      "metadata": {
        "id": "FBR37i60aqD9",
        "colab_type": "code",
        "outputId": "6658a3c0-7067-408d-bafa-677a2b9e89e5",
        "colab": {
          "base_uri": "https://localhost:8080/",
          "height": 35
        }
      },
      "source": [
        "clf.score(X_dev_counts, y_dev)"
      ],
      "execution_count": 0,
      "outputs": [
        {
          "output_type": "execute_result",
          "data": {
            "text/plain": [
              "0.6993865030674846"
            ]
          },
          "metadata": {
            "tags": []
          },
          "execution_count": 21
        }
      ]
    },
    {
      "cell_type": "markdown",
      "metadata": {
        "id": "lHZKVRIIaqEC",
        "colab_type": "text"
      },
      "source": [
        "Let's look at the classification results in more detail:"
      ]
    },
    {
      "cell_type": "code",
      "metadata": {
        "id": "nga4sHz5aqEE",
        "colab_type": "code",
        "outputId": "5317f015-8890-4756-dd4a-3f8a94798c63",
        "colab": {
          "base_uri": "https://localhost:8080/",
          "height": 197
        }
      },
      "source": [
        "from sklearn import metrics\n",
        "print(metrics.classification_report(y_dev, predicted, target_names=le.classes_))"
      ],
      "execution_count": 0,
      "outputs": [
        {
          "output_type": "stream",
          "text": [
            "              precision    recall  f1-score   support\n",
            "\n",
            "  Negatiivne       0.55      0.67      0.60        33\n",
            "  Neutraalne       0.40      0.06      0.11        32\n",
            "  Positiivne       0.76      0.92      0.83        98\n",
            "\n",
            "   micro avg       0.70      0.70      0.70       163\n",
            "   macro avg       0.57      0.55      0.51       163\n",
            "weighted avg       0.65      0.70      0.64       163\n",
            "\n"
          ],
          "name": "stdout"
        }
      ]
    },
    {
      "cell_type": "code",
      "metadata": {
        "id": "gBwFvbYoaqEI",
        "colab_type": "code",
        "outputId": "63d0e69f-133a-4ced-b2be-a6f261cebeac",
        "colab": {
          "base_uri": "https://localhost:8080/",
          "height": 71
        }
      },
      "source": [
        "cm = metrics.confusion_matrix(y_dev, predicted)\n",
        "cm"
      ],
      "execution_count": 0,
      "outputs": [
        {
          "output_type": "execute_result",
          "data": {
            "text/plain": [
              "array([[22,  1, 10],\n",
              "       [12,  2, 18],\n",
              "       [ 6,  2, 90]])"
            ]
          },
          "metadata": {
            "tags": []
          },
          "execution_count": 23
        }
      ]
    },
    {
      "cell_type": "markdown",
      "metadata": {
        "id": "a4b2xtghaqEN",
        "colab_type": "text"
      },
      "source": [
        "As can be seen in the above confusion matrix, the main problem is with neutral comments: only 2 of the 28 neutral comments were classified as neutral. But this is quite expected, as distinguishing neutral from positive or negative would also difficult for humans.\n",
        "\n",
        "\n",
        "Next, we will look jow to use sklearn's Pipeline to make the classifier more streamlined.\n",
        "\n",
        "Often, data needs many transforms before a classfier can be applied for training or prediction. This quickly get's quite messy. Pipeline can be used to embed all transforms, together with the actual classifier, into one object, so that we can feed the raw data directly to the pipeline. This way we can be sure that exactly the same transforms are applied to both training and dev data:"
      ]
    },
    {
      "cell_type": "code",
      "metadata": {
        "id": "zJ-1pWX3aqEO",
        "colab_type": "code",
        "outputId": "cc34d263-aa26-42b4-b1db-aa2f58dc2adf",
        "colab": {
          "base_uri": "https://localhost:8080/",
          "height": 143
        }
      },
      "source": [
        "from sklearn.pipeline import Pipeline\n",
        "clf_pipeline = Pipeline([('vect', CountVectorizer()), \n",
        "                         ('clf', MultinomialNB())])\n",
        "clf_pipeline.fit(train_data['Kommentaar'], y_train)"
      ],
      "execution_count": 0,
      "outputs": [
        {
          "output_type": "execute_result",
          "data": {
            "text/plain": [
              "Pipeline(memory=None,\n",
              "     steps=[('vect', CountVectorizer(analyzer='word', binary=False, decode_error='strict',\n",
              "        dtype=<class 'numpy.int64'>, encoding='utf-8', input='content',\n",
              "        lowercase=True, max_df=1.0, max_features=None, min_df=1,\n",
              "        ngram_range=(1, 1), preprocessor=None, stop_words=None,\n",
              "        strip_accents=None, token_pattern='(?u)\\\\b\\\\w\\\\w+\\\\b',\n",
              "        tokenizer=None, vocabulary=None)), ('clf', MultinomialNB(alpha=1.0, class_prior=None, fit_prior=True))])"
            ]
          },
          "metadata": {
            "tags": []
          },
          "execution_count": 24
        }
      ]
    },
    {
      "cell_type": "code",
      "metadata": {
        "id": "F86J5jmlaqET",
        "colab_type": "code",
        "outputId": "39ca24c0-70cc-4678-8349-ab46015d7f4b",
        "colab": {
          "base_uri": "https://localhost:8080/",
          "height": 35
        }
      },
      "source": [
        "clf_pipeline.score(dev_data['Kommentaar'], y_dev)"
      ],
      "execution_count": 0,
      "outputs": [
        {
          "output_type": "execute_result",
          "data": {
            "text/plain": [
              "0.6993865030674846"
            ]
          },
          "metadata": {
            "tags": []
          },
          "execution_count": 25
        }
      ]
    },
    {
      "cell_type": "markdown",
      "metadata": {
        "id": "IaEEhypGaqEY",
        "colab_type": "text"
      },
      "source": [
        "Next, we will learn how to apply some morphological analysis prior to bag-of-words. In Estonian, words occur in many different inflections. The model doesn't know that the words e.g. 'halvad' and 'halb' refer to the same concept. One way to fix this is to first lemmatize the text data. \n",
        "\n",
        "Let's first create a function that lemmatizes a text string using stanfordnlp, introduced in Lab 2. You can also use EstNLTK (which is actually more accurate than stanfordnlp for Estonian), os spaCy if working with some bigger language that spaCy supports."
      ]
    },
    {
      "cell_type": "code",
      "metadata": {
        "id": "4Ry6tZ-Gb7ru",
        "colab_type": "code",
        "outputId": "b937bce3-5da0-478a-98f8-5c142f47d8d3",
        "colab": {
          "base_uri": "https://localhost:8080/",
          "height": 305
        }
      },
      "source": [
        "! pip install stanfordnlp"
      ],
      "execution_count": 0,
      "outputs": [
        {
          "output_type": "stream",
          "text": [
            "Collecting stanfordnlp\n",
            "\u001b[?25l  Downloading https://files.pythonhosted.org/packages/89/26/069d061ec8e3ea5cadffb00f941f6c79c7557821df8cc0439cbf1906cf53/stanfordnlp-0.1.1-py3-none-any.whl (133kB)\n",
            "\u001b[K    100% |████████████████████████████████| 143kB 6.7MB/s \n",
            "\u001b[?25hRequirement already satisfied: protobuf in /usr/local/lib/python3.6/dist-packages (from stanfordnlp) (3.6.1)\n",
            "Requirement already satisfied: numpy in /usr/local/lib/python3.6/dist-packages (from stanfordnlp) (1.14.6)\n",
            "Requirement already satisfied: requests in /usr/local/lib/python3.6/dist-packages (from stanfordnlp) (2.18.4)\n",
            "Requirement already satisfied: tqdm in /usr/local/lib/python3.6/dist-packages (from stanfordnlp) (4.28.1)\n",
            "Requirement already satisfied: torch in /usr/local/lib/python3.6/dist-packages (from stanfordnlp) (1.0.1.post2)\n",
            "Requirement already satisfied: six>=1.9 in /usr/local/lib/python3.6/dist-packages (from protobuf->stanfordnlp) (1.11.0)\n",
            "Requirement already satisfied: setuptools in /usr/local/lib/python3.6/dist-packages (from protobuf->stanfordnlp) (40.8.0)\n",
            "Requirement already satisfied: idna<2.7,>=2.5 in /usr/local/lib/python3.6/dist-packages (from requests->stanfordnlp) (2.6)\n",
            "Requirement already satisfied: certifi>=2017.4.17 in /usr/local/lib/python3.6/dist-packages (from requests->stanfordnlp) (2018.11.29)\n",
            "Requirement already satisfied: chardet<3.1.0,>=3.0.2 in /usr/local/lib/python3.6/dist-packages (from requests->stanfordnlp) (3.0.4)\n",
            "Requirement already satisfied: urllib3<1.23,>=1.21.1 in /usr/local/lib/python3.6/dist-packages (from requests->stanfordnlp) (1.22)\n",
            "Installing collected packages: stanfordnlp\n",
            "Successfully installed stanfordnlp-0.1.1\n"
          ],
          "name": "stdout"
        }
      ]
    },
    {
      "cell_type": "code",
      "metadata": {
        "id": "2sgoIpqucARx",
        "colab_type": "code",
        "outputId": "c1d36df6-eb65-43fb-cecc-7c97b11c25ad",
        "colab": {
          "base_uri": "https://localhost:8080/",
          "height": 287
        }
      },
      "source": [
        "import stanfordnlp\n",
        "stanfordnlp.download('et')"
      ],
      "execution_count": 0,
      "outputs": [
        {
          "output_type": "stream",
          "text": [
            "Using the default treebank \"et_edt\" for language \"et\".\n",
            "Would you like to download the models for: et_edt now? (Y/n)\n",
            "y\n",
            "\n",
            "Default download directory: /root/stanfordnlp_resources\n",
            "Hit enter to continue or type an alternate directory.\n",
            "\n",
            "\n",
            "Downloading models for: et_edt\n",
            "Download location: /root/stanfordnlp_resources/et_edt_models.zip\n"
          ],
          "name": "stdout"
        },
        {
          "output_type": "stream",
          "text": [
            "100%|██████████| 540M/540M [01:10<00:00, 9.34MB/s]\n"
          ],
          "name": "stderr"
        },
        {
          "output_type": "stream",
          "text": [
            "\n",
            "Download complete.  Models saved to: /root/stanfordnlp_resources/et_edt_models.zip\n",
            "Extracting models file for: et_edt\n",
            "Cleaning up...Done.\n"
          ],
          "name": "stdout"
        }
      ]
    },
    {
      "cell_type": "code",
      "metadata": {
        "id": "SuRVT1QfdJ7D",
        "colab_type": "code",
        "outputId": "3c8b1fe4-0fe4-4aed-9b6a-e6baf60c176f",
        "colab": {
          "base_uri": "https://localhost:8080/",
          "height": 449
        }
      },
      "source": [
        "nlp = stanfordnlp.Pipeline(lang=\"et\")"
      ],
      "execution_count": 0,
      "outputs": [
        {
          "output_type": "stream",
          "text": [
            "Use device: cpu\n",
            "---\n",
            "Loading: tokenize\n",
            "With settings: \n",
            "{'model_path': '/root/stanfordnlp_resources/et_edt_models/et_edt_tokenizer.pt', 'lang': 'et', 'shorthand': 'et_edt', 'mode': 'predict'}\n",
            "---\n",
            "Loading: pos\n",
            "With settings: \n",
            "{'model_path': '/root/stanfordnlp_resources/et_edt_models/et_edt_tagger.pt', 'pretrain_path': '/root/stanfordnlp_resources/et_edt_models/et_edt.pretrain.pt', 'lang': 'et', 'shorthand': 'et_edt', 'mode': 'predict'}\n",
            "---\n",
            "Loading: lemma\n",
            "With settings: \n",
            "{'model_path': '/root/stanfordnlp_resources/et_edt_models/et_edt_lemmatizer.pt', 'lang': 'et', 'shorthand': 'et_edt', 'mode': 'predict'}\n",
            "Building an attentional Seq2Seq model...\n",
            "Using a Bi-LSTM encoder\n",
            "Using soft attention for LSTM.\n",
            "Finetune all embeddings.\n",
            "[Running seq2seq lemmatizer with edit classifier]\n",
            "---\n",
            "Loading: depparse\n",
            "With settings: \n",
            "{'model_path': '/root/stanfordnlp_resources/et_edt_models/et_edt_parser.pt', 'pretrain_path': '/root/stanfordnlp_resources/et_edt_models/et_edt.pretrain.pt', 'lang': 'et', 'shorthand': 'et_edt', 'mode': 'predict'}\n",
            "Done loading processors!\n",
            "---\n"
          ],
          "name": "stdout"
        }
      ]
    },
    {
      "cell_type": "code",
      "metadata": {
        "id": "es3PXvsdaqEZ",
        "colab_type": "code",
        "outputId": "8c64f763-2841-497d-c8ae-9f3fc982d406",
        "colab": {
          "base_uri": "https://localhost:8080/",
          "height": 35
        }
      },
      "source": [
        "def lemmatize(text):\n",
        "    doc = nlp(text)\n",
        "    lemmas = []\n",
        "    for i, sentence in enumerate(doc.sentences):\n",
        "      for word in sentence.words:\n",
        "        lemmas.append(word.lemma)\n",
        "    return \" \".join(lemmas)\n",
        "\n",
        "lemmatize(\"Ma olen sellega väga rahul! See oli suurepärane.\")"
      ],
      "execution_count": 0,
      "outputs": [
        {
          "output_type": "execute_result",
          "data": {
            "text/plain": [
              "'mina olema see väga rahul ! see olema suure_pärane .'"
            ]
          },
          "metadata": {
            "tags": []
          },
          "execution_count": 36
        }
      ]
    },
    {
      "cell_type": "markdown",
      "metadata": {
        "id": "LJTFUJXyaqEc",
        "colab_type": "text"
      },
      "source": [
        "The CounVectorizer's constructor has conviniently a `preprocessor` attribute that allows specifying a function that is used to preprecess the raw text. We will pass out lemmatize() function to it (it takes a few minutes to run):"
      ]
    },
    {
      "cell_type": "code",
      "metadata": {
        "id": "J10Gm2zjaqEd",
        "colab_type": "code",
        "outputId": "4d64c81f-237d-4654-d622-3c8aaccb1b42",
        "colab": {
          "base_uri": "https://localhost:8080/",
          "height": 125
        }
      },
      "source": [
        "from sklearn.pipeline import Pipeline\n",
        "clf_pipeline = Pipeline([('vect', CountVectorizer(preprocessor=lemmatize)), \n",
        "                         ('clf', MultinomialNB())])\n",
        "clf_pipeline.fit(train_data['Kommentaar'], y_train)"
      ],
      "execution_count": 0,
      "outputs": [
        {
          "output_type": "execute_result",
          "data": {
            "text/plain": [
              "Pipeline(memory=None,\n",
              "     steps=[('vect', CountVectorizer(analyzer='word', binary=False, decode_error='strict',\n",
              "        dtype=<class 'numpy.int64'>, encoding='utf-8', input='content',\n",
              "        lowercase=True, max_df=1.0, max_features=None, min_df=1,\n",
              "        ngram_range=(1, 1),\n",
              "        preprocessor=<function lemmatize at 0x7f9...enizer=None, vocabulary=None)), ('clf', MultinomialNB(alpha=1.0, class_prior=None, fit_prior=True))])"
            ]
          },
          "metadata": {
            "tags": []
          },
          "execution_count": 37
        }
      ]
    },
    {
      "cell_type": "code",
      "metadata": {
        "id": "X1NIgMN1aqEh",
        "colab_type": "code",
        "colab": {}
      },
      "source": [
        "predicted = clf_pipeline.predict(dev_data['Kommentaar'])"
      ],
      "execution_count": 0,
      "outputs": []
    },
    {
      "cell_type": "code",
      "metadata": {
        "id": "sYYD7w3vaqEk",
        "colab_type": "code",
        "outputId": "3af88229-737b-4c9c-d850-c5abf6526fca",
        "colab": {
          "base_uri": "https://localhost:8080/",
          "height": 35
        }
      },
      "source": [
        "np.mean(predicted == y_dev)"
      ],
      "execution_count": 0,
      "outputs": [
        {
          "output_type": "execute_result",
          "data": {
            "text/plain": [
              "0.6687116564417178"
            ]
          },
          "metadata": {
            "tags": []
          },
          "execution_count": 39
        }
      ]
    },
    {
      "cell_type": "markdown",
      "metadata": {
        "id": "F91mUgDraqEo",
        "colab_type": "text"
      },
      "source": [
        "It's quite common that lemmatization doesn't really help for text classification. This is because some information that could be useful for classification is lost when we convert surface words to lemmas.\n",
        "\n",
        "## Exercise 1\n",
        "\n",
        "But what is we also remove function words (like 'ja', 'et', etc) from the text? Try filtering out words whose 'xpos' attribute (assignmed by standorfnlp) in 'J'. Does it improve accuracy?"
      ]
    },
    {
      "cell_type": "markdown",
      "metadata": {
        "id": "KZPIKY-7aqFB",
        "colab_type": "text"
      },
      "source": [
        "\n",
        "\n",
        "## Exercise 2\n",
        "Your (ungraded) exercise: try if using n-grams (e.g. of length 1 to 3) instead of words improves the classification accuracy. Hint: study the documentation of CountVectorizer."
      ]
    }
  ]
}