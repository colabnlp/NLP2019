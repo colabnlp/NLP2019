{
  "nbformat": 4,
  "nbformat_minor": 0,
  "metadata": {
    "colab": {
      "name": "Lab07_2019.ipynb",
      "version": "0.3.2",
      "provenance": [],
      "collapsed_sections": [],
      "include_colab_link": true
    },
    "kernelspec": {
      "name": "python3",
      "display_name": "Python 3"
    }
  },
  "cells": [
    {
      "cell_type": "markdown",
      "metadata": {
        "id": "view-in-github",
        "colab_type": "text"
      },
      "source": [
        "<a href=\"https://colab.research.google.com/github/akaver/NLP2019/blob/master/Lab07_2019.ipynb\" target=\"_parent\"><img src=\"https://colab.research.google.com/assets/colab-badge.svg\" alt=\"Open In Colab\"/></a>"
      ]
    },
    {
      "cell_type": "markdown",
      "metadata": {
        "id": "6dy907MFmty1",
        "colab_type": "text"
      },
      "source": [
        "This notebook shows how to install Pytorch at Google Colab, and so some simple gradient computation using it.\n",
        "\n",
        "Pytorch is available on Colab by default. If running on your own computer, you probably need to install it first using `pip`.\n"
      ]
    },
    {
      "cell_type": "code",
      "metadata": {
        "id": "RsdM3IDuU4fF",
        "colab_type": "code",
        "colab": {}
      },
      "source": [
        "import torch\n",
        "import torch.nn as nn"
      ],
      "execution_count": 0,
      "outputs": []
    },
    {
      "cell_type": "code",
      "metadata": {
        "id": "Cc38HMQ1m_gE",
        "colab_type": "code",
        "colab": {}
      },
      "source": [
        ""
      ],
      "execution_count": 0,
      "outputs": []
    },
    {
      "cell_type": "markdown",
      "metadata": {
        "id": "-2arfmvanAOL",
        "colab_type": "text"
      },
      "source": [
        "Alright, it worked.\n",
        "\n",
        "Now, let's try to create a simple computational graph, as shown in the lecture, and in the tutorial http://colah.github.io/posts/2015-08-Backprop/.\n",
        "\n",
        "The graph will be for the expression e=(a+b)*(b+1), with the values a=2 and b=1.\n",
        "\n",
        "![caption](http://colah.github.io/posts/2015-08-Backprop/img/tree-eval.png =500x)\n",
        "\n",
        "First, we need to create Pytorch tensors that hold a and b. Tensor is just a generalized matrix, with possibly more than two dimensions). Our a and b are simple scalars, which are simply one-dimensional tensors.\n",
        "\n",
        "We also specify the requires_grad=True argument which tells Pytorch that we will later need the gradient of the tensors.\n",
        "\n"
      ]
    },
    {
      "cell_type": "code",
      "metadata": {
        "id": "VS_Xs4DLU8mO",
        "colab_type": "code",
        "colab": {}
      },
      "source": [
        "a = torch.tensor([2.],  requires_grad=True)\n",
        "b = torch.tensor([1.],  requires_grad=True)"
      ],
      "execution_count": 0,
      "outputs": []
    },
    {
      "cell_type": "markdown",
      "metadata": {
        "id": "Doam6cmBnr5T",
        "colab_type": "text"
      },
      "source": [
        "Now, let's create the intermediary tensors c and d, and the final tensor e. We can use regular Python operators to define them, using existing tensors:"
      ]
    },
    {
      "cell_type": "code",
      "metadata": {
        "id": "F3n9jhlVVEKs",
        "colab_type": "code",
        "outputId": "71df99e3-b54a-47df-84c8-26c272c49dfd",
        "colab": {
          "base_uri": "https://localhost:8080/",
          "height": 35
        }
      },
      "source": [
        "c = a + b\n",
        "d = b + 1\n",
        "e = c * d\n",
        "print(e)"
      ],
      "execution_count": 0,
      "outputs": [
        {
          "output_type": "stream",
          "text": [
            "tensor([6.], grad_fn=<MulBackward0>)\n"
          ],
          "name": "stdout"
        }
      ]
    },
    {
      "cell_type": "markdown",
      "metadata": {
        "id": "kjZng1e0n1qi",
        "colab_type": "text"
      },
      "source": [
        "Alright, c is now a Pytorch tensor holding a value 6. But it's more than just a container for a scalar value. Calling e.backward() backpropagates the value all through the graph:"
      ]
    },
    {
      "cell_type": "code",
      "metadata": {
        "id": "XmGytFpOVMKC",
        "colab_type": "code",
        "colab": {}
      },
      "source": [
        "e = c * d  \n",
        "e.backward()"
      ],
      "execution_count": 0,
      "outputs": []
    },
    {
      "cell_type": "markdown",
      "metadata": {
        "id": "-GP14lGen9Ly",
        "colab_type": "text"
      },
      "source": [
        "Now, the grad attributes of a and b hold the computed gradient. The expected gradient values are shown here:\n",
        "\n",
        "![](http://colah.github.io/posts/2015-08-Backprop/img/tree-backprop.png =500x)"
      ]
    },
    {
      "cell_type": "code",
      "metadata": {
        "id": "l7DVZ15VVO0e",
        "colab_type": "code",
        "outputId": "4d9388ec-835a-438c-c51d-80857a458388",
        "colab": {
          "base_uri": "https://localhost:8080/",
          "height": 53
        }
      },
      "source": [
        "print(a.grad)\n",
        "print(b.grad)"
      ],
      "execution_count": 0,
      "outputs": [
        {
          "output_type": "stream",
          "text": [
            "tensor([2.])\n",
            "tensor([5.])\n"
          ],
          "name": "stdout"
        }
      ]
    },
    {
      "cell_type": "code",
      "metadata": {
        "id": "c-BRUKcGmcSw",
        "colab_type": "code",
        "colab": {}
      },
      "source": [
        ""
      ],
      "execution_count": 0,
      "outputs": []
    },
    {
      "cell_type": "markdown",
      "metadata": {
        "id": "iMb1ixBMoSwQ",
        "colab_type": "text"
      },
      "source": [
        "Alright, we have computed the gradients of a and b and they match the expected values.\n",
        "\n",
        "Next, follow the Pytorch tutorials:\n",
        "\n",
        "  * https://pytorch.org/tutorials/beginner/nlp/pytorch_tutorial.html#sphx-glr-beginner-nlp-pytorch-tutorial-py\n",
        "  * https://pytorch.org/tutorials/beginner/pytorch_with_examples.html"
      ]
    },
    {
      "cell_type": "code",
      "metadata": {
        "id": "Cmkj5_5qoTHW",
        "colab_type": "code",
        "colab": {}
      },
      "source": [
        ""
      ],
      "execution_count": 0,
      "outputs": []
    }
  ]
}