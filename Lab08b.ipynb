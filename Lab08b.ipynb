{
  "nbformat": 4,
  "nbformat_minor": 0,
  "metadata": {
    "colab": {
      "name": "Lab08b.ipynb",
      "version": "0.3.2",
      "provenance": [],
      "collapsed_sections": [],
      "include_colab_link": true
    },
    "kernelspec": {
      "name": "python3",
      "display_name": "Python 3"
    },
    "accelerator": "GPU"
  },
  "cells": [
    {
      "cell_type": "markdown",
      "metadata": {
        "id": "view-in-github",
        "colab_type": "text"
      },
      "source": [
        "<a href=\"https://colab.research.google.com/github/akaver/NLP2019/blob/master/Lab08b.ipynb\" target=\"_parent\"><img src=\"https://colab.research.google.com/assets/colab-badge.svg\" alt=\"Open In Colab\"/></a>"
      ]
    },
    {
      "cell_type": "markdown",
      "metadata": {
        "id": "9T8xkQ1dMeYv",
        "colab_type": "text"
      },
      "source": [
        "# Using and training word embeddings for simple named entity recognition\n",
        "\n",
        "In this lab, we will train a simple feed-forward Pytorch neural network to to nmed entity recognition. We will use the same dataset as a few weeks ago.\n",
        "\n"
      ]
    },
    {
      "cell_type": "markdown",
      "metadata": {
        "id": "6Nqq9cNlNFMw",
        "colab_type": "text"
      },
      "source": [
        "Now, let's import some packages that we will later need."
      ]
    },
    {
      "cell_type": "code",
      "metadata": {
        "id": "U2WxOyT0JPKo",
        "colab_type": "code",
        "colab": {}
      },
      "source": [
        "import sklearn\n",
        "import pandas as pd\n",
        "import numpy as np\n",
        "\n",
        "import torch\n",
        "from torch.utils.data import Dataset, DataLoader\n"
      ],
      "execution_count": 0,
      "outputs": []
    },
    {
      "cell_type": "markdown",
      "metadata": {
        "id": "Oarn4AxuNLOt",
        "colab_type": "text"
      },
      "source": [
        "Let's also download and read the NER train and dev data. We use the same functions as a few weeks ago."
      ]
    },
    {
      "cell_type": "code",
      "metadata": {
        "id": "b4ZpKWN7OsCt",
        "colab_type": "code",
        "outputId": "6300bc42-27ff-41ee-d1ee-6bc62610d302",
        "colab": {
          "base_uri": "https://localhost:8080/",
          "height": 215
        }
      },
      "source": [
        "!wget https://raw.githubusercontent.com/synalp/NER/master/corpus/CoNLL-2003/eng.train"
      ],
      "execution_count": 0,
      "outputs": [
        {
          "output_type": "stream",
          "text": [
            "--2019-03-19 11:06:29--  https://raw.githubusercontent.com/synalp/NER/master/corpus/CoNLL-2003/eng.train\n",
            "Resolving raw.githubusercontent.com (raw.githubusercontent.com)... 151.101.0.133, 151.101.64.133, 151.101.128.133, ...\n",
            "Connecting to raw.githubusercontent.com (raw.githubusercontent.com)|151.101.0.133|:443... connected.\n",
            "HTTP request sent, awaiting response... 200 OK\n",
            "Length: 3281528 (3.1M) [text/plain]\n",
            "Saving to: ‘eng.train’\n",
            "\n",
            "eng.train           100%[===================>]   3.13M  --.-KB/s    in 0.1s    \n",
            "\n",
            "2019-03-19 11:06:32 (30.5 MB/s) - ‘eng.train’ saved [3281528/3281528]\n",
            "\n"
          ],
          "name": "stdout"
        }
      ]
    },
    {
      "cell_type": "code",
      "metadata": {
        "id": "juVHiSZKYmt5",
        "colab_type": "code",
        "colab": {}
      },
      "source": [
        "!wget -q https://raw.githubusercontent.com/synalp/NER/master/corpus/CoNLL-2003/eng.testa"
      ],
      "execution_count": 0,
      "outputs": []
    },
    {
      "cell_type": "code",
      "metadata": {
        "id": "wnf-Thx_Ypu5",
        "colab_type": "code",
        "colab": {}
      },
      "source": [
        "from itertools import chain, groupby\n",
        "def read_conll(filename):  \n",
        "    result = []\n",
        "    f = open(filename)\n",
        "    lines = (str.strip(line) for line in  f)\n",
        "    groups = (grp for nonempty, grp in groupby(lines, bool) if nonempty)\n",
        "\n",
        "    for group in groups:\n",
        "        group = list(group)\n",
        "\n",
        "        obs, lbl = zip(*(ln.rsplit(None, 1) for ln in group))\n",
        "        lbl = [l.lstrip(\"B-\").lstrip(\"I-\") for l in lbl]\n",
        "        word = [x.split()[0] for x in obs]\n",
        "\n",
        "        result.append(list(zip(word, lbl)))\n",
        "    return result"
      ],
      "execution_count": 0,
      "outputs": []
    },
    {
      "cell_type": "code",
      "metadata": {
        "id": "Ux62Iwl-YtNx",
        "colab_type": "code",
        "colab": {}
      },
      "source": [
        "train_data = read_conll(\"eng.train\")\n",
        "dev_data = read_conll(\"eng.testa\")"
      ],
      "execution_count": 0,
      "outputs": []
    },
    {
      "cell_type": "markdown",
      "metadata": {
        "id": "N8qh12T1NWPO",
        "colab_type": "text"
      },
      "source": [
        "Now, we will construct the vocabulary of words that the model knows about. We use all words that occur in training data at least twice. All other words are mapped to special word `<unk>`.\n",
        "\n",
        "Each word is associated with an integer (the ID of the word).\n",
        "\n",
        "Also, each output label is associated with an integer."
      ]
    },
    {
      "cell_type": "code",
      "metadata": {
        "id": "NhdBrBL5d3iI",
        "colab_type": "code",
        "colab": {}
      },
      "source": [
        "from collections import Counter\n",
        "word_counter = Counter()\n",
        "for sentence in train_data:\n",
        "  for word, label in sentence:\n",
        "    word_counter[word] += 1"
      ],
      "execution_count": 0,
      "outputs": []
    },
    {
      "cell_type": "code",
      "metadata": {
        "id": "TZZdeXj6eF_C",
        "colab_type": "code",
        "colab": {}
      },
      "source": [
        "vocabulary = {}\n",
        "vocabulary[\"<unk>\"] = 0\n",
        "vocabulary[\"<s>\"] = 1\n",
        "vocabulary[\"</s>\"] = 2\n",
        "for word in word_counter:\n",
        "  if word_counter[word] > 1:\n",
        "    vocabulary[word] = len(vocabulary)\n",
        "    \n",
        "label_vocabulary = {}\n",
        "label_vocabulary[\"O\"] = 0\n",
        "label_vocabulary[\"ORG\"] = 1\n",
        "label_vocabulary[\"LOC\"] = 2\n",
        "label_vocabulary[\"MISC\"] = 3\n",
        "label_vocabulary[\"PER\"] = 4"
      ],
      "execution_count": 0,
      "outputs": []
    },
    {
      "cell_type": "markdown",
      "metadata": {
        "id": "jH35Qvr7OM9I",
        "colab_type": "text"
      },
      "source": [
        "Now, we will convert our training data to a form needed by Pytorch. For this, we have to inherit Pytorch Dataset class and implement a few methods."
      ]
    },
    {
      "cell_type": "code",
      "metadata": {
        "id": "7sLOh-9fe-LH",
        "colab_type": "code",
        "colab": {}
      },
      "source": [
        "\n",
        "class NERDataset(Dataset):\n",
        "    \"\"\"Name Classification dataset\"\"\"\n",
        "\n",
        "    def __init__(self, data ):\n",
        "        items = []\n",
        "        labels = []\n",
        "        for sentence in data:\n",
        "          for i in range(len(sentence)):\n",
        "            if i > 0:\n",
        "              prevw = vocabulary.get(sentence[i-1][0], 0)\n",
        "            else:\n",
        "              prevw = vocabulary[\"<s>\"]\n",
        "            if i+1 < len(sentence):\n",
        "              nextw = vocabulary.get(sentence[i+1][0], 0)\n",
        "            else:\n",
        "              nextw = vocabulary[\"</s>\"]\n",
        "            items.append((prevw, vocabulary.get(sentence[i][0], 0), nextw))\n",
        "            labels.append(label_vocabulary[sentence[i][1]])\n",
        "        self.X = torch.from_numpy(np.array(items).astype(int)).long()\n",
        "        self.y = torch.from_numpy(np.array(labels).astype(int)).long()\n",
        "\n",
        "    def __len__(self):\n",
        "        return len(self.X)\n",
        "\n",
        "    def __getitem__(self, index):\n",
        "        X = self.X[index]\n",
        "        y = self.y[index]\n",
        "        sample = {'X': X, 'y': y}\n",
        "        return sample"
      ],
      "execution_count": 0,
      "outputs": []
    },
    {
      "cell_type": "code",
      "metadata": {
        "id": "aT5YHlEdifmW",
        "colab_type": "code",
        "colab": {}
      },
      "source": [
        "train_dataset = NERDataset(train_data)"
      ],
      "execution_count": 0,
      "outputs": []
    },
    {
      "cell_type": "markdown",
      "metadata": {
        "id": "2M9haushvJO8",
        "colab_type": "text"
      },
      "source": [
        "The `train_dataset` variable now holds actual training examples that we'll feed to the neural net during training."
      ]
    },
    {
      "cell_type": "code",
      "metadata": {
        "id": "m-Wxe8hdjE6h",
        "colab_type": "code",
        "outputId": "db4dddbd-b381-43f5-f353-72f19533b7fd",
        "colab": {
          "base_uri": "https://localhost:8080/",
          "height": 35
        }
      },
      "source": [
        "train_dataset[10]"
      ],
      "execution_count": 0,
      "outputs": [
        {
          "output_type": "execute_result",
          "data": {
            "text/plain": [
              "{'X': tensor([ 1, 12, 13]), 'y': tensor(4)}"
            ]
          },
          "metadata": {
            "tags": []
          },
          "execution_count": 10
        }
      ]
    },
    {
      "cell_type": "markdown",
      "metadata": {
        "id": "03ujmXTNOVTh",
        "colab_type": "text"
      },
      "source": [
        "Now, we will define our model. It inherits from Pytorch nn.Module. \n",
        "\n",
        "The model first projects the three words in our data (prev, current, next) to vector space, using the special `Embedding` class. Embeddings are concatenated, and passed through an affine (linear) layer, with a ReLU non-linearity. The output goes to softmax."
      ]
    },
    {
      "cell_type": "code",
      "metadata": {
        "id": "vj9x4V-3jrv-",
        "colab_type": "code",
        "colab": {}
      },
      "source": [
        "import torch.nn as nn\n",
        "import torch.nn.functional as F\n",
        "\n",
        "class NERNN(nn.Module):\n",
        "\n",
        "    def __init__(self, vocab_size, embedding_dim, hidden_dim, output_size):\n",
        "        super(NERNN, self).__init__()\n",
        "        self.embeddings = nn.Embedding(vocab_size, embedding_dim, padding_idx=0)\n",
        "        self.fc1 = nn.Linear(embedding_dim * 3, hidden_dim)\n",
        "        self.fc2 = nn.Linear(hidden_dim, output_size)\n",
        "\n",
        "    def forward(self, x):\n",
        "        x = self.embeddings(x).view(-1, (embedding_dim * 3))\n",
        "        x = F.relu(self.fc1(x))\n",
        "        x = self.fc2(x)\n",
        "        x = F.log_softmax(x, dim=1)\n",
        "        return x"
      ],
      "execution_count": 0,
      "outputs": []
    },
    {
      "cell_type": "markdown",
      "metadata": {
        "id": "Ig5HydhFPETY",
        "colab_type": "text"
      },
      "source": [
        "Next, we will implement our training loop. It loops through minibatches. For each minibatch, it computes the outputs of the model with regard of the inputs, calculates the loss w.r.t to the real targets, computes gradients via backpropagation, and updates the model."
      ]
    },
    {
      "cell_type": "code",
      "metadata": {
        "id": "U3d_qE8kk0IQ",
        "colab_type": "code",
        "colab": {}
      },
      "source": [
        "def train(model, dataloader, num_epochs):\n",
        "    cuda = torch.cuda.is_available()\n",
        "    \n",
        "    if cuda:\n",
        "        model.cuda()\n",
        "    optimizer = torch.optim.Adam(model.parameters())\n",
        "    loss_function = nn.NLLLoss()\n",
        "    loss_history = []\n",
        "    for i in range(num_epochs):\n",
        "        for batch in dataloader:\n",
        "            model.zero_grad()\n",
        "            X = batch['X']\n",
        "            \n",
        "            y = batch['y']\n",
        "            if cuda:\n",
        "                X = X.cuda()\n",
        "                y = y.cuda()\n",
        "            outputs = model(X)\n",
        "            loss = loss_function(outputs, y)\n",
        "            loss.backward()\n",
        "            optimizer.step()\n",
        "            \n",
        "        loss_history.append(loss.item())\n",
        "        print('epoch[%d] log loss: %.4f' % (i, loss.item()))\n",
        "    return loss_history"
      ],
      "execution_count": 0,
      "outputs": []
    },
    {
      "cell_type": "markdown",
      "metadata": {
        "id": "l8T7ZyFqPbdF",
        "colab_type": "text"
      },
      "source": [
        "Now, we can create our model, with some (randomly selected) hyperparameters."
      ]
    },
    {
      "cell_type": "code",
      "metadata": {
        "id": "BNLHCFbak34m",
        "colab_type": "code",
        "colab": {}
      },
      "source": [
        "vocab_size = len(vocabulary)\n",
        "embedding_dim = 50 # dimensionality of word embeddings\n",
        "hidden_dim = 100   # dim of hidden layer\n",
        "output_size = len(label_vocabulary) # number of classes\n",
        "\n",
        "\n",
        "model = NERNN(vocab_size, embedding_dim, hidden_dim, output_size)"
      ],
      "execution_count": 0,
      "outputs": []
    },
    {
      "cell_type": "markdown",
      "metadata": {
        "id": "ZD9F_kfAPkI7",
        "colab_type": "text"
      },
      "source": [
        "When training, we have to wrap our data using DataLoader, which shuffles our data and splits it into minibatches."
      ]
    },
    {
      "cell_type": "code",
      "metadata": {
        "id": "t98o_lDwlW_F",
        "colab_type": "code",
        "outputId": "f78e47c7-f889-423a-ba0c-8513e18ae9a8",
        "colab": {
          "base_uri": "https://localhost:8080/",
          "height": 107
        }
      },
      "source": [
        "train_dataloader = DataLoader(train_dataset, batch_size=64, shuffle=True)\n",
        "loss_history = train(model, train_dataloader, 5)"
      ],
      "execution_count": 0,
      "outputs": [
        {
          "output_type": "stream",
          "text": [
            "epoch[0] log loss: 0.1536\n",
            "epoch[1] log loss: 0.1693\n",
            "epoch[2] log loss: 0.1035\n",
            "epoch[3] log loss: 0.0043\n",
            "epoch[4] log loss: 0.0047\n"
          ],
          "name": "stdout"
        }
      ]
    },
    {
      "cell_type": "markdown",
      "metadata": {
        "id": "_7L1DSA4P3B0",
        "colab_type": "text"
      },
      "source": [
        "Alright, the model is trained!\n",
        "\n",
        "Let's plot our training loss values thoughout the training."
      ]
    },
    {
      "cell_type": "code",
      "metadata": {
        "id": "4ctdV7xqGsIe",
        "colab_type": "code",
        "colab": {}
      },
      "source": [
        "%matplotlib inline\n",
        "import matplotlib.pyplot as plt\n",
        "import seaborn as sns"
      ],
      "execution_count": 0,
      "outputs": []
    },
    {
      "cell_type": "code",
      "metadata": {
        "id": "iadU8jyVHkSF",
        "colab_type": "code",
        "outputId": "66a71910-c5e1-47e0-e36b-481ba08212fb",
        "colab": {
          "base_uri": "https://localhost:8080/",
          "height": 284
        }
      },
      "source": [
        "plt.plot(loss_history)"
      ],
      "execution_count": 0,
      "outputs": [
        {
          "output_type": "execute_result",
          "data": {
            "text/plain": [
              "[<matplotlib.lines.Line2D at 0x7fef5f06f048>]"
            ]
          },
          "metadata": {
            "tags": []
          },
          "execution_count": 26
        },
        {
          "output_type": "display_data",
          "data": {
            "image/png": "[encoded data removed]",
            "text/plain": [
              "<Figure size 432x288 with 1 Axes>"
            ]
          },
          "metadata": {
            "tags": []
          }
        }
      ]
    },
    {
      "cell_type": "markdown",
      "metadata": {
        "id": "wByavv1fQDJ2",
        "colab_type": "text"
      },
      "source": [
        "The following part applies the model to dev data and calculates the accuracy."
      ]
    },
    {
      "cell_type": "code",
      "metadata": {
        "id": "7OlnxCQ1Hp_w",
        "colab_type": "code",
        "colab": {}
      },
      "source": [
        "dev_dataset = NERDataset(dev_data)\n",
        "dev_dataloader = DataLoader(dev_dataset, batch_size=32, shuffle=False)"
      ],
      "execution_count": 0,
      "outputs": []
    },
    {
      "cell_type": "code",
      "metadata": {
        "id": "XViuHxz1LIgO",
        "colab_type": "code",
        "colab": {}
      },
      "source": [
        "def predict(model, dataloader):\n",
        "    cuda = torch.cuda.is_available()\n",
        "    ground_truth = []\n",
        "    predictions = []\n",
        "    for batch in dataloader:\n",
        "        X = batch['X']\n",
        "        y = batch['y']\n",
        "        if cuda:\n",
        "            X = X.cuda()\n",
        "            y = y.cuda()\n",
        "        outputs = model(X)\n",
        "        _, y_preds = torch.max(outputs, dim=1)\n",
        "        ground_truth.append(y.data.cpu().numpy())\n",
        "        predictions.append(y_preds.data.cpu().squeeze().numpy())\n",
        "    return np.concatenate(ground_truth), np.concatenate(predictions)"
      ],
      "execution_count": 0,
      "outputs": []
    },
    {
      "cell_type": "code",
      "metadata": {
        "id": "TW-ssm6wLWgi",
        "colab_type": "code",
        "colab": {}
      },
      "source": [
        "ground_truth, predictions = predict(model, dev_dataloader)"
      ],
      "execution_count": 0,
      "outputs": []
    },
    {
      "cell_type": "code",
      "metadata": {
        "id": "PGOGRngwLn7R",
        "colab_type": "code",
        "colab": {}
      },
      "source": [
        "from sklearn.metrics import confusion_matrix, accuracy_score"
      ],
      "execution_count": 0,
      "outputs": []
    },
    {
      "cell_type": "code",
      "metadata": {
        "id": "UdQIOJpHL5KS",
        "colab_type": "code",
        "outputId": "741ade4a-7eba-493f-feb5-6867a50eb14a",
        "colab": {
          "base_uri": "https://localhost:8080/",
          "height": 35
        }
      },
      "source": [
        "print(accuracy_score(ground_truth, predictions))"
      ],
      "execution_count": 0,
      "outputs": [
        {
          "output_type": "stream",
          "text": [
            "0.9557951064407305\n"
          ],
          "name": "stdout"
        }
      ]
    },
    {
      "cell_type": "code",
      "metadata": {
        "id": "m4qDH2dBL8DB",
        "colab_type": "code",
        "outputId": "b5163ac3-3da7-444e-d904-79192134e39c",
        "colab": {
          "base_uri": "https://localhost:8080/",
          "height": 283
        }
      },
      "source": [
        "sns.heatmap(confusion_matrix(ground_truth, predictions))"
      ],
      "execution_count": 0,
      "outputs": [
        {
          "output_type": "execute_result",
          "data": {
            "text/plain": [
              "<matplotlib.axes._subplots.AxesSubplot at 0x7fef5a700240>"
            ]
          },
          "metadata": {
            "tags": []
          },
          "execution_count": 34
        },
        {
          "output_type": "display_data",
          "data": {
            "image/png": "[encoded data removed]",
            "text/plain": [
              "<Figure size 432x288 with 2 Axes>"
            ]
          },
          "metadata": {
            "tags": []
          }
        }
      ]
    },
    {
      "cell_type": "markdown",
      "metadata": {
        "id": "fWMIhQoeouLy",
        "colab_type": "text"
      },
      "source": [
        "# Using pretrained embeddings\n",
        "Next, we try to use pretrained word embeddings, instead of training them from scratch.\n",
        "\n",
        "We will use the gensim package for reading the pretrained Engish embeddings."
      ]
    },
    {
      "cell_type": "code",
      "metadata": {
        "id": "0CYxnKCXo4hT",
        "colab_type": "code",
        "outputId": "bada9ae6-f9e6-43a7-aaaa-7373c2d57c50",
        "colab": {
          "base_uri": "https://localhost:8080/",
          "height": 341
        }
      },
      "source": [
        "!pip install gensim\n",
        "from gensim.models import KeyedVectors"
      ],
      "execution_count": 0,
      "outputs": [
        {
          "output_type": "stream",
          "text": [
            "Requirement already satisfied: gensim in /usr/local/lib/python3.6/dist-packages (3.6.0)\n",
            "Requirement already satisfied: six>=1.5.0 in /usr/local/lib/python3.6/dist-packages (from gensim) (1.11.0)\n",
            "Requirement already satisfied: numpy>=1.11.3 in /usr/local/lib/python3.6/dist-packages (from gensim) (1.14.6)\n",
            "Requirement already satisfied: scipy>=0.18.1 in /usr/local/lib/python3.6/dist-packages (from gensim) (1.1.0)\n",
            "Requirement already satisfied: smart-open>=1.2.1 in /usr/local/lib/python3.6/dist-packages (from gensim) (1.8.0)\n",
            "Requirement already satisfied: boto>=2.32 in /usr/local/lib/python3.6/dist-packages (from smart-open>=1.2.1->gensim) (2.49.0)\n",
            "Requirement already satisfied: bz2file in /usr/local/lib/python3.6/dist-packages (from smart-open>=1.2.1->gensim) (0.98)\n",
            "Requirement already satisfied: requests in /usr/local/lib/python3.6/dist-packages (from smart-open>=1.2.1->gensim) (2.18.4)\n",
            "Requirement already satisfied: boto3 in /usr/local/lib/python3.6/dist-packages (from smart-open>=1.2.1->gensim) (1.9.113)\n",
            "Requirement already satisfied: urllib3<1.23,>=1.21.1 in /usr/local/lib/python3.6/dist-packages (from requests->smart-open>=1.2.1->gensim) (1.22)\n",
            "Requirement already satisfied: chardet<3.1.0,>=3.0.2 in /usr/local/lib/python3.6/dist-packages (from requests->smart-open>=1.2.1->gensim) (3.0.4)\n",
            "Requirement already satisfied: certifi>=2017.4.17 in /usr/local/lib/python3.6/dist-packages (from requests->smart-open>=1.2.1->gensim) (2019.3.9)\n",
            "Requirement already satisfied: idna<2.7,>=2.5 in /usr/local/lib/python3.6/dist-packages (from requests->smart-open>=1.2.1->gensim) (2.6)\n",
            "Requirement already satisfied: botocore<1.13.0,>=1.12.113 in /usr/local/lib/python3.6/dist-packages (from boto3->smart-open>=1.2.1->gensim) (1.12.113)\n",
            "Requirement already satisfied: s3transfer<0.3.0,>=0.2.0 in /usr/local/lib/python3.6/dist-packages (from boto3->smart-open>=1.2.1->gensim) (0.2.0)\n",
            "Requirement already satisfied: jmespath<1.0.0,>=0.7.1 in /usr/local/lib/python3.6/dist-packages (from boto3->smart-open>=1.2.1->gensim) (0.9.4)\n",
            "Requirement already satisfied: docutils>=0.10 in /usr/local/lib/python3.6/dist-packages (from botocore<1.13.0,>=1.12.113->boto3->smart-open>=1.2.1->gensim) (0.14)\n",
            "Requirement already satisfied: python-dateutil<3.0.0,>=2.1; python_version >= \"2.7\" in /usr/local/lib/python3.6/dist-packages (from botocore<1.13.0,>=1.12.113->boto3->smart-open>=1.2.1->gensim) (2.5.3)\n"
          ],
          "name": "stdout"
        }
      ]
    },
    {
      "cell_type": "code",
      "metadata": {
        "id": "9vPRJDJxpM48",
        "colab_type": "code",
        "outputId": "51b0b3c0-6bdb-40cf-8f63-6bbd75c5f3db",
        "colab": {
          "base_uri": "https://localhost:8080/",
          "height": 251
        }
      },
      "source": [
        "!wget --no-check-certificate https://phon.ioc.ee/~tanela/tmp/glove.6B.50d.w2vformat.txt.gz\n",
        "!gunzip glove.6B.50d.w2vformat.txt.gz\n",
        "wv_en =  KeyedVectors.load_word2vec_format(\"glove.6B.50d.w2vformat.txt\", binary=False)"
      ],
      "execution_count": 0,
      "outputs": [
        {
          "output_type": "stream",
          "text": [
            "--2019-03-19 11:11:43--  https://phon.ioc.ee/~tanela/tmp/glove.6B.50d.w2vformat.txt.gz\n",
            "Resolving phon.ioc.ee (phon.ioc.ee)... 193.40.251.126\n",
            "Connecting to phon.ioc.ee (phon.ioc.ee)|193.40.251.126|:443... connected.\n",
            "WARNING: cannot verify phon.ioc.ee's certificate, issued by ‘CN=TERENA SSL CA 3,O=TERENA,L=Amsterdam,ST=Noord-Holland,C=NL’:\n",
            "  Issued certificate has expired.\n",
            "HTTP request sent, awaiting response... 200 OK\n",
            "Length: 69182535 (66M) [application/x-gzip]\n",
            "Saving to: ‘glove.6B.50d.w2vformat.txt.gz’\n",
            "\n",
            "glove.6B.50d.w2vfor 100%[===================>]  65.98M  7.50MB/s    in 29s     \n",
            "\n",
            "2019-03-19 11:12:14 (2.27 MB/s) - ‘glove.6B.50d.w2vformat.txt.gz’ saved [69182535/69182535]\n",
            "\n"
          ],
          "name": "stdout"
        }
      ]
    },
    {
      "cell_type": "code",
      "metadata": {
        "id": "b5RcKGiWpTY-",
        "colab_type": "code",
        "colab": {}
      },
      "source": [
        ""
      ],
      "execution_count": 0,
      "outputs": []
    },
    {
      "cell_type": "markdown",
      "metadata": {
        "id": "U0rTY1DBpfdG",
        "colab_type": "text"
      },
      "source": [
        "The wv_en variable is now a gensim object that holds pretrained embeddings:"
      ]
    },
    {
      "cell_type": "code",
      "metadata": {
        "id": "FKHLuY4MpmkG",
        "colab_type": "code",
        "outputId": "2ccc8adf-976d-4355-ed2b-9856f9a6f56b",
        "colab": {
          "base_uri": "https://localhost:8080/",
          "height": 233
        }
      },
      "source": [
        "wv_en.most_similar(\"horse\")"
      ],
      "execution_count": 0,
      "outputs": [
        {
          "output_type": "stream",
          "text": [
            "/usr/local/lib/python3.6/dist-packages/gensim/matutils.py:737: FutureWarning: Conversion of the second argument of issubdtype from `int` to `np.signedinteger` is deprecated. In future, it will be treated as `np.int64 == np.dtype(int).type`.\n",
            "  if np.issubdtype(vec.dtype, np.int):\n"
          ],
          "name": "stderr"
        },
        {
          "output_type": "execute_result",
          "data": {
            "text/plain": [
              "[('horses', 0.8595937490463257),\n",
              " ('dog', 0.7907582521438599),\n",
              " ('riding', 0.7717962861061096),\n",
              " ('bull', 0.7642240524291992),\n",
              " ('breeders', 0.7027289867401123),\n",
              " ('cat', 0.7017536759376526),\n",
              " ('derby', 0.6957983374595642),\n",
              " ('ride', 0.6939681172370911),\n",
              " ('camel', 0.6921409964561462),\n",
              " ('bike', 0.6891596913337708)]"
            ]
          },
          "metadata": {
            "tags": []
          },
          "execution_count": 38
        }
      ]
    },
    {
      "cell_type": "markdown",
      "metadata": {
        "id": "62Ki3p1CpxxV",
        "colab_type": "text"
      },
      "source": [
        "We will now have to pre-fill the embeddings matrix with the pre-trained  embeddings. For this we have to map the word IDs to correct positions.\n",
        "\n",
        "Special care has to be taken for unknown words (words in our data but not in the pretrained vocabulary) and the special tokens that we use in our model. \n",
        "\n",
        "We let the embeddings of unknown words to be all-zero, and the embeddings of `<s>` and `</s>` we'll fill with -1 and 1, respectively. This is a rather heuristic decision."
      ]
    },
    {
      "cell_type": "code",
      "metadata": {
        "id": "7U7aB6C4qQmV",
        "colab_type": "code",
        "colab": {}
      },
      "source": [
        "pretrained_embeddings = torch.FloatTensor(len(vocabulary), wv_en.vector_size)\n",
        "for word in vocabulary:\n",
        "  if word.lower() in wv_en:\n",
        "    pretrained_embeddings[vocabulary[word]] = torch.from_numpy(wv_en[word.lower()])\n",
        "\n",
        "pretrained_embeddings[vocabulary[\"<s>\"]] = -1\n",
        "pretrained_embeddings[vocabulary[\"</s>\"]] = 1"
      ],
      "execution_count": 0,
      "outputs": []
    },
    {
      "cell_type": "markdown",
      "metadata": {
        "id": "wQ3oWJJyuATJ",
        "colab_type": "text"
      },
      "source": [
        "Now we will define our model that uses pretrained embeddings. Note how the pretrained embeddings are now given in the consstructor, and they are used to initialize the weights of the embeddings.\n",
        "\n",
        "We also add another parameter, `train_embeddings`, that says whether we want the embeddings to be updated during training or not."
      ]
    },
    {
      "cell_type": "code",
      "metadata": {
        "id": "loT53V6pqgFB",
        "colab_type": "code",
        "colab": {}
      },
      "source": [
        "import torch.nn as nn\n",
        "import torch.nn.functional as F\n",
        "\n",
        "class NERNN_pretrained_embeddings(nn.Module):\n",
        "\n",
        "    def __init__(self, vocab_size, hidden_dim, output_size, pretrained_embeddings, train_embeddings=True):\n",
        "        super(NERNN_pretrained_embeddings, self).__init__()\n",
        "        self.embeddings = nn.Embedding(vocab_size, pretrained_embeddings.shape[1], padding_idx=0)\n",
        "        self.embeddings.weight = nn.Parameter(pretrained_embeddings)\n",
        "        self.embeddings.weight.requires_grad = train_embeddings\n",
        "        \n",
        "        self.fc1 = nn.Linear(embedding_dim * 3, hidden_dim)\n",
        "        self.fc2 = nn.Linear(hidden_dim, output_size)\n",
        "\n",
        "    def forward(self, x):\n",
        "        x = self.embeddings(x).view(-1, (embedding_dim * 3))\n",
        "        x = F.relu(self.fc1(x))\n",
        "        x = self.fc2(x)\n",
        "        x = F.log_softmax(x, dim=1)\n",
        "        return x"
      ],
      "execution_count": 0,
      "outputs": []
    },
    {
      "cell_type": "markdown",
      "metadata": {
        "id": "PwupfP9Tr2He",
        "colab_type": "text"
      },
      "source": [
        "We also have to redefine the train function, so that the optimizer won't try to update the embeddings if we don't want it. Note the lambda in the Adam constructor: it tells the optimizer not to optimize the parameters that have the `requires_grad` attribute set to `False`."
      ]
    },
    {
      "cell_type": "code",
      "metadata": {
        "id": "yJtDA4WesPgp",
        "colab_type": "code",
        "colab": {}
      },
      "source": [
        "def train(model, dataloader, num_epochs):\n",
        "    cuda = torch.cuda.is_available()\n",
        "    \n",
        "    if cuda:\n",
        "        model.cuda()\n",
        "    optimizer = torch.optim.Adam(filter(lambda p: p.requires_grad, model.parameters()))\n",
        "    loss_function = nn.NLLLoss()\n",
        "    loss_history = []\n",
        "    for i in range(num_epochs):\n",
        "        for batch in dataloader:\n",
        "            model.zero_grad()\n",
        "            X = batch['X']\n",
        "            \n",
        "            y = batch['y']\n",
        "            if cuda:\n",
        "                X = X.cuda()\n",
        "                y = y.cuda()\n",
        "            outputs = model(X)\n",
        "            loss = loss_function(outputs, y)\n",
        "            loss.backward()\n",
        "            optimizer.step()\n",
        "            \n",
        "        loss_history.append(loss.data.item())\n",
        "        print('epoch[%d] log loss: %.4f' % (i, loss.data.item()))\n",
        "    return loss_history"
      ],
      "execution_count": 0,
      "outputs": []
    },
    {
      "cell_type": "code",
      "metadata": {
        "id": "bJVgJSZOsYdC",
        "colab_type": "code",
        "colab": {}
      },
      "source": [
        "model2 = NERNN_pretrained_embeddings(vocab_size, hidden_dim, output_size, pretrained_embeddings, train_embeddings=False)"
      ],
      "execution_count": 0,
      "outputs": []
    },
    {
      "cell_type": "code",
      "metadata": {
        "id": "LZcPIb40smTj",
        "colab_type": "code",
        "outputId": "57fb1fdc-f47e-43cb-ca16-3c22d3928b31",
        "colab": {
          "base_uri": "https://localhost:8080/",
          "height": 107
        }
      },
      "source": [
        "train_dataloader = DataLoader(train_dataset, batch_size=64, shuffle=True)\n",
        "loss_history = train(model2, train_dataloader, 5)"
      ],
      "execution_count": 0,
      "outputs": [
        {
          "output_type": "stream",
          "text": [
            "epoch[0] log loss: 0.0482\n",
            "epoch[1] log loss: 0.0157\n",
            "epoch[2] log loss: 0.0113\n",
            "epoch[3] log loss: 0.0186\n",
            "epoch[4] log loss: 0.0454\n"
          ],
          "name": "stdout"
        }
      ]
    },
    {
      "cell_type": "code",
      "metadata": {
        "id": "mD8r9RFystiB",
        "colab_type": "code",
        "outputId": "19799dce-77f2-4f73-ec54-f2070e93353a",
        "colab": {
          "base_uri": "https://localhost:8080/",
          "height": 35
        }
      },
      "source": [
        "ground_truth, predictions = predict(model2, dev_dataloader)\n",
        "print(accuracy_score(ground_truth, predictions))"
      ],
      "execution_count": 0,
      "outputs": [
        {
          "output_type": "stream",
          "text": [
            "0.945480631276901\n"
          ],
          "name": "stdout"
        }
      ]
    },
    {
      "cell_type": "markdown",
      "metadata": {
        "id": "BG5JBQFxs8H1",
        "colab_type": "text"
      },
      "source": [
        "OK, so using the pretrained embeddings didn't really help, but look at how the value of the loss function was quite low already after the 1st epoch.\n",
        "\n",
        "Let's now train a third model, but now we'll use pretrained embeddings, but we allow the embeddings to be updated during training. Thereby, we hope that the embeddings are adapted to our task."
      ]
    },
    {
      "cell_type": "code",
      "metadata": {
        "id": "gjGup2ODtYZX",
        "colab_type": "code",
        "colab": {}
      },
      "source": [
        "model3 = NERNN_pretrained_embeddings(vocab_size, hidden_dim, output_size, pretrained_embeddings, train_embeddings=True)"
      ],
      "execution_count": 0,
      "outputs": []
    },
    {
      "cell_type": "code",
      "metadata": {
        "id": "32LrTJDOtbGl",
        "colab_type": "code",
        "outputId": "a25ea888-a3b6-4257-b29e-2429ac64200d",
        "colab": {
          "base_uri": "https://localhost:8080/",
          "height": 107
        }
      },
      "source": [
        "train_dataloader = DataLoader(train_dataset, batch_size=64, shuffle=True)\n",
        "loss_history = train(model3, train_dataloader, 5)"
      ],
      "execution_count": 0,
      "outputs": [
        {
          "output_type": "stream",
          "text": [
            "epoch[0] log loss: 0.0022\n",
            "epoch[1] log loss: 0.0328\n",
            "epoch[2] log loss: 0.0916\n",
            "epoch[3] log loss: 0.0101\n",
            "epoch[4] log loss: 0.1650\n"
          ],
          "name": "stdout"
        }
      ]
    },
    {
      "cell_type": "code",
      "metadata": {
        "id": "rCNBNpy3te4-",
        "colab_type": "code",
        "outputId": "13572764-86df-4904-d665-006fc8ed1068",
        "colab": {
          "base_uri": "https://localhost:8080/",
          "height": 35
        }
      },
      "source": [
        "ground_truth, predictions = predict(model3, dev_dataloader)\n",
        "print(accuracy_score(ground_truth, predictions))"
      ],
      "execution_count": 0,
      "outputs": [
        {
          "output_type": "stream",
          "text": [
            "0.9651013998216293\n"
          ],
          "name": "stdout"
        }
      ]
    },
    {
      "cell_type": "markdown",
      "metadata": {
        "id": "mX0zXY6htpgh",
        "colab_type": "text"
      },
      "source": [
        "Alright, adapting the pretrained embeddings gave us better accuracy! I don't really know why the value of the loss function fluctuates so much during training."
      ]
    }
  ]
}